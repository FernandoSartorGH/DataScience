{
 "cells": [
  {
   "cell_type": "markdown",
   "metadata": {},
   "source": [
    "# "
   ]
  },
  {
   "cell_type": "markdown",
   "metadata": {
    "id": "JeWEWfI3zDrW"
   },
   "source": [
    "# **CANCER BREAST CLASSIFIER WITH MACHINE LEARNING AND DEEP  LEARNING**"
   ]
  },
  {
   "cell_type": "markdown",
   "metadata": {
    "id": "7X6ALoW5Nngt"
   },
   "source": [
    "## Imports"
   ]
  },
  {
   "cell_type": "code",
   "execution_count": 1,
   "metadata": {
    "id": "QzmZU_ftNn9g"
   },
   "outputs": [],
   "source": [
    "import numpy as np\n",
    "import pandas as pd\n",
    "\n",
    "from sklearn.pipeline import Pipeline\n",
    "from imblearn.over_sampling import SMOTE\n",
    "from sklearn.impute import SimpleImputer\n",
    "from sklearn.compose import ColumnTransformer\n",
    "from sklearn.preprocessing import FunctionTransformer, StandardScaler, MinMaxScaler, OrdinalEncoder, OneHotEncoder\n",
    "\n",
    "from sklearn.ensemble import RandomForestClassifier\n",
    "from sklearn.model_selection import train_test_split\n",
    "from sklearn.metrics import accuracy_score, confusion_matrix"
   ]
  },
  {
   "cell_type": "markdown",
   "metadata": {
    "id": "t6mxV0Sr6MEz"
   },
   "source": [
    "## Load data and separate training and testing data"
   ]
  },
  {
   "cell_type": "code",
   "execution_count": 2,
   "metadata": {
    "id": "efJEQUMdyM6f"
   },
   "outputs": [],
   "source": [
    "# Load the dataset\n",
    "from sklearn.datasets import load_breast_cancer\n",
    "df = load_breast_cancer()\n",
    "X, y = df.data, df.target\n",
    "\n",
    "# Get target names\n",
    "target_names = df.target_names\n",
    "\n",
    "# Split the dataset into training and testing sets\n",
    "X_train, X_test, y_train, y_test = train_test_split(X, y, test_size=0.2, random_state=42)"
   ]
  },
  {
   "cell_type": "code",
   "execution_count": 7,
   "metadata": {
    "colab": {
     "base_uri": "https://localhost:8080/",
     "height": 522
    },
    "id": "0or4PjPjyczy",
    "outputId": "f93a0727-c441-4617-9c87-157dd3ab009c"
   },
   "outputs": [
    {
     "data": {
      "text/plain": [
       "array([0, 1])"
      ]
     },
     "execution_count": 7,
     "metadata": {},
     "output_type": "execute_result"
    }
   ],
   "source": [
    "# View data\n",
    "df_pd = pd.concat([pd.DataFrame(df.data, columns = df.feature_names),\n",
    "                   pd.DataFrame(df.target, columns = ['target'])\n",
    "], axis = 1)\n",
    "\n",
    "df_pd.target.unique()"
   ]
  },
  {
   "cell_type": "code",
   "execution_count": null,
   "metadata": {
    "id": "CIk5fWfYObrj"
   },
   "outputs": [],
   "source": [
    "# Scale the features\n",
    "std_scaler = StandardScaler()\n",
    "X_train_std = std_scaler.fit_transform(X_train)\n",
    "X_test_std = std_scaler.transform(X_test)\n",
    "\n",
    "minmax_scaler = MinMaxScaler()\n",
    "X_train_minmax = minmax_scaler.fit_transform(X_train)\n",
    "X_test_minmax = minmax_scaler.transform(X_test)"
   ]
  },
  {
   "cell_type": "markdown",
   "metadata": {
    "id": "WHrrfx1W6aBN"
   },
   "source": [
    "# **Models**"
   ]
  },
  {
   "cell_type": "markdown",
   "metadata": {
    "id": "-G6ij4-J4duz"
   },
   "source": [
    "# SkitLearn"
   ]
  },
  {
   "cell_type": "code",
   "execution_count": null,
   "metadata": {
    "colab": {
     "base_uri": "https://localhost:8080/"
    },
    "id": "BY_-KP72KjWD",
    "outputId": "a9ede5b9-829f-41d2-d900-49d24b612b03"
   },
   "outputs": [
    {
     "name": "stdout",
     "output_type": "stream",
     "text": [
      "Accuracy: 96.491%\n",
      "\n",
      "Confusion Matrix\n",
      " [[41  2]\n",
      " [ 2 69]]\n",
      "\n",
      "Report\n",
      "               precision    recall  f1-score   support\n",
      "\n",
      "           0       0.95      0.95      0.95        43\n",
      "           1       0.97      0.97      0.97        71\n",
      "\n",
      "    accuracy                           0.96       114\n",
      "   macro avg       0.96      0.96      0.96       114\n",
      "weighted avg       0.96      0.96      0.96       114\n",
      "\n"
     ]
    }
   ],
   "source": [
    "# Import \n",
    "from sklearn.neighbors import KNeighborsClassifier\n",
    "from sklearn.metrics import classification_report\n",
    "from sklearn.metrics import confusion_matrix\n",
    "\n",
    "# Define model\n",
    "ml_model = KNeighborsClassifier()\n",
    "\n",
    "# Fit Model\n",
    "ml_model.fit(X_train_minmax, y_train)\n",
    "\n",
    "# Making predictions\n",
    "predictions = ml_model.predict(X_test_minmax)\n",
    "\n",
    "# Evaluate\n",
    "result = ml_model.score(X_test_minmax, y_test)\n",
    "matrix = confusion_matrix(y_test, predictions)\n",
    "report = classification_report(y_test, predictions)\n",
    "\n",
    "# Score do modelo nos dados de teste\n",
    "print(\"Accuracy: %.3f%%\" % (result * 100.0))\n",
    "print(\"\\nConfusion Matrix\\n\",matrix)\n",
    "print(\"\\nReport\\n\", report)"
   ]
  },
  {
   "cell_type": "code",
   "execution_count": null,
   "metadata": {
    "colab": {
     "base_uri": "https://localhost:8080/"
    },
    "id": "MmRaJrXT4a5W",
    "outputId": "defd5c81-0db1-407b-e308-57796f40add7"
   },
   "outputs": [
    {
     "name": "stdout",
     "output_type": "stream",
     "text": [
      "Accuracy: 97.368%\n",
      "\n",
      "Confusion Matrix\n",
      " [[41  2]\n",
      " [ 1 70]]\n",
      "\n",
      "Report\n",
      "               precision    recall  f1-score   support\n",
      "\n",
      "           0       0.98      0.95      0.96        43\n",
      "           1       0.97      0.99      0.98        71\n",
      "\n",
      "    accuracy                           0.97       114\n",
      "   macro avg       0.97      0.97      0.97       114\n",
      "weighted avg       0.97      0.97      0.97       114\n",
      "\n"
     ]
    }
   ],
   "source": [
    "# Import \n",
    "from sklearn.linear_model import LogisticRegression\n",
    "from sklearn.metrics import classification_report\n",
    "from sklearn.metrics import confusion_matrix\n",
    "\n",
    "# Define model\n",
    "ml_model = LogisticRegression()\n",
    "\n",
    "# Fit Model\n",
    "ml_model.fit(X_train_std, y_train)\n",
    "\n",
    "# Making predictions\n",
    "predictions = ml_model.predict(X_test_std)\n",
    "\n",
    "# Evaluate\n",
    "result = ml_model.score(X_test_std, y_test)\n",
    "matrix = confusion_matrix(y_test, predictions)\n",
    "report = classification_report(y_test, predictions)\n",
    "\n",
    "# Score do modelo nos dados de teste\n",
    "print(\"Accuracy: %.3f%%\" % (result * 100.0))\n",
    "print(\"\\nConfusion Matrix\\n\",matrix)\n",
    "print(\"\\nReport\\n\", report)"
   ]
  },
  {
   "cell_type": "code",
   "execution_count": null,
   "metadata": {
    "colab": {
     "base_uri": "https://localhost:8080/"
    },
    "id": "YUrOKBLjL_HK",
    "outputId": "72a56cc8-4183-4e34-ccc2-ecb84cca93c3"
   },
   "outputs": [
    {
     "name": "stdout",
     "output_type": "stream",
     "text": [
      "Accuracy: 96.491%\n",
      "\n",
      "Confusion Matrix\n",
      " [[40  3]\n",
      " [ 1 70]]\n",
      "\n",
      "Report\n",
      "               precision    recall  f1-score   support\n",
      "\n",
      "           0       0.98      0.93      0.95        43\n",
      "           1       0.96      0.99      0.97        71\n",
      "\n",
      "    accuracy                           0.96       114\n",
      "   macro avg       0.97      0.96      0.96       114\n",
      "weighted avg       0.97      0.96      0.96       114\n",
      "\n"
     ]
    }
   ],
   "source": [
    "# Import \n",
    "from sklearn.ensemble import RandomForestClassifier\n",
    "from sklearn.metrics import classification_report\n",
    "from sklearn.metrics import confusion_matrix\n",
    "\n",
    "# Define model\n",
    "ml_model = RandomForestClassifier()\n",
    "\n",
    "# Fit Model\n",
    "ml_model.fit(X_train, y_train)\n",
    "\n",
    "# Making predictions\n",
    "predictions = ml_model.predict(X_test)\n",
    "\n",
    "# Evaluate\n",
    "result = ml_model.score(X_test, y_test)\n",
    "matrix = confusion_matrix(y_test, predictions)\n",
    "report = classification_report(y_test, predictions)\n",
    "\n",
    "# Score do modelo nos dados de teste\n",
    "print(\"Accuracy: %.3f%%\" % (result * 100.0))\n",
    "print(\"\\nConfusion Matrix\\n\",matrix)\n",
    "print(\"\\nReport\\n\", report)"
   ]
  },
  {
   "cell_type": "code",
   "execution_count": null,
   "metadata": {
    "colab": {
     "base_uri": "https://localhost:8080/"
    },
    "id": "ALnXNaKlhOfa",
    "outputId": "8457aff1-bac6-4624-bf36-b2065ae38a27"
   },
   "outputs": [
    {
     "name": "stdout",
     "output_type": "stream",
     "text": [
      "[1]\n",
      "['benign']\n"
     ]
    }
   ],
   "source": [
    "# Make predictions on new data\n",
    "\n",
    "# X new\n",
    "X_new = [[0,0,0,0,0,0,0,0,0,0,0,0,0,0,0,0,0,0,0,0,0,0,0,0,0,0,0,0,0,0]]\n",
    "\n",
    "# Scale the features\n",
    "X_new = minmax_scaler.transform(X_new)\n",
    "\n",
    "# Making predictions\n",
    "predictions = ml_model.predict(X_new)\n",
    "print(predictions.round(2))\n",
    "print(target_names[predictions])"
   ]
  },
  {
   "cell_type": "markdown",
   "metadata": {
    "id": "TLcTwD9v4npp"
   },
   "source": [
    "# PyTorch"
   ]
  },
  {
   "cell_type": "markdown",
   "metadata": {
    "id": "lx2Ey28rlG9u"
   },
   "source": [
    "## Pytorch with sequential api"
   ]
  },
  {
   "cell_type": "code",
   "execution_count": null,
   "metadata": {
    "id": "vDEc3J3d4qBK"
   },
   "outputs": [],
   "source": [
    "import torch\n",
    "from torch import nn\n",
    "import torch.optim as optim"
   ]
  },
  {
   "cell_type": "code",
   "execution_count": null,
   "metadata": {
    "id": "Y9JCYUEq6jVE"
   },
   "outputs": [],
   "source": [
    "# Convert the data into tensors\n",
    "X_train = torch.tensor(X_train, dtype=torch.float32)\n",
    "X_test = torch.tensor(X_test, dtype=torch.float32)\n",
    "y_train = torch.tensor(y_train, dtype=torch.long)\n",
    "y_test = torch.tensor(y_test, dtype=torch.long)"
   ]
  },
  {
   "cell_type": "code",
   "execution_count": null,
   "metadata": {
    "id": "EB8-nJJ-6jcJ"
   },
   "outputs": [],
   "source": [
    "# Define the model structure\n",
    "in_size = X_train.shape[1]\n",
    "hidden_size = 10\n",
    "out_size = len(np.unique(df.target))\n",
    "\n",
    "torch_model = nn.Sequential(\n",
    "    nn.Linear(in_features = in_size, out_features = hidden_size),                 # input layer\n",
    "    nn.ReLU(),                                                                    # activation function\n",
    "    nn.Linear(in_features = hidden_size, out_features = out_size),                # hidden layer 1\n",
    "    nn.LogSoftmax(dim=1)\n",
    ")"
   ]
  },
  {
   "cell_type": "code",
   "execution_count": null,
   "metadata": {
    "id": "DgmaLvD16jho"
   },
   "outputs": [],
   "source": [
    "# Move the model and data to the GPU if available\n",
    "device = torch.device(\"cuda\" if torch.cuda.is_available() else \"cpu\")\n",
    "torch_model.to(device)\n",
    "X_train = X_train.to(device)\n",
    "y_train = y_train.to(device)\n",
    "X_test = X_test.to(device)\n",
    "y_test = y_test.to(device)\n"
   ]
  },
  {
   "cell_type": "code",
   "execution_count": null,
   "metadata": {
    "id": "iE5hGGTp9zUW"
   },
   "outputs": [],
   "source": [
    "# Define the loss function and optimizer\n",
    "criterion = nn.NLLLoss()\n",
    "optimizer = optim.Adam(torch_model.parameters(), lr=0.01)"
   ]
  },
  {
   "cell_type": "code",
   "execution_count": null,
   "metadata": {
    "colab": {
     "base_uri": "https://localhost:8080/"
    },
    "id": "6QC5xPMD9zbx",
    "outputId": "f5ebcac2-a728-474e-a25c-1b6e60cf8640"
   },
   "outputs": [
    {
     "name": "stdout",
     "output_type": "stream",
     "text": [
      "Epoch [10/100], Loss: 0.2121\n",
      "Epoch [20/100], Loss: 0.1013\n",
      "Epoch [30/100], Loss: 0.0736\n",
      "Epoch [40/100], Loss: 0.0619\n",
      "Epoch [50/100], Loss: 0.0536\n",
      "Epoch [60/100], Loss: 0.0476\n",
      "Epoch [70/100], Loss: 0.0427\n",
      "Epoch [80/100], Loss: 0.0383\n",
      "Epoch [90/100], Loss: 0.0344\n",
      "Epoch [100/100], Loss: 0.0309\n"
     ]
    }
   ],
   "source": [
    "# Train the model\n",
    "num_epochs = 100\n",
    "for epoch in range(num_epochs):\n",
    "    # Forward pass\n",
    "    outputs = torch_model(X_train)\n",
    "    loss = criterion(outputs, y_train)\n",
    "\n",
    "    # Backward and optimize\n",
    "    optimizer.zero_grad()\n",
    "    loss.backward()\n",
    "    optimizer.step()\n",
    "\n",
    "    # Print the loss at every 10th epoch\n",
    "    if (epoch+1) % 10 == 0:\n",
    "        print(f\"Epoch [{epoch+1}/{num_epochs}], Loss: {loss.item():.4f}\")"
   ]
  },
  {
   "cell_type": "code",
   "execution_count": null,
   "metadata": {
    "colab": {
     "base_uri": "https://localhost:8080/"
    },
    "id": "G9ta5nqI9zed",
    "outputId": "36525df0-3faf-4aa7-c97b-22c26e3b8cdb"
   },
   "outputs": [
    {
     "name": "stdout",
     "output_type": "stream",
     "text": [
      "Accuracy: 0.9825\n"
     ]
    }
   ],
   "source": [
    "# Evaluate the model on the test set\n",
    "with torch.no_grad():\n",
    "    outputs = torch_model(X_test)\n",
    "    _, predicted = torch.max(outputs.data, 1)\n",
    "    accuracy = (predicted == y_test).sum().item() / len(y_test)\n",
    "    print(f\"Accuracy: {accuracy:.4f}\")"
   ]
  },
  {
   "cell_type": "code",
   "execution_count": null,
   "metadata": {
    "colab": {
     "base_uri": "https://localhost:8080/"
    },
    "id": "ykRWVSP6jELG",
    "outputId": "b962f48c-2a5e-4933-9b56-b7911f1ce857"
   },
   "outputs": [
    {
     "name": "stdout",
     "output_type": "stream",
     "text": [
      "Diagnosis: benign\n",
      "Diagnosis: malignant\n",
      "Diagnosis: malignant\n",
      "Diagnosis: benign\n",
      "Diagnosis: benign\n"
     ]
    }
   ],
   "source": [
    "# Make predictions on test data\n",
    "with torch.no_grad():\n",
    "    outputs = torch_model(X_test[0:5])\n",
    "    _, predicted = torch.max(outputs.data, 1)\n",
    "    #print(f\"Predicted: {predicted}\")\n",
    "\n",
    "for i in predicted:\n",
    "  print('Diagnosis:', target_names[i])"
   ]
  },
  {
   "cell_type": "code",
   "execution_count": null,
   "metadata": {
    "colab": {
     "base_uri": "https://localhost:8080/"
    },
    "id": "9fa6kNfJ_YV8",
    "outputId": "f92eb5d0-d0f8-467a-8ebb-c425f222c754"
   },
   "outputs": [
    {
     "name": "stdout",
     "output_type": "stream",
     "text": [
      "Diagnosis: tensor([1])\n",
      "Diagnosis: benign\n"
     ]
    }
   ],
   "source": [
    "# Make predictions on new data\n",
    "\n",
    "# X new\n",
    "X_new = [[0,0,0,0,0,0,0,0,0,0,0,0,0,0,0,0,0,0,0,0,0,0,0,0,0,0,0,0,0,0]]\n",
    "\n",
    "# Scale the features\n",
    "X_new = scaler.transform(X_new)\n",
    "\n",
    "# Convert X_new to tensor\n",
    "X_new = torch.tensor(X_new, dtype=torch.float32).to(device)\n",
    "\n",
    "# Make prediction\n",
    "with torch.no_grad():\n",
    "    outputs = torch_model(X_new)\n",
    "    _, predicted = torch.max(outputs.data, 1)\n",
    "    #print(f\"Predicted: {predicted}\")\n",
    "\n",
    "print('Diagnosis:',predicted)\n",
    "print('Diagnosis:',target_names[predicted.item()])\n"
   ]
  },
  {
   "cell_type": "markdown",
   "metadata": {
    "id": "16saJ1njOzEs"
   },
   "source": [
    "## Pytorch with function api"
   ]
  },
  {
   "cell_type": "code",
   "execution_count": null,
   "metadata": {
    "id": "AUgIPf31Oxyr"
   },
   "outputs": [],
   "source": [
    "# Define the class and foward function\n",
    "class Net(nn.Module):\n",
    "    def __init__(self, input_size, hidden_size, output_size):\n",
    "        super(Net, self).__init__()\n",
    "        self.fc1 = nn.Linear(input_size, hidden_size)\n",
    "        self.relu = nn.ReLU()\n",
    "        self.fc2 = nn.Linear(hidden_size, output_size)\n",
    "        self.softmax = nn.LogSoftmax(dim=1)\n",
    "\n",
    "    def forward(self, x):\n",
    "        out = self.fc1(x)\n",
    "        out = self.relu(out)\n",
    "        out = self.fc2(out)\n",
    "        out = self.softmax(out)\n",
    "        return out\n"
   ]
  },
  {
   "cell_type": "code",
   "execution_count": null,
   "metadata": {
    "id": "5LMBPY78OxmR"
   },
   "outputs": [],
   "source": [
    "# Define the model\n",
    "class_torch_model = Net(in_size, hidden_size, out_size).to(device)\n",
    "\n",
    "# Define the loss function and optimizer\n",
    "criterion = nn.NLLLoss()\n",
    "optimizer = optim.Adam(class_torch_model.parameters(), lr=0.01)"
   ]
  },
  {
   "cell_type": "code",
   "execution_count": null,
   "metadata": {
    "colab": {
     "base_uri": "https://localhost:8080/"
    },
    "id": "fjM5-WWJOxcP",
    "outputId": "932fe2d3-6a4e-412b-a8cf-c6844dfa9eaa"
   },
   "outputs": [
    {
     "name": "stdout",
     "output_type": "stream",
     "text": [
      "Epoch [10/100], Loss: 0.2247\n",
      "Epoch [20/100], Loss: 0.1063\n",
      "Epoch [30/100], Loss: 0.0741\n",
      "Epoch [40/100], Loss: 0.0618\n",
      "Epoch [50/100], Loss: 0.0538\n",
      "Epoch [60/100], Loss: 0.0470\n",
      "Epoch [70/100], Loss: 0.0415\n",
      "Epoch [80/100], Loss: 0.0367\n",
      "Epoch [90/100], Loss: 0.0327\n",
      "Epoch [100/100], Loss: 0.0290\n"
     ]
    }
   ],
   "source": [
    "# Train the model\n",
    "num_epochs = 100\n",
    "for epoch in range(num_epochs):\n",
    "    # Forward pass\n",
    "    outputs = class_torch_model(X_train)\n",
    "    loss = criterion(outputs, y_train)\n",
    "\n",
    "    # Backward and optimize\n",
    "    optimizer.zero_grad()\n",
    "    loss.backward()\n",
    "    optimizer.step()\n",
    "\n",
    "    # Print the loss at every 10th epoch\n",
    "    if (epoch+1) % 10 == 0:\n",
    "        print(f\"Epoch [{epoch+1}/{num_epochs}], Loss: {loss.item():.4f}\")"
   ]
  },
  {
   "cell_type": "code",
   "execution_count": null,
   "metadata": {
    "colab": {
     "base_uri": "https://localhost:8080/"
    },
    "id": "Qen-0USkOxNf",
    "outputId": "dafa372b-4f87-4534-c9d9-b3d102a7114e"
   },
   "outputs": [
    {
     "name": "stdout",
     "output_type": "stream",
     "text": [
      "Accuracy: 0.9825\n"
     ]
    }
   ],
   "source": [
    "# Evaluate the model on the test set\n",
    "with torch.no_grad():\n",
    "    outputs = class_torch_model(X_test)\n",
    "    _, predicted = torch.max(outputs.data, 1)\n",
    "    accuracy = (predicted == y_test).sum().item() / len(y_test)\n",
    "    print(f\"Accuracy: {accuracy:.4f}\")"
   ]
  },
  {
   "cell_type": "code",
   "execution_count": null,
   "metadata": {
    "colab": {
     "base_uri": "https://localhost:8080/"
    },
    "id": "iHhqkBD3OwO_",
    "outputId": "603db1e5-08db-4ee8-cfec-2b46f3d4597c"
   },
   "outputs": [
    {
     "name": "stdout",
     "output_type": "stream",
     "text": [
      "Diagnosis: tensor([1])\n",
      "Diagnosis: benign\n"
     ]
    }
   ],
   "source": [
    "# Make predictions on new data\n",
    "\n",
    "# X new\n",
    "X_new = [[0,0,0,0,0,0,0,0,0,0,0,0,0,0,0,0,0,0,0,0,0,0,0,0,0,0,0,0,0,0]]\n",
    "\n",
    "# Scale the features\n",
    "X_new = scaler.transform(X_new)\n",
    "\n",
    "# Convert X_new to tensor\n",
    "X_new = torch.tensor(X_new, dtype=torch.float32).to(device)\n",
    "\n",
    "# Make prediction\n",
    "with torch.no_grad():\n",
    "    outputs = class_torch_model(X_new)\n",
    "    _, predicted = torch.max(outputs.data, 1)\n",
    "    #print(f\"Predicted: {predicted}\")\n",
    "\n",
    "print('Diagnosis:',predicted)\n",
    "print('Diagnosis:',target_names[predicted.item()])"
   ]
  },
  {
   "cell_type": "markdown",
   "metadata": {
    "id": "GhNQf-4w4n0d"
   },
   "source": [
    "# TensorFlow"
   ]
  },
  {
   "cell_type": "markdown",
   "metadata": {
    "id": "QKxn9YEXlPWP"
   },
   "source": [
    "## Tensorflow with sequential api"
   ]
  },
  {
   "cell_type": "code",
   "execution_count": null,
   "metadata": {
    "id": "aduLbDsx4wDQ"
   },
   "outputs": [],
   "source": [
    "import tensorflow as tf\n",
    "from tensorflow.keras.models import Sequential\n",
    "from tensorflow.keras.layers import Dense, Activation"
   ]
  },
  {
   "cell_type": "code",
   "execution_count": null,
   "metadata": {
    "id": "RCjNERIIGY7F"
   },
   "outputs": [],
   "source": [
    "# Define the model structure\n",
    "in_size = X_train.shape[1]\n",
    "hidden_size = 10\n",
    "out_size = len(np.unique(df.target))\n",
    "\n",
    "# Create TensorFlow model\n",
    "tf_model = Sequential([\n",
    "     Dense(hidden_size, input_shape=(in_size,), activation='relu'),   # Input layer\n",
    "     Dense(hidden_size, activation='relu'),                           # Hidden layer\n",
    "     Dense(out_size, activation='softmax')                            # Output layer\n",
    "])"
   ]
  },
  {
   "cell_type": "code",
   "execution_count": null,
   "metadata": {
    "id": "HE-ajG1iKAp5"
   },
   "outputs": [],
   "source": [
    "# Convert pytorch Tensor to numpy\n",
    "X_train = X_train.data.to('cpu').numpy()\n",
    "y_train = y_train.data.to('cpu').numpy()\n",
    "X_test = X_test.data.to('cpu').numpy()\n",
    "y_test = y_test.data.to('cpu').numpy()"
   ]
  },
  {
   "cell_type": "code",
   "execution_count": null,
   "metadata": {
    "colab": {
     "base_uri": "https://localhost:8080/"
    },
    "id": "DXBUAyrVHHJR",
    "outputId": "a571585d-fbf0-4dfb-cfa1-7774447c51cc"
   },
   "outputs": [
    {
     "name": "stdout",
     "output_type": "stream",
     "text": [
      "4/4 [==============================] - 0s 4ms/step - loss: 0.0762 - accuracy: 0.9825\n",
      " Loss: 0.07615593820810318 \n",
      " Acc: 0.9824561476707458\n"
     ]
    }
   ],
   "source": [
    "# Compile the model\n",
    "tf_model.compile(optimizer='adam', loss='sparse_categorical_crossentropy', metrics=['accuracy'])\n",
    "\n",
    "# Train TensorFlow model\n",
    "tf_model.fit(X_train, y_train, epochs=100, batch_size=16, validation_split=0.01, verbose = 0)\n",
    "\n",
    "# Evaluate the model with test data\n",
    "eval = tf_model.evaluate(X_test, y_test)\n",
    "print(' Loss:', eval[0], '\\n', 'Acc:' , eval[1])"
   ]
  },
  {
   "cell_type": "code",
   "execution_count": null,
   "metadata": {
    "colab": {
     "base_uri": "https://localhost:8080/"
    },
    "id": "9uhIqTinHNMn",
    "outputId": "4b190500-a623-465a-c5fe-7e578d9d3c6d"
   },
   "outputs": [
    {
     "name": "stdout",
     "output_type": "stream",
     "text": [
      "1/1 [==============================] - 0s 106ms/step\n",
      "Diagnosis: benign\n",
      "Diagnosis: malignant\n",
      "Diagnosis: malignant\n",
      "Diagnosis: benign\n",
      "Diagnosis: benign\n"
     ]
    }
   ],
   "source": [
    "# Make predictions using TensorFlow model\n",
    "predictions_tf = tf_model.predict(X_test[0:5])\n",
    "predictions_tf.round()\n",
    "\n",
    "for i in range(len(predictions_tf)):\n",
    "  print('Diagnosis:', target_names[np.argmax(predictions_tf[i])])"
   ]
  },
  {
   "cell_type": "code",
   "execution_count": null,
   "metadata": {
    "colab": {
     "base_uri": "https://localhost:8080/"
    },
    "id": "Er1zJWD8LO6o",
    "outputId": "8f703657-c413-408f-8663-33d9ffa81c57"
   },
   "outputs": [
    {
     "name": "stdout",
     "output_type": "stream",
     "text": [
      "1/1 [==============================] - 0s 23ms/step\n",
      "Diagnosis: [[7.176476e-18 1.000000e+00]]\n",
      "Diagnosis: benign\n"
     ]
    }
   ],
   "source": [
    "# Make predictions on new data\n",
    "\n",
    "# X new\n",
    "X_new = [[0,0,0,0,0,0,0,0,0,0,0,0,0,0,0,0,0,0,0,0,0,0,0,0,0,0,0,0,0,0]]\n",
    "\n",
    "# Scale the features\n",
    "X_new = scaler.transform(X_new)\n",
    "\n",
    "# Make predictions\n",
    "predictions_tf = tf_model.predict(X_new)\n",
    "#print(predictions_tf.round(4))\n",
    "print('Diagnosis:', predictions_tf)\n",
    "print('Diagnosis:', target_names[np.argmax(predictions_tf)])"
   ]
  },
  {
   "cell_type": "markdown",
   "metadata": {
    "id": "aBROU2YDS2nS"
   },
   "source": [
    "## Tensorflow with function api"
   ]
  },
  {
   "cell_type": "code",
   "execution_count": null,
   "metadata": {
    "id": "RnI9FhhSS1g9"
   },
   "outputs": [],
   "source": [
    "# Define the model structure \n",
    "class Net(tf.keras.Model):\n",
    "    def __init__(self, input_size, hidden_size, output_size):\n",
    "        super(Net, self).__init__()\n",
    "        self.fc1 = tf.keras.layers.Dense(hidden_size, activation='relu')\n",
    "        self.fc2 = tf.keras.layers.Dense(output_size, activation='softmax')\n",
    "\n",
    "    def call(self, x):\n",
    "        out = self.fc1(x)\n",
    "        out = self.fc2(out)\n",
    "        return out"
   ]
  },
  {
   "cell_type": "code",
   "execution_count": null,
   "metadata": {
    "id": "rQso9M4jTLHn"
   },
   "outputs": [],
   "source": [
    "# Define the model\n",
    "tf_class_model = Net(in_size, hidden_size, out_size)\n",
    "\n",
    "# Define the loss function and optimizer\n",
    "loss_fn = tf.keras.losses.BinaryCrossentropy()\n",
    "optimizer = tf.keras.optimizers.SGD(learning_rate=0.01)"
   ]
  },
  {
   "cell_type": "code",
   "execution_count": null,
   "metadata": {
    "colab": {
     "base_uri": "https://localhost:8080/"
    },
    "id": "ulkq0fU4Uwjp",
    "outputId": "579d8af5-da11-4035-fa6c-0e36931ae4cd"
   },
   "outputs": [
    {
     "name": "stdout",
     "output_type": "stream",
     "text": [
      "4/4 [==============================] - 0s 4ms/step - loss: 0.0678 - accuracy: 0.9825\n",
      " Loss: 0.06778409332036972 \n",
      " Acc: 0.9824561476707458\n"
     ]
    }
   ],
   "source": [
    "# Compile the model\n",
    "tf_class_model.compile(optimizer='adam', loss='sparse_categorical_crossentropy', metrics=['accuracy'])\n",
    "\n",
    "# Train TensorFlow model\n",
    "tf_class_model.fit(X_train, y_train, epochs=100, batch_size=16, validation_split=0.01, verbose = 0)\n",
    "\n",
    "# Evaluate the model with test data\n",
    "eval = tf_class_model.evaluate(X_test, y_test)\n",
    "print(' Loss:', eval[0], '\\n', 'Acc:' , eval[1])"
   ]
  },
  {
   "cell_type": "code",
   "execution_count": null,
   "metadata": {
    "colab": {
     "base_uri": "https://localhost:8080/"
    },
    "id": "XifxtewnTjQh",
    "outputId": "7f85f3c7-89a8-4d15-a249-9854cef588e6"
   },
   "outputs": [
    {
     "name": "stdout",
     "output_type": "stream",
     "text": [
      "1/1 [==============================] - 0s 56ms/step\n",
      "Diagnosis: [[4.748192e-19 1.000000e+00]]\n",
      "Diagnosis: benign\n"
     ]
    }
   ],
   "source": [
    "# Make predictions on new data\n",
    "\n",
    "# X new\n",
    "X_new = [[0,0,0,0,0,0,0,0,0,0,0,0,0,0,0,0,0,0,0,0,0,0,0,0,0,0,0,0,0,0]]\n",
    "\n",
    "# Scale the features\n",
    "X_new = scaler.transform(X_new)\n",
    "\n",
    "# Make predictions\n",
    "predictions_tf = tf_class_model.predict(X_new)\n",
    "#print(predictions_tf.round(4))\n",
    "print('Diagnosis:', predictions_tf)\n",
    "print('Diagnosis:', target_names[np.argmax(predictions_tf)])"
   ]
  },
  {
   "cell_type": "code",
   "execution_count": null,
   "metadata": {
    "id": "P44yCzAEXTOR"
   },
   "outputs": [],
   "source": []
  }
 ],
 "metadata": {
  "accelerator": "GPU",
  "colab": {
   "collapsed_sections": [
    "7X6ALoW5Nngt",
    "t6mxV0Sr6MEz",
    "-G6ij4-J4duz",
    "lx2Ey28rlG9u",
    "16saJ1njOzEs",
    "QKxn9YEXlPWP",
    "aBROU2YDS2nS"
   ],
   "provenance": []
  },
  "gpuClass": "standard",
  "kernelspec": {
   "display_name": "Python 3 (ipykernel)",
   "language": "python",
   "name": "python3"
  },
  "language_info": {
   "codemirror_mode": {
    "name": "ipython",
    "version": 3
   },
   "file_extension": ".py",
   "mimetype": "text/x-python",
   "name": "python",
   "nbconvert_exporter": "python",
   "pygments_lexer": "ipython3",
   "version": "3.9.13"
  }
 },
 "nbformat": 4,
 "nbformat_minor": 1
}

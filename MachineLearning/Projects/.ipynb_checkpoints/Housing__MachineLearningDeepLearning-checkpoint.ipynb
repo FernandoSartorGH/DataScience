{
 "cells": [
  {
   "cell_type": "markdown",
   "metadata": {
    "id": "JeWEWfI3zDrW"
   },
   "source": [
    "# **BOSTON HOUSING REGRESSOR WITH MACHINE LEARNING AND DEEP  LEARNING**"
   ]
  },
  {
   "cell_type": "markdown",
   "metadata": {
    "id": "7X6ALoW5Nngt"
   },
   "source": [
    "## Imports"
   ]
  },
  {
   "cell_type": "code",
   "execution_count": null,
   "metadata": {
    "id": "QzmZU_ftNn9g"
   },
   "outputs": [],
   "source": [
    "import numpy as np\n",
    "import pandas as pd\n",
    "\n",
    "from sklearn.pipeline import Pipeline\n",
    "from imblearn.over_sampling import SMOTE\n",
    "from sklearn.impute import SimpleImputer\n",
    "from sklearn.compose import ColumnTransformer\n",
    "from sklearn.preprocessing import FunctionTransformer, StandardScaler, OrdinalEncoder, OneHotEncoder\n",
    "\n",
    "from sklearn.ensemble import RandomForestClassifier\n",
    "from sklearn.model_selection import train_test_split\n",
    "from sklearn.metrics import accuracy_score, confusion_matrix"
   ]
  },
  {
   "cell_type": "markdown",
   "metadata": {
    "id": "t6mxV0Sr6MEz"
   },
   "source": [
    "## Load data and separate training and testing data"
   ]
  },
  {
   "cell_type": "code",
   "execution_count": null,
   "metadata": {
    "id": "OmeH_qQoxvuG"
   },
   "outputs": [],
   "source": [
    "# Load the dataset\n",
    "\n",
    "data_url = \"http://lib.stat.cmu.edu/datasets/boston\"\n",
    "raw_df = pd.read_csv(data_url, sep=\"\\s+\", skiprows=22, header=None)\n",
    "data = np.hstack([raw_df.values[::2, :], raw_df.values[1::2, :2]])\n",
    "target = raw_df.values[1::2, 2]"
   ]
  },
  {
   "cell_type": "code",
   "execution_count": null,
   "metadata": {
    "id": "efJEQUMdyM6f"
   },
   "outputs": [],
   "source": [
    "X, y = data, target\n",
    "\n",
    "# Get target names\n",
    "\n",
    "# Split the dataset into training and testing sets\n",
    "X_train, X_test, y_train, y_test = train_test_split(X, y, test_size=0.2, random_state=42)"
   ]
  },
  {
   "cell_type": "code",
   "execution_count": null,
   "metadata": {
    "colab": {
     "base_uri": "https://localhost:8080/",
     "height": 424
    },
    "id": "0or4PjPjyczy",
    "outputId": "6ded11d3-be15-4f95-d4a7-166e24985ad0"
   },
   "outputs": [
    {
     "data": {
      "text/html": [
       "\n",
       "  <div id=\"df-bffaf13c-27d0-4e43-a8f4-be7f2a398af5\">\n",
       "    <div class=\"colab-df-container\">\n",
       "      <div>\n",
       "<style scoped>\n",
       "    .dataframe tbody tr th:only-of-type {\n",
       "        vertical-align: middle;\n",
       "    }\n",
       "\n",
       "    .dataframe tbody tr th {\n",
       "        vertical-align: top;\n",
       "    }\n",
       "\n",
       "    .dataframe thead th {\n",
       "        text-align: right;\n",
       "    }\n",
       "</style>\n",
       "<table border=\"1\" class=\"dataframe\">\n",
       "  <thead>\n",
       "    <tr style=\"text-align: right;\">\n",
       "      <th></th>\n",
       "      <th>0</th>\n",
       "      <th>1</th>\n",
       "      <th>2</th>\n",
       "      <th>3</th>\n",
       "      <th>4</th>\n",
       "      <th>5</th>\n",
       "      <th>6</th>\n",
       "      <th>7</th>\n",
       "      <th>8</th>\n",
       "      <th>9</th>\n",
       "      <th>10</th>\n",
       "      <th>11</th>\n",
       "      <th>12</th>\n",
       "      <th>target</th>\n",
       "    </tr>\n",
       "  </thead>\n",
       "  <tbody>\n",
       "    <tr>\n",
       "      <th>0</th>\n",
       "      <td>0.00632</td>\n",
       "      <td>18.0</td>\n",
       "      <td>2.31</td>\n",
       "      <td>0.0</td>\n",
       "      <td>0.538</td>\n",
       "      <td>6.575</td>\n",
       "      <td>65.2</td>\n",
       "      <td>4.0900</td>\n",
       "      <td>1.0</td>\n",
       "      <td>296.0</td>\n",
       "      <td>15.3</td>\n",
       "      <td>396.90</td>\n",
       "      <td>4.98</td>\n",
       "      <td>24.0</td>\n",
       "    </tr>\n",
       "    <tr>\n",
       "      <th>1</th>\n",
       "      <td>0.02731</td>\n",
       "      <td>0.0</td>\n",
       "      <td>7.07</td>\n",
       "      <td>0.0</td>\n",
       "      <td>0.469</td>\n",
       "      <td>6.421</td>\n",
       "      <td>78.9</td>\n",
       "      <td>4.9671</td>\n",
       "      <td>2.0</td>\n",
       "      <td>242.0</td>\n",
       "      <td>17.8</td>\n",
       "      <td>396.90</td>\n",
       "      <td>9.14</td>\n",
       "      <td>21.6</td>\n",
       "    </tr>\n",
       "    <tr>\n",
       "      <th>2</th>\n",
       "      <td>0.02729</td>\n",
       "      <td>0.0</td>\n",
       "      <td>7.07</td>\n",
       "      <td>0.0</td>\n",
       "      <td>0.469</td>\n",
       "      <td>7.185</td>\n",
       "      <td>61.1</td>\n",
       "      <td>4.9671</td>\n",
       "      <td>2.0</td>\n",
       "      <td>242.0</td>\n",
       "      <td>17.8</td>\n",
       "      <td>392.83</td>\n",
       "      <td>4.03</td>\n",
       "      <td>34.7</td>\n",
       "    </tr>\n",
       "    <tr>\n",
       "      <th>3</th>\n",
       "      <td>0.03237</td>\n",
       "      <td>0.0</td>\n",
       "      <td>2.18</td>\n",
       "      <td>0.0</td>\n",
       "      <td>0.458</td>\n",
       "      <td>6.998</td>\n",
       "      <td>45.8</td>\n",
       "      <td>6.0622</td>\n",
       "      <td>3.0</td>\n",
       "      <td>222.0</td>\n",
       "      <td>18.7</td>\n",
       "      <td>394.63</td>\n",
       "      <td>2.94</td>\n",
       "      <td>33.4</td>\n",
       "    </tr>\n",
       "    <tr>\n",
       "      <th>4</th>\n",
       "      <td>0.06905</td>\n",
       "      <td>0.0</td>\n",
       "      <td>2.18</td>\n",
       "      <td>0.0</td>\n",
       "      <td>0.458</td>\n",
       "      <td>7.147</td>\n",
       "      <td>54.2</td>\n",
       "      <td>6.0622</td>\n",
       "      <td>3.0</td>\n",
       "      <td>222.0</td>\n",
       "      <td>18.7</td>\n",
       "      <td>396.90</td>\n",
       "      <td>5.33</td>\n",
       "      <td>36.2</td>\n",
       "    </tr>\n",
       "    <tr>\n",
       "      <th>...</th>\n",
       "      <td>...</td>\n",
       "      <td>...</td>\n",
       "      <td>...</td>\n",
       "      <td>...</td>\n",
       "      <td>...</td>\n",
       "      <td>...</td>\n",
       "      <td>...</td>\n",
       "      <td>...</td>\n",
       "      <td>...</td>\n",
       "      <td>...</td>\n",
       "      <td>...</td>\n",
       "      <td>...</td>\n",
       "      <td>...</td>\n",
       "      <td>...</td>\n",
       "    </tr>\n",
       "    <tr>\n",
       "      <th>501</th>\n",
       "      <td>0.06263</td>\n",
       "      <td>0.0</td>\n",
       "      <td>11.93</td>\n",
       "      <td>0.0</td>\n",
       "      <td>0.573</td>\n",
       "      <td>6.593</td>\n",
       "      <td>69.1</td>\n",
       "      <td>2.4786</td>\n",
       "      <td>1.0</td>\n",
       "      <td>273.0</td>\n",
       "      <td>21.0</td>\n",
       "      <td>391.99</td>\n",
       "      <td>9.67</td>\n",
       "      <td>22.4</td>\n",
       "    </tr>\n",
       "    <tr>\n",
       "      <th>502</th>\n",
       "      <td>0.04527</td>\n",
       "      <td>0.0</td>\n",
       "      <td>11.93</td>\n",
       "      <td>0.0</td>\n",
       "      <td>0.573</td>\n",
       "      <td>6.120</td>\n",
       "      <td>76.7</td>\n",
       "      <td>2.2875</td>\n",
       "      <td>1.0</td>\n",
       "      <td>273.0</td>\n",
       "      <td>21.0</td>\n",
       "      <td>396.90</td>\n",
       "      <td>9.08</td>\n",
       "      <td>20.6</td>\n",
       "    </tr>\n",
       "    <tr>\n",
       "      <th>503</th>\n",
       "      <td>0.06076</td>\n",
       "      <td>0.0</td>\n",
       "      <td>11.93</td>\n",
       "      <td>0.0</td>\n",
       "      <td>0.573</td>\n",
       "      <td>6.976</td>\n",
       "      <td>91.0</td>\n",
       "      <td>2.1675</td>\n",
       "      <td>1.0</td>\n",
       "      <td>273.0</td>\n",
       "      <td>21.0</td>\n",
       "      <td>396.90</td>\n",
       "      <td>5.64</td>\n",
       "      <td>23.9</td>\n",
       "    </tr>\n",
       "    <tr>\n",
       "      <th>504</th>\n",
       "      <td>0.10959</td>\n",
       "      <td>0.0</td>\n",
       "      <td>11.93</td>\n",
       "      <td>0.0</td>\n",
       "      <td>0.573</td>\n",
       "      <td>6.794</td>\n",
       "      <td>89.3</td>\n",
       "      <td>2.3889</td>\n",
       "      <td>1.0</td>\n",
       "      <td>273.0</td>\n",
       "      <td>21.0</td>\n",
       "      <td>393.45</td>\n",
       "      <td>6.48</td>\n",
       "      <td>22.0</td>\n",
       "    </tr>\n",
       "    <tr>\n",
       "      <th>505</th>\n",
       "      <td>0.04741</td>\n",
       "      <td>0.0</td>\n",
       "      <td>11.93</td>\n",
       "      <td>0.0</td>\n",
       "      <td>0.573</td>\n",
       "      <td>6.030</td>\n",
       "      <td>80.8</td>\n",
       "      <td>2.5050</td>\n",
       "      <td>1.0</td>\n",
       "      <td>273.0</td>\n",
       "      <td>21.0</td>\n",
       "      <td>396.90</td>\n",
       "      <td>7.88</td>\n",
       "      <td>11.9</td>\n",
       "    </tr>\n",
       "  </tbody>\n",
       "</table>\n",
       "<p>506 rows × 14 columns</p>\n",
       "</div>\n",
       "      <button class=\"colab-df-convert\" onclick=\"convertToInteractive('df-bffaf13c-27d0-4e43-a8f4-be7f2a398af5')\"\n",
       "              title=\"Convert this dataframe to an interactive table.\"\n",
       "              style=\"display:none;\">\n",
       "        \n",
       "  <svg xmlns=\"http://www.w3.org/2000/svg\" height=\"24px\"viewBox=\"0 0 24 24\"\n",
       "       width=\"24px\">\n",
       "    <path d=\"M0 0h24v24H0V0z\" fill=\"none\"/>\n",
       "    <path d=\"M18.56 5.44l.94 2.06.94-2.06 2.06-.94-2.06-.94-.94-2.06-.94 2.06-2.06.94zm-11 1L8.5 8.5l.94-2.06 2.06-.94-2.06-.94L8.5 2.5l-.94 2.06-2.06.94zm10 10l.94 2.06.94-2.06 2.06-.94-2.06-.94-.94-2.06-.94 2.06-2.06.94z\"/><path d=\"M17.41 7.96l-1.37-1.37c-.4-.4-.92-.59-1.43-.59-.52 0-1.04.2-1.43.59L10.3 9.45l-7.72 7.72c-.78.78-.78 2.05 0 2.83L4 21.41c.39.39.9.59 1.41.59.51 0 1.02-.2 1.41-.59l7.78-7.78 2.81-2.81c.8-.78.8-2.07 0-2.86zM5.41 20L4 18.59l7.72-7.72 1.47 1.35L5.41 20z\"/>\n",
       "  </svg>\n",
       "      </button>\n",
       "      \n",
       "  <style>\n",
       "    .colab-df-container {\n",
       "      display:flex;\n",
       "      flex-wrap:wrap;\n",
       "      gap: 12px;\n",
       "    }\n",
       "\n",
       "    .colab-df-convert {\n",
       "      background-color: #E8F0FE;\n",
       "      border: none;\n",
       "      border-radius: 50%;\n",
       "      cursor: pointer;\n",
       "      display: none;\n",
       "      fill: #1967D2;\n",
       "      height: 32px;\n",
       "      padding: 0 0 0 0;\n",
       "      width: 32px;\n",
       "    }\n",
       "\n",
       "    .colab-df-convert:hover {\n",
       "      background-color: #E2EBFA;\n",
       "      box-shadow: 0px 1px 2px rgba(60, 64, 67, 0.3), 0px 1px 3px 1px rgba(60, 64, 67, 0.15);\n",
       "      fill: #174EA6;\n",
       "    }\n",
       "\n",
       "    [theme=dark] .colab-df-convert {\n",
       "      background-color: #3B4455;\n",
       "      fill: #D2E3FC;\n",
       "    }\n",
       "\n",
       "    [theme=dark] .colab-df-convert:hover {\n",
       "      background-color: #434B5C;\n",
       "      box-shadow: 0px 1px 3px 1px rgba(0, 0, 0, 0.15);\n",
       "      filter: drop-shadow(0px 1px 2px rgba(0, 0, 0, 0.3));\n",
       "      fill: #FFFFFF;\n",
       "    }\n",
       "  </style>\n",
       "\n",
       "      <script>\n",
       "        const buttonEl =\n",
       "          document.querySelector('#df-bffaf13c-27d0-4e43-a8f4-be7f2a398af5 button.colab-df-convert');\n",
       "        buttonEl.style.display =\n",
       "          google.colab.kernel.accessAllowed ? 'block' : 'none';\n",
       "\n",
       "        async function convertToInteractive(key) {\n",
       "          const element = document.querySelector('#df-bffaf13c-27d0-4e43-a8f4-be7f2a398af5');\n",
       "          const dataTable =\n",
       "            await google.colab.kernel.invokeFunction('convertToInteractive',\n",
       "                                                     [key], {});\n",
       "          if (!dataTable) return;\n",
       "\n",
       "          const docLinkHtml = 'Like what you see? Visit the ' +\n",
       "            '<a target=\"_blank\" href=https://colab.research.google.com/notebooks/data_table.ipynb>data table notebook</a>'\n",
       "            + ' to learn more about interactive tables.';\n",
       "          element.innerHTML = '';\n",
       "          dataTable['output_type'] = 'display_data';\n",
       "          await google.colab.output.renderOutput(dataTable, element);\n",
       "          const docLink = document.createElement('div');\n",
       "          docLink.innerHTML = docLinkHtml;\n",
       "          element.appendChild(docLink);\n",
       "        }\n",
       "      </script>\n",
       "    </div>\n",
       "  </div>\n",
       "  "
      ],
      "text/plain": [
       "           0     1      2    3      4      5     6       7    8      9    10  \\\n",
       "0    0.00632  18.0   2.31  0.0  0.538  6.575  65.2  4.0900  1.0  296.0  15.3   \n",
       "1    0.02731   0.0   7.07  0.0  0.469  6.421  78.9  4.9671  2.0  242.0  17.8   \n",
       "2    0.02729   0.0   7.07  0.0  0.469  7.185  61.1  4.9671  2.0  242.0  17.8   \n",
       "3    0.03237   0.0   2.18  0.0  0.458  6.998  45.8  6.0622  3.0  222.0  18.7   \n",
       "4    0.06905   0.0   2.18  0.0  0.458  7.147  54.2  6.0622  3.0  222.0  18.7   \n",
       "..       ...   ...    ...  ...    ...    ...   ...     ...  ...    ...   ...   \n",
       "501  0.06263   0.0  11.93  0.0  0.573  6.593  69.1  2.4786  1.0  273.0  21.0   \n",
       "502  0.04527   0.0  11.93  0.0  0.573  6.120  76.7  2.2875  1.0  273.0  21.0   \n",
       "503  0.06076   0.0  11.93  0.0  0.573  6.976  91.0  2.1675  1.0  273.0  21.0   \n",
       "504  0.10959   0.0  11.93  0.0  0.573  6.794  89.3  2.3889  1.0  273.0  21.0   \n",
       "505  0.04741   0.0  11.93  0.0  0.573  6.030  80.8  2.5050  1.0  273.0  21.0   \n",
       "\n",
       "         11    12  target  \n",
       "0    396.90  4.98    24.0  \n",
       "1    396.90  9.14    21.6  \n",
       "2    392.83  4.03    34.7  \n",
       "3    394.63  2.94    33.4  \n",
       "4    396.90  5.33    36.2  \n",
       "..      ...   ...     ...  \n",
       "501  391.99  9.67    22.4  \n",
       "502  396.90  9.08    20.6  \n",
       "503  396.90  5.64    23.9  \n",
       "504  393.45  6.48    22.0  \n",
       "505  396.90  7.88    11.9  \n",
       "\n",
       "[506 rows x 14 columns]"
      ]
     },
     "execution_count": 5,
     "metadata": {},
     "output_type": "execute_result"
    }
   ],
   "source": [
    "# View data\n",
    "pd.concat([pd.DataFrame(data),\n",
    "           pd.DataFrame(target, columns = ['target'])\n",
    "], axis = 1)"
   ]
  },
  {
   "cell_type": "code",
   "execution_count": null,
   "metadata": {
    "id": "CIk5fWfYObrj"
   },
   "outputs": [],
   "source": [
    "# Scale the features\n",
    "scaler = StandardScaler()\n",
    "X_train = scaler.fit_transform(X_train)\n",
    "X_test = scaler.transform(X_test)"
   ]
  },
  {
   "cell_type": "markdown",
   "metadata": {
    "id": "WHrrfx1W6aBN"
   },
   "source": [
    "# **Models**"
   ]
  },
  {
   "cell_type": "markdown",
   "metadata": {
    "id": "-G6ij4-J4duz"
   },
   "source": [
    "# SkitLearn"
   ]
  },
  {
   "cell_type": "code",
   "execution_count": null,
   "metadata": {
    "colab": {
     "base_uri": "https://localhost:8080/"
    },
    "id": "MmRaJrXT4a5W",
    "outputId": "06a0335b-3c00-4dda-803a-443e83d0629b"
   },
   "outputs": [
    {
     "name": "stdout",
     "output_type": "stream",
     "text": [
      "Accuracy: 66.876%\n"
     ]
    }
   ],
   "source": [
    "# Import\n",
    "from sklearn.linear_model import LinearRegression\n",
    "from sklearn.metrics import r2_score\n",
    "\n",
    "# Define model\n",
    "ml_model = LinearRegression()\n",
    "\n",
    "# Fit Model\n",
    "ml_model.fit(X_train, y_train)\n",
    "\n",
    "# Making predictions\n",
    "predictions = ml_model.predict(X_test)\n",
    "\n",
    "# Evaluate\n",
    "result = ml_model.score(X_test, y_test)\n",
    "\n",
    "# Score do modelo nos dados de teste\n",
    "print(\"Accuracy: %.3f%%\" % (result * 100.0))"
   ]
  },
  {
   "cell_type": "code",
   "execution_count": null,
   "metadata": {
    "colab": {
     "base_uri": "https://localhost:8080/"
    },
    "id": "ALnXNaKlhOfa",
    "outputId": "c336c612-ebe9-4a06-a7ec-217bbf7fcbac"
   },
   "outputs": [
    {
     "name": "stdout",
     "output_type": "stream",
     "text": [
      "[26.61]\n"
     ]
    }
   ],
   "source": [
    "# Make predictions on new data\n",
    "\n",
    "# X new\n",
    "X_new = [[0.05,\t0.0,\t6.0,\t0.0,\t0.5,\t6.5,\t79.0,\t5.0,\t2.0,\t245.0,\t16.0,\t398,\t9.0]]\n",
    "\n",
    "# Scale the features\n",
    "X_new = scaler.transform(X_new)\n",
    "\n",
    "# Making predictions\n",
    "predictions = ml_model.predict(X_new)\n",
    "print(predictions.round(2))"
   ]
  },
  {
   "cell_type": "markdown",
   "metadata": {
    "id": "TLcTwD9v4npp"
   },
   "source": [
    "# PyTorch"
   ]
  },
  {
   "cell_type": "markdown",
   "metadata": {
    "id": "lx2Ey28rlG9u"
   },
   "source": [
    "## Pytorch with sequential api"
   ]
  },
  {
   "cell_type": "code",
   "execution_count": null,
   "metadata": {
    "id": "vDEc3J3d4qBK"
   },
   "outputs": [],
   "source": [
    "import torch\n",
    "from torch import nn\n",
    "import torch.optim as optim"
   ]
  },
  {
   "cell_type": "code",
   "execution_count": null,
   "metadata": {
    "id": "EB8-nJJ-6jcJ"
   },
   "outputs": [],
   "source": [
    "# Define the model structure\n",
    "in_size = 13\n",
    "hidden_size = 10\n",
    "out_size = 1\n",
    "\n",
    "torch_model = nn.Sequential(\n",
    "    nn.Linear(in_features = in_size, out_features = hidden_size),                 # input layer\n",
    "    nn.ReLU(),                                                                    # activation function\n",
    "    nn.Linear(in_features = hidden_size, out_features = hidden_size),                       # hidden layer 1\n",
    "    nn.ReLU(),                                                                    # activation function\n",
    "    nn.Linear(in_features = hidden_size, out_features = out_size),                          # output layer 1\n",
    ")"
   ]
  },
  {
   "cell_type": "code",
   "execution_count": null,
   "metadata": {
    "id": "DgmaLvD16jho"
   },
   "outputs": [],
   "source": [
    "# Split the dataset into training and testing sets\n",
    "X_train, X_test, y_train, y_test = train_test_split(X, y, test_size=0.2, random_state=42)\n",
    "\n",
    "# Move the model and data to the GPU if available\n",
    "device = torch.device(\"cuda\" if torch.cuda.is_available() else \"cpu\")\n",
    "torch_model.to(device)\n",
    "\n",
    "# Convert the data into tensors and move to GPU\n",
    "X_train = torch.tensor(X_train, dtype=torch.float32).to(device)\n",
    "X_test = torch.tensor(X_test, dtype=torch.float32).to(device)\n",
    "y_train = torch.tensor(y_train, dtype=torch.float32).to(device)\n",
    "y_test = torch.tensor(y_test, dtype=torch.float32).to(device)"
   ]
  },
  {
   "cell_type": "code",
   "execution_count": null,
   "metadata": {
    "id": "iE5hGGTp9zUW"
   },
   "outputs": [],
   "source": [
    "# Define the loss function and optimizer\n",
    "criterion = nn.MSELoss()\n",
    "optimizer = optim.Adam(torch_model.parameters(), lr=0.01)"
   ]
  },
  {
   "cell_type": "code",
   "execution_count": null,
   "metadata": {
    "colab": {
     "base_uri": "https://localhost:8080/"
    },
    "id": "6QC5xPMD9zbx",
    "outputId": "faaa8301-145d-4f81-e916-5ed0a23e9b89"
   },
   "outputs": [
    {
     "name": "stdout",
     "output_type": "stream",
     "text": [
      "Epoch [50/1000], Loss: 59.9122\n",
      "Epoch [100/1000], Loss: 44.9689\n",
      "Epoch [150/1000], Loss: 27.5195\n",
      "Epoch [200/1000], Loss: 22.0882\n",
      "Epoch [250/1000], Loss: 19.5492\n",
      "Epoch [300/1000], Loss: 17.2953\n",
      "Epoch [350/1000], Loss: 16.7385\n",
      "Epoch [400/1000], Loss: 15.6952\n",
      "Epoch [450/1000], Loss: 15.0785\n",
      "Epoch [500/1000], Loss: 14.6039\n",
      "Epoch [550/1000], Loss: 14.0998\n",
      "Epoch [600/1000], Loss: 13.6107\n",
      "Epoch [650/1000], Loss: 13.2650\n",
      "Epoch [700/1000], Loss: 12.9859\n",
      "Epoch [750/1000], Loss: 12.8180\n",
      "Epoch [800/1000], Loss: 12.5316\n",
      "Epoch [850/1000], Loss: 12.3258\n",
      "Epoch [900/1000], Loss: 11.8432\n",
      "Epoch [950/1000], Loss: 11.7736\n",
      "Epoch [1000/1000], Loss: 11.5252\n"
     ]
    }
   ],
   "source": [
    "# Train the model MSELoss\n",
    "num_epochs = 1000\n",
    "for epoch in range(num_epochs):\n",
    "    # Forward pass\n",
    "    y_pred = torch_model(X_train)\n",
    "    loss = criterion(y_pred, y_train.unsqueeze(1))\n",
    "\n",
    "    # Backward and optimize\n",
    "    optimizer.zero_grad()\n",
    "    loss.backward()\n",
    "    optimizer.step()\n",
    "\n",
    "    # Print the loss at every 10th epoch\n",
    "    if (epoch+1) % 50 == 0:\n",
    "      print(f\"Epoch [{epoch+1}/{num_epochs}], Loss: {loss.item():.4f}\")"
   ]
  },
  {
   "cell_type": "code",
   "execution_count": null,
   "metadata": {
    "colab": {
     "base_uri": "https://localhost:8080/"
    },
    "id": "G9ta5nqI9zed",
    "outputId": "3b65597c-cdd1-4f5a-d260-9a391ecb7ba5"
   },
   "outputs": [
    {
     "name": "stdout",
     "output_type": "stream",
     "text": [
      "R2 Score: 0.7679966379814345\n"
     ]
    }
   ],
   "source": [
    "# Evaluate the model on the test set\n",
    "with torch.no_grad():\n",
    "    y_pred = torch_model(X_test)\n",
    "    r2 = r2_score(y_test.cpu().numpy(), y_pred.cpu().numpy())\n",
    "    print(f'R2 Score: {r2}')"
   ]
  },
  {
   "cell_type": "code",
   "execution_count": null,
   "metadata": {
    "colab": {
     "base_uri": "https://localhost:8080/"
    },
    "id": "ykRWVSP6jELG",
    "outputId": "f4bdf8ad-1f70-4345-d732-0ae080d3e4d1"
   },
   "outputs": [
    {
     "name": "stdout",
     "output_type": "stream",
     "text": [
      "Predictions: tensor([[26.1439]])\n"
     ]
    }
   ],
   "source": [
    "# Make predictions on test data\n",
    "with torch.no_grad():\n",
    "    y_pred = torch_model(X_test[0:1])\n",
    "    print('Predictions:', y_pred)\n"
   ]
  },
  {
   "cell_type": "code",
   "execution_count": null,
   "metadata": {
    "colab": {
     "base_uri": "https://localhost:8080/"
    },
    "id": "9fa6kNfJ_YV8",
    "outputId": "7c7fd5de-7fd4-48f3-caa4-f6a3504f8de6"
   },
   "outputs": [
    {
     "name": "stdout",
     "output_type": "stream",
     "text": [
      "Predict: tensor([[4.9666]])\n"
     ]
    }
   ],
   "source": [
    "# Make predictions on new data\n",
    "\n",
    "# X new\n",
    "X_new = [[0.05,\t0.0,\t6.0,\t0.0,\t0.5,\t6.5,\t79.0,\t5.0,\t2.0,\t245.0,\t16.0,\t398,\t9.0]]\n",
    "\n",
    "# Scale the features\n",
    "X_new = scaler.transform(X_new)\n",
    "\n",
    "# Convert X_new to tensor\n",
    "X_new = torch.tensor(X_new, dtype=torch.float32).to(device)\n",
    "\n",
    "# Make prediction\n",
    "with torch.no_grad():\n",
    "    y_pred = torch_model(X_new)\n",
    "    print('Predict:',y_pred)"
   ]
  },
  {
   "cell_type": "markdown",
   "metadata": {
    "id": "16saJ1njOzEs"
   },
   "source": [
    "## Pytorch with function api"
   ]
  },
  {
   "cell_type": "code",
   "execution_count": null,
   "metadata": {
    "id": "AUgIPf31Oxyr"
   },
   "outputs": [],
   "source": [
    "# Define the class and foward function\n",
    "class Net(nn.Module):\n",
    "    def __init__(self, input_size, hidden_size, output_size):\n",
    "        super(Net, self).__init__()\n",
    "        self.fc1 = nn.Linear(input_size, hidden_size)\n",
    "        self.relu = nn.ReLU()\n",
    "        self.fc2 = nn.Linear(hidden_size, hidden_size)\n",
    "        self.relu = nn.ReLU()\n",
    "        self.linear = nn.Linear(hidden_size, 1)\n",
    "\n",
    "    def forward(self, x):\n",
    "        out = self.fc1(x)\n",
    "        out = self.relu(out)\n",
    "        out = self.fc2(out)\n",
    "        out = self.linear(out)\n",
    "        return out"
   ]
  },
  {
   "cell_type": "code",
   "execution_count": null,
   "metadata": {
    "id": "5LMBPY78OxmR"
   },
   "outputs": [],
   "source": [
    "# Define the model\n",
    "class_torch_model = Net(in_size, hidden_size, out_size).to(device)\n",
    "\n",
    "# Define the loss function and optimizer\n",
    "criterion = nn.MSELoss()\n",
    "optimizer = optim.Adam(class_torch_model.parameters(), lr=0.01)"
   ]
  },
  {
   "cell_type": "code",
   "execution_count": null,
   "metadata": {
    "colab": {
     "base_uri": "https://localhost:8080/"
    },
    "id": "fjM5-WWJOxcP",
    "outputId": "5b8cb2db-9fed-4254-d9c0-d9fd0f6766ba"
   },
   "outputs": [
    {
     "name": "stdout",
     "output_type": "stream",
     "text": [
      "Epoch [50/1000], Loss: 63.3447\n",
      "Epoch [100/1000], Loss: 45.8292\n",
      "Epoch [150/1000], Loss: 35.9124\n",
      "Epoch [200/1000], Loss: 33.0836\n",
      "Epoch [250/1000], Loss: 31.0184\n",
      "Epoch [300/1000], Loss: 30.5891\n",
      "Epoch [350/1000], Loss: 27.7788\n",
      "Epoch [400/1000], Loss: 26.5907\n",
      "Epoch [450/1000], Loss: 25.4121\n",
      "Epoch [500/1000], Loss: 26.4609\n",
      "Epoch [550/1000], Loss: 23.7150\n",
      "Epoch [600/1000], Loss: 33.2594\n",
      "Epoch [650/1000], Loss: 22.7000\n",
      "Epoch [700/1000], Loss: 21.8334\n",
      "Epoch [750/1000], Loss: 21.3002\n",
      "Epoch [800/1000], Loss: 20.0048\n",
      "Epoch [850/1000], Loss: 21.5540\n",
      "Epoch [900/1000], Loss: 18.5886\n",
      "Epoch [950/1000], Loss: 17.6898\n",
      "Epoch [1000/1000], Loss: 17.7110\n"
     ]
    }
   ],
   "source": [
    "# Train the model \n",
    "num_epochs = 1000\n",
    "for epoch in range(num_epochs):\n",
    "    # Forward pass\n",
    "    y_pred = class_torch_model(X_train)\n",
    "    loss = criterion(y_pred, y_train.unsqueeze(1))\n",
    "\n",
    "    # Backward and optimize\n",
    "    optimizer.zero_grad()\n",
    "    loss.backward()\n",
    "    optimizer.step()\n",
    "\n",
    "    # Print the loss at every 10th epoch\n",
    "    if (epoch+1) % 50 == 0:\n",
    "      print(f\"Epoch [{epoch+1}/{num_epochs}], Loss: {loss.item():.4f}\")"
   ]
  },
  {
   "cell_type": "code",
   "execution_count": null,
   "metadata": {
    "colab": {
     "base_uri": "https://localhost:8080/"
    },
    "id": "Qen-0USkOxNf",
    "outputId": "a76442c5-2b23-4ef3-aef9-6929463a8102"
   },
   "outputs": [
    {
     "name": "stdout",
     "output_type": "stream",
     "text": [
      "R2 Score: 0.6558180011177634\n"
     ]
    }
   ],
   "source": [
    "# Evaluate the model on the test set\n",
    "with torch.no_grad():\n",
    "    y_pred = class_torch_model(X_test)\n",
    "    r2 = r2_score(y_test.cpu().numpy(), y_pred.cpu().numpy())\n",
    "    print(f'R2 Score: {r2}')"
   ]
  },
  {
   "cell_type": "code",
   "execution_count": null,
   "metadata": {
    "colab": {
     "base_uri": "https://localhost:8080/"
    },
    "id": "iHhqkBD3OwO_",
    "outputId": "9d285c98-c557-4d26-c8bc-fe6e9e1ceba8"
   },
   "outputs": [
    {
     "name": "stdout",
     "output_type": "stream",
     "text": [
      "Predicted: tensor([[3.2784]])\n"
     ]
    }
   ],
   "source": [
    "# Make predictions on new data\n",
    "\n",
    "# X new\n",
    "X_new = [[0.05,\t0.0,\t6.0,\t0.0,\t0.5,\t6.5,\t79.0,\t5.0,\t2.0,\t245.0,\t16.0,\t398,\t9.0]]\n",
    "\n",
    "# Scale the features\n",
    "X_new = scaler.transform(X_new)\n",
    "\n",
    "# Convert X_new to tensor\n",
    "X_new = torch.tensor(X_new, dtype=torch.float32).to(device)\n",
    "\n",
    "# Make prediction\n",
    "with torch.no_grad():\n",
    "    y_pred = class_torch_model(X_new)\n",
    "    print(f\"Predicted: {y_pred}\")"
   ]
  },
  {
   "cell_type": "markdown",
   "metadata": {
    "id": "GhNQf-4w4n0d"
   },
   "source": [
    "# TensorFlow"
   ]
  },
  {
   "cell_type": "markdown",
   "metadata": {
    "id": "QKxn9YEXlPWP"
   },
   "source": [
    "## Tensorflow with sequential api"
   ]
  },
  {
   "cell_type": "code",
   "execution_count": null,
   "metadata": {
    "id": "aduLbDsx4wDQ"
   },
   "outputs": [],
   "source": [
    "import tensorflow as tf\n",
    "from tensorflow.keras.models import Sequential\n",
    "from tensorflow.keras.layers import Dense, Activation"
   ]
  },
  {
   "cell_type": "code",
   "execution_count": null,
   "metadata": {
    "id": "RCjNERIIGY7F"
   },
   "outputs": [],
   "source": [
    "# Define the model structure\n",
    "in_size = X_train.shape[1]\n",
    "hidden_size = 10\n",
    "out_size = 1\n",
    "\n",
    "# Create TensorFlow model\n",
    "tf_model = Sequential([\n",
    "     Dense(hidden_size, input_shape=(in_size,), activation='relu'),   # Input layer\n",
    "     Dense(hidden_size, activation='relu'),                           # Hidden layer\n",
    "     Dense(out_size)                            # Output layer\n",
    "])"
   ]
  },
  {
   "cell_type": "code",
   "execution_count": null,
   "metadata": {
    "id": "HE-ajG1iKAp5"
   },
   "outputs": [],
   "source": [
    "# Split the dataset into training and testing sets\n",
    "X_train, X_test, y_train, y_test = train_test_split(X, y, test_size=0.2, random_state=42)"
   ]
  },
  {
   "cell_type": "code",
   "execution_count": null,
   "metadata": {
    "id": "DXBUAyrVHHJR"
   },
   "outputs": [],
   "source": [
    "# Compile the model\n",
    "tf_model.compile(optimizer='adam', loss='mse', metrics=['mae'])\n",
    "\n",
    "# Train the model\n",
    "history = tf_model.fit(X_train, y_train, epochs=1000, batch_size=32, validation_split=0.2, verbose=0)"
   ]
  },
  {
   "cell_type": "code",
   "execution_count": null,
   "metadata": {
    "colab": {
     "base_uri": "https://localhost:8080/"
    },
    "id": "9uhIqTinHNMn",
    "outputId": "a2dd7c9e-1769-4e65-c23a-d8daea0060a8"
   },
   "outputs": [
    {
     "name": "stdout",
     "output_type": "stream",
     "text": [
      "4/4 [==============================] - 0s 6ms/step - loss: 19.2497 - mae: 2.9647\n",
      "Test loss: 19.2497, Test MAE: 2.9647\n",
      "4/4 [==============================] - 0s 3ms/step\n",
      "R2 score: 0.7375\n"
     ]
    }
   ],
   "source": [
    "# Evaluate the model on the test set\n",
    "loss, mae = tf_model.evaluate(X_test, y_test)\n",
    "print(f'Test loss: {loss:.4f}, Test MAE: {mae:.4f}')\n",
    "\n",
    "# Calculate the R2 score\n",
    "y_pred = tf_model.predict(X_test)\n",
    "r2 = r2_score(y_test, y_pred)\n",
    "print(f'R2 score: {r2:.4f}')"
   ]
  },
  {
   "cell_type": "code",
   "execution_count": null,
   "metadata": {
    "colab": {
     "base_uri": "https://localhost:8080/"
    },
    "id": "V6KBBYzS0mtJ",
    "outputId": "046b981e-bd89-4995-b156-4e5d96f6d7d0"
   },
   "outputs": [
    {
     "name": "stdout",
     "output_type": "stream",
     "text": [
      "1/1 [==============================] - 0s 37ms/step\n",
      "Prediction:  [[24.935966]]\n"
     ]
    }
   ],
   "source": [
    "# Make predictions on the test set\n",
    "y_pred = tf_model.predict(X_test[:1])\n",
    "print('Prediction: ', y_pred)"
   ]
  },
  {
   "cell_type": "code",
   "execution_count": null,
   "metadata": {
    "colab": {
     "base_uri": "https://localhost:8080/"
    },
    "id": "Er1zJWD8LO6o",
    "outputId": "6c72eb46-fd69-4446-aa2e-57c014b666ae"
   },
   "outputs": [
    {
     "name": "stdout",
     "output_type": "stream",
     "text": [
      "1/1 [==============================] - 0s 49ms/step\n",
      "Predict: [[1.4522153]]\n"
     ]
    }
   ],
   "source": [
    "# Make predictions on new data\n",
    "\n",
    "# X new\n",
    "X_new = [[0.05,\t0.0,\t6.0,\t0.0,\t0.5,\t6.5,\t79.0,\t5.0,\t2.0,\t245.0,\t16.0,\t398,\t9.0]]\n",
    "\n",
    "# Scale the features\n",
    "X_new = scaler.transform(X_new)\n",
    "\n",
    "# Make predictions\n",
    "predictions_tf = tf_model.predict(X_new)\n",
    "print('Predict:', predictions_tf)"
   ]
  },
  {
   "cell_type": "markdown",
   "metadata": {
    "id": "aBROU2YDS2nS"
   },
   "source": [
    "## Tensorflow with function api"
   ]
  },
  {
   "cell_type": "code",
   "execution_count": null,
   "metadata": {
    "id": "RnI9FhhSS1g9"
   },
   "outputs": [],
   "source": [
    "# Define the model structure \n",
    "class Net(tf.keras.Model):\n",
    "    def __init__(self, input_size, hidden_size, output_size):\n",
    "        super(Net, self).__init__()\n",
    "        self.fc1 = tf.keras.layers.Dense(hidden_size, activation='relu')\n",
    "        self.fc2 = tf.keras.layers.Dense(hidden_size, activation='relu')\n",
    "        self.fc3 = tf.keras.layers.Dense(output_size, activation=None)\n",
    "\n",
    "    def call(self, x):\n",
    "        out = self.fc1(x)\n",
    "        out = self.fc2(out)\n",
    "        out = self.fc3(out)\n",
    "        return out"
   ]
  },
  {
   "cell_type": "code",
   "execution_count": null,
   "metadata": {
    "id": "rQso9M4jTLHn"
   },
   "outputs": [],
   "source": [
    "# Define the model\n",
    "tf_class_model = Net(in_size, hidden_size, out_size)\n",
    "\n",
    "# Define the loss function and optimizer\n",
    "loss_fn = tf.keras.losses.BinaryCrossentropy()\n",
    "optimizer = tf.keras.optimizers.SGD(learning_rate=0.01)\n",
    "\n",
    "# Compile the model\n",
    "tf_class_model.compile(optimizer='adam', loss='mse', metrics=['mae'])"
   ]
  },
  {
   "cell_type": "code",
   "execution_count": null,
   "metadata": {
    "id": "ulkq0fU4Uwjp"
   },
   "outputs": [],
   "source": [
    "# Train the model\n",
    "history = tf_class_model.fit(X_train, y_train, epochs=1000, batch_size=32, validation_split=0.2, verbose=0)"
   ]
  },
  {
   "cell_type": "code",
   "execution_count": null,
   "metadata": {
    "colab": {
     "base_uri": "https://localhost:8080/"
    },
    "id": "GEyQ9H9g4yBC",
    "outputId": "8d7e824a-edac-4768-cebb-d84f1be0a1a2"
   },
   "outputs": [
    {
     "name": "stdout",
     "output_type": "stream",
     "text": [
      "4/4 [==============================] - 0s 3ms/step - loss: 23.0569 - mae: 3.3071\n",
      "Test loss: 23.0569, Test MAE: 3.3071\n",
      "4/4 [==============================] - 0s 4ms/step\n",
      "R2 score: 0.6856\n"
     ]
    }
   ],
   "source": [
    "# Evaluate the model on the test set\n",
    "loss, mae = tf_class_model.evaluate(X_test, y_test)\n",
    "print(f'Test loss: {loss:.4f}, Test MAE: {mae:.4f}')\n",
    "\n",
    "# Calculate the R2 score\n",
    "y_pred = tf_class_model.predict(X_test)\n",
    "r2 = r2_score(y_test, y_pred)\n",
    "print(f'R2 score: {r2:.4f}')"
   ]
  },
  {
   "cell_type": "code",
   "execution_count": null,
   "metadata": {
    "colab": {
     "base_uri": "https://localhost:8080/"
    },
    "id": "VtTuvzDZ45YA",
    "outputId": "b84d8223-9e2a-480f-c146-b2981275b144"
   },
   "outputs": [
    {
     "name": "stdout",
     "output_type": "stream",
     "text": [
      "1/1 [==============================] - 0s 24ms/step\n",
      "Prediction:  [[27.910627]]\n"
     ]
    }
   ],
   "source": [
    "# Make predictions on the test set\n",
    "y_pred = tf_class_model.predict(X_test[:1])\n",
    "print('Prediction: ', y_pred)"
   ]
  },
  {
   "cell_type": "code",
   "execution_count": null,
   "metadata": {
    "colab": {
     "base_uri": "https://localhost:8080/"
    },
    "id": "XifxtewnTjQh",
    "outputId": "39e88ec5-ca0f-44d1-d366-e293de6b23fc"
   },
   "outputs": [
    {
     "name": "stdout",
     "output_type": "stream",
     "text": [
      "1/1 [==============================] - 0s 26ms/step\n",
      "Predict: [[1.6262757]]\n"
     ]
    }
   ],
   "source": [
    "# Make predictions on new data\n",
    "\n",
    "# X new\n",
    "X_new = [[0.05,\t0.0,\t6.0,\t0.0,\t0.5,\t6.5,\t79.0,\t5.0,\t2.0,\t245.0,\t16.0,\t398,\t9.0]]\n",
    "\n",
    "# Scale the features\n",
    "X_new = scaler.transform(X_new)\n",
    "\n",
    "# Make predictions\n",
    "predictions_tf = tf_class_model.predict(X_new)\n",
    "print('Predict:', predictions_tf)"
   ]
  },
  {
   "cell_type": "code",
   "execution_count": null,
   "metadata": {
    "id": "P44yCzAEXTOR"
   },
   "outputs": [],
   "source": []
  }
 ],
 "metadata": {
  "accelerator": "GPU",
  "colab": {
   "collapsed_sections": [
    "7X6ALoW5Nngt",
    "t6mxV0Sr6MEz",
    "-G6ij4-J4duz",
    "lx2Ey28rlG9u",
    "16saJ1njOzEs",
    "QKxn9YEXlPWP",
    "aBROU2YDS2nS"
   ],
   "provenance": []
  },
  "gpuClass": "standard",
  "kernelspec": {
   "display_name": "Python 3 (ipykernel)",
   "language": "python",
   "name": "python3"
  },
  "language_info": {
   "codemirror_mode": {
    "name": "ipython",
    "version": 3
   },
   "file_extension": ".py",
   "mimetype": "text/x-python",
   "name": "python",
   "nbconvert_exporter": "python",
   "pygments_lexer": "ipython3",
   "version": "3.9.13"
  }
 },
 "nbformat": 4,
 "nbformat_minor": 1
}

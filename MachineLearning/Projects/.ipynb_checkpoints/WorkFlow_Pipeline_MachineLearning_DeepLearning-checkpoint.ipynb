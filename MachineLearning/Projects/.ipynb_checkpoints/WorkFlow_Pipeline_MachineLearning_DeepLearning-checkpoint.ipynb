{
 "cells": [
  {
   "cell_type": "markdown",
   "metadata": {
    "id": "JeWEWfI3zDrW"
   },
   "source": [
    "# <center> **WORKFLOW FOR MACHINE LEARNING**\n",
    "\n",
    "## <center> GermanCreditRisk Dataset"
   ]
  },
  {
   "cell_type": "markdown",
   "metadata": {
    "id": "_3jm9VYNYvwn"
   },
   "source": [
    "# **START**"
   ]
  },
  {
   "cell_type": "markdown",
   "metadata": {
    "id": "5HMZwtREUVLk"
   },
   "source": [
    "## Basic workflow"
   ]
  },
  {
   "cell_type": "markdown",
   "metadata": {
    "id": "E9Z1L-sYzDt_"
   },
   "source": [
    "* Understanding the problem\n",
    "* Get data\n",
    "* Exploratory data analisys\n",
    "* Data munging/wrangling\n",
    "* Data engeneering\n",
    "* Create a Pipeline\n",
    "* Fit the Pipeline to the training data\n",
    "* Evalute the model on testing data\n",
    "* Predictions on new data"
   ]
  },
  {
   "cell_type": "markdown",
   "metadata": {
    "id": "7X6ALoW5Nngt"
   },
   "source": [
    "## Imports"
   ]
  },
  {
   "cell_type": "code",
   "execution_count": null,
   "metadata": {
    "id": "QzmZU_ftNn9g"
   },
   "outputs": [],
   "source": [
    "# General\n",
    "import warnings\n",
    "warnings.filterwarnings('ignore')\n",
    "\n",
    "import numpy as np\n",
    "import pandas as pd\n",
    "\n",
    "import plotly.tools as tls\n",
    "import plotly.graph_objs as go\n",
    "import matplotlib.pyplot as plt\n",
    "from plotly.subplots import make_subplots"
   ]
  },
  {
   "cell_type": "markdown",
   "metadata": {
    "id": "NeV-GKDTX3cJ"
   },
   "source": [
    "# **DATA**"
   ]
  },
  {
   "cell_type": "markdown",
   "metadata": {
    "id": "sOExO0vFQsCB"
   },
   "source": [
    "## **Resume**"
   ]
  },
  {
   "cell_type": "markdown",
   "metadata": {
    "id": "mz2b1synZ9IN"
   },
   "source": [
    "### Description"
   ]
  },
  {
   "cell_type": "markdown",
   "metadata": {
    "id": "dMKCYGjpUm1p"
   },
   "source": [
    "CREDIT_GERMAN_DATA is a set of data with financial and banking information from different customers, including whether they have good or bad credit. The task is to create a model capable of determining the loan risk for a new customer.\n",
    "\n",
    "**Source**\n",
    "\n",
    "https://archive.ics.uci.edu/ml/datasets/statlog+(german+credit+data)\n",
    "\n",
    "https://online.stat.psu.edu/stat508/book/export/html/796"
   ]
  },
  {
   "cell_type": "markdown",
   "metadata": {
    "id": "tJ5qqH4qXff8"
   },
   "source": [
    "### Features"
   ]
  },
  {
   "cell_type": "markdown",
   "metadata": {
    "id": "JefqotEYXYSq"
   },
   "source": [
    "Attribute 1: (qualitative) Status of existing checking account A11 : ... < 0 DM A12 : 0 <= ... < 200 DM A13 : ... >= 200 DM / salary assignments for at least 1 year A14 : no checking account\n",
    "\n",
    "Attribute 2: (numerical) Duration in month\n",
    "\n",
    "Attribute 3: (qualitative) Credit history A30 : no credits taken/all credits paid back duly A31 : all credits at this bank paid back duly A32 : existing credits paid back duly till now A33 : delay in paying off in the past A34 : critical account/other credits existing (not at this bank)\n",
    "\n",
    "Attribute 4: (qualitative) Purpose A40 : car (new) A41 : car (used) A42 : furniture/equipment A43 : radio/television A44 : domestic appliances A45 : repairs A46 : education A47 : vacation A48 : retraining A49 : business A410 : others\n",
    "\n",
    "Attribute 5: (numerical) Credit amount Attibute 6: (qualitative) Savings account/bonds A61 : ... < 100 DM A62 : 100 <= ... < 500 DM A63 : 500 <= ... < 1000 DM A64 : .. >= 1000 DM A65 : unknown/ no savings account\n",
    "\n",
    "Attribute 7: (qualitative) Present employment since A71 : unemployed A72 : ... < 1 year A73 : 1 <= ... < 4 years A74 : 4 <= ... < 7 years A75 : .. >= 7 years\n",
    "\n",
    "Attribute 8: (numerical) Installment rate in percentage of disposable income Attribute 9: (qualitative) Personal status and sex A91 : male : divorced/separated A92 : female : divorced/separated/married A93 : male : single A94 : male : married/widowed A95 : female : single Attribute 10: (qualitative) Other debtors / guarantors A101 : none A102 : co-applicant A103 : guarantor\n",
    "\n",
    "Attribute 11: (numerical) Present residence since\n",
    "\n",
    "Attribute 12: (qualitative) Property A121 : real estate A122 : if not A121 : building society savings agreement/life insurance A123 : if not A121/A122 : car or other, not in attribute 6 A124 : unknown / no property\n",
    "\n",
    "Attribute 13: (numerical) Age in years\n",
    "\n",
    "Attribute 14: (qualitative) Other installment plans A141 : bank A142 : stores A143 : none\n",
    "\n",
    "Attribute 15: (qualitative) Housing A151 : rent A152 : own A153 : for free\n",
    "\n",
    "Attribute 16: (numerical) Number of existing credits at this bank\n",
    "\n",
    "Attribute 17: (qualitative) Job A171 : unemployed/ unskilled - non-resident A172 : unskilled - resident A173 : skilled employee / official A174 : management/ self-employed/highly qualified employee/ officer\n",
    "\n",
    "Attribute 18: (numerical) Number of people being liable to provide maintenance for\n",
    "\n",
    "Attribute 19: (qualitative) Telephone A191 : none A192 : yes, registered under the customers name\n",
    "\n",
    "Attribute 20: (qualitative) foreign worker A201 : yes A202 : no"
   ]
  },
  {
   "cell_type": "markdown",
   "metadata": {
    "id": "t6mxV0Sr6MEz"
   },
   "source": [
    "## **Load data**"
   ]
  },
  {
   "cell_type": "code",
   "execution_count": null,
   "metadata": {
    "colab": {
     "base_uri": "https://localhost:8080/"
    },
    "id": "_g_eoejPB1f2",
    "outputId": "87f1383c-8308-40c0-9b12-7cd528fcadf2"
   },
   "outputs": [
    {
     "data": {
      "text/html": [
       "\n",
       "     <input type=\"file\" id=\"files-98c2e0de-40c6-4ce4-975c-247cc9ca7b49\" name=\"files[]\" multiple disabled\n",
       "        style=\"border:none\" />\n",
       "     <output id=\"result-98c2e0de-40c6-4ce4-975c-247cc9ca7b49\">\n",
       "      Upload widget is only available when the cell has been executed in the\n",
       "      current browser session. Please rerun this cell to enable.\n",
       "      </output>\n",
       "      <script>// Copyright 2017 Google LLC\n",
       "//\n",
       "// Licensed under the Apache License, Version 2.0 (the \"License\");\n",
       "// you may not use this file except in compliance with the License.\n",
       "// You may obtain a copy of the License at\n",
       "//\n",
       "//      http://www.apache.org/licenses/LICENSE-2.0\n",
       "//\n",
       "// Unless required by applicable law or agreed to in writing, software\n",
       "// distributed under the License is distributed on an \"AS IS\" BASIS,\n",
       "// WITHOUT WARRANTIES OR CONDITIONS OF ANY KIND, either express or implied.\n",
       "// See the License for the specific language governing permissions and\n",
       "// limitations under the License.\n",
       "\n",
       "/**\n",
       " * @fileoverview Helpers for google.colab Python module.\n",
       " */\n",
       "(function(scope) {\n",
       "function span(text, styleAttributes = {}) {\n",
       "  const element = document.createElement('span');\n",
       "  element.textContent = text;\n",
       "  for (const key of Object.keys(styleAttributes)) {\n",
       "    element.style[key] = styleAttributes[key];\n",
       "  }\n",
       "  return element;\n",
       "}\n",
       "\n",
       "// Max number of bytes which will be uploaded at a time.\n",
       "const MAX_PAYLOAD_SIZE = 100 * 1024;\n",
       "\n",
       "function _uploadFiles(inputId, outputId) {\n",
       "  const steps = uploadFilesStep(inputId, outputId);\n",
       "  const outputElement = document.getElementById(outputId);\n",
       "  // Cache steps on the outputElement to make it available for the next call\n",
       "  // to uploadFilesContinue from Python.\n",
       "  outputElement.steps = steps;\n",
       "\n",
       "  return _uploadFilesContinue(outputId);\n",
       "}\n",
       "\n",
       "// This is roughly an async generator (not supported in the browser yet),\n",
       "// where there are multiple asynchronous steps and the Python side is going\n",
       "// to poll for completion of each step.\n",
       "// This uses a Promise to block the python side on completion of each step,\n",
       "// then passes the result of the previous step as the input to the next step.\n",
       "function _uploadFilesContinue(outputId) {\n",
       "  const outputElement = document.getElementById(outputId);\n",
       "  const steps = outputElement.steps;\n",
       "\n",
       "  const next = steps.next(outputElement.lastPromiseValue);\n",
       "  return Promise.resolve(next.value.promise).then((value) => {\n",
       "    // Cache the last promise value to make it available to the next\n",
       "    // step of the generator.\n",
       "    outputElement.lastPromiseValue = value;\n",
       "    return next.value.response;\n",
       "  });\n",
       "}\n",
       "\n",
       "/**\n",
       " * Generator function which is called between each async step of the upload\n",
       " * process.\n",
       " * @param {string} inputId Element ID of the input file picker element.\n",
       " * @param {string} outputId Element ID of the output display.\n",
       " * @return {!Iterable<!Object>} Iterable of next steps.\n",
       " */\n",
       "function* uploadFilesStep(inputId, outputId) {\n",
       "  const inputElement = document.getElementById(inputId);\n",
       "  inputElement.disabled = false;\n",
       "\n",
       "  const outputElement = document.getElementById(outputId);\n",
       "  outputElement.innerHTML = '';\n",
       "\n",
       "  const pickedPromise = new Promise((resolve) => {\n",
       "    inputElement.addEventListener('change', (e) => {\n",
       "      resolve(e.target.files);\n",
       "    });\n",
       "  });\n",
       "\n",
       "  const cancel = document.createElement('button');\n",
       "  inputElement.parentElement.appendChild(cancel);\n",
       "  cancel.textContent = 'Cancel upload';\n",
       "  const cancelPromise = new Promise((resolve) => {\n",
       "    cancel.onclick = () => {\n",
       "      resolve(null);\n",
       "    };\n",
       "  });\n",
       "\n",
       "  // Wait for the user to pick the files.\n",
       "  const files = yield {\n",
       "    promise: Promise.race([pickedPromise, cancelPromise]),\n",
       "    response: {\n",
       "      action: 'starting',\n",
       "    }\n",
       "  };\n",
       "\n",
       "  cancel.remove();\n",
       "\n",
       "  // Disable the input element since further picks are not allowed.\n",
       "  inputElement.disabled = true;\n",
       "\n",
       "  if (!files) {\n",
       "    return {\n",
       "      response: {\n",
       "        action: 'complete',\n",
       "      }\n",
       "    };\n",
       "  }\n",
       "\n",
       "  for (const file of files) {\n",
       "    const li = document.createElement('li');\n",
       "    li.append(span(file.name, {fontWeight: 'bold'}));\n",
       "    li.append(span(\n",
       "        `(${file.type || 'n/a'}) - ${file.size} bytes, ` +\n",
       "        `last modified: ${\n",
       "            file.lastModifiedDate ? file.lastModifiedDate.toLocaleDateString() :\n",
       "                                    'n/a'} - `));\n",
       "    const percent = span('0% done');\n",
       "    li.appendChild(percent);\n",
       "\n",
       "    outputElement.appendChild(li);\n",
       "\n",
       "    const fileDataPromise = new Promise((resolve) => {\n",
       "      const reader = new FileReader();\n",
       "      reader.onload = (e) => {\n",
       "        resolve(e.target.result);\n",
       "      };\n",
       "      reader.readAsArrayBuffer(file);\n",
       "    });\n",
       "    // Wait for the data to be ready.\n",
       "    let fileData = yield {\n",
       "      promise: fileDataPromise,\n",
       "      response: {\n",
       "        action: 'continue',\n",
       "      }\n",
       "    };\n",
       "\n",
       "    // Use a chunked sending to avoid message size limits. See b/62115660.\n",
       "    let position = 0;\n",
       "    do {\n",
       "      const length = Math.min(fileData.byteLength - position, MAX_PAYLOAD_SIZE);\n",
       "      const chunk = new Uint8Array(fileData, position, length);\n",
       "      position += length;\n",
       "\n",
       "      const base64 = btoa(String.fromCharCode.apply(null, chunk));\n",
       "      yield {\n",
       "        response: {\n",
       "          action: 'append',\n",
       "          file: file.name,\n",
       "          data: base64,\n",
       "        },\n",
       "      };\n",
       "\n",
       "      let percentDone = fileData.byteLength === 0 ?\n",
       "          100 :\n",
       "          Math.round((position / fileData.byteLength) * 100);\n",
       "      percent.textContent = `${percentDone}% done`;\n",
       "\n",
       "    } while (position < fileData.byteLength);\n",
       "  }\n",
       "\n",
       "  // All done.\n",
       "  yield {\n",
       "    response: {\n",
       "      action: 'complete',\n",
       "    }\n",
       "  };\n",
       "}\n",
       "\n",
       "scope.google = scope.google || {};\n",
       "scope.google.colab = scope.google.colab || {};\n",
       "scope.google.colab._files = {\n",
       "  _uploadFiles,\n",
       "  _uploadFilesContinue,\n",
       "};\n",
       "})(self);\n",
       "</script> "
      ],
      "text/plain": [
       "<IPython.core.display.HTML object>"
      ]
     },
     "metadata": {},
     "output_type": "display_data"
    },
    {
     "name": "stdout",
     "output_type": "stream",
     "text": [
      "Saving GermanCreditRisk.csv to GermanCreditRisk.csv\n"
     ]
    }
   ],
   "source": [
    "from google.colab import files\n",
    "  \n",
    "uploaded = files.upload()"
   ]
  },
  {
   "cell_type": "code",
   "execution_count": null,
   "metadata": {
    "id": "efJEQUMdyM6f"
   },
   "outputs": [],
   "source": [
    "# Load the dataset\n",
    "import io\n",
    " \n",
    "df = pd.read_csv(io.BytesIO(uploaded['GermanCreditRisk.csv']))"
   ]
  },
  {
   "cell_type": "code",
   "execution_count": null,
   "metadata": {
    "colab": {
     "base_uri": "https://localhost:8080/"
    },
    "id": "KPzfe8gFOawM",
    "outputId": "e33a4737-b511-4812-8111-d6e0db92a14e"
   },
   "outputs": [
    {
     "data": {
      "text/html": [
       "\n",
       "  <div id=\"df-f52d71a4-89a1-48d5-aa4f-5483f7d18e3e\">\n",
       "    <div class=\"colab-df-container\">\n",
       "      <div>\n",
       "<style scoped>\n",
       "    .dataframe tbody tr th:only-of-type {\n",
       "        vertical-align: middle;\n",
       "    }\n",
       "\n",
       "    .dataframe tbody tr th {\n",
       "        vertical-align: top;\n",
       "    }\n",
       "\n",
       "    .dataframe thead th {\n",
       "        text-align: right;\n",
       "    }\n",
       "</style>\n",
       "<table border=\"1\" class=\"dataframe\">\n",
       "  <thead>\n",
       "    <tr style=\"text-align: right;\">\n",
       "      <th></th>\n",
       "      <th>checking_balance</th>\n",
       "      <th>months_loan_duration</th>\n",
       "      <th>credit_history</th>\n",
       "      <th>purpose</th>\n",
       "      <th>amount</th>\n",
       "      <th>savings_balance</th>\n",
       "      <th>employment_duration</th>\n",
       "      <th>percent_of_income</th>\n",
       "      <th>years_at_residence</th>\n",
       "      <th>age</th>\n",
       "      <th>other_credit</th>\n",
       "      <th>housing</th>\n",
       "      <th>existing_loans_count</th>\n",
       "      <th>job</th>\n",
       "      <th>dependents</th>\n",
       "      <th>phone</th>\n",
       "      <th>default</th>\n",
       "    </tr>\n",
       "  </thead>\n",
       "  <tbody>\n",
       "    <tr>\n",
       "      <th>0</th>\n",
       "      <td>&lt; 0 DM</td>\n",
       "      <td>6</td>\n",
       "      <td>critical</td>\n",
       "      <td>furniture/appliances</td>\n",
       "      <td>1169</td>\n",
       "      <td>unknown</td>\n",
       "      <td>&gt; 7 years</td>\n",
       "      <td>4</td>\n",
       "      <td>4</td>\n",
       "      <td>67</td>\n",
       "      <td>none</td>\n",
       "      <td>own</td>\n",
       "      <td>2</td>\n",
       "      <td>skilled</td>\n",
       "      <td>1</td>\n",
       "      <td>yes</td>\n",
       "      <td>no</td>\n",
       "    </tr>\n",
       "    <tr>\n",
       "      <th>1</th>\n",
       "      <td>1 - 200 DM</td>\n",
       "      <td>48</td>\n",
       "      <td>good</td>\n",
       "      <td>furniture/appliances</td>\n",
       "      <td>5951</td>\n",
       "      <td>&lt; 100 DM</td>\n",
       "      <td>1 - 4 years</td>\n",
       "      <td>2</td>\n",
       "      <td>2</td>\n",
       "      <td>22</td>\n",
       "      <td>none</td>\n",
       "      <td>own</td>\n",
       "      <td>1</td>\n",
       "      <td>skilled</td>\n",
       "      <td>1</td>\n",
       "      <td>no</td>\n",
       "      <td>yes</td>\n",
       "    </tr>\n",
       "    <tr>\n",
       "      <th>2</th>\n",
       "      <td>unknown</td>\n",
       "      <td>12</td>\n",
       "      <td>critical</td>\n",
       "      <td>education</td>\n",
       "      <td>2096</td>\n",
       "      <td>&lt; 100 DM</td>\n",
       "      <td>4 - 7 years</td>\n",
       "      <td>2</td>\n",
       "      <td>3</td>\n",
       "      <td>49</td>\n",
       "      <td>none</td>\n",
       "      <td>own</td>\n",
       "      <td>1</td>\n",
       "      <td>unskilled</td>\n",
       "      <td>2</td>\n",
       "      <td>no</td>\n",
       "      <td>no</td>\n",
       "    </tr>\n",
       "    <tr>\n",
       "      <th>3</th>\n",
       "      <td>&lt; 0 DM</td>\n",
       "      <td>42</td>\n",
       "      <td>good</td>\n",
       "      <td>furniture/appliances</td>\n",
       "      <td>7882</td>\n",
       "      <td>&lt; 100 DM</td>\n",
       "      <td>4 - 7 years</td>\n",
       "      <td>2</td>\n",
       "      <td>4</td>\n",
       "      <td>45</td>\n",
       "      <td>none</td>\n",
       "      <td>other</td>\n",
       "      <td>1</td>\n",
       "      <td>skilled</td>\n",
       "      <td>2</td>\n",
       "      <td>no</td>\n",
       "      <td>no</td>\n",
       "    </tr>\n",
       "    <tr>\n",
       "      <th>4</th>\n",
       "      <td>&lt; 0 DM</td>\n",
       "      <td>24</td>\n",
       "      <td>poor</td>\n",
       "      <td>car</td>\n",
       "      <td>4870</td>\n",
       "      <td>&lt; 100 DM</td>\n",
       "      <td>1 - 4 years</td>\n",
       "      <td>3</td>\n",
       "      <td>4</td>\n",
       "      <td>53</td>\n",
       "      <td>none</td>\n",
       "      <td>other</td>\n",
       "      <td>2</td>\n",
       "      <td>skilled</td>\n",
       "      <td>2</td>\n",
       "      <td>no</td>\n",
       "      <td>yes</td>\n",
       "    </tr>\n",
       "    <tr>\n",
       "      <th>...</th>\n",
       "      <td>...</td>\n",
       "      <td>...</td>\n",
       "      <td>...</td>\n",
       "      <td>...</td>\n",
       "      <td>...</td>\n",
       "      <td>...</td>\n",
       "      <td>...</td>\n",
       "      <td>...</td>\n",
       "      <td>...</td>\n",
       "      <td>...</td>\n",
       "      <td>...</td>\n",
       "      <td>...</td>\n",
       "      <td>...</td>\n",
       "      <td>...</td>\n",
       "      <td>...</td>\n",
       "      <td>...</td>\n",
       "      <td>...</td>\n",
       "    </tr>\n",
       "    <tr>\n",
       "      <th>995</th>\n",
       "      <td>unknown</td>\n",
       "      <td>12</td>\n",
       "      <td>good</td>\n",
       "      <td>furniture/appliances</td>\n",
       "      <td>1736</td>\n",
       "      <td>&lt; 100 DM</td>\n",
       "      <td>4 - 7 years</td>\n",
       "      <td>3</td>\n",
       "      <td>4</td>\n",
       "      <td>31</td>\n",
       "      <td>none</td>\n",
       "      <td>own</td>\n",
       "      <td>1</td>\n",
       "      <td>unskilled</td>\n",
       "      <td>1</td>\n",
       "      <td>no</td>\n",
       "      <td>no</td>\n",
       "    </tr>\n",
       "    <tr>\n",
       "      <th>996</th>\n",
       "      <td>&lt; 0 DM</td>\n",
       "      <td>30</td>\n",
       "      <td>good</td>\n",
       "      <td>car</td>\n",
       "      <td>3857</td>\n",
       "      <td>&lt; 100 DM</td>\n",
       "      <td>1 - 4 years</td>\n",
       "      <td>4</td>\n",
       "      <td>4</td>\n",
       "      <td>40</td>\n",
       "      <td>none</td>\n",
       "      <td>own</td>\n",
       "      <td>1</td>\n",
       "      <td>management</td>\n",
       "      <td>1</td>\n",
       "      <td>yes</td>\n",
       "      <td>no</td>\n",
       "    </tr>\n",
       "    <tr>\n",
       "      <th>997</th>\n",
       "      <td>unknown</td>\n",
       "      <td>12</td>\n",
       "      <td>good</td>\n",
       "      <td>furniture/appliances</td>\n",
       "      <td>804</td>\n",
       "      <td>&lt; 100 DM</td>\n",
       "      <td>&gt; 7 years</td>\n",
       "      <td>4</td>\n",
       "      <td>4</td>\n",
       "      <td>38</td>\n",
       "      <td>none</td>\n",
       "      <td>own</td>\n",
       "      <td>1</td>\n",
       "      <td>skilled</td>\n",
       "      <td>1</td>\n",
       "      <td>no</td>\n",
       "      <td>no</td>\n",
       "    </tr>\n",
       "    <tr>\n",
       "      <th>998</th>\n",
       "      <td>&lt; 0 DM</td>\n",
       "      <td>45</td>\n",
       "      <td>good</td>\n",
       "      <td>furniture/appliances</td>\n",
       "      <td>1845</td>\n",
       "      <td>&lt; 100 DM</td>\n",
       "      <td>1 - 4 years</td>\n",
       "      <td>4</td>\n",
       "      <td>4</td>\n",
       "      <td>23</td>\n",
       "      <td>none</td>\n",
       "      <td>other</td>\n",
       "      <td>1</td>\n",
       "      <td>skilled</td>\n",
       "      <td>1</td>\n",
       "      <td>yes</td>\n",
       "      <td>yes</td>\n",
       "    </tr>\n",
       "    <tr>\n",
       "      <th>999</th>\n",
       "      <td>1 - 200 DM</td>\n",
       "      <td>45</td>\n",
       "      <td>critical</td>\n",
       "      <td>car</td>\n",
       "      <td>4576</td>\n",
       "      <td>100 - 500 DM</td>\n",
       "      <td>unemployed</td>\n",
       "      <td>3</td>\n",
       "      <td>4</td>\n",
       "      <td>27</td>\n",
       "      <td>none</td>\n",
       "      <td>own</td>\n",
       "      <td>1</td>\n",
       "      <td>skilled</td>\n",
       "      <td>1</td>\n",
       "      <td>no</td>\n",
       "      <td>no</td>\n",
       "    </tr>\n",
       "  </tbody>\n",
       "</table>\n",
       "<p>1000 rows × 17 columns</p>\n",
       "</div>\n",
       "      <button class=\"colab-df-convert\" onclick=\"convertToInteractive('df-f52d71a4-89a1-48d5-aa4f-5483f7d18e3e')\"\n",
       "              title=\"Convert this dataframe to an interactive table.\"\n",
       "              style=\"display:none;\">\n",
       "        \n",
       "  <svg xmlns=\"http://www.w3.org/2000/svg\" height=\"24px\"viewBox=\"0 0 24 24\"\n",
       "       width=\"24px\">\n",
       "    <path d=\"M0 0h24v24H0V0z\" fill=\"none\"/>\n",
       "    <path d=\"M18.56 5.44l.94 2.06.94-2.06 2.06-.94-2.06-.94-.94-2.06-.94 2.06-2.06.94zm-11 1L8.5 8.5l.94-2.06 2.06-.94-2.06-.94L8.5 2.5l-.94 2.06-2.06.94zm10 10l.94 2.06.94-2.06 2.06-.94-2.06-.94-.94-2.06-.94 2.06-2.06.94z\"/><path d=\"M17.41 7.96l-1.37-1.37c-.4-.4-.92-.59-1.43-.59-.52 0-1.04.2-1.43.59L10.3 9.45l-7.72 7.72c-.78.78-.78 2.05 0 2.83L4 21.41c.39.39.9.59 1.41.59.51 0 1.02-.2 1.41-.59l7.78-7.78 2.81-2.81c.8-.78.8-2.07 0-2.86zM5.41 20L4 18.59l7.72-7.72 1.47 1.35L5.41 20z\"/>\n",
       "  </svg>\n",
       "      </button>\n",
       "      \n",
       "  <style>\n",
       "    .colab-df-container {\n",
       "      display:flex;\n",
       "      flex-wrap:wrap;\n",
       "      gap: 12px;\n",
       "    }\n",
       "\n",
       "    .colab-df-convert {\n",
       "      background-color: #E8F0FE;\n",
       "      border: none;\n",
       "      border-radius: 50%;\n",
       "      cursor: pointer;\n",
       "      display: none;\n",
       "      fill: #1967D2;\n",
       "      height: 32px;\n",
       "      padding: 0 0 0 0;\n",
       "      width: 32px;\n",
       "    }\n",
       "\n",
       "    .colab-df-convert:hover {\n",
       "      background-color: #E2EBFA;\n",
       "      box-shadow: 0px 1px 2px rgba(60, 64, 67, 0.3), 0px 1px 3px 1px rgba(60, 64, 67, 0.15);\n",
       "      fill: #174EA6;\n",
       "    }\n",
       "\n",
       "    [theme=dark] .colab-df-convert {\n",
       "      background-color: #3B4455;\n",
       "      fill: #D2E3FC;\n",
       "    }\n",
       "\n",
       "    [theme=dark] .colab-df-convert:hover {\n",
       "      background-color: #434B5C;\n",
       "      box-shadow: 0px 1px 3px 1px rgba(0, 0, 0, 0.15);\n",
       "      filter: drop-shadow(0px 1px 2px rgba(0, 0, 0, 0.3));\n",
       "      fill: #FFFFFF;\n",
       "    }\n",
       "  </style>\n",
       "\n",
       "      <script>\n",
       "        const buttonEl =\n",
       "          document.querySelector('#df-f52d71a4-89a1-48d5-aa4f-5483f7d18e3e button.colab-df-convert');\n",
       "        buttonEl.style.display =\n",
       "          google.colab.kernel.accessAllowed ? 'block' : 'none';\n",
       "\n",
       "        async function convertToInteractive(key) {\n",
       "          const element = document.querySelector('#df-f52d71a4-89a1-48d5-aa4f-5483f7d18e3e');\n",
       "          const dataTable =\n",
       "            await google.colab.kernel.invokeFunction('convertToInteractive',\n",
       "                                                     [key], {});\n",
       "          if (!dataTable) return;\n",
       "\n",
       "          const docLinkHtml = 'Like what you see? Visit the ' +\n",
       "            '<a target=\"_blank\" href=https://colab.research.google.com/notebooks/data_table.ipynb>data table notebook</a>'\n",
       "            + ' to learn more about interactive tables.';\n",
       "          element.innerHTML = '';\n",
       "          dataTable['output_type'] = 'display_data';\n",
       "          await google.colab.output.renderOutput(dataTable, element);\n",
       "          const docLink = document.createElement('div');\n",
       "          docLink.innerHTML = docLinkHtml;\n",
       "          element.appendChild(docLink);\n",
       "        }\n",
       "      </script>\n",
       "    </div>\n",
       "  </div>\n",
       "  "
      ],
      "text/plain": [
       "    checking_balance  months_loan_duration credit_history  \\\n",
       "0             < 0 DM                     6       critical   \n",
       "1         1 - 200 DM                    48           good   \n",
       "2            unknown                    12       critical   \n",
       "3             < 0 DM                    42           good   \n",
       "4             < 0 DM                    24           poor   \n",
       "..               ...                   ...            ...   \n",
       "995          unknown                    12           good   \n",
       "996           < 0 DM                    30           good   \n",
       "997          unknown                    12           good   \n",
       "998           < 0 DM                    45           good   \n",
       "999       1 - 200 DM                    45       critical   \n",
       "\n",
       "                  purpose  amount savings_balance employment_duration  \\\n",
       "0    furniture/appliances    1169         unknown           > 7 years   \n",
       "1    furniture/appliances    5951        < 100 DM         1 - 4 years   \n",
       "2               education    2096        < 100 DM         4 - 7 years   \n",
       "3    furniture/appliances    7882        < 100 DM         4 - 7 years   \n",
       "4                     car    4870        < 100 DM         1 - 4 years   \n",
       "..                    ...     ...             ...                 ...   \n",
       "995  furniture/appliances    1736        < 100 DM         4 - 7 years   \n",
       "996                   car    3857        < 100 DM         1 - 4 years   \n",
       "997  furniture/appliances     804        < 100 DM           > 7 years   \n",
       "998  furniture/appliances    1845        < 100 DM         1 - 4 years   \n",
       "999                   car    4576    100 - 500 DM          unemployed   \n",
       "\n",
       "     percent_of_income  years_at_residence  age other_credit housing  \\\n",
       "0                    4                   4   67         none     own   \n",
       "1                    2                   2   22         none     own   \n",
       "2                    2                   3   49         none     own   \n",
       "3                    2                   4   45         none   other   \n",
       "4                    3                   4   53         none   other   \n",
       "..                 ...                 ...  ...          ...     ...   \n",
       "995                  3                   4   31         none     own   \n",
       "996                  4                   4   40         none     own   \n",
       "997                  4                   4   38         none     own   \n",
       "998                  4                   4   23         none   other   \n",
       "999                  3                   4   27         none     own   \n",
       "\n",
       "     existing_loans_count         job  dependents phone default  \n",
       "0                       2     skilled           1   yes      no  \n",
       "1                       1     skilled           1    no     yes  \n",
       "2                       1   unskilled           2    no      no  \n",
       "3                       1     skilled           2    no      no  \n",
       "4                       2     skilled           2    no     yes  \n",
       "..                    ...         ...         ...   ...     ...  \n",
       "995                     1   unskilled           1    no      no  \n",
       "996                     1  management           1   yes      no  \n",
       "997                     1     skilled           1    no      no  \n",
       "998                     1     skilled           1   yes     yes  \n",
       "999                     1     skilled           1    no      no  \n",
       "\n",
       "[1000 rows x 17 columns]"
      ]
     },
     "execution_count": 4,
     "metadata": {},
     "output_type": "execute_result"
    }
   ],
   "source": [
    "# View data\n",
    "df"
   ]
  },
  {
   "cell_type": "markdown",
   "metadata": {
    "id": "b9fzMftCQ2c9"
   },
   "source": [
    "## **Data Handling**"
   ]
  },
  {
   "cell_type": "markdown",
   "metadata": {
    "id": "dkVpUKGWPbVo"
   },
   "source": [
    "### Exploratory data analisys"
   ]
  },
  {
   "cell_type": "markdown",
   "metadata": {
    "id": "sjTF_TZZueGJ"
   },
   "source": [
    "**First look**\n",
    "* Shape\n",
    "* Missing/Inconsistent data\n",
    "* Types\n",
    "* Balance\n",
    "\n",
    "**Statistics**\n",
    "* Descriptive summary\n",
    "* Correlations\n",
    "\n",
    "**Distribuitions**\n",
    "* Data distribution (box, hist, dens)\n",
    "* Outliers\n",
    "* Transformations"
   ]
  },
  {
   "cell_type": "markdown",
   "metadata": {
    "id": "PkyA5HWvxAuH"
   },
   "source": [
    "#### First look"
   ]
  },
  {
   "cell_type": "code",
   "execution_count": null,
   "metadata": {
    "colab": {
     "base_uri": "https://localhost:8080/"
    },
    "id": "vfPdHfTdvdDU",
    "outputId": "6f4b9aa2-ffee-49f1-f137-4f027e9beb86"
   },
   "outputs": [
    {
     "data": {
      "text/plain": [
       "(1000, 17)"
      ]
     },
     "execution_count": 5,
     "metadata": {},
     "output_type": "execute_result"
    }
   ],
   "source": [
    "# Shape\n",
    "df.shape"
   ]
  },
  {
   "cell_type": "code",
   "execution_count": null,
   "metadata": {
    "colab": {
     "base_uri": "https://localhost:8080/"
    },
    "id": "p7icQv_bvdou",
    "outputId": "cf388a5a-f226-456e-a594-ea2b5ed623c4"
   },
   "outputs": [
    {
     "name": "stdout",
     "output_type": "stream",
     "text": [
      "Null: False\n",
      "NaN: False\n",
      "None: 814\n",
      "unknown: 577\n"
     ]
    }
   ],
   "source": [
    "# Missing data\n",
    "print('Null:', df.isnull().values.any())\n",
    "print('NaN:', df.isna().values.any())\n",
    "print('None:', sum([sum(bool(x) for x in df[col].isin(['none'])) for col in df.columns]))\n",
    "print('unknown:', sum([sum(bool(x) for x in df[col].isin(['unknown'])) for col in df.columns]))"
   ]
  },
  {
   "cell_type": "code",
   "execution_count": null,
   "metadata": {
    "colab": {
     "base_uri": "https://localhost:8080/",
     "height": 583
    },
    "id": "rLzrMvAEvdxC",
    "outputId": "03ea2422-e2e6-4e1a-e8dd-f6f9f9e3d963"
   },
   "outputs": [
    {
     "data": {
      "text/html": [
       "\n",
       "  <div id=\"df-16ce7a69-1668-45a7-9de7-a4ddc88d0ddc\">\n",
       "    <div class=\"colab-df-container\">\n",
       "      <div>\n",
       "<style scoped>\n",
       "    .dataframe tbody tr th:only-of-type {\n",
       "        vertical-align: middle;\n",
       "    }\n",
       "\n",
       "    .dataframe tbody tr th {\n",
       "        vertical-align: top;\n",
       "    }\n",
       "\n",
       "    .dataframe thead th {\n",
       "        text-align: right;\n",
       "    }\n",
       "</style>\n",
       "<table border=\"1\" class=\"dataframe\">\n",
       "  <thead>\n",
       "    <tr style=\"text-align: right;\">\n",
       "      <th></th>\n",
       "      <th>Type</th>\n",
       "      <th>Unique</th>\n",
       "      <th>NaN</th>\n",
       "    </tr>\n",
       "  </thead>\n",
       "  <tbody>\n",
       "    <tr>\n",
       "      <th>checking_balance</th>\n",
       "      <td>object</td>\n",
       "      <td>3</td>\n",
       "      <td>394</td>\n",
       "    </tr>\n",
       "    <tr>\n",
       "      <th>months_loan_duration</th>\n",
       "      <td>int64</td>\n",
       "      <td>33</td>\n",
       "      <td>0</td>\n",
       "    </tr>\n",
       "    <tr>\n",
       "      <th>credit_history</th>\n",
       "      <td>object</td>\n",
       "      <td>5</td>\n",
       "      <td>0</td>\n",
       "    </tr>\n",
       "    <tr>\n",
       "      <th>purpose</th>\n",
       "      <td>object</td>\n",
       "      <td>6</td>\n",
       "      <td>0</td>\n",
       "    </tr>\n",
       "    <tr>\n",
       "      <th>amount</th>\n",
       "      <td>int64</td>\n",
       "      <td>921</td>\n",
       "      <td>0</td>\n",
       "    </tr>\n",
       "    <tr>\n",
       "      <th>savings_balance</th>\n",
       "      <td>object</td>\n",
       "      <td>4</td>\n",
       "      <td>183</td>\n",
       "    </tr>\n",
       "    <tr>\n",
       "      <th>employment_duration</th>\n",
       "      <td>object</td>\n",
       "      <td>5</td>\n",
       "      <td>0</td>\n",
       "    </tr>\n",
       "    <tr>\n",
       "      <th>percent_of_income</th>\n",
       "      <td>int64</td>\n",
       "      <td>4</td>\n",
       "      <td>0</td>\n",
       "    </tr>\n",
       "    <tr>\n",
       "      <th>years_at_residence</th>\n",
       "      <td>int64</td>\n",
       "      <td>4</td>\n",
       "      <td>0</td>\n",
       "    </tr>\n",
       "    <tr>\n",
       "      <th>age</th>\n",
       "      <td>int64</td>\n",
       "      <td>53</td>\n",
       "      <td>0</td>\n",
       "    </tr>\n",
       "    <tr>\n",
       "      <th>other_credit</th>\n",
       "      <td>object</td>\n",
       "      <td>2</td>\n",
       "      <td>814</td>\n",
       "    </tr>\n",
       "    <tr>\n",
       "      <th>housing</th>\n",
       "      <td>object</td>\n",
       "      <td>3</td>\n",
       "      <td>0</td>\n",
       "    </tr>\n",
       "    <tr>\n",
       "      <th>existing_loans_count</th>\n",
       "      <td>int64</td>\n",
       "      <td>4</td>\n",
       "      <td>0</td>\n",
       "    </tr>\n",
       "    <tr>\n",
       "      <th>job</th>\n",
       "      <td>object</td>\n",
       "      <td>4</td>\n",
       "      <td>0</td>\n",
       "    </tr>\n",
       "    <tr>\n",
       "      <th>dependents</th>\n",
       "      <td>int64</td>\n",
       "      <td>2</td>\n",
       "      <td>0</td>\n",
       "    </tr>\n",
       "    <tr>\n",
       "      <th>phone</th>\n",
       "      <td>object</td>\n",
       "      <td>2</td>\n",
       "      <td>0</td>\n",
       "    </tr>\n",
       "    <tr>\n",
       "      <th>default</th>\n",
       "      <td>object</td>\n",
       "      <td>2</td>\n",
       "      <td>0</td>\n",
       "    </tr>\n",
       "  </tbody>\n",
       "</table>\n",
       "</div>\n",
       "      <button class=\"colab-df-convert\" onclick=\"convertToInteractive('df-16ce7a69-1668-45a7-9de7-a4ddc88d0ddc')\"\n",
       "              title=\"Convert this dataframe to an interactive table.\"\n",
       "              style=\"display:none;\">\n",
       "        \n",
       "  <svg xmlns=\"http://www.w3.org/2000/svg\" height=\"24px\"viewBox=\"0 0 24 24\"\n",
       "       width=\"24px\">\n",
       "    <path d=\"M0 0h24v24H0V0z\" fill=\"none\"/>\n",
       "    <path d=\"M18.56 5.44l.94 2.06.94-2.06 2.06-.94-2.06-.94-.94-2.06-.94 2.06-2.06.94zm-11 1L8.5 8.5l.94-2.06 2.06-.94-2.06-.94L8.5 2.5l-.94 2.06-2.06.94zm10 10l.94 2.06.94-2.06 2.06-.94-2.06-.94-.94-2.06-.94 2.06-2.06.94z\"/><path d=\"M17.41 7.96l-1.37-1.37c-.4-.4-.92-.59-1.43-.59-.52 0-1.04.2-1.43.59L10.3 9.45l-7.72 7.72c-.78.78-.78 2.05 0 2.83L4 21.41c.39.39.9.59 1.41.59.51 0 1.02-.2 1.41-.59l7.78-7.78 2.81-2.81c.8-.78.8-2.07 0-2.86zM5.41 20L4 18.59l7.72-7.72 1.47 1.35L5.41 20z\"/>\n",
       "  </svg>\n",
       "      </button>\n",
       "      \n",
       "  <style>\n",
       "    .colab-df-container {\n",
       "      display:flex;\n",
       "      flex-wrap:wrap;\n",
       "      gap: 12px;\n",
       "    }\n",
       "\n",
       "    .colab-df-convert {\n",
       "      background-color: #E8F0FE;\n",
       "      border: none;\n",
       "      border-radius: 50%;\n",
       "      cursor: pointer;\n",
       "      display: none;\n",
       "      fill: #1967D2;\n",
       "      height: 32px;\n",
       "      padding: 0 0 0 0;\n",
       "      width: 32px;\n",
       "    }\n",
       "\n",
       "    .colab-df-convert:hover {\n",
       "      background-color: #E2EBFA;\n",
       "      box-shadow: 0px 1px 2px rgba(60, 64, 67, 0.3), 0px 1px 3px 1px rgba(60, 64, 67, 0.15);\n",
       "      fill: #174EA6;\n",
       "    }\n",
       "\n",
       "    [theme=dark] .colab-df-convert {\n",
       "      background-color: #3B4455;\n",
       "      fill: #D2E3FC;\n",
       "    }\n",
       "\n",
       "    [theme=dark] .colab-df-convert:hover {\n",
       "      background-color: #434B5C;\n",
       "      box-shadow: 0px 1px 3px 1px rgba(0, 0, 0, 0.15);\n",
       "      filter: drop-shadow(0px 1px 2px rgba(0, 0, 0, 0.3));\n",
       "      fill: #FFFFFF;\n",
       "    }\n",
       "  </style>\n",
       "\n",
       "      <script>\n",
       "        const buttonEl =\n",
       "          document.querySelector('#df-16ce7a69-1668-45a7-9de7-a4ddc88d0ddc button.colab-df-convert');\n",
       "        buttonEl.style.display =\n",
       "          google.colab.kernel.accessAllowed ? 'block' : 'none';\n",
       "\n",
       "        async function convertToInteractive(key) {\n",
       "          const element = document.querySelector('#df-16ce7a69-1668-45a7-9de7-a4ddc88d0ddc');\n",
       "          const dataTable =\n",
       "            await google.colab.kernel.invokeFunction('convertToInteractive',\n",
       "                                                     [key], {});\n",
       "          if (!dataTable) return;\n",
       "\n",
       "          const docLinkHtml = 'Like what you see? Visit the ' +\n",
       "            '<a target=\"_blank\" href=https://colab.research.google.com/notebooks/data_table.ipynb>data table notebook</a>'\n",
       "            + ' to learn more about interactive tables.';\n",
       "          element.innerHTML = '';\n",
       "          dataTable['output_type'] = 'display_data';\n",
       "          await google.colab.output.renderOutput(dataTable, element);\n",
       "          const docLink = document.createElement('div');\n",
       "          docLink.innerHTML = docLinkHtml;\n",
       "          element.appendChild(docLink);\n",
       "        }\n",
       "      </script>\n",
       "    </div>\n",
       "  </div>\n",
       "  "
      ],
      "text/plain": [
       "                        Type  Unique  NaN\n",
       "checking_balance      object       3  394\n",
       "months_loan_duration   int64      33    0\n",
       "credit_history        object       5    0\n",
       "purpose               object       6    0\n",
       "amount                 int64     921    0\n",
       "savings_balance       object       4  183\n",
       "employment_duration   object       5    0\n",
       "percent_of_income      int64       4    0\n",
       "years_at_residence     int64       4    0\n",
       "age                    int64      53    0\n",
       "other_credit          object       2  814\n",
       "housing               object       3    0\n",
       "existing_loans_count   int64       4    0\n",
       "job                   object       4    0\n",
       "dependents             int64       2    0\n",
       "phone                 object       2    0\n",
       "default               object       2    0"
      ]
     },
     "execution_count": 7,
     "metadata": {},
     "output_type": "execute_result"
    }
   ],
   "source": [
    "# Types, count and na's\n",
    "\n",
    "# Missing data - Replace None to np.nan\n",
    "for col in df.columns:\n",
    "  df[col] = [np.nan if row == 'none' or row == 'unknown' else row for row in df[col]]\n",
    "\n",
    "# View  \n",
    "pd.DataFrame(pd.concat([df.dtypes, df.nunique(), df.isna().sum()], axis = 1)).rename(columns = {0: 'Type', \n",
    "                                                                                                1: 'Unique',\n",
    "                                                                                                2: 'NaN'})"
   ]
  },
  {
   "cell_type": "markdown",
   "metadata": {
    "id": "rNKDlxD1IDNG"
   },
   "source": [
    "Exclude other_credit and fill savings_balance checking_balance with most commom.\n",
    "\n",
    "An alternative is to use an unsupervised model to cluster the data, check the cluster that each observation belongs to and fill it with the mode of this cluster.\n"
   ]
  },
  {
   "cell_type": "code",
   "execution_count": null,
   "metadata": {
    "colab": {
     "base_uri": "https://localhost:8080/",
     "height": 542
    },
    "id": "aiJEIMN1yqPX",
    "outputId": "d0377cf1-427a-4ba6-9037-c307a937bef9"
   },
   "outputs": [
    {
     "data": {
      "text/html": [
       "<html>\n",
       "<head><meta charset=\"utf-8\" /></head>\n",
       "<body>\n",
       "    <div>            <script src=\"https://cdnjs.cloudflare.com/ajax/libs/mathjax/2.7.5/MathJax.js?config=TeX-AMS-MML_SVG\"></script><script type=\"text/javascript\">if (window.MathJax && window.MathJax.Hub && window.MathJax.Hub.Config) {window.MathJax.Hub.Config({SVG: {font: \"STIX-Web\"}});}</script>                <script type=\"text/javascript\">window.PlotlyConfig = {MathJaxConfig: 'local'};</script>\n",
       "        <script src=\"https://cdn.plot.ly/plotly-2.18.2.min.js\"></script>                <div id=\"fcecc1f5-ae2c-49ed-b5d2-282a2bbdffc8\" class=\"plotly-graph-div\" style=\"height:525px; width:700px;\"></div>            <script type=\"text/javascript\">                                    window.PLOTLYENV=window.PLOTLYENV || {};                                    if (document.getElementById(\"fcecc1f5-ae2c-49ed-b5d2-282a2bbdffc8\")) {                    Plotly.newPlot(                        \"fcecc1f5-ae2c-49ed-b5d2-282a2bbdffc8\",                        [{\"name\":\"Good credit\",\"text\":[700.0],\"textposition\":\"outside\",\"x\":[\"no\"],\"y\":[700],\"type\":\"bar\"},{\"name\":\"Bad Credit\",\"text\":[300.0],\"textposition\":\"outside\",\"x\":[\"yes\"],\"y\":[300],\"type\":\"bar\"}],                        {\"template\":{\"data\":{\"barpolar\":[{\"marker\":{\"line\":{\"color\":\"white\",\"width\":0.5},\"pattern\":{\"fillmode\":\"overlay\",\"size\":10,\"solidity\":0.2}},\"type\":\"barpolar\"}],\"bar\":[{\"error_x\":{\"color\":\"rgb(36,36,36)\"},\"error_y\":{\"color\":\"rgb(36,36,36)\"},\"marker\":{\"line\":{\"color\":\"white\",\"width\":0.5},\"pattern\":{\"fillmode\":\"overlay\",\"size\":10,\"solidity\":0.2}},\"type\":\"bar\"}],\"carpet\":[{\"aaxis\":{\"endlinecolor\":\"rgb(36,36,36)\",\"gridcolor\":\"white\",\"linecolor\":\"white\",\"minorgridcolor\":\"white\",\"startlinecolor\":\"rgb(36,36,36)\"},\"baxis\":{\"endlinecolor\":\"rgb(36,36,36)\",\"gridcolor\":\"white\",\"linecolor\":\"white\",\"minorgridcolor\":\"white\",\"startlinecolor\":\"rgb(36,36,36)\"},\"type\":\"carpet\"}],\"choropleth\":[{\"colorbar\":{\"outlinewidth\":1,\"tickcolor\":\"rgb(36,36,36)\",\"ticks\":\"outside\"},\"type\":\"choropleth\"}],\"contourcarpet\":[{\"colorbar\":{\"outlinewidth\":1,\"tickcolor\":\"rgb(36,36,36)\",\"ticks\":\"outside\"},\"type\":\"contourcarpet\"}],\"contour\":[{\"colorbar\":{\"outlinewidth\":1,\"tickcolor\":\"rgb(36,36,36)\",\"ticks\":\"outside\"},\"colorscale\":[[0.0,\"#440154\"],[0.1111111111111111,\"#482878\"],[0.2222222222222222,\"#3e4989\"],[0.3333333333333333,\"#31688e\"],[0.4444444444444444,\"#26828e\"],[0.5555555555555556,\"#1f9e89\"],[0.6666666666666666,\"#35b779\"],[0.7777777777777778,\"#6ece58\"],[0.8888888888888888,\"#b5de2b\"],[1.0,\"#fde725\"]],\"type\":\"contour\"}],\"heatmapgl\":[{\"colorbar\":{\"outlinewidth\":1,\"tickcolor\":\"rgb(36,36,36)\",\"ticks\":\"outside\"},\"colorscale\":[[0.0,\"#440154\"],[0.1111111111111111,\"#482878\"],[0.2222222222222222,\"#3e4989\"],[0.3333333333333333,\"#31688e\"],[0.4444444444444444,\"#26828e\"],[0.5555555555555556,\"#1f9e89\"],[0.6666666666666666,\"#35b779\"],[0.7777777777777778,\"#6ece58\"],[0.8888888888888888,\"#b5de2b\"],[1.0,\"#fde725\"]],\"type\":\"heatmapgl\"}],\"heatmap\":[{\"colorbar\":{\"outlinewidth\":1,\"tickcolor\":\"rgb(36,36,36)\",\"ticks\":\"outside\"},\"colorscale\":[[0.0,\"#440154\"],[0.1111111111111111,\"#482878\"],[0.2222222222222222,\"#3e4989\"],[0.3333333333333333,\"#31688e\"],[0.4444444444444444,\"#26828e\"],[0.5555555555555556,\"#1f9e89\"],[0.6666666666666666,\"#35b779\"],[0.7777777777777778,\"#6ece58\"],[0.8888888888888888,\"#b5de2b\"],[1.0,\"#fde725\"]],\"type\":\"heatmap\"}],\"histogram2dcontour\":[{\"colorbar\":{\"outlinewidth\":1,\"tickcolor\":\"rgb(36,36,36)\",\"ticks\":\"outside\"},\"colorscale\":[[0.0,\"#440154\"],[0.1111111111111111,\"#482878\"],[0.2222222222222222,\"#3e4989\"],[0.3333333333333333,\"#31688e\"],[0.4444444444444444,\"#26828e\"],[0.5555555555555556,\"#1f9e89\"],[0.6666666666666666,\"#35b779\"],[0.7777777777777778,\"#6ece58\"],[0.8888888888888888,\"#b5de2b\"],[1.0,\"#fde725\"]],\"type\":\"histogram2dcontour\"}],\"histogram2d\":[{\"colorbar\":{\"outlinewidth\":1,\"tickcolor\":\"rgb(36,36,36)\",\"ticks\":\"outside\"},\"colorscale\":[[0.0,\"#440154\"],[0.1111111111111111,\"#482878\"],[0.2222222222222222,\"#3e4989\"],[0.3333333333333333,\"#31688e\"],[0.4444444444444444,\"#26828e\"],[0.5555555555555556,\"#1f9e89\"],[0.6666666666666666,\"#35b779\"],[0.7777777777777778,\"#6ece58\"],[0.8888888888888888,\"#b5de2b\"],[1.0,\"#fde725\"]],\"type\":\"histogram2d\"}],\"histogram\":[{\"marker\":{\"line\":{\"color\":\"white\",\"width\":0.6}},\"type\":\"histogram\"}],\"mesh3d\":[{\"colorbar\":{\"outlinewidth\":1,\"tickcolor\":\"rgb(36,36,36)\",\"ticks\":\"outside\"},\"type\":\"mesh3d\"}],\"parcoords\":[{\"line\":{\"colorbar\":{\"outlinewidth\":1,\"tickcolor\":\"rgb(36,36,36)\",\"ticks\":\"outside\"}},\"type\":\"parcoords\"}],\"pie\":[{\"automargin\":true,\"type\":\"pie\"}],\"scatter3d\":[{\"line\":{\"colorbar\":{\"outlinewidth\":1,\"tickcolor\":\"rgb(36,36,36)\",\"ticks\":\"outside\"}},\"marker\":{\"colorbar\":{\"outlinewidth\":1,\"tickcolor\":\"rgb(36,36,36)\",\"ticks\":\"outside\"}},\"type\":\"scatter3d\"}],\"scattercarpet\":[{\"marker\":{\"colorbar\":{\"outlinewidth\":1,\"tickcolor\":\"rgb(36,36,36)\",\"ticks\":\"outside\"}},\"type\":\"scattercarpet\"}],\"scattergeo\":[{\"marker\":{\"colorbar\":{\"outlinewidth\":1,\"tickcolor\":\"rgb(36,36,36)\",\"ticks\":\"outside\"}},\"type\":\"scattergeo\"}],\"scattergl\":[{\"marker\":{\"colorbar\":{\"outlinewidth\":1,\"tickcolor\":\"rgb(36,36,36)\",\"ticks\":\"outside\"}},\"type\":\"scattergl\"}],\"scattermapbox\":[{\"marker\":{\"colorbar\":{\"outlinewidth\":1,\"tickcolor\":\"rgb(36,36,36)\",\"ticks\":\"outside\"}},\"type\":\"scattermapbox\"}],\"scatterpolargl\":[{\"marker\":{\"colorbar\":{\"outlinewidth\":1,\"tickcolor\":\"rgb(36,36,36)\",\"ticks\":\"outside\"}},\"type\":\"scatterpolargl\"}],\"scatterpolar\":[{\"marker\":{\"colorbar\":{\"outlinewidth\":1,\"tickcolor\":\"rgb(36,36,36)\",\"ticks\":\"outside\"}},\"type\":\"scatterpolar\"}],\"scatter\":[{\"fillpattern\":{\"fillmode\":\"overlay\",\"size\":10,\"solidity\":0.2},\"type\":\"scatter\"}],\"scatterternary\":[{\"marker\":{\"colorbar\":{\"outlinewidth\":1,\"tickcolor\":\"rgb(36,36,36)\",\"ticks\":\"outside\"}},\"type\":\"scatterternary\"}],\"surface\":[{\"colorbar\":{\"outlinewidth\":1,\"tickcolor\":\"rgb(36,36,36)\",\"ticks\":\"outside\"},\"colorscale\":[[0.0,\"#440154\"],[0.1111111111111111,\"#482878\"],[0.2222222222222222,\"#3e4989\"],[0.3333333333333333,\"#31688e\"],[0.4444444444444444,\"#26828e\"],[0.5555555555555556,\"#1f9e89\"],[0.6666666666666666,\"#35b779\"],[0.7777777777777778,\"#6ece58\"],[0.8888888888888888,\"#b5de2b\"],[1.0,\"#fde725\"]],\"type\":\"surface\"}],\"table\":[{\"cells\":{\"fill\":{\"color\":\"rgb(237,237,237)\"},\"line\":{\"color\":\"white\"}},\"header\":{\"fill\":{\"color\":\"rgb(217,217,217)\"},\"line\":{\"color\":\"white\"}},\"type\":\"table\"}]},\"layout\":{\"annotationdefaults\":{\"arrowhead\":0,\"arrowwidth\":1},\"autotypenumbers\":\"strict\",\"coloraxis\":{\"colorbar\":{\"outlinewidth\":1,\"tickcolor\":\"rgb(36,36,36)\",\"ticks\":\"outside\"}},\"colorscale\":{\"diverging\":[[0.0,\"rgb(103,0,31)\"],[0.1,\"rgb(178,24,43)\"],[0.2,\"rgb(214,96,77)\"],[0.3,\"rgb(244,165,130)\"],[0.4,\"rgb(253,219,199)\"],[0.5,\"rgb(247,247,247)\"],[0.6,\"rgb(209,229,240)\"],[0.7,\"rgb(146,197,222)\"],[0.8,\"rgb(67,147,195)\"],[0.9,\"rgb(33,102,172)\"],[1.0,\"rgb(5,48,97)\"]],\"sequential\":[[0.0,\"#440154\"],[0.1111111111111111,\"#482878\"],[0.2222222222222222,\"#3e4989\"],[0.3333333333333333,\"#31688e\"],[0.4444444444444444,\"#26828e\"],[0.5555555555555556,\"#1f9e89\"],[0.6666666666666666,\"#35b779\"],[0.7777777777777778,\"#6ece58\"],[0.8888888888888888,\"#b5de2b\"],[1.0,\"#fde725\"]],\"sequentialminus\":[[0.0,\"#440154\"],[0.1111111111111111,\"#482878\"],[0.2222222222222222,\"#3e4989\"],[0.3333333333333333,\"#31688e\"],[0.4444444444444444,\"#26828e\"],[0.5555555555555556,\"#1f9e89\"],[0.6666666666666666,\"#35b779\"],[0.7777777777777778,\"#6ece58\"],[0.8888888888888888,\"#b5de2b\"],[1.0,\"#fde725\"]]},\"colorway\":[\"#1F77B4\",\"#FF7F0E\",\"#2CA02C\",\"#D62728\",\"#9467BD\",\"#8C564B\",\"#E377C2\",\"#7F7F7F\",\"#BCBD22\",\"#17BECF\"],\"font\":{\"color\":\"rgb(36,36,36)\"},\"geo\":{\"bgcolor\":\"white\",\"lakecolor\":\"white\",\"landcolor\":\"white\",\"showlakes\":true,\"showland\":true,\"subunitcolor\":\"white\"},\"hoverlabel\":{\"align\":\"left\"},\"hovermode\":\"closest\",\"mapbox\":{\"style\":\"light\"},\"paper_bgcolor\":\"white\",\"plot_bgcolor\":\"white\",\"polar\":{\"angularaxis\":{\"gridcolor\":\"rgb(232,232,232)\",\"linecolor\":\"rgb(36,36,36)\",\"showgrid\":false,\"showline\":true,\"ticks\":\"outside\"},\"bgcolor\":\"white\",\"radialaxis\":{\"gridcolor\":\"rgb(232,232,232)\",\"linecolor\":\"rgb(36,36,36)\",\"showgrid\":false,\"showline\":true,\"ticks\":\"outside\"}},\"scene\":{\"xaxis\":{\"backgroundcolor\":\"white\",\"gridcolor\":\"rgb(232,232,232)\",\"gridwidth\":2,\"linecolor\":\"rgb(36,36,36)\",\"showbackground\":true,\"showgrid\":false,\"showline\":true,\"ticks\":\"outside\",\"zeroline\":false,\"zerolinecolor\":\"rgb(36,36,36)\"},\"yaxis\":{\"backgroundcolor\":\"white\",\"gridcolor\":\"rgb(232,232,232)\",\"gridwidth\":2,\"linecolor\":\"rgb(36,36,36)\",\"showbackground\":true,\"showgrid\":false,\"showline\":true,\"ticks\":\"outside\",\"zeroline\":false,\"zerolinecolor\":\"rgb(36,36,36)\"},\"zaxis\":{\"backgroundcolor\":\"white\",\"gridcolor\":\"rgb(232,232,232)\",\"gridwidth\":2,\"linecolor\":\"rgb(36,36,36)\",\"showbackground\":true,\"showgrid\":false,\"showline\":true,\"ticks\":\"outside\",\"zeroline\":false,\"zerolinecolor\":\"rgb(36,36,36)\"}},\"shapedefaults\":{\"fillcolor\":\"black\",\"line\":{\"width\":0},\"opacity\":0.3},\"ternary\":{\"aaxis\":{\"gridcolor\":\"rgb(232,232,232)\",\"linecolor\":\"rgb(36,36,36)\",\"showgrid\":false,\"showline\":true,\"ticks\":\"outside\"},\"baxis\":{\"gridcolor\":\"rgb(232,232,232)\",\"linecolor\":\"rgb(36,36,36)\",\"showgrid\":false,\"showline\":true,\"ticks\":\"outside\"},\"bgcolor\":\"white\",\"caxis\":{\"gridcolor\":\"rgb(232,232,232)\",\"linecolor\":\"rgb(36,36,36)\",\"showgrid\":false,\"showline\":true,\"ticks\":\"outside\"}},\"title\":{\"x\":0.05},\"xaxis\":{\"automargin\":true,\"gridcolor\":\"rgb(232,232,232)\",\"linecolor\":\"rgb(36,36,36)\",\"showgrid\":false,\"showline\":true,\"ticks\":\"outside\",\"title\":{\"standoff\":15},\"zeroline\":false,\"zerolinecolor\":\"rgb(36,36,36)\"},\"yaxis\":{\"automargin\":true,\"gridcolor\":\"rgb(232,232,232)\",\"linecolor\":\"rgb(36,36,36)\",\"showgrid\":false,\"showline\":true,\"ticks\":\"outside\",\"title\":{\"standoff\":15},\"zeroline\":false,\"zerolinecolor\":\"rgb(36,36,36)\"}}},\"title\":{\"font\":{\"size\":20},\"text\":\"Target Balance\",\"x\":0.5},\"barmode\":\"group\",\"width\":700},                        {\"responsive\": true}                    ).then(function(){\n",
       "                            \n",
       "var gd = document.getElementById('fcecc1f5-ae2c-49ed-b5d2-282a2bbdffc8');\n",
       "var x = new MutationObserver(function (mutations, observer) {{\n",
       "        var display = window.getComputedStyle(gd).display;\n",
       "        if (!display || display === 'none') {{\n",
       "            console.log([gd, 'removed!']);\n",
       "            Plotly.purge(gd);\n",
       "            observer.disconnect();\n",
       "        }}\n",
       "}});\n",
       "\n",
       "// Listen for the removal of the full notebook cells\n",
       "var notebookContainer = gd.closest('#notebook-container');\n",
       "if (notebookContainer) {{\n",
       "    x.observe(notebookContainer, {childList: true});\n",
       "}}\n",
       "\n",
       "// Listen for the clearing of the current output cell\n",
       "var outputEl = gd.closest('.output');\n",
       "if (outputEl) {{\n",
       "    x.observe(outputEl, {childList: true});\n",
       "}}\n",
       "\n",
       "                        })                };                            </script>        </div>\n",
       "</body>\n",
       "</html>"
      ]
     },
     "metadata": {},
     "output_type": "display_data"
    }
   ],
   "source": [
    "# Check balance\n",
    "fig = go.Figure()\n",
    "\n",
    "fig.add_trace(go.Bar(\n",
    "    x=df.loc[df['default']=='no', 'default'].value_counts().index.values,\n",
    "    y=df.loc[df['default']=='no', 'default'].value_counts(),\n",
    "    text=df.loc[df['default']=='no', 'default'].value_counts(),\n",
    "    textposition=\"outside\",\n",
    "    name='Good credit'\n",
    "))\n",
    "\n",
    "fig.add_trace(go.Bar(\n",
    "    x=df.loc[df['default']=='yes', 'default'].value_counts().index.values,\n",
    "    y=df.loc[df['default']=='yes', 'default'].value_counts(),\n",
    "    text=df.loc[df['default']=='yes', 'default'].value_counts(),\n",
    "    textposition=\"outside\",\n",
    "    name='Bad Credit'\n",
    "))\n",
    "\n",
    "fig.update_layout(title=dict(text='Target Balance', \n",
    "                             x = 0.5,\n",
    "                             font=dict(size=20)), \n",
    "                  barmode='group',\n",
    "                  template='simple_white',\n",
    "                  width=700)\n",
    "\n",
    "fig.show()"
   ]
  },
  {
   "cell_type": "markdown",
   "metadata": {
    "id": "WXeTE06g6InA"
   },
   "source": [
    "#### Statistics"
   ]
  },
  {
   "cell_type": "code",
   "execution_count": null,
   "metadata": {
    "id": "BLCU2dwZw8zU"
   },
   "outputs": [],
   "source": [
    "# Pre-processing\n",
    "df['dependents'] = df['dependents'].astype(object)\n",
    "df['existing_loans_count'] = df['existing_loans_count'].astype(object)\n",
    "df['percent_of_income'] = df['percent_of_income'].astype(object)\n",
    "df['years_at_residence'] = df['percent_of_income'].astype(object)"
   ]
  },
  {
   "cell_type": "code",
   "execution_count": null,
   "metadata": {
    "colab": {
     "base_uri": "https://localhost:8080/"
    },
    "id": "T536RnVPvd2Z",
    "outputId": "a869a794-c92a-407a-976d-bcc77b656a83"
   },
   "outputs": [
    {
     "data": {
      "text/html": [
       "\n",
       "  <div id=\"df-cbc7c61d-2568-4d49-93b4-a0544dab3442\">\n",
       "    <div class=\"colab-df-container\">\n",
       "      <div>\n",
       "<style scoped>\n",
       "    .dataframe tbody tr th:only-of-type {\n",
       "        vertical-align: middle;\n",
       "    }\n",
       "\n",
       "    .dataframe tbody tr th {\n",
       "        vertical-align: top;\n",
       "    }\n",
       "\n",
       "    .dataframe thead th {\n",
       "        text-align: right;\n",
       "    }\n",
       "</style>\n",
       "<table border=\"1\" class=\"dataframe\">\n",
       "  <thead>\n",
       "    <tr style=\"text-align: right;\">\n",
       "      <th></th>\n",
       "      <th>months_loan_duration</th>\n",
       "      <th>amount</th>\n",
       "      <th>age</th>\n",
       "    </tr>\n",
       "  </thead>\n",
       "  <tbody>\n",
       "    <tr>\n",
       "      <th>count</th>\n",
       "      <td>1000.000000</td>\n",
       "      <td>1000.000000</td>\n",
       "      <td>1000.000000</td>\n",
       "    </tr>\n",
       "    <tr>\n",
       "      <th>mean</th>\n",
       "      <td>20.903000</td>\n",
       "      <td>3271.258000</td>\n",
       "      <td>35.546000</td>\n",
       "    </tr>\n",
       "    <tr>\n",
       "      <th>std</th>\n",
       "      <td>12.058814</td>\n",
       "      <td>2822.736876</td>\n",
       "      <td>11.375469</td>\n",
       "    </tr>\n",
       "    <tr>\n",
       "      <th>min</th>\n",
       "      <td>4.000000</td>\n",
       "      <td>250.000000</td>\n",
       "      <td>19.000000</td>\n",
       "    </tr>\n",
       "    <tr>\n",
       "      <th>25%</th>\n",
       "      <td>12.000000</td>\n",
       "      <td>1365.500000</td>\n",
       "      <td>27.000000</td>\n",
       "    </tr>\n",
       "    <tr>\n",
       "      <th>50%</th>\n",
       "      <td>18.000000</td>\n",
       "      <td>2319.500000</td>\n",
       "      <td>33.000000</td>\n",
       "    </tr>\n",
       "    <tr>\n",
       "      <th>75%</th>\n",
       "      <td>24.000000</td>\n",
       "      <td>3972.250000</td>\n",
       "      <td>42.000000</td>\n",
       "    </tr>\n",
       "    <tr>\n",
       "      <th>max</th>\n",
       "      <td>72.000000</td>\n",
       "      <td>18424.000000</td>\n",
       "      <td>75.000000</td>\n",
       "    </tr>\n",
       "  </tbody>\n",
       "</table>\n",
       "</div>\n",
       "      <button class=\"colab-df-convert\" onclick=\"convertToInteractive('df-cbc7c61d-2568-4d49-93b4-a0544dab3442')\"\n",
       "              title=\"Convert this dataframe to an interactive table.\"\n",
       "              style=\"display:none;\">\n",
       "        \n",
       "  <svg xmlns=\"http://www.w3.org/2000/svg\" height=\"24px\"viewBox=\"0 0 24 24\"\n",
       "       width=\"24px\">\n",
       "    <path d=\"M0 0h24v24H0V0z\" fill=\"none\"/>\n",
       "    <path d=\"M18.56 5.44l.94 2.06.94-2.06 2.06-.94-2.06-.94-.94-2.06-.94 2.06-2.06.94zm-11 1L8.5 8.5l.94-2.06 2.06-.94-2.06-.94L8.5 2.5l-.94 2.06-2.06.94zm10 10l.94 2.06.94-2.06 2.06-.94-2.06-.94-.94-2.06-.94 2.06-2.06.94z\"/><path d=\"M17.41 7.96l-1.37-1.37c-.4-.4-.92-.59-1.43-.59-.52 0-1.04.2-1.43.59L10.3 9.45l-7.72 7.72c-.78.78-.78 2.05 0 2.83L4 21.41c.39.39.9.59 1.41.59.51 0 1.02-.2 1.41-.59l7.78-7.78 2.81-2.81c.8-.78.8-2.07 0-2.86zM5.41 20L4 18.59l7.72-7.72 1.47 1.35L5.41 20z\"/>\n",
       "  </svg>\n",
       "      </button>\n",
       "      \n",
       "  <style>\n",
       "    .colab-df-container {\n",
       "      display:flex;\n",
       "      flex-wrap:wrap;\n",
       "      gap: 12px;\n",
       "    }\n",
       "\n",
       "    .colab-df-convert {\n",
       "      background-color: #E8F0FE;\n",
       "      border: none;\n",
       "      border-radius: 50%;\n",
       "      cursor: pointer;\n",
       "      display: none;\n",
       "      fill: #1967D2;\n",
       "      height: 32px;\n",
       "      padding: 0 0 0 0;\n",
       "      width: 32px;\n",
       "    }\n",
       "\n",
       "    .colab-df-convert:hover {\n",
       "      background-color: #E2EBFA;\n",
       "      box-shadow: 0px 1px 2px rgba(60, 64, 67, 0.3), 0px 1px 3px 1px rgba(60, 64, 67, 0.15);\n",
       "      fill: #174EA6;\n",
       "    }\n",
       "\n",
       "    [theme=dark] .colab-df-convert {\n",
       "      background-color: #3B4455;\n",
       "      fill: #D2E3FC;\n",
       "    }\n",
       "\n",
       "    [theme=dark] .colab-df-convert:hover {\n",
       "      background-color: #434B5C;\n",
       "      box-shadow: 0px 1px 3px 1px rgba(0, 0, 0, 0.15);\n",
       "      filter: drop-shadow(0px 1px 2px rgba(0, 0, 0, 0.3));\n",
       "      fill: #FFFFFF;\n",
       "    }\n",
       "  </style>\n",
       "\n",
       "      <script>\n",
       "        const buttonEl =\n",
       "          document.querySelector('#df-cbc7c61d-2568-4d49-93b4-a0544dab3442 button.colab-df-convert');\n",
       "        buttonEl.style.display =\n",
       "          google.colab.kernel.accessAllowed ? 'block' : 'none';\n",
       "\n",
       "        async function convertToInteractive(key) {\n",
       "          const element = document.querySelector('#df-cbc7c61d-2568-4d49-93b4-a0544dab3442');\n",
       "          const dataTable =\n",
       "            await google.colab.kernel.invokeFunction('convertToInteractive',\n",
       "                                                     [key], {});\n",
       "          if (!dataTable) return;\n",
       "\n",
       "          const docLinkHtml = 'Like what you see? Visit the ' +\n",
       "            '<a target=\"_blank\" href=https://colab.research.google.com/notebooks/data_table.ipynb>data table notebook</a>'\n",
       "            + ' to learn more about interactive tables.';\n",
       "          element.innerHTML = '';\n",
       "          dataTable['output_type'] = 'display_data';\n",
       "          await google.colab.output.renderOutput(dataTable, element);\n",
       "          const docLink = document.createElement('div');\n",
       "          docLink.innerHTML = docLinkHtml;\n",
       "          element.appendChild(docLink);\n",
       "        }\n",
       "      </script>\n",
       "    </div>\n",
       "  </div>\n",
       "  "
      ],
      "text/plain": [
       "       months_loan_duration        amount          age\n",
       "count           1000.000000   1000.000000  1000.000000\n",
       "mean              20.903000   3271.258000    35.546000\n",
       "std               12.058814   2822.736876    11.375469\n",
       "min                4.000000    250.000000    19.000000\n",
       "25%               12.000000   1365.500000    27.000000\n",
       "50%               18.000000   2319.500000    33.000000\n",
       "75%               24.000000   3972.250000    42.000000\n",
       "max               72.000000  18424.000000    75.000000"
      ]
     },
     "execution_count": 10,
     "metadata": {},
     "output_type": "execute_result"
    }
   ],
   "source": [
    "# Resume/Summary - Numeric\n",
    "df.select_dtypes(exclude = [object]).describe()"
   ]
  },
  {
   "cell_type": "code",
   "execution_count": null,
   "metadata": {
    "colab": {
     "base_uri": "https://localhost:8080/"
    },
    "id": "_r07Dnl0vd46",
    "outputId": "6f631ece-9be5-4f9c-81fd-c0daa0481eec"
   },
   "outputs": [
    {
     "data": {
      "text/html": [
       "\n",
       "  <div id=\"df-39100a78-e09b-4f46-9895-e84dffa6332a\">\n",
       "    <div class=\"colab-df-container\">\n",
       "      <div>\n",
       "<style scoped>\n",
       "    .dataframe tbody tr th:only-of-type {\n",
       "        vertical-align: middle;\n",
       "    }\n",
       "\n",
       "    .dataframe tbody tr th {\n",
       "        vertical-align: top;\n",
       "    }\n",
       "\n",
       "    .dataframe thead th {\n",
       "        text-align: right;\n",
       "    }\n",
       "</style>\n",
       "<table border=\"1\" class=\"dataframe\">\n",
       "  <thead>\n",
       "    <tr style=\"text-align: right;\">\n",
       "      <th></th>\n",
       "      <th>checking_balance</th>\n",
       "      <th>credit_history</th>\n",
       "      <th>purpose</th>\n",
       "      <th>savings_balance</th>\n",
       "      <th>employment_duration</th>\n",
       "      <th>percent_of_income</th>\n",
       "      <th>years_at_residence</th>\n",
       "      <th>other_credit</th>\n",
       "      <th>housing</th>\n",
       "      <th>existing_loans_count</th>\n",
       "      <th>job</th>\n",
       "      <th>dependents</th>\n",
       "      <th>phone</th>\n",
       "      <th>default</th>\n",
       "    </tr>\n",
       "  </thead>\n",
       "  <tbody>\n",
       "    <tr>\n",
       "      <th>count</th>\n",
       "      <td>606</td>\n",
       "      <td>1000</td>\n",
       "      <td>1000</td>\n",
       "      <td>817</td>\n",
       "      <td>1000</td>\n",
       "      <td>1000</td>\n",
       "      <td>1000</td>\n",
       "      <td>186</td>\n",
       "      <td>1000</td>\n",
       "      <td>1000</td>\n",
       "      <td>1000</td>\n",
       "      <td>1000</td>\n",
       "      <td>1000</td>\n",
       "      <td>1000</td>\n",
       "    </tr>\n",
       "    <tr>\n",
       "      <th>unique</th>\n",
       "      <td>3</td>\n",
       "      <td>5</td>\n",
       "      <td>6</td>\n",
       "      <td>4</td>\n",
       "      <td>5</td>\n",
       "      <td>4</td>\n",
       "      <td>4</td>\n",
       "      <td>2</td>\n",
       "      <td>3</td>\n",
       "      <td>4</td>\n",
       "      <td>4</td>\n",
       "      <td>2</td>\n",
       "      <td>2</td>\n",
       "      <td>2</td>\n",
       "    </tr>\n",
       "    <tr>\n",
       "      <th>top</th>\n",
       "      <td>&lt; 0 DM</td>\n",
       "      <td>good</td>\n",
       "      <td>furniture/appliances</td>\n",
       "      <td>&lt; 100 DM</td>\n",
       "      <td>1 - 4 years</td>\n",
       "      <td>4</td>\n",
       "      <td>4</td>\n",
       "      <td>bank</td>\n",
       "      <td>own</td>\n",
       "      <td>1</td>\n",
       "      <td>skilled</td>\n",
       "      <td>1</td>\n",
       "      <td>no</td>\n",
       "      <td>no</td>\n",
       "    </tr>\n",
       "    <tr>\n",
       "      <th>freq</th>\n",
       "      <td>274</td>\n",
       "      <td>530</td>\n",
       "      <td>473</td>\n",
       "      <td>603</td>\n",
       "      <td>339</td>\n",
       "      <td>476</td>\n",
       "      <td>476</td>\n",
       "      <td>139</td>\n",
       "      <td>713</td>\n",
       "      <td>633</td>\n",
       "      <td>630</td>\n",
       "      <td>845</td>\n",
       "      <td>596</td>\n",
       "      <td>700</td>\n",
       "    </tr>\n",
       "  </tbody>\n",
       "</table>\n",
       "</div>\n",
       "      <button class=\"colab-df-convert\" onclick=\"convertToInteractive('df-39100a78-e09b-4f46-9895-e84dffa6332a')\"\n",
       "              title=\"Convert this dataframe to an interactive table.\"\n",
       "              style=\"display:none;\">\n",
       "        \n",
       "  <svg xmlns=\"http://www.w3.org/2000/svg\" height=\"24px\"viewBox=\"0 0 24 24\"\n",
       "       width=\"24px\">\n",
       "    <path d=\"M0 0h24v24H0V0z\" fill=\"none\"/>\n",
       "    <path d=\"M18.56 5.44l.94 2.06.94-2.06 2.06-.94-2.06-.94-.94-2.06-.94 2.06-2.06.94zm-11 1L8.5 8.5l.94-2.06 2.06-.94-2.06-.94L8.5 2.5l-.94 2.06-2.06.94zm10 10l.94 2.06.94-2.06 2.06-.94-2.06-.94-.94-2.06-.94 2.06-2.06.94z\"/><path d=\"M17.41 7.96l-1.37-1.37c-.4-.4-.92-.59-1.43-.59-.52 0-1.04.2-1.43.59L10.3 9.45l-7.72 7.72c-.78.78-.78 2.05 0 2.83L4 21.41c.39.39.9.59 1.41.59.51 0 1.02-.2 1.41-.59l7.78-7.78 2.81-2.81c.8-.78.8-2.07 0-2.86zM5.41 20L4 18.59l7.72-7.72 1.47 1.35L5.41 20z\"/>\n",
       "  </svg>\n",
       "      </button>\n",
       "      \n",
       "  <style>\n",
       "    .colab-df-container {\n",
       "      display:flex;\n",
       "      flex-wrap:wrap;\n",
       "      gap: 12px;\n",
       "    }\n",
       "\n",
       "    .colab-df-convert {\n",
       "      background-color: #E8F0FE;\n",
       "      border: none;\n",
       "      border-radius: 50%;\n",
       "      cursor: pointer;\n",
       "      display: none;\n",
       "      fill: #1967D2;\n",
       "      height: 32px;\n",
       "      padding: 0 0 0 0;\n",
       "      width: 32px;\n",
       "    }\n",
       "\n",
       "    .colab-df-convert:hover {\n",
       "      background-color: #E2EBFA;\n",
       "      box-shadow: 0px 1px 2px rgba(60, 64, 67, 0.3), 0px 1px 3px 1px rgba(60, 64, 67, 0.15);\n",
       "      fill: #174EA6;\n",
       "    }\n",
       "\n",
       "    [theme=dark] .colab-df-convert {\n",
       "      background-color: #3B4455;\n",
       "      fill: #D2E3FC;\n",
       "    }\n",
       "\n",
       "    [theme=dark] .colab-df-convert:hover {\n",
       "      background-color: #434B5C;\n",
       "      box-shadow: 0px 1px 3px 1px rgba(0, 0, 0, 0.15);\n",
       "      filter: drop-shadow(0px 1px 2px rgba(0, 0, 0, 0.3));\n",
       "      fill: #FFFFFF;\n",
       "    }\n",
       "  </style>\n",
       "\n",
       "      <script>\n",
       "        const buttonEl =\n",
       "          document.querySelector('#df-39100a78-e09b-4f46-9895-e84dffa6332a button.colab-df-convert');\n",
       "        buttonEl.style.display =\n",
       "          google.colab.kernel.accessAllowed ? 'block' : 'none';\n",
       "\n",
       "        async function convertToInteractive(key) {\n",
       "          const element = document.querySelector('#df-39100a78-e09b-4f46-9895-e84dffa6332a');\n",
       "          const dataTable =\n",
       "            await google.colab.kernel.invokeFunction('convertToInteractive',\n",
       "                                                     [key], {});\n",
       "          if (!dataTable) return;\n",
       "\n",
       "          const docLinkHtml = 'Like what you see? Visit the ' +\n",
       "            '<a target=\"_blank\" href=https://colab.research.google.com/notebooks/data_table.ipynb>data table notebook</a>'\n",
       "            + ' to learn more about interactive tables.';\n",
       "          element.innerHTML = '';\n",
       "          dataTable['output_type'] = 'display_data';\n",
       "          await google.colab.output.renderOutput(dataTable, element);\n",
       "          const docLink = document.createElement('div');\n",
       "          docLink.innerHTML = docLinkHtml;\n",
       "          element.appendChild(docLink);\n",
       "        }\n",
       "      </script>\n",
       "    </div>\n",
       "  </div>\n",
       "  "
      ],
      "text/plain": [
       "       checking_balance credit_history               purpose savings_balance  \\\n",
       "count               606           1000                  1000             817   \n",
       "unique                3              5                     6               4   \n",
       "top              < 0 DM           good  furniture/appliances        < 100 DM   \n",
       "freq                274            530                   473             603   \n",
       "\n",
       "       employment_duration  percent_of_income  years_at_residence  \\\n",
       "count                 1000               1000                1000   \n",
       "unique                   5                  4                   4   \n",
       "top            1 - 4 years                  4                   4   \n",
       "freq                   339                476                 476   \n",
       "\n",
       "       other_credit housing  existing_loans_count      job  dependents phone  \\\n",
       "count           186    1000                  1000     1000        1000  1000   \n",
       "unique            2       3                     4        4           2     2   \n",
       "top            bank     own                     1  skilled           1    no   \n",
       "freq            139     713                   633      630         845   596   \n",
       "\n",
       "       default  \n",
       "count     1000  \n",
       "unique       2  \n",
       "top         no  \n",
       "freq       700  "
      ]
     },
     "execution_count": 11,
     "metadata": {},
     "output_type": "execute_result"
    }
   ],
   "source": [
    "# Resume/Summary - Categorical\n",
    "df.select_dtypes([object]).describe()"
   ]
  },
  {
   "cell_type": "code",
   "execution_count": null,
   "metadata": {
    "colab": {
     "base_uri": "https://localhost:8080/"
    },
    "id": "YoNAcrETvd7l",
    "outputId": "39886b4a-7e36-40e5-b88e-b8fff62742d6"
   },
   "outputs": [
    {
     "data": {
      "image/png": "[encoded data removed]",
      "text/plain": [
       "<Figure size 1100x500 with 2 Axes>"
      ]
     },
     "metadata": {},
     "output_type": "display_data"
    }
   ],
   "source": [
    "# View correlation\n",
    "import seaborn as sns\n",
    "import matplotlib.pyplot as plt\n",
    "\n",
    "correlation = df.corr()\n",
    "plt.figure(figsize = (11, 5))\n",
    "\n",
    "heatmap = sns.heatmap(correlation, annot = True, vmin = -1, vmax = 1, linewidths = 0, cmap = \"BrBG\")\n",
    "\n",
    "plt.tight_layout()\n",
    "plt.show()"
   ]
  },
  {
   "cell_type": "markdown",
   "metadata": {
    "id": "cmbj4gMm6FJk"
   },
   "source": [
    "It makes sense that the loan amount has a high positive correlation with the term of the loan."
   ]
  },
  {
   "cell_type": "markdown",
   "metadata": {
    "id": "vlJ9GDB058Wk"
   },
   "source": [
    "The cost of classifying a good payer as a bad payer is less than classifying a bad payer as a good payer. Therefore, we want the model to learn very well to correctly classify the bad payer, or at least as well as the good payer."
   ]
  },
  {
   "cell_type": "markdown",
   "metadata": {
    "id": "JGKZBcOqAXP2"
   },
   "source": [
    "#### Distribuitions"
   ]
  },
  {
   "cell_type": "code",
   "execution_count": null,
   "metadata": {
    "id": "p-cQnQ4k6f1c"
   },
   "outputs": [],
   "source": [
    "# Define numeric and categorical features\n",
    "numeric = df[df.select_dtypes(exclude = [object]).describe().columns]\n",
    "categorical = df[df.select_dtypes([object]).describe().columns]"
   ]
  },
  {
   "cell_type": "code",
   "execution_count": null,
   "metadata": {
    "id": "LKNinykKD8UG"
   },
   "outputs": [],
   "source": [
    "def plotDist(df, col):\n",
    "\n",
    "  # Check balance\n",
    "  fig = go.Figure()\n",
    "\n",
    "  # Define plt good ones\n",
    "  hist1 = go.Histogram(\n",
    "      x=df.loc[df['default']=='no', col].values,\n",
    "      histnorm='probability',\n",
    "      #name='Good credit'\n",
    "  )\n",
    "\n",
    "  # Define plt bad ones\n",
    "  hist2 = go.Histogram(\n",
    "      x=df.loc[df['default']=='yes', col].values,\n",
    "      histnorm='probability',\n",
    "      #name='Bad Credit'\n",
    "  )\n",
    "\n",
    "  # Define plt full\n",
    "  hist3 = go.Histogram(\n",
    "      x=df[col].values,\n",
    "      histnorm='probability',\n",
    "      #name='Overall '+str(col)\n",
    "  )\n",
    "\n",
    "  # Define plt good ones\n",
    "  box1 = go.Box(\n",
    "      y=df.loc[df['default']=='no', col].values,\n",
    "      #name='Good credit'\n",
    "  )\n",
    "\n",
    "  # Define plt bad ones\n",
    "  box2 = go.Box(\n",
    "      y=df.loc[df['default']=='yes', col].values,\n",
    "      #name='Bad Credit'\n",
    "  )\n",
    "\n",
    "  # Define plt full\n",
    "  box3 = go.Box(\n",
    "      y=df[col].values,\n",
    "      #name='Overall '+str(col)\n",
    "  )\n",
    "  # Define the grid\n",
    "  fig = tls.make_subplots(rows=2, cols=3, \n",
    "                          vertical_spacing = 0.1,\n",
    "                          shared_xaxes = True,\n",
    "                          subplot_titles=('Good','Bad', 'General Distribuition'))\n",
    "\n",
    "  # setting the figs\n",
    "  fig.append_trace(hist1, 1, 1)\n",
    "  fig.append_trace(hist2, 1, 2)\n",
    "  fig.append_trace(hist3, 1, 3)\n",
    "  fig.append_trace(box1, 2, 1)\n",
    "  fig.append_trace(box2, 2, 2)\n",
    "  fig.append_trace(box3, 2, 3)\n",
    "\n",
    "  fig.update_layout(title=dict(text=str(col).capitalize()+' Distribuition', \n",
    "                              x = 0.5,\n",
    "                              font=dict(size=18)), \n",
    "                    barmode='group',\n",
    "                    template='simple_white',\n",
    "                    showlegend=False,\n",
    "                    width=1000)\n",
    "  \n",
    "  fig.update_xaxes(showticklabels=False)\n",
    "\n",
    "  fig.show()"
   ]
  },
  {
   "cell_type": "code",
   "execution_count": null,
   "metadata": {
    "colab": {
     "base_uri": "https://localhost:8080/"
    },
    "id": "TVVJ6CFSHPz3",
    "outputId": "7524f259-1570-4bd5-ed4f-a657afcbd492"
   },
   "outputs": [
    {
     "name": "stderr",
     "output_type": "stream",
     "text": [
      "/usr/local/lib/python3.9/dist-packages/plotly/tools.py:460: DeprecationWarning:\n",
      "\n",
      "plotly.tools.make_subplots is deprecated, please use plotly.subplots.make_subplots instead\n",
      "\n"
     ]
    },
    {
     "data": {
      "text/html": [
       "<html>\n",
       "<head><meta charset=\"utf-8\" /></head>\n",
       "<body>\n",
       "    <div>            <script src=\"https://cdnjs.cloudflare.com/ajax/libs/mathjax/2.7.5/MathJax.js?config=TeX-AMS-MML_SVG\"></script><script type=\"text/javascript\">if (window.MathJax && window.MathJax.Hub && window.MathJax.Hub.Config) {window.MathJax.Hub.Config({SVG: {font: \"STIX-Web\"}});}</script>                <script type=\"text/javascript\">window.PlotlyConfig = {MathJaxConfig: 'local'};</script>\n",
       "        <script src=\"https://cdn.plot.ly/plotly-2.18.2.min.js\"></script>                <div id=\"75dfd0ee-897d-4249-ab0c-fc4718cbe57c\" class=\"plotly-graph-div\" style=\"height:525px; width:1000px;\"></div>            <script type=\"text/javascript\">                                    window.PLOTLYENV=window.PLOTLYENV || {};                                    if (document.getElementById(\"75dfd0ee-897d-4249-ab0c-fc4718cbe57c\")) {                    Plotly.newPlot(                        \"75dfd0ee-897d-4249-ab0c-fc4718cbe57c\",                        [{\"histnorm\":\"probability\",\"x\":[6,12,42,36,24,36,12,12,15,24,30,24,9,6,10,12,10,6,6,12,7,18,24,18,12,12,48,10,9,30,12,18,30,11,36,6,11,12,24,27,12,18,6,36,18,9,15,24,27,12,12,36,36,7,8,42,12,11,54,30,15,18,24,10,12,18,18,12,12,24,12,12,18,36,20,24,36,6,9,12,12,24,14,6,15,18,12,48,10,12,24,12,10,12,12,12,48,15,18,60,12,27,15,12,6,36,27,21,48,6,12,36,18,6,10,36,24,24,9,12,24,6,24,18,15,10,36,6,11,24,12,8,12,6,12,21,24,15,16,18,6,6,24,9,12,27,12,30,12,12,24,12,9,36,36,6,18,36,24,10,12,12,12,24,15,36,24,9,12,18,4,12,30,6,12,12,24,12,6,24,6,12,24,9,60,24,15,11,12,24,18,12,10,36,24,24,18,12,48,9,18,12,24,15,12,18,15,24,47,48,48,12,12,24,42,48,12,10,18,21,6,10,6,30,9,48,24,24,4,12,24,12,15,24,18,18,8,12,24,36,6,24,13,24,10,24,21,18,18,10,15,13,24,6,9,18,10,12,12,18,12,12,6,12,18,18,18,36,18,10,60,18,7,6,20,22,12,30,18,18,18,15,9,18,12,36,6,9,39,12,36,24,18,18,14,18,24,15,24,24,33,10,36,18,21,15,12,12,21,18,28,18,9,5,6,24,9,6,24,42,12,12,20,9,7,12,36,6,12,24,24,11,6,18,36,15,12,12,18,24,48,33,24,6,39,24,12,15,12,24,30,15,12,12,24,10,6,12,6,6,12,24,18,6,36,9,15,24,39,36,15,12,24,6,6,6,6,24,24,18,26,15,4,6,36,12,24,24,6,18,18,24,12,24,24,48,12,6,12,9,24,6,24,24,24,48,30,24,15,9,15,12,24,24,12,9,12,9,12,12,24,21,24,7,10,24,24,18,15,21,24,48,60,6,12,21,12,15,6,42,9,24,15,12,24,60,12,15,24,18,30,48,24,14,48,30,18,12,21,6,6,24,30,48,30,24,36,60,6,30,24,24,18,6,12,15,24,36,60,10,36,9,12,15,15,24,6,24,6,12,12,18,15,24,30,27,15,9,9,18,21,9,30,30,18,24,20,9,6,15,24,24,8,24,4,36,18,6,24,10,21,24,39,13,15,21,15,6,12,30,6,24,15,12,24,12,10,12,12,24,21,24,12,36,18,36,18,24,12,20,18,22,48,24,6,24,24,9,12,24,9,24,18,20,12,12,6,12,42,8,6,36,6,6,36,12,12,8,18,21,48,24,24,12,4,24,24,21,24,18,21,24,9,24,15,36,24,10,15,9,24,27,15,18,12,36,12,36,6,24,15,12,11,18,36,30,24,24,30,18,24,36,28,27,15,12,36,18,36,21,12,15,20,36,15,24,12,21,36,15,9,36,30,11,10,18,48,12,18,30,12,24,9,12,12,6,24,12,10,24,4,15,48,12,18,12,24,30,9,24,6,21,15,6,30,15,42,11,15,24,30,24,6,18,21,24,15,42,13,24,24,12,15,18,36,12,12,30,12,45],\"type\":\"histogram\",\"xaxis\":\"x\",\"yaxis\":\"y\"},{\"histnorm\":\"probability\",\"x\":[48,24,30,12,48,24,24,24,60,45,18,48,36,12,36,36,48,36,36,42,24,36,12,12,54,24,18,36,42,33,21,18,12,12,36,12,18,12,18,24,15,24,21,30,36,36,21,18,9,12,24,48,27,45,9,12,18,12,27,30,48,12,9,36,24,6,21,24,48,18,30,12,15,14,48,30,6,24,36,48,36,24,48,12,8,12,36,30,24,18,60,48,24,6,15,9,9,12,24,36,30,18,36,60,48,36,18,12,24,24,12,12,24,12,18,12,18,24,12,12,12,48,36,15,24,12,24,24,6,9,18,18,6,27,24,36,24,24,24,10,15,12,36,18,48,36,15,21,48,12,30,18,24,12,48,12,18,21,24,18,24,36,12,48,24,36,18,36,18,18,12,24,24,6,24,24,18,9,24,36,36,12,10,18,30,18,48,18,9,18,9,24,42,18,15,36,12,24,12,12,24,36,12,12,12,21,72,12,48,48,12,6,60,9,6,12,27,18,48,24,24,30,12,18,12,24,15,12,18,21,30,36,24,39,12,48,40,21,18,36,15,36,48,48,18,36,18,18,36,18,45,15,12,36,18,18,12,20,18,15,18,24,10,9,24,12,48,18,16,24,24,48,6,24,24,9,24,12,48,9,30,9,60,24,18,24,36,24,36,28,24,27,24,60,24,15,30,48,36,45],\"type\":\"histogram\",\"xaxis\":\"x2\",\"yaxis\":\"y2\"},{\"histnorm\":\"probability\",\"x\":[6,48,12,42,24,36,24,36,12,30,12,48,12,24,15,24,24,30,24,24,9,6,10,12,10,6,6,12,7,60,18,24,18,12,12,45,48,18,10,9,30,12,18,30,48,11,36,6,11,12,24,27,12,18,36,6,12,36,18,36,9,15,36,48,24,27,12,12,36,36,36,7,8,42,36,12,42,11,54,30,24,15,18,24,10,12,18,36,18,12,12,12,12,24,12,54,12,18,36,20,24,36,6,9,12,24,18,12,24,14,6,15,18,36,12,48,42,10,33,12,21,24,12,10,18,12,12,12,12,12,48,36,15,18,60,12,27,12,15,12,6,36,27,18,21,48,6,12,36,18,6,10,36,24,24,12,9,12,24,6,24,18,15,10,36,6,18,11,24,24,15,12,24,8,21,30,12,6,12,21,36,36,21,24,18,15,9,16,12,18,24,48,27,6,45,9,6,12,24,18,9,12,27,12,12,30,12,12,24,12,9,36,27,30,36,6,18,36,24,10,12,12,12,24,15,36,48,12,9,24,36,9,12,18,4,24,6,21,12,30,24,6,48,12,12,24,12,6,24,18,6,12,30,24,9,60,24,12,15,11,12,24,18,12,10,15,36,24,14,24,18,12,48,48,30,9,18,12,6,24,15,12,18,15,24,47,48,48,12,24,12,36,24,42,48,48,12,10,18,21,6,36,24,10,48,6,30,12,8,9,48,24,24,12,4,36,12,24,12,15,30,24,24,18,18,8,12,24,36,6,24,18,60,48,24,6,13,15,24,10,24,21,18,18,10,15,13,24,6,9,9,9,18,12,10,24,12,36,12,30,18,12,12,6,18,12,18,18,36,18,36,18,10,60,60,48,18,7,36,6,20,18,22,12,30,18,18,18,15,9,18,12,36,6,9,39,12,36,12,24,18,18,24,14,18,24,24,15,24,12,24,33,12,10,24,36,12,18,21,18,15,12,12,21,12,18,28,18,9,18,5,24,6,24,9,12,6,24,42,12,12,12,20,12,48,9,36,7,12,15,36,6,12,24,24,24,11,12,6,18,36,15,12,12,18,24,24,48,33,24,24,6,9,6,18,18,39,24,12,15,12,24,30,15,12,6,12,24,10,6,12,27,6,6,12,24,36,24,18,6,24,36,9,24,24,10,15,15,24,39,12,36,15,12,24,6,6,36,6,6,24,18,48,24,18,26,15,4,36,6,36,15,12,24,24,21,6,18,48,18,12,24,30,18,12,24,24,24,12,48,12,6,48,12,9,12,18,21,24,18,24,24,6,36,24,24,12,24,48,48,24,30,24,15,9,15,12,24,36,24,18,12,9,36,12,18,9,12,18,12,12,24,21,24,24,6,24,24,18,24,7,9,24,36,10,24,24,36,18,15,12,10,21,24,18,48,60,6,30,12,21,18,48,12,18,15,6,9,42,9,24,18,15,9,24,12,24,60,12,42,18,15,15,24,18,36,30,12,24,12,48,12,24,36,24,14,12,48,30,18,12,12,21,6,6,24,30,48,12,30,24,36,60,6,21,30,24,72,24,18,6,12,15,24,36,60,10,36,9,12,15,15,24,6,24,6,12,12,18,15,12,48,24,30,27,15,48,12,9,9,18,6,21,9,60,30,30,18,24,20,9,6,12,9,27,6,15,18,48,24,24,24,8,24,4,36,24,18,6,30,24,10,21,24,39,13,15,12,21,15,6,18,12,30,12,24,6,15,24,12,15,18,12,21,24,12,30,10,12,12,24,36,21,24,12,24,36,18,36,18,39,24,12,12,20,18,22,48,48,40,21,24,6,24,24,9,18,12,24,9,24,18,20,12,12,36,6,12,42,15,8,6,36,48,48,36,6,6,36,18,12,12,36,8,18,21,18,18,36,48,24,18,45,24,15,12,12,4,24,24,36,21,18,24,18,21,18,24,9,12,20,24,15,18,36,24,10,15,15,9,24,18,24,27,10,15,18,12,36,12,36,6,24,15,12,11,18,36,9,30,24,24,30,18,24,12,24,48,36,28,27,15,12,36,18,36,21,12,15,18,16,20,36,15,24,12,21,36,15,9,36,24,30,11,24,48,10,6,24,24,18,48,9,12,24,12,18,48,30,12,24,9,9,12,12,30,9,6,60,24,12,10,24,4,15,48,24,12,18,24,18,36,24,36,12,24,30,9,28,24,6,21,15,24,6,30,27,15,42,11,15,24,24,60,30,24,6,18,24,15,30,48,21,36,24,15,42,13,24,24,12,15,18,36,12,12,30,12,45,45],\"type\":\"histogram\",\"xaxis\":\"x3\",\"yaxis\":\"y3\"},{\"y\":[6,12,42,36,24,36,12,12,15,24,30,24,9,6,10,12,10,6,6,12,7,18,24,18,12,12,48,10,9,30,12,18,30,11,36,6,11,12,24,27,12,18,6,36,18,9,15,24,27,12,12,36,36,7,8,42,12,11,54,30,15,18,24,10,12,18,18,12,12,24,12,12,18,36,20,24,36,6,9,12,12,24,14,6,15,18,12,48,10,12,24,12,10,12,12,12,48,15,18,60,12,27,15,12,6,36,27,21,48,6,12,36,18,6,10,36,24,24,9,12,24,6,24,18,15,10,36,6,11,24,12,8,12,6,12,21,24,15,16,18,6,6,24,9,12,27,12,30,12,12,24,12,9,36,36,6,18,36,24,10,12,12,12,24,15,36,24,9,12,18,4,12,30,6,12,12,24,12,6,24,6,12,24,9,60,24,15,11,12,24,18,12,10,36,24,24,18,12,48,9,18,12,24,15,12,18,15,24,47,48,48,12,12,24,42,48,12,10,18,21,6,10,6,30,9,48,24,24,4,12,24,12,15,24,18,18,8,12,24,36,6,24,13,24,10,24,21,18,18,10,15,13,24,6,9,18,10,12,12,18,12,12,6,12,18,18,18,36,18,10,60,18,7,6,20,22,12,30,18,18,18,15,9,18,12,36,6,9,39,12,36,24,18,18,14,18,24,15,24,24,33,10,36,18,21,15,12,12,21,18,28,18,9,5,6,24,9,6,24,42,12,12,20,9,7,12,36,6,12,24,24,11,6,18,36,15,12,12,18,24,48,33,24,6,39,24,12,15,12,24,30,15,12,12,24,10,6,12,6,6,12,24,18,6,36,9,15,24,39,36,15,12,24,6,6,6,6,24,24,18,26,15,4,6,36,12,24,24,6,18,18,24,12,24,24,48,12,6,12,9,24,6,24,24,24,48,30,24,15,9,15,12,24,24,12,9,12,9,12,12,24,21,24,7,10,24,24,18,15,21,24,48,60,6,12,21,12,15,6,42,9,24,15,12,24,60,12,15,24,18,30,48,24,14,48,30,18,12,21,6,6,24,30,48,30,24,36,60,6,30,24,24,18,6,12,15,24,36,60,10,36,9,12,15,15,24,6,24,6,12,12,18,15,24,30,27,15,9,9,18,21,9,30,30,18,24,20,9,6,15,24,24,8,24,4,36,18,6,24,10,21,24,39,13,15,21,15,6,12,30,6,24,15,12,24,12,10,12,12,24,21,24,12,36,18,36,18,24,12,20,18,22,48,24,6,24,24,9,12,24,9,24,18,20,12,12,6,12,42,8,6,36,6,6,36,12,12,8,18,21,48,24,24,12,4,24,24,21,24,18,21,24,9,24,15,36,24,10,15,9,24,27,15,18,12,36,12,36,6,24,15,12,11,18,36,30,24,24,30,18,24,36,28,27,15,12,36,18,36,21,12,15,20,36,15,24,12,21,36,15,9,36,30,11,10,18,48,12,18,30,12,24,9,12,12,6,24,12,10,24,4,15,48,12,18,12,24,30,9,24,6,21,15,6,30,15,42,11,15,24,30,24,6,18,21,24,15,42,13,24,24,12,15,18,36,12,12,30,12,45],\"type\":\"box\",\"xaxis\":\"x4\",\"yaxis\":\"y4\"},{\"y\":[48,24,30,12,48,24,24,24,60,45,18,48,36,12,36,36,48,36,36,42,24,36,12,12,54,24,18,36,42,33,21,18,12,12,36,12,18,12,18,24,15,24,21,30,36,36,21,18,9,12,24,48,27,45,9,12,18,12,27,30,48,12,9,36,24,6,21,24,48,18,30,12,15,14,48,30,6,24,36,48,36,24,48,12,8,12,36,30,24,18,60,48,24,6,15,9,9,12,24,36,30,18,36,60,48,36,18,12,24,24,12,12,24,12,18,12,18,24,12,12,12,48,36,15,24,12,24,24,6,9,18,18,6,27,24,36,24,24,24,10,15,12,36,18,48,36,15,21,48,12,30,18,24,12,48,12,18,21,24,18,24,36,12,48,24,36,18,36,18,18,12,24,24,6,24,24,18,9,24,36,36,12,10,18,30,18,48,18,9,18,9,24,42,18,15,36,12,24,12,12,24,36,12,12,12,21,72,12,48,48,12,6,60,9,6,12,27,18,48,24,24,30,12,18,12,24,15,12,18,21,30,36,24,39,12,48,40,21,18,36,15,36,48,48,18,36,18,18,36,18,45,15,12,36,18,18,12,20,18,15,18,24,10,9,24,12,48,18,16,24,24,48,6,24,24,9,24,12,48,9,30,9,60,24,18,24,36,24,36,28,24,27,24,60,24,15,30,48,36,45],\"type\":\"box\",\"xaxis\":\"x5\",\"yaxis\":\"y5\"},{\"y\":[6,48,12,42,24,36,24,36,12,30,12,48,12,24,15,24,24,30,24,24,9,6,10,12,10,6,6,12,7,60,18,24,18,12,12,45,48,18,10,9,30,12,18,30,48,11,36,6,11,12,24,27,12,18,36,6,12,36,18,36,9,15,36,48,24,27,12,12,36,36,36,7,8,42,36,12,42,11,54,30,24,15,18,24,10,12,18,36,18,12,12,12,12,24,12,54,12,18,36,20,24,36,6,9,12,24,18,12,24,14,6,15,18,36,12,48,42,10,33,12,21,24,12,10,18,12,12,12,12,12,48,36,15,18,60,12,27,12,15,12,6,36,27,18,21,48,6,12,36,18,6,10,36,24,24,12,9,12,24,6,24,18,15,10,36,6,18,11,24,24,15,12,24,8,21,30,12,6,12,21,36,36,21,24,18,15,9,16,12,18,24,48,27,6,45,9,6,12,24,18,9,12,27,12,12,30,12,12,24,12,9,36,27,30,36,6,18,36,24,10,12,12,12,24,15,36,48,12,9,24,36,9,12,18,4,24,6,21,12,30,24,6,48,12,12,24,12,6,24,18,6,12,30,24,9,60,24,12,15,11,12,24,18,12,10,15,36,24,14,24,18,12,48,48,30,9,18,12,6,24,15,12,18,15,24,47,48,48,12,24,12,36,24,42,48,48,12,10,18,21,6,36,24,10,48,6,30,12,8,9,48,24,24,12,4,36,12,24,12,15,30,24,24,18,18,8,12,24,36,6,24,18,60,48,24,6,13,15,24,10,24,21,18,18,10,15,13,24,6,9,9,9,18,12,10,24,12,36,12,30,18,12,12,6,18,12,18,18,36,18,36,18,10,60,60,48,18,7,36,6,20,18,22,12,30,18,18,18,15,9,18,12,36,6,9,39,12,36,12,24,18,18,24,14,18,24,24,15,24,12,24,33,12,10,24,36,12,18,21,18,15,12,12,21,12,18,28,18,9,18,5,24,6,24,9,12,6,24,42,12,12,12,20,12,48,9,36,7,12,15,36,6,12,24,24,24,11,12,6,18,36,15,12,12,18,24,24,48,33,24,24,6,9,6,18,18,39,24,12,15,12,24,30,15,12,6,12,24,10,6,12,27,6,6,12,24,36,24,18,6,24,36,9,24,24,10,15,15,24,39,12,36,15,12,24,6,6,36,6,6,24,18,48,24,18,26,15,4,36,6,36,15,12,24,24,21,6,18,48,18,12,24,30,18,12,24,24,24,12,48,12,6,48,12,9,12,18,21,24,18,24,24,6,36,24,24,12,24,48,48,24,30,24,15,9,15,12,24,36,24,18,12,9,36,12,18,9,12,18,12,12,24,21,24,24,6,24,24,18,24,7,9,24,36,10,24,24,36,18,15,12,10,21,24,18,48,60,6,30,12,21,18,48,12,18,15,6,9,42,9,24,18,15,9,24,12,24,60,12,42,18,15,15,24,18,36,30,12,24,12,48,12,24,36,24,14,12,48,30,18,12,12,21,6,6,24,30,48,12,30,24,36,60,6,21,30,24,72,24,18,6,12,15,24,36,60,10,36,9,12,15,15,24,6,24,6,12,12,18,15,12,48,24,30,27,15,48,12,9,9,18,6,21,9,60,30,30,18,24,20,9,6,12,9,27,6,15,18,48,24,24,24,8,24,4,36,24,18,6,30,24,10,21,24,39,13,15,12,21,15,6,18,12,30,12,24,6,15,24,12,15,18,12,21,24,12,30,10,12,12,24,36,21,24,12,24,36,18,36,18,39,24,12,12,20,18,22,48,48,40,21,24,6,24,24,9,18,12,24,9,24,18,20,12,12,36,6,12,42,15,8,6,36,48,48,36,6,6,36,18,12,12,36,8,18,21,18,18,36,48,24,18,45,24,15,12,12,4,24,24,36,21,18,24,18,21,18,24,9,12,20,24,15,18,36,24,10,15,15,9,24,18,24,27,10,15,18,12,36,12,36,6,24,15,12,11,18,36,9,30,24,24,30,18,24,12,24,48,36,28,27,15,12,36,18,36,21,12,15,18,16,20,36,15,24,12,21,36,15,9,36,24,30,11,24,48,10,6,24,24,18,48,9,12,24,12,18,48,30,12,24,9,9,12,12,30,9,6,60,24,12,10,24,4,15,48,24,12,18,24,18,36,24,36,12,24,30,9,28,24,6,21,15,24,6,30,27,15,42,11,15,24,24,60,30,24,6,18,24,15,30,48,21,36,24,15,42,13,24,24,12,15,18,36,12,12,30,12,45,45],\"type\":\"box\",\"xaxis\":\"x6\",\"yaxis\":\"y6\"}],                        {\"template\":{\"data\":{\"barpolar\":[{\"marker\":{\"line\":{\"color\":\"white\",\"width\":0.5},\"pattern\":{\"fillmode\":\"overlay\",\"size\":10,\"solidity\":0.2}},\"type\":\"barpolar\"}],\"bar\":[{\"error_x\":{\"color\":\"rgb(36,36,36)\"},\"error_y\":{\"color\":\"rgb(36,36,36)\"},\"marker\":{\"line\":{\"color\":\"white\",\"width\":0.5},\"pattern\":{\"fillmode\":\"overlay\",\"size\":10,\"solidity\":0.2}},\"type\":\"bar\"}],\"carpet\":[{\"aaxis\":{\"endlinecolor\":\"rgb(36,36,36)\",\"gridcolor\":\"white\",\"linecolor\":\"white\",\"minorgridcolor\":\"white\",\"startlinecolor\":\"rgb(36,36,36)\"},\"baxis\":{\"endlinecolor\":\"rgb(36,36,36)\",\"gridcolor\":\"white\",\"linecolor\":\"white\",\"minorgridcolor\":\"white\",\"startlinecolor\":\"rgb(36,36,36)\"},\"type\":\"carpet\"}],\"choropleth\":[{\"colorbar\":{\"outlinewidth\":1,\"tickcolor\":\"rgb(36,36,36)\",\"ticks\":\"outside\"},\"type\":\"choropleth\"}],\"contourcarpet\":[{\"colorbar\":{\"outlinewidth\":1,\"tickcolor\":\"rgb(36,36,36)\",\"ticks\":\"outside\"},\"type\":\"contourcarpet\"}],\"contour\":[{\"colorbar\":{\"outlinewidth\":1,\"tickcolor\":\"rgb(36,36,36)\",\"ticks\":\"outside\"},\"colorscale\":[[0.0,\"#440154\"],[0.1111111111111111,\"#482878\"],[0.2222222222222222,\"#3e4989\"],[0.3333333333333333,\"#31688e\"],[0.4444444444444444,\"#26828e\"],[0.5555555555555556,\"#1f9e89\"],[0.6666666666666666,\"#35b779\"],[0.7777777777777778,\"#6ece58\"],[0.8888888888888888,\"#b5de2b\"],[1.0,\"#fde725\"]],\"type\":\"contour\"}],\"heatmapgl\":[{\"colorbar\":{\"outlinewidth\":1,\"tickcolor\":\"rgb(36,36,36)\",\"ticks\":\"outside\"},\"colorscale\":[[0.0,\"#440154\"],[0.1111111111111111,\"#482878\"],[0.2222222222222222,\"#3e4989\"],[0.3333333333333333,\"#31688e\"],[0.4444444444444444,\"#26828e\"],[0.5555555555555556,\"#1f9e89\"],[0.6666666666666666,\"#35b779\"],[0.7777777777777778,\"#6ece58\"],[0.8888888888888888,\"#b5de2b\"],[1.0,\"#fde725\"]],\"type\":\"heatmapgl\"}],\"heatmap\":[{\"colorbar\":{\"outlinewidth\":1,\"tickcolor\":\"rgb(36,36,36)\",\"ticks\":\"outside\"},\"colorscale\":[[0.0,\"#440154\"],[0.1111111111111111,\"#482878\"],[0.2222222222222222,\"#3e4989\"],[0.3333333333333333,\"#31688e\"],[0.4444444444444444,\"#26828e\"],[0.5555555555555556,\"#1f9e89\"],[0.6666666666666666,\"#35b779\"],[0.7777777777777778,\"#6ece58\"],[0.8888888888888888,\"#b5de2b\"],[1.0,\"#fde725\"]],\"type\":\"heatmap\"}],\"histogram2dcontour\":[{\"colorbar\":{\"outlinewidth\":1,\"tickcolor\":\"rgb(36,36,36)\",\"ticks\":\"outside\"},\"colorscale\":[[0.0,\"#440154\"],[0.1111111111111111,\"#482878\"],[0.2222222222222222,\"#3e4989\"],[0.3333333333333333,\"#31688e\"],[0.4444444444444444,\"#26828e\"],[0.5555555555555556,\"#1f9e89\"],[0.6666666666666666,\"#35b779\"],[0.7777777777777778,\"#6ece58\"],[0.8888888888888888,\"#b5de2b\"],[1.0,\"#fde725\"]],\"type\":\"histogram2dcontour\"}],\"histogram2d\":[{\"colorbar\":{\"outlinewidth\":1,\"tickcolor\":\"rgb(36,36,36)\",\"ticks\":\"outside\"},\"colorscale\":[[0.0,\"#440154\"],[0.1111111111111111,\"#482878\"],[0.2222222222222222,\"#3e4989\"],[0.3333333333333333,\"#31688e\"],[0.4444444444444444,\"#26828e\"],[0.5555555555555556,\"#1f9e89\"],[0.6666666666666666,\"#35b779\"],[0.7777777777777778,\"#6ece58\"],[0.8888888888888888,\"#b5de2b\"],[1.0,\"#fde725\"]],\"type\":\"histogram2d\"}],\"histogram\":[{\"marker\":{\"line\":{\"color\":\"white\",\"width\":0.6}},\"type\":\"histogram\"}],\"mesh3d\":[{\"colorbar\":{\"outlinewidth\":1,\"tickcolor\":\"rgb(36,36,36)\",\"ticks\":\"outside\"},\"type\":\"mesh3d\"}],\"parcoords\":[{\"line\":{\"colorbar\":{\"outlinewidth\":1,\"tickcolor\":\"rgb(36,36,36)\",\"ticks\":\"outside\"}},\"type\":\"parcoords\"}],\"pie\":[{\"automargin\":true,\"type\":\"pie\"}],\"scatter3d\":[{\"line\":{\"colorbar\":{\"outlinewidth\":1,\"tickcolor\":\"rgb(36,36,36)\",\"ticks\":\"outside\"}},\"marker\":{\"colorbar\":{\"outlinewidth\":1,\"tickcolor\":\"rgb(36,36,36)\",\"ticks\":\"outside\"}},\"type\":\"scatter3d\"}],\"scattercarpet\":[{\"marker\":{\"colorbar\":{\"outlinewidth\":1,\"tickcolor\":\"rgb(36,36,36)\",\"ticks\":\"outside\"}},\"type\":\"scattercarpet\"}],\"scattergeo\":[{\"marker\":{\"colorbar\":{\"outlinewidth\":1,\"tickcolor\":\"rgb(36,36,36)\",\"ticks\":\"outside\"}},\"type\":\"scattergeo\"}],\"scattergl\":[{\"marker\":{\"colorbar\":{\"outlinewidth\":1,\"tickcolor\":\"rgb(36,36,36)\",\"ticks\":\"outside\"}},\"type\":\"scattergl\"}],\"scattermapbox\":[{\"marker\":{\"colorbar\":{\"outlinewidth\":1,\"tickcolor\":\"rgb(36,36,36)\",\"ticks\":\"outside\"}},\"type\":\"scattermapbox\"}],\"scatterpolargl\":[{\"marker\":{\"colorbar\":{\"outlinewidth\":1,\"tickcolor\":\"rgb(36,36,36)\",\"ticks\":\"outside\"}},\"type\":\"scatterpolargl\"}],\"scatterpolar\":[{\"marker\":{\"colorbar\":{\"outlinewidth\":1,\"tickcolor\":\"rgb(36,36,36)\",\"ticks\":\"outside\"}},\"type\":\"scatterpolar\"}],\"scatter\":[{\"fillpattern\":{\"fillmode\":\"overlay\",\"size\":10,\"solidity\":0.2},\"type\":\"scatter\"}],\"scatterternary\":[{\"marker\":{\"colorbar\":{\"outlinewidth\":1,\"tickcolor\":\"rgb(36,36,36)\",\"ticks\":\"outside\"}},\"type\":\"scatterternary\"}],\"surface\":[{\"colorbar\":{\"outlinewidth\":1,\"tickcolor\":\"rgb(36,36,36)\",\"ticks\":\"outside\"},\"colorscale\":[[0.0,\"#440154\"],[0.1111111111111111,\"#482878\"],[0.2222222222222222,\"#3e4989\"],[0.3333333333333333,\"#31688e\"],[0.4444444444444444,\"#26828e\"],[0.5555555555555556,\"#1f9e89\"],[0.6666666666666666,\"#35b779\"],[0.7777777777777778,\"#6ece58\"],[0.8888888888888888,\"#b5de2b\"],[1.0,\"#fde725\"]],\"type\":\"surface\"}],\"table\":[{\"cells\":{\"fill\":{\"color\":\"rgb(237,237,237)\"},\"line\":{\"color\":\"white\"}},\"header\":{\"fill\":{\"color\":\"rgb(217,217,217)\"},\"line\":{\"color\":\"white\"}},\"type\":\"table\"}]},\"layout\":{\"annotationdefaults\":{\"arrowhead\":0,\"arrowwidth\":1},\"autotypenumbers\":\"strict\",\"coloraxis\":{\"colorbar\":{\"outlinewidth\":1,\"tickcolor\":\"rgb(36,36,36)\",\"ticks\":\"outside\"}},\"colorscale\":{\"diverging\":[[0.0,\"rgb(103,0,31)\"],[0.1,\"rgb(178,24,43)\"],[0.2,\"rgb(214,96,77)\"],[0.3,\"rgb(244,165,130)\"],[0.4,\"rgb(253,219,199)\"],[0.5,\"rgb(247,247,247)\"],[0.6,\"rgb(209,229,240)\"],[0.7,\"rgb(146,197,222)\"],[0.8,\"rgb(67,147,195)\"],[0.9,\"rgb(33,102,172)\"],[1.0,\"rgb(5,48,97)\"]],\"sequential\":[[0.0,\"#440154\"],[0.1111111111111111,\"#482878\"],[0.2222222222222222,\"#3e4989\"],[0.3333333333333333,\"#31688e\"],[0.4444444444444444,\"#26828e\"],[0.5555555555555556,\"#1f9e89\"],[0.6666666666666666,\"#35b779\"],[0.7777777777777778,\"#6ece58\"],[0.8888888888888888,\"#b5de2b\"],[1.0,\"#fde725\"]],\"sequentialminus\":[[0.0,\"#440154\"],[0.1111111111111111,\"#482878\"],[0.2222222222222222,\"#3e4989\"],[0.3333333333333333,\"#31688e\"],[0.4444444444444444,\"#26828e\"],[0.5555555555555556,\"#1f9e89\"],[0.6666666666666666,\"#35b779\"],[0.7777777777777778,\"#6ece58\"],[0.8888888888888888,\"#b5de2b\"],[1.0,\"#fde725\"]]},\"colorway\":[\"#1F77B4\",\"#FF7F0E\",\"#2CA02C\",\"#D62728\",\"#9467BD\",\"#8C564B\",\"#E377C2\",\"#7F7F7F\",\"#BCBD22\",\"#17BECF\"],\"font\":{\"color\":\"rgb(36,36,36)\"},\"geo\":{\"bgcolor\":\"white\",\"lakecolor\":\"white\",\"landcolor\":\"white\",\"showlakes\":true,\"showland\":true,\"subunitcolor\":\"white\"},\"hoverlabel\":{\"align\":\"left\"},\"hovermode\":\"closest\",\"mapbox\":{\"style\":\"light\"},\"paper_bgcolor\":\"white\",\"plot_bgcolor\":\"white\",\"polar\":{\"angularaxis\":{\"gridcolor\":\"rgb(232,232,232)\",\"linecolor\":\"rgb(36,36,36)\",\"showgrid\":false,\"showline\":true,\"ticks\":\"outside\"},\"bgcolor\":\"white\",\"radialaxis\":{\"gridcolor\":\"rgb(232,232,232)\",\"linecolor\":\"rgb(36,36,36)\",\"showgrid\":false,\"showline\":true,\"ticks\":\"outside\"}},\"scene\":{\"xaxis\":{\"backgroundcolor\":\"white\",\"gridcolor\":\"rgb(232,232,232)\",\"gridwidth\":2,\"linecolor\":\"rgb(36,36,36)\",\"showbackground\":true,\"showgrid\":false,\"showline\":true,\"ticks\":\"outside\",\"zeroline\":false,\"zerolinecolor\":\"rgb(36,36,36)\"},\"yaxis\":{\"backgroundcolor\":\"white\",\"gridcolor\":\"rgb(232,232,232)\",\"gridwidth\":2,\"linecolor\":\"rgb(36,36,36)\",\"showbackground\":true,\"showgrid\":false,\"showline\":true,\"ticks\":\"outside\",\"zeroline\":false,\"zerolinecolor\":\"rgb(36,36,36)\"},\"zaxis\":{\"backgroundcolor\":\"white\",\"gridcolor\":\"rgb(232,232,232)\",\"gridwidth\":2,\"linecolor\":\"rgb(36,36,36)\",\"showbackground\":true,\"showgrid\":false,\"showline\":true,\"ticks\":\"outside\",\"zeroline\":false,\"zerolinecolor\":\"rgb(36,36,36)\"}},\"shapedefaults\":{\"fillcolor\":\"black\",\"line\":{\"width\":0},\"opacity\":0.3},\"ternary\":{\"aaxis\":{\"gridcolor\":\"rgb(232,232,232)\",\"linecolor\":\"rgb(36,36,36)\",\"showgrid\":false,\"showline\":true,\"ticks\":\"outside\"},\"baxis\":{\"gridcolor\":\"rgb(232,232,232)\",\"linecolor\":\"rgb(36,36,36)\",\"showgrid\":false,\"showline\":true,\"ticks\":\"outside\"},\"bgcolor\":\"white\",\"caxis\":{\"gridcolor\":\"rgb(232,232,232)\",\"linecolor\":\"rgb(36,36,36)\",\"showgrid\":false,\"showline\":true,\"ticks\":\"outside\"}},\"title\":{\"x\":0.05},\"xaxis\":{\"automargin\":true,\"gridcolor\":\"rgb(232,232,232)\",\"linecolor\":\"rgb(36,36,36)\",\"showgrid\":false,\"showline\":true,\"ticks\":\"outside\",\"title\":{\"standoff\":15},\"zeroline\":false,\"zerolinecolor\":\"rgb(36,36,36)\"},\"yaxis\":{\"automargin\":true,\"gridcolor\":\"rgb(232,232,232)\",\"linecolor\":\"rgb(36,36,36)\",\"showgrid\":false,\"showline\":true,\"ticks\":\"outside\",\"title\":{\"standoff\":15},\"zeroline\":false,\"zerolinecolor\":\"rgb(36,36,36)\"}}},\"xaxis\":{\"anchor\":\"y\",\"domain\":[0.0,0.2888888888888889],\"matches\":\"x4\",\"showticklabels\":false},\"yaxis\":{\"anchor\":\"x\",\"domain\":[0.55,1.0]},\"xaxis2\":{\"anchor\":\"y2\",\"domain\":[0.35555555555555557,0.6444444444444445],\"matches\":\"x5\",\"showticklabels\":false},\"yaxis2\":{\"anchor\":\"x2\",\"domain\":[0.55,1.0]},\"xaxis3\":{\"anchor\":\"y3\",\"domain\":[0.7111111111111111,1.0],\"matches\":\"x6\",\"showticklabels\":false},\"yaxis3\":{\"anchor\":\"x3\",\"domain\":[0.55,1.0]},\"xaxis4\":{\"anchor\":\"y4\",\"domain\":[0.0,0.2888888888888889],\"showticklabels\":false},\"yaxis4\":{\"anchor\":\"x4\",\"domain\":[0.0,0.45]},\"xaxis5\":{\"anchor\":\"y5\",\"domain\":[0.35555555555555557,0.6444444444444445],\"showticklabels\":false},\"yaxis5\":{\"anchor\":\"x5\",\"domain\":[0.0,0.45]},\"xaxis6\":{\"anchor\":\"y6\",\"domain\":[0.7111111111111111,1.0],\"showticklabels\":false},\"yaxis6\":{\"anchor\":\"x6\",\"domain\":[0.0,0.45]},\"annotations\":[{\"font\":{\"size\":16},\"showarrow\":false,\"text\":\"Good\",\"x\":0.14444444444444446,\"xanchor\":\"center\",\"xref\":\"paper\",\"y\":1.0,\"yanchor\":\"bottom\",\"yref\":\"paper\"},{\"font\":{\"size\":16},\"showarrow\":false,\"text\":\"Bad\",\"x\":0.5,\"xanchor\":\"center\",\"xref\":\"paper\",\"y\":1.0,\"yanchor\":\"bottom\",\"yref\":\"paper\"},{\"font\":{\"size\":16},\"showarrow\":false,\"text\":\"General Distribuition\",\"x\":0.8555555555555556,\"xanchor\":\"center\",\"xref\":\"paper\",\"y\":1.0,\"yanchor\":\"bottom\",\"yref\":\"paper\"}],\"title\":{\"font\":{\"size\":18},\"text\":\"Months_loan_duration Distribuition\",\"x\":0.5},\"barmode\":\"group\",\"showlegend\":false,\"width\":1000},                        {\"responsive\": true}                    ).then(function(){\n",
       "                            \n",
       "var gd = document.getElementById('75dfd0ee-897d-4249-ab0c-fc4718cbe57c');\n",
       "var x = new MutationObserver(function (mutations, observer) {{\n",
       "        var display = window.getComputedStyle(gd).display;\n",
       "        if (!display || display === 'none') {{\n",
       "            console.log([gd, 'removed!']);\n",
       "            Plotly.purge(gd);\n",
       "            observer.disconnect();\n",
       "        }}\n",
       "}});\n",
       "\n",
       "// Listen for the removal of the full notebook cells\n",
       "var notebookContainer = gd.closest('#notebook-container');\n",
       "if (notebookContainer) {{\n",
       "    x.observe(notebookContainer, {childList: true});\n",
       "}}\n",
       "\n",
       "// Listen for the clearing of the current output cell\n",
       "var outputEl = gd.closest('.output');\n",
       "if (outputEl) {{\n",
       "    x.observe(outputEl, {childList: true});\n",
       "}}\n",
       "\n",
       "                        })                };                            </script>        </div>\n",
       "</body>\n",
       "</html>"
      ]
     },
     "metadata": {},
     "output_type": "display_data"
    },
    {
     "data": {
      "text/html": [
       "<html>\n",
       "<head><meta charset=\"utf-8\" /></head>\n",
       "<body>\n",
       "    <div>            <script src=\"https://cdnjs.cloudflare.com/ajax/libs/mathjax/2.7.5/MathJax.js?config=TeX-AMS-MML_SVG\"></script><script type=\"text/javascript\">if (window.MathJax && window.MathJax.Hub && window.MathJax.Hub.Config) {window.MathJax.Hub.Config({SVG: {font: \"STIX-Web\"}});}</script>                <script type=\"text/javascript\">window.PlotlyConfig = {MathJaxConfig: 'local'};</script>\n",
       "        <script src=\"https://cdn.plot.ly/plotly-2.18.2.min.js\"></script>                <div id=\"500d4a4d-951c-4484-81b1-8f8403473803\" class=\"plotly-graph-div\" style=\"height:525px; width:1000px;\"></div>            <script type=\"text/javascript\">                                    window.PLOTLYENV=window.PLOTLYENV || {};                                    if (document.getElementById(\"500d4a4d-951c-4484-81b1-8f8403473803\")) {                    Plotly.newPlot(                        \"500d4a4d-951c-4484-81b1-8f8403473803\",                        [{\"histnorm\":\"probability\",\"x\":[1169,2096,7882,9055,2835,6948,3059,1567,1403,2424,8072,3430,2134,2647,2241,1804,2069,1374,426,409,2415,1913,4020,5866,1264,1474,6110,1225,458,2333,1158,6204,6187,1393,2299,1352,7228,2073,2333,5965,1262,3378,783,9566,1961,1391,1537,3181,5190,2171,1007,2394,8133,730,1164,5954,1526,4771,9436,3832,1213,1568,1755,2315,1412,1295,2249,618,1409,3617,1318,2012,2622,2337,7057,1469,2323,932,1919,2445,6078,7721,1410,1449,392,6260,1680,3578,2132,2366,3868,1768,781,2121,701,1860,8487,2708,1984,10144,1240,8613,2728,1881,709,4795,3416,2288,3566,860,682,5371,1582,1346,1924,5848,7758,6967,1288,339,3512,1898,2872,1055,1262,7308,909,2978,1577,3972,763,1414,2577,338,1963,571,3777,1360,1175,3244,2108,1382,2760,936,1168,5117,1495,10623,1935,1424,6568,1413,3074,3835,3342,932,3104,3913,3021,1364,625,1200,707,2978,4657,2613,3149,2507,2141,866,1544,1291,2522,1595,1185,3447,1258,717,1204,1925,666,2251,4151,2030,7418,2684,3812,1154,1657,1603,5302,2748,1231,6304,1533,999,2662,1402,12169,2697,2404,1262,1901,3368,1574,1445,1520,3878,10722,4788,7582,1092,1076,6419,4796,7629,4675,1287,2515,2745,672,1038,1543,4811,276,5381,5511,3749,1494,708,4351,701,3643,2910,2659,1028,3398,5801,1525,4473,1068,6615,2101,4169,1521,5743,3599,3213,4439,3949,1459,882,3758,1743,1236,3229,727,2331,776,1239,3399,2247,1766,1542,3850,3650,3001,3079,6070,2146,13756,2320,846,362,2212,1283,1330,4272,2238,1126,7374,2326,1449,1820,983,3249,1957,2406,11760,2578,2348,1516,1473,1887,802,2899,2197,1053,3235,1967,7253,1597,5842,8471,2782,3186,2028,958,1591,2779,2743,1149,1313,3448,1872,2058,2136,660,1287,3394,1884,1620,2629,1244,2576,1424,11054,518,2759,2670,2679,3905,343,4594,3620,1721,3017,754,1950,2924,7238,2764,4679,1238,2569,5152,1037,1478,3573,1201,3622,960,1163,3077,3757,1418,3518,1934,1237,368,2122,1585,1301,1323,5493,1126,2360,1413,8588,4686,2687,585,2255,609,1361,1203,700,5507,3488,1113,7966,1532,1503,662,2273,1503,1311,3105,1374,3612,3049,2032,1255,2022,1552,8858,996,1750,1995,1199,2964,683,4712,1553,2578,3979,5954,5433,806,1082,2788,2930,1927,937,3124,1388,2133,2799,1289,385,1965,1572,3863,2329,1275,2828,4526,2051,1300,3357,3632,12204,9157,3676,640,3652,1858,1979,2116,4042,3832,3660,1444,1393,1376,15653,1493,1308,1851,1880,4583,7476,2346,3973,10222,4221,6361,1297,2241,1050,1047,6314,3496,3609,3017,4139,5742,10366,2080,4530,5150,2384,1453,1538,2279,1478,5103,9857,6527,1347,2862,2753,3651,975,2631,2896,4716,2284,1236,1103,926,1800,1905,1377,2503,2528,5324,1206,2118,629,2476,1138,7596,3077,1505,3148,6148,790,250,1316,1275,6403,760,2603,3380,3990,4380,6761,2325,1048,3160,2483,14179,1797,2511,5248,3029,428,841,5771,1299,1393,5045,2214,2463,1155,2901,3617,1655,2812,3275,2223,1480,3535,3509,5711,3872,1940,1410,6468,1941,2675,2751,6313,1221,2892,3062,2301,1258,717,1549,1597,1795,4272,976,7472,590,930,9283,907,484,7432,1338,1554,15857,1101,3016,731,3780,1602,6681,2375,5084,886,601,2957,2611,2993,1559,3422,3976,1249,1364,4042,1471,10875,1474,894,3343,3577,5804,4526,2221,2389,3331,7409,652,7678,1343,1382,874,3590,1322,1940,3595,6742,7814,9277,2181,1098,2825,6614,7824,2442,1829,2171,5800,1169,8947,2606,1592,2186,3485,10477,1386,1278,1107,3763,3711,3594,3195,4454,2991,2142,2848,1817,12749,2002,1049,1867,1344,1747,1224,522,1498,2063,6842,3527,1546,929,1455,1845,8358,2859,3590,1893,1231,3656,1154,3069,1740,2353,3556,454,1715,3568,7166,3939,1514,7393,2831,1258,753,2427,2923,2028,1433,6289,1409,6579,1743,3565,1569,1936,3959,2390,1736,3857,804,4576],\"type\":\"histogram\",\"xaxis\":\"x\",\"yaxis\":\"y\"},{\"histnorm\":\"probability\",\"x\":[5951,4870,5234,1295,4308,1199,1282,12579,6836,4746,2100,6143,2225,6468,6229,1953,14421,1819,1977,3965,5943,12612,1108,797,15945,11938,6458,7855,7174,4281,1835,1924,639,3499,6887,766,2462,1282,1131,1935,950,2064,3414,7485,9572,4455,1647,884,5129,674,4591,3844,3915,3031,1501,951,4297,902,5293,1908,10961,7865,1478,4210,1823,14555,2767,915,4605,433,2150,2149,802,8978,3060,11998,4611,1024,9398,9960,3804,1344,10127,727,1237,685,2746,4249,1938,1864,7408,11590,4110,3384,1275,1136,959,6199,1246,4463,2406,2473,3446,14782,7685,14318,12976,1223,8648,2039,939,2292,1381,2579,1042,2762,1190,11328,1484,609,719,5096,1842,1512,4817,3386,1659,3092,448,654,1245,3114,1209,8318,2996,9034,3123,1216,1207,1309,6850,759,7127,3190,7119,2302,2631,2319,7763,1534,6350,2864,1333,626,6999,1331,2278,5003,3552,1928,1546,12389,1372,6758,3234,2820,1056,2384,2039,1217,2246,2718,1358,931,1442,4241,2775,918,1837,3349,2671,741,1240,1808,3441,1530,3914,2600,1437,1553,1980,1355,4370,750,4623,7980,1386,947,684,1922,2303,8086,888,900,4843,2580,5595,1123,6331,6560,2969,1198,14027,1337,433,1228,2570,1882,6416,1987,11560,4280,1274,976,1555,1285,1271,691,2124,12680,3108,8065,1371,4933,836,6224,5998,1188,7511,9271,1778,9629,3051,3931,1345,2712,3966,4165,8335,1216,11816,2327,1082,5179,1943,6761,709,2235,1442,3959,2169,2439,2210,1422,4057,795,15672,4153,2625,4736,3161,18424,14896,2359,3345,1366,6872,697,10297,1670,1919,745,6288,3349,1533,3621,2145,4113,10974,4006,2397,2520,1193,7297,2538,1264,8386,4844,8229,1845],\"type\":\"histogram\",\"xaxis\":\"x2\",\"yaxis\":\"y2\"},{\"histnorm\":\"probability\",\"x\":[1169,5951,2096,7882,4870,9055,2835,6948,3059,5234,1295,4308,1567,1199,1403,1282,2424,8072,12579,3430,2134,2647,2241,1804,2069,1374,426,409,2415,6836,1913,4020,5866,1264,1474,4746,6110,2100,1225,458,2333,1158,6204,6187,6143,1393,2299,1352,7228,2073,2333,5965,1262,3378,2225,783,6468,9566,1961,6229,1391,1537,1953,14421,3181,5190,2171,1007,1819,2394,8133,730,1164,5954,1977,1526,3965,4771,9436,3832,5943,1213,1568,1755,2315,1412,1295,12612,2249,1108,618,1409,797,3617,1318,15945,2012,2622,2337,7057,1469,2323,932,1919,2445,11938,6458,6078,7721,1410,1449,392,6260,7855,1680,3578,7174,2132,4281,2366,1835,3868,1768,781,1924,2121,701,639,1860,3499,8487,6887,2708,1984,10144,1240,8613,766,2728,1881,709,4795,3416,2462,2288,3566,860,682,5371,1582,1346,1924,5848,7758,6967,1282,1288,339,3512,1898,2872,1055,1262,7308,909,2978,1131,1577,3972,1935,950,763,2064,1414,3414,7485,2577,338,1963,571,9572,4455,1647,3777,884,1360,5129,1175,674,3244,4591,3844,3915,2108,3031,1501,1382,951,2760,4297,936,1168,5117,902,1495,10623,1935,1424,6568,1413,3074,3835,5293,1908,3342,932,3104,3913,3021,1364,625,1200,707,2978,4657,2613,10961,7865,1478,3149,4210,2507,2141,866,1544,1823,14555,2767,1291,2522,915,1595,4605,1185,3447,1258,717,1204,1925,433,666,2251,2150,4151,2030,7418,2684,2149,3812,1154,1657,1603,5302,2748,1231,802,6304,1533,8978,999,2662,1402,12169,3060,11998,2697,2404,1262,4611,1901,3368,1574,1445,1520,3878,10722,4788,7582,1092,1024,1076,9398,6419,4796,7629,9960,4675,1287,2515,2745,672,3804,1344,1038,10127,1543,4811,727,1237,276,5381,5511,3749,685,1494,2746,708,4351,701,3643,4249,1938,2910,2659,1028,3398,5801,1525,4473,1068,6615,1864,7408,11590,4110,3384,2101,1275,4169,1521,5743,3599,3213,4439,3949,1459,882,3758,1743,1136,1236,959,3229,6199,727,1246,2331,4463,776,2406,1239,3399,2247,1766,2473,1542,3850,3650,3446,3001,3079,6070,2146,13756,14782,7685,2320,846,14318,362,2212,12976,1283,1330,4272,2238,1126,7374,2326,1449,1820,983,3249,1957,2406,11760,2578,2348,1223,1516,1473,1887,8648,802,2899,2039,2197,1053,3235,939,1967,7253,2292,1597,1381,5842,2579,8471,2782,1042,3186,2028,958,1591,2762,2779,2743,1149,1313,1190,3448,11328,1872,2058,2136,1484,660,1287,3394,609,1884,1620,2629,719,5096,1244,1842,2576,1424,1512,11054,518,2759,2670,4817,2679,3905,3386,343,4594,3620,1721,3017,754,1950,2924,1659,7238,2764,4679,3092,448,654,1238,1245,3114,2569,5152,1037,1478,3573,1201,3622,960,1163,1209,3077,3757,1418,3518,1934,8318,1237,368,2122,2996,9034,1585,1301,1323,3123,5493,1126,1216,1207,1309,2360,6850,1413,8588,759,4686,2687,585,2255,609,1361,7127,1203,700,5507,3190,7119,3488,1113,7966,1532,1503,2302,662,2273,2631,1503,1311,3105,2319,1374,3612,7763,3049,1534,2032,6350,2864,1255,1333,2022,1552,626,8858,996,1750,6999,1995,1199,1331,2278,5003,3552,1928,2964,1546,683,12389,4712,1553,1372,2578,3979,6758,3234,5954,5433,806,1082,2788,2930,1927,2820,937,1056,3124,1388,2384,2133,2039,2799,1289,1217,2246,385,1965,1572,2718,1358,931,1442,4241,2775,3863,2329,918,1837,3349,1275,2828,4526,2671,2051,1300,741,1240,3357,3632,1808,12204,9157,3676,3441,640,3652,1530,3914,1858,2600,1979,2116,1437,4042,3832,3660,1553,1444,1980,1355,1393,1376,15653,1493,4370,750,1308,4623,1851,1880,7980,4583,1386,947,684,7476,1922,2303,8086,2346,3973,888,10222,4221,6361,1297,900,2241,1050,1047,6314,3496,3609,4843,3017,4139,5742,10366,2080,2580,4530,5150,5595,2384,1453,1538,2279,1478,5103,9857,6527,1347,2862,2753,3651,975,2631,2896,4716,2284,1236,1103,926,1800,1905,1123,6331,1377,2503,2528,5324,6560,2969,1206,2118,629,1198,2476,1138,14027,7596,3077,1505,3148,6148,1337,433,1228,790,2570,250,1316,1882,6416,1275,6403,1987,760,2603,3380,3990,11560,4380,6761,4280,2325,1048,3160,2483,14179,1797,2511,1274,5248,3029,428,976,841,5771,1555,1285,1299,1271,1393,691,5045,2124,2214,12680,2463,1155,3108,2901,3617,1655,2812,8065,3275,2223,1480,1371,3535,3509,5711,3872,4933,1940,1410,836,6468,1941,2675,2751,6224,5998,1188,6313,1221,2892,3062,2301,7511,1258,717,1549,1597,1795,4272,976,7472,9271,590,930,9283,1778,907,484,9629,3051,3931,7432,1338,1554,15857,1345,1101,3016,2712,731,3780,1602,3966,4165,8335,6681,2375,1216,11816,5084,2327,1082,886,601,2957,2611,5179,2993,1943,1559,3422,3976,6761,1249,1364,709,2235,4042,1471,1442,10875,1474,894,3343,3959,3577,5804,2169,2439,4526,2210,2221,2389,3331,7409,652,7678,1343,1382,874,3590,1322,1940,3595,1422,6742,7814,9277,2181,1098,4057,795,2825,15672,6614,7824,2442,1829,2171,5800,1169,8947,2606,1592,2186,4153,2625,3485,10477,1386,1278,1107,3763,3711,3594,3195,4454,4736,2991,2142,3161,18424,2848,14896,2359,3345,1817,12749,1366,2002,6872,697,1049,10297,1867,1344,1747,1670,1224,522,1498,1919,745,2063,6288,6842,3527,1546,929,1455,1845,8358,3349,2859,1533,3621,3590,2145,4113,10974,1893,1231,3656,1154,4006,3069,1740,2353,3556,2397,454,1715,2520,3568,7166,3939,1514,7393,1193,7297,2831,1258,753,2427,2538,1264,8386,4844,2923,8229,2028,1433,6289,1409,6579,1743,3565,1569,1936,3959,2390,1736,3857,804,1845,4576],\"type\":\"histogram\",\"xaxis\":\"x3\",\"yaxis\":\"y3\"},{\"y\":[1169,2096,7882,9055,2835,6948,3059,1567,1403,2424,8072,3430,2134,2647,2241,1804,2069,1374,426,409,2415,1913,4020,5866,1264,1474,6110,1225,458,2333,1158,6204,6187,1393,2299,1352,7228,2073,2333,5965,1262,3378,783,9566,1961,1391,1537,3181,5190,2171,1007,2394,8133,730,1164,5954,1526,4771,9436,3832,1213,1568,1755,2315,1412,1295,2249,618,1409,3617,1318,2012,2622,2337,7057,1469,2323,932,1919,2445,6078,7721,1410,1449,392,6260,1680,3578,2132,2366,3868,1768,781,2121,701,1860,8487,2708,1984,10144,1240,8613,2728,1881,709,4795,3416,2288,3566,860,682,5371,1582,1346,1924,5848,7758,6967,1288,339,3512,1898,2872,1055,1262,7308,909,2978,1577,3972,763,1414,2577,338,1963,571,3777,1360,1175,3244,2108,1382,2760,936,1168,5117,1495,10623,1935,1424,6568,1413,3074,3835,3342,932,3104,3913,3021,1364,625,1200,707,2978,4657,2613,3149,2507,2141,866,1544,1291,2522,1595,1185,3447,1258,717,1204,1925,666,2251,4151,2030,7418,2684,3812,1154,1657,1603,5302,2748,1231,6304,1533,999,2662,1402,12169,2697,2404,1262,1901,3368,1574,1445,1520,3878,10722,4788,7582,1092,1076,6419,4796,7629,4675,1287,2515,2745,672,1038,1543,4811,276,5381,5511,3749,1494,708,4351,701,3643,2910,2659,1028,3398,5801,1525,4473,1068,6615,2101,4169,1521,5743,3599,3213,4439,3949,1459,882,3758,1743,1236,3229,727,2331,776,1239,3399,2247,1766,1542,3850,3650,3001,3079,6070,2146,13756,2320,846,362,2212,1283,1330,4272,2238,1126,7374,2326,1449,1820,983,3249,1957,2406,11760,2578,2348,1516,1473,1887,802,2899,2197,1053,3235,1967,7253,1597,5842,8471,2782,3186,2028,958,1591,2779,2743,1149,1313,3448,1872,2058,2136,660,1287,3394,1884,1620,2629,1244,2576,1424,11054,518,2759,2670,2679,3905,343,4594,3620,1721,3017,754,1950,2924,7238,2764,4679,1238,2569,5152,1037,1478,3573,1201,3622,960,1163,3077,3757,1418,3518,1934,1237,368,2122,1585,1301,1323,5493,1126,2360,1413,8588,4686,2687,585,2255,609,1361,1203,700,5507,3488,1113,7966,1532,1503,662,2273,1503,1311,3105,1374,3612,3049,2032,1255,2022,1552,8858,996,1750,1995,1199,2964,683,4712,1553,2578,3979,5954,5433,806,1082,2788,2930,1927,937,3124,1388,2133,2799,1289,385,1965,1572,3863,2329,1275,2828,4526,2051,1300,3357,3632,12204,9157,3676,640,3652,1858,1979,2116,4042,3832,3660,1444,1393,1376,15653,1493,1308,1851,1880,4583,7476,2346,3973,10222,4221,6361,1297,2241,1050,1047,6314,3496,3609,3017,4139,5742,10366,2080,4530,5150,2384,1453,1538,2279,1478,5103,9857,6527,1347,2862,2753,3651,975,2631,2896,4716,2284,1236,1103,926,1800,1905,1377,2503,2528,5324,1206,2118,629,2476,1138,7596,3077,1505,3148,6148,790,250,1316,1275,6403,760,2603,3380,3990,4380,6761,2325,1048,3160,2483,14179,1797,2511,5248,3029,428,841,5771,1299,1393,5045,2214,2463,1155,2901,3617,1655,2812,3275,2223,1480,3535,3509,5711,3872,1940,1410,6468,1941,2675,2751,6313,1221,2892,3062,2301,1258,717,1549,1597,1795,4272,976,7472,590,930,9283,907,484,7432,1338,1554,15857,1101,3016,731,3780,1602,6681,2375,5084,886,601,2957,2611,2993,1559,3422,3976,1249,1364,4042,1471,10875,1474,894,3343,3577,5804,4526,2221,2389,3331,7409,652,7678,1343,1382,874,3590,1322,1940,3595,6742,7814,9277,2181,1098,2825,6614,7824,2442,1829,2171,5800,1169,8947,2606,1592,2186,3485,10477,1386,1278,1107,3763,3711,3594,3195,4454,2991,2142,2848,1817,12749,2002,1049,1867,1344,1747,1224,522,1498,2063,6842,3527,1546,929,1455,1845,8358,2859,3590,1893,1231,3656,1154,3069,1740,2353,3556,454,1715,3568,7166,3939,1514,7393,2831,1258,753,2427,2923,2028,1433,6289,1409,6579,1743,3565,1569,1936,3959,2390,1736,3857,804,4576],\"type\":\"box\",\"xaxis\":\"x4\",\"yaxis\":\"y4\"},{\"y\":[5951,4870,5234,1295,4308,1199,1282,12579,6836,4746,2100,6143,2225,6468,6229,1953,14421,1819,1977,3965,5943,12612,1108,797,15945,11938,6458,7855,7174,4281,1835,1924,639,3499,6887,766,2462,1282,1131,1935,950,2064,3414,7485,9572,4455,1647,884,5129,674,4591,3844,3915,3031,1501,951,4297,902,5293,1908,10961,7865,1478,4210,1823,14555,2767,915,4605,433,2150,2149,802,8978,3060,11998,4611,1024,9398,9960,3804,1344,10127,727,1237,685,2746,4249,1938,1864,7408,11590,4110,3384,1275,1136,959,6199,1246,4463,2406,2473,3446,14782,7685,14318,12976,1223,8648,2039,939,2292,1381,2579,1042,2762,1190,11328,1484,609,719,5096,1842,1512,4817,3386,1659,3092,448,654,1245,3114,1209,8318,2996,9034,3123,1216,1207,1309,6850,759,7127,3190,7119,2302,2631,2319,7763,1534,6350,2864,1333,626,6999,1331,2278,5003,3552,1928,1546,12389,1372,6758,3234,2820,1056,2384,2039,1217,2246,2718,1358,931,1442,4241,2775,918,1837,3349,2671,741,1240,1808,3441,1530,3914,2600,1437,1553,1980,1355,4370,750,4623,7980,1386,947,684,1922,2303,8086,888,900,4843,2580,5595,1123,6331,6560,2969,1198,14027,1337,433,1228,2570,1882,6416,1987,11560,4280,1274,976,1555,1285,1271,691,2124,12680,3108,8065,1371,4933,836,6224,5998,1188,7511,9271,1778,9629,3051,3931,1345,2712,3966,4165,8335,1216,11816,2327,1082,5179,1943,6761,709,2235,1442,3959,2169,2439,2210,1422,4057,795,15672,4153,2625,4736,3161,18424,14896,2359,3345,1366,6872,697,10297,1670,1919,745,6288,3349,1533,3621,2145,4113,10974,4006,2397,2520,1193,7297,2538,1264,8386,4844,8229,1845],\"type\":\"box\",\"xaxis\":\"x5\",\"yaxis\":\"y5\"},{\"y\":[1169,5951,2096,7882,4870,9055,2835,6948,3059,5234,1295,4308,1567,1199,1403,1282,2424,8072,12579,3430,2134,2647,2241,1804,2069,1374,426,409,2415,6836,1913,4020,5866,1264,1474,4746,6110,2100,1225,458,2333,1158,6204,6187,6143,1393,2299,1352,7228,2073,2333,5965,1262,3378,2225,783,6468,9566,1961,6229,1391,1537,1953,14421,3181,5190,2171,1007,1819,2394,8133,730,1164,5954,1977,1526,3965,4771,9436,3832,5943,1213,1568,1755,2315,1412,1295,12612,2249,1108,618,1409,797,3617,1318,15945,2012,2622,2337,7057,1469,2323,932,1919,2445,11938,6458,6078,7721,1410,1449,392,6260,7855,1680,3578,7174,2132,4281,2366,1835,3868,1768,781,1924,2121,701,639,1860,3499,8487,6887,2708,1984,10144,1240,8613,766,2728,1881,709,4795,3416,2462,2288,3566,860,682,5371,1582,1346,1924,5848,7758,6967,1282,1288,339,3512,1898,2872,1055,1262,7308,909,2978,1131,1577,3972,1935,950,763,2064,1414,3414,7485,2577,338,1963,571,9572,4455,1647,3777,884,1360,5129,1175,674,3244,4591,3844,3915,2108,3031,1501,1382,951,2760,4297,936,1168,5117,902,1495,10623,1935,1424,6568,1413,3074,3835,5293,1908,3342,932,3104,3913,3021,1364,625,1200,707,2978,4657,2613,10961,7865,1478,3149,4210,2507,2141,866,1544,1823,14555,2767,1291,2522,915,1595,4605,1185,3447,1258,717,1204,1925,433,666,2251,2150,4151,2030,7418,2684,2149,3812,1154,1657,1603,5302,2748,1231,802,6304,1533,8978,999,2662,1402,12169,3060,11998,2697,2404,1262,4611,1901,3368,1574,1445,1520,3878,10722,4788,7582,1092,1024,1076,9398,6419,4796,7629,9960,4675,1287,2515,2745,672,3804,1344,1038,10127,1543,4811,727,1237,276,5381,5511,3749,685,1494,2746,708,4351,701,3643,4249,1938,2910,2659,1028,3398,5801,1525,4473,1068,6615,1864,7408,11590,4110,3384,2101,1275,4169,1521,5743,3599,3213,4439,3949,1459,882,3758,1743,1136,1236,959,3229,6199,727,1246,2331,4463,776,2406,1239,3399,2247,1766,2473,1542,3850,3650,3446,3001,3079,6070,2146,13756,14782,7685,2320,846,14318,362,2212,12976,1283,1330,4272,2238,1126,7374,2326,1449,1820,983,3249,1957,2406,11760,2578,2348,1223,1516,1473,1887,8648,802,2899,2039,2197,1053,3235,939,1967,7253,2292,1597,1381,5842,2579,8471,2782,1042,3186,2028,958,1591,2762,2779,2743,1149,1313,1190,3448,11328,1872,2058,2136,1484,660,1287,3394,609,1884,1620,2629,719,5096,1244,1842,2576,1424,1512,11054,518,2759,2670,4817,2679,3905,3386,343,4594,3620,1721,3017,754,1950,2924,1659,7238,2764,4679,3092,448,654,1238,1245,3114,2569,5152,1037,1478,3573,1201,3622,960,1163,1209,3077,3757,1418,3518,1934,8318,1237,368,2122,2996,9034,1585,1301,1323,3123,5493,1126,1216,1207,1309,2360,6850,1413,8588,759,4686,2687,585,2255,609,1361,7127,1203,700,5507,3190,7119,3488,1113,7966,1532,1503,2302,662,2273,2631,1503,1311,3105,2319,1374,3612,7763,3049,1534,2032,6350,2864,1255,1333,2022,1552,626,8858,996,1750,6999,1995,1199,1331,2278,5003,3552,1928,2964,1546,683,12389,4712,1553,1372,2578,3979,6758,3234,5954,5433,806,1082,2788,2930,1927,2820,937,1056,3124,1388,2384,2133,2039,2799,1289,1217,2246,385,1965,1572,2718,1358,931,1442,4241,2775,3863,2329,918,1837,3349,1275,2828,4526,2671,2051,1300,741,1240,3357,3632,1808,12204,9157,3676,3441,640,3652,1530,3914,1858,2600,1979,2116,1437,4042,3832,3660,1553,1444,1980,1355,1393,1376,15653,1493,4370,750,1308,4623,1851,1880,7980,4583,1386,947,684,7476,1922,2303,8086,2346,3973,888,10222,4221,6361,1297,900,2241,1050,1047,6314,3496,3609,4843,3017,4139,5742,10366,2080,2580,4530,5150,5595,2384,1453,1538,2279,1478,5103,9857,6527,1347,2862,2753,3651,975,2631,2896,4716,2284,1236,1103,926,1800,1905,1123,6331,1377,2503,2528,5324,6560,2969,1206,2118,629,1198,2476,1138,14027,7596,3077,1505,3148,6148,1337,433,1228,790,2570,250,1316,1882,6416,1275,6403,1987,760,2603,3380,3990,11560,4380,6761,4280,2325,1048,3160,2483,14179,1797,2511,1274,5248,3029,428,976,841,5771,1555,1285,1299,1271,1393,691,5045,2124,2214,12680,2463,1155,3108,2901,3617,1655,2812,8065,3275,2223,1480,1371,3535,3509,5711,3872,4933,1940,1410,836,6468,1941,2675,2751,6224,5998,1188,6313,1221,2892,3062,2301,7511,1258,717,1549,1597,1795,4272,976,7472,9271,590,930,9283,1778,907,484,9629,3051,3931,7432,1338,1554,15857,1345,1101,3016,2712,731,3780,1602,3966,4165,8335,6681,2375,1216,11816,5084,2327,1082,886,601,2957,2611,5179,2993,1943,1559,3422,3976,6761,1249,1364,709,2235,4042,1471,1442,10875,1474,894,3343,3959,3577,5804,2169,2439,4526,2210,2221,2389,3331,7409,652,7678,1343,1382,874,3590,1322,1940,3595,1422,6742,7814,9277,2181,1098,4057,795,2825,15672,6614,7824,2442,1829,2171,5800,1169,8947,2606,1592,2186,4153,2625,3485,10477,1386,1278,1107,3763,3711,3594,3195,4454,4736,2991,2142,3161,18424,2848,14896,2359,3345,1817,12749,1366,2002,6872,697,1049,10297,1867,1344,1747,1670,1224,522,1498,1919,745,2063,6288,6842,3527,1546,929,1455,1845,8358,3349,2859,1533,3621,3590,2145,4113,10974,1893,1231,3656,1154,4006,3069,1740,2353,3556,2397,454,1715,2520,3568,7166,3939,1514,7393,1193,7297,2831,1258,753,2427,2538,1264,8386,4844,2923,8229,2028,1433,6289,1409,6579,1743,3565,1569,1936,3959,2390,1736,3857,804,1845,4576],\"type\":\"box\",\"xaxis\":\"x6\",\"yaxis\":\"y6\"}],                        {\"template\":{\"data\":{\"barpolar\":[{\"marker\":{\"line\":{\"color\":\"white\",\"width\":0.5},\"pattern\":{\"fillmode\":\"overlay\",\"size\":10,\"solidity\":0.2}},\"type\":\"barpolar\"}],\"bar\":[{\"error_x\":{\"color\":\"rgb(36,36,36)\"},\"error_y\":{\"color\":\"rgb(36,36,36)\"},\"marker\":{\"line\":{\"color\":\"white\",\"width\":0.5},\"pattern\":{\"fillmode\":\"overlay\",\"size\":10,\"solidity\":0.2}},\"type\":\"bar\"}],\"carpet\":[{\"aaxis\":{\"endlinecolor\":\"rgb(36,36,36)\",\"gridcolor\":\"white\",\"linecolor\":\"white\",\"minorgridcolor\":\"white\",\"startlinecolor\":\"rgb(36,36,36)\"},\"baxis\":{\"endlinecolor\":\"rgb(36,36,36)\",\"gridcolor\":\"white\",\"linecolor\":\"white\",\"minorgridcolor\":\"white\",\"startlinecolor\":\"rgb(36,36,36)\"},\"type\":\"carpet\"}],\"choropleth\":[{\"colorbar\":{\"outlinewidth\":1,\"tickcolor\":\"rgb(36,36,36)\",\"ticks\":\"outside\"},\"type\":\"choropleth\"}],\"contourcarpet\":[{\"colorbar\":{\"outlinewidth\":1,\"tickcolor\":\"rgb(36,36,36)\",\"ticks\":\"outside\"},\"type\":\"contourcarpet\"}],\"contour\":[{\"colorbar\":{\"outlinewidth\":1,\"tickcolor\":\"rgb(36,36,36)\",\"ticks\":\"outside\"},\"colorscale\":[[0.0,\"#440154\"],[0.1111111111111111,\"#482878\"],[0.2222222222222222,\"#3e4989\"],[0.3333333333333333,\"#31688e\"],[0.4444444444444444,\"#26828e\"],[0.5555555555555556,\"#1f9e89\"],[0.6666666666666666,\"#35b779\"],[0.7777777777777778,\"#6ece58\"],[0.8888888888888888,\"#b5de2b\"],[1.0,\"#fde725\"]],\"type\":\"contour\"}],\"heatmapgl\":[{\"colorbar\":{\"outlinewidth\":1,\"tickcolor\":\"rgb(36,36,36)\",\"ticks\":\"outside\"},\"colorscale\":[[0.0,\"#440154\"],[0.1111111111111111,\"#482878\"],[0.2222222222222222,\"#3e4989\"],[0.3333333333333333,\"#31688e\"],[0.4444444444444444,\"#26828e\"],[0.5555555555555556,\"#1f9e89\"],[0.6666666666666666,\"#35b779\"],[0.7777777777777778,\"#6ece58\"],[0.8888888888888888,\"#b5de2b\"],[1.0,\"#fde725\"]],\"type\":\"heatmapgl\"}],\"heatmap\":[{\"colorbar\":{\"outlinewidth\":1,\"tickcolor\":\"rgb(36,36,36)\",\"ticks\":\"outside\"},\"colorscale\":[[0.0,\"#440154\"],[0.1111111111111111,\"#482878\"],[0.2222222222222222,\"#3e4989\"],[0.3333333333333333,\"#31688e\"],[0.4444444444444444,\"#26828e\"],[0.5555555555555556,\"#1f9e89\"],[0.6666666666666666,\"#35b779\"],[0.7777777777777778,\"#6ece58\"],[0.8888888888888888,\"#b5de2b\"],[1.0,\"#fde725\"]],\"type\":\"heatmap\"}],\"histogram2dcontour\":[{\"colorbar\":{\"outlinewidth\":1,\"tickcolor\":\"rgb(36,36,36)\",\"ticks\":\"outside\"},\"colorscale\":[[0.0,\"#440154\"],[0.1111111111111111,\"#482878\"],[0.2222222222222222,\"#3e4989\"],[0.3333333333333333,\"#31688e\"],[0.4444444444444444,\"#26828e\"],[0.5555555555555556,\"#1f9e89\"],[0.6666666666666666,\"#35b779\"],[0.7777777777777778,\"#6ece58\"],[0.8888888888888888,\"#b5de2b\"],[1.0,\"#fde725\"]],\"type\":\"histogram2dcontour\"}],\"histogram2d\":[{\"colorbar\":{\"outlinewidth\":1,\"tickcolor\":\"rgb(36,36,36)\",\"ticks\":\"outside\"},\"colorscale\":[[0.0,\"#440154\"],[0.1111111111111111,\"#482878\"],[0.2222222222222222,\"#3e4989\"],[0.3333333333333333,\"#31688e\"],[0.4444444444444444,\"#26828e\"],[0.5555555555555556,\"#1f9e89\"],[0.6666666666666666,\"#35b779\"],[0.7777777777777778,\"#6ece58\"],[0.8888888888888888,\"#b5de2b\"],[1.0,\"#fde725\"]],\"type\":\"histogram2d\"}],\"histogram\":[{\"marker\":{\"line\":{\"color\":\"white\",\"width\":0.6}},\"type\":\"histogram\"}],\"mesh3d\":[{\"colorbar\":{\"outlinewidth\":1,\"tickcolor\":\"rgb(36,36,36)\",\"ticks\":\"outside\"},\"type\":\"mesh3d\"}],\"parcoords\":[{\"line\":{\"colorbar\":{\"outlinewidth\":1,\"tickcolor\":\"rgb(36,36,36)\",\"ticks\":\"outside\"}},\"type\":\"parcoords\"}],\"pie\":[{\"automargin\":true,\"type\":\"pie\"}],\"scatter3d\":[{\"line\":{\"colorbar\":{\"outlinewidth\":1,\"tickcolor\":\"rgb(36,36,36)\",\"ticks\":\"outside\"}},\"marker\":{\"colorbar\":{\"outlinewidth\":1,\"tickcolor\":\"rgb(36,36,36)\",\"ticks\":\"outside\"}},\"type\":\"scatter3d\"}],\"scattercarpet\":[{\"marker\":{\"colorbar\":{\"outlinewidth\":1,\"tickcolor\":\"rgb(36,36,36)\",\"ticks\":\"outside\"}},\"type\":\"scattercarpet\"}],\"scattergeo\":[{\"marker\":{\"colorbar\":{\"outlinewidth\":1,\"tickcolor\":\"rgb(36,36,36)\",\"ticks\":\"outside\"}},\"type\":\"scattergeo\"}],\"scattergl\":[{\"marker\":{\"colorbar\":{\"outlinewidth\":1,\"tickcolor\":\"rgb(36,36,36)\",\"ticks\":\"outside\"}},\"type\":\"scattergl\"}],\"scattermapbox\":[{\"marker\":{\"colorbar\":{\"outlinewidth\":1,\"tickcolor\":\"rgb(36,36,36)\",\"ticks\":\"outside\"}},\"type\":\"scattermapbox\"}],\"scatterpolargl\":[{\"marker\":{\"colorbar\":{\"outlinewidth\":1,\"tickcolor\":\"rgb(36,36,36)\",\"ticks\":\"outside\"}},\"type\":\"scatterpolargl\"}],\"scatterpolar\":[{\"marker\":{\"colorbar\":{\"outlinewidth\":1,\"tickcolor\":\"rgb(36,36,36)\",\"ticks\":\"outside\"}},\"type\":\"scatterpolar\"}],\"scatter\":[{\"fillpattern\":{\"fillmode\":\"overlay\",\"size\":10,\"solidity\":0.2},\"type\":\"scatter\"}],\"scatterternary\":[{\"marker\":{\"colorbar\":{\"outlinewidth\":1,\"tickcolor\":\"rgb(36,36,36)\",\"ticks\":\"outside\"}},\"type\":\"scatterternary\"}],\"surface\":[{\"colorbar\":{\"outlinewidth\":1,\"tickcolor\":\"rgb(36,36,36)\",\"ticks\":\"outside\"},\"colorscale\":[[0.0,\"#440154\"],[0.1111111111111111,\"#482878\"],[0.2222222222222222,\"#3e4989\"],[0.3333333333333333,\"#31688e\"],[0.4444444444444444,\"#26828e\"],[0.5555555555555556,\"#1f9e89\"],[0.6666666666666666,\"#35b779\"],[0.7777777777777778,\"#6ece58\"],[0.8888888888888888,\"#b5de2b\"],[1.0,\"#fde725\"]],\"type\":\"surface\"}],\"table\":[{\"cells\":{\"fill\":{\"color\":\"rgb(237,237,237)\"},\"line\":{\"color\":\"white\"}},\"header\":{\"fill\":{\"color\":\"rgb(217,217,217)\"},\"line\":{\"color\":\"white\"}},\"type\":\"table\"}]},\"layout\":{\"annotationdefaults\":{\"arrowhead\":0,\"arrowwidth\":1},\"autotypenumbers\":\"strict\",\"coloraxis\":{\"colorbar\":{\"outlinewidth\":1,\"tickcolor\":\"rgb(36,36,36)\",\"ticks\":\"outside\"}},\"colorscale\":{\"diverging\":[[0.0,\"rgb(103,0,31)\"],[0.1,\"rgb(178,24,43)\"],[0.2,\"rgb(214,96,77)\"],[0.3,\"rgb(244,165,130)\"],[0.4,\"rgb(253,219,199)\"],[0.5,\"rgb(247,247,247)\"],[0.6,\"rgb(209,229,240)\"],[0.7,\"rgb(146,197,222)\"],[0.8,\"rgb(67,147,195)\"],[0.9,\"rgb(33,102,172)\"],[1.0,\"rgb(5,48,97)\"]],\"sequential\":[[0.0,\"#440154\"],[0.1111111111111111,\"#482878\"],[0.2222222222222222,\"#3e4989\"],[0.3333333333333333,\"#31688e\"],[0.4444444444444444,\"#26828e\"],[0.5555555555555556,\"#1f9e89\"],[0.6666666666666666,\"#35b779\"],[0.7777777777777778,\"#6ece58\"],[0.8888888888888888,\"#b5de2b\"],[1.0,\"#fde725\"]],\"sequentialminus\":[[0.0,\"#440154\"],[0.1111111111111111,\"#482878\"],[0.2222222222222222,\"#3e4989\"],[0.3333333333333333,\"#31688e\"],[0.4444444444444444,\"#26828e\"],[0.5555555555555556,\"#1f9e89\"],[0.6666666666666666,\"#35b779\"],[0.7777777777777778,\"#6ece58\"],[0.8888888888888888,\"#b5de2b\"],[1.0,\"#fde725\"]]},\"colorway\":[\"#1F77B4\",\"#FF7F0E\",\"#2CA02C\",\"#D62728\",\"#9467BD\",\"#8C564B\",\"#E377C2\",\"#7F7F7F\",\"#BCBD22\",\"#17BECF\"],\"font\":{\"color\":\"rgb(36,36,36)\"},\"geo\":{\"bgcolor\":\"white\",\"lakecolor\":\"white\",\"landcolor\":\"white\",\"showlakes\":true,\"showland\":true,\"subunitcolor\":\"white\"},\"hoverlabel\":{\"align\":\"left\"},\"hovermode\":\"closest\",\"mapbox\":{\"style\":\"light\"},\"paper_bgcolor\":\"white\",\"plot_bgcolor\":\"white\",\"polar\":{\"angularaxis\":{\"gridcolor\":\"rgb(232,232,232)\",\"linecolor\":\"rgb(36,36,36)\",\"showgrid\":false,\"showline\":true,\"ticks\":\"outside\"},\"bgcolor\":\"white\",\"radialaxis\":{\"gridcolor\":\"rgb(232,232,232)\",\"linecolor\":\"rgb(36,36,36)\",\"showgrid\":false,\"showline\":true,\"ticks\":\"outside\"}},\"scene\":{\"xaxis\":{\"backgroundcolor\":\"white\",\"gridcolor\":\"rgb(232,232,232)\",\"gridwidth\":2,\"linecolor\":\"rgb(36,36,36)\",\"showbackground\":true,\"showgrid\":false,\"showline\":true,\"ticks\":\"outside\",\"zeroline\":false,\"zerolinecolor\":\"rgb(36,36,36)\"},\"yaxis\":{\"backgroundcolor\":\"white\",\"gridcolor\":\"rgb(232,232,232)\",\"gridwidth\":2,\"linecolor\":\"rgb(36,36,36)\",\"showbackground\":true,\"showgrid\":false,\"showline\":true,\"ticks\":\"outside\",\"zeroline\":false,\"zerolinecolor\":\"rgb(36,36,36)\"},\"zaxis\":{\"backgroundcolor\":\"white\",\"gridcolor\":\"rgb(232,232,232)\",\"gridwidth\":2,\"linecolor\":\"rgb(36,36,36)\",\"showbackground\":true,\"showgrid\":false,\"showline\":true,\"ticks\":\"outside\",\"zeroline\":false,\"zerolinecolor\":\"rgb(36,36,36)\"}},\"shapedefaults\":{\"fillcolor\":\"black\",\"line\":{\"width\":0},\"opacity\":0.3},\"ternary\":{\"aaxis\":{\"gridcolor\":\"rgb(232,232,232)\",\"linecolor\":\"rgb(36,36,36)\",\"showgrid\":false,\"showline\":true,\"ticks\":\"outside\"},\"baxis\":{\"gridcolor\":\"rgb(232,232,232)\",\"linecolor\":\"rgb(36,36,36)\",\"showgrid\":false,\"showline\":true,\"ticks\":\"outside\"},\"bgcolor\":\"white\",\"caxis\":{\"gridcolor\":\"rgb(232,232,232)\",\"linecolor\":\"rgb(36,36,36)\",\"showgrid\":false,\"showline\":true,\"ticks\":\"outside\"}},\"title\":{\"x\":0.05},\"xaxis\":{\"automargin\":true,\"gridcolor\":\"rgb(232,232,232)\",\"linecolor\":\"rgb(36,36,36)\",\"showgrid\":false,\"showline\":true,\"ticks\":\"outside\",\"title\":{\"standoff\":15},\"zeroline\":false,\"zerolinecolor\":\"rgb(36,36,36)\"},\"yaxis\":{\"automargin\":true,\"gridcolor\":\"rgb(232,232,232)\",\"linecolor\":\"rgb(36,36,36)\",\"showgrid\":false,\"showline\":true,\"ticks\":\"outside\",\"title\":{\"standoff\":15},\"zeroline\":false,\"zerolinecolor\":\"rgb(36,36,36)\"}}},\"xaxis\":{\"anchor\":\"y\",\"domain\":[0.0,0.2888888888888889],\"matches\":\"x4\",\"showticklabels\":false},\"yaxis\":{\"anchor\":\"x\",\"domain\":[0.55,1.0]},\"xaxis2\":{\"anchor\":\"y2\",\"domain\":[0.35555555555555557,0.6444444444444445],\"matches\":\"x5\",\"showticklabels\":false},\"yaxis2\":{\"anchor\":\"x2\",\"domain\":[0.55,1.0]},\"xaxis3\":{\"anchor\":\"y3\",\"domain\":[0.7111111111111111,1.0],\"matches\":\"x6\",\"showticklabels\":false},\"yaxis3\":{\"anchor\":\"x3\",\"domain\":[0.55,1.0]},\"xaxis4\":{\"anchor\":\"y4\",\"domain\":[0.0,0.2888888888888889],\"showticklabels\":false},\"yaxis4\":{\"anchor\":\"x4\",\"domain\":[0.0,0.45]},\"xaxis5\":{\"anchor\":\"y5\",\"domain\":[0.35555555555555557,0.6444444444444445],\"showticklabels\":false},\"yaxis5\":{\"anchor\":\"x5\",\"domain\":[0.0,0.45]},\"xaxis6\":{\"anchor\":\"y6\",\"domain\":[0.7111111111111111,1.0],\"showticklabels\":false},\"yaxis6\":{\"anchor\":\"x6\",\"domain\":[0.0,0.45]},\"annotations\":[{\"font\":{\"size\":16},\"showarrow\":false,\"text\":\"Good\",\"x\":0.14444444444444446,\"xanchor\":\"center\",\"xref\":\"paper\",\"y\":1.0,\"yanchor\":\"bottom\",\"yref\":\"paper\"},{\"font\":{\"size\":16},\"showarrow\":false,\"text\":\"Bad\",\"x\":0.5,\"xanchor\":\"center\",\"xref\":\"paper\",\"y\":1.0,\"yanchor\":\"bottom\",\"yref\":\"paper\"},{\"font\":{\"size\":16},\"showarrow\":false,\"text\":\"General Distribuition\",\"x\":0.8555555555555556,\"xanchor\":\"center\",\"xref\":\"paper\",\"y\":1.0,\"yanchor\":\"bottom\",\"yref\":\"paper\"}],\"title\":{\"font\":{\"size\":18},\"text\":\"Amount Distribuition\",\"x\":0.5},\"barmode\":\"group\",\"showlegend\":false,\"width\":1000},                        {\"responsive\": true}                    ).then(function(){\n",
       "                            \n",
       "var gd = document.getElementById('500d4a4d-951c-4484-81b1-8f8403473803');\n",
       "var x = new MutationObserver(function (mutations, observer) {{\n",
       "        var display = window.getComputedStyle(gd).display;\n",
       "        if (!display || display === 'none') {{\n",
       "            console.log([gd, 'removed!']);\n",
       "            Plotly.purge(gd);\n",
       "            observer.disconnect();\n",
       "        }}\n",
       "}});\n",
       "\n",
       "// Listen for the removal of the full notebook cells\n",
       "var notebookContainer = gd.closest('#notebook-container');\n",
       "if (notebookContainer) {{\n",
       "    x.observe(notebookContainer, {childList: true});\n",
       "}}\n",
       "\n",
       "// Listen for the clearing of the current output cell\n",
       "var outputEl = gd.closest('.output');\n",
       "if (outputEl) {{\n",
       "    x.observe(outputEl, {childList: true});\n",
       "}}\n",
       "\n",
       "                        })                };                            </script>        </div>\n",
       "</body>\n",
       "</html>"
      ]
     },
     "metadata": {},
     "output_type": "display_data"
    },
    {
     "data": {
      "text/html": [
       "<html>\n",
       "<head><meta charset=\"utf-8\" /></head>\n",
       "<body>\n",
       "    <div>            <script src=\"https://cdnjs.cloudflare.com/ajax/libs/mathjax/2.7.5/MathJax.js?config=TeX-AMS-MML_SVG\"></script><script type=\"text/javascript\">if (window.MathJax && window.MathJax.Hub && window.MathJax.Hub.Config) {window.MathJax.Hub.Config({SVG: {font: \"STIX-Web\"}});}</script>                <script type=\"text/javascript\">window.PlotlyConfig = {MathJaxConfig: 'local'};</script>\n",
       "        <script src=\"https://cdn.plot.ly/plotly-2.18.2.min.js\"></script>                <div id=\"4f7bd706-6736-417d-bb79-80ad1c8e845b\" class=\"plotly-graph-div\" style=\"height:525px; width:1000px;\"></div>            <script type=\"text/javascript\">                                    window.PLOTLYENV=window.PLOTLYENV || {};                                    if (document.getElementById(\"4f7bd706-6736-417d-bb79-80ad1c8e845b\")) {                    Plotly.newPlot(                        \"4f7bd706-6736-417d-bb79-80ad1c8e845b\",                        [{\"histnorm\":\"probability\",\"x\":[67,49,45,35,53,35,61,22,28,53,25,31,48,44,48,44,26,36,39,42,34,36,27,30,57,33,31,37,24,30,26,44,24,35,39,23,39,28,29,30,25,31,26,31,23,27,50,26,48,29,22,25,30,46,51,41,66,51,39,22,47,24,58,52,29,27,30,56,54,20,54,61,34,36,36,41,24,24,35,26,32,30,35,31,23,28,35,47,27,36,41,24,63,30,40,34,24,27,47,21,38,27,35,44,27,30,27,23,30,39,51,28,46,42,38,24,29,36,48,45,38,34,36,30,36,70,36,32,20,25,26,33,42,52,31,65,50,31,68,33,29,28,36,52,27,26,38,38,43,26,21,55,33,45,51,39,31,23,24,64,26,23,30,32,30,27,22,51,35,25,42,35,39,51,27,35,25,52,35,26,39,46,35,24,27,35,23,57,27,55,36,57,32,36,38,25,32,37,36,32,26,49,29,23,50,49,63,37,35,26,31,49,26,44,56,46,20,45,43,32,54,49,33,24,22,40,25,26,29,38,48,32,27,34,28,36,39,49,34,31,28,75,23,28,31,24,26,25,33,37,43,23,23,34,23,38,46,49,28,61,37,36,21,36,27,22,40,36,33,23,63,34,36,52,39,25,26,26,25,21,40,27,27,30,19,39,31,31,32,55,46,43,39,28,27,43,43,27,26,20,35,40,35,23,31,20,30,47,34,21,29,46,20,74,36,33,25,23,37,65,39,30,29,41,35,55,30,29,34,35,29,36,27,32,37,36,34,38,34,63,32,26,35,36,24,25,39,44,23,26,57,30,44,52,62,35,26,26,27,38,39,40,32,28,42,49,36,28,45,32,26,20,54,37,40,43,36,44,23,26,30,31,42,41,32,41,26,25,75,37,45,60,61,37,32,35,23,45,27,67,49,29,37,23,34,41,38,26,22,27,24,27,33,27,49,26,52,36,21,58,42,36,32,45,23,22,74,33,45,29,22,48,27,37,49,27,22,35,41,36,64,28,23,47,28,21,34,38,33,32,32,50,35,22,37,28,41,23,50,35,50,27,34,27,47,27,31,42,24,26,33,64,26,56,37,33,47,31,34,27,30,35,31,25,25,29,44,28,50,29,38,24,40,47,41,32,35,25,37,32,46,25,63,40,32,31,31,66,41,47,36,33,44,28,37,29,35,45,32,23,41,22,30,28,23,26,33,49,23,25,74,31,59,24,27,40,31,28,63,26,36,52,66,37,25,38,67,60,31,60,35,40,38,41,27,51,32,22,22,54,35,54,48,24,35,24,26,65,55,26,28,54,62,24,43,27,24,47,35,30,38,44,42,21,23,63,46,28,50,47,35,28,59,43,35,45,33,40,28,26,27,32,20,27,42,37,24,40,46,26,24,29,40,36,28,36,38,48,36,65,34,34,40,43,46,38,34,29,31,28,35,33,44,42,40,36,20,24,27,46,33,34,25,28,32,28,37,30,21,58,43,24,30,42,23,30,46,45,31,31,42,46,30,38,40,29,57,49,37,30,30,47,29,22,26,54,29,40,22,43,33,57,64,42,28,30,25,33,64,29,48,37,34,23,30,50,31,40,38,27],\"type\":\"histogram\",\"xaxis\":\"x\",\"yaxis\":\"y\"},{\"histnorm\":\"probability\",\"x\":[22,53,28,25,24,60,32,44,63,25,37,58,57,52,23,61,25,37,40,34,44,47,28,33,58,39,39,25,30,23,25,27,30,29,29,66,22,20,33,31,33,34,26,53,28,30,40,36,74,20,54,34,36,21,34,27,40,21,50,66,27,53,22,26,30,23,61,29,24,22,24,29,37,45,28,34,32,48,28,26,42,37,44,33,24,25,31,28,32,30,24,24,23,44,24,32,29,28,23,26,23,25,42,60,37,57,38,46,27,22,28,42,35,33,33,25,55,29,25,26,41,30,34,61,31,35,29,22,23,28,33,26,47,42,20,29,27,38,24,27,34,26,23,24,53,31,28,33,42,23,31,34,43,24,34,22,28,29,27,31,24,37,36,31,23,27,30,33,20,47,60,20,40,32,23,36,31,30,34,28,50,22,48,22,21,32,38,65,29,44,19,25,26,27,40,27,26,38,40,37,45,42,41,23,43,41,24,29,46,24,25,35,27,34,24,24,21,25,59,21,23,26,37,23,55,32,39,35,24,30,31,25,25,25,23,50,27,39,51,24,26,24,54,46,26,41,33,36,47,23,29,25,48,29,23,68,57,33,32,29,28,35,25,27,43,53,23,42,43,25,31,32,68,33,39,22,55,46,39,22,30,28,42,30,43,31,24,28,26,45,35,23,29,36,47,25,49,33,26,23],\"type\":\"histogram\",\"xaxis\":\"x2\",\"yaxis\":\"y2\"},{\"histnorm\":\"probability\",\"x\":[67,22,49,45,53,35,53,35,61,28,25,24,22,60,28,32,53,25,44,31,48,44,48,44,26,36,39,42,34,63,36,27,30,57,33,25,31,37,37,24,30,26,44,24,58,35,39,23,39,28,29,30,25,31,57,26,52,31,23,23,27,50,61,25,26,48,29,22,37,25,30,46,51,41,40,66,34,51,39,22,44,47,24,58,52,29,27,47,30,28,56,54,33,20,54,58,61,34,36,36,41,24,24,35,26,39,39,32,30,35,31,23,28,25,35,47,30,27,23,36,25,41,24,63,27,30,40,30,34,29,24,29,27,47,21,38,27,66,35,44,27,30,27,22,23,30,39,51,28,46,42,38,24,29,36,20,48,45,38,34,36,30,36,70,36,32,33,20,25,31,33,26,34,33,26,53,42,52,31,65,28,30,40,50,36,31,74,68,20,33,54,34,36,29,21,34,28,27,36,40,52,27,26,21,38,38,43,26,21,55,33,45,50,66,51,39,31,23,24,64,26,23,30,32,30,27,27,53,22,22,26,51,35,25,42,30,23,61,35,39,29,51,24,27,35,25,52,35,26,22,39,46,24,35,24,27,35,29,23,57,27,55,36,57,32,37,36,38,45,25,32,37,36,28,34,32,26,49,32,29,23,50,49,63,37,35,26,31,49,48,26,28,44,56,46,26,20,45,43,32,54,42,37,49,44,33,24,33,24,22,40,25,26,25,29,31,38,48,32,27,28,32,34,28,36,39,49,34,31,28,75,30,24,24,23,44,23,24,28,31,24,26,25,33,37,43,23,23,34,32,23,29,38,28,46,23,49,26,28,23,61,37,36,21,25,36,27,22,42,40,36,33,23,63,60,37,34,36,57,52,39,38,25,26,26,25,21,40,27,27,30,19,39,31,31,32,55,46,46,43,39,28,27,27,43,22,43,27,26,28,20,35,42,40,35,35,33,23,31,33,20,30,47,34,25,21,29,46,20,55,74,29,36,33,25,25,23,37,65,26,39,30,29,41,30,41,34,35,55,61,30,29,34,35,31,29,36,35,27,32,37,36,34,38,34,63,29,32,26,35,22,23,28,36,33,26,24,25,39,44,23,26,57,30,44,47,52,62,35,26,26,42,27,38,39,20,29,40,32,28,27,42,49,38,24,27,36,34,28,45,26,32,26,20,54,37,40,23,43,36,44,24,53,23,26,30,31,42,31,41,32,28,41,26,25,33,75,37,42,45,23,60,31,34,61,43,37,32,24,35,23,45,34,27,67,22,28,29,27,31,49,24,29,37,37,23,36,34,41,31,23,38,26,22,27,24,27,33,27,27,30,49,26,33,52,20,36,21,47,60,58,42,36,20,40,32,23,36,31,32,45,30,34,28,23,22,74,50,33,45,22,48,29,22,22,48,27,37,21,49,27,32,38,22,65,35,41,29,36,64,28,44,23,19,25,47,28,21,34,26,27,38,40,33,32,27,32,26,38,40,50,37,45,42,35,22,41,37,28,41,23,23,50,35,50,27,34,27,43,47,27,31,42,24,41,26,33,24,64,26,56,37,33,47,31,34,27,30,35,31,25,25,29,44,28,50,29,38,24,40,29,46,47,41,32,35,24,25,25,37,32,35,46,25,27,63,40,32,31,31,34,24,24,66,21,41,47,25,59,36,33,21,44,28,37,29,23,35,45,26,32,23,41,22,30,28,23,37,26,33,49,23,23,25,55,32,74,39,31,35,59,24,24,30,27,40,31,31,28,63,26,25,36,52,66,25,37,25,38,67,25,60,31,23,60,35,40,38,50,27,39,41,27,51,32,22,51,22,54,35,54,48,24,35,24,24,26,65,55,26,26,28,24,54,46,54,62,24,43,26,27,24,41,47,35,30,33,36,47,38,44,23,29,42,25,48,21,23,63,46,29,28,23,50,47,35,68,28,59,57,33,43,35,32,45,33,40,28,29,26,27,28,35,32,25,20,27,42,37,24,40,46,26,24,29,40,36,28,27,36,38,48,36,65,43,53,34,23,34,40,43,46,38,34,29,31,28,35,33,42,43,44,42,40,36,20,24,27,46,33,34,25,25,28,31,32,32,68,33,39,28,37,22,30,55,46,21,39,58,43,24,22,30,42,23,30,28,30,42,46,45,31,31,42,46,30,30,38,43,31,40,24,28,26,29,57,49,37,45,30,30,47,29,35,22,26,23,54,29,40,22,43,29,36,33,57,64,42,47,25,49,33,28,26,30,25,33,64,29,48,37,34,23,30,50,31,40,38,23,27],\"type\":\"histogram\",\"xaxis\":\"x3\",\"yaxis\":\"y3\"},{\"y\":[67,49,45,35,53,35,61,22,28,53,25,31,48,44,48,44,26,36,39,42,34,36,27,30,57,33,31,37,24,30,26,44,24,35,39,23,39,28,29,30,25,31,26,31,23,27,50,26,48,29,22,25,30,46,51,41,66,51,39,22,47,24,58,52,29,27,30,56,54,20,54,61,34,36,36,41,24,24,35,26,32,30,35,31,23,28,35,47,27,36,41,24,63,30,40,34,24,27,47,21,38,27,35,44,27,30,27,23,30,39,51,28,46,42,38,24,29,36,48,45,38,34,36,30,36,70,36,32,20,25,26,33,42,52,31,65,50,31,68,33,29,28,36,52,27,26,38,38,43,26,21,55,33,45,51,39,31,23,24,64,26,23,30,32,30,27,22,51,35,25,42,35,39,51,27,35,25,52,35,26,39,46,35,24,27,35,23,57,27,55,36,57,32,36,38,25,32,37,36,32,26,49,29,23,50,49,63,37,35,26,31,49,26,44,56,46,20,45,43,32,54,49,33,24,22,40,25,26,29,38,48,32,27,34,28,36,39,49,34,31,28,75,23,28,31,24,26,25,33,37,43,23,23,34,23,38,46,49,28,61,37,36,21,36,27,22,40,36,33,23,63,34,36,52,39,25,26,26,25,21,40,27,27,30,19,39,31,31,32,55,46,43,39,28,27,43,43,27,26,20,35,40,35,23,31,20,30,47,34,21,29,46,20,74,36,33,25,23,37,65,39,30,29,41,35,55,30,29,34,35,29,36,27,32,37,36,34,38,34,63,32,26,35,36,24,25,39,44,23,26,57,30,44,52,62,35,26,26,27,38,39,40,32,28,42,49,36,28,45,32,26,20,54,37,40,43,36,44,23,26,30,31,42,41,32,41,26,25,75,37,45,60,61,37,32,35,23,45,27,67,49,29,37,23,34,41,38,26,22,27,24,27,33,27,49,26,52,36,21,58,42,36,32,45,23,22,74,33,45,29,22,48,27,37,49,27,22,35,41,36,64,28,23,47,28,21,34,38,33,32,32,50,35,22,37,28,41,23,50,35,50,27,34,27,47,27,31,42,24,26,33,64,26,56,37,33,47,31,34,27,30,35,31,25,25,29,44,28,50,29,38,24,40,47,41,32,35,25,37,32,46,25,63,40,32,31,31,66,41,47,36,33,44,28,37,29,35,45,32,23,41,22,30,28,23,26,33,49,23,25,74,31,59,24,27,40,31,28,63,26,36,52,66,37,25,38,67,60,31,60,35,40,38,41,27,51,32,22,22,54,35,54,48,24,35,24,26,65,55,26,28,54,62,24,43,27,24,47,35,30,38,44,42,21,23,63,46,28,50,47,35,28,59,43,35,45,33,40,28,26,27,32,20,27,42,37,24,40,46,26,24,29,40,36,28,36,38,48,36,65,34,34,40,43,46,38,34,29,31,28,35,33,44,42,40,36,20,24,27,46,33,34,25,28,32,28,37,30,21,58,43,24,30,42,23,30,46,45,31,31,42,46,30,38,40,29,57,49,37,30,30,47,29,22,26,54,29,40,22,43,33,57,64,42,28,30,25,33,64,29,48,37,34,23,30,50,31,40,38,27],\"type\":\"box\",\"xaxis\":\"x4\",\"yaxis\":\"y4\"},{\"y\":[22,53,28,25,24,60,32,44,63,25,37,58,57,52,23,61,25,37,40,34,44,47,28,33,58,39,39,25,30,23,25,27,30,29,29,66,22,20,33,31,33,34,26,53,28,30,40,36,74,20,54,34,36,21,34,27,40,21,50,66,27,53,22,26,30,23,61,29,24,22,24,29,37,45,28,34,32,48,28,26,42,37,44,33,24,25,31,28,32,30,24,24,23,44,24,32,29,28,23,26,23,25,42,60,37,57,38,46,27,22,28,42,35,33,33,25,55,29,25,26,41,30,34,61,31,35,29,22,23,28,33,26,47,42,20,29,27,38,24,27,34,26,23,24,53,31,28,33,42,23,31,34,43,24,34,22,28,29,27,31,24,37,36,31,23,27,30,33,20,47,60,20,40,32,23,36,31,30,34,28,50,22,48,22,21,32,38,65,29,44,19,25,26,27,40,27,26,38,40,37,45,42,41,23,43,41,24,29,46,24,25,35,27,34,24,24,21,25,59,21,23,26,37,23,55,32,39,35,24,30,31,25,25,25,23,50,27,39,51,24,26,24,54,46,26,41,33,36,47,23,29,25,48,29,23,68,57,33,32,29,28,35,25,27,43,53,23,42,43,25,31,32,68,33,39,22,55,46,39,22,30,28,42,30,43,31,24,28,26,45,35,23,29,36,47,25,49,33,26,23],\"type\":\"box\",\"xaxis\":\"x5\",\"yaxis\":\"y5\"},{\"y\":[67,22,49,45,53,35,53,35,61,28,25,24,22,60,28,32,53,25,44,31,48,44,48,44,26,36,39,42,34,63,36,27,30,57,33,25,31,37,37,24,30,26,44,24,58,35,39,23,39,28,29,30,25,31,57,26,52,31,23,23,27,50,61,25,26,48,29,22,37,25,30,46,51,41,40,66,34,51,39,22,44,47,24,58,52,29,27,47,30,28,56,54,33,20,54,58,61,34,36,36,41,24,24,35,26,39,39,32,30,35,31,23,28,25,35,47,30,27,23,36,25,41,24,63,27,30,40,30,34,29,24,29,27,47,21,38,27,66,35,44,27,30,27,22,23,30,39,51,28,46,42,38,24,29,36,20,48,45,38,34,36,30,36,70,36,32,33,20,25,31,33,26,34,33,26,53,42,52,31,65,28,30,40,50,36,31,74,68,20,33,54,34,36,29,21,34,28,27,36,40,52,27,26,21,38,38,43,26,21,55,33,45,50,66,51,39,31,23,24,64,26,23,30,32,30,27,27,53,22,22,26,51,35,25,42,30,23,61,35,39,29,51,24,27,35,25,52,35,26,22,39,46,24,35,24,27,35,29,23,57,27,55,36,57,32,37,36,38,45,25,32,37,36,28,34,32,26,49,32,29,23,50,49,63,37,35,26,31,49,48,26,28,44,56,46,26,20,45,43,32,54,42,37,49,44,33,24,33,24,22,40,25,26,25,29,31,38,48,32,27,28,32,34,28,36,39,49,34,31,28,75,30,24,24,23,44,23,24,28,31,24,26,25,33,37,43,23,23,34,32,23,29,38,28,46,23,49,26,28,23,61,37,36,21,25,36,27,22,42,40,36,33,23,63,60,37,34,36,57,52,39,38,25,26,26,25,21,40,27,27,30,19,39,31,31,32,55,46,46,43,39,28,27,27,43,22,43,27,26,28,20,35,42,40,35,35,33,23,31,33,20,30,47,34,25,21,29,46,20,55,74,29,36,33,25,25,23,37,65,26,39,30,29,41,30,41,34,35,55,61,30,29,34,35,31,29,36,35,27,32,37,36,34,38,34,63,29,32,26,35,22,23,28,36,33,26,24,25,39,44,23,26,57,30,44,47,52,62,35,26,26,42,27,38,39,20,29,40,32,28,27,42,49,38,24,27,36,34,28,45,26,32,26,20,54,37,40,23,43,36,44,24,53,23,26,30,31,42,31,41,32,28,41,26,25,33,75,37,42,45,23,60,31,34,61,43,37,32,24,35,23,45,34,27,67,22,28,29,27,31,49,24,29,37,37,23,36,34,41,31,23,38,26,22,27,24,27,33,27,27,30,49,26,33,52,20,36,21,47,60,58,42,36,20,40,32,23,36,31,32,45,30,34,28,23,22,74,50,33,45,22,48,29,22,22,48,27,37,21,49,27,32,38,22,65,35,41,29,36,64,28,44,23,19,25,47,28,21,34,26,27,38,40,33,32,27,32,26,38,40,50,37,45,42,35,22,41,37,28,41,23,23,50,35,50,27,34,27,43,47,27,31,42,24,41,26,33,24,64,26,56,37,33,47,31,34,27,30,35,31,25,25,29,44,28,50,29,38,24,40,29,46,47,41,32,35,24,25,25,37,32,35,46,25,27,63,40,32,31,31,34,24,24,66,21,41,47,25,59,36,33,21,44,28,37,29,23,35,45,26,32,23,41,22,30,28,23,37,26,33,49,23,23,25,55,32,74,39,31,35,59,24,24,30,27,40,31,31,28,63,26,25,36,52,66,25,37,25,38,67,25,60,31,23,60,35,40,38,50,27,39,41,27,51,32,22,51,22,54,35,54,48,24,35,24,24,26,65,55,26,26,28,24,54,46,54,62,24,43,26,27,24,41,47,35,30,33,36,47,38,44,23,29,42,25,48,21,23,63,46,29,28,23,50,47,35,68,28,59,57,33,43,35,32,45,33,40,28,29,26,27,28,35,32,25,20,27,42,37,24,40,46,26,24,29,40,36,28,27,36,38,48,36,65,43,53,34,23,34,40,43,46,38,34,29,31,28,35,33,42,43,44,42,40,36,20,24,27,46,33,34,25,25,28,31,32,32,68,33,39,28,37,22,30,55,46,21,39,58,43,24,22,30,42,23,30,28,30,42,46,45,31,31,42,46,30,30,38,43,31,40,24,28,26,29,57,49,37,45,30,30,47,29,35,22,26,23,54,29,40,22,43,29,36,33,57,64,42,47,25,49,33,28,26,30,25,33,64,29,48,37,34,23,30,50,31,40,38,23,27],\"type\":\"box\",\"xaxis\":\"x6\",\"yaxis\":\"y6\"}],                        {\"template\":{\"data\":{\"barpolar\":[{\"marker\":{\"line\":{\"color\":\"white\",\"width\":0.5},\"pattern\":{\"fillmode\":\"overlay\",\"size\":10,\"solidity\":0.2}},\"type\":\"barpolar\"}],\"bar\":[{\"error_x\":{\"color\":\"rgb(36,36,36)\"},\"error_y\":{\"color\":\"rgb(36,36,36)\"},\"marker\":{\"line\":{\"color\":\"white\",\"width\":0.5},\"pattern\":{\"fillmode\":\"overlay\",\"size\":10,\"solidity\":0.2}},\"type\":\"bar\"}],\"carpet\":[{\"aaxis\":{\"endlinecolor\":\"rgb(36,36,36)\",\"gridcolor\":\"white\",\"linecolor\":\"white\",\"minorgridcolor\":\"white\",\"startlinecolor\":\"rgb(36,36,36)\"},\"baxis\":{\"endlinecolor\":\"rgb(36,36,36)\",\"gridcolor\":\"white\",\"linecolor\":\"white\",\"minorgridcolor\":\"white\",\"startlinecolor\":\"rgb(36,36,36)\"},\"type\":\"carpet\"}],\"choropleth\":[{\"colorbar\":{\"outlinewidth\":1,\"tickcolor\":\"rgb(36,36,36)\",\"ticks\":\"outside\"},\"type\":\"choropleth\"}],\"contourcarpet\":[{\"colorbar\":{\"outlinewidth\":1,\"tickcolor\":\"rgb(36,36,36)\",\"ticks\":\"outside\"},\"type\":\"contourcarpet\"}],\"contour\":[{\"colorbar\":{\"outlinewidth\":1,\"tickcolor\":\"rgb(36,36,36)\",\"ticks\":\"outside\"},\"colorscale\":[[0.0,\"#440154\"],[0.1111111111111111,\"#482878\"],[0.2222222222222222,\"#3e4989\"],[0.3333333333333333,\"#31688e\"],[0.4444444444444444,\"#26828e\"],[0.5555555555555556,\"#1f9e89\"],[0.6666666666666666,\"#35b779\"],[0.7777777777777778,\"#6ece58\"],[0.8888888888888888,\"#b5de2b\"],[1.0,\"#fde725\"]],\"type\":\"contour\"}],\"heatmapgl\":[{\"colorbar\":{\"outlinewidth\":1,\"tickcolor\":\"rgb(36,36,36)\",\"ticks\":\"outside\"},\"colorscale\":[[0.0,\"#440154\"],[0.1111111111111111,\"#482878\"],[0.2222222222222222,\"#3e4989\"],[0.3333333333333333,\"#31688e\"],[0.4444444444444444,\"#26828e\"],[0.5555555555555556,\"#1f9e89\"],[0.6666666666666666,\"#35b779\"],[0.7777777777777778,\"#6ece58\"],[0.8888888888888888,\"#b5de2b\"],[1.0,\"#fde725\"]],\"type\":\"heatmapgl\"}],\"heatmap\":[{\"colorbar\":{\"outlinewidth\":1,\"tickcolor\":\"rgb(36,36,36)\",\"ticks\":\"outside\"},\"colorscale\":[[0.0,\"#440154\"],[0.1111111111111111,\"#482878\"],[0.2222222222222222,\"#3e4989\"],[0.3333333333333333,\"#31688e\"],[0.4444444444444444,\"#26828e\"],[0.5555555555555556,\"#1f9e89\"],[0.6666666666666666,\"#35b779\"],[0.7777777777777778,\"#6ece58\"],[0.8888888888888888,\"#b5de2b\"],[1.0,\"#fde725\"]],\"type\":\"heatmap\"}],\"histogram2dcontour\":[{\"colorbar\":{\"outlinewidth\":1,\"tickcolor\":\"rgb(36,36,36)\",\"ticks\":\"outside\"},\"colorscale\":[[0.0,\"#440154\"],[0.1111111111111111,\"#482878\"],[0.2222222222222222,\"#3e4989\"],[0.3333333333333333,\"#31688e\"],[0.4444444444444444,\"#26828e\"],[0.5555555555555556,\"#1f9e89\"],[0.6666666666666666,\"#35b779\"],[0.7777777777777778,\"#6ece58\"],[0.8888888888888888,\"#b5de2b\"],[1.0,\"#fde725\"]],\"type\":\"histogram2dcontour\"}],\"histogram2d\":[{\"colorbar\":{\"outlinewidth\":1,\"tickcolor\":\"rgb(36,36,36)\",\"ticks\":\"outside\"},\"colorscale\":[[0.0,\"#440154\"],[0.1111111111111111,\"#482878\"],[0.2222222222222222,\"#3e4989\"],[0.3333333333333333,\"#31688e\"],[0.4444444444444444,\"#26828e\"],[0.5555555555555556,\"#1f9e89\"],[0.6666666666666666,\"#35b779\"],[0.7777777777777778,\"#6ece58\"],[0.8888888888888888,\"#b5de2b\"],[1.0,\"#fde725\"]],\"type\":\"histogram2d\"}],\"histogram\":[{\"marker\":{\"line\":{\"color\":\"white\",\"width\":0.6}},\"type\":\"histogram\"}],\"mesh3d\":[{\"colorbar\":{\"outlinewidth\":1,\"tickcolor\":\"rgb(36,36,36)\",\"ticks\":\"outside\"},\"type\":\"mesh3d\"}],\"parcoords\":[{\"line\":{\"colorbar\":{\"outlinewidth\":1,\"tickcolor\":\"rgb(36,36,36)\",\"ticks\":\"outside\"}},\"type\":\"parcoords\"}],\"pie\":[{\"automargin\":true,\"type\":\"pie\"}],\"scatter3d\":[{\"line\":{\"colorbar\":{\"outlinewidth\":1,\"tickcolor\":\"rgb(36,36,36)\",\"ticks\":\"outside\"}},\"marker\":{\"colorbar\":{\"outlinewidth\":1,\"tickcolor\":\"rgb(36,36,36)\",\"ticks\":\"outside\"}},\"type\":\"scatter3d\"}],\"scattercarpet\":[{\"marker\":{\"colorbar\":{\"outlinewidth\":1,\"tickcolor\":\"rgb(36,36,36)\",\"ticks\":\"outside\"}},\"type\":\"scattercarpet\"}],\"scattergeo\":[{\"marker\":{\"colorbar\":{\"outlinewidth\":1,\"tickcolor\":\"rgb(36,36,36)\",\"ticks\":\"outside\"}},\"type\":\"scattergeo\"}],\"scattergl\":[{\"marker\":{\"colorbar\":{\"outlinewidth\":1,\"tickcolor\":\"rgb(36,36,36)\",\"ticks\":\"outside\"}},\"type\":\"scattergl\"}],\"scattermapbox\":[{\"marker\":{\"colorbar\":{\"outlinewidth\":1,\"tickcolor\":\"rgb(36,36,36)\",\"ticks\":\"outside\"}},\"type\":\"scattermapbox\"}],\"scatterpolargl\":[{\"marker\":{\"colorbar\":{\"outlinewidth\":1,\"tickcolor\":\"rgb(36,36,36)\",\"ticks\":\"outside\"}},\"type\":\"scatterpolargl\"}],\"scatterpolar\":[{\"marker\":{\"colorbar\":{\"outlinewidth\":1,\"tickcolor\":\"rgb(36,36,36)\",\"ticks\":\"outside\"}},\"type\":\"scatterpolar\"}],\"scatter\":[{\"fillpattern\":{\"fillmode\":\"overlay\",\"size\":10,\"solidity\":0.2},\"type\":\"scatter\"}],\"scatterternary\":[{\"marker\":{\"colorbar\":{\"outlinewidth\":1,\"tickcolor\":\"rgb(36,36,36)\",\"ticks\":\"outside\"}},\"type\":\"scatterternary\"}],\"surface\":[{\"colorbar\":{\"outlinewidth\":1,\"tickcolor\":\"rgb(36,36,36)\",\"ticks\":\"outside\"},\"colorscale\":[[0.0,\"#440154\"],[0.1111111111111111,\"#482878\"],[0.2222222222222222,\"#3e4989\"],[0.3333333333333333,\"#31688e\"],[0.4444444444444444,\"#26828e\"],[0.5555555555555556,\"#1f9e89\"],[0.6666666666666666,\"#35b779\"],[0.7777777777777778,\"#6ece58\"],[0.8888888888888888,\"#b5de2b\"],[1.0,\"#fde725\"]],\"type\":\"surface\"}],\"table\":[{\"cells\":{\"fill\":{\"color\":\"rgb(237,237,237)\"},\"line\":{\"color\":\"white\"}},\"header\":{\"fill\":{\"color\":\"rgb(217,217,217)\"},\"line\":{\"color\":\"white\"}},\"type\":\"table\"}]},\"layout\":{\"annotationdefaults\":{\"arrowhead\":0,\"arrowwidth\":1},\"autotypenumbers\":\"strict\",\"coloraxis\":{\"colorbar\":{\"outlinewidth\":1,\"tickcolor\":\"rgb(36,36,36)\",\"ticks\":\"outside\"}},\"colorscale\":{\"diverging\":[[0.0,\"rgb(103,0,31)\"],[0.1,\"rgb(178,24,43)\"],[0.2,\"rgb(214,96,77)\"],[0.3,\"rgb(244,165,130)\"],[0.4,\"rgb(253,219,199)\"],[0.5,\"rgb(247,247,247)\"],[0.6,\"rgb(209,229,240)\"],[0.7,\"rgb(146,197,222)\"],[0.8,\"rgb(67,147,195)\"],[0.9,\"rgb(33,102,172)\"],[1.0,\"rgb(5,48,97)\"]],\"sequential\":[[0.0,\"#440154\"],[0.1111111111111111,\"#482878\"],[0.2222222222222222,\"#3e4989\"],[0.3333333333333333,\"#31688e\"],[0.4444444444444444,\"#26828e\"],[0.5555555555555556,\"#1f9e89\"],[0.6666666666666666,\"#35b779\"],[0.7777777777777778,\"#6ece58\"],[0.8888888888888888,\"#b5de2b\"],[1.0,\"#fde725\"]],\"sequentialminus\":[[0.0,\"#440154\"],[0.1111111111111111,\"#482878\"],[0.2222222222222222,\"#3e4989\"],[0.3333333333333333,\"#31688e\"],[0.4444444444444444,\"#26828e\"],[0.5555555555555556,\"#1f9e89\"],[0.6666666666666666,\"#35b779\"],[0.7777777777777778,\"#6ece58\"],[0.8888888888888888,\"#b5de2b\"],[1.0,\"#fde725\"]]},\"colorway\":[\"#1F77B4\",\"#FF7F0E\",\"#2CA02C\",\"#D62728\",\"#9467BD\",\"#8C564B\",\"#E377C2\",\"#7F7F7F\",\"#BCBD22\",\"#17BECF\"],\"font\":{\"color\":\"rgb(36,36,36)\"},\"geo\":{\"bgcolor\":\"white\",\"lakecolor\":\"white\",\"landcolor\":\"white\",\"showlakes\":true,\"showland\":true,\"subunitcolor\":\"white\"},\"hoverlabel\":{\"align\":\"left\"},\"hovermode\":\"closest\",\"mapbox\":{\"style\":\"light\"},\"paper_bgcolor\":\"white\",\"plot_bgcolor\":\"white\",\"polar\":{\"angularaxis\":{\"gridcolor\":\"rgb(232,232,232)\",\"linecolor\":\"rgb(36,36,36)\",\"showgrid\":false,\"showline\":true,\"ticks\":\"outside\"},\"bgcolor\":\"white\",\"radialaxis\":{\"gridcolor\":\"rgb(232,232,232)\",\"linecolor\":\"rgb(36,36,36)\",\"showgrid\":false,\"showline\":true,\"ticks\":\"outside\"}},\"scene\":{\"xaxis\":{\"backgroundcolor\":\"white\",\"gridcolor\":\"rgb(232,232,232)\",\"gridwidth\":2,\"linecolor\":\"rgb(36,36,36)\",\"showbackground\":true,\"showgrid\":false,\"showline\":true,\"ticks\":\"outside\",\"zeroline\":false,\"zerolinecolor\":\"rgb(36,36,36)\"},\"yaxis\":{\"backgroundcolor\":\"white\",\"gridcolor\":\"rgb(232,232,232)\",\"gridwidth\":2,\"linecolor\":\"rgb(36,36,36)\",\"showbackground\":true,\"showgrid\":false,\"showline\":true,\"ticks\":\"outside\",\"zeroline\":false,\"zerolinecolor\":\"rgb(36,36,36)\"},\"zaxis\":{\"backgroundcolor\":\"white\",\"gridcolor\":\"rgb(232,232,232)\",\"gridwidth\":2,\"linecolor\":\"rgb(36,36,36)\",\"showbackground\":true,\"showgrid\":false,\"showline\":true,\"ticks\":\"outside\",\"zeroline\":false,\"zerolinecolor\":\"rgb(36,36,36)\"}},\"shapedefaults\":{\"fillcolor\":\"black\",\"line\":{\"width\":0},\"opacity\":0.3},\"ternary\":{\"aaxis\":{\"gridcolor\":\"rgb(232,232,232)\",\"linecolor\":\"rgb(36,36,36)\",\"showgrid\":false,\"showline\":true,\"ticks\":\"outside\"},\"baxis\":{\"gridcolor\":\"rgb(232,232,232)\",\"linecolor\":\"rgb(36,36,36)\",\"showgrid\":false,\"showline\":true,\"ticks\":\"outside\"},\"bgcolor\":\"white\",\"caxis\":{\"gridcolor\":\"rgb(232,232,232)\",\"linecolor\":\"rgb(36,36,36)\",\"showgrid\":false,\"showline\":true,\"ticks\":\"outside\"}},\"title\":{\"x\":0.05},\"xaxis\":{\"automargin\":true,\"gridcolor\":\"rgb(232,232,232)\",\"linecolor\":\"rgb(36,36,36)\",\"showgrid\":false,\"showline\":true,\"ticks\":\"outside\",\"title\":{\"standoff\":15},\"zeroline\":false,\"zerolinecolor\":\"rgb(36,36,36)\"},\"yaxis\":{\"automargin\":true,\"gridcolor\":\"rgb(232,232,232)\",\"linecolor\":\"rgb(36,36,36)\",\"showgrid\":false,\"showline\":true,\"ticks\":\"outside\",\"title\":{\"standoff\":15},\"zeroline\":false,\"zerolinecolor\":\"rgb(36,36,36)\"}}},\"xaxis\":{\"anchor\":\"y\",\"domain\":[0.0,0.2888888888888889],\"matches\":\"x4\",\"showticklabels\":false},\"yaxis\":{\"anchor\":\"x\",\"domain\":[0.55,1.0]},\"xaxis2\":{\"anchor\":\"y2\",\"domain\":[0.35555555555555557,0.6444444444444445],\"matches\":\"x5\",\"showticklabels\":false},\"yaxis2\":{\"anchor\":\"x2\",\"domain\":[0.55,1.0]},\"xaxis3\":{\"anchor\":\"y3\",\"domain\":[0.7111111111111111,1.0],\"matches\":\"x6\",\"showticklabels\":false},\"yaxis3\":{\"anchor\":\"x3\",\"domain\":[0.55,1.0]},\"xaxis4\":{\"anchor\":\"y4\",\"domain\":[0.0,0.2888888888888889],\"showticklabels\":false},\"yaxis4\":{\"anchor\":\"x4\",\"domain\":[0.0,0.45]},\"xaxis5\":{\"anchor\":\"y5\",\"domain\":[0.35555555555555557,0.6444444444444445],\"showticklabels\":false},\"yaxis5\":{\"anchor\":\"x5\",\"domain\":[0.0,0.45]},\"xaxis6\":{\"anchor\":\"y6\",\"domain\":[0.7111111111111111,1.0],\"showticklabels\":false},\"yaxis6\":{\"anchor\":\"x6\",\"domain\":[0.0,0.45]},\"annotations\":[{\"font\":{\"size\":16},\"showarrow\":false,\"text\":\"Good\",\"x\":0.14444444444444446,\"xanchor\":\"center\",\"xref\":\"paper\",\"y\":1.0,\"yanchor\":\"bottom\",\"yref\":\"paper\"},{\"font\":{\"size\":16},\"showarrow\":false,\"text\":\"Bad\",\"x\":0.5,\"xanchor\":\"center\",\"xref\":\"paper\",\"y\":1.0,\"yanchor\":\"bottom\",\"yref\":\"paper\"},{\"font\":{\"size\":16},\"showarrow\":false,\"text\":\"General Distribuition\",\"x\":0.8555555555555556,\"xanchor\":\"center\",\"xref\":\"paper\",\"y\":1.0,\"yanchor\":\"bottom\",\"yref\":\"paper\"}],\"title\":{\"font\":{\"size\":18},\"text\":\"Age Distribuition\",\"x\":0.5},\"barmode\":\"group\",\"showlegend\":false,\"width\":1000},                        {\"responsive\": true}                    ).then(function(){\n",
       "                            \n",
       "var gd = document.getElementById('4f7bd706-6736-417d-bb79-80ad1c8e845b');\n",
       "var x = new MutationObserver(function (mutations, observer) {{\n",
       "        var display = window.getComputedStyle(gd).display;\n",
       "        if (!display || display === 'none') {{\n",
       "            console.log([gd, 'removed!']);\n",
       "            Plotly.purge(gd);\n",
       "            observer.disconnect();\n",
       "        }}\n",
       "}});\n",
       "\n",
       "// Listen for the removal of the full notebook cells\n",
       "var notebookContainer = gd.closest('#notebook-container');\n",
       "if (notebookContainer) {{\n",
       "    x.observe(notebookContainer, {childList: true});\n",
       "}}\n",
       "\n",
       "// Listen for the clearing of the current output cell\n",
       "var outputEl = gd.closest('.output');\n",
       "if (outputEl) {{\n",
       "    x.observe(outputEl, {childList: true});\n",
       "}}\n",
       "\n",
       "                        })                };                            </script>        </div>\n",
       "</body>\n",
       "</html>"
      ]
     },
     "metadata": {},
     "output_type": "display_data"
    }
   ],
   "source": [
    "for col in numeric.columns.to_list():\n",
    "  plotDist(df, col)"
   ]
  },
  {
   "cell_type": "markdown",
   "metadata": {
    "id": "BXeDCpVOStw9"
   },
   "source": [
    "#### Normality and Transformations"
   ]
  },
  {
   "cell_type": "code",
   "execution_count": null,
   "metadata": {
    "id": "r_DGBio--KXk"
   },
   "outputs": [],
   "source": [
    "# Normal test\n",
    "from scipy import stats\n",
    "\n",
    "def normalTest(alpha, df):\n",
    "    alpha = alpha\n",
    "    names = []\n",
    "    test = []\n",
    "    p_value = []\n",
    "    \n",
    "    #Null hypothesis: The data follow normal distribution.\n",
    "    #Alternative hypothesis: The data do not follow a normal distribution\n",
    "    \n",
    "    for col in df.columns:\n",
    "        k2, p = stats.normaltest(df[col])\n",
    "        names.append(col)\n",
    "        test.append('Rejects H0. The distribution is NOT normal.' if p < alpha else 'Does not reject H0. The distribution is normal.')\n",
    "        p_value.append(p.round(4))\n",
    "        \n",
    "    return pd.DataFrame({'Name': names,\n",
    "                         'Test': test,\n",
    "                         'p-value': p_value})"
   ]
  },
  {
   "cell_type": "code",
   "execution_count": null,
   "metadata": {
    "colab": {
     "base_uri": "https://localhost:8080/"
    },
    "id": "JGa6g_dQ-mx-",
    "outputId": "e0217ee9-6fac-4ca8-a618-57272f18bac7"
   },
   "outputs": [
    {
     "data": {
      "text/html": [
       "\n",
       "  <div id=\"df-b6567bc9-c2ee-4779-aaf9-171e405c1800\">\n",
       "    <div class=\"colab-df-container\">\n",
       "      <div>\n",
       "<style scoped>\n",
       "    .dataframe tbody tr th:only-of-type {\n",
       "        vertical-align: middle;\n",
       "    }\n",
       "\n",
       "    .dataframe tbody tr th {\n",
       "        vertical-align: top;\n",
       "    }\n",
       "\n",
       "    .dataframe thead th {\n",
       "        text-align: right;\n",
       "    }\n",
       "</style>\n",
       "<table border=\"1\" class=\"dataframe\">\n",
       "  <thead>\n",
       "    <tr style=\"text-align: right;\">\n",
       "      <th></th>\n",
       "      <th>Name</th>\n",
       "      <th>Test</th>\n",
       "      <th>p-value</th>\n",
       "    </tr>\n",
       "  </thead>\n",
       "  <tbody>\n",
       "    <tr>\n",
       "      <th>0</th>\n",
       "      <td>months_loan_duration</td>\n",
       "      <td>Rejects H0. The distribution is NOT normal.</td>\n",
       "      <td>0.0</td>\n",
       "    </tr>\n",
       "    <tr>\n",
       "      <th>1</th>\n",
       "      <td>amount</td>\n",
       "      <td>Rejects H0. The distribution is NOT normal.</td>\n",
       "      <td>0.0</td>\n",
       "    </tr>\n",
       "    <tr>\n",
       "      <th>2</th>\n",
       "      <td>age</td>\n",
       "      <td>Rejects H0. The distribution is NOT normal.</td>\n",
       "      <td>0.0</td>\n",
       "    </tr>\n",
       "  </tbody>\n",
       "</table>\n",
       "</div>\n",
       "      <button class=\"colab-df-convert\" onclick=\"convertToInteractive('df-b6567bc9-c2ee-4779-aaf9-171e405c1800')\"\n",
       "              title=\"Convert this dataframe to an interactive table.\"\n",
       "              style=\"display:none;\">\n",
       "        \n",
       "  <svg xmlns=\"http://www.w3.org/2000/svg\" height=\"24px\"viewBox=\"0 0 24 24\"\n",
       "       width=\"24px\">\n",
       "    <path d=\"M0 0h24v24H0V0z\" fill=\"none\"/>\n",
       "    <path d=\"M18.56 5.44l.94 2.06.94-2.06 2.06-.94-2.06-.94-.94-2.06-.94 2.06-2.06.94zm-11 1L8.5 8.5l.94-2.06 2.06-.94-2.06-.94L8.5 2.5l-.94 2.06-2.06.94zm10 10l.94 2.06.94-2.06 2.06-.94-2.06-.94-.94-2.06-.94 2.06-2.06.94z\"/><path d=\"M17.41 7.96l-1.37-1.37c-.4-.4-.92-.59-1.43-.59-.52 0-1.04.2-1.43.59L10.3 9.45l-7.72 7.72c-.78.78-.78 2.05 0 2.83L4 21.41c.39.39.9.59 1.41.59.51 0 1.02-.2 1.41-.59l7.78-7.78 2.81-2.81c.8-.78.8-2.07 0-2.86zM5.41 20L4 18.59l7.72-7.72 1.47 1.35L5.41 20z\"/>\n",
       "  </svg>\n",
       "      </button>\n",
       "      \n",
       "  <style>\n",
       "    .colab-df-container {\n",
       "      display:flex;\n",
       "      flex-wrap:wrap;\n",
       "      gap: 12px;\n",
       "    }\n",
       "\n",
       "    .colab-df-convert {\n",
       "      background-color: #E8F0FE;\n",
       "      border: none;\n",
       "      border-radius: 50%;\n",
       "      cursor: pointer;\n",
       "      display: none;\n",
       "      fill: #1967D2;\n",
       "      height: 32px;\n",
       "      padding: 0 0 0 0;\n",
       "      width: 32px;\n",
       "    }\n",
       "\n",
       "    .colab-df-convert:hover {\n",
       "      background-color: #E2EBFA;\n",
       "      box-shadow: 0px 1px 2px rgba(60, 64, 67, 0.3), 0px 1px 3px 1px rgba(60, 64, 67, 0.15);\n",
       "      fill: #174EA6;\n",
       "    }\n",
       "\n",
       "    [theme=dark] .colab-df-convert {\n",
       "      background-color: #3B4455;\n",
       "      fill: #D2E3FC;\n",
       "    }\n",
       "\n",
       "    [theme=dark] .colab-df-convert:hover {\n",
       "      background-color: #434B5C;\n",
       "      box-shadow: 0px 1px 3px 1px rgba(0, 0, 0, 0.15);\n",
       "      filter: drop-shadow(0px 1px 2px rgba(0, 0, 0, 0.3));\n",
       "      fill: #FFFFFF;\n",
       "    }\n",
       "  </style>\n",
       "\n",
       "      <script>\n",
       "        const buttonEl =\n",
       "          document.querySelector('#df-b6567bc9-c2ee-4779-aaf9-171e405c1800 button.colab-df-convert');\n",
       "        buttonEl.style.display =\n",
       "          google.colab.kernel.accessAllowed ? 'block' : 'none';\n",
       "\n",
       "        async function convertToInteractive(key) {\n",
       "          const element = document.querySelector('#df-b6567bc9-c2ee-4779-aaf9-171e405c1800');\n",
       "          const dataTable =\n",
       "            await google.colab.kernel.invokeFunction('convertToInteractive',\n",
       "                                                     [key], {});\n",
       "          if (!dataTable) return;\n",
       "\n",
       "          const docLinkHtml = 'Like what you see? Visit the ' +\n",
       "            '<a target=\"_blank\" href=https://colab.research.google.com/notebooks/data_table.ipynb>data table notebook</a>'\n",
       "            + ' to learn more about interactive tables.';\n",
       "          element.innerHTML = '';\n",
       "          dataTable['output_type'] = 'display_data';\n",
       "          await google.colab.output.renderOutput(dataTable, element);\n",
       "          const docLink = document.createElement('div');\n",
       "          docLink.innerHTML = docLinkHtml;\n",
       "          element.appendChild(docLink);\n",
       "        }\n",
       "      </script>\n",
       "    </div>\n",
       "  </div>\n",
       "  "
      ],
      "text/plain": [
       "                   Name                                         Test  p-value\n",
       "0  months_loan_duration  Rejects H0. The distribution is NOT normal.      0.0\n",
       "1                amount  Rejects H0. The distribution is NOT normal.      0.0\n",
       "2                   age  Rejects H0. The distribution is NOT normal.      0.0"
      ]
     },
     "execution_count": 17,
     "metadata": {},
     "output_type": "execute_result"
    }
   ],
   "source": [
    "normalTest(0.05, numeric)"
   ]
  },
  {
   "cell_type": "code",
   "execution_count": null,
   "metadata": {
    "id": "-eDAMDh0_WNI"
   },
   "outputs": [],
   "source": [
    "# Transformation functions\n",
    "\n",
    "# Log Transformation\n",
    "def logFunc(df):\n",
    "    return np.log1p(df)\n",
    "\n",
    "# Square-Root Transformation\n",
    "def sqrtFunc(df):\n",
    "    return pd.DataFrame(df**(1/2))\n",
    "\n",
    "# Box-Cox Transformation\n",
    "from scipy.stats import boxcox\n",
    "def bxcFunc(df):\n",
    "    bcx = [boxcox(df[col])[0] for col in df.columns]\n",
    "    bcx = pd.DataFrame(bcx).T\n",
    "    bcx.columns = list(df[numeric].columns)\n",
    "    return bcx\n",
    "\n",
    "# Yeo Transformation\n",
    "from scipy.stats import yeojohnson\n",
    "def yeoJohnson(df):\n",
    "    yeo_johnson = [yeojohnson(df[col])[0] for col in df.columns]\n",
    "    yeo_johnson = pd.DataFrame(yeo_johnson).T\n",
    "    yeo_johnson.columns = list(df[numeric].columns)\n",
    "    return yeo_johnson"
   ]
  },
  {
   "cell_type": "code",
   "execution_count": null,
   "metadata": {
    "colab": {
     "base_uri": "https://localhost:8080/"
    },
    "id": "lvnOqFpR_dpO",
    "outputId": "982f1983-c6c1-4c86-e511-495bc6420a0f"
   },
   "outputs": [
    {
     "data": {
      "text/html": [
       "\n",
       "  <div id=\"df-140cdfbd-fad3-4afe-ad70-38667ef27af2\">\n",
       "    <div class=\"colab-df-container\">\n",
       "      <div>\n",
       "<style scoped>\n",
       "    .dataframe tbody tr th:only-of-type {\n",
       "        vertical-align: middle;\n",
       "    }\n",
       "\n",
       "    .dataframe tbody tr th {\n",
       "        vertical-align: top;\n",
       "    }\n",
       "\n",
       "    .dataframe thead th {\n",
       "        text-align: right;\n",
       "    }\n",
       "</style>\n",
       "<table border=\"1\" class=\"dataframe\">\n",
       "  <thead>\n",
       "    <tr style=\"text-align: right;\">\n",
       "      <th></th>\n",
       "      <th>Name</th>\n",
       "      <th>Test</th>\n",
       "      <th>p-value</th>\n",
       "    </tr>\n",
       "  </thead>\n",
       "  <tbody>\n",
       "    <tr>\n",
       "      <th>0</th>\n",
       "      <td>months_loan_duration</td>\n",
       "      <td>Rejects H0. The distribution is NOT normal.</td>\n",
       "      <td>0.0000</td>\n",
       "    </tr>\n",
       "    <tr>\n",
       "      <th>1</th>\n",
       "      <td>amount</td>\n",
       "      <td>Rejects H0. The distribution is NOT normal.</td>\n",
       "      <td>0.0086</td>\n",
       "    </tr>\n",
       "    <tr>\n",
       "      <th>2</th>\n",
       "      <td>age</td>\n",
       "      <td>Rejects H0. The distribution is NOT normal.</td>\n",
       "      <td>0.0000</td>\n",
       "    </tr>\n",
       "  </tbody>\n",
       "</table>\n",
       "</div>\n",
       "      <button class=\"colab-df-convert\" onclick=\"convertToInteractive('df-140cdfbd-fad3-4afe-ad70-38667ef27af2')\"\n",
       "              title=\"Convert this dataframe to an interactive table.\"\n",
       "              style=\"display:none;\">\n",
       "        \n",
       "  <svg xmlns=\"http://www.w3.org/2000/svg\" height=\"24px\"viewBox=\"0 0 24 24\"\n",
       "       width=\"24px\">\n",
       "    <path d=\"M0 0h24v24H0V0z\" fill=\"none\"/>\n",
       "    <path d=\"M18.56 5.44l.94 2.06.94-2.06 2.06-.94-2.06-.94-.94-2.06-.94 2.06-2.06.94zm-11 1L8.5 8.5l.94-2.06 2.06-.94-2.06-.94L8.5 2.5l-.94 2.06-2.06.94zm10 10l.94 2.06.94-2.06 2.06-.94-2.06-.94-.94-2.06-.94 2.06-2.06.94z\"/><path d=\"M17.41 7.96l-1.37-1.37c-.4-.4-.92-.59-1.43-.59-.52 0-1.04.2-1.43.59L10.3 9.45l-7.72 7.72c-.78.78-.78 2.05 0 2.83L4 21.41c.39.39.9.59 1.41.59.51 0 1.02-.2 1.41-.59l7.78-7.78 2.81-2.81c.8-.78.8-2.07 0-2.86zM5.41 20L4 18.59l7.72-7.72 1.47 1.35L5.41 20z\"/>\n",
       "  </svg>\n",
       "      </button>\n",
       "      \n",
       "  <style>\n",
       "    .colab-df-container {\n",
       "      display:flex;\n",
       "      flex-wrap:wrap;\n",
       "      gap: 12px;\n",
       "    }\n",
       "\n",
       "    .colab-df-convert {\n",
       "      background-color: #E8F0FE;\n",
       "      border: none;\n",
       "      border-radius: 50%;\n",
       "      cursor: pointer;\n",
       "      display: none;\n",
       "      fill: #1967D2;\n",
       "      height: 32px;\n",
       "      padding: 0 0 0 0;\n",
       "      width: 32px;\n",
       "    }\n",
       "\n",
       "    .colab-df-convert:hover {\n",
       "      background-color: #E2EBFA;\n",
       "      box-shadow: 0px 1px 2px rgba(60, 64, 67, 0.3), 0px 1px 3px 1px rgba(60, 64, 67, 0.15);\n",
       "      fill: #174EA6;\n",
       "    }\n",
       "\n",
       "    [theme=dark] .colab-df-convert {\n",
       "      background-color: #3B4455;\n",
       "      fill: #D2E3FC;\n",
       "    }\n",
       "\n",
       "    [theme=dark] .colab-df-convert:hover {\n",
       "      background-color: #434B5C;\n",
       "      box-shadow: 0px 1px 3px 1px rgba(0, 0, 0, 0.15);\n",
       "      filter: drop-shadow(0px 1px 2px rgba(0, 0, 0, 0.3));\n",
       "      fill: #FFFFFF;\n",
       "    }\n",
       "  </style>\n",
       "\n",
       "      <script>\n",
       "        const buttonEl =\n",
       "          document.querySelector('#df-140cdfbd-fad3-4afe-ad70-38667ef27af2 button.colab-df-convert');\n",
       "        buttonEl.style.display =\n",
       "          google.colab.kernel.accessAllowed ? 'block' : 'none';\n",
       "\n",
       "        async function convertToInteractive(key) {\n",
       "          const element = document.querySelector('#df-140cdfbd-fad3-4afe-ad70-38667ef27af2');\n",
       "          const dataTable =\n",
       "            await google.colab.kernel.invokeFunction('convertToInteractive',\n",
       "                                                     [key], {});\n",
       "          if (!dataTable) return;\n",
       "\n",
       "          const docLinkHtml = 'Like what you see? Visit the ' +\n",
       "            '<a target=\"_blank\" href=https://colab.research.google.com/notebooks/data_table.ipynb>data table notebook</a>'\n",
       "            + ' to learn more about interactive tables.';\n",
       "          element.innerHTML = '';\n",
       "          dataTable['output_type'] = 'display_data';\n",
       "          await google.colab.output.renderOutput(dataTable, element);\n",
       "          const docLink = document.createElement('div');\n",
       "          docLink.innerHTML = docLinkHtml;\n",
       "          element.appendChild(docLink);\n",
       "        }\n",
       "      </script>\n",
       "    </div>\n",
       "  </div>\n",
       "  "
      ],
      "text/plain": [
       "                   Name                                         Test  p-value\n",
       "0  months_loan_duration  Rejects H0. The distribution is NOT normal.   0.0000\n",
       "1                amount  Rejects H0. The distribution is NOT normal.   0.0086\n",
       "2                   age  Rejects H0. The distribution is NOT normal.   0.0000"
      ]
     },
     "execution_count": 19,
     "metadata": {},
     "output_type": "execute_result"
    }
   ],
   "source": [
    "normalTest(0.05, logFunc(numeric))"
   ]
  },
  {
   "cell_type": "code",
   "execution_count": null,
   "metadata": {
    "colab": {
     "base_uri": "https://localhost:8080/"
    },
    "id": "DEWeITg7Rgb8",
    "outputId": "be289026-43cd-4a0e-c26b-fe1e917696ea"
   },
   "outputs": [
    {
     "name": "stderr",
     "output_type": "stream",
     "text": [
      "/usr/local/lib/python3.9/dist-packages/plotly/tools.py:460: DeprecationWarning:\n",
      "\n",
      "plotly.tools.make_subplots is deprecated, please use plotly.subplots.make_subplots instead\n",
      "\n"
     ]
    },
    {
     "data": {
      "text/html": [
       "<html>\n",
       "<head><meta charset=\"utf-8\" /></head>\n",
       "<body>\n",
       "    <div>            <script src=\"https://cdnjs.cloudflare.com/ajax/libs/mathjax/2.7.5/MathJax.js?config=TeX-AMS-MML_SVG\"></script><script type=\"text/javascript\">if (window.MathJax && window.MathJax.Hub && window.MathJax.Hub.Config) {window.MathJax.Hub.Config({SVG: {font: \"STIX-Web\"}});}</script>                <script type=\"text/javascript\">window.PlotlyConfig = {MathJaxConfig: 'local'};</script>\n",
       "        <script src=\"https://cdn.plot.ly/plotly-2.18.2.min.js\"></script>                <div id=\"81c29a73-c55e-422d-813e-32195b0db261\" class=\"plotly-graph-div\" style=\"height:525px; width:1000px;\"></div>            <script type=\"text/javascript\">                                    window.PLOTLYENV=window.PLOTLYENV || {};                                    if (document.getElementById(\"81c29a73-c55e-422d-813e-32195b0db261\")) {                    Plotly.newPlot(                        \"81c29a73-c55e-422d-813e-32195b0db261\",                        [{\"histnorm\":\"probability\",\"x\":[1.9459101490553132,2.5649493574615367,3.7612001156935624,3.6109179126442243,3.2188758248682006,3.6109179126442243,2.5649493574615367,2.5649493574615367,2.772588722239781,3.2188758248682006,3.4339872044851463,3.2188758248682006,2.3025850929940455,1.9459101490553132,2.3978952727983707,2.5649493574615367,2.3978952727983707,1.9459101490553132,1.9459101490553132,2.5649493574615367,2.0794415416798357,2.9444389791664403,3.2188758248682006,2.9444389791664403,2.5649493574615367,2.5649493574615367,3.8918202981106265,2.3978952727983707,2.3025850929940455,3.4339872044851463,2.5649493574615367,2.9444389791664403,3.4339872044851463,2.4849066497880004,3.6109179126442243,1.9459101490553132,2.4849066497880004,2.5649493574615367,3.2188758248682006,3.332204510175204,2.5649493574615367,2.9444389791664403,1.9459101490553132,3.6109179126442243,2.9444389791664403,2.3025850929940455,2.772588722239781,3.2188758248682006,3.332204510175204,2.5649493574615367,2.5649493574615367,3.6109179126442243,3.6109179126442243,2.0794415416798357,2.197224577336219,3.7612001156935624,2.5649493574615367,2.4849066497880004,4.007333185232471,3.4339872044851463,2.772588722239781,2.9444389791664403,3.2188758248682006,2.3978952727983707,2.5649493574615367,2.9444389791664403,2.9444389791664403,2.5649493574615367,2.5649493574615367,3.2188758248682006,2.5649493574615367,2.5649493574615367,2.9444389791664403,3.6109179126442243,3.044522437723423,3.2188758248682006,3.6109179126442243,1.9459101490553132,2.3025850929940455,2.5649493574615367,2.5649493574615367,3.2188758248682006,2.70805020110221,1.9459101490553132,2.772588722239781,2.9444389791664403,2.5649493574615367,3.8918202981106265,2.3978952727983707,2.5649493574615367,3.2188758248682006,2.5649493574615367,2.3978952727983707,2.5649493574615367,2.5649493574615367,2.5649493574615367,3.8918202981106265,2.772588722239781,2.9444389791664403,4.110873864173311,2.5649493574615367,3.332204510175204,2.772588722239781,2.5649493574615367,1.9459101490553132,3.6109179126442243,3.332204510175204,3.0910424533583156,3.8918202981106265,1.9459101490553132,2.5649493574615367,3.6109179126442243,2.9444389791664403,1.9459101490553132,2.3978952727983707,3.6109179126442243,3.2188758248682006,3.2188758248682006,2.3025850929940455,2.5649493574615367,3.2188758248682006,1.9459101490553132,3.2188758248682006,2.9444389791664403,2.772588722239781,2.3978952727983707,3.6109179126442243,1.9459101490553132,2.4849066497880004,3.2188758248682006,2.5649493574615367,2.197224577336219,2.5649493574615367,1.9459101490553132,2.5649493574615367,3.0910424533583156,3.2188758248682006,2.772588722239781,2.833213344056216,2.9444389791664403,1.9459101490553132,1.9459101490553132,3.2188758248682006,2.3025850929940455,2.5649493574615367,3.332204510175204,2.5649493574615367,3.4339872044851463,2.5649493574615367,2.5649493574615367,3.2188758248682006,2.5649493574615367,2.3025850929940455,3.6109179126442243,3.6109179126442243,1.9459101490553132,2.9444389791664403,3.6109179126442243,3.2188758248682006,2.3978952727983707,2.5649493574615367,2.5649493574615367,2.5649493574615367,3.2188758248682006,2.772588722239781,3.6109179126442243,3.2188758248682006,2.3025850929940455,2.5649493574615367,2.9444389791664403,1.6094379124341003,2.5649493574615367,3.4339872044851463,1.9459101490553132,2.5649493574615367,2.5649493574615367,3.2188758248682006,2.5649493574615367,1.9459101490553132,3.2188758248682006,1.9459101490553132,2.5649493574615367,3.2188758248682006,2.3025850929940455,4.110873864173311,3.2188758248682006,2.772588722239781,2.4849066497880004,2.5649493574615367,3.2188758248682006,2.9444389791664403,2.5649493574615367,2.3978952727983707,3.6109179126442243,3.2188758248682006,3.2188758248682006,2.9444389791664403,2.5649493574615367,3.8918202981106265,2.3025850929940455,2.9444389791664403,2.5649493574615367,3.2188758248682006,2.772588722239781,2.5649493574615367,2.9444389791664403,2.772588722239781,3.2188758248682006,3.8712010109078907,3.8918202981106265,3.8918202981106265,2.5649493574615367,2.5649493574615367,3.2188758248682006,3.7612001156935624,3.8918202981106265,2.5649493574615367,2.3978952727983707,2.9444389791664403,3.0910424533583156,1.9459101490553132,2.3978952727983707,1.9459101490553132,3.4339872044851463,2.3025850929940455,3.8918202981106265,3.2188758248682006,3.2188758248682006,1.6094379124341003,2.5649493574615367,3.2188758248682006,2.5649493574615367,2.772588722239781,3.2188758248682006,2.9444389791664403,2.9444389791664403,2.197224577336219,2.5649493574615367,3.2188758248682006,3.6109179126442243,1.9459101490553132,3.2188758248682006,2.6390573296152584,3.2188758248682006,2.3978952727983707,3.2188758248682006,3.0910424533583156,2.9444389791664403,2.9444389791664403,2.3978952727983707,2.772588722239781,2.6390573296152584,3.2188758248682006,1.9459101490553132,2.3025850929940455,2.9444389791664403,2.3978952727983707,2.5649493574615367,2.5649493574615367,2.9444389791664403,2.5649493574615367,2.5649493574615367,1.9459101490553132,2.5649493574615367,2.9444389791664403,2.9444389791664403,2.9444389791664403,3.6109179126442243,2.9444389791664403,2.3978952727983707,4.110873864173311,2.9444389791664403,2.0794415416798357,1.9459101490553132,3.044522437723423,3.1354942159291497,2.5649493574615367,3.4339872044851463,2.9444389791664403,2.9444389791664403,2.9444389791664403,2.772588722239781,2.3025850929940455,2.9444389791664403,2.5649493574615367,3.6109179126442243,1.9459101490553132,2.3025850929940455,3.6888794541139363,2.5649493574615367,3.6109179126442243,3.2188758248682006,2.9444389791664403,2.9444389791664403,2.70805020110221,2.9444389791664403,3.2188758248682006,2.772588722239781,3.2188758248682006,3.2188758248682006,3.526360524616161,2.3978952727983707,3.6109179126442243,2.9444389791664403,3.0910424533583156,2.772588722239781,2.5649493574615367,2.5649493574615367,3.0910424533583156,2.9444389791664403,3.3672958299864737,2.9444389791664403,2.3025850929940455,1.791759469228055,1.9459101490553132,3.2188758248682006,2.3025850929940455,1.9459101490553132,3.2188758248682006,3.7612001156935624,2.5649493574615367,2.5649493574615367,3.044522437723423,2.3025850929940455,2.0794415416798357,2.5649493574615367,3.6109179126442243,1.9459101490553132,2.5649493574615367,3.2188758248682006,3.2188758248682006,2.4849066497880004,1.9459101490553132,2.9444389791664403,3.6109179126442243,2.772588722239781,2.5649493574615367,2.5649493574615367,2.9444389791664403,3.2188758248682006,3.8918202981106265,3.526360524616161,3.2188758248682006,1.9459101490553132,3.6888794541139363,3.2188758248682006,2.5649493574615367,2.772588722239781,2.5649493574615367,3.2188758248682006,3.4339872044851463,2.772588722239781,2.5649493574615367,2.5649493574615367,3.2188758248682006,2.3978952727983707,1.9459101490553132,2.5649493574615367,1.9459101490553132,1.9459101490553132,2.5649493574615367,3.2188758248682006,2.9444389791664403,1.9459101490553132,3.6109179126442243,2.3025850929940455,2.772588722239781,3.2188758248682006,3.6888794541139363,3.6109179126442243,2.772588722239781,2.5649493574615367,3.2188758248682006,1.9459101490553132,1.9459101490553132,1.9459101490553132,1.9459101490553132,3.2188758248682006,3.2188758248682006,2.9444389791664403,3.295836866004329,2.772588722239781,1.6094379124341003,1.9459101490553132,3.6109179126442243,2.5649493574615367,3.2188758248682006,3.2188758248682006,1.9459101490553132,2.9444389791664403,2.9444389791664403,3.2188758248682006,2.5649493574615367,3.2188758248682006,3.2188758248682006,3.8918202981106265,2.5649493574615367,1.9459101490553132,2.5649493574615367,2.3025850929940455,3.2188758248682006,1.9459101490553132,3.2188758248682006,3.2188758248682006,3.2188758248682006,3.8918202981106265,3.4339872044851463,3.2188758248682006,2.772588722239781,2.3025850929940455,2.772588722239781,2.5649493574615367,3.2188758248682006,3.2188758248682006,2.5649493574615367,2.3025850929940455,2.5649493574615367,2.3025850929940455,2.5649493574615367,2.5649493574615367,3.2188758248682006,3.0910424533583156,3.2188758248682006,2.0794415416798357,2.3978952727983707,3.2188758248682006,3.2188758248682006,2.9444389791664403,2.772588722239781,3.0910424533583156,3.2188758248682006,3.8918202981106265,4.110873864173311,1.9459101490553132,2.5649493574615367,3.0910424533583156,2.5649493574615367,2.772588722239781,1.9459101490553132,3.7612001156935624,2.3025850929940455,3.2188758248682006,2.772588722239781,2.5649493574615367,3.2188758248682006,4.110873864173311,2.5649493574615367,2.772588722239781,3.2188758248682006,2.9444389791664403,3.4339872044851463,3.8918202981106265,3.2188758248682006,2.70805020110221,3.8918202981106265,3.4339872044851463,2.9444389791664403,2.5649493574615367,3.0910424533583156,1.9459101490553132,1.9459101490553132,3.2188758248682006,3.4339872044851463,3.8918202981106265,3.4339872044851463,3.2188758248682006,3.6109179126442243,4.110873864173311,1.9459101490553132,3.4339872044851463,3.2188758248682006,3.2188758248682006,2.9444389791664403,1.9459101490553132,2.5649493574615367,2.772588722239781,3.2188758248682006,3.6109179126442243,4.110873864173311,2.3978952727983707,3.6109179126442243,2.3025850929940455,2.5649493574615367,2.772588722239781,2.772588722239781,3.2188758248682006,1.9459101490553132,3.2188758248682006,1.9459101490553132,2.5649493574615367,2.5649493574615367,2.9444389791664403,2.772588722239781,3.2188758248682006,3.4339872044851463,3.332204510175204,2.772588722239781,2.3025850929940455,2.3025850929940455,2.9444389791664403,3.0910424533583156,2.3025850929940455,3.4339872044851463,3.4339872044851463,2.9444389791664403,3.2188758248682006,3.044522437723423,2.3025850929940455,1.9459101490553132,2.772588722239781,3.2188758248682006,3.2188758248682006,2.197224577336219,3.2188758248682006,1.6094379124341003,3.6109179126442243,2.9444389791664403,1.9459101490553132,3.2188758248682006,2.3978952727983707,3.0910424533583156,3.2188758248682006,3.6888794541139363,2.6390573296152584,2.772588722239781,3.0910424533583156,2.772588722239781,1.9459101490553132,2.5649493574615367,3.4339872044851463,1.9459101490553132,3.2188758248682006,2.772588722239781,2.5649493574615367,3.2188758248682006,2.5649493574615367,2.3978952727983707,2.5649493574615367,2.5649493574615367,3.2188758248682006,3.0910424533583156,3.2188758248682006,2.5649493574615367,3.6109179126442243,2.9444389791664403,3.6109179126442243,2.9444389791664403,3.2188758248682006,2.5649493574615367,3.044522437723423,2.9444389791664403,3.1354942159291497,3.8918202981106265,3.2188758248682006,1.9459101490553132,3.2188758248682006,3.2188758248682006,2.3025850929940455,2.5649493574615367,3.2188758248682006,2.3025850929940455,3.2188758248682006,2.9444389791664403,3.044522437723423,2.5649493574615367,2.5649493574615367,1.9459101490553132,2.5649493574615367,3.7612001156935624,2.197224577336219,1.9459101490553132,3.6109179126442243,1.9459101490553132,1.9459101490553132,3.6109179126442243,2.5649493574615367,2.5649493574615367,2.197224577336219,2.9444389791664403,3.0910424533583156,3.8918202981106265,3.2188758248682006,3.2188758248682006,2.5649493574615367,1.6094379124341003,3.2188758248682006,3.2188758248682006,3.0910424533583156,3.2188758248682006,2.9444389791664403,3.0910424533583156,3.2188758248682006,2.3025850929940455,3.2188758248682006,2.772588722239781,3.6109179126442243,3.2188758248682006,2.3978952727983707,2.772588722239781,2.3025850929940455,3.2188758248682006,3.332204510175204,2.772588722239781,2.9444389791664403,2.5649493574615367,3.6109179126442243,2.5649493574615367,3.6109179126442243,1.9459101490553132,3.2188758248682006,2.772588722239781,2.5649493574615367,2.4849066497880004,2.9444389791664403,3.6109179126442243,3.4339872044851463,3.2188758248682006,3.2188758248682006,3.4339872044851463,2.9444389791664403,3.2188758248682006,3.6109179126442243,3.3672958299864737,3.332204510175204,2.772588722239781,2.5649493574615367,3.6109179126442243,2.9444389791664403,3.6109179126442243,3.0910424533583156,2.5649493574615367,2.772588722239781,3.044522437723423,3.6109179126442243,2.772588722239781,3.2188758248682006,2.5649493574615367,3.0910424533583156,3.6109179126442243,2.772588722239781,2.3025850929940455,3.6109179126442243,3.4339872044851463,2.4849066497880004,2.3978952727983707,2.9444389791664403,3.8918202981106265,2.5649493574615367,2.9444389791664403,3.4339872044851463,2.5649493574615367,3.2188758248682006,2.3025850929940455,2.5649493574615367,2.5649493574615367,1.9459101490553132,3.2188758248682006,2.5649493574615367,2.3978952727983707,3.2188758248682006,1.6094379124341003,2.772588722239781,3.8918202981106265,2.5649493574615367,2.9444389791664403,2.5649493574615367,3.2188758248682006,3.4339872044851463,2.3025850929940455,3.2188758248682006,1.9459101490553132,3.0910424533583156,2.772588722239781,1.9459101490553132,3.4339872044851463,2.772588722239781,3.7612001156935624,2.4849066497880004,2.772588722239781,3.2188758248682006,3.4339872044851463,3.2188758248682006,1.9459101490553132,2.9444389791664403,3.0910424533583156,3.2188758248682006,2.772588722239781,3.7612001156935624,2.6390573296152584,3.2188758248682006,3.2188758248682006,2.5649493574615367,2.772588722239781,2.9444389791664403,3.6109179126442243,2.5649493574615367,2.5649493574615367,3.4339872044851463,2.5649493574615367,3.828641396489095],\"type\":\"histogram\",\"xaxis\":\"x\",\"yaxis\":\"y\"},{\"histnorm\":\"probability\",\"x\":[3.8918202981106265,3.2188758248682006,3.4339872044851463,2.5649493574615367,3.8918202981106265,3.2188758248682006,3.2188758248682006,3.2188758248682006,4.110873864173311,3.828641396489095,2.9444389791664403,3.8918202981106265,3.6109179126442243,2.5649493574615367,3.6109179126442243,3.6109179126442243,3.8918202981106265,3.6109179126442243,3.6109179126442243,3.7612001156935624,3.2188758248682006,3.6109179126442243,2.5649493574615367,2.5649493574615367,4.007333185232471,3.2188758248682006,2.9444389791664403,3.6109179126442243,3.7612001156935624,3.526360524616161,3.0910424533583156,2.9444389791664403,2.5649493574615367,2.5649493574615367,3.6109179126442243,2.5649493574615367,2.9444389791664403,2.5649493574615367,2.9444389791664403,3.2188758248682006,2.772588722239781,3.2188758248682006,3.0910424533583156,3.4339872044851463,3.6109179126442243,3.6109179126442243,3.0910424533583156,2.9444389791664403,2.3025850929940455,2.5649493574615367,3.2188758248682006,3.8918202981106265,3.332204510175204,3.828641396489095,2.3025850929940455,2.5649493574615367,2.9444389791664403,2.5649493574615367,3.332204510175204,3.4339872044851463,3.8918202981106265,2.5649493574615367,2.3025850929940455,3.6109179126442243,3.2188758248682006,1.9459101490553132,3.0910424533583156,3.2188758248682006,3.8918202981106265,2.9444389791664403,3.4339872044851463,2.5649493574615367,2.772588722239781,2.70805020110221,3.8918202981106265,3.4339872044851463,1.9459101490553132,3.2188758248682006,3.6109179126442243,3.8918202981106265,3.6109179126442243,3.2188758248682006,3.8918202981106265,2.5649493574615367,2.197224577336219,2.5649493574615367,3.6109179126442243,3.4339872044851463,3.2188758248682006,2.9444389791664403,4.110873864173311,3.8918202981106265,3.2188758248682006,1.9459101490553132,2.772588722239781,2.3025850929940455,2.3025850929940455,2.5649493574615367,3.2188758248682006,3.6109179126442243,3.4339872044851463,2.9444389791664403,3.6109179126442243,4.110873864173311,3.8918202981106265,3.6109179126442243,2.9444389791664403,2.5649493574615367,3.2188758248682006,3.2188758248682006,2.5649493574615367,2.5649493574615367,3.2188758248682006,2.5649493574615367,2.9444389791664403,2.5649493574615367,2.9444389791664403,3.2188758248682006,2.5649493574615367,2.5649493574615367,2.5649493574615367,3.8918202981106265,3.6109179126442243,2.772588722239781,3.2188758248682006,2.5649493574615367,3.2188758248682006,3.2188758248682006,1.9459101490553132,2.3025850929940455,2.9444389791664403,2.9444389791664403,1.9459101490553132,3.332204510175204,3.2188758248682006,3.6109179126442243,3.2188758248682006,3.2188758248682006,3.2188758248682006,2.3978952727983707,2.772588722239781,2.5649493574615367,3.6109179126442243,2.9444389791664403,3.8918202981106265,3.6109179126442243,2.772588722239781,3.0910424533583156,3.8918202981106265,2.5649493574615367,3.4339872044851463,2.9444389791664403,3.2188758248682006,2.5649493574615367,3.8918202981106265,2.5649493574615367,2.9444389791664403,3.0910424533583156,3.2188758248682006,2.9444389791664403,3.2188758248682006,3.6109179126442243,2.5649493574615367,3.8918202981106265,3.2188758248682006,3.6109179126442243,2.9444389791664403,3.6109179126442243,2.9444389791664403,2.9444389791664403,2.5649493574615367,3.2188758248682006,3.2188758248682006,1.9459101490553132,3.2188758248682006,3.2188758248682006,2.9444389791664403,2.3025850929940455,3.2188758248682006,3.6109179126442243,3.6109179126442243,2.5649493574615367,2.3978952727983707,2.9444389791664403,3.4339872044851463,2.9444389791664403,3.8918202981106265,2.9444389791664403,2.3025850929940455,2.9444389791664403,2.3025850929940455,3.2188758248682006,3.7612001156935624,2.9444389791664403,2.772588722239781,3.6109179126442243,2.5649493574615367,3.2188758248682006,2.5649493574615367,2.5649493574615367,3.2188758248682006,3.6109179126442243,2.5649493574615367,2.5649493574615367,2.5649493574615367,3.0910424533583156,4.290459441148391,2.5649493574615367,3.8918202981106265,3.8918202981106265,2.5649493574615367,1.9459101490553132,4.110873864173311,2.3025850929940455,1.9459101490553132,2.5649493574615367,3.332204510175204,2.9444389791664403,3.8918202981106265,3.2188758248682006,3.2188758248682006,3.4339872044851463,2.5649493574615367,2.9444389791664403,2.5649493574615367,3.2188758248682006,2.772588722239781,2.5649493574615367,2.9444389791664403,3.0910424533583156,3.4339872044851463,3.6109179126442243,3.2188758248682006,3.6888794541139363,2.5649493574615367,3.8918202981106265,3.7135720667043075,3.0910424533583156,2.9444389791664403,3.6109179126442243,2.772588722239781,3.6109179126442243,3.8918202981106265,3.8918202981106265,2.9444389791664403,3.6109179126442243,2.9444389791664403,2.9444389791664403,3.6109179126442243,2.9444389791664403,3.828641396489095,2.772588722239781,2.5649493574615367,3.6109179126442243,2.9444389791664403,2.9444389791664403,2.5649493574615367,3.044522437723423,2.9444389791664403,2.772588722239781,2.9444389791664403,3.2188758248682006,2.3978952727983707,2.3025850929940455,3.2188758248682006,2.5649493574615367,3.8918202981106265,2.9444389791664403,2.833213344056216,3.2188758248682006,3.2188758248682006,3.8918202981106265,1.9459101490553132,3.2188758248682006,3.2188758248682006,2.3025850929940455,3.2188758248682006,2.5649493574615367,3.8918202981106265,2.3025850929940455,3.4339872044851463,2.3025850929940455,4.110873864173311,3.2188758248682006,2.9444389791664403,3.2188758248682006,3.6109179126442243,3.2188758248682006,3.6109179126442243,3.3672958299864737,3.2188758248682006,3.332204510175204,3.2188758248682006,4.110873864173311,3.2188758248682006,2.772588722239781,3.4339872044851463,3.8918202981106265,3.6109179126442243,3.828641396489095],\"type\":\"histogram\",\"xaxis\":\"x2\",\"yaxis\":\"y2\"},{\"histnorm\":\"probability\",\"x\":[1.9459101490553132,3.8918202981106265,2.5649493574615367,3.7612001156935624,3.2188758248682006,3.6109179126442243,3.2188758248682006,3.6109179126442243,2.5649493574615367,3.4339872044851463,2.5649493574615367,3.8918202981106265,2.5649493574615367,3.2188758248682006,2.772588722239781,3.2188758248682006,3.2188758248682006,3.4339872044851463,3.2188758248682006,3.2188758248682006,2.3025850929940455,1.9459101490553132,2.3978952727983707,2.5649493574615367,2.3978952727983707,1.9459101490553132,1.9459101490553132,2.5649493574615367,2.0794415416798357,4.110873864173311,2.9444389791664403,3.2188758248682006,2.9444389791664403,2.5649493574615367,2.5649493574615367,3.828641396489095,3.8918202981106265,2.9444389791664403,2.3978952727983707,2.3025850929940455,3.4339872044851463,2.5649493574615367,2.9444389791664403,3.4339872044851463,3.8918202981106265,2.4849066497880004,3.6109179126442243,1.9459101490553132,2.4849066497880004,2.5649493574615367,3.2188758248682006,3.332204510175204,2.5649493574615367,2.9444389791664403,3.6109179126442243,1.9459101490553132,2.5649493574615367,3.6109179126442243,2.9444389791664403,3.6109179126442243,2.3025850929940455,2.772588722239781,3.6109179126442243,3.8918202981106265,3.2188758248682006,3.332204510175204,2.5649493574615367,2.5649493574615367,3.6109179126442243,3.6109179126442243,3.6109179126442243,2.0794415416798357,2.197224577336219,3.7612001156935624,3.6109179126442243,2.5649493574615367,3.7612001156935624,2.4849066497880004,4.007333185232471,3.4339872044851463,3.2188758248682006,2.772588722239781,2.9444389791664403,3.2188758248682006,2.3978952727983707,2.5649493574615367,2.9444389791664403,3.6109179126442243,2.9444389791664403,2.5649493574615367,2.5649493574615367,2.5649493574615367,2.5649493574615367,3.2188758248682006,2.5649493574615367,4.007333185232471,2.5649493574615367,2.9444389791664403,3.6109179126442243,3.044522437723423,3.2188758248682006,3.6109179126442243,1.9459101490553132,2.3025850929940455,2.5649493574615367,3.2188758248682006,2.9444389791664403,2.5649493574615367,3.2188758248682006,2.70805020110221,1.9459101490553132,2.772588722239781,2.9444389791664403,3.6109179126442243,2.5649493574615367,3.8918202981106265,3.7612001156935624,2.3978952727983707,3.526360524616161,2.5649493574615367,3.0910424533583156,3.2188758248682006,2.5649493574615367,2.3978952727983707,2.9444389791664403,2.5649493574615367,2.5649493574615367,2.5649493574615367,2.5649493574615367,2.5649493574615367,3.8918202981106265,3.6109179126442243,2.772588722239781,2.9444389791664403,4.110873864173311,2.5649493574615367,3.332204510175204,2.5649493574615367,2.772588722239781,2.5649493574615367,1.9459101490553132,3.6109179126442243,3.332204510175204,2.9444389791664403,3.0910424533583156,3.8918202981106265,1.9459101490553132,2.5649493574615367,3.6109179126442243,2.9444389791664403,1.9459101490553132,2.3978952727983707,3.6109179126442243,3.2188758248682006,3.2188758248682006,2.5649493574615367,2.3025850929940455,2.5649493574615367,3.2188758248682006,1.9459101490553132,3.2188758248682006,2.9444389791664403,2.772588722239781,2.3978952727983707,3.6109179126442243,1.9459101490553132,2.9444389791664403,2.4849066497880004,3.2188758248682006,3.2188758248682006,2.772588722239781,2.5649493574615367,3.2188758248682006,2.197224577336219,3.0910424533583156,3.4339872044851463,2.5649493574615367,1.9459101490553132,2.5649493574615367,3.0910424533583156,3.6109179126442243,3.6109179126442243,3.0910424533583156,3.2188758248682006,2.9444389791664403,2.772588722239781,2.3025850929940455,2.833213344056216,2.5649493574615367,2.9444389791664403,3.2188758248682006,3.8918202981106265,3.332204510175204,1.9459101490553132,3.828641396489095,2.3025850929940455,1.9459101490553132,2.5649493574615367,3.2188758248682006,2.9444389791664403,2.3025850929940455,2.5649493574615367,3.332204510175204,2.5649493574615367,2.5649493574615367,3.4339872044851463,2.5649493574615367,2.5649493574615367,3.2188758248682006,2.5649493574615367,2.3025850929940455,3.6109179126442243,3.332204510175204,3.4339872044851463,3.6109179126442243,1.9459101490553132,2.9444389791664403,3.6109179126442243,3.2188758248682006,2.3978952727983707,2.5649493574615367,2.5649493574615367,2.5649493574615367,3.2188758248682006,2.772588722239781,3.6109179126442243,3.8918202981106265,2.5649493574615367,2.3025850929940455,3.2188758248682006,3.6109179126442243,2.3025850929940455,2.5649493574615367,2.9444389791664403,1.6094379124341003,3.2188758248682006,1.9459101490553132,3.0910424533583156,2.5649493574615367,3.4339872044851463,3.2188758248682006,1.9459101490553132,3.8918202981106265,2.5649493574615367,2.5649493574615367,3.2188758248682006,2.5649493574615367,1.9459101490553132,3.2188758248682006,2.9444389791664403,1.9459101490553132,2.5649493574615367,3.4339872044851463,3.2188758248682006,2.3025850929940455,4.110873864173311,3.2188758248682006,2.5649493574615367,2.772588722239781,2.4849066497880004,2.5649493574615367,3.2188758248682006,2.9444389791664403,2.5649493574615367,2.3978952727983707,2.772588722239781,3.6109179126442243,3.2188758248682006,2.70805020110221,3.2188758248682006,2.9444389791664403,2.5649493574615367,3.8918202981106265,3.8918202981106265,3.4339872044851463,2.3025850929940455,2.9444389791664403,2.5649493574615367,1.9459101490553132,3.2188758248682006,2.772588722239781,2.5649493574615367,2.9444389791664403,2.772588722239781,3.2188758248682006,3.8712010109078907,3.8918202981106265,3.8918202981106265,2.5649493574615367,3.2188758248682006,2.5649493574615367,3.6109179126442243,3.2188758248682006,3.7612001156935624,3.8918202981106265,3.8918202981106265,2.5649493574615367,2.3978952727983707,2.9444389791664403,3.0910424533583156,1.9459101490553132,3.6109179126442243,3.2188758248682006,2.3978952727983707,3.8918202981106265,1.9459101490553132,3.4339872044851463,2.5649493574615367,2.197224577336219,2.3025850929940455,3.8918202981106265,3.2188758248682006,3.2188758248682006,2.5649493574615367,1.6094379124341003,3.6109179126442243,2.5649493574615367,3.2188758248682006,2.5649493574615367,2.772588722239781,3.4339872044851463,3.2188758248682006,3.2188758248682006,2.9444389791664403,2.9444389791664403,2.197224577336219,2.5649493574615367,3.2188758248682006,3.6109179126442243,1.9459101490553132,3.2188758248682006,2.9444389791664403,4.110873864173311,3.8918202981106265,3.2188758248682006,1.9459101490553132,2.6390573296152584,2.772588722239781,3.2188758248682006,2.3978952727983707,3.2188758248682006,3.0910424533583156,2.9444389791664403,2.9444389791664403,2.3978952727983707,2.772588722239781,2.6390573296152584,3.2188758248682006,1.9459101490553132,2.3025850929940455,2.3025850929940455,2.3025850929940455,2.9444389791664403,2.5649493574615367,2.3978952727983707,3.2188758248682006,2.5649493574615367,3.6109179126442243,2.5649493574615367,3.4339872044851463,2.9444389791664403,2.5649493574615367,2.5649493574615367,1.9459101490553132,2.9444389791664403,2.5649493574615367,2.9444389791664403,2.9444389791664403,3.6109179126442243,2.9444389791664403,3.6109179126442243,2.9444389791664403,2.3978952727983707,4.110873864173311,4.110873864173311,3.8918202981106265,2.9444389791664403,2.0794415416798357,3.6109179126442243,1.9459101490553132,3.044522437723423,2.9444389791664403,3.1354942159291497,2.5649493574615367,3.4339872044851463,2.9444389791664403,2.9444389791664403,2.9444389791664403,2.772588722239781,2.3025850929940455,2.9444389791664403,2.5649493574615367,3.6109179126442243,1.9459101490553132,2.3025850929940455,3.6888794541139363,2.5649493574615367,3.6109179126442243,2.5649493574615367,3.2188758248682006,2.9444389791664403,2.9444389791664403,3.2188758248682006,2.70805020110221,2.9444389791664403,3.2188758248682006,3.2188758248682006,2.772588722239781,3.2188758248682006,2.5649493574615367,3.2188758248682006,3.526360524616161,2.5649493574615367,2.3978952727983707,3.2188758248682006,3.6109179126442243,2.5649493574615367,2.9444389791664403,3.0910424533583156,2.9444389791664403,2.772588722239781,2.5649493574615367,2.5649493574615367,3.0910424533583156,2.5649493574615367,2.9444389791664403,3.3672958299864737,2.9444389791664403,2.3025850929940455,2.9444389791664403,1.791759469228055,3.2188758248682006,1.9459101490553132,3.2188758248682006,2.3025850929940455,2.5649493574615367,1.9459101490553132,3.2188758248682006,3.7612001156935624,2.5649493574615367,2.5649493574615367,2.5649493574615367,3.044522437723423,2.5649493574615367,3.8918202981106265,2.3025850929940455,3.6109179126442243,2.0794415416798357,2.5649493574615367,2.772588722239781,3.6109179126442243,1.9459101490553132,2.5649493574615367,3.2188758248682006,3.2188758248682006,3.2188758248682006,2.4849066497880004,2.5649493574615367,1.9459101490553132,2.9444389791664403,3.6109179126442243,2.772588722239781,2.5649493574615367,2.5649493574615367,2.9444389791664403,3.2188758248682006,3.2188758248682006,3.8918202981106265,3.526360524616161,3.2188758248682006,3.2188758248682006,1.9459101490553132,2.3025850929940455,1.9459101490553132,2.9444389791664403,2.9444389791664403,3.6888794541139363,3.2188758248682006,2.5649493574615367,2.772588722239781,2.5649493574615367,3.2188758248682006,3.4339872044851463,2.772588722239781,2.5649493574615367,1.9459101490553132,2.5649493574615367,3.2188758248682006,2.3978952727983707,1.9459101490553132,2.5649493574615367,3.332204510175204,1.9459101490553132,1.9459101490553132,2.5649493574615367,3.2188758248682006,3.6109179126442243,3.2188758248682006,2.9444389791664403,1.9459101490553132,3.2188758248682006,3.6109179126442243,2.3025850929940455,3.2188758248682006,3.2188758248682006,2.3978952727983707,2.772588722239781,2.772588722239781,3.2188758248682006,3.6888794541139363,2.5649493574615367,3.6109179126442243,2.772588722239781,2.5649493574615367,3.2188758248682006,1.9459101490553132,1.9459101490553132,3.6109179126442243,1.9459101490553132,1.9459101490553132,3.2188758248682006,2.9444389791664403,3.8918202981106265,3.2188758248682006,2.9444389791664403,3.295836866004329,2.772588722239781,1.6094379124341003,3.6109179126442243,1.9459101490553132,3.6109179126442243,2.772588722239781,2.5649493574615367,3.2188758248682006,3.2188758248682006,3.0910424533583156,1.9459101490553132,2.9444389791664403,3.8918202981106265,2.9444389791664403,2.5649493574615367,3.2188758248682006,3.4339872044851463,2.9444389791664403,2.5649493574615367,3.2188758248682006,3.2188758248682006,3.2188758248682006,2.5649493574615367,3.8918202981106265,2.5649493574615367,1.9459101490553132,3.8918202981106265,2.5649493574615367,2.3025850929940455,2.5649493574615367,2.9444389791664403,3.0910424533583156,3.2188758248682006,2.9444389791664403,3.2188758248682006,3.2188758248682006,1.9459101490553132,3.6109179126442243,3.2188758248682006,3.2188758248682006,2.5649493574615367,3.2188758248682006,3.8918202981106265,3.8918202981106265,3.2188758248682006,3.4339872044851463,3.2188758248682006,2.772588722239781,2.3025850929940455,2.772588722239781,2.5649493574615367,3.2188758248682006,3.6109179126442243,3.2188758248682006,2.9444389791664403,2.5649493574615367,2.3025850929940455,3.6109179126442243,2.5649493574615367,2.9444389791664403,2.3025850929940455,2.5649493574615367,2.9444389791664403,2.5649493574615367,2.5649493574615367,3.2188758248682006,3.0910424533583156,3.2188758248682006,3.2188758248682006,1.9459101490553132,3.2188758248682006,3.2188758248682006,2.9444389791664403,3.2188758248682006,2.0794415416798357,2.3025850929940455,3.2188758248682006,3.6109179126442243,2.3978952727983707,3.2188758248682006,3.2188758248682006,3.6109179126442243,2.9444389791664403,2.772588722239781,2.5649493574615367,2.3978952727983707,3.0910424533583156,3.2188758248682006,2.9444389791664403,3.8918202981106265,4.110873864173311,1.9459101490553132,3.4339872044851463,2.5649493574615367,3.0910424533583156,2.9444389791664403,3.8918202981106265,2.5649493574615367,2.9444389791664403,2.772588722239781,1.9459101490553132,2.3025850929940455,3.7612001156935624,2.3025850929940455,3.2188758248682006,2.9444389791664403,2.772588722239781,2.3025850929940455,3.2188758248682006,2.5649493574615367,3.2188758248682006,4.110873864173311,2.5649493574615367,3.7612001156935624,2.9444389791664403,2.772588722239781,2.772588722239781,3.2188758248682006,2.9444389791664403,3.6109179126442243,3.4339872044851463,2.5649493574615367,3.2188758248682006,2.5649493574615367,3.8918202981106265,2.5649493574615367,3.2188758248682006,3.6109179126442243,3.2188758248682006,2.70805020110221,2.5649493574615367,3.8918202981106265,3.4339872044851463,2.9444389791664403,2.5649493574615367,2.5649493574615367,3.0910424533583156,1.9459101490553132,1.9459101490553132,3.2188758248682006,3.4339872044851463,3.8918202981106265,2.5649493574615367,3.4339872044851463,3.2188758248682006,3.6109179126442243,4.110873864173311,1.9459101490553132,3.0910424533583156,3.4339872044851463,3.2188758248682006,4.290459441148391,3.2188758248682006,2.9444389791664403,1.9459101490553132,2.5649493574615367,2.772588722239781,3.2188758248682006,3.6109179126442243,4.110873864173311,2.3978952727983707,3.6109179126442243,2.3025850929940455,2.5649493574615367,2.772588722239781,2.772588722239781,3.2188758248682006,1.9459101490553132,3.2188758248682006,1.9459101490553132,2.5649493574615367,2.5649493574615367,2.9444389791664403,2.772588722239781,2.5649493574615367,3.8918202981106265,3.2188758248682006,3.4339872044851463,3.332204510175204,2.772588722239781,3.8918202981106265,2.5649493574615367,2.3025850929940455,2.3025850929940455,2.9444389791664403,1.9459101490553132,3.0910424533583156,2.3025850929940455,4.110873864173311,3.4339872044851463,3.4339872044851463,2.9444389791664403,3.2188758248682006,3.044522437723423,2.3025850929940455,1.9459101490553132,2.5649493574615367,2.3025850929940455,3.332204510175204,1.9459101490553132,2.772588722239781,2.9444389791664403,3.8918202981106265,3.2188758248682006,3.2188758248682006,3.2188758248682006,2.197224577336219,3.2188758248682006,1.6094379124341003,3.6109179126442243,3.2188758248682006,2.9444389791664403,1.9459101490553132,3.4339872044851463,3.2188758248682006,2.3978952727983707,3.0910424533583156,3.2188758248682006,3.6888794541139363,2.6390573296152584,2.772588722239781,2.5649493574615367,3.0910424533583156,2.772588722239781,1.9459101490553132,2.9444389791664403,2.5649493574615367,3.4339872044851463,2.5649493574615367,3.2188758248682006,1.9459101490553132,2.772588722239781,3.2188758248682006,2.5649493574615367,2.772588722239781,2.9444389791664403,2.5649493574615367,3.0910424533583156,3.2188758248682006,2.5649493574615367,3.4339872044851463,2.3978952727983707,2.5649493574615367,2.5649493574615367,3.2188758248682006,3.6109179126442243,3.0910424533583156,3.2188758248682006,2.5649493574615367,3.2188758248682006,3.6109179126442243,2.9444389791664403,3.6109179126442243,2.9444389791664403,3.6888794541139363,3.2188758248682006,2.5649493574615367,2.5649493574615367,3.044522437723423,2.9444389791664403,3.1354942159291497,3.8918202981106265,3.8918202981106265,3.7135720667043075,3.0910424533583156,3.2188758248682006,1.9459101490553132,3.2188758248682006,3.2188758248682006,2.3025850929940455,2.9444389791664403,2.5649493574615367,3.2188758248682006,2.3025850929940455,3.2188758248682006,2.9444389791664403,3.044522437723423,2.5649493574615367,2.5649493574615367,3.6109179126442243,1.9459101490553132,2.5649493574615367,3.7612001156935624,2.772588722239781,2.197224577336219,1.9459101490553132,3.6109179126442243,3.8918202981106265,3.8918202981106265,3.6109179126442243,1.9459101490553132,1.9459101490553132,3.6109179126442243,2.9444389791664403,2.5649493574615367,2.5649493574615367,3.6109179126442243,2.197224577336219,2.9444389791664403,3.0910424533583156,2.9444389791664403,2.9444389791664403,3.6109179126442243,3.8918202981106265,3.2188758248682006,2.9444389791664403,3.828641396489095,3.2188758248682006,2.772588722239781,2.5649493574615367,2.5649493574615367,1.6094379124341003,3.2188758248682006,3.2188758248682006,3.6109179126442243,3.0910424533583156,2.9444389791664403,3.2188758248682006,2.9444389791664403,3.0910424533583156,2.9444389791664403,3.2188758248682006,2.3025850929940455,2.5649493574615367,3.044522437723423,3.2188758248682006,2.772588722239781,2.9444389791664403,3.6109179126442243,3.2188758248682006,2.3978952727983707,2.772588722239781,2.772588722239781,2.3025850929940455,3.2188758248682006,2.9444389791664403,3.2188758248682006,3.332204510175204,2.3978952727983707,2.772588722239781,2.9444389791664403,2.5649493574615367,3.6109179126442243,2.5649493574615367,3.6109179126442243,1.9459101490553132,3.2188758248682006,2.772588722239781,2.5649493574615367,2.4849066497880004,2.9444389791664403,3.6109179126442243,2.3025850929940455,3.4339872044851463,3.2188758248682006,3.2188758248682006,3.4339872044851463,2.9444389791664403,3.2188758248682006,2.5649493574615367,3.2188758248682006,3.8918202981106265,3.6109179126442243,3.3672958299864737,3.332204510175204,2.772588722239781,2.5649493574615367,3.6109179126442243,2.9444389791664403,3.6109179126442243,3.0910424533583156,2.5649493574615367,2.772588722239781,2.9444389791664403,2.833213344056216,3.044522437723423,3.6109179126442243,2.772588722239781,3.2188758248682006,2.5649493574615367,3.0910424533583156,3.6109179126442243,2.772588722239781,2.3025850929940455,3.6109179126442243,3.2188758248682006,3.4339872044851463,2.4849066497880004,3.2188758248682006,3.8918202981106265,2.3978952727983707,1.9459101490553132,3.2188758248682006,3.2188758248682006,2.9444389791664403,3.8918202981106265,2.3025850929940455,2.5649493574615367,3.2188758248682006,2.5649493574615367,2.9444389791664403,3.8918202981106265,3.4339872044851463,2.5649493574615367,3.2188758248682006,2.3025850929940455,2.3025850929940455,2.5649493574615367,2.5649493574615367,3.4339872044851463,2.3025850929940455,1.9459101490553132,4.110873864173311,3.2188758248682006,2.5649493574615367,2.3978952727983707,3.2188758248682006,1.6094379124341003,2.772588722239781,3.8918202981106265,3.2188758248682006,2.5649493574615367,2.9444389791664403,3.2188758248682006,2.9444389791664403,3.6109179126442243,3.2188758248682006,3.6109179126442243,2.5649493574615367,3.2188758248682006,3.4339872044851463,2.3025850929940455,3.3672958299864737,3.2188758248682006,1.9459101490553132,3.0910424533583156,2.772588722239781,3.2188758248682006,1.9459101490553132,3.4339872044851463,3.332204510175204,2.772588722239781,3.7612001156935624,2.4849066497880004,2.772588722239781,3.2188758248682006,3.2188758248682006,4.110873864173311,3.4339872044851463,3.2188758248682006,1.9459101490553132,2.9444389791664403,3.2188758248682006,2.772588722239781,3.4339872044851463,3.8918202981106265,3.0910424533583156,3.6109179126442243,3.2188758248682006,2.772588722239781,3.7612001156935624,2.6390573296152584,3.2188758248682006,3.2188758248682006,2.5649493574615367,2.772588722239781,2.9444389791664403,3.6109179126442243,2.5649493574615367,2.5649493574615367,3.4339872044851463,2.5649493574615367,3.828641396489095,3.828641396489095],\"type\":\"histogram\",\"xaxis\":\"x3\",\"yaxis\":\"y3\"},{\"y\":[1.9459101490553132,2.5649493574615367,3.7612001156935624,3.6109179126442243,3.2188758248682006,3.6109179126442243,2.5649493574615367,2.5649493574615367,2.772588722239781,3.2188758248682006,3.4339872044851463,3.2188758248682006,2.3025850929940455,1.9459101490553132,2.3978952727983707,2.5649493574615367,2.3978952727983707,1.9459101490553132,1.9459101490553132,2.5649493574615367,2.0794415416798357,2.9444389791664403,3.2188758248682006,2.9444389791664403,2.5649493574615367,2.5649493574615367,3.8918202981106265,2.3978952727983707,2.3025850929940455,3.4339872044851463,2.5649493574615367,2.9444389791664403,3.4339872044851463,2.4849066497880004,3.6109179126442243,1.9459101490553132,2.4849066497880004,2.5649493574615367,3.2188758248682006,3.332204510175204,2.5649493574615367,2.9444389791664403,1.9459101490553132,3.6109179126442243,2.9444389791664403,2.3025850929940455,2.772588722239781,3.2188758248682006,3.332204510175204,2.5649493574615367,2.5649493574615367,3.6109179126442243,3.6109179126442243,2.0794415416798357,2.197224577336219,3.7612001156935624,2.5649493574615367,2.4849066497880004,4.007333185232471,3.4339872044851463,2.772588722239781,2.9444389791664403,3.2188758248682006,2.3978952727983707,2.5649493574615367,2.9444389791664403,2.9444389791664403,2.5649493574615367,2.5649493574615367,3.2188758248682006,2.5649493574615367,2.5649493574615367,2.9444389791664403,3.6109179126442243,3.044522437723423,3.2188758248682006,3.6109179126442243,1.9459101490553132,2.3025850929940455,2.5649493574615367,2.5649493574615367,3.2188758248682006,2.70805020110221,1.9459101490553132,2.772588722239781,2.9444389791664403,2.5649493574615367,3.8918202981106265,2.3978952727983707,2.5649493574615367,3.2188758248682006,2.5649493574615367,2.3978952727983707,2.5649493574615367,2.5649493574615367,2.5649493574615367,3.8918202981106265,2.772588722239781,2.9444389791664403,4.110873864173311,2.5649493574615367,3.332204510175204,2.772588722239781,2.5649493574615367,1.9459101490553132,3.6109179126442243,3.332204510175204,3.0910424533583156,3.8918202981106265,1.9459101490553132,2.5649493574615367,3.6109179126442243,2.9444389791664403,1.9459101490553132,2.3978952727983707,3.6109179126442243,3.2188758248682006,3.2188758248682006,2.3025850929940455,2.5649493574615367,3.2188758248682006,1.9459101490553132,3.2188758248682006,2.9444389791664403,2.772588722239781,2.3978952727983707,3.6109179126442243,1.9459101490553132,2.4849066497880004,3.2188758248682006,2.5649493574615367,2.197224577336219,2.5649493574615367,1.9459101490553132,2.5649493574615367,3.0910424533583156,3.2188758248682006,2.772588722239781,2.833213344056216,2.9444389791664403,1.9459101490553132,1.9459101490553132,3.2188758248682006,2.3025850929940455,2.5649493574615367,3.332204510175204,2.5649493574615367,3.4339872044851463,2.5649493574615367,2.5649493574615367,3.2188758248682006,2.5649493574615367,2.3025850929940455,3.6109179126442243,3.6109179126442243,1.9459101490553132,2.9444389791664403,3.6109179126442243,3.2188758248682006,2.3978952727983707,2.5649493574615367,2.5649493574615367,2.5649493574615367,3.2188758248682006,2.772588722239781,3.6109179126442243,3.2188758248682006,2.3025850929940455,2.5649493574615367,2.9444389791664403,1.6094379124341003,2.5649493574615367,3.4339872044851463,1.9459101490553132,2.5649493574615367,2.5649493574615367,3.2188758248682006,2.5649493574615367,1.9459101490553132,3.2188758248682006,1.9459101490553132,2.5649493574615367,3.2188758248682006,2.3025850929940455,4.110873864173311,3.2188758248682006,2.772588722239781,2.4849066497880004,2.5649493574615367,3.2188758248682006,2.9444389791664403,2.5649493574615367,2.3978952727983707,3.6109179126442243,3.2188758248682006,3.2188758248682006,2.9444389791664403,2.5649493574615367,3.8918202981106265,2.3025850929940455,2.9444389791664403,2.5649493574615367,3.2188758248682006,2.772588722239781,2.5649493574615367,2.9444389791664403,2.772588722239781,3.2188758248682006,3.8712010109078907,3.8918202981106265,3.8918202981106265,2.5649493574615367,2.5649493574615367,3.2188758248682006,3.7612001156935624,3.8918202981106265,2.5649493574615367,2.3978952727983707,2.9444389791664403,3.0910424533583156,1.9459101490553132,2.3978952727983707,1.9459101490553132,3.4339872044851463,2.3025850929940455,3.8918202981106265,3.2188758248682006,3.2188758248682006,1.6094379124341003,2.5649493574615367,3.2188758248682006,2.5649493574615367,2.772588722239781,3.2188758248682006,2.9444389791664403,2.9444389791664403,2.197224577336219,2.5649493574615367,3.2188758248682006,3.6109179126442243,1.9459101490553132,3.2188758248682006,2.6390573296152584,3.2188758248682006,2.3978952727983707,3.2188758248682006,3.0910424533583156,2.9444389791664403,2.9444389791664403,2.3978952727983707,2.772588722239781,2.6390573296152584,3.2188758248682006,1.9459101490553132,2.3025850929940455,2.9444389791664403,2.3978952727983707,2.5649493574615367,2.5649493574615367,2.9444389791664403,2.5649493574615367,2.5649493574615367,1.9459101490553132,2.5649493574615367,2.9444389791664403,2.9444389791664403,2.9444389791664403,3.6109179126442243,2.9444389791664403,2.3978952727983707,4.110873864173311,2.9444389791664403,2.0794415416798357,1.9459101490553132,3.044522437723423,3.1354942159291497,2.5649493574615367,3.4339872044851463,2.9444389791664403,2.9444389791664403,2.9444389791664403,2.772588722239781,2.3025850929940455,2.9444389791664403,2.5649493574615367,3.6109179126442243,1.9459101490553132,2.3025850929940455,3.6888794541139363,2.5649493574615367,3.6109179126442243,3.2188758248682006,2.9444389791664403,2.9444389791664403,2.70805020110221,2.9444389791664403,3.2188758248682006,2.772588722239781,3.2188758248682006,3.2188758248682006,3.526360524616161,2.3978952727983707,3.6109179126442243,2.9444389791664403,3.0910424533583156,2.772588722239781,2.5649493574615367,2.5649493574615367,3.0910424533583156,2.9444389791664403,3.3672958299864737,2.9444389791664403,2.3025850929940455,1.791759469228055,1.9459101490553132,3.2188758248682006,2.3025850929940455,1.9459101490553132,3.2188758248682006,3.7612001156935624,2.5649493574615367,2.5649493574615367,3.044522437723423,2.3025850929940455,2.0794415416798357,2.5649493574615367,3.6109179126442243,1.9459101490553132,2.5649493574615367,3.2188758248682006,3.2188758248682006,2.4849066497880004,1.9459101490553132,2.9444389791664403,3.6109179126442243,2.772588722239781,2.5649493574615367,2.5649493574615367,2.9444389791664403,3.2188758248682006,3.8918202981106265,3.526360524616161,3.2188758248682006,1.9459101490553132,3.6888794541139363,3.2188758248682006,2.5649493574615367,2.772588722239781,2.5649493574615367,3.2188758248682006,3.4339872044851463,2.772588722239781,2.5649493574615367,2.5649493574615367,3.2188758248682006,2.3978952727983707,1.9459101490553132,2.5649493574615367,1.9459101490553132,1.9459101490553132,2.5649493574615367,3.2188758248682006,2.9444389791664403,1.9459101490553132,3.6109179126442243,2.3025850929940455,2.772588722239781,3.2188758248682006,3.6888794541139363,3.6109179126442243,2.772588722239781,2.5649493574615367,3.2188758248682006,1.9459101490553132,1.9459101490553132,1.9459101490553132,1.9459101490553132,3.2188758248682006,3.2188758248682006,2.9444389791664403,3.295836866004329,2.772588722239781,1.6094379124341003,1.9459101490553132,3.6109179126442243,2.5649493574615367,3.2188758248682006,3.2188758248682006,1.9459101490553132,2.9444389791664403,2.9444389791664403,3.2188758248682006,2.5649493574615367,3.2188758248682006,3.2188758248682006,3.8918202981106265,2.5649493574615367,1.9459101490553132,2.5649493574615367,2.3025850929940455,3.2188758248682006,1.9459101490553132,3.2188758248682006,3.2188758248682006,3.2188758248682006,3.8918202981106265,3.4339872044851463,3.2188758248682006,2.772588722239781,2.3025850929940455,2.772588722239781,2.5649493574615367,3.2188758248682006,3.2188758248682006,2.5649493574615367,2.3025850929940455,2.5649493574615367,2.3025850929940455,2.5649493574615367,2.5649493574615367,3.2188758248682006,3.0910424533583156,3.2188758248682006,2.0794415416798357,2.3978952727983707,3.2188758248682006,3.2188758248682006,2.9444389791664403,2.772588722239781,3.0910424533583156,3.2188758248682006,3.8918202981106265,4.110873864173311,1.9459101490553132,2.5649493574615367,3.0910424533583156,2.5649493574615367,2.772588722239781,1.9459101490553132,3.7612001156935624,2.3025850929940455,3.2188758248682006,2.772588722239781,2.5649493574615367,3.2188758248682006,4.110873864173311,2.5649493574615367,2.772588722239781,3.2188758248682006,2.9444389791664403,3.4339872044851463,3.8918202981106265,3.2188758248682006,2.70805020110221,3.8918202981106265,3.4339872044851463,2.9444389791664403,2.5649493574615367,3.0910424533583156,1.9459101490553132,1.9459101490553132,3.2188758248682006,3.4339872044851463,3.8918202981106265,3.4339872044851463,3.2188758248682006,3.6109179126442243,4.110873864173311,1.9459101490553132,3.4339872044851463,3.2188758248682006,3.2188758248682006,2.9444389791664403,1.9459101490553132,2.5649493574615367,2.772588722239781,3.2188758248682006,3.6109179126442243,4.110873864173311,2.3978952727983707,3.6109179126442243,2.3025850929940455,2.5649493574615367,2.772588722239781,2.772588722239781,3.2188758248682006,1.9459101490553132,3.2188758248682006,1.9459101490553132,2.5649493574615367,2.5649493574615367,2.9444389791664403,2.772588722239781,3.2188758248682006,3.4339872044851463,3.332204510175204,2.772588722239781,2.3025850929940455,2.3025850929940455,2.9444389791664403,3.0910424533583156,2.3025850929940455,3.4339872044851463,3.4339872044851463,2.9444389791664403,3.2188758248682006,3.044522437723423,2.3025850929940455,1.9459101490553132,2.772588722239781,3.2188758248682006,3.2188758248682006,2.197224577336219,3.2188758248682006,1.6094379124341003,3.6109179126442243,2.9444389791664403,1.9459101490553132,3.2188758248682006,2.3978952727983707,3.0910424533583156,3.2188758248682006,3.6888794541139363,2.6390573296152584,2.772588722239781,3.0910424533583156,2.772588722239781,1.9459101490553132,2.5649493574615367,3.4339872044851463,1.9459101490553132,3.2188758248682006,2.772588722239781,2.5649493574615367,3.2188758248682006,2.5649493574615367,2.3978952727983707,2.5649493574615367,2.5649493574615367,3.2188758248682006,3.0910424533583156,3.2188758248682006,2.5649493574615367,3.6109179126442243,2.9444389791664403,3.6109179126442243,2.9444389791664403,3.2188758248682006,2.5649493574615367,3.044522437723423,2.9444389791664403,3.1354942159291497,3.8918202981106265,3.2188758248682006,1.9459101490553132,3.2188758248682006,3.2188758248682006,2.3025850929940455,2.5649493574615367,3.2188758248682006,2.3025850929940455,3.2188758248682006,2.9444389791664403,3.044522437723423,2.5649493574615367,2.5649493574615367,1.9459101490553132,2.5649493574615367,3.7612001156935624,2.197224577336219,1.9459101490553132,3.6109179126442243,1.9459101490553132,1.9459101490553132,3.6109179126442243,2.5649493574615367,2.5649493574615367,2.197224577336219,2.9444389791664403,3.0910424533583156,3.8918202981106265,3.2188758248682006,3.2188758248682006,2.5649493574615367,1.6094379124341003,3.2188758248682006,3.2188758248682006,3.0910424533583156,3.2188758248682006,2.9444389791664403,3.0910424533583156,3.2188758248682006,2.3025850929940455,3.2188758248682006,2.772588722239781,3.6109179126442243,3.2188758248682006,2.3978952727983707,2.772588722239781,2.3025850929940455,3.2188758248682006,3.332204510175204,2.772588722239781,2.9444389791664403,2.5649493574615367,3.6109179126442243,2.5649493574615367,3.6109179126442243,1.9459101490553132,3.2188758248682006,2.772588722239781,2.5649493574615367,2.4849066497880004,2.9444389791664403,3.6109179126442243,3.4339872044851463,3.2188758248682006,3.2188758248682006,3.4339872044851463,2.9444389791664403,3.2188758248682006,3.6109179126442243,3.3672958299864737,3.332204510175204,2.772588722239781,2.5649493574615367,3.6109179126442243,2.9444389791664403,3.6109179126442243,3.0910424533583156,2.5649493574615367,2.772588722239781,3.044522437723423,3.6109179126442243,2.772588722239781,3.2188758248682006,2.5649493574615367,3.0910424533583156,3.6109179126442243,2.772588722239781,2.3025850929940455,3.6109179126442243,3.4339872044851463,2.4849066497880004,2.3978952727983707,2.9444389791664403,3.8918202981106265,2.5649493574615367,2.9444389791664403,3.4339872044851463,2.5649493574615367,3.2188758248682006,2.3025850929940455,2.5649493574615367,2.5649493574615367,1.9459101490553132,3.2188758248682006,2.5649493574615367,2.3978952727983707,3.2188758248682006,1.6094379124341003,2.772588722239781,3.8918202981106265,2.5649493574615367,2.9444389791664403,2.5649493574615367,3.2188758248682006,3.4339872044851463,2.3025850929940455,3.2188758248682006,1.9459101490553132,3.0910424533583156,2.772588722239781,1.9459101490553132,3.4339872044851463,2.772588722239781,3.7612001156935624,2.4849066497880004,2.772588722239781,3.2188758248682006,3.4339872044851463,3.2188758248682006,1.9459101490553132,2.9444389791664403,3.0910424533583156,3.2188758248682006,2.772588722239781,3.7612001156935624,2.6390573296152584,3.2188758248682006,3.2188758248682006,2.5649493574615367,2.772588722239781,2.9444389791664403,3.6109179126442243,2.5649493574615367,2.5649493574615367,3.4339872044851463,2.5649493574615367,3.828641396489095],\"type\":\"box\",\"xaxis\":\"x4\",\"yaxis\":\"y4\"},{\"y\":[3.8918202981106265,3.2188758248682006,3.4339872044851463,2.5649493574615367,3.8918202981106265,3.2188758248682006,3.2188758248682006,3.2188758248682006,4.110873864173311,3.828641396489095,2.9444389791664403,3.8918202981106265,3.6109179126442243,2.5649493574615367,3.6109179126442243,3.6109179126442243,3.8918202981106265,3.6109179126442243,3.6109179126442243,3.7612001156935624,3.2188758248682006,3.6109179126442243,2.5649493574615367,2.5649493574615367,4.007333185232471,3.2188758248682006,2.9444389791664403,3.6109179126442243,3.7612001156935624,3.526360524616161,3.0910424533583156,2.9444389791664403,2.5649493574615367,2.5649493574615367,3.6109179126442243,2.5649493574615367,2.9444389791664403,2.5649493574615367,2.9444389791664403,3.2188758248682006,2.772588722239781,3.2188758248682006,3.0910424533583156,3.4339872044851463,3.6109179126442243,3.6109179126442243,3.0910424533583156,2.9444389791664403,2.3025850929940455,2.5649493574615367,3.2188758248682006,3.8918202981106265,3.332204510175204,3.828641396489095,2.3025850929940455,2.5649493574615367,2.9444389791664403,2.5649493574615367,3.332204510175204,3.4339872044851463,3.8918202981106265,2.5649493574615367,2.3025850929940455,3.6109179126442243,3.2188758248682006,1.9459101490553132,3.0910424533583156,3.2188758248682006,3.8918202981106265,2.9444389791664403,3.4339872044851463,2.5649493574615367,2.772588722239781,2.70805020110221,3.8918202981106265,3.4339872044851463,1.9459101490553132,3.2188758248682006,3.6109179126442243,3.8918202981106265,3.6109179126442243,3.2188758248682006,3.8918202981106265,2.5649493574615367,2.197224577336219,2.5649493574615367,3.6109179126442243,3.4339872044851463,3.2188758248682006,2.9444389791664403,4.110873864173311,3.8918202981106265,3.2188758248682006,1.9459101490553132,2.772588722239781,2.3025850929940455,2.3025850929940455,2.5649493574615367,3.2188758248682006,3.6109179126442243,3.4339872044851463,2.9444389791664403,3.6109179126442243,4.110873864173311,3.8918202981106265,3.6109179126442243,2.9444389791664403,2.5649493574615367,3.2188758248682006,3.2188758248682006,2.5649493574615367,2.5649493574615367,3.2188758248682006,2.5649493574615367,2.9444389791664403,2.5649493574615367,2.9444389791664403,3.2188758248682006,2.5649493574615367,2.5649493574615367,2.5649493574615367,3.8918202981106265,3.6109179126442243,2.772588722239781,3.2188758248682006,2.5649493574615367,3.2188758248682006,3.2188758248682006,1.9459101490553132,2.3025850929940455,2.9444389791664403,2.9444389791664403,1.9459101490553132,3.332204510175204,3.2188758248682006,3.6109179126442243,3.2188758248682006,3.2188758248682006,3.2188758248682006,2.3978952727983707,2.772588722239781,2.5649493574615367,3.6109179126442243,2.9444389791664403,3.8918202981106265,3.6109179126442243,2.772588722239781,3.0910424533583156,3.8918202981106265,2.5649493574615367,3.4339872044851463,2.9444389791664403,3.2188758248682006,2.5649493574615367,3.8918202981106265,2.5649493574615367,2.9444389791664403,3.0910424533583156,3.2188758248682006,2.9444389791664403,3.2188758248682006,3.6109179126442243,2.5649493574615367,3.8918202981106265,3.2188758248682006,3.6109179126442243,2.9444389791664403,3.6109179126442243,2.9444389791664403,2.9444389791664403,2.5649493574615367,3.2188758248682006,3.2188758248682006,1.9459101490553132,3.2188758248682006,3.2188758248682006,2.9444389791664403,2.3025850929940455,3.2188758248682006,3.6109179126442243,3.6109179126442243,2.5649493574615367,2.3978952727983707,2.9444389791664403,3.4339872044851463,2.9444389791664403,3.8918202981106265,2.9444389791664403,2.3025850929940455,2.9444389791664403,2.3025850929940455,3.2188758248682006,3.7612001156935624,2.9444389791664403,2.772588722239781,3.6109179126442243,2.5649493574615367,3.2188758248682006,2.5649493574615367,2.5649493574615367,3.2188758248682006,3.6109179126442243,2.5649493574615367,2.5649493574615367,2.5649493574615367,3.0910424533583156,4.290459441148391,2.5649493574615367,3.8918202981106265,3.8918202981106265,2.5649493574615367,1.9459101490553132,4.110873864173311,2.3025850929940455,1.9459101490553132,2.5649493574615367,3.332204510175204,2.9444389791664403,3.8918202981106265,3.2188758248682006,3.2188758248682006,3.4339872044851463,2.5649493574615367,2.9444389791664403,2.5649493574615367,3.2188758248682006,2.772588722239781,2.5649493574615367,2.9444389791664403,3.0910424533583156,3.4339872044851463,3.6109179126442243,3.2188758248682006,3.6888794541139363,2.5649493574615367,3.8918202981106265,3.7135720667043075,3.0910424533583156,2.9444389791664403,3.6109179126442243,2.772588722239781,3.6109179126442243,3.8918202981106265,3.8918202981106265,2.9444389791664403,3.6109179126442243,2.9444389791664403,2.9444389791664403,3.6109179126442243,2.9444389791664403,3.828641396489095,2.772588722239781,2.5649493574615367,3.6109179126442243,2.9444389791664403,2.9444389791664403,2.5649493574615367,3.044522437723423,2.9444389791664403,2.772588722239781,2.9444389791664403,3.2188758248682006,2.3978952727983707,2.3025850929940455,3.2188758248682006,2.5649493574615367,3.8918202981106265,2.9444389791664403,2.833213344056216,3.2188758248682006,3.2188758248682006,3.8918202981106265,1.9459101490553132,3.2188758248682006,3.2188758248682006,2.3025850929940455,3.2188758248682006,2.5649493574615367,3.8918202981106265,2.3025850929940455,3.4339872044851463,2.3025850929940455,4.110873864173311,3.2188758248682006,2.9444389791664403,3.2188758248682006,3.6109179126442243,3.2188758248682006,3.6109179126442243,3.3672958299864737,3.2188758248682006,3.332204510175204,3.2188758248682006,4.110873864173311,3.2188758248682006,2.772588722239781,3.4339872044851463,3.8918202981106265,3.6109179126442243,3.828641396489095],\"type\":\"box\",\"xaxis\":\"x5\",\"yaxis\":\"y5\"},{\"y\":[1.9459101490553132,3.8918202981106265,2.5649493574615367,3.7612001156935624,3.2188758248682006,3.6109179126442243,3.2188758248682006,3.6109179126442243,2.5649493574615367,3.4339872044851463,2.5649493574615367,3.8918202981106265,2.5649493574615367,3.2188758248682006,2.772588722239781,3.2188758248682006,3.2188758248682006,3.4339872044851463,3.2188758248682006,3.2188758248682006,2.3025850929940455,1.9459101490553132,2.3978952727983707,2.5649493574615367,2.3978952727983707,1.9459101490553132,1.9459101490553132,2.5649493574615367,2.0794415416798357,4.110873864173311,2.9444389791664403,3.2188758248682006,2.9444389791664403,2.5649493574615367,2.5649493574615367,3.828641396489095,3.8918202981106265,2.9444389791664403,2.3978952727983707,2.3025850929940455,3.4339872044851463,2.5649493574615367,2.9444389791664403,3.4339872044851463,3.8918202981106265,2.4849066497880004,3.6109179126442243,1.9459101490553132,2.4849066497880004,2.5649493574615367,3.2188758248682006,3.332204510175204,2.5649493574615367,2.9444389791664403,3.6109179126442243,1.9459101490553132,2.5649493574615367,3.6109179126442243,2.9444389791664403,3.6109179126442243,2.3025850929940455,2.772588722239781,3.6109179126442243,3.8918202981106265,3.2188758248682006,3.332204510175204,2.5649493574615367,2.5649493574615367,3.6109179126442243,3.6109179126442243,3.6109179126442243,2.0794415416798357,2.197224577336219,3.7612001156935624,3.6109179126442243,2.5649493574615367,3.7612001156935624,2.4849066497880004,4.007333185232471,3.4339872044851463,3.2188758248682006,2.772588722239781,2.9444389791664403,3.2188758248682006,2.3978952727983707,2.5649493574615367,2.9444389791664403,3.6109179126442243,2.9444389791664403,2.5649493574615367,2.5649493574615367,2.5649493574615367,2.5649493574615367,3.2188758248682006,2.5649493574615367,4.007333185232471,2.5649493574615367,2.9444389791664403,3.6109179126442243,3.044522437723423,3.2188758248682006,3.6109179126442243,1.9459101490553132,2.3025850929940455,2.5649493574615367,3.2188758248682006,2.9444389791664403,2.5649493574615367,3.2188758248682006,2.70805020110221,1.9459101490553132,2.772588722239781,2.9444389791664403,3.6109179126442243,2.5649493574615367,3.8918202981106265,3.7612001156935624,2.3978952727983707,3.526360524616161,2.5649493574615367,3.0910424533583156,3.2188758248682006,2.5649493574615367,2.3978952727983707,2.9444389791664403,2.5649493574615367,2.5649493574615367,2.5649493574615367,2.5649493574615367,2.5649493574615367,3.8918202981106265,3.6109179126442243,2.772588722239781,2.9444389791664403,4.110873864173311,2.5649493574615367,3.332204510175204,2.5649493574615367,2.772588722239781,2.5649493574615367,1.9459101490553132,3.6109179126442243,3.332204510175204,2.9444389791664403,3.0910424533583156,3.8918202981106265,1.9459101490553132,2.5649493574615367,3.6109179126442243,2.9444389791664403,1.9459101490553132,2.3978952727983707,3.6109179126442243,3.2188758248682006,3.2188758248682006,2.5649493574615367,2.3025850929940455,2.5649493574615367,3.2188758248682006,1.9459101490553132,3.2188758248682006,2.9444389791664403,2.772588722239781,2.3978952727983707,3.6109179126442243,1.9459101490553132,2.9444389791664403,2.4849066497880004,3.2188758248682006,3.2188758248682006,2.772588722239781,2.5649493574615367,3.2188758248682006,2.197224577336219,3.0910424533583156,3.4339872044851463,2.5649493574615367,1.9459101490553132,2.5649493574615367,3.0910424533583156,3.6109179126442243,3.6109179126442243,3.0910424533583156,3.2188758248682006,2.9444389791664403,2.772588722239781,2.3025850929940455,2.833213344056216,2.5649493574615367,2.9444389791664403,3.2188758248682006,3.8918202981106265,3.332204510175204,1.9459101490553132,3.828641396489095,2.3025850929940455,1.9459101490553132,2.5649493574615367,3.2188758248682006,2.9444389791664403,2.3025850929940455,2.5649493574615367,3.332204510175204,2.5649493574615367,2.5649493574615367,3.4339872044851463,2.5649493574615367,2.5649493574615367,3.2188758248682006,2.5649493574615367,2.3025850929940455,3.6109179126442243,3.332204510175204,3.4339872044851463,3.6109179126442243,1.9459101490553132,2.9444389791664403,3.6109179126442243,3.2188758248682006,2.3978952727983707,2.5649493574615367,2.5649493574615367,2.5649493574615367,3.2188758248682006,2.772588722239781,3.6109179126442243,3.8918202981106265,2.5649493574615367,2.3025850929940455,3.2188758248682006,3.6109179126442243,2.3025850929940455,2.5649493574615367,2.9444389791664403,1.6094379124341003,3.2188758248682006,1.9459101490553132,3.0910424533583156,2.5649493574615367,3.4339872044851463,3.2188758248682006,1.9459101490553132,3.8918202981106265,2.5649493574615367,2.5649493574615367,3.2188758248682006,2.5649493574615367,1.9459101490553132,3.2188758248682006,2.9444389791664403,1.9459101490553132,2.5649493574615367,3.4339872044851463,3.2188758248682006,2.3025850929940455,4.110873864173311,3.2188758248682006,2.5649493574615367,2.772588722239781,2.4849066497880004,2.5649493574615367,3.2188758248682006,2.9444389791664403,2.5649493574615367,2.3978952727983707,2.772588722239781,3.6109179126442243,3.2188758248682006,2.70805020110221,3.2188758248682006,2.9444389791664403,2.5649493574615367,3.8918202981106265,3.8918202981106265,3.4339872044851463,2.3025850929940455,2.9444389791664403,2.5649493574615367,1.9459101490553132,3.2188758248682006,2.772588722239781,2.5649493574615367,2.9444389791664403,2.772588722239781,3.2188758248682006,3.8712010109078907,3.8918202981106265,3.8918202981106265,2.5649493574615367,3.2188758248682006,2.5649493574615367,3.6109179126442243,3.2188758248682006,3.7612001156935624,3.8918202981106265,3.8918202981106265,2.5649493574615367,2.3978952727983707,2.9444389791664403,3.0910424533583156,1.9459101490553132,3.6109179126442243,3.2188758248682006,2.3978952727983707,3.8918202981106265,1.9459101490553132,3.4339872044851463,2.5649493574615367,2.197224577336219,2.3025850929940455,3.8918202981106265,3.2188758248682006,3.2188758248682006,2.5649493574615367,1.6094379124341003,3.6109179126442243,2.5649493574615367,3.2188758248682006,2.5649493574615367,2.772588722239781,3.4339872044851463,3.2188758248682006,3.2188758248682006,2.9444389791664403,2.9444389791664403,2.197224577336219,2.5649493574615367,3.2188758248682006,3.6109179126442243,1.9459101490553132,3.2188758248682006,2.9444389791664403,4.110873864173311,3.8918202981106265,3.2188758248682006,1.9459101490553132,2.6390573296152584,2.772588722239781,3.2188758248682006,2.3978952727983707,3.2188758248682006,3.0910424533583156,2.9444389791664403,2.9444389791664403,2.3978952727983707,2.772588722239781,2.6390573296152584,3.2188758248682006,1.9459101490553132,2.3025850929940455,2.3025850929940455,2.3025850929940455,2.9444389791664403,2.5649493574615367,2.3978952727983707,3.2188758248682006,2.5649493574615367,3.6109179126442243,2.5649493574615367,3.4339872044851463,2.9444389791664403,2.5649493574615367,2.5649493574615367,1.9459101490553132,2.9444389791664403,2.5649493574615367,2.9444389791664403,2.9444389791664403,3.6109179126442243,2.9444389791664403,3.6109179126442243,2.9444389791664403,2.3978952727983707,4.110873864173311,4.110873864173311,3.8918202981106265,2.9444389791664403,2.0794415416798357,3.6109179126442243,1.9459101490553132,3.044522437723423,2.9444389791664403,3.1354942159291497,2.5649493574615367,3.4339872044851463,2.9444389791664403,2.9444389791664403,2.9444389791664403,2.772588722239781,2.3025850929940455,2.9444389791664403,2.5649493574615367,3.6109179126442243,1.9459101490553132,2.3025850929940455,3.6888794541139363,2.5649493574615367,3.6109179126442243,2.5649493574615367,3.2188758248682006,2.9444389791664403,2.9444389791664403,3.2188758248682006,2.70805020110221,2.9444389791664403,3.2188758248682006,3.2188758248682006,2.772588722239781,3.2188758248682006,2.5649493574615367,3.2188758248682006,3.526360524616161,2.5649493574615367,2.3978952727983707,3.2188758248682006,3.6109179126442243,2.5649493574615367,2.9444389791664403,3.0910424533583156,2.9444389791664403,2.772588722239781,2.5649493574615367,2.5649493574615367,3.0910424533583156,2.5649493574615367,2.9444389791664403,3.3672958299864737,2.9444389791664403,2.3025850929940455,2.9444389791664403,1.791759469228055,3.2188758248682006,1.9459101490553132,3.2188758248682006,2.3025850929940455,2.5649493574615367,1.9459101490553132,3.2188758248682006,3.7612001156935624,2.5649493574615367,2.5649493574615367,2.5649493574615367,3.044522437723423,2.5649493574615367,3.8918202981106265,2.3025850929940455,3.6109179126442243,2.0794415416798357,2.5649493574615367,2.772588722239781,3.6109179126442243,1.9459101490553132,2.5649493574615367,3.2188758248682006,3.2188758248682006,3.2188758248682006,2.4849066497880004,2.5649493574615367,1.9459101490553132,2.9444389791664403,3.6109179126442243,2.772588722239781,2.5649493574615367,2.5649493574615367,2.9444389791664403,3.2188758248682006,3.2188758248682006,3.8918202981106265,3.526360524616161,3.2188758248682006,3.2188758248682006,1.9459101490553132,2.3025850929940455,1.9459101490553132,2.9444389791664403,2.9444389791664403,3.6888794541139363,3.2188758248682006,2.5649493574615367,2.772588722239781,2.5649493574615367,3.2188758248682006,3.4339872044851463,2.772588722239781,2.5649493574615367,1.9459101490553132,2.5649493574615367,3.2188758248682006,2.3978952727983707,1.9459101490553132,2.5649493574615367,3.332204510175204,1.9459101490553132,1.9459101490553132,2.5649493574615367,3.2188758248682006,3.6109179126442243,3.2188758248682006,2.9444389791664403,1.9459101490553132,3.2188758248682006,3.6109179126442243,2.3025850929940455,3.2188758248682006,3.2188758248682006,2.3978952727983707,2.772588722239781,2.772588722239781,3.2188758248682006,3.6888794541139363,2.5649493574615367,3.6109179126442243,2.772588722239781,2.5649493574615367,3.2188758248682006,1.9459101490553132,1.9459101490553132,3.6109179126442243,1.9459101490553132,1.9459101490553132,3.2188758248682006,2.9444389791664403,3.8918202981106265,3.2188758248682006,2.9444389791664403,3.295836866004329,2.772588722239781,1.6094379124341003,3.6109179126442243,1.9459101490553132,3.6109179126442243,2.772588722239781,2.5649493574615367,3.2188758248682006,3.2188758248682006,3.0910424533583156,1.9459101490553132,2.9444389791664403,3.8918202981106265,2.9444389791664403,2.5649493574615367,3.2188758248682006,3.4339872044851463,2.9444389791664403,2.5649493574615367,3.2188758248682006,3.2188758248682006,3.2188758248682006,2.5649493574615367,3.8918202981106265,2.5649493574615367,1.9459101490553132,3.8918202981106265,2.5649493574615367,2.3025850929940455,2.5649493574615367,2.9444389791664403,3.0910424533583156,3.2188758248682006,2.9444389791664403,3.2188758248682006,3.2188758248682006,1.9459101490553132,3.6109179126442243,3.2188758248682006,3.2188758248682006,2.5649493574615367,3.2188758248682006,3.8918202981106265,3.8918202981106265,3.2188758248682006,3.4339872044851463,3.2188758248682006,2.772588722239781,2.3025850929940455,2.772588722239781,2.5649493574615367,3.2188758248682006,3.6109179126442243,3.2188758248682006,2.9444389791664403,2.5649493574615367,2.3025850929940455,3.6109179126442243,2.5649493574615367,2.9444389791664403,2.3025850929940455,2.5649493574615367,2.9444389791664403,2.5649493574615367,2.5649493574615367,3.2188758248682006,3.0910424533583156,3.2188758248682006,3.2188758248682006,1.9459101490553132,3.2188758248682006,3.2188758248682006,2.9444389791664403,3.2188758248682006,2.0794415416798357,2.3025850929940455,3.2188758248682006,3.6109179126442243,2.3978952727983707,3.2188758248682006,3.2188758248682006,3.6109179126442243,2.9444389791664403,2.772588722239781,2.5649493574615367,2.3978952727983707,3.0910424533583156,3.2188758248682006,2.9444389791664403,3.8918202981106265,4.110873864173311,1.9459101490553132,3.4339872044851463,2.5649493574615367,3.0910424533583156,2.9444389791664403,3.8918202981106265,2.5649493574615367,2.9444389791664403,2.772588722239781,1.9459101490553132,2.3025850929940455,3.7612001156935624,2.3025850929940455,3.2188758248682006,2.9444389791664403,2.772588722239781,2.3025850929940455,3.2188758248682006,2.5649493574615367,3.2188758248682006,4.110873864173311,2.5649493574615367,3.7612001156935624,2.9444389791664403,2.772588722239781,2.772588722239781,3.2188758248682006,2.9444389791664403,3.6109179126442243,3.4339872044851463,2.5649493574615367,3.2188758248682006,2.5649493574615367,3.8918202981106265,2.5649493574615367,3.2188758248682006,3.6109179126442243,3.2188758248682006,2.70805020110221,2.5649493574615367,3.8918202981106265,3.4339872044851463,2.9444389791664403,2.5649493574615367,2.5649493574615367,3.0910424533583156,1.9459101490553132,1.9459101490553132,3.2188758248682006,3.4339872044851463,3.8918202981106265,2.5649493574615367,3.4339872044851463,3.2188758248682006,3.6109179126442243,4.110873864173311,1.9459101490553132,3.0910424533583156,3.4339872044851463,3.2188758248682006,4.290459441148391,3.2188758248682006,2.9444389791664403,1.9459101490553132,2.5649493574615367,2.772588722239781,3.2188758248682006,3.6109179126442243,4.110873864173311,2.3978952727983707,3.6109179126442243,2.3025850929940455,2.5649493574615367,2.772588722239781,2.772588722239781,3.2188758248682006,1.9459101490553132,3.2188758248682006,1.9459101490553132,2.5649493574615367,2.5649493574615367,2.9444389791664403,2.772588722239781,2.5649493574615367,3.8918202981106265,3.2188758248682006,3.4339872044851463,3.332204510175204,2.772588722239781,3.8918202981106265,2.5649493574615367,2.3025850929940455,2.3025850929940455,2.9444389791664403,1.9459101490553132,3.0910424533583156,2.3025850929940455,4.110873864173311,3.4339872044851463,3.4339872044851463,2.9444389791664403,3.2188758248682006,3.044522437723423,2.3025850929940455,1.9459101490553132,2.5649493574615367,2.3025850929940455,3.332204510175204,1.9459101490553132,2.772588722239781,2.9444389791664403,3.8918202981106265,3.2188758248682006,3.2188758248682006,3.2188758248682006,2.197224577336219,3.2188758248682006,1.6094379124341003,3.6109179126442243,3.2188758248682006,2.9444389791664403,1.9459101490553132,3.4339872044851463,3.2188758248682006,2.3978952727983707,3.0910424533583156,3.2188758248682006,3.6888794541139363,2.6390573296152584,2.772588722239781,2.5649493574615367,3.0910424533583156,2.772588722239781,1.9459101490553132,2.9444389791664403,2.5649493574615367,3.4339872044851463,2.5649493574615367,3.2188758248682006,1.9459101490553132,2.772588722239781,3.2188758248682006,2.5649493574615367,2.772588722239781,2.9444389791664403,2.5649493574615367,3.0910424533583156,3.2188758248682006,2.5649493574615367,3.4339872044851463,2.3978952727983707,2.5649493574615367,2.5649493574615367,3.2188758248682006,3.6109179126442243,3.0910424533583156,3.2188758248682006,2.5649493574615367,3.2188758248682006,3.6109179126442243,2.9444389791664403,3.6109179126442243,2.9444389791664403,3.6888794541139363,3.2188758248682006,2.5649493574615367,2.5649493574615367,3.044522437723423,2.9444389791664403,3.1354942159291497,3.8918202981106265,3.8918202981106265,3.7135720667043075,3.0910424533583156,3.2188758248682006,1.9459101490553132,3.2188758248682006,3.2188758248682006,2.3025850929940455,2.9444389791664403,2.5649493574615367,3.2188758248682006,2.3025850929940455,3.2188758248682006,2.9444389791664403,3.044522437723423,2.5649493574615367,2.5649493574615367,3.6109179126442243,1.9459101490553132,2.5649493574615367,3.7612001156935624,2.772588722239781,2.197224577336219,1.9459101490553132,3.6109179126442243,3.8918202981106265,3.8918202981106265,3.6109179126442243,1.9459101490553132,1.9459101490553132,3.6109179126442243,2.9444389791664403,2.5649493574615367,2.5649493574615367,3.6109179126442243,2.197224577336219,2.9444389791664403,3.0910424533583156,2.9444389791664403,2.9444389791664403,3.6109179126442243,3.8918202981106265,3.2188758248682006,2.9444389791664403,3.828641396489095,3.2188758248682006,2.772588722239781,2.5649493574615367,2.5649493574615367,1.6094379124341003,3.2188758248682006,3.2188758248682006,3.6109179126442243,3.0910424533583156,2.9444389791664403,3.2188758248682006,2.9444389791664403,3.0910424533583156,2.9444389791664403,3.2188758248682006,2.3025850929940455,2.5649493574615367,3.044522437723423,3.2188758248682006,2.772588722239781,2.9444389791664403,3.6109179126442243,3.2188758248682006,2.3978952727983707,2.772588722239781,2.772588722239781,2.3025850929940455,3.2188758248682006,2.9444389791664403,3.2188758248682006,3.332204510175204,2.3978952727983707,2.772588722239781,2.9444389791664403,2.5649493574615367,3.6109179126442243,2.5649493574615367,3.6109179126442243,1.9459101490553132,3.2188758248682006,2.772588722239781,2.5649493574615367,2.4849066497880004,2.9444389791664403,3.6109179126442243,2.3025850929940455,3.4339872044851463,3.2188758248682006,3.2188758248682006,3.4339872044851463,2.9444389791664403,3.2188758248682006,2.5649493574615367,3.2188758248682006,3.8918202981106265,3.6109179126442243,3.3672958299864737,3.332204510175204,2.772588722239781,2.5649493574615367,3.6109179126442243,2.9444389791664403,3.6109179126442243,3.0910424533583156,2.5649493574615367,2.772588722239781,2.9444389791664403,2.833213344056216,3.044522437723423,3.6109179126442243,2.772588722239781,3.2188758248682006,2.5649493574615367,3.0910424533583156,3.6109179126442243,2.772588722239781,2.3025850929940455,3.6109179126442243,3.2188758248682006,3.4339872044851463,2.4849066497880004,3.2188758248682006,3.8918202981106265,2.3978952727983707,1.9459101490553132,3.2188758248682006,3.2188758248682006,2.9444389791664403,3.8918202981106265,2.3025850929940455,2.5649493574615367,3.2188758248682006,2.5649493574615367,2.9444389791664403,3.8918202981106265,3.4339872044851463,2.5649493574615367,3.2188758248682006,2.3025850929940455,2.3025850929940455,2.5649493574615367,2.5649493574615367,3.4339872044851463,2.3025850929940455,1.9459101490553132,4.110873864173311,3.2188758248682006,2.5649493574615367,2.3978952727983707,3.2188758248682006,1.6094379124341003,2.772588722239781,3.8918202981106265,3.2188758248682006,2.5649493574615367,2.9444389791664403,3.2188758248682006,2.9444389791664403,3.6109179126442243,3.2188758248682006,3.6109179126442243,2.5649493574615367,3.2188758248682006,3.4339872044851463,2.3025850929940455,3.3672958299864737,3.2188758248682006,1.9459101490553132,3.0910424533583156,2.772588722239781,3.2188758248682006,1.9459101490553132,3.4339872044851463,3.332204510175204,2.772588722239781,3.7612001156935624,2.4849066497880004,2.772588722239781,3.2188758248682006,3.2188758248682006,4.110873864173311,3.4339872044851463,3.2188758248682006,1.9459101490553132,2.9444389791664403,3.2188758248682006,2.772588722239781,3.4339872044851463,3.8918202981106265,3.0910424533583156,3.6109179126442243,3.2188758248682006,2.772588722239781,3.7612001156935624,2.6390573296152584,3.2188758248682006,3.2188758248682006,2.5649493574615367,2.772588722239781,2.9444389791664403,3.6109179126442243,2.5649493574615367,2.5649493574615367,3.4339872044851463,2.5649493574615367,3.828641396489095,3.828641396489095],\"type\":\"box\",\"xaxis\":\"x6\",\"yaxis\":\"y6\"}],                        {\"template\":{\"data\":{\"barpolar\":[{\"marker\":{\"line\":{\"color\":\"white\",\"width\":0.5},\"pattern\":{\"fillmode\":\"overlay\",\"size\":10,\"solidity\":0.2}},\"type\":\"barpolar\"}],\"bar\":[{\"error_x\":{\"color\":\"rgb(36,36,36)\"},\"error_y\":{\"color\":\"rgb(36,36,36)\"},\"marker\":{\"line\":{\"color\":\"white\",\"width\":0.5},\"pattern\":{\"fillmode\":\"overlay\",\"size\":10,\"solidity\":0.2}},\"type\":\"bar\"}],\"carpet\":[{\"aaxis\":{\"endlinecolor\":\"rgb(36,36,36)\",\"gridcolor\":\"white\",\"linecolor\":\"white\",\"minorgridcolor\":\"white\",\"startlinecolor\":\"rgb(36,36,36)\"},\"baxis\":{\"endlinecolor\":\"rgb(36,36,36)\",\"gridcolor\":\"white\",\"linecolor\":\"white\",\"minorgridcolor\":\"white\",\"startlinecolor\":\"rgb(36,36,36)\"},\"type\":\"carpet\"}],\"choropleth\":[{\"colorbar\":{\"outlinewidth\":1,\"tickcolor\":\"rgb(36,36,36)\",\"ticks\":\"outside\"},\"type\":\"choropleth\"}],\"contourcarpet\":[{\"colorbar\":{\"outlinewidth\":1,\"tickcolor\":\"rgb(36,36,36)\",\"ticks\":\"outside\"},\"type\":\"contourcarpet\"}],\"contour\":[{\"colorbar\":{\"outlinewidth\":1,\"tickcolor\":\"rgb(36,36,36)\",\"ticks\":\"outside\"},\"colorscale\":[[0.0,\"#440154\"],[0.1111111111111111,\"#482878\"],[0.2222222222222222,\"#3e4989\"],[0.3333333333333333,\"#31688e\"],[0.4444444444444444,\"#26828e\"],[0.5555555555555556,\"#1f9e89\"],[0.6666666666666666,\"#35b779\"],[0.7777777777777778,\"#6ece58\"],[0.8888888888888888,\"#b5de2b\"],[1.0,\"#fde725\"]],\"type\":\"contour\"}],\"heatmapgl\":[{\"colorbar\":{\"outlinewidth\":1,\"tickcolor\":\"rgb(36,36,36)\",\"ticks\":\"outside\"},\"colorscale\":[[0.0,\"#440154\"],[0.1111111111111111,\"#482878\"],[0.2222222222222222,\"#3e4989\"],[0.3333333333333333,\"#31688e\"],[0.4444444444444444,\"#26828e\"],[0.5555555555555556,\"#1f9e89\"],[0.6666666666666666,\"#35b779\"],[0.7777777777777778,\"#6ece58\"],[0.8888888888888888,\"#b5de2b\"],[1.0,\"#fde725\"]],\"type\":\"heatmapgl\"}],\"heatmap\":[{\"colorbar\":{\"outlinewidth\":1,\"tickcolor\":\"rgb(36,36,36)\",\"ticks\":\"outside\"},\"colorscale\":[[0.0,\"#440154\"],[0.1111111111111111,\"#482878\"],[0.2222222222222222,\"#3e4989\"],[0.3333333333333333,\"#31688e\"],[0.4444444444444444,\"#26828e\"],[0.5555555555555556,\"#1f9e89\"],[0.6666666666666666,\"#35b779\"],[0.7777777777777778,\"#6ece58\"],[0.8888888888888888,\"#b5de2b\"],[1.0,\"#fde725\"]],\"type\":\"heatmap\"}],\"histogram2dcontour\":[{\"colorbar\":{\"outlinewidth\":1,\"tickcolor\":\"rgb(36,36,36)\",\"ticks\":\"outside\"},\"colorscale\":[[0.0,\"#440154\"],[0.1111111111111111,\"#482878\"],[0.2222222222222222,\"#3e4989\"],[0.3333333333333333,\"#31688e\"],[0.4444444444444444,\"#26828e\"],[0.5555555555555556,\"#1f9e89\"],[0.6666666666666666,\"#35b779\"],[0.7777777777777778,\"#6ece58\"],[0.8888888888888888,\"#b5de2b\"],[1.0,\"#fde725\"]],\"type\":\"histogram2dcontour\"}],\"histogram2d\":[{\"colorbar\":{\"outlinewidth\":1,\"tickcolor\":\"rgb(36,36,36)\",\"ticks\":\"outside\"},\"colorscale\":[[0.0,\"#440154\"],[0.1111111111111111,\"#482878\"],[0.2222222222222222,\"#3e4989\"],[0.3333333333333333,\"#31688e\"],[0.4444444444444444,\"#26828e\"],[0.5555555555555556,\"#1f9e89\"],[0.6666666666666666,\"#35b779\"],[0.7777777777777778,\"#6ece58\"],[0.8888888888888888,\"#b5de2b\"],[1.0,\"#fde725\"]],\"type\":\"histogram2d\"}],\"histogram\":[{\"marker\":{\"line\":{\"color\":\"white\",\"width\":0.6}},\"type\":\"histogram\"}],\"mesh3d\":[{\"colorbar\":{\"outlinewidth\":1,\"tickcolor\":\"rgb(36,36,36)\",\"ticks\":\"outside\"},\"type\":\"mesh3d\"}],\"parcoords\":[{\"line\":{\"colorbar\":{\"outlinewidth\":1,\"tickcolor\":\"rgb(36,36,36)\",\"ticks\":\"outside\"}},\"type\":\"parcoords\"}],\"pie\":[{\"automargin\":true,\"type\":\"pie\"}],\"scatter3d\":[{\"line\":{\"colorbar\":{\"outlinewidth\":1,\"tickcolor\":\"rgb(36,36,36)\",\"ticks\":\"outside\"}},\"marker\":{\"colorbar\":{\"outlinewidth\":1,\"tickcolor\":\"rgb(36,36,36)\",\"ticks\":\"outside\"}},\"type\":\"scatter3d\"}],\"scattercarpet\":[{\"marker\":{\"colorbar\":{\"outlinewidth\":1,\"tickcolor\":\"rgb(36,36,36)\",\"ticks\":\"outside\"}},\"type\":\"scattercarpet\"}],\"scattergeo\":[{\"marker\":{\"colorbar\":{\"outlinewidth\":1,\"tickcolor\":\"rgb(36,36,36)\",\"ticks\":\"outside\"}},\"type\":\"scattergeo\"}],\"scattergl\":[{\"marker\":{\"colorbar\":{\"outlinewidth\":1,\"tickcolor\":\"rgb(36,36,36)\",\"ticks\":\"outside\"}},\"type\":\"scattergl\"}],\"scattermapbox\":[{\"marker\":{\"colorbar\":{\"outlinewidth\":1,\"tickcolor\":\"rgb(36,36,36)\",\"ticks\":\"outside\"}},\"type\":\"scattermapbox\"}],\"scatterpolargl\":[{\"marker\":{\"colorbar\":{\"outlinewidth\":1,\"tickcolor\":\"rgb(36,36,36)\",\"ticks\":\"outside\"}},\"type\":\"scatterpolargl\"}],\"scatterpolar\":[{\"marker\":{\"colorbar\":{\"outlinewidth\":1,\"tickcolor\":\"rgb(36,36,36)\",\"ticks\":\"outside\"}},\"type\":\"scatterpolar\"}],\"scatter\":[{\"fillpattern\":{\"fillmode\":\"overlay\",\"size\":10,\"solidity\":0.2},\"type\":\"scatter\"}],\"scatterternary\":[{\"marker\":{\"colorbar\":{\"outlinewidth\":1,\"tickcolor\":\"rgb(36,36,36)\",\"ticks\":\"outside\"}},\"type\":\"scatterternary\"}],\"surface\":[{\"colorbar\":{\"outlinewidth\":1,\"tickcolor\":\"rgb(36,36,36)\",\"ticks\":\"outside\"},\"colorscale\":[[0.0,\"#440154\"],[0.1111111111111111,\"#482878\"],[0.2222222222222222,\"#3e4989\"],[0.3333333333333333,\"#31688e\"],[0.4444444444444444,\"#26828e\"],[0.5555555555555556,\"#1f9e89\"],[0.6666666666666666,\"#35b779\"],[0.7777777777777778,\"#6ece58\"],[0.8888888888888888,\"#b5de2b\"],[1.0,\"#fde725\"]],\"type\":\"surface\"}],\"table\":[{\"cells\":{\"fill\":{\"color\":\"rgb(237,237,237)\"},\"line\":{\"color\":\"white\"}},\"header\":{\"fill\":{\"color\":\"rgb(217,217,217)\"},\"line\":{\"color\":\"white\"}},\"type\":\"table\"}]},\"layout\":{\"annotationdefaults\":{\"arrowhead\":0,\"arrowwidth\":1},\"autotypenumbers\":\"strict\",\"coloraxis\":{\"colorbar\":{\"outlinewidth\":1,\"tickcolor\":\"rgb(36,36,36)\",\"ticks\":\"outside\"}},\"colorscale\":{\"diverging\":[[0.0,\"rgb(103,0,31)\"],[0.1,\"rgb(178,24,43)\"],[0.2,\"rgb(214,96,77)\"],[0.3,\"rgb(244,165,130)\"],[0.4,\"rgb(253,219,199)\"],[0.5,\"rgb(247,247,247)\"],[0.6,\"rgb(209,229,240)\"],[0.7,\"rgb(146,197,222)\"],[0.8,\"rgb(67,147,195)\"],[0.9,\"rgb(33,102,172)\"],[1.0,\"rgb(5,48,97)\"]],\"sequential\":[[0.0,\"#440154\"],[0.1111111111111111,\"#482878\"],[0.2222222222222222,\"#3e4989\"],[0.3333333333333333,\"#31688e\"],[0.4444444444444444,\"#26828e\"],[0.5555555555555556,\"#1f9e89\"],[0.6666666666666666,\"#35b779\"],[0.7777777777777778,\"#6ece58\"],[0.8888888888888888,\"#b5de2b\"],[1.0,\"#fde725\"]],\"sequentialminus\":[[0.0,\"#440154\"],[0.1111111111111111,\"#482878\"],[0.2222222222222222,\"#3e4989\"],[0.3333333333333333,\"#31688e\"],[0.4444444444444444,\"#26828e\"],[0.5555555555555556,\"#1f9e89\"],[0.6666666666666666,\"#35b779\"],[0.7777777777777778,\"#6ece58\"],[0.8888888888888888,\"#b5de2b\"],[1.0,\"#fde725\"]]},\"colorway\":[\"#1F77B4\",\"#FF7F0E\",\"#2CA02C\",\"#D62728\",\"#9467BD\",\"#8C564B\",\"#E377C2\",\"#7F7F7F\",\"#BCBD22\",\"#17BECF\"],\"font\":{\"color\":\"rgb(36,36,36)\"},\"geo\":{\"bgcolor\":\"white\",\"lakecolor\":\"white\",\"landcolor\":\"white\",\"showlakes\":true,\"showland\":true,\"subunitcolor\":\"white\"},\"hoverlabel\":{\"align\":\"left\"},\"hovermode\":\"closest\",\"mapbox\":{\"style\":\"light\"},\"paper_bgcolor\":\"white\",\"plot_bgcolor\":\"white\",\"polar\":{\"angularaxis\":{\"gridcolor\":\"rgb(232,232,232)\",\"linecolor\":\"rgb(36,36,36)\",\"showgrid\":false,\"showline\":true,\"ticks\":\"outside\"},\"bgcolor\":\"white\",\"radialaxis\":{\"gridcolor\":\"rgb(232,232,232)\",\"linecolor\":\"rgb(36,36,36)\",\"showgrid\":false,\"showline\":true,\"ticks\":\"outside\"}},\"scene\":{\"xaxis\":{\"backgroundcolor\":\"white\",\"gridcolor\":\"rgb(232,232,232)\",\"gridwidth\":2,\"linecolor\":\"rgb(36,36,36)\",\"showbackground\":true,\"showgrid\":false,\"showline\":true,\"ticks\":\"outside\",\"zeroline\":false,\"zerolinecolor\":\"rgb(36,36,36)\"},\"yaxis\":{\"backgroundcolor\":\"white\",\"gridcolor\":\"rgb(232,232,232)\",\"gridwidth\":2,\"linecolor\":\"rgb(36,36,36)\",\"showbackground\":true,\"showgrid\":false,\"showline\":true,\"ticks\":\"outside\",\"zeroline\":false,\"zerolinecolor\":\"rgb(36,36,36)\"},\"zaxis\":{\"backgroundcolor\":\"white\",\"gridcolor\":\"rgb(232,232,232)\",\"gridwidth\":2,\"linecolor\":\"rgb(36,36,36)\",\"showbackground\":true,\"showgrid\":false,\"showline\":true,\"ticks\":\"outside\",\"zeroline\":false,\"zerolinecolor\":\"rgb(36,36,36)\"}},\"shapedefaults\":{\"fillcolor\":\"black\",\"line\":{\"width\":0},\"opacity\":0.3},\"ternary\":{\"aaxis\":{\"gridcolor\":\"rgb(232,232,232)\",\"linecolor\":\"rgb(36,36,36)\",\"showgrid\":false,\"showline\":true,\"ticks\":\"outside\"},\"baxis\":{\"gridcolor\":\"rgb(232,232,232)\",\"linecolor\":\"rgb(36,36,36)\",\"showgrid\":false,\"showline\":true,\"ticks\":\"outside\"},\"bgcolor\":\"white\",\"caxis\":{\"gridcolor\":\"rgb(232,232,232)\",\"linecolor\":\"rgb(36,36,36)\",\"showgrid\":false,\"showline\":true,\"ticks\":\"outside\"}},\"title\":{\"x\":0.05},\"xaxis\":{\"automargin\":true,\"gridcolor\":\"rgb(232,232,232)\",\"linecolor\":\"rgb(36,36,36)\",\"showgrid\":false,\"showline\":true,\"ticks\":\"outside\",\"title\":{\"standoff\":15},\"zeroline\":false,\"zerolinecolor\":\"rgb(36,36,36)\"},\"yaxis\":{\"automargin\":true,\"gridcolor\":\"rgb(232,232,232)\",\"linecolor\":\"rgb(36,36,36)\",\"showgrid\":false,\"showline\":true,\"ticks\":\"outside\",\"title\":{\"standoff\":15},\"zeroline\":false,\"zerolinecolor\":\"rgb(36,36,36)\"}}},\"xaxis\":{\"anchor\":\"y\",\"domain\":[0.0,0.2888888888888889],\"matches\":\"x4\",\"showticklabels\":false},\"yaxis\":{\"anchor\":\"x\",\"domain\":[0.55,1.0]},\"xaxis2\":{\"anchor\":\"y2\",\"domain\":[0.35555555555555557,0.6444444444444445],\"matches\":\"x5\",\"showticklabels\":false},\"yaxis2\":{\"anchor\":\"x2\",\"domain\":[0.55,1.0]},\"xaxis3\":{\"anchor\":\"y3\",\"domain\":[0.7111111111111111,1.0],\"matches\":\"x6\",\"showticklabels\":false},\"yaxis3\":{\"anchor\":\"x3\",\"domain\":[0.55,1.0]},\"xaxis4\":{\"anchor\":\"y4\",\"domain\":[0.0,0.2888888888888889],\"showticklabels\":false},\"yaxis4\":{\"anchor\":\"x4\",\"domain\":[0.0,0.45]},\"xaxis5\":{\"anchor\":\"y5\",\"domain\":[0.35555555555555557,0.6444444444444445],\"showticklabels\":false},\"yaxis5\":{\"anchor\":\"x5\",\"domain\":[0.0,0.45]},\"xaxis6\":{\"anchor\":\"y6\",\"domain\":[0.7111111111111111,1.0],\"showticklabels\":false},\"yaxis6\":{\"anchor\":\"x6\",\"domain\":[0.0,0.45]},\"annotations\":[{\"font\":{\"size\":16},\"showarrow\":false,\"text\":\"Good\",\"x\":0.14444444444444446,\"xanchor\":\"center\",\"xref\":\"paper\",\"y\":1.0,\"yanchor\":\"bottom\",\"yref\":\"paper\"},{\"font\":{\"size\":16},\"showarrow\":false,\"text\":\"Bad\",\"x\":0.5,\"xanchor\":\"center\",\"xref\":\"paper\",\"y\":1.0,\"yanchor\":\"bottom\",\"yref\":\"paper\"},{\"font\":{\"size\":16},\"showarrow\":false,\"text\":\"General Distribuition\",\"x\":0.8555555555555556,\"xanchor\":\"center\",\"xref\":\"paper\",\"y\":1.0,\"yanchor\":\"bottom\",\"yref\":\"paper\"}],\"title\":{\"font\":{\"size\":18},\"text\":\"Months_loan_duration Distribuition\",\"x\":0.5},\"barmode\":\"group\",\"showlegend\":false,\"width\":1000},                        {\"responsive\": true}                    ).then(function(){\n",
       "                            \n",
       "var gd = document.getElementById('81c29a73-c55e-422d-813e-32195b0db261');\n",
       "var x = new MutationObserver(function (mutations, observer) {{\n",
       "        var display = window.getComputedStyle(gd).display;\n",
       "        if (!display || display === 'none') {{\n",
       "            console.log([gd, 'removed!']);\n",
       "            Plotly.purge(gd);\n",
       "            observer.disconnect();\n",
       "        }}\n",
       "}});\n",
       "\n",
       "// Listen for the removal of the full notebook cells\n",
       "var notebookContainer = gd.closest('#notebook-container');\n",
       "if (notebookContainer) {{\n",
       "    x.observe(notebookContainer, {childList: true});\n",
       "}}\n",
       "\n",
       "// Listen for the clearing of the current output cell\n",
       "var outputEl = gd.closest('.output');\n",
       "if (outputEl) {{\n",
       "    x.observe(outputEl, {childList: true});\n",
       "}}\n",
       "\n",
       "                        })                };                            </script>        </div>\n",
       "</body>\n",
       "</html>"
      ]
     },
     "metadata": {},
     "output_type": "display_data"
    },
    {
     "data": {
      "text/html": [
       "<html>\n",
       "<head><meta charset=\"utf-8\" /></head>\n",
       "<body>\n",
       "    <div>            <script src=\"https://cdnjs.cloudflare.com/ajax/libs/mathjax/2.7.5/MathJax.js?config=TeX-AMS-MML_SVG\"></script><script type=\"text/javascript\">if (window.MathJax && window.MathJax.Hub && window.MathJax.Hub.Config) {window.MathJax.Hub.Config({SVG: {font: \"STIX-Web\"}});}</script>                <script type=\"text/javascript\">window.PlotlyConfig = {MathJaxConfig: 'local'};</script>\n",
       "        <script src=\"https://cdn.plot.ly/plotly-2.18.2.min.js\"></script>                <div id=\"c0ea98cb-49f7-4c36-8864-cacc7768f257\" class=\"plotly-graph-div\" style=\"height:525px; width:1000px;\"></div>            <script type=\"text/javascript\">                                    window.PLOTLYENV=window.PLOTLYENV || {};                                    if (document.getElementById(\"c0ea98cb-49f7-4c36-8864-cacc7768f257\")) {                    Plotly.newPlot(                        \"c0ea98cb-49f7-4c36-8864-cacc7768f257\",                        [{\"histnorm\":\"probability\",\"x\":[7.064759027791801,7.648263030901919,8.972463821059907,9.111182800442965,7.950149887652017,8.846353043314327,8.026170194946426,7.357556200910353,7.247080584585756,7.793586803371583,8.996280439395015,8.14060704285845,7.666221925662724,7.881559917056898,7.715123603632105,7.498315870766981,7.635303886259415,7.226209010100671,6.056784013228624,6.016157159698353,7.789868559054705,7.5569505720129,8.299285906897273,8.67709870892586,7.14282740116162,7.29641326877392,8.717845704894915,7.111512116496156,6.129050210060545,7.755338812846501,7.055312843339752,8.733110697638708,8.730367211692956,7.239932591320469,7.740664401917241,7.210079628170788,8.885855993000296,7.637234388789472,7.755338812846501,8.693831965074693,7.141245122350491,8.125335086714289,6.664409020350408,9.166074955678168,7.581719640125308,7.238496840894364,7.338238150065589,8.065265208897731,8.55468163582723,7.683403681053826,6.915723448631313,7.781138509845015,9.003808086467169,6.594413459749778,7.060476365999801,8.6919864817894,7.3310603052186325,8.470520783217806,9.152393412021333,8.251403065380554,7.101675971619444,7.358193752733032,7.470793774195061,7.7475968386928855,7.253470382684527,7.16703787691222,7.718685495198465,6.428105272684596,7.2513449833722134,8.19367666595524,7.1846291527173145,7.607381425639791,7.872073979866873,7.757051142032013,8.861917004235215,7.293017679772782,7.751045117971802,6.838405200847344,7.560080465021827,7.802209316247118,8.712595487748722,8.951828676824181,7.2520539518528135,7.27931883541462,5.973809611869261,8.74209519574531,7.427144133408615,8.182838710766026,7.665284718471351,7.769378609513984,8.260751354700513,7.478169694159785,6.661854740545311,7.660114319173928,6.553933404025811,7.528869256642251,9.046408680293819,7.9043348420850945,7.59337419312129,9.224736252259914,7.123672785204607,9.061144065614055,7.911690520708338,7.540090320145325,6.5652649700353605,8.475537516147405,8.136518252115291,7.735870319952566,8.17948018535889,6.7580945044277305,6.52649485957079,8.588955557643128,7.367077059881012,7.205635176410364,7.562681246721884,8.674025985443025,8.95660873889395,8.849083518532339,7.161622002939187,5.828945617610207,8.164225652265827,7.549082710812286,7.96311205897929,6.962243464266207,7.141245122350491,8.896861744480391,6.813444599510896,7.999342952713282,7.363913501405819,8.287276755814599,6.638567789166521,7.254884810077337,7.8547691834991324,5.82600010738045,7.582738488914411,6.349138991379798,8.236950048061455,7.215975002651466,7.069874128458572,8.08487062913819,7.653969180478774,7.232010331664758,7.923348211930154,6.842683282238422,7.063903961472068,8.540519016719735,7.310550158534422,9.270870871716214,7.568379267836522,7.26192709270275,8.790116892892472,7.254177846456518,8.031060180240617,8.252185436003328,8.114623886420098,6.838405200847344,8.040768994367578,8.272315147956022,8.013674142832684,7.21890970761906,6.439350371100098,7.0909098220799835,6.56244409369372,7.999342952713282,8.446341450444287,7.868636894184167,8.055157731819678,7.827240901752811,7.669495251007694,6.7650389767805414,7.3427791893318455,7.163946684342547,7.833203948641057,7.375255778009754,7.07834157955767,8.145549631783583,7.138073034044347,6.576469569048224,7.094234845924755,7.56320059235807,6.502790045915623,7.7195739892595805,8.331345424845724,7.616283561580384,8.911799556189525,7.8954360069429645,8.246171559857563,7.051855622955894,7.41336733569524,7.380255788426459,8.57602797713713,7.918992488165245,7.116394144093465,8.749098248399019,7.335633981927201,6.907755278982137,7.887208585813932,7.246368080102461,9.406729185981572,7.900266036767701,7.785305182539862,7.141245122350491,7.550661243105336,8.122371243406553,7.362010551259734,7.276556402718709,7.327123292259293,8.263332667439967,9.280146246220145,8.47407690034261,8.933664178700935,6.996681488176538,6.981934677156389,8.767173396684006,8.475746001502063,8.939843124278502,8.450198322591959,7.160845906664298,7.830425617820331,7.917900586327916,6.511745329644728,6.946013991099227,7.342131730584721,8.47886807709457,5.6240175061873385,8.590815331286851,8.614682812693495,8.229511118964457,7.3098814858247865,6.5638555265321274,8.378390788535778,6.553933404025811,8.200837258379849,7.9762519437456225,7.886081401775744,6.9363427358340495,8.131236549696116,8.665957964681349,7.330405211844402,8.406038142050075,6.974478911025045,8.797246236703527,7.650644551436896,8.335671314792847,7.327780538421631,8.65591111072806,8.1886891244442,8.075271546297458,8.39840965542627,8.281470857895167,7.286191714702382,6.78332520060396,8.231908243564177,7.463936604468925,7.1204443723924875,8.080237416216702,6.590301048196686,7.754481547470383,6.655440350367647,7.122866658599082,8.131530710604252,7.717796211013582,7.4770384723196965,7.341483852363161,8.25608813381491,8.202756381655636,8.007034012193406,8.03268487596762,8.711278615130434,7.671826797878781,9.529303064460995,7.749753406274436,6.741700694652054,5.8944028342648505,7.70210434005105,7.157735484249907,7.193685818395111,8.360071435644025,7.713784616598755,7.027314514039776,8.90585118120802,7.752335163302291,7.27931883541462,7.5071410797276075,6.891625897052253,8.086410275323782,7.579678823090456,7.786136437783072,9.372544251851036,7.8551570058813445,7.761744984658913,7.324489979348532,7.295735072749282,7.543273346705446,6.688354713946762,7.9724660159745655,7.6953031349635665,6.960347729101308,8.082093278178382,7.584773077612199,8.889308319842847,7.37650812632622,8.672999642554437,9.044521887281242,7.93128476152589,8.066835314417336,7.615298339825815,6.865891074883438,7.3727463664043285,7.930206206684683,7.917171988845776,7.047517221357295,7.1808311990445555,8.145839612936841,7.5352967024440884,7.629975707027789,7.667158255319148,6.493753839851686,7.160845906664298,8.130059039992796,7.5416830998821105,7.390798521735676,7.87473912517181,7.126890808898808,7.854381210652365,7.26192709270275,9.310638093291546,6.251903883165888,7.9229859587111955,7.89020821310996,7.893572073504902,8.270269111436624,5.840641657373398,8.432724034789787,8.19450550976564,7.451241684987676,8.012349639327795,6.626717749249025,7.576097340623111,7.981049759665956,8.88723835429314,7.924795913956435,8.451053388911692,7.122059881629142,7.851661177889265,8.547334348328224,6.945051063725834,7.2991214627108,8.181440695719374,7.091742115095153,8.195057690895077,6.8679744089702925,7.059617628291383,8.032035314398824,8.231642179973411,7.257707677160043,8.165932137321585,7.567862605463882,7.121252453244542,5.910796644040527,7.660585461703256,7.368970402194793,7.171656822768514,7.188412736496954,8.611411866655219,7.027314514039776,7.766840537085512,7.254177846456518,9.058237593766224,8.452547997922705,7.89655270164304,6.373319789577012,7.721348612617949,6.413458957167356,7.216709486709457,7.093404625868766,6.55250788703459,8.613956859848544,8.157370441186774,7.015712420487229,8.983063289380366,7.3349818788718135,7.3158835045097845,6.4967749901858625,7.729295674310481,7.3158835045097845,7.179307969504034,8.041091003708631,7.226209010100671,8.19229373114764,8.022896869601457,7.617267813628346,7.135687347028144,7.612336837167745,7.347943823148687,9.089189170412032,6.904750769961838,7.467942332285851,7.598900456871409,7.090076835776092,7.994632311431825,6.52795791762255,8.45807992692373,7.348587530927593,7.8551570058813445,8.289037098278483,8.6919864817894,8.600430789986293,6.693323668269948,6.9874902470009905,7.933438387627489,7.983098940710892,7.564238475170491,6.843749949006225,8.047189562170502,7.236339342754343,7.665753431861698,7.937374696163295,7.162397497355718,5.955837369464831,7.583756300707112,7.360739903058278,8.259458195332408,7.753623546559746,7.151485463904735,7.947678571301567,8.417814747435958,7.62657020629066,7.170888478512505,8.119100837637486,8.197814032221201,9.40960098282706,9.12238309321704,8.209852481301272,6.46302945692067,8.203304026795282,7.527793987721444,7.590852123688581,7.657755271134865,8.304742269640771,8.251403065380554,8.205491613120236,7.275864600546532,7.239932591320469,7.227662498728654,9.658481754364782,7.309212365692763,7.177018765909899,7.524021415206125,7.53955882930103,8.430327258394575,8.919586920999915,7.760893195851024,8.287528423111763,9.232395362757014,8.348064228408266,8.758098072309089,7.168579897264035,7.715123603632105,6.9574973708769505,6.954638864880987,8.750683034784592,8.159660737063376,8.191463051326926,8.012349639327795,8.32845106681936,8.655737000864296,9.246382963323112,7.640603826393634,8.418697944667137,8.546946149565585,7.776954403322441,7.282073658093465,7.3388881338388785,7.731930721948486,7.2991214627108,8.537779825024625,9.196038587265322,8.783855896643942,7.206377291472252,7.959625305098115,7.9208096792886,8.203030241714858,6.883462586413092,7.875499292445207,7.9714309977693505,8.458928283284262,7.734121303328305,7.1204443723924875,7.00669522683704,6.831953565565855,7.496097345175956,7.552762084214147,7.228388451573603,7.825644732219989,7.8355792466699645,8.580167990577625,7.095893221097532,7.658699558268299,6.4457198193855785,7.814803429489359,7.037905963447182,8.935508711503221,8.032035314398824,7.317212408359839,8.054840221101024,8.724044745953469,6.673297967767653,5.5254529391317835,7.183111701743281,7.151485463904735,8.764678074116604,6.634633357861686,7.86480400332846,8.125926802707886,8.291797105048733,8.385032287813898,8.819073983267831,7.75190533307861,6.955592608396297,8.058643712215618,7.817625443053369,9.559587800086119,7.494430215031565,7.828834527588089,8.5657928612523,8.016317898503415,6.061456918928017,6.7357800142423265,8.660773919893762,7.170119543449628,7.239932591320469,8.526351129201002,7.703007682479236,7.80954132465341,7.052721049232322,7.973155433444133,8.19367666595524,7.412160334945205,7.9420068084898565,8.09437844497296,7.707062655370473,7.300472814267798,8.170751423757533,8.16337131645991,8.65032450401942,8.261784679514752,7.57095858316901,7.2520539518528135,8.774776816043985,7.57147364885127,7.892078421248119,7.920083199053234,8.750524669117937,7.10824413973154,7.9700493049761345,8.027150106832774,7.741533589281827,7.138073034044347,6.576469569048224,7.346010209913292,7.37650812632622,7.4933172488621445,8.360071435644025,6.884486652042782,8.919051803930289,6.381816017406098,6.836259277277067,9.136047767394327,6.811244378601293,6.184148890937483,8.913684824725292,7.199678345691172,7.349230824613334,9.671429383832344,7.004881989712859,8.012018239159062,6.595780513961311,8.237743803890933,7.3796321526095525,8.8071726229167,7.773173680482535,8.53405030848266,6.787844982309579,6.400257445308821,7.992268643270745,7.867871490396322,8.004365564979574,7.352441100243582,8.138272638530186,8.28828304520769,7.1308988302963465,7.21890970761906,8.304742269640771,7.294377299288821,9.294313805752362,7.29641326877392,6.796823718274855,8.114922974204593,8.182559264068665,8.66647489413199,8.417814747435958,7.706162970199575,7.779048644925556,8.111328003286733,8.910585718290132,6.481577129276431,8.946244609330543,7.203405521083095,7.232010331664758,6.774223886357614,8.186185994226083,7.187657164114955,7.57095858316901,8.18757739559151,8.816260208734581,8.963800242855577,9.135401285311689,7.687997166393016,7.002155954403621,7.946617563244472,8.797095076549056,8.965079015408353,7.8009820712577405,7.512071245835466,7.683403681053826,8.665785595466064,7.064759027791801,9.09918532261002,7.865955413933501,7.373374309910048,7.690286020676767,8.156510226079966,9.257033099968165,7.234898420314831,7.153833801578842,7.010311867307229,8.23323750070527,8.21932609390609,8.187299270155147,8.069655306886165,8.401782339904909,8.003697339094368,7.669961995473577,7.954723334497908,7.505492274737424,9.453286550586572,7.602401335665818,6.956545443151569,7.532623618788787,7.20414929203594,7.466227556215481,7.110696122978827,6.259581464064922,7.312553498102598,7.6324011266014535,8.830981510952498,8.168486417126681,7.344072850573066,6.835184586147301,7.283448228756631,7.520776415062797,9.031094081699155,7.958576903813898,8.186185994226083,7.546446273746024,7.116394144093465,8.204398418149381,7.051855622955894,8.029432840581242,7.462214939768189,7.763871287820222,8.176672771948455,6.12029741895095,7.447751280047907,8.18004072349016,8.877242435993919,8.27893600229198,7.323170717943469,8.908424139496576,7.94873845481361,7.138073034044347,6.625392368007956,7.794823152179388,7.980707820869669,7.615298339825815,7.2682230211595655,8.746716349694486,7.2513449833722134,8.791790024319363,7.463936604468925,8.179199798423085,7.358830898342354,7.5688956634069955,8.283999304248526,7.779466967458324,7.459914766241105,8.257904193465674,6.690842277418563,8.428799040653642],\"type\":\"histogram\",\"xaxis\":\"x\",\"yaxis\":\"y\"},{\"histnorm\":\"probability\",\"x\":[8.691482576512927,8.491054533806542,8.563122123304638,7.16703787691222,8.368461137615837,7.090076835776092,7.1569563646156364,9.439863530254431,8.830104317913793,8.465268118551318,7.650168700845001,8.723231274827508,7.7079615318354895,8.774776816043985,8.737131611781498,7.577633832602728,9.576510097476705,7.506591780070841,7.589841512182657,8.285513309079741,8.690137586397595,9.442483307087192,7.0112139873503665,6.682108597449808,9.67696329306244,9.387565631345389,8.773229786032472,8.969032850034301,8.878358040627822,8.362175469149628,7.515344571180435,7.562681246721884,6.461468176353717,8.160518247477505,8.837536046107566,6.642486801367256,7.809135398120538,7.1569563646156364,7.031741258763128,7.568379267836522,6.85751406254539,7.632885505395133,8.13593277200489,8.920789888464373,9.166701914946353,8.40200678160712,7.407317710469417,6.785587645007929,8.542860938164814,6.514712690872529,8.432070937999402,8.254528881939745,8.272826003650401,8.016977746762262,7.31455283232408,6.858565034791365,8.365905077202456,6.805722553416985,8.574329382787047,7.554334823725747,9.30219002560606,8.970304952991755,7.2991214627108,8.345455428161927,7.508787170634276,9.58575855873205,7.92588031673756,6.82001636467413,8.43511508038063,6.073044534100404,7.67368812926773,7.673223121121708,6.688354713946762,9.102643796520809,8.026496938945412,9.392578591964389,8.436416881388949,6.932447891572508,9.148358579620302,9.206432747145165,8.244071270295786,7.20414929203594,9.223059144383956,6.590301048196686,7.121252453244542,6.530877627725885,7.918264686095274,8.354674261918463,7.569927655242652,7.5310163320779155,8.910450756416656,9.357984213888745,8.321421586897879,8.127109185346375,7.151485463904735,7.036148493750535,6.866933284461882,8.732304571033183,7.1284959456800365,8.403800504061147,7.786136437783072,7.813591552952433,8.145259566516865,9.60123315090109,8.94715577112479,9.569342605674006,9.47093383873723,7.1098794630722715,9.06519898630651,7.620705086838262,6.84587987526405,7.737616282857904,7.231287004327615,7.855544677915663,6.949856455000773,7.924072324923416,7.0825485693553,9.335121088873489,7.303170051236799,6.413458957167356,6.579251212010101,8.536407410340042,7.519149957669823,7.321849713788356,8.480114183174816,8.127699852817772,7.414572881350589,8.03689677268507,6.107022887742254,6.484635235635252,7.1276936993473985,8.043984431221553,7.098375638590786,9.026297334283887,8.005367067316662,9.10886120302633,8.046869510959576,7.104144092987527,7.09672137849476,7.177782416195197,8.832149906002899,6.633318433280377,8.871785969150645,8.068089626278244,8.87066300440602,7.741967899820685,7.875499292445207,7.749322464660356,8.9572529442889,7.336285660021297,8.756367559802975,7.9603236291488395,7.195937226475569,6.44094654063292,8.85366542803745,7.194436851100334,7.731492029245684,8.517992871586802,8.175547596021026,7.564757012905729,7.344072850573066,9.424644974623188,7.224753405767971,8.818630229100354,8.081784206935001,7.944846711001996,6.963189985870238,7.776954403322441,7.620705086838262,7.1049654482698426,7.717351272185329,7.908019444632471,7.214504414151143,6.837332814685591,7.27447955877387,8.352790135124627,7.928766321626695,6.823286122355687,7.516433302915632,8.116715624819111,7.890582534656536,6.60934924316738,7.123672785204607,7.500529485395295,8.143807976771484,7.333676395657683,8.272570608424903,7.8636512654486515,7.2710085382809915,7.348587530927593,7.59135704669855,7.212294468500341,8.382747094863314,6.621405651764134,8.439015410352214,8.984818995876008,7.234898420314831,6.854354502255021,6.529418838262225,7.56164174558878,7.742402021815781,8.998013113095821,6.790097235513905,6.803505257608338,8.485496104672983,7.855932199718613,8.62980733578537,7.024649030453636,8.753371421000903,8.788898309344876,7.996317231796745,7.089243155027514,9.548810611260068,7.198931240688173,6.073044534100404,7.113956109566034,7.852050207265889,7.5406215286571525,8.766705997750515,7.594884387216519,9.355392643675321,8.361941906144946,7.150701457592526,6.884486652042782,7.349873704738337,7.1592919047975645,7.148345743900067,6.539585955617669,7.661527081358517,9.447860089234899,8.042056410058754,8.995412975433313,7.22402480828583,8.503905297089302,6.729824070489475,8.736328721332908,8.699348067653093,7.080867896690782,8.9242570208881,9.134754385019587,7.483806687665835,9.172638504792172,8.023552392404348,8.276903481267057,7.204892510204673,7.905810312658931,8.28576542051433,8.334711621820917,9.028338763993148,7.104144092987527,9.377294451639015,7.752764808851328,6.9874902470009905,8.552560335253528,7.572502985020384,8.819073983267831,6.5652649700353605,7.71244383427499,7.27447955877387,8.283999304248526,7.682482446534505,7.799753318287247,7.701200180857446,7.260522598089852,8.30844552038576,6.679599185844383,9.659694765654068,8.331827004436057,7.873217054862741,8.463159302923751,8.058960017769417,9.821463717057537,9.608915129379593,7.7664168980196555,8.115520881546768,7.220373836723949,8.835355971121604,6.548219102762372,9.239704980606087,7.421177528595393,7.560080465021827,6.61472560020376,8.746557354543503,8.116715624819111,7.335633981927201,8.194781638443358,7.671360923190644,8.322151070212902,9.303375237943373,8.295798110636145,7.7823903355874595,7.83241092718792,7.085064293952547,8.895355616996392,7.839525581704678,7.14282740116162,9.034438166984412,8.485702524324866,9.015541293671115,7.520776415062797],\"type\":\"histogram\",\"xaxis\":\"x2\",\"yaxis\":\"y2\"},{\"histnorm\":\"probability\",\"x\":[7.064759027791801,8.691482576512927,7.648263030901919,8.972463821059907,8.491054533806542,9.111182800442965,7.950149887652017,8.846353043314327,8.026170194946426,8.563122123304638,7.16703787691222,8.368461137615837,7.357556200910353,7.090076835776092,7.247080584585756,7.1569563646156364,7.793586803371583,8.996280439395015,9.439863530254431,8.14060704285845,7.666221925662724,7.881559917056898,7.715123603632105,7.498315870766981,7.635303886259415,7.226209010100671,6.056784013228624,6.016157159698353,7.789868559054705,8.830104317913793,7.5569505720129,8.299285906897273,8.67709870892586,7.14282740116162,7.29641326877392,8.465268118551318,8.717845704894915,7.650168700845001,7.111512116496156,6.129050210060545,7.755338812846501,7.055312843339752,8.733110697638708,8.730367211692956,8.723231274827508,7.239932591320469,7.740664401917241,7.210079628170788,8.885855993000296,7.637234388789472,7.755338812846501,8.693831965074693,7.141245122350491,8.125335086714289,7.7079615318354895,6.664409020350408,8.774776816043985,9.166074955678168,7.581719640125308,8.737131611781498,7.238496840894364,7.338238150065589,7.577633832602728,9.576510097476705,8.065265208897731,8.55468163582723,7.683403681053826,6.915723448631313,7.506591780070841,7.781138509845015,9.003808086467169,6.594413459749778,7.060476365999801,8.6919864817894,7.589841512182657,7.3310603052186325,8.285513309079741,8.470520783217806,9.152393412021333,8.251403065380554,8.690137586397595,7.101675971619444,7.358193752733032,7.470793774195061,7.7475968386928855,7.253470382684527,7.16703787691222,9.442483307087192,7.718685495198465,7.0112139873503665,6.428105272684596,7.2513449833722134,6.682108597449808,8.19367666595524,7.1846291527173145,9.67696329306244,7.607381425639791,7.872073979866873,7.757051142032013,8.861917004235215,7.293017679772782,7.751045117971802,6.838405200847344,7.560080465021827,7.802209316247118,9.387565631345389,8.773229786032472,8.712595487748722,8.951828676824181,7.2520539518528135,7.27931883541462,5.973809611869261,8.74209519574531,8.969032850034301,7.427144133408615,8.182838710766026,8.878358040627822,7.665284718471351,8.362175469149628,7.769378609513984,7.515344571180435,8.260751354700513,7.478169694159785,6.661854740545311,7.562681246721884,7.660114319173928,6.553933404025811,6.461468176353717,7.528869256642251,8.160518247477505,9.046408680293819,8.837536046107566,7.9043348420850945,7.59337419312129,9.224736252259914,7.123672785204607,9.061144065614055,6.642486801367256,7.911690520708338,7.540090320145325,6.5652649700353605,8.475537516147405,8.136518252115291,7.809135398120538,7.735870319952566,8.17948018535889,6.7580945044277305,6.52649485957079,8.588955557643128,7.367077059881012,7.205635176410364,7.562681246721884,8.674025985443025,8.95660873889395,8.849083518532339,7.1569563646156364,7.161622002939187,5.828945617610207,8.164225652265827,7.549082710812286,7.96311205897929,6.962243464266207,7.141245122350491,8.896861744480391,6.813444599510896,7.999342952713282,7.031741258763128,7.363913501405819,8.287276755814599,7.568379267836522,6.85751406254539,6.638567789166521,7.632885505395133,7.254884810077337,8.13593277200489,8.920789888464373,7.8547691834991324,5.82600010738045,7.582738488914411,6.349138991379798,9.166701914946353,8.40200678160712,7.407317710469417,8.236950048061455,6.785587645007929,7.215975002651466,8.542860938164814,7.069874128458572,6.514712690872529,8.08487062913819,8.432070937999402,8.254528881939745,8.272826003650401,7.653969180478774,8.016977746762262,7.31455283232408,7.232010331664758,6.858565034791365,7.923348211930154,8.365905077202456,6.842683282238422,7.063903961472068,8.540519016719735,6.805722553416985,7.310550158534422,9.270870871716214,7.568379267836522,7.26192709270275,8.790116892892472,7.254177846456518,8.031060180240617,8.252185436003328,8.574329382787047,7.554334823725747,8.114623886420098,6.838405200847344,8.040768994367578,8.272315147956022,8.013674142832684,7.21890970761906,6.439350371100098,7.0909098220799835,6.56244409369372,7.999342952713282,8.446341450444287,7.868636894184167,9.30219002560606,8.970304952991755,7.2991214627108,8.055157731819678,8.345455428161927,7.827240901752811,7.669495251007694,6.7650389767805414,7.3427791893318455,7.508787170634276,9.58575855873205,7.92588031673756,7.163946684342547,7.833203948641057,6.82001636467413,7.375255778009754,8.43511508038063,7.07834157955767,8.145549631783583,7.138073034044347,6.576469569048224,7.094234845924755,7.56320059235807,6.073044534100404,6.502790045915623,7.7195739892595805,7.67368812926773,8.331345424845724,7.616283561580384,8.911799556189525,7.8954360069429645,7.673223121121708,8.246171559857563,7.051855622955894,7.41336733569524,7.380255788426459,8.57602797713713,7.918992488165245,7.116394144093465,6.688354713946762,8.749098248399019,7.335633981927201,9.102643796520809,6.907755278982137,7.887208585813932,7.246368080102461,9.406729185981572,8.026496938945412,9.392578591964389,7.900266036767701,7.785305182539862,7.141245122350491,8.436416881388949,7.550661243105336,8.122371243406553,7.362010551259734,7.276556402718709,7.327123292259293,8.263332667439967,9.280146246220145,8.47407690034261,8.933664178700935,6.996681488176538,6.932447891572508,6.981934677156389,9.148358579620302,8.767173396684006,8.475746001502063,8.939843124278502,9.206432747145165,8.450198322591959,7.160845906664298,7.830425617820331,7.917900586327916,6.511745329644728,8.244071270295786,7.20414929203594,6.946013991099227,9.223059144383956,7.342131730584721,8.47886807709457,6.590301048196686,7.121252453244542,5.6240175061873385,8.590815331286851,8.614682812693495,8.229511118964457,6.530877627725885,7.3098814858247865,7.918264686095274,6.5638555265321274,8.378390788535778,6.553933404025811,8.200837258379849,8.354674261918463,7.569927655242652,7.9762519437456225,7.886081401775744,6.9363427358340495,8.131236549696116,8.665957964681349,7.330405211844402,8.406038142050075,6.974478911025045,8.797246236703527,7.5310163320779155,8.910450756416656,9.357984213888745,8.321421586897879,8.127109185346375,7.650644551436896,7.151485463904735,8.335671314792847,7.327780538421631,8.65591111072806,8.1886891244442,8.075271546297458,8.39840965542627,8.281470857895167,7.286191714702382,6.78332520060396,8.231908243564177,7.463936604468925,7.036148493750535,7.1204443723924875,6.866933284461882,8.080237416216702,8.732304571033183,6.590301048196686,7.1284959456800365,7.754481547470383,8.403800504061147,6.655440350367647,7.786136437783072,7.122866658599082,8.131530710604252,7.717796211013582,7.4770384723196965,7.813591552952433,7.341483852363161,8.25608813381491,8.202756381655636,8.145259566516865,8.007034012193406,8.03268487596762,8.711278615130434,7.671826797878781,9.529303064460995,9.60123315090109,8.94715577112479,7.749753406274436,6.741700694652054,9.569342605674006,5.8944028342648505,7.70210434005105,9.47093383873723,7.157735484249907,7.193685818395111,8.360071435644025,7.713784616598755,7.027314514039776,8.90585118120802,7.752335163302291,7.27931883541462,7.5071410797276075,6.891625897052253,8.086410275323782,7.579678823090456,7.786136437783072,9.372544251851036,7.8551570058813445,7.761744984658913,7.1098794630722715,7.324489979348532,7.295735072749282,7.543273346705446,9.06519898630651,6.688354713946762,7.9724660159745655,7.620705086838262,7.6953031349635665,6.960347729101308,8.082093278178382,6.84587987526405,7.584773077612199,8.889308319842847,7.737616282857904,7.37650812632622,7.231287004327615,8.672999642554437,7.855544677915663,9.044521887281242,7.93128476152589,6.949856455000773,8.066835314417336,7.615298339825815,6.865891074883438,7.3727463664043285,7.924072324923416,7.930206206684683,7.917171988845776,7.047517221357295,7.1808311990445555,7.0825485693553,8.145839612936841,9.335121088873489,7.5352967024440884,7.629975707027789,7.667158255319148,7.303170051236799,6.493753839851686,7.160845906664298,8.130059039992796,6.413458957167356,7.5416830998821105,7.390798521735676,7.87473912517181,6.579251212010101,8.536407410340042,7.126890808898808,7.519149957669823,7.854381210652365,7.26192709270275,7.321849713788356,9.310638093291546,6.251903883165888,7.9229859587111955,7.89020821310996,8.480114183174816,7.893572073504902,8.270269111436624,8.127699852817772,5.840641657373398,8.432724034789787,8.19450550976564,7.451241684987676,8.012349639327795,6.626717749249025,7.576097340623111,7.981049759665956,7.414572881350589,8.88723835429314,7.924795913956435,8.451053388911692,8.03689677268507,6.107022887742254,6.484635235635252,7.122059881629142,7.1276936993473985,8.043984431221553,7.851661177889265,8.547334348328224,6.945051063725834,7.2991214627108,8.181440695719374,7.091742115095153,8.195057690895077,6.8679744089702925,7.059617628291383,7.098375638590786,8.032035314398824,8.231642179973411,7.257707677160043,8.165932137321585,7.567862605463882,9.026297334283887,7.121252453244542,5.910796644040527,7.660585461703256,8.005367067316662,9.10886120302633,7.368970402194793,7.171656822768514,7.188412736496954,8.046869510959576,8.611411866655219,7.027314514039776,7.104144092987527,7.09672137849476,7.177782416195197,7.766840537085512,8.832149906002899,7.254177846456518,9.058237593766224,6.633318433280377,8.452547997922705,7.89655270164304,6.373319789577012,7.721348612617949,6.413458957167356,7.216709486709457,8.871785969150645,7.093404625868766,6.55250788703459,8.613956859848544,8.068089626278244,8.87066300440602,8.157370441186774,7.015712420487229,8.983063289380366,7.3349818788718135,7.3158835045097845,7.741967899820685,6.4967749901858625,7.729295674310481,7.875499292445207,7.3158835045097845,7.179307969504034,8.041091003708631,7.749322464660356,7.226209010100671,8.19229373114764,8.9572529442889,8.022896869601457,7.336285660021297,7.617267813628346,8.756367559802975,7.9603236291488395,7.135687347028144,7.195937226475569,7.612336837167745,7.347943823148687,6.44094654063292,9.089189170412032,6.904750769961838,7.467942332285851,8.85366542803745,7.598900456871409,7.090076835776092,7.194436851100334,7.731492029245684,8.517992871586802,8.175547596021026,7.564757012905729,7.994632311431825,7.344072850573066,6.52795791762255,9.424644974623188,8.45807992692373,7.348587530927593,7.224753405767971,7.8551570058813445,8.289037098278483,8.818630229100354,8.081784206935001,8.6919864817894,8.600430789986293,6.693323668269948,6.9874902470009905,7.933438387627489,7.983098940710892,7.564238475170491,7.944846711001996,6.843749949006225,6.963189985870238,8.047189562170502,7.236339342754343,7.776954403322441,7.665753431861698,7.620705086838262,7.937374696163295,7.162397497355718,7.1049654482698426,7.717351272185329,5.955837369464831,7.583756300707112,7.360739903058278,7.908019444632471,7.214504414151143,6.837332814685591,7.27447955877387,8.352790135124627,7.928766321626695,8.259458195332408,7.753623546559746,6.823286122355687,7.516433302915632,8.116715624819111,7.151485463904735,7.947678571301567,8.417814747435958,7.890582534656536,7.62657020629066,7.170888478512505,6.60934924316738,7.123672785204607,8.119100837637486,8.197814032221201,7.500529485395295,9.40960098282706,9.12238309321704,8.209852481301272,8.143807976771484,6.46302945692067,8.203304026795282,7.333676395657683,8.272570608424903,7.527793987721444,7.8636512654486515,7.590852123688581,7.657755271134865,7.2710085382809915,8.304742269640771,8.251403065380554,8.205491613120236,7.348587530927593,7.275864600546532,7.59135704669855,7.212294468500341,7.239932591320469,7.227662498728654,9.658481754364782,7.309212365692763,8.382747094863314,6.621405651764134,7.177018765909899,8.439015410352214,7.524021415206125,7.53955882930103,8.984818995876008,8.430327258394575,7.234898420314831,6.854354502255021,6.529418838262225,8.919586920999915,7.56164174558878,7.742402021815781,8.998013113095821,7.760893195851024,8.287528423111763,6.790097235513905,9.232395362757014,8.348064228408266,8.758098072309089,7.168579897264035,6.803505257608338,7.715123603632105,6.9574973708769505,6.954638864880987,8.750683034784592,8.159660737063376,8.191463051326926,8.485496104672983,8.012349639327795,8.32845106681936,8.655737000864296,9.246382963323112,7.640603826393634,7.855932199718613,8.418697944667137,8.546946149565585,8.62980733578537,7.776954403322441,7.282073658093465,7.3388881338388785,7.731930721948486,7.2991214627108,8.537779825024625,9.196038587265322,8.783855896643942,7.206377291472252,7.959625305098115,7.9208096792886,8.203030241714858,6.883462586413092,7.875499292445207,7.9714309977693505,8.458928283284262,7.734121303328305,7.1204443723924875,7.00669522683704,6.831953565565855,7.496097345175956,7.552762084214147,7.024649030453636,8.753371421000903,7.228388451573603,7.825644732219989,7.8355792466699645,8.580167990577625,8.788898309344876,7.996317231796745,7.095893221097532,7.658699558268299,6.4457198193855785,7.089243155027514,7.814803429489359,7.037905963447182,9.548810611260068,8.935508711503221,8.032035314398824,7.317212408359839,8.054840221101024,8.724044745953469,7.198931240688173,6.073044534100404,7.113956109566034,6.673297967767653,7.852050207265889,5.5254529391317835,7.183111701743281,7.5406215286571525,8.766705997750515,7.151485463904735,8.764678074116604,7.594884387216519,6.634633357861686,7.86480400332846,8.125926802707886,8.291797105048733,9.355392643675321,8.385032287813898,8.819073983267831,8.361941906144946,7.75190533307861,6.955592608396297,8.058643712215618,7.817625443053369,9.559587800086119,7.494430215031565,7.828834527588089,7.150701457592526,8.5657928612523,8.016317898503415,6.061456918928017,6.884486652042782,6.7357800142423265,8.660773919893762,7.349873704738337,7.1592919047975645,7.170119543449628,7.148345743900067,7.239932591320469,6.539585955617669,8.526351129201002,7.661527081358517,7.703007682479236,9.447860089234899,7.80954132465341,7.052721049232322,8.042056410058754,7.973155433444133,8.19367666595524,7.412160334945205,7.9420068084898565,8.995412975433313,8.09437844497296,7.707062655370473,7.300472814267798,7.22402480828583,8.170751423757533,8.16337131645991,8.65032450401942,8.261784679514752,8.503905297089302,7.57095858316901,7.2520539518528135,6.729824070489475,8.774776816043985,7.57147364885127,7.892078421248119,7.920083199053234,8.736328721332908,8.699348067653093,7.080867896690782,8.750524669117937,7.10824413973154,7.9700493049761345,8.027150106832774,7.741533589281827,8.9242570208881,7.138073034044347,6.576469569048224,7.346010209913292,7.37650812632622,7.4933172488621445,8.360071435644025,6.884486652042782,8.919051803930289,9.134754385019587,6.381816017406098,6.836259277277067,9.136047767394327,7.483806687665835,6.811244378601293,6.184148890937483,9.172638504792172,8.023552392404348,8.276903481267057,8.913684824725292,7.199678345691172,7.349230824613334,9.671429383832344,7.204892510204673,7.004881989712859,8.012018239159062,7.905810312658931,6.595780513961311,8.237743803890933,7.3796321526095525,8.28576542051433,8.334711621820917,9.028338763993148,8.8071726229167,7.773173680482535,7.104144092987527,9.377294451639015,8.53405030848266,7.752764808851328,6.9874902470009905,6.787844982309579,6.400257445308821,7.992268643270745,7.867871490396322,8.552560335253528,8.004365564979574,7.572502985020384,7.352441100243582,8.138272638530186,8.28828304520769,8.819073983267831,7.1308988302963465,7.21890970761906,6.5652649700353605,7.71244383427499,8.304742269640771,7.294377299288821,7.27447955877387,9.294313805752362,7.29641326877392,6.796823718274855,8.114922974204593,8.283999304248526,8.182559264068665,8.66647489413199,7.682482446534505,7.799753318287247,8.417814747435958,7.701200180857446,7.706162970199575,7.779048644925556,8.111328003286733,8.910585718290132,6.481577129276431,8.946244609330543,7.203405521083095,7.232010331664758,6.774223886357614,8.186185994226083,7.187657164114955,7.57095858316901,8.18757739559151,7.260522598089852,8.816260208734581,8.963800242855577,9.135401285311689,7.687997166393016,7.002155954403621,8.30844552038576,6.679599185844383,7.946617563244472,9.659694765654068,8.797095076549056,8.965079015408353,7.8009820712577405,7.512071245835466,7.683403681053826,8.665785595466064,7.064759027791801,9.09918532261002,7.865955413933501,7.373374309910048,7.690286020676767,8.331827004436057,7.873217054862741,8.156510226079966,9.257033099968165,7.234898420314831,7.153833801578842,7.010311867307229,8.23323750070527,8.21932609390609,8.187299270155147,8.069655306886165,8.401782339904909,8.463159302923751,8.003697339094368,7.669961995473577,8.058960017769417,9.821463717057537,7.954723334497908,9.608915129379593,7.7664168980196555,8.115520881546768,7.505492274737424,9.453286550586572,7.220373836723949,7.602401335665818,8.835355971121604,6.548219102762372,6.956545443151569,9.239704980606087,7.532623618788787,7.20414929203594,7.466227556215481,7.421177528595393,7.110696122978827,6.259581464064922,7.312553498102598,7.560080465021827,6.61472560020376,7.6324011266014535,8.746557354543503,8.830981510952498,8.168486417126681,7.344072850573066,6.835184586147301,7.283448228756631,7.520776415062797,9.031094081699155,8.116715624819111,7.958576903813898,7.335633981927201,8.194781638443358,8.186185994226083,7.671360923190644,8.322151070212902,9.303375237943373,7.546446273746024,7.116394144093465,8.204398418149381,7.051855622955894,8.295798110636145,8.029432840581242,7.462214939768189,7.763871287820222,8.176672771948455,7.7823903355874595,6.12029741895095,7.447751280047907,7.83241092718792,8.18004072349016,8.877242435993919,8.27893600229198,7.323170717943469,8.908424139496576,7.085064293952547,8.895355616996392,7.94873845481361,7.138073034044347,6.625392368007956,7.794823152179388,7.839525581704678,7.14282740116162,9.034438166984412,8.485702524324866,7.980707820869669,9.015541293671115,7.615298339825815,7.2682230211595655,8.746716349694486,7.2513449833722134,8.791790024319363,7.463936604468925,8.179199798423085,7.358830898342354,7.5688956634069955,8.283999304248526,7.779466967458324,7.459914766241105,8.257904193465674,6.690842277418563,7.520776415062797,8.428799040653642],\"type\":\"histogram\",\"xaxis\":\"x3\",\"yaxis\":\"y3\"},{\"y\":[7.064759027791801,7.648263030901919,8.972463821059907,9.111182800442965,7.950149887652017,8.846353043314327,8.026170194946426,7.357556200910353,7.247080584585756,7.793586803371583,8.996280439395015,8.14060704285845,7.666221925662724,7.881559917056898,7.715123603632105,7.498315870766981,7.635303886259415,7.226209010100671,6.056784013228624,6.016157159698353,7.789868559054705,7.5569505720129,8.299285906897273,8.67709870892586,7.14282740116162,7.29641326877392,8.717845704894915,7.111512116496156,6.129050210060545,7.755338812846501,7.055312843339752,8.733110697638708,8.730367211692956,7.239932591320469,7.740664401917241,7.210079628170788,8.885855993000296,7.637234388789472,7.755338812846501,8.693831965074693,7.141245122350491,8.125335086714289,6.664409020350408,9.166074955678168,7.581719640125308,7.238496840894364,7.338238150065589,8.065265208897731,8.55468163582723,7.683403681053826,6.915723448631313,7.781138509845015,9.003808086467169,6.594413459749778,7.060476365999801,8.6919864817894,7.3310603052186325,8.470520783217806,9.152393412021333,8.251403065380554,7.101675971619444,7.358193752733032,7.470793774195061,7.7475968386928855,7.253470382684527,7.16703787691222,7.718685495198465,6.428105272684596,7.2513449833722134,8.19367666595524,7.1846291527173145,7.607381425639791,7.872073979866873,7.757051142032013,8.861917004235215,7.293017679772782,7.751045117971802,6.838405200847344,7.560080465021827,7.802209316247118,8.712595487748722,8.951828676824181,7.2520539518528135,7.27931883541462,5.973809611869261,8.74209519574531,7.427144133408615,8.182838710766026,7.665284718471351,7.769378609513984,8.260751354700513,7.478169694159785,6.661854740545311,7.660114319173928,6.553933404025811,7.528869256642251,9.046408680293819,7.9043348420850945,7.59337419312129,9.224736252259914,7.123672785204607,9.061144065614055,7.911690520708338,7.540090320145325,6.5652649700353605,8.475537516147405,8.136518252115291,7.735870319952566,8.17948018535889,6.7580945044277305,6.52649485957079,8.588955557643128,7.367077059881012,7.205635176410364,7.562681246721884,8.674025985443025,8.95660873889395,8.849083518532339,7.161622002939187,5.828945617610207,8.164225652265827,7.549082710812286,7.96311205897929,6.962243464266207,7.141245122350491,8.896861744480391,6.813444599510896,7.999342952713282,7.363913501405819,8.287276755814599,6.638567789166521,7.254884810077337,7.8547691834991324,5.82600010738045,7.582738488914411,6.349138991379798,8.236950048061455,7.215975002651466,7.069874128458572,8.08487062913819,7.653969180478774,7.232010331664758,7.923348211930154,6.842683282238422,7.063903961472068,8.540519016719735,7.310550158534422,9.270870871716214,7.568379267836522,7.26192709270275,8.790116892892472,7.254177846456518,8.031060180240617,8.252185436003328,8.114623886420098,6.838405200847344,8.040768994367578,8.272315147956022,8.013674142832684,7.21890970761906,6.439350371100098,7.0909098220799835,6.56244409369372,7.999342952713282,8.446341450444287,7.868636894184167,8.055157731819678,7.827240901752811,7.669495251007694,6.7650389767805414,7.3427791893318455,7.163946684342547,7.833203948641057,7.375255778009754,7.07834157955767,8.145549631783583,7.138073034044347,6.576469569048224,7.094234845924755,7.56320059235807,6.502790045915623,7.7195739892595805,8.331345424845724,7.616283561580384,8.911799556189525,7.8954360069429645,8.246171559857563,7.051855622955894,7.41336733569524,7.380255788426459,8.57602797713713,7.918992488165245,7.116394144093465,8.749098248399019,7.335633981927201,6.907755278982137,7.887208585813932,7.246368080102461,9.406729185981572,7.900266036767701,7.785305182539862,7.141245122350491,7.550661243105336,8.122371243406553,7.362010551259734,7.276556402718709,7.327123292259293,8.263332667439967,9.280146246220145,8.47407690034261,8.933664178700935,6.996681488176538,6.981934677156389,8.767173396684006,8.475746001502063,8.939843124278502,8.450198322591959,7.160845906664298,7.830425617820331,7.917900586327916,6.511745329644728,6.946013991099227,7.342131730584721,8.47886807709457,5.6240175061873385,8.590815331286851,8.614682812693495,8.229511118964457,7.3098814858247865,6.5638555265321274,8.378390788535778,6.553933404025811,8.200837258379849,7.9762519437456225,7.886081401775744,6.9363427358340495,8.131236549696116,8.665957964681349,7.330405211844402,8.406038142050075,6.974478911025045,8.797246236703527,7.650644551436896,8.335671314792847,7.327780538421631,8.65591111072806,8.1886891244442,8.075271546297458,8.39840965542627,8.281470857895167,7.286191714702382,6.78332520060396,8.231908243564177,7.463936604468925,7.1204443723924875,8.080237416216702,6.590301048196686,7.754481547470383,6.655440350367647,7.122866658599082,8.131530710604252,7.717796211013582,7.4770384723196965,7.341483852363161,8.25608813381491,8.202756381655636,8.007034012193406,8.03268487596762,8.711278615130434,7.671826797878781,9.529303064460995,7.749753406274436,6.741700694652054,5.8944028342648505,7.70210434005105,7.157735484249907,7.193685818395111,8.360071435644025,7.713784616598755,7.027314514039776,8.90585118120802,7.752335163302291,7.27931883541462,7.5071410797276075,6.891625897052253,8.086410275323782,7.579678823090456,7.786136437783072,9.372544251851036,7.8551570058813445,7.761744984658913,7.324489979348532,7.295735072749282,7.543273346705446,6.688354713946762,7.9724660159745655,7.6953031349635665,6.960347729101308,8.082093278178382,7.584773077612199,8.889308319842847,7.37650812632622,8.672999642554437,9.044521887281242,7.93128476152589,8.066835314417336,7.615298339825815,6.865891074883438,7.3727463664043285,7.930206206684683,7.917171988845776,7.047517221357295,7.1808311990445555,8.145839612936841,7.5352967024440884,7.629975707027789,7.667158255319148,6.493753839851686,7.160845906664298,8.130059039992796,7.5416830998821105,7.390798521735676,7.87473912517181,7.126890808898808,7.854381210652365,7.26192709270275,9.310638093291546,6.251903883165888,7.9229859587111955,7.89020821310996,7.893572073504902,8.270269111436624,5.840641657373398,8.432724034789787,8.19450550976564,7.451241684987676,8.012349639327795,6.626717749249025,7.576097340623111,7.981049759665956,8.88723835429314,7.924795913956435,8.451053388911692,7.122059881629142,7.851661177889265,8.547334348328224,6.945051063725834,7.2991214627108,8.181440695719374,7.091742115095153,8.195057690895077,6.8679744089702925,7.059617628291383,8.032035314398824,8.231642179973411,7.257707677160043,8.165932137321585,7.567862605463882,7.121252453244542,5.910796644040527,7.660585461703256,7.368970402194793,7.171656822768514,7.188412736496954,8.611411866655219,7.027314514039776,7.766840537085512,7.254177846456518,9.058237593766224,8.452547997922705,7.89655270164304,6.373319789577012,7.721348612617949,6.413458957167356,7.216709486709457,7.093404625868766,6.55250788703459,8.613956859848544,8.157370441186774,7.015712420487229,8.983063289380366,7.3349818788718135,7.3158835045097845,6.4967749901858625,7.729295674310481,7.3158835045097845,7.179307969504034,8.041091003708631,7.226209010100671,8.19229373114764,8.022896869601457,7.617267813628346,7.135687347028144,7.612336837167745,7.347943823148687,9.089189170412032,6.904750769961838,7.467942332285851,7.598900456871409,7.090076835776092,7.994632311431825,6.52795791762255,8.45807992692373,7.348587530927593,7.8551570058813445,8.289037098278483,8.6919864817894,8.600430789986293,6.693323668269948,6.9874902470009905,7.933438387627489,7.983098940710892,7.564238475170491,6.843749949006225,8.047189562170502,7.236339342754343,7.665753431861698,7.937374696163295,7.162397497355718,5.955837369464831,7.583756300707112,7.360739903058278,8.259458195332408,7.753623546559746,7.151485463904735,7.947678571301567,8.417814747435958,7.62657020629066,7.170888478512505,8.119100837637486,8.197814032221201,9.40960098282706,9.12238309321704,8.209852481301272,6.46302945692067,8.203304026795282,7.527793987721444,7.590852123688581,7.657755271134865,8.304742269640771,8.251403065380554,8.205491613120236,7.275864600546532,7.239932591320469,7.227662498728654,9.658481754364782,7.309212365692763,7.177018765909899,7.524021415206125,7.53955882930103,8.430327258394575,8.919586920999915,7.760893195851024,8.287528423111763,9.232395362757014,8.348064228408266,8.758098072309089,7.168579897264035,7.715123603632105,6.9574973708769505,6.954638864880987,8.750683034784592,8.159660737063376,8.191463051326926,8.012349639327795,8.32845106681936,8.655737000864296,9.246382963323112,7.640603826393634,8.418697944667137,8.546946149565585,7.776954403322441,7.282073658093465,7.3388881338388785,7.731930721948486,7.2991214627108,8.537779825024625,9.196038587265322,8.783855896643942,7.206377291472252,7.959625305098115,7.9208096792886,8.203030241714858,6.883462586413092,7.875499292445207,7.9714309977693505,8.458928283284262,7.734121303328305,7.1204443723924875,7.00669522683704,6.831953565565855,7.496097345175956,7.552762084214147,7.228388451573603,7.825644732219989,7.8355792466699645,8.580167990577625,7.095893221097532,7.658699558268299,6.4457198193855785,7.814803429489359,7.037905963447182,8.935508711503221,8.032035314398824,7.317212408359839,8.054840221101024,8.724044745953469,6.673297967767653,5.5254529391317835,7.183111701743281,7.151485463904735,8.764678074116604,6.634633357861686,7.86480400332846,8.125926802707886,8.291797105048733,8.385032287813898,8.819073983267831,7.75190533307861,6.955592608396297,8.058643712215618,7.817625443053369,9.559587800086119,7.494430215031565,7.828834527588089,8.5657928612523,8.016317898503415,6.061456918928017,6.7357800142423265,8.660773919893762,7.170119543449628,7.239932591320469,8.526351129201002,7.703007682479236,7.80954132465341,7.052721049232322,7.973155433444133,8.19367666595524,7.412160334945205,7.9420068084898565,8.09437844497296,7.707062655370473,7.300472814267798,8.170751423757533,8.16337131645991,8.65032450401942,8.261784679514752,7.57095858316901,7.2520539518528135,8.774776816043985,7.57147364885127,7.892078421248119,7.920083199053234,8.750524669117937,7.10824413973154,7.9700493049761345,8.027150106832774,7.741533589281827,7.138073034044347,6.576469569048224,7.346010209913292,7.37650812632622,7.4933172488621445,8.360071435644025,6.884486652042782,8.919051803930289,6.381816017406098,6.836259277277067,9.136047767394327,6.811244378601293,6.184148890937483,8.913684824725292,7.199678345691172,7.349230824613334,9.671429383832344,7.004881989712859,8.012018239159062,6.595780513961311,8.237743803890933,7.3796321526095525,8.8071726229167,7.773173680482535,8.53405030848266,6.787844982309579,6.400257445308821,7.992268643270745,7.867871490396322,8.004365564979574,7.352441100243582,8.138272638530186,8.28828304520769,7.1308988302963465,7.21890970761906,8.304742269640771,7.294377299288821,9.294313805752362,7.29641326877392,6.796823718274855,8.114922974204593,8.182559264068665,8.66647489413199,8.417814747435958,7.706162970199575,7.779048644925556,8.111328003286733,8.910585718290132,6.481577129276431,8.946244609330543,7.203405521083095,7.232010331664758,6.774223886357614,8.186185994226083,7.187657164114955,7.57095858316901,8.18757739559151,8.816260208734581,8.963800242855577,9.135401285311689,7.687997166393016,7.002155954403621,7.946617563244472,8.797095076549056,8.965079015408353,7.8009820712577405,7.512071245835466,7.683403681053826,8.665785595466064,7.064759027791801,9.09918532261002,7.865955413933501,7.373374309910048,7.690286020676767,8.156510226079966,9.257033099968165,7.234898420314831,7.153833801578842,7.010311867307229,8.23323750070527,8.21932609390609,8.187299270155147,8.069655306886165,8.401782339904909,8.003697339094368,7.669961995473577,7.954723334497908,7.505492274737424,9.453286550586572,7.602401335665818,6.956545443151569,7.532623618788787,7.20414929203594,7.466227556215481,7.110696122978827,6.259581464064922,7.312553498102598,7.6324011266014535,8.830981510952498,8.168486417126681,7.344072850573066,6.835184586147301,7.283448228756631,7.520776415062797,9.031094081699155,7.958576903813898,8.186185994226083,7.546446273746024,7.116394144093465,8.204398418149381,7.051855622955894,8.029432840581242,7.462214939768189,7.763871287820222,8.176672771948455,6.12029741895095,7.447751280047907,8.18004072349016,8.877242435993919,8.27893600229198,7.323170717943469,8.908424139496576,7.94873845481361,7.138073034044347,6.625392368007956,7.794823152179388,7.980707820869669,7.615298339825815,7.2682230211595655,8.746716349694486,7.2513449833722134,8.791790024319363,7.463936604468925,8.179199798423085,7.358830898342354,7.5688956634069955,8.283999304248526,7.779466967458324,7.459914766241105,8.257904193465674,6.690842277418563,8.428799040653642],\"type\":\"box\",\"xaxis\":\"x4\",\"yaxis\":\"y4\"},{\"y\":[8.691482576512927,8.491054533806542,8.563122123304638,7.16703787691222,8.368461137615837,7.090076835776092,7.1569563646156364,9.439863530254431,8.830104317913793,8.465268118551318,7.650168700845001,8.723231274827508,7.7079615318354895,8.774776816043985,8.737131611781498,7.577633832602728,9.576510097476705,7.506591780070841,7.589841512182657,8.285513309079741,8.690137586397595,9.442483307087192,7.0112139873503665,6.682108597449808,9.67696329306244,9.387565631345389,8.773229786032472,8.969032850034301,8.878358040627822,8.362175469149628,7.515344571180435,7.562681246721884,6.461468176353717,8.160518247477505,8.837536046107566,6.642486801367256,7.809135398120538,7.1569563646156364,7.031741258763128,7.568379267836522,6.85751406254539,7.632885505395133,8.13593277200489,8.920789888464373,9.166701914946353,8.40200678160712,7.407317710469417,6.785587645007929,8.542860938164814,6.514712690872529,8.432070937999402,8.254528881939745,8.272826003650401,8.016977746762262,7.31455283232408,6.858565034791365,8.365905077202456,6.805722553416985,8.574329382787047,7.554334823725747,9.30219002560606,8.970304952991755,7.2991214627108,8.345455428161927,7.508787170634276,9.58575855873205,7.92588031673756,6.82001636467413,8.43511508038063,6.073044534100404,7.67368812926773,7.673223121121708,6.688354713946762,9.102643796520809,8.026496938945412,9.392578591964389,8.436416881388949,6.932447891572508,9.148358579620302,9.206432747145165,8.244071270295786,7.20414929203594,9.223059144383956,6.590301048196686,7.121252453244542,6.530877627725885,7.918264686095274,8.354674261918463,7.569927655242652,7.5310163320779155,8.910450756416656,9.357984213888745,8.321421586897879,8.127109185346375,7.151485463904735,7.036148493750535,6.866933284461882,8.732304571033183,7.1284959456800365,8.403800504061147,7.786136437783072,7.813591552952433,8.145259566516865,9.60123315090109,8.94715577112479,9.569342605674006,9.47093383873723,7.1098794630722715,9.06519898630651,7.620705086838262,6.84587987526405,7.737616282857904,7.231287004327615,7.855544677915663,6.949856455000773,7.924072324923416,7.0825485693553,9.335121088873489,7.303170051236799,6.413458957167356,6.579251212010101,8.536407410340042,7.519149957669823,7.321849713788356,8.480114183174816,8.127699852817772,7.414572881350589,8.03689677268507,6.107022887742254,6.484635235635252,7.1276936993473985,8.043984431221553,7.098375638590786,9.026297334283887,8.005367067316662,9.10886120302633,8.046869510959576,7.104144092987527,7.09672137849476,7.177782416195197,8.832149906002899,6.633318433280377,8.871785969150645,8.068089626278244,8.87066300440602,7.741967899820685,7.875499292445207,7.749322464660356,8.9572529442889,7.336285660021297,8.756367559802975,7.9603236291488395,7.195937226475569,6.44094654063292,8.85366542803745,7.194436851100334,7.731492029245684,8.517992871586802,8.175547596021026,7.564757012905729,7.344072850573066,9.424644974623188,7.224753405767971,8.818630229100354,8.081784206935001,7.944846711001996,6.963189985870238,7.776954403322441,7.620705086838262,7.1049654482698426,7.717351272185329,7.908019444632471,7.214504414151143,6.837332814685591,7.27447955877387,8.352790135124627,7.928766321626695,6.823286122355687,7.516433302915632,8.116715624819111,7.890582534656536,6.60934924316738,7.123672785204607,7.500529485395295,8.143807976771484,7.333676395657683,8.272570608424903,7.8636512654486515,7.2710085382809915,7.348587530927593,7.59135704669855,7.212294468500341,8.382747094863314,6.621405651764134,8.439015410352214,8.984818995876008,7.234898420314831,6.854354502255021,6.529418838262225,7.56164174558878,7.742402021815781,8.998013113095821,6.790097235513905,6.803505257608338,8.485496104672983,7.855932199718613,8.62980733578537,7.024649030453636,8.753371421000903,8.788898309344876,7.996317231796745,7.089243155027514,9.548810611260068,7.198931240688173,6.073044534100404,7.113956109566034,7.852050207265889,7.5406215286571525,8.766705997750515,7.594884387216519,9.355392643675321,8.361941906144946,7.150701457592526,6.884486652042782,7.349873704738337,7.1592919047975645,7.148345743900067,6.539585955617669,7.661527081358517,9.447860089234899,8.042056410058754,8.995412975433313,7.22402480828583,8.503905297089302,6.729824070489475,8.736328721332908,8.699348067653093,7.080867896690782,8.9242570208881,9.134754385019587,7.483806687665835,9.172638504792172,8.023552392404348,8.276903481267057,7.204892510204673,7.905810312658931,8.28576542051433,8.334711621820917,9.028338763993148,7.104144092987527,9.377294451639015,7.752764808851328,6.9874902470009905,8.552560335253528,7.572502985020384,8.819073983267831,6.5652649700353605,7.71244383427499,7.27447955877387,8.283999304248526,7.682482446534505,7.799753318287247,7.701200180857446,7.260522598089852,8.30844552038576,6.679599185844383,9.659694765654068,8.331827004436057,7.873217054862741,8.463159302923751,8.058960017769417,9.821463717057537,9.608915129379593,7.7664168980196555,8.115520881546768,7.220373836723949,8.835355971121604,6.548219102762372,9.239704980606087,7.421177528595393,7.560080465021827,6.61472560020376,8.746557354543503,8.116715624819111,7.335633981927201,8.194781638443358,7.671360923190644,8.322151070212902,9.303375237943373,8.295798110636145,7.7823903355874595,7.83241092718792,7.085064293952547,8.895355616996392,7.839525581704678,7.14282740116162,9.034438166984412,8.485702524324866,9.015541293671115,7.520776415062797],\"type\":\"box\",\"xaxis\":\"x5\",\"yaxis\":\"y5\"},{\"y\":[7.064759027791801,8.691482576512927,7.648263030901919,8.972463821059907,8.491054533806542,9.111182800442965,7.950149887652017,8.846353043314327,8.026170194946426,8.563122123304638,7.16703787691222,8.368461137615837,7.357556200910353,7.090076835776092,7.247080584585756,7.1569563646156364,7.793586803371583,8.996280439395015,9.439863530254431,8.14060704285845,7.666221925662724,7.881559917056898,7.715123603632105,7.498315870766981,7.635303886259415,7.226209010100671,6.056784013228624,6.016157159698353,7.789868559054705,8.830104317913793,7.5569505720129,8.299285906897273,8.67709870892586,7.14282740116162,7.29641326877392,8.465268118551318,8.717845704894915,7.650168700845001,7.111512116496156,6.129050210060545,7.755338812846501,7.055312843339752,8.733110697638708,8.730367211692956,8.723231274827508,7.239932591320469,7.740664401917241,7.210079628170788,8.885855993000296,7.637234388789472,7.755338812846501,8.693831965074693,7.141245122350491,8.125335086714289,7.7079615318354895,6.664409020350408,8.774776816043985,9.166074955678168,7.581719640125308,8.737131611781498,7.238496840894364,7.338238150065589,7.577633832602728,9.576510097476705,8.065265208897731,8.55468163582723,7.683403681053826,6.915723448631313,7.506591780070841,7.781138509845015,9.003808086467169,6.594413459749778,7.060476365999801,8.6919864817894,7.589841512182657,7.3310603052186325,8.285513309079741,8.470520783217806,9.152393412021333,8.251403065380554,8.690137586397595,7.101675971619444,7.358193752733032,7.470793774195061,7.7475968386928855,7.253470382684527,7.16703787691222,9.442483307087192,7.718685495198465,7.0112139873503665,6.428105272684596,7.2513449833722134,6.682108597449808,8.19367666595524,7.1846291527173145,9.67696329306244,7.607381425639791,7.872073979866873,7.757051142032013,8.861917004235215,7.293017679772782,7.751045117971802,6.838405200847344,7.560080465021827,7.802209316247118,9.387565631345389,8.773229786032472,8.712595487748722,8.951828676824181,7.2520539518528135,7.27931883541462,5.973809611869261,8.74209519574531,8.969032850034301,7.427144133408615,8.182838710766026,8.878358040627822,7.665284718471351,8.362175469149628,7.769378609513984,7.515344571180435,8.260751354700513,7.478169694159785,6.661854740545311,7.562681246721884,7.660114319173928,6.553933404025811,6.461468176353717,7.528869256642251,8.160518247477505,9.046408680293819,8.837536046107566,7.9043348420850945,7.59337419312129,9.224736252259914,7.123672785204607,9.061144065614055,6.642486801367256,7.911690520708338,7.540090320145325,6.5652649700353605,8.475537516147405,8.136518252115291,7.809135398120538,7.735870319952566,8.17948018535889,6.7580945044277305,6.52649485957079,8.588955557643128,7.367077059881012,7.205635176410364,7.562681246721884,8.674025985443025,8.95660873889395,8.849083518532339,7.1569563646156364,7.161622002939187,5.828945617610207,8.164225652265827,7.549082710812286,7.96311205897929,6.962243464266207,7.141245122350491,8.896861744480391,6.813444599510896,7.999342952713282,7.031741258763128,7.363913501405819,8.287276755814599,7.568379267836522,6.85751406254539,6.638567789166521,7.632885505395133,7.254884810077337,8.13593277200489,8.920789888464373,7.8547691834991324,5.82600010738045,7.582738488914411,6.349138991379798,9.166701914946353,8.40200678160712,7.407317710469417,8.236950048061455,6.785587645007929,7.215975002651466,8.542860938164814,7.069874128458572,6.514712690872529,8.08487062913819,8.432070937999402,8.254528881939745,8.272826003650401,7.653969180478774,8.016977746762262,7.31455283232408,7.232010331664758,6.858565034791365,7.923348211930154,8.365905077202456,6.842683282238422,7.063903961472068,8.540519016719735,6.805722553416985,7.310550158534422,9.270870871716214,7.568379267836522,7.26192709270275,8.790116892892472,7.254177846456518,8.031060180240617,8.252185436003328,8.574329382787047,7.554334823725747,8.114623886420098,6.838405200847344,8.040768994367578,8.272315147956022,8.013674142832684,7.21890970761906,6.439350371100098,7.0909098220799835,6.56244409369372,7.999342952713282,8.446341450444287,7.868636894184167,9.30219002560606,8.970304952991755,7.2991214627108,8.055157731819678,8.345455428161927,7.827240901752811,7.669495251007694,6.7650389767805414,7.3427791893318455,7.508787170634276,9.58575855873205,7.92588031673756,7.163946684342547,7.833203948641057,6.82001636467413,7.375255778009754,8.43511508038063,7.07834157955767,8.145549631783583,7.138073034044347,6.576469569048224,7.094234845924755,7.56320059235807,6.073044534100404,6.502790045915623,7.7195739892595805,7.67368812926773,8.331345424845724,7.616283561580384,8.911799556189525,7.8954360069429645,7.673223121121708,8.246171559857563,7.051855622955894,7.41336733569524,7.380255788426459,8.57602797713713,7.918992488165245,7.116394144093465,6.688354713946762,8.749098248399019,7.335633981927201,9.102643796520809,6.907755278982137,7.887208585813932,7.246368080102461,9.406729185981572,8.026496938945412,9.392578591964389,7.900266036767701,7.785305182539862,7.141245122350491,8.436416881388949,7.550661243105336,8.122371243406553,7.362010551259734,7.276556402718709,7.327123292259293,8.263332667439967,9.280146246220145,8.47407690034261,8.933664178700935,6.996681488176538,6.932447891572508,6.981934677156389,9.148358579620302,8.767173396684006,8.475746001502063,8.939843124278502,9.206432747145165,8.450198322591959,7.160845906664298,7.830425617820331,7.917900586327916,6.511745329644728,8.244071270295786,7.20414929203594,6.946013991099227,9.223059144383956,7.342131730584721,8.47886807709457,6.590301048196686,7.121252453244542,5.6240175061873385,8.590815331286851,8.614682812693495,8.229511118964457,6.530877627725885,7.3098814858247865,7.918264686095274,6.5638555265321274,8.378390788535778,6.553933404025811,8.200837258379849,8.354674261918463,7.569927655242652,7.9762519437456225,7.886081401775744,6.9363427358340495,8.131236549696116,8.665957964681349,7.330405211844402,8.406038142050075,6.974478911025045,8.797246236703527,7.5310163320779155,8.910450756416656,9.357984213888745,8.321421586897879,8.127109185346375,7.650644551436896,7.151485463904735,8.335671314792847,7.327780538421631,8.65591111072806,8.1886891244442,8.075271546297458,8.39840965542627,8.281470857895167,7.286191714702382,6.78332520060396,8.231908243564177,7.463936604468925,7.036148493750535,7.1204443723924875,6.866933284461882,8.080237416216702,8.732304571033183,6.590301048196686,7.1284959456800365,7.754481547470383,8.403800504061147,6.655440350367647,7.786136437783072,7.122866658599082,8.131530710604252,7.717796211013582,7.4770384723196965,7.813591552952433,7.341483852363161,8.25608813381491,8.202756381655636,8.145259566516865,8.007034012193406,8.03268487596762,8.711278615130434,7.671826797878781,9.529303064460995,9.60123315090109,8.94715577112479,7.749753406274436,6.741700694652054,9.569342605674006,5.8944028342648505,7.70210434005105,9.47093383873723,7.157735484249907,7.193685818395111,8.360071435644025,7.713784616598755,7.027314514039776,8.90585118120802,7.752335163302291,7.27931883541462,7.5071410797276075,6.891625897052253,8.086410275323782,7.579678823090456,7.786136437783072,9.372544251851036,7.8551570058813445,7.761744984658913,7.1098794630722715,7.324489979348532,7.295735072749282,7.543273346705446,9.06519898630651,6.688354713946762,7.9724660159745655,7.620705086838262,7.6953031349635665,6.960347729101308,8.082093278178382,6.84587987526405,7.584773077612199,8.889308319842847,7.737616282857904,7.37650812632622,7.231287004327615,8.672999642554437,7.855544677915663,9.044521887281242,7.93128476152589,6.949856455000773,8.066835314417336,7.615298339825815,6.865891074883438,7.3727463664043285,7.924072324923416,7.930206206684683,7.917171988845776,7.047517221357295,7.1808311990445555,7.0825485693553,8.145839612936841,9.335121088873489,7.5352967024440884,7.629975707027789,7.667158255319148,7.303170051236799,6.493753839851686,7.160845906664298,8.130059039992796,6.413458957167356,7.5416830998821105,7.390798521735676,7.87473912517181,6.579251212010101,8.536407410340042,7.126890808898808,7.519149957669823,7.854381210652365,7.26192709270275,7.321849713788356,9.310638093291546,6.251903883165888,7.9229859587111955,7.89020821310996,8.480114183174816,7.893572073504902,8.270269111436624,8.127699852817772,5.840641657373398,8.432724034789787,8.19450550976564,7.451241684987676,8.012349639327795,6.626717749249025,7.576097340623111,7.981049759665956,7.414572881350589,8.88723835429314,7.924795913956435,8.451053388911692,8.03689677268507,6.107022887742254,6.484635235635252,7.122059881629142,7.1276936993473985,8.043984431221553,7.851661177889265,8.547334348328224,6.945051063725834,7.2991214627108,8.181440695719374,7.091742115095153,8.195057690895077,6.8679744089702925,7.059617628291383,7.098375638590786,8.032035314398824,8.231642179973411,7.257707677160043,8.165932137321585,7.567862605463882,9.026297334283887,7.121252453244542,5.910796644040527,7.660585461703256,8.005367067316662,9.10886120302633,7.368970402194793,7.171656822768514,7.188412736496954,8.046869510959576,8.611411866655219,7.027314514039776,7.104144092987527,7.09672137849476,7.177782416195197,7.766840537085512,8.832149906002899,7.254177846456518,9.058237593766224,6.633318433280377,8.452547997922705,7.89655270164304,6.373319789577012,7.721348612617949,6.413458957167356,7.216709486709457,8.871785969150645,7.093404625868766,6.55250788703459,8.613956859848544,8.068089626278244,8.87066300440602,8.157370441186774,7.015712420487229,8.983063289380366,7.3349818788718135,7.3158835045097845,7.741967899820685,6.4967749901858625,7.729295674310481,7.875499292445207,7.3158835045097845,7.179307969504034,8.041091003708631,7.749322464660356,7.226209010100671,8.19229373114764,8.9572529442889,8.022896869601457,7.336285660021297,7.617267813628346,8.756367559802975,7.9603236291488395,7.135687347028144,7.195937226475569,7.612336837167745,7.347943823148687,6.44094654063292,9.089189170412032,6.904750769961838,7.467942332285851,8.85366542803745,7.598900456871409,7.090076835776092,7.194436851100334,7.731492029245684,8.517992871586802,8.175547596021026,7.564757012905729,7.994632311431825,7.344072850573066,6.52795791762255,9.424644974623188,8.45807992692373,7.348587530927593,7.224753405767971,7.8551570058813445,8.289037098278483,8.818630229100354,8.081784206935001,8.6919864817894,8.600430789986293,6.693323668269948,6.9874902470009905,7.933438387627489,7.983098940710892,7.564238475170491,7.944846711001996,6.843749949006225,6.963189985870238,8.047189562170502,7.236339342754343,7.776954403322441,7.665753431861698,7.620705086838262,7.937374696163295,7.162397497355718,7.1049654482698426,7.717351272185329,5.955837369464831,7.583756300707112,7.360739903058278,7.908019444632471,7.214504414151143,6.837332814685591,7.27447955877387,8.352790135124627,7.928766321626695,8.259458195332408,7.753623546559746,6.823286122355687,7.516433302915632,8.116715624819111,7.151485463904735,7.947678571301567,8.417814747435958,7.890582534656536,7.62657020629066,7.170888478512505,6.60934924316738,7.123672785204607,8.119100837637486,8.197814032221201,7.500529485395295,9.40960098282706,9.12238309321704,8.209852481301272,8.143807976771484,6.46302945692067,8.203304026795282,7.333676395657683,8.272570608424903,7.527793987721444,7.8636512654486515,7.590852123688581,7.657755271134865,7.2710085382809915,8.304742269640771,8.251403065380554,8.205491613120236,7.348587530927593,7.275864600546532,7.59135704669855,7.212294468500341,7.239932591320469,7.227662498728654,9.658481754364782,7.309212365692763,8.382747094863314,6.621405651764134,7.177018765909899,8.439015410352214,7.524021415206125,7.53955882930103,8.984818995876008,8.430327258394575,7.234898420314831,6.854354502255021,6.529418838262225,8.919586920999915,7.56164174558878,7.742402021815781,8.998013113095821,7.760893195851024,8.287528423111763,6.790097235513905,9.232395362757014,8.348064228408266,8.758098072309089,7.168579897264035,6.803505257608338,7.715123603632105,6.9574973708769505,6.954638864880987,8.750683034784592,8.159660737063376,8.191463051326926,8.485496104672983,8.012349639327795,8.32845106681936,8.655737000864296,9.246382963323112,7.640603826393634,7.855932199718613,8.418697944667137,8.546946149565585,8.62980733578537,7.776954403322441,7.282073658093465,7.3388881338388785,7.731930721948486,7.2991214627108,8.537779825024625,9.196038587265322,8.783855896643942,7.206377291472252,7.959625305098115,7.9208096792886,8.203030241714858,6.883462586413092,7.875499292445207,7.9714309977693505,8.458928283284262,7.734121303328305,7.1204443723924875,7.00669522683704,6.831953565565855,7.496097345175956,7.552762084214147,7.024649030453636,8.753371421000903,7.228388451573603,7.825644732219989,7.8355792466699645,8.580167990577625,8.788898309344876,7.996317231796745,7.095893221097532,7.658699558268299,6.4457198193855785,7.089243155027514,7.814803429489359,7.037905963447182,9.548810611260068,8.935508711503221,8.032035314398824,7.317212408359839,8.054840221101024,8.724044745953469,7.198931240688173,6.073044534100404,7.113956109566034,6.673297967767653,7.852050207265889,5.5254529391317835,7.183111701743281,7.5406215286571525,8.766705997750515,7.151485463904735,8.764678074116604,7.594884387216519,6.634633357861686,7.86480400332846,8.125926802707886,8.291797105048733,9.355392643675321,8.385032287813898,8.819073983267831,8.361941906144946,7.75190533307861,6.955592608396297,8.058643712215618,7.817625443053369,9.559587800086119,7.494430215031565,7.828834527588089,7.150701457592526,8.5657928612523,8.016317898503415,6.061456918928017,6.884486652042782,6.7357800142423265,8.660773919893762,7.349873704738337,7.1592919047975645,7.170119543449628,7.148345743900067,7.239932591320469,6.539585955617669,8.526351129201002,7.661527081358517,7.703007682479236,9.447860089234899,7.80954132465341,7.052721049232322,8.042056410058754,7.973155433444133,8.19367666595524,7.412160334945205,7.9420068084898565,8.995412975433313,8.09437844497296,7.707062655370473,7.300472814267798,7.22402480828583,8.170751423757533,8.16337131645991,8.65032450401942,8.261784679514752,8.503905297089302,7.57095858316901,7.2520539518528135,6.729824070489475,8.774776816043985,7.57147364885127,7.892078421248119,7.920083199053234,8.736328721332908,8.699348067653093,7.080867896690782,8.750524669117937,7.10824413973154,7.9700493049761345,8.027150106832774,7.741533589281827,8.9242570208881,7.138073034044347,6.576469569048224,7.346010209913292,7.37650812632622,7.4933172488621445,8.360071435644025,6.884486652042782,8.919051803930289,9.134754385019587,6.381816017406098,6.836259277277067,9.136047767394327,7.483806687665835,6.811244378601293,6.184148890937483,9.172638504792172,8.023552392404348,8.276903481267057,8.913684824725292,7.199678345691172,7.349230824613334,9.671429383832344,7.204892510204673,7.004881989712859,8.012018239159062,7.905810312658931,6.595780513961311,8.237743803890933,7.3796321526095525,8.28576542051433,8.334711621820917,9.028338763993148,8.8071726229167,7.773173680482535,7.104144092987527,9.377294451639015,8.53405030848266,7.752764808851328,6.9874902470009905,6.787844982309579,6.400257445308821,7.992268643270745,7.867871490396322,8.552560335253528,8.004365564979574,7.572502985020384,7.352441100243582,8.138272638530186,8.28828304520769,8.819073983267831,7.1308988302963465,7.21890970761906,6.5652649700353605,7.71244383427499,8.304742269640771,7.294377299288821,7.27447955877387,9.294313805752362,7.29641326877392,6.796823718274855,8.114922974204593,8.283999304248526,8.182559264068665,8.66647489413199,7.682482446534505,7.799753318287247,8.417814747435958,7.701200180857446,7.706162970199575,7.779048644925556,8.111328003286733,8.910585718290132,6.481577129276431,8.946244609330543,7.203405521083095,7.232010331664758,6.774223886357614,8.186185994226083,7.187657164114955,7.57095858316901,8.18757739559151,7.260522598089852,8.816260208734581,8.963800242855577,9.135401285311689,7.687997166393016,7.002155954403621,8.30844552038576,6.679599185844383,7.946617563244472,9.659694765654068,8.797095076549056,8.965079015408353,7.8009820712577405,7.512071245835466,7.683403681053826,8.665785595466064,7.064759027791801,9.09918532261002,7.865955413933501,7.373374309910048,7.690286020676767,8.331827004436057,7.873217054862741,8.156510226079966,9.257033099968165,7.234898420314831,7.153833801578842,7.010311867307229,8.23323750070527,8.21932609390609,8.187299270155147,8.069655306886165,8.401782339904909,8.463159302923751,8.003697339094368,7.669961995473577,8.058960017769417,9.821463717057537,7.954723334497908,9.608915129379593,7.7664168980196555,8.115520881546768,7.505492274737424,9.453286550586572,7.220373836723949,7.602401335665818,8.835355971121604,6.548219102762372,6.956545443151569,9.239704980606087,7.532623618788787,7.20414929203594,7.466227556215481,7.421177528595393,7.110696122978827,6.259581464064922,7.312553498102598,7.560080465021827,6.61472560020376,7.6324011266014535,8.746557354543503,8.830981510952498,8.168486417126681,7.344072850573066,6.835184586147301,7.283448228756631,7.520776415062797,9.031094081699155,8.116715624819111,7.958576903813898,7.335633981927201,8.194781638443358,8.186185994226083,7.671360923190644,8.322151070212902,9.303375237943373,7.546446273746024,7.116394144093465,8.204398418149381,7.051855622955894,8.295798110636145,8.029432840581242,7.462214939768189,7.763871287820222,8.176672771948455,7.7823903355874595,6.12029741895095,7.447751280047907,7.83241092718792,8.18004072349016,8.877242435993919,8.27893600229198,7.323170717943469,8.908424139496576,7.085064293952547,8.895355616996392,7.94873845481361,7.138073034044347,6.625392368007956,7.794823152179388,7.839525581704678,7.14282740116162,9.034438166984412,8.485702524324866,7.980707820869669,9.015541293671115,7.615298339825815,7.2682230211595655,8.746716349694486,7.2513449833722134,8.791790024319363,7.463936604468925,8.179199798423085,7.358830898342354,7.5688956634069955,8.283999304248526,7.779466967458324,7.459914766241105,8.257904193465674,6.690842277418563,7.520776415062797,8.428799040653642],\"type\":\"box\",\"xaxis\":\"x6\",\"yaxis\":\"y6\"}],                        {\"template\":{\"data\":{\"barpolar\":[{\"marker\":{\"line\":{\"color\":\"white\",\"width\":0.5},\"pattern\":{\"fillmode\":\"overlay\",\"size\":10,\"solidity\":0.2}},\"type\":\"barpolar\"}],\"bar\":[{\"error_x\":{\"color\":\"rgb(36,36,36)\"},\"error_y\":{\"color\":\"rgb(36,36,36)\"},\"marker\":{\"line\":{\"color\":\"white\",\"width\":0.5},\"pattern\":{\"fillmode\":\"overlay\",\"size\":10,\"solidity\":0.2}},\"type\":\"bar\"}],\"carpet\":[{\"aaxis\":{\"endlinecolor\":\"rgb(36,36,36)\",\"gridcolor\":\"white\",\"linecolor\":\"white\",\"minorgridcolor\":\"white\",\"startlinecolor\":\"rgb(36,36,36)\"},\"baxis\":{\"endlinecolor\":\"rgb(36,36,36)\",\"gridcolor\":\"white\",\"linecolor\":\"white\",\"minorgridcolor\":\"white\",\"startlinecolor\":\"rgb(36,36,36)\"},\"type\":\"carpet\"}],\"choropleth\":[{\"colorbar\":{\"outlinewidth\":1,\"tickcolor\":\"rgb(36,36,36)\",\"ticks\":\"outside\"},\"type\":\"choropleth\"}],\"contourcarpet\":[{\"colorbar\":{\"outlinewidth\":1,\"tickcolor\":\"rgb(36,36,36)\",\"ticks\":\"outside\"},\"type\":\"contourcarpet\"}],\"contour\":[{\"colorbar\":{\"outlinewidth\":1,\"tickcolor\":\"rgb(36,36,36)\",\"ticks\":\"outside\"},\"colorscale\":[[0.0,\"#440154\"],[0.1111111111111111,\"#482878\"],[0.2222222222222222,\"#3e4989\"],[0.3333333333333333,\"#31688e\"],[0.4444444444444444,\"#26828e\"],[0.5555555555555556,\"#1f9e89\"],[0.6666666666666666,\"#35b779\"],[0.7777777777777778,\"#6ece58\"],[0.8888888888888888,\"#b5de2b\"],[1.0,\"#fde725\"]],\"type\":\"contour\"}],\"heatmapgl\":[{\"colorbar\":{\"outlinewidth\":1,\"tickcolor\":\"rgb(36,36,36)\",\"ticks\":\"outside\"},\"colorscale\":[[0.0,\"#440154\"],[0.1111111111111111,\"#482878\"],[0.2222222222222222,\"#3e4989\"],[0.3333333333333333,\"#31688e\"],[0.4444444444444444,\"#26828e\"],[0.5555555555555556,\"#1f9e89\"],[0.6666666666666666,\"#35b779\"],[0.7777777777777778,\"#6ece58\"],[0.8888888888888888,\"#b5de2b\"],[1.0,\"#fde725\"]],\"type\":\"heatmapgl\"}],\"heatmap\":[{\"colorbar\":{\"outlinewidth\":1,\"tickcolor\":\"rgb(36,36,36)\",\"ticks\":\"outside\"},\"colorscale\":[[0.0,\"#440154\"],[0.1111111111111111,\"#482878\"],[0.2222222222222222,\"#3e4989\"],[0.3333333333333333,\"#31688e\"],[0.4444444444444444,\"#26828e\"],[0.5555555555555556,\"#1f9e89\"],[0.6666666666666666,\"#35b779\"],[0.7777777777777778,\"#6ece58\"],[0.8888888888888888,\"#b5de2b\"],[1.0,\"#fde725\"]],\"type\":\"heatmap\"}],\"histogram2dcontour\":[{\"colorbar\":{\"outlinewidth\":1,\"tickcolor\":\"rgb(36,36,36)\",\"ticks\":\"outside\"},\"colorscale\":[[0.0,\"#440154\"],[0.1111111111111111,\"#482878\"],[0.2222222222222222,\"#3e4989\"],[0.3333333333333333,\"#31688e\"],[0.4444444444444444,\"#26828e\"],[0.5555555555555556,\"#1f9e89\"],[0.6666666666666666,\"#35b779\"],[0.7777777777777778,\"#6ece58\"],[0.8888888888888888,\"#b5de2b\"],[1.0,\"#fde725\"]],\"type\":\"histogram2dcontour\"}],\"histogram2d\":[{\"colorbar\":{\"outlinewidth\":1,\"tickcolor\":\"rgb(36,36,36)\",\"ticks\":\"outside\"},\"colorscale\":[[0.0,\"#440154\"],[0.1111111111111111,\"#482878\"],[0.2222222222222222,\"#3e4989\"],[0.3333333333333333,\"#31688e\"],[0.4444444444444444,\"#26828e\"],[0.5555555555555556,\"#1f9e89\"],[0.6666666666666666,\"#35b779\"],[0.7777777777777778,\"#6ece58\"],[0.8888888888888888,\"#b5de2b\"],[1.0,\"#fde725\"]],\"type\":\"histogram2d\"}],\"histogram\":[{\"marker\":{\"line\":{\"color\":\"white\",\"width\":0.6}},\"type\":\"histogram\"}],\"mesh3d\":[{\"colorbar\":{\"outlinewidth\":1,\"tickcolor\":\"rgb(36,36,36)\",\"ticks\":\"outside\"},\"type\":\"mesh3d\"}],\"parcoords\":[{\"line\":{\"colorbar\":{\"outlinewidth\":1,\"tickcolor\":\"rgb(36,36,36)\",\"ticks\":\"outside\"}},\"type\":\"parcoords\"}],\"pie\":[{\"automargin\":true,\"type\":\"pie\"}],\"scatter3d\":[{\"line\":{\"colorbar\":{\"outlinewidth\":1,\"tickcolor\":\"rgb(36,36,36)\",\"ticks\":\"outside\"}},\"marker\":{\"colorbar\":{\"outlinewidth\":1,\"tickcolor\":\"rgb(36,36,36)\",\"ticks\":\"outside\"}},\"type\":\"scatter3d\"}],\"scattercarpet\":[{\"marker\":{\"colorbar\":{\"outlinewidth\":1,\"tickcolor\":\"rgb(36,36,36)\",\"ticks\":\"outside\"}},\"type\":\"scattercarpet\"}],\"scattergeo\":[{\"marker\":{\"colorbar\":{\"outlinewidth\":1,\"tickcolor\":\"rgb(36,36,36)\",\"ticks\":\"outside\"}},\"type\":\"scattergeo\"}],\"scattergl\":[{\"marker\":{\"colorbar\":{\"outlinewidth\":1,\"tickcolor\":\"rgb(36,36,36)\",\"ticks\":\"outside\"}},\"type\":\"scattergl\"}],\"scattermapbox\":[{\"marker\":{\"colorbar\":{\"outlinewidth\":1,\"tickcolor\":\"rgb(36,36,36)\",\"ticks\":\"outside\"}},\"type\":\"scattermapbox\"}],\"scatterpolargl\":[{\"marker\":{\"colorbar\":{\"outlinewidth\":1,\"tickcolor\":\"rgb(36,36,36)\",\"ticks\":\"outside\"}},\"type\":\"scatterpolargl\"}],\"scatterpolar\":[{\"marker\":{\"colorbar\":{\"outlinewidth\":1,\"tickcolor\":\"rgb(36,36,36)\",\"ticks\":\"outside\"}},\"type\":\"scatterpolar\"}],\"scatter\":[{\"fillpattern\":{\"fillmode\":\"overlay\",\"size\":10,\"solidity\":0.2},\"type\":\"scatter\"}],\"scatterternary\":[{\"marker\":{\"colorbar\":{\"outlinewidth\":1,\"tickcolor\":\"rgb(36,36,36)\",\"ticks\":\"outside\"}},\"type\":\"scatterternary\"}],\"surface\":[{\"colorbar\":{\"outlinewidth\":1,\"tickcolor\":\"rgb(36,36,36)\",\"ticks\":\"outside\"},\"colorscale\":[[0.0,\"#440154\"],[0.1111111111111111,\"#482878\"],[0.2222222222222222,\"#3e4989\"],[0.3333333333333333,\"#31688e\"],[0.4444444444444444,\"#26828e\"],[0.5555555555555556,\"#1f9e89\"],[0.6666666666666666,\"#35b779\"],[0.7777777777777778,\"#6ece58\"],[0.8888888888888888,\"#b5de2b\"],[1.0,\"#fde725\"]],\"type\":\"surface\"}],\"table\":[{\"cells\":{\"fill\":{\"color\":\"rgb(237,237,237)\"},\"line\":{\"color\":\"white\"}},\"header\":{\"fill\":{\"color\":\"rgb(217,217,217)\"},\"line\":{\"color\":\"white\"}},\"type\":\"table\"}]},\"layout\":{\"annotationdefaults\":{\"arrowhead\":0,\"arrowwidth\":1},\"autotypenumbers\":\"strict\",\"coloraxis\":{\"colorbar\":{\"outlinewidth\":1,\"tickcolor\":\"rgb(36,36,36)\",\"ticks\":\"outside\"}},\"colorscale\":{\"diverging\":[[0.0,\"rgb(103,0,31)\"],[0.1,\"rgb(178,24,43)\"],[0.2,\"rgb(214,96,77)\"],[0.3,\"rgb(244,165,130)\"],[0.4,\"rgb(253,219,199)\"],[0.5,\"rgb(247,247,247)\"],[0.6,\"rgb(209,229,240)\"],[0.7,\"rgb(146,197,222)\"],[0.8,\"rgb(67,147,195)\"],[0.9,\"rgb(33,102,172)\"],[1.0,\"rgb(5,48,97)\"]],\"sequential\":[[0.0,\"#440154\"],[0.1111111111111111,\"#482878\"],[0.2222222222222222,\"#3e4989\"],[0.3333333333333333,\"#31688e\"],[0.4444444444444444,\"#26828e\"],[0.5555555555555556,\"#1f9e89\"],[0.6666666666666666,\"#35b779\"],[0.7777777777777778,\"#6ece58\"],[0.8888888888888888,\"#b5de2b\"],[1.0,\"#fde725\"]],\"sequentialminus\":[[0.0,\"#440154\"],[0.1111111111111111,\"#482878\"],[0.2222222222222222,\"#3e4989\"],[0.3333333333333333,\"#31688e\"],[0.4444444444444444,\"#26828e\"],[0.5555555555555556,\"#1f9e89\"],[0.6666666666666666,\"#35b779\"],[0.7777777777777778,\"#6ece58\"],[0.8888888888888888,\"#b5de2b\"],[1.0,\"#fde725\"]]},\"colorway\":[\"#1F77B4\",\"#FF7F0E\",\"#2CA02C\",\"#D62728\",\"#9467BD\",\"#8C564B\",\"#E377C2\",\"#7F7F7F\",\"#BCBD22\",\"#17BECF\"],\"font\":{\"color\":\"rgb(36,36,36)\"},\"geo\":{\"bgcolor\":\"white\",\"lakecolor\":\"white\",\"landcolor\":\"white\",\"showlakes\":true,\"showland\":true,\"subunitcolor\":\"white\"},\"hoverlabel\":{\"align\":\"left\"},\"hovermode\":\"closest\",\"mapbox\":{\"style\":\"light\"},\"paper_bgcolor\":\"white\",\"plot_bgcolor\":\"white\",\"polar\":{\"angularaxis\":{\"gridcolor\":\"rgb(232,232,232)\",\"linecolor\":\"rgb(36,36,36)\",\"showgrid\":false,\"showline\":true,\"ticks\":\"outside\"},\"bgcolor\":\"white\",\"radialaxis\":{\"gridcolor\":\"rgb(232,232,232)\",\"linecolor\":\"rgb(36,36,36)\",\"showgrid\":false,\"showline\":true,\"ticks\":\"outside\"}},\"scene\":{\"xaxis\":{\"backgroundcolor\":\"white\",\"gridcolor\":\"rgb(232,232,232)\",\"gridwidth\":2,\"linecolor\":\"rgb(36,36,36)\",\"showbackground\":true,\"showgrid\":false,\"showline\":true,\"ticks\":\"outside\",\"zeroline\":false,\"zerolinecolor\":\"rgb(36,36,36)\"},\"yaxis\":{\"backgroundcolor\":\"white\",\"gridcolor\":\"rgb(232,232,232)\",\"gridwidth\":2,\"linecolor\":\"rgb(36,36,36)\",\"showbackground\":true,\"showgrid\":false,\"showline\":true,\"ticks\":\"outside\",\"zeroline\":false,\"zerolinecolor\":\"rgb(36,36,36)\"},\"zaxis\":{\"backgroundcolor\":\"white\",\"gridcolor\":\"rgb(232,232,232)\",\"gridwidth\":2,\"linecolor\":\"rgb(36,36,36)\",\"showbackground\":true,\"showgrid\":false,\"showline\":true,\"ticks\":\"outside\",\"zeroline\":false,\"zerolinecolor\":\"rgb(36,36,36)\"}},\"shapedefaults\":{\"fillcolor\":\"black\",\"line\":{\"width\":0},\"opacity\":0.3},\"ternary\":{\"aaxis\":{\"gridcolor\":\"rgb(232,232,232)\",\"linecolor\":\"rgb(36,36,36)\",\"showgrid\":false,\"showline\":true,\"ticks\":\"outside\"},\"baxis\":{\"gridcolor\":\"rgb(232,232,232)\",\"linecolor\":\"rgb(36,36,36)\",\"showgrid\":false,\"showline\":true,\"ticks\":\"outside\"},\"bgcolor\":\"white\",\"caxis\":{\"gridcolor\":\"rgb(232,232,232)\",\"linecolor\":\"rgb(36,36,36)\",\"showgrid\":false,\"showline\":true,\"ticks\":\"outside\"}},\"title\":{\"x\":0.05},\"xaxis\":{\"automargin\":true,\"gridcolor\":\"rgb(232,232,232)\",\"linecolor\":\"rgb(36,36,36)\",\"showgrid\":false,\"showline\":true,\"ticks\":\"outside\",\"title\":{\"standoff\":15},\"zeroline\":false,\"zerolinecolor\":\"rgb(36,36,36)\"},\"yaxis\":{\"automargin\":true,\"gridcolor\":\"rgb(232,232,232)\",\"linecolor\":\"rgb(36,36,36)\",\"showgrid\":false,\"showline\":true,\"ticks\":\"outside\",\"title\":{\"standoff\":15},\"zeroline\":false,\"zerolinecolor\":\"rgb(36,36,36)\"}}},\"xaxis\":{\"anchor\":\"y\",\"domain\":[0.0,0.2888888888888889],\"matches\":\"x4\",\"showticklabels\":false},\"yaxis\":{\"anchor\":\"x\",\"domain\":[0.55,1.0]},\"xaxis2\":{\"anchor\":\"y2\",\"domain\":[0.35555555555555557,0.6444444444444445],\"matches\":\"x5\",\"showticklabels\":false},\"yaxis2\":{\"anchor\":\"x2\",\"domain\":[0.55,1.0]},\"xaxis3\":{\"anchor\":\"y3\",\"domain\":[0.7111111111111111,1.0],\"matches\":\"x6\",\"showticklabels\":false},\"yaxis3\":{\"anchor\":\"x3\",\"domain\":[0.55,1.0]},\"xaxis4\":{\"anchor\":\"y4\",\"domain\":[0.0,0.2888888888888889],\"showticklabels\":false},\"yaxis4\":{\"anchor\":\"x4\",\"domain\":[0.0,0.45]},\"xaxis5\":{\"anchor\":\"y5\",\"domain\":[0.35555555555555557,0.6444444444444445],\"showticklabels\":false},\"yaxis5\":{\"anchor\":\"x5\",\"domain\":[0.0,0.45]},\"xaxis6\":{\"anchor\":\"y6\",\"domain\":[0.7111111111111111,1.0],\"showticklabels\":false},\"yaxis6\":{\"anchor\":\"x6\",\"domain\":[0.0,0.45]},\"annotations\":[{\"font\":{\"size\":16},\"showarrow\":false,\"text\":\"Good\",\"x\":0.14444444444444446,\"xanchor\":\"center\",\"xref\":\"paper\",\"y\":1.0,\"yanchor\":\"bottom\",\"yref\":\"paper\"},{\"font\":{\"size\":16},\"showarrow\":false,\"text\":\"Bad\",\"x\":0.5,\"xanchor\":\"center\",\"xref\":\"paper\",\"y\":1.0,\"yanchor\":\"bottom\",\"yref\":\"paper\"},{\"font\":{\"size\":16},\"showarrow\":false,\"text\":\"General Distribuition\",\"x\":0.8555555555555556,\"xanchor\":\"center\",\"xref\":\"paper\",\"y\":1.0,\"yanchor\":\"bottom\",\"yref\":\"paper\"}],\"title\":{\"font\":{\"size\":18},\"text\":\"Amount Distribuition\",\"x\":0.5},\"barmode\":\"group\",\"showlegend\":false,\"width\":1000},                        {\"responsive\": true}                    ).then(function(){\n",
       "                            \n",
       "var gd = document.getElementById('c0ea98cb-49f7-4c36-8864-cacc7768f257');\n",
       "var x = new MutationObserver(function (mutations, observer) {{\n",
       "        var display = window.getComputedStyle(gd).display;\n",
       "        if (!display || display === 'none') {{\n",
       "            console.log([gd, 'removed!']);\n",
       "            Plotly.purge(gd);\n",
       "            observer.disconnect();\n",
       "        }}\n",
       "}});\n",
       "\n",
       "// Listen for the removal of the full notebook cells\n",
       "var notebookContainer = gd.closest('#notebook-container');\n",
       "if (notebookContainer) {{\n",
       "    x.observe(notebookContainer, {childList: true});\n",
       "}}\n",
       "\n",
       "// Listen for the clearing of the current output cell\n",
       "var outputEl = gd.closest('.output');\n",
       "if (outputEl) {{\n",
       "    x.observe(outputEl, {childList: true});\n",
       "}}\n",
       "\n",
       "                        })                };                            </script>        </div>\n",
       "</body>\n",
       "</html>"
      ]
     },
     "metadata": {},
     "output_type": "display_data"
    },
    {
     "data": {
      "text/html": [
       "<html>\n",
       "<head><meta charset=\"utf-8\" /></head>\n",
       "<body>\n",
       "    <div>            <script src=\"https://cdnjs.cloudflare.com/ajax/libs/mathjax/2.7.5/MathJax.js?config=TeX-AMS-MML_SVG\"></script><script type=\"text/javascript\">if (window.MathJax && window.MathJax.Hub && window.MathJax.Hub.Config) {window.MathJax.Hub.Config({SVG: {font: \"STIX-Web\"}});}</script>                <script type=\"text/javascript\">window.PlotlyConfig = {MathJaxConfig: 'local'};</script>\n",
       "        <script src=\"https://cdn.plot.ly/plotly-2.18.2.min.js\"></script>                <div id=\"d0505732-6826-4ecc-837e-d106f8bbb146\" class=\"plotly-graph-div\" style=\"height:525px; width:1000px;\"></div>            <script type=\"text/javascript\">                                    window.PLOTLYENV=window.PLOTLYENV || {};                                    if (document.getElementById(\"d0505732-6826-4ecc-837e-d106f8bbb146\")) {                    Plotly.newPlot(                        \"d0505732-6826-4ecc-837e-d106f8bbb146\",                        [{\"histnorm\":\"probability\",\"x\":[4.219507705176107,3.912023005428146,3.828641396489095,3.58351893845611,3.988984046564274,3.58351893845611,4.127134385045092,3.1354942159291497,3.3672958299864737,3.988984046564274,3.2580965380214817,3.4657359027997265,3.8918202981106265,3.8066624897703196,3.8918202981106265,3.8066624897703196,3.295836866004329,3.6109179126442243,3.6888794541139363,3.7612001156935624,3.5553480614894135,3.6109179126442243,3.332204510175204,3.4339872044851463,4.060443010546419,3.526360524616161,3.4657359027997265,3.6375861597263857,3.2188758248682006,3.4339872044851463,3.295836866004329,3.8066624897703196,3.2188758248682006,3.58351893845611,3.6888794541139363,3.1780538303479453,3.6888794541139363,3.3672958299864737,3.4011973816621555,3.4339872044851463,3.2580965380214817,3.4657359027997265,3.295836866004329,3.4657359027997265,3.1780538303479453,3.332204510175204,3.9318256327243257,3.295836866004329,3.8918202981106265,3.4011973816621555,3.1354942159291497,3.2580965380214817,3.4339872044851463,3.8501476017100584,3.951243718581427,3.737669618283368,4.204692619390966,3.951243718581427,3.6888794541139363,3.1354942159291497,3.8712010109078907,3.2188758248682006,4.07753744390572,3.9702919135521215,3.4011973816621555,3.332204510175204,3.4339872044851463,4.04305126783455,4.007333185232471,3.044522437723423,4.007333185232471,4.127134385045092,3.5553480614894135,3.6109179126442243,3.6109179126442243,3.737669618283368,3.2188758248682006,3.2188758248682006,3.58351893845611,3.295836866004329,3.4965075614664802,3.4339872044851463,3.58351893845611,3.4657359027997265,3.1780538303479453,3.3672958299864737,3.58351893845611,3.8712010109078907,3.332204510175204,3.6109179126442243,3.737669618283368,3.2188758248682006,4.1588830833596715,3.4339872044851463,3.7135720667043075,3.5553480614894135,3.2188758248682006,3.332204510175204,3.8712010109078907,3.0910424533583156,3.6635616461296463,3.332204510175204,3.58351893845611,3.8066624897703196,3.332204510175204,3.4339872044851463,3.332204510175204,3.1780538303479453,3.4339872044851463,3.6888794541139363,3.951243718581427,3.3672958299864737,3.8501476017100584,3.7612001156935624,3.6635616461296463,3.2188758248682006,3.4011973816621555,3.6109179126442243,3.8918202981106265,3.828641396489095,3.6635616461296463,3.5553480614894135,3.6109179126442243,3.4339872044851463,3.6109179126442243,4.2626798770413155,3.6109179126442243,3.4965075614664802,3.044522437723423,3.2580965380214817,3.295836866004329,3.526360524616161,3.7612001156935624,3.9702919135521215,3.4657359027997265,4.189654742026425,3.9318256327243257,3.4657359027997265,4.23410650459726,3.526360524616161,3.4011973816621555,3.3672958299864737,3.6109179126442243,3.9702919135521215,3.332204510175204,3.295836866004329,3.6635616461296463,3.6635616461296463,3.784189633918261,3.295836866004329,3.0910424533583156,4.025351690735149,3.526360524616161,3.828641396489095,3.951243718581427,3.6888794541139363,3.4657359027997265,3.1780538303479453,3.2188758248682006,4.174387269895637,3.295836866004329,3.1780538303479453,3.4339872044851463,3.4965075614664802,3.4339872044851463,3.332204510175204,3.1354942159291497,3.951243718581427,3.58351893845611,3.2580965380214817,3.7612001156935624,3.58351893845611,3.6888794541139363,3.951243718581427,3.332204510175204,3.58351893845611,3.2580965380214817,3.9702919135521215,3.58351893845611,3.295836866004329,3.6888794541139363,3.8501476017100584,3.58351893845611,3.2188758248682006,3.332204510175204,3.58351893845611,3.1780538303479453,4.060443010546419,3.332204510175204,4.025351690735149,3.6109179126442243,4.060443010546419,3.4965075614664802,3.6109179126442243,3.6635616461296463,3.2580965380214817,3.4965075614664802,3.6375861597263857,3.6109179126442243,3.4965075614664802,3.295836866004329,3.912023005428146,3.4011973816621555,3.1780538303479453,3.9318256327243257,3.912023005428146,4.1588830833596715,3.6375861597263857,3.58351893845611,3.295836866004329,3.4657359027997265,3.912023005428146,3.295836866004329,3.8066624897703196,4.04305126783455,3.8501476017100584,3.044522437723423,3.828641396489095,3.784189633918261,3.4965075614664802,4.007333185232471,3.912023005428146,3.526360524616161,3.2188758248682006,3.1354942159291497,3.7135720667043075,3.2580965380214817,3.295836866004329,3.4011973816621555,3.6635616461296463,3.8918202981106265,3.4965075614664802,3.332204510175204,3.5553480614894135,3.3672958299864737,3.6109179126442243,3.6888794541139363,3.912023005428146,3.5553480614894135,3.4657359027997265,3.3672958299864737,4.330733340286331,3.1780538303479453,3.3672958299864737,3.4657359027997265,3.2188758248682006,3.295836866004329,3.2580965380214817,3.526360524616161,3.6375861597263857,3.784189633918261,3.1780538303479453,3.1780538303479453,3.5553480614894135,3.1780538303479453,3.6635616461296463,3.8501476017100584,3.912023005428146,3.3672958299864737,4.127134385045092,3.6375861597263857,3.6109179126442243,3.0910424533583156,3.6109179126442243,3.332204510175204,3.1354942159291497,3.7135720667043075,3.6109179126442243,3.526360524616161,3.1780538303479453,4.1588830833596715,3.5553480614894135,3.6109179126442243,3.9702919135521215,3.6888794541139363,3.2580965380214817,3.295836866004329,3.295836866004329,3.2580965380214817,3.0910424533583156,3.7135720667043075,3.332204510175204,3.332204510175204,3.4339872044851463,2.995732273553991,3.6888794541139363,3.4657359027997265,3.4657359027997265,3.4965075614664802,4.025351690735149,3.8501476017100584,3.784189633918261,3.6888794541139363,3.3672958299864737,3.332204510175204,3.784189633918261,3.784189633918261,3.332204510175204,3.295836866004329,3.044522437723423,3.58351893845611,3.7135720667043075,3.58351893845611,3.1780538303479453,3.4657359027997265,3.044522437723423,3.4339872044851463,3.8712010109078907,3.5553480614894135,3.0910424533583156,3.4011973816621555,3.8501476017100584,3.044522437723423,4.31748811353631,3.6109179126442243,3.526360524616161,3.2580965380214817,3.1780538303479453,3.6375861597263857,4.189654742026425,3.6888794541139363,3.4339872044851463,3.4011973816621555,3.737669618283368,3.58351893845611,4.025351690735149,3.4339872044851463,3.4011973816621555,3.5553480614894135,3.58351893845611,3.4011973816621555,3.6109179126442243,3.332204510175204,3.4965075614664802,3.6375861597263857,3.6109179126442243,3.5553480614894135,3.6635616461296463,3.5553480614894135,4.1588830833596715,3.4965075614664802,3.295836866004329,3.58351893845611,3.6109179126442243,3.2188758248682006,3.2580965380214817,3.6888794541139363,3.8066624897703196,3.1780538303479453,3.295836866004329,4.060443010546419,3.4339872044851463,3.8066624897703196,3.9702919135521215,4.143134726391533,3.58351893845611,3.295836866004329,3.295836866004329,3.332204510175204,3.6635616461296463,3.6888794541139363,3.7135720667043075,3.4965075614664802,3.3672958299864737,3.7612001156935624,3.912023005428146,3.6109179126442243,3.3672958299864737,3.828641396489095,3.4965075614664802,3.295836866004329,3.044522437723423,4.007333185232471,3.6375861597263857,3.7135720667043075,3.784189633918261,3.6109179126442243,3.8066624897703196,3.1780538303479453,3.295836866004329,3.4339872044851463,3.4657359027997265,3.7612001156935624,3.737669618283368,3.4965075614664802,3.737669618283368,3.295836866004329,3.2580965380214817,4.330733340286331,3.6375861597263857,3.828641396489095,4.110873864173311,4.127134385045092,3.6375861597263857,3.4965075614664802,3.58351893845611,3.1780538303479453,3.828641396489095,3.332204510175204,4.219507705176107,3.912023005428146,3.4011973816621555,3.6375861597263857,3.1780538303479453,3.5553480614894135,3.737669618283368,3.6635616461296463,3.295836866004329,3.1354942159291497,3.332204510175204,3.2188758248682006,3.332204510175204,3.526360524616161,3.332204510175204,3.912023005428146,3.295836866004329,3.9702919135521215,3.6109179126442243,3.0910424533583156,4.07753744390572,3.7612001156935624,3.6109179126442243,3.4965075614664802,3.828641396489095,3.1780538303479453,3.1354942159291497,4.31748811353631,3.526360524616161,3.828641396489095,3.4011973816621555,3.1354942159291497,3.8918202981106265,3.332204510175204,3.6375861597263857,3.912023005428146,3.332204510175204,3.1354942159291497,3.58351893845611,3.737669618283368,3.6109179126442243,4.174387269895637,3.3672958299864737,3.1780538303479453,3.8712010109078907,3.3672958299864737,3.0910424533583156,3.5553480614894135,3.6635616461296463,3.526360524616161,3.4965075614664802,3.4965075614664802,3.9318256327243257,3.58351893845611,3.1354942159291497,3.6375861597263857,3.3672958299864737,3.737669618283368,3.1780538303479453,3.9318256327243257,3.58351893845611,3.9318256327243257,3.332204510175204,3.5553480614894135,3.332204510175204,3.8712010109078907,3.332204510175204,3.4657359027997265,3.7612001156935624,3.2188758248682006,3.295836866004329,3.526360524616161,4.174387269895637,3.295836866004329,4.04305126783455,3.6375861597263857,3.526360524616161,3.8712010109078907,3.4657359027997265,3.5553480614894135,3.332204510175204,3.4339872044851463,3.58351893845611,3.4657359027997265,3.2580965380214817,3.2580965380214817,3.4011973816621555,3.8066624897703196,3.3672958299864737,3.9318256327243257,3.4011973816621555,3.6635616461296463,3.2188758248682006,3.7135720667043075,3.8712010109078907,3.737669618283368,3.4965075614664802,3.58351893845611,3.2580965380214817,3.6375861597263857,3.4965075614664802,3.8501476017100584,3.2580965380214817,4.1588830833596715,3.7135720667043075,3.4965075614664802,3.4657359027997265,3.4657359027997265,4.204692619390966,3.737669618283368,3.8712010109078907,3.6109179126442243,3.526360524616161,3.8066624897703196,3.3672958299864737,3.6375861597263857,3.4011973816621555,3.58351893845611,3.828641396489095,3.4965075614664802,3.1780538303479453,3.737669618283368,3.1354942159291497,3.4339872044851463,3.3672958299864737,3.1780538303479453,3.295836866004329,3.526360524616161,3.912023005428146,3.1780538303479453,3.2580965380214817,4.31748811353631,3.4657359027997265,4.0943445622221,3.2188758248682006,3.332204510175204,3.7135720667043075,3.4657359027997265,3.3672958299864737,4.1588830833596715,3.295836866004329,3.6109179126442243,3.9702919135521215,4.204692619390966,3.6375861597263857,3.2580965380214817,3.6635616461296463,4.219507705176107,4.110873864173311,3.4657359027997265,4.110873864173311,3.58351893845611,3.7135720667043075,3.6635616461296463,3.737669618283368,3.332204510175204,3.951243718581427,3.4965075614664802,3.1354942159291497,3.1354942159291497,4.007333185232471,3.58351893845611,4.007333185232471,3.8918202981106265,3.2188758248682006,3.58351893845611,3.2188758248682006,3.295836866004329,4.189654742026425,4.025351690735149,3.295836866004329,3.3672958299864737,4.007333185232471,4.143134726391533,3.2188758248682006,3.784189633918261,3.332204510175204,3.2188758248682006,3.8712010109078907,3.58351893845611,3.4339872044851463,3.6635616461296463,3.8066624897703196,3.7612001156935624,3.0910424533583156,3.1780538303479453,4.1588830833596715,3.8501476017100584,3.3672958299864737,3.9318256327243257,3.8712010109078907,3.58351893845611,3.3672958299864737,4.0943445622221,3.784189633918261,3.58351893845611,3.828641396489095,3.526360524616161,3.7135720667043075,3.3672958299864737,3.295836866004329,3.332204510175204,3.4965075614664802,3.044522437723423,3.332204510175204,3.7612001156935624,3.6375861597263857,3.2188758248682006,3.7135720667043075,3.8501476017100584,3.295836866004329,3.2188758248682006,3.4011973816621555,3.7135720667043075,3.6109179126442243,3.3672958299864737,3.6109179126442243,3.6635616461296463,3.8918202981106265,3.6109179126442243,4.189654742026425,3.5553480614894135,3.5553480614894135,3.7135720667043075,3.784189633918261,3.8501476017100584,3.6635616461296463,3.5553480614894135,3.4011973816621555,3.4657359027997265,3.3672958299864737,3.58351893845611,3.526360524616161,3.8066624897703196,3.7612001156935624,3.7135720667043075,3.6109179126442243,3.044522437723423,3.2188758248682006,3.332204510175204,3.8501476017100584,3.526360524616161,3.5553480614894135,3.2580965380214817,3.3672958299864737,3.4965075614664802,3.3672958299864737,3.6375861597263857,3.4339872044851463,3.0910424533583156,4.07753744390572,3.784189633918261,3.2188758248682006,3.4339872044851463,3.7612001156935624,3.1780538303479453,3.4339872044851463,3.8501476017100584,3.828641396489095,3.4657359027997265,3.4657359027997265,3.7612001156935624,3.8501476017100584,3.4339872044851463,3.6635616461296463,3.7135720667043075,3.4011973816621555,4.060443010546419,3.912023005428146,3.6375861597263857,3.4339872044851463,3.4339872044851463,3.8712010109078907,3.4011973816621555,3.1354942159291497,3.295836866004329,4.007333185232471,3.4011973816621555,3.7135720667043075,3.1354942159291497,3.784189633918261,3.526360524616161,4.060443010546419,4.174387269895637,3.7612001156935624,3.3672958299864737,3.4339872044851463,3.2580965380214817,3.526360524616161,4.174387269895637,3.4011973816621555,3.8918202981106265,3.6375861597263857,3.5553480614894135,3.1780538303479453,3.4339872044851463,3.9318256327243257,3.4657359027997265,3.7135720667043075,3.6635616461296463,3.332204510175204],\"type\":\"histogram\",\"xaxis\":\"x\",\"yaxis\":\"y\"},{\"histnorm\":\"probability\",\"x\":[3.1354942159291497,3.988984046564274,3.3672958299864737,3.2580965380214817,3.2188758248682006,4.110873864173311,3.4965075614664802,3.8066624897703196,4.1588830833596715,3.2580965380214817,3.6375861597263857,4.07753744390572,4.060443010546419,3.9702919135521215,3.1780538303479453,4.127134385045092,3.2580965380214817,3.6375861597263857,3.7135720667043075,3.5553480614894135,3.8066624897703196,3.8712010109078907,3.3672958299864737,3.526360524616161,4.07753744390572,3.6888794541139363,3.6888794541139363,3.2580965380214817,3.4339872044851463,3.1780538303479453,3.2580965380214817,3.332204510175204,3.4339872044851463,3.4011973816621555,3.4011973816621555,4.204692619390966,3.1354942159291497,3.044522437723423,3.526360524616161,3.4657359027997265,3.526360524616161,3.5553480614894135,3.295836866004329,3.988984046564274,3.3672958299864737,3.4339872044851463,3.7135720667043075,3.6109179126442243,4.31748811353631,3.044522437723423,4.007333185232471,3.5553480614894135,3.6109179126442243,3.0910424533583156,3.5553480614894135,3.332204510175204,3.7135720667043075,3.0910424533583156,3.9318256327243257,4.204692619390966,3.332204510175204,3.988984046564274,3.1354942159291497,3.295836866004329,3.4339872044851463,3.1780538303479453,4.127134385045092,3.4011973816621555,3.2188758248682006,3.1354942159291497,3.2188758248682006,3.4011973816621555,3.6375861597263857,3.828641396489095,3.3672958299864737,3.5553480614894135,3.4965075614664802,3.8918202981106265,3.3672958299864737,3.295836866004329,3.7612001156935624,3.6375861597263857,3.8066624897703196,3.526360524616161,3.2188758248682006,3.2580965380214817,3.4657359027997265,3.3672958299864737,3.4965075614664802,3.4339872044851463,3.2188758248682006,3.2188758248682006,3.1780538303479453,3.8066624897703196,3.2188758248682006,3.4965075614664802,3.4011973816621555,3.3672958299864737,3.1780538303479453,3.295836866004329,3.1780538303479453,3.2580965380214817,3.7612001156935624,4.110873864173311,3.6375861597263857,4.060443010546419,3.6635616461296463,3.8501476017100584,3.332204510175204,3.1354942159291497,3.3672958299864737,3.7612001156935624,3.58351893845611,3.526360524616161,3.526360524616161,3.2580965380214817,4.025351690735149,3.4011973816621555,3.2580965380214817,3.295836866004329,3.737669618283368,3.4339872044851463,3.5553480614894135,4.127134385045092,3.4657359027997265,3.58351893845611,3.4011973816621555,3.1354942159291497,3.1780538303479453,3.3672958299864737,3.526360524616161,3.295836866004329,3.8712010109078907,3.7612001156935624,3.044522437723423,3.4011973816621555,3.332204510175204,3.6635616461296463,3.2188758248682006,3.332204510175204,3.5553480614894135,3.295836866004329,3.1780538303479453,3.2188758248682006,3.988984046564274,3.4657359027997265,3.3672958299864737,3.526360524616161,3.7612001156935624,3.1780538303479453,3.4657359027997265,3.5553480614894135,3.784189633918261,3.2188758248682006,3.5553480614894135,3.1354942159291497,3.3672958299864737,3.4011973816621555,3.332204510175204,3.4657359027997265,3.2188758248682006,3.6375861597263857,3.6109179126442243,3.4657359027997265,3.1780538303479453,3.332204510175204,3.4339872044851463,3.526360524616161,3.044522437723423,3.8712010109078907,4.110873864173311,3.044522437723423,3.7135720667043075,3.4965075614664802,3.1780538303479453,3.6109179126442243,3.4657359027997265,3.4339872044851463,3.5553480614894135,3.3672958299864737,3.9318256327243257,3.1354942159291497,3.8918202981106265,3.1354942159291497,3.0910424533583156,3.4965075614664802,3.6635616461296463,4.189654742026425,3.4011973816621555,3.8066624897703196,2.995732273553991,3.2580965380214817,3.295836866004329,3.332204510175204,3.7135720667043075,3.332204510175204,3.295836866004329,3.6635616461296463,3.7135720667043075,3.6375861597263857,3.828641396489095,3.7612001156935624,3.737669618283368,3.1780538303479453,3.784189633918261,3.737669618283368,3.2188758248682006,3.4011973816621555,3.8501476017100584,3.2188758248682006,3.2580965380214817,3.58351893845611,3.332204510175204,3.5553480614894135,3.2188758248682006,3.2188758248682006,3.0910424533583156,3.2580965380214817,4.0943445622221,3.0910424533583156,3.1780538303479453,3.295836866004329,3.6375861597263857,3.1780538303479453,4.025351690735149,3.4965075614664802,3.6888794541139363,3.58351893845611,3.2188758248682006,3.4339872044851463,3.4657359027997265,3.2580965380214817,3.2580965380214817,3.2580965380214817,3.1780538303479453,3.9318256327243257,3.332204510175204,3.6888794541139363,3.951243718581427,3.2188758248682006,3.295836866004329,3.2188758248682006,4.007333185232471,3.8501476017100584,3.295836866004329,3.737669618283368,3.526360524616161,3.6109179126442243,3.8712010109078907,3.1780538303479453,3.4011973816621555,3.2580965380214817,3.8918202981106265,3.4011973816621555,3.1780538303479453,4.23410650459726,4.060443010546419,3.526360524616161,3.4965075614664802,3.4011973816621555,3.3672958299864737,3.58351893845611,3.2580965380214817,3.332204510175204,3.784189633918261,3.988984046564274,3.1780538303479453,3.7612001156935624,3.784189633918261,3.2580965380214817,3.4657359027997265,3.4965075614664802,4.23410650459726,3.526360524616161,3.6888794541139363,3.1354942159291497,4.025351690735149,3.8501476017100584,3.6888794541139363,3.1354942159291497,3.4339872044851463,3.3672958299864737,3.7612001156935624,3.4339872044851463,3.784189633918261,3.4657359027997265,3.2188758248682006,3.3672958299864737,3.295836866004329,3.828641396489095,3.58351893845611,3.1780538303479453,3.4011973816621555,3.6109179126442243,3.8712010109078907,3.2580965380214817,3.912023005428146,3.526360524616161,3.295836866004329,3.1780538303479453],\"type\":\"histogram\",\"xaxis\":\"x2\",\"yaxis\":\"y2\"},{\"histnorm\":\"probability\",\"x\":[4.219507705176107,3.1354942159291497,3.912023005428146,3.828641396489095,3.988984046564274,3.58351893845611,3.988984046564274,3.58351893845611,4.127134385045092,3.3672958299864737,3.2580965380214817,3.2188758248682006,3.1354942159291497,4.110873864173311,3.3672958299864737,3.4965075614664802,3.988984046564274,3.2580965380214817,3.8066624897703196,3.4657359027997265,3.8918202981106265,3.8066624897703196,3.8918202981106265,3.8066624897703196,3.295836866004329,3.6109179126442243,3.6888794541139363,3.7612001156935624,3.5553480614894135,4.1588830833596715,3.6109179126442243,3.332204510175204,3.4339872044851463,4.060443010546419,3.526360524616161,3.2580965380214817,3.4657359027997265,3.6375861597263857,3.6375861597263857,3.2188758248682006,3.4339872044851463,3.295836866004329,3.8066624897703196,3.2188758248682006,4.07753744390572,3.58351893845611,3.6888794541139363,3.1780538303479453,3.6888794541139363,3.3672958299864737,3.4011973816621555,3.4339872044851463,3.2580965380214817,3.4657359027997265,4.060443010546419,3.295836866004329,3.9702919135521215,3.4657359027997265,3.1780538303479453,3.1780538303479453,3.332204510175204,3.9318256327243257,4.127134385045092,3.2580965380214817,3.295836866004329,3.8918202981106265,3.4011973816621555,3.1354942159291497,3.6375861597263857,3.2580965380214817,3.4339872044851463,3.8501476017100584,3.951243718581427,3.737669618283368,3.7135720667043075,4.204692619390966,3.5553480614894135,3.951243718581427,3.6888794541139363,3.1354942159291497,3.8066624897703196,3.8712010109078907,3.2188758248682006,4.07753744390572,3.9702919135521215,3.4011973816621555,3.332204510175204,3.8712010109078907,3.4339872044851463,3.3672958299864737,4.04305126783455,4.007333185232471,3.526360524616161,3.044522437723423,4.007333185232471,4.07753744390572,4.127134385045092,3.5553480614894135,3.6109179126442243,3.6109179126442243,3.737669618283368,3.2188758248682006,3.2188758248682006,3.58351893845611,3.295836866004329,3.6888794541139363,3.6888794541139363,3.4965075614664802,3.4339872044851463,3.58351893845611,3.4657359027997265,3.1780538303479453,3.3672958299864737,3.2580965380214817,3.58351893845611,3.8712010109078907,3.4339872044851463,3.332204510175204,3.1780538303479453,3.6109179126442243,3.2580965380214817,3.737669618283368,3.2188758248682006,4.1588830833596715,3.332204510175204,3.4339872044851463,3.7135720667043075,3.4339872044851463,3.5553480614894135,3.4011973816621555,3.2188758248682006,3.4011973816621555,3.332204510175204,3.8712010109078907,3.0910424533583156,3.6635616461296463,3.332204510175204,4.204692619390966,3.58351893845611,3.8066624897703196,3.332204510175204,3.4339872044851463,3.332204510175204,3.1354942159291497,3.1780538303479453,3.4339872044851463,3.6888794541139363,3.951243718581427,3.3672958299864737,3.8501476017100584,3.7612001156935624,3.6635616461296463,3.2188758248682006,3.4011973816621555,3.6109179126442243,3.044522437723423,3.8918202981106265,3.828641396489095,3.6635616461296463,3.5553480614894135,3.6109179126442243,3.4339872044851463,3.6109179126442243,4.2626798770413155,3.6109179126442243,3.4965075614664802,3.526360524616161,3.044522437723423,3.2580965380214817,3.4657359027997265,3.526360524616161,3.295836866004329,3.5553480614894135,3.526360524616161,3.295836866004329,3.988984046564274,3.7612001156935624,3.9702919135521215,3.4657359027997265,4.189654742026425,3.3672958299864737,3.4339872044851463,3.7135720667043075,3.9318256327243257,3.6109179126442243,3.4657359027997265,4.31748811353631,4.23410650459726,3.044522437723423,3.526360524616161,4.007333185232471,3.5553480614894135,3.6109179126442243,3.4011973816621555,3.0910424533583156,3.5553480614894135,3.3672958299864737,3.332204510175204,3.6109179126442243,3.7135720667043075,3.9702919135521215,3.332204510175204,3.295836866004329,3.0910424533583156,3.6635616461296463,3.6635616461296463,3.784189633918261,3.295836866004329,3.0910424533583156,4.025351690735149,3.526360524616161,3.828641396489095,3.9318256327243257,4.204692619390966,3.951243718581427,3.6888794541139363,3.4657359027997265,3.1780538303479453,3.2188758248682006,4.174387269895637,3.295836866004329,3.1780538303479453,3.4339872044851463,3.4965075614664802,3.4339872044851463,3.332204510175204,3.332204510175204,3.988984046564274,3.1354942159291497,3.1354942159291497,3.295836866004329,3.951243718581427,3.58351893845611,3.2580965380214817,3.7612001156935624,3.4339872044851463,3.1780538303479453,4.127134385045092,3.58351893845611,3.6888794541139363,3.4011973816621555,3.951243718581427,3.2188758248682006,3.332204510175204,3.58351893845611,3.2580965380214817,3.9702919135521215,3.58351893845611,3.295836866004329,3.1354942159291497,3.6888794541139363,3.8501476017100584,3.2188758248682006,3.58351893845611,3.2188758248682006,3.332204510175204,3.58351893845611,3.4011973816621555,3.1780538303479453,4.060443010546419,3.332204510175204,4.025351690735149,3.6109179126442243,4.060443010546419,3.4965075614664802,3.6375861597263857,3.6109179126442243,3.6635616461296463,3.828641396489095,3.2580965380214817,3.4965075614664802,3.6375861597263857,3.6109179126442243,3.3672958299864737,3.5553480614894135,3.4965075614664802,3.295836866004329,3.912023005428146,3.4965075614664802,3.4011973816621555,3.1780538303479453,3.9318256327243257,3.912023005428146,4.1588830833596715,3.6375861597263857,3.58351893845611,3.295836866004329,3.4657359027997265,3.912023005428146,3.8918202981106265,3.295836866004329,3.3672958299864737,3.8066624897703196,4.04305126783455,3.8501476017100584,3.295836866004329,3.044522437723423,3.828641396489095,3.784189633918261,3.4965075614664802,4.007333185232471,3.7612001156935624,3.6375861597263857,3.912023005428146,3.8066624897703196,3.526360524616161,3.2188758248682006,3.526360524616161,3.2188758248682006,3.1354942159291497,3.7135720667043075,3.2580965380214817,3.295836866004329,3.2580965380214817,3.4011973816621555,3.4657359027997265,3.6635616461296463,3.8918202981106265,3.4965075614664802,3.332204510175204,3.3672958299864737,3.4965075614664802,3.5553480614894135,3.3672958299864737,3.6109179126442243,3.6888794541139363,3.912023005428146,3.5553480614894135,3.4657359027997265,3.3672958299864737,4.330733340286331,3.4339872044851463,3.2188758248682006,3.2188758248682006,3.1780538303479453,3.8066624897703196,3.1780538303479453,3.2188758248682006,3.3672958299864737,3.4657359027997265,3.2188758248682006,3.295836866004329,3.2580965380214817,3.526360524616161,3.6375861597263857,3.784189633918261,3.1780538303479453,3.1780538303479453,3.5553480614894135,3.4965075614664802,3.1780538303479453,3.4011973816621555,3.6635616461296463,3.3672958299864737,3.8501476017100584,3.1780538303479453,3.912023005428146,3.295836866004329,3.3672958299864737,3.1780538303479453,4.127134385045092,3.6375861597263857,3.6109179126442243,3.0910424533583156,3.2580965380214817,3.6109179126442243,3.332204510175204,3.1354942159291497,3.7612001156935624,3.7135720667043075,3.6109179126442243,3.526360524616161,3.1780538303479453,4.1588830833596715,4.110873864173311,3.6375861597263857,3.5553480614894135,3.6109179126442243,4.060443010546419,3.9702919135521215,3.6888794541139363,3.6635616461296463,3.2580965380214817,3.295836866004329,3.295836866004329,3.2580965380214817,3.0910424533583156,3.7135720667043075,3.332204510175204,3.332204510175204,3.4339872044851463,2.995732273553991,3.6888794541139363,3.4657359027997265,3.4657359027997265,3.4965075614664802,4.025351690735149,3.8501476017100584,3.8501476017100584,3.784189633918261,3.6888794541139363,3.3672958299864737,3.332204510175204,3.332204510175204,3.784189633918261,3.1354942159291497,3.784189633918261,3.332204510175204,3.295836866004329,3.3672958299864737,3.044522437723423,3.58351893845611,3.7612001156935624,3.7135720667043075,3.58351893845611,3.58351893845611,3.526360524616161,3.1780538303479453,3.4657359027997265,3.526360524616161,3.044522437723423,3.4339872044851463,3.8712010109078907,3.5553480614894135,3.2580965380214817,3.0910424533583156,3.4011973816621555,3.8501476017100584,3.044522437723423,4.025351690735149,4.31748811353631,3.4011973816621555,3.6109179126442243,3.526360524616161,3.2580965380214817,3.2580965380214817,3.1780538303479453,3.6375861597263857,4.189654742026425,3.295836866004329,3.6888794541139363,3.4339872044851463,3.4011973816621555,3.737669618283368,3.4339872044851463,3.737669618283368,3.5553480614894135,3.58351893845611,4.025351690735149,4.127134385045092,3.4339872044851463,3.4011973816621555,3.5553480614894135,3.58351893845611,3.4657359027997265,3.4011973816621555,3.6109179126442243,3.58351893845611,3.332204510175204,3.4965075614664802,3.6375861597263857,3.6109179126442243,3.5553480614894135,3.6635616461296463,3.5553480614894135,4.1588830833596715,3.4011973816621555,3.4965075614664802,3.295836866004329,3.58351893845611,3.1354942159291497,3.1780538303479453,3.3672958299864737,3.6109179126442243,3.526360524616161,3.295836866004329,3.2188758248682006,3.2580965380214817,3.6888794541139363,3.8066624897703196,3.1780538303479453,3.295836866004329,4.060443010546419,3.4339872044851463,3.8066624897703196,3.8712010109078907,3.9702919135521215,4.143134726391533,3.58351893845611,3.295836866004329,3.295836866004329,3.7612001156935624,3.332204510175204,3.6635616461296463,3.6888794541139363,3.044522437723423,3.4011973816621555,3.7135720667043075,3.4965075614664802,3.3672958299864737,3.332204510175204,3.7612001156935624,3.912023005428146,3.6635616461296463,3.2188758248682006,3.332204510175204,3.6109179126442243,3.5553480614894135,3.3672958299864737,3.828641396489095,3.295836866004329,3.4965075614664802,3.295836866004329,3.044522437723423,4.007333185232471,3.6375861597263857,3.7135720667043075,3.1780538303479453,3.784189633918261,3.6109179126442243,3.8066624897703196,3.2188758248682006,3.988984046564274,3.1780538303479453,3.295836866004329,3.4339872044851463,3.4657359027997265,3.7612001156935624,3.4657359027997265,3.737669618283368,3.4965075614664802,3.3672958299864737,3.737669618283368,3.295836866004329,3.2580965380214817,3.526360524616161,4.330733340286331,3.6375861597263857,3.7612001156935624,3.828641396489095,3.1780538303479453,4.110873864173311,3.4657359027997265,3.5553480614894135,4.127134385045092,3.784189633918261,3.6375861597263857,3.4965075614664802,3.2188758248682006,3.58351893845611,3.1780538303479453,3.828641396489095,3.5553480614894135,3.332204510175204,4.219507705176107,3.1354942159291497,3.3672958299864737,3.4011973816621555,3.332204510175204,3.4657359027997265,3.912023005428146,3.2188758248682006,3.4011973816621555,3.6375861597263857,3.6375861597263857,3.1780538303479453,3.6109179126442243,3.5553480614894135,3.737669618283368,3.4657359027997265,3.1780538303479453,3.6635616461296463,3.295836866004329,3.1354942159291497,3.332204510175204,3.2188758248682006,3.332204510175204,3.526360524616161,3.332204510175204,3.332204510175204,3.4339872044851463,3.912023005428146,3.295836866004329,3.526360524616161,3.9702919135521215,3.044522437723423,3.6109179126442243,3.0910424533583156,3.8712010109078907,4.110873864173311,4.07753744390572,3.7612001156935624,3.6109179126442243,3.044522437723423,3.7135720667043075,3.4965075614664802,3.1780538303479453,3.6109179126442243,3.4657359027997265,3.4965075614664802,3.828641396489095,3.4339872044851463,3.5553480614894135,3.3672958299864737,3.1780538303479453,3.1354942159291497,4.31748811353631,3.9318256327243257,3.526360524616161,3.828641396489095,3.1354942159291497,3.8918202981106265,3.4011973816621555,3.1354942159291497,3.1354942159291497,3.8918202981106265,3.332204510175204,3.6375861597263857,3.0910424533583156,3.912023005428146,3.332204510175204,3.4965075614664802,3.6635616461296463,3.1354942159291497,4.189654742026425,3.58351893845611,3.737669618283368,3.4011973816621555,3.6109179126442243,4.174387269895637,3.3672958299864737,3.8066624897703196,3.1780538303479453,2.995732273553991,3.2580965380214817,3.8712010109078907,3.3672958299864737,3.0910424533583156,3.5553480614894135,3.295836866004329,3.332204510175204,3.6635616461296463,3.7135720667043075,3.526360524616161,3.4965075614664802,3.332204510175204,3.4965075614664802,3.295836866004329,3.6635616461296463,3.7135720667043075,3.9318256327243257,3.6375861597263857,3.828641396489095,3.7612001156935624,3.58351893845611,3.1354942159291497,3.737669618283368,3.6375861597263857,3.3672958299864737,3.737669618283368,3.1780538303479453,3.1780538303479453,3.9318256327243257,3.58351893845611,3.9318256327243257,3.332204510175204,3.5553480614894135,3.332204510175204,3.784189633918261,3.8712010109078907,3.332204510175204,3.4657359027997265,3.7612001156935624,3.2188758248682006,3.737669618283368,3.295836866004329,3.526360524616161,3.2188758248682006,4.174387269895637,3.295836866004329,4.04305126783455,3.6375861597263857,3.526360524616161,3.8712010109078907,3.4657359027997265,3.5553480614894135,3.332204510175204,3.4339872044851463,3.58351893845611,3.4657359027997265,3.2580965380214817,3.2580965380214817,3.4011973816621555,3.8066624897703196,3.3672958299864737,3.9318256327243257,3.4011973816621555,3.6635616461296463,3.2188758248682006,3.7135720667043075,3.4011973816621555,3.8501476017100584,3.8712010109078907,3.737669618283368,3.4965075614664802,3.58351893845611,3.2188758248682006,3.2580965380214817,3.2580965380214817,3.6375861597263857,3.4965075614664802,3.58351893845611,3.8501476017100584,3.2580965380214817,3.332204510175204,4.1588830833596715,3.7135720667043075,3.4965075614664802,3.4657359027997265,3.4657359027997265,3.5553480614894135,3.2188758248682006,3.2188758248682006,4.204692619390966,3.0910424533583156,3.737669618283368,3.8712010109078907,3.2580965380214817,4.0943445622221,3.6109179126442243,3.526360524616161,3.0910424533583156,3.8066624897703196,3.3672958299864737,3.6375861597263857,3.4011973816621555,3.1780538303479453,3.58351893845611,3.828641396489095,3.295836866004329,3.4965075614664802,3.1780538303479453,3.737669618283368,3.1354942159291497,3.4339872044851463,3.3672958299864737,3.1780538303479453,3.6375861597263857,3.295836866004329,3.526360524616161,3.912023005428146,3.1780538303479453,3.1780538303479453,3.2580965380214817,4.025351690735149,3.4965075614664802,4.31748811353631,3.6888794541139363,3.4657359027997265,3.58351893845611,4.0943445622221,3.2188758248682006,3.2188758248682006,3.4339872044851463,3.332204510175204,3.7135720667043075,3.4657359027997265,3.4657359027997265,3.3672958299864737,4.1588830833596715,3.295836866004329,3.2580965380214817,3.6109179126442243,3.9702919135521215,4.204692619390966,3.2580965380214817,3.6375861597263857,3.2580965380214817,3.6635616461296463,4.219507705176107,3.2580965380214817,4.110873864173311,3.4657359027997265,3.1780538303479453,4.110873864173311,3.58351893845611,3.7135720667043075,3.6635616461296463,3.9318256327243257,3.332204510175204,3.6888794541139363,3.737669618283368,3.332204510175204,3.951243718581427,3.4965075614664802,3.1354942159291497,3.951243718581427,3.1354942159291497,4.007333185232471,3.58351893845611,4.007333185232471,3.8918202981106265,3.2188758248682006,3.58351893845611,3.2188758248682006,3.2188758248682006,3.295836866004329,4.189654742026425,4.025351690735149,3.295836866004329,3.295836866004329,3.3672958299864737,3.2188758248682006,4.007333185232471,3.8501476017100584,4.007333185232471,4.143134726391533,3.2188758248682006,3.784189633918261,3.295836866004329,3.332204510175204,3.2188758248682006,3.737669618283368,3.8712010109078907,3.58351893845611,3.4339872044851463,3.526360524616161,3.6109179126442243,3.8712010109078907,3.6635616461296463,3.8066624897703196,3.1780538303479453,3.4011973816621555,3.7612001156935624,3.2580965380214817,3.8918202981106265,3.0910424533583156,3.1780538303479453,4.1588830833596715,3.8501476017100584,3.4011973816621555,3.3672958299864737,3.1780538303479453,3.9318256327243257,3.8712010109078907,3.58351893845611,4.23410650459726,3.3672958299864737,4.0943445622221,4.060443010546419,3.526360524616161,3.784189633918261,3.58351893845611,3.4965075614664802,3.828641396489095,3.526360524616161,3.7135720667043075,3.3672958299864737,3.4011973816621555,3.295836866004329,3.332204510175204,3.3672958299864737,3.58351893845611,3.4965075614664802,3.2580965380214817,3.044522437723423,3.332204510175204,3.7612001156935624,3.6375861597263857,3.2188758248682006,3.7135720667043075,3.8501476017100584,3.295836866004329,3.2188758248682006,3.4011973816621555,3.7135720667043075,3.6109179126442243,3.3672958299864737,3.332204510175204,3.6109179126442243,3.6635616461296463,3.8918202981106265,3.6109179126442243,4.189654742026425,3.784189633918261,3.988984046564274,3.5553480614894135,3.1780538303479453,3.5553480614894135,3.7135720667043075,3.784189633918261,3.8501476017100584,3.6635616461296463,3.5553480614894135,3.4011973816621555,3.4657359027997265,3.3672958299864737,3.58351893845611,3.526360524616161,3.7612001156935624,3.784189633918261,3.8066624897703196,3.7612001156935624,3.7135720667043075,3.6109179126442243,3.044522437723423,3.2188758248682006,3.332204510175204,3.8501476017100584,3.526360524616161,3.5553480614894135,3.2580965380214817,3.2580965380214817,3.3672958299864737,3.4657359027997265,3.4965075614664802,3.4965075614664802,4.23410650459726,3.526360524616161,3.6888794541139363,3.3672958299864737,3.6375861597263857,3.1354942159291497,3.4339872044851463,4.025351690735149,3.8501476017100584,3.0910424533583156,3.6888794541139363,4.07753744390572,3.784189633918261,3.2188758248682006,3.1354942159291497,3.4339872044851463,3.7612001156935624,3.1780538303479453,3.4339872044851463,3.3672958299864737,3.4339872044851463,3.7612001156935624,3.8501476017100584,3.828641396489095,3.4657359027997265,3.4657359027997265,3.7612001156935624,3.8501476017100584,3.4339872044851463,3.4339872044851463,3.6635616461296463,3.784189633918261,3.4657359027997265,3.7135720667043075,3.2188758248682006,3.3672958299864737,3.295836866004329,3.4011973816621555,4.060443010546419,3.912023005428146,3.6375861597263857,3.828641396489095,3.4339872044851463,3.4339872044851463,3.8712010109078907,3.4011973816621555,3.58351893845611,3.1354942159291497,3.295836866004329,3.1780538303479453,4.007333185232471,3.4011973816621555,3.7135720667043075,3.1354942159291497,3.784189633918261,3.4011973816621555,3.6109179126442243,3.526360524616161,4.060443010546419,4.174387269895637,3.7612001156935624,3.8712010109078907,3.2580965380214817,3.912023005428146,3.526360524616161,3.3672958299864737,3.295836866004329,3.4339872044851463,3.2580965380214817,3.526360524616161,4.174387269895637,3.4011973816621555,3.8918202981106265,3.6375861597263857,3.5553480614894135,3.1780538303479453,3.4339872044851463,3.9318256327243257,3.4657359027997265,3.7135720667043075,3.6635616461296463,3.1780538303479453,3.332204510175204],\"type\":\"histogram\",\"xaxis\":\"x3\",\"yaxis\":\"y3\"},{\"y\":[4.219507705176107,3.912023005428146,3.828641396489095,3.58351893845611,3.988984046564274,3.58351893845611,4.127134385045092,3.1354942159291497,3.3672958299864737,3.988984046564274,3.2580965380214817,3.4657359027997265,3.8918202981106265,3.8066624897703196,3.8918202981106265,3.8066624897703196,3.295836866004329,3.6109179126442243,3.6888794541139363,3.7612001156935624,3.5553480614894135,3.6109179126442243,3.332204510175204,3.4339872044851463,4.060443010546419,3.526360524616161,3.4657359027997265,3.6375861597263857,3.2188758248682006,3.4339872044851463,3.295836866004329,3.8066624897703196,3.2188758248682006,3.58351893845611,3.6888794541139363,3.1780538303479453,3.6888794541139363,3.3672958299864737,3.4011973816621555,3.4339872044851463,3.2580965380214817,3.4657359027997265,3.295836866004329,3.4657359027997265,3.1780538303479453,3.332204510175204,3.9318256327243257,3.295836866004329,3.8918202981106265,3.4011973816621555,3.1354942159291497,3.2580965380214817,3.4339872044851463,3.8501476017100584,3.951243718581427,3.737669618283368,4.204692619390966,3.951243718581427,3.6888794541139363,3.1354942159291497,3.8712010109078907,3.2188758248682006,4.07753744390572,3.9702919135521215,3.4011973816621555,3.332204510175204,3.4339872044851463,4.04305126783455,4.007333185232471,3.044522437723423,4.007333185232471,4.127134385045092,3.5553480614894135,3.6109179126442243,3.6109179126442243,3.737669618283368,3.2188758248682006,3.2188758248682006,3.58351893845611,3.295836866004329,3.4965075614664802,3.4339872044851463,3.58351893845611,3.4657359027997265,3.1780538303479453,3.3672958299864737,3.58351893845611,3.8712010109078907,3.332204510175204,3.6109179126442243,3.737669618283368,3.2188758248682006,4.1588830833596715,3.4339872044851463,3.7135720667043075,3.5553480614894135,3.2188758248682006,3.332204510175204,3.8712010109078907,3.0910424533583156,3.6635616461296463,3.332204510175204,3.58351893845611,3.8066624897703196,3.332204510175204,3.4339872044851463,3.332204510175204,3.1780538303479453,3.4339872044851463,3.6888794541139363,3.951243718581427,3.3672958299864737,3.8501476017100584,3.7612001156935624,3.6635616461296463,3.2188758248682006,3.4011973816621555,3.6109179126442243,3.8918202981106265,3.828641396489095,3.6635616461296463,3.5553480614894135,3.6109179126442243,3.4339872044851463,3.6109179126442243,4.2626798770413155,3.6109179126442243,3.4965075614664802,3.044522437723423,3.2580965380214817,3.295836866004329,3.526360524616161,3.7612001156935624,3.9702919135521215,3.4657359027997265,4.189654742026425,3.9318256327243257,3.4657359027997265,4.23410650459726,3.526360524616161,3.4011973816621555,3.3672958299864737,3.6109179126442243,3.9702919135521215,3.332204510175204,3.295836866004329,3.6635616461296463,3.6635616461296463,3.784189633918261,3.295836866004329,3.0910424533583156,4.025351690735149,3.526360524616161,3.828641396489095,3.951243718581427,3.6888794541139363,3.4657359027997265,3.1780538303479453,3.2188758248682006,4.174387269895637,3.295836866004329,3.1780538303479453,3.4339872044851463,3.4965075614664802,3.4339872044851463,3.332204510175204,3.1354942159291497,3.951243718581427,3.58351893845611,3.2580965380214817,3.7612001156935624,3.58351893845611,3.6888794541139363,3.951243718581427,3.332204510175204,3.58351893845611,3.2580965380214817,3.9702919135521215,3.58351893845611,3.295836866004329,3.6888794541139363,3.8501476017100584,3.58351893845611,3.2188758248682006,3.332204510175204,3.58351893845611,3.1780538303479453,4.060443010546419,3.332204510175204,4.025351690735149,3.6109179126442243,4.060443010546419,3.4965075614664802,3.6109179126442243,3.6635616461296463,3.2580965380214817,3.4965075614664802,3.6375861597263857,3.6109179126442243,3.4965075614664802,3.295836866004329,3.912023005428146,3.4011973816621555,3.1780538303479453,3.9318256327243257,3.912023005428146,4.1588830833596715,3.6375861597263857,3.58351893845611,3.295836866004329,3.4657359027997265,3.912023005428146,3.295836866004329,3.8066624897703196,4.04305126783455,3.8501476017100584,3.044522437723423,3.828641396489095,3.784189633918261,3.4965075614664802,4.007333185232471,3.912023005428146,3.526360524616161,3.2188758248682006,3.1354942159291497,3.7135720667043075,3.2580965380214817,3.295836866004329,3.4011973816621555,3.6635616461296463,3.8918202981106265,3.4965075614664802,3.332204510175204,3.5553480614894135,3.3672958299864737,3.6109179126442243,3.6888794541139363,3.912023005428146,3.5553480614894135,3.4657359027997265,3.3672958299864737,4.330733340286331,3.1780538303479453,3.3672958299864737,3.4657359027997265,3.2188758248682006,3.295836866004329,3.2580965380214817,3.526360524616161,3.6375861597263857,3.784189633918261,3.1780538303479453,3.1780538303479453,3.5553480614894135,3.1780538303479453,3.6635616461296463,3.8501476017100584,3.912023005428146,3.3672958299864737,4.127134385045092,3.6375861597263857,3.6109179126442243,3.0910424533583156,3.6109179126442243,3.332204510175204,3.1354942159291497,3.7135720667043075,3.6109179126442243,3.526360524616161,3.1780538303479453,4.1588830833596715,3.5553480614894135,3.6109179126442243,3.9702919135521215,3.6888794541139363,3.2580965380214817,3.295836866004329,3.295836866004329,3.2580965380214817,3.0910424533583156,3.7135720667043075,3.332204510175204,3.332204510175204,3.4339872044851463,2.995732273553991,3.6888794541139363,3.4657359027997265,3.4657359027997265,3.4965075614664802,4.025351690735149,3.8501476017100584,3.784189633918261,3.6888794541139363,3.3672958299864737,3.332204510175204,3.784189633918261,3.784189633918261,3.332204510175204,3.295836866004329,3.044522437723423,3.58351893845611,3.7135720667043075,3.58351893845611,3.1780538303479453,3.4657359027997265,3.044522437723423,3.4339872044851463,3.8712010109078907,3.5553480614894135,3.0910424533583156,3.4011973816621555,3.8501476017100584,3.044522437723423,4.31748811353631,3.6109179126442243,3.526360524616161,3.2580965380214817,3.1780538303479453,3.6375861597263857,4.189654742026425,3.6888794541139363,3.4339872044851463,3.4011973816621555,3.737669618283368,3.58351893845611,4.025351690735149,3.4339872044851463,3.4011973816621555,3.5553480614894135,3.58351893845611,3.4011973816621555,3.6109179126442243,3.332204510175204,3.4965075614664802,3.6375861597263857,3.6109179126442243,3.5553480614894135,3.6635616461296463,3.5553480614894135,4.1588830833596715,3.4965075614664802,3.295836866004329,3.58351893845611,3.6109179126442243,3.2188758248682006,3.2580965380214817,3.6888794541139363,3.8066624897703196,3.1780538303479453,3.295836866004329,4.060443010546419,3.4339872044851463,3.8066624897703196,3.9702919135521215,4.143134726391533,3.58351893845611,3.295836866004329,3.295836866004329,3.332204510175204,3.6635616461296463,3.6888794541139363,3.7135720667043075,3.4965075614664802,3.3672958299864737,3.7612001156935624,3.912023005428146,3.6109179126442243,3.3672958299864737,3.828641396489095,3.4965075614664802,3.295836866004329,3.044522437723423,4.007333185232471,3.6375861597263857,3.7135720667043075,3.784189633918261,3.6109179126442243,3.8066624897703196,3.1780538303479453,3.295836866004329,3.4339872044851463,3.4657359027997265,3.7612001156935624,3.737669618283368,3.4965075614664802,3.737669618283368,3.295836866004329,3.2580965380214817,4.330733340286331,3.6375861597263857,3.828641396489095,4.110873864173311,4.127134385045092,3.6375861597263857,3.4965075614664802,3.58351893845611,3.1780538303479453,3.828641396489095,3.332204510175204,4.219507705176107,3.912023005428146,3.4011973816621555,3.6375861597263857,3.1780538303479453,3.5553480614894135,3.737669618283368,3.6635616461296463,3.295836866004329,3.1354942159291497,3.332204510175204,3.2188758248682006,3.332204510175204,3.526360524616161,3.332204510175204,3.912023005428146,3.295836866004329,3.9702919135521215,3.6109179126442243,3.0910424533583156,4.07753744390572,3.7612001156935624,3.6109179126442243,3.4965075614664802,3.828641396489095,3.1780538303479453,3.1354942159291497,4.31748811353631,3.526360524616161,3.828641396489095,3.4011973816621555,3.1354942159291497,3.8918202981106265,3.332204510175204,3.6375861597263857,3.912023005428146,3.332204510175204,3.1354942159291497,3.58351893845611,3.737669618283368,3.6109179126442243,4.174387269895637,3.3672958299864737,3.1780538303479453,3.8712010109078907,3.3672958299864737,3.0910424533583156,3.5553480614894135,3.6635616461296463,3.526360524616161,3.4965075614664802,3.4965075614664802,3.9318256327243257,3.58351893845611,3.1354942159291497,3.6375861597263857,3.3672958299864737,3.737669618283368,3.1780538303479453,3.9318256327243257,3.58351893845611,3.9318256327243257,3.332204510175204,3.5553480614894135,3.332204510175204,3.8712010109078907,3.332204510175204,3.4657359027997265,3.7612001156935624,3.2188758248682006,3.295836866004329,3.526360524616161,4.174387269895637,3.295836866004329,4.04305126783455,3.6375861597263857,3.526360524616161,3.8712010109078907,3.4657359027997265,3.5553480614894135,3.332204510175204,3.4339872044851463,3.58351893845611,3.4657359027997265,3.2580965380214817,3.2580965380214817,3.4011973816621555,3.8066624897703196,3.3672958299864737,3.9318256327243257,3.4011973816621555,3.6635616461296463,3.2188758248682006,3.7135720667043075,3.8712010109078907,3.737669618283368,3.4965075614664802,3.58351893845611,3.2580965380214817,3.6375861597263857,3.4965075614664802,3.8501476017100584,3.2580965380214817,4.1588830833596715,3.7135720667043075,3.4965075614664802,3.4657359027997265,3.4657359027997265,4.204692619390966,3.737669618283368,3.8712010109078907,3.6109179126442243,3.526360524616161,3.8066624897703196,3.3672958299864737,3.6375861597263857,3.4011973816621555,3.58351893845611,3.828641396489095,3.4965075614664802,3.1780538303479453,3.737669618283368,3.1354942159291497,3.4339872044851463,3.3672958299864737,3.1780538303479453,3.295836866004329,3.526360524616161,3.912023005428146,3.1780538303479453,3.2580965380214817,4.31748811353631,3.4657359027997265,4.0943445622221,3.2188758248682006,3.332204510175204,3.7135720667043075,3.4657359027997265,3.3672958299864737,4.1588830833596715,3.295836866004329,3.6109179126442243,3.9702919135521215,4.204692619390966,3.6375861597263857,3.2580965380214817,3.6635616461296463,4.219507705176107,4.110873864173311,3.4657359027997265,4.110873864173311,3.58351893845611,3.7135720667043075,3.6635616461296463,3.737669618283368,3.332204510175204,3.951243718581427,3.4965075614664802,3.1354942159291497,3.1354942159291497,4.007333185232471,3.58351893845611,4.007333185232471,3.8918202981106265,3.2188758248682006,3.58351893845611,3.2188758248682006,3.295836866004329,4.189654742026425,4.025351690735149,3.295836866004329,3.3672958299864737,4.007333185232471,4.143134726391533,3.2188758248682006,3.784189633918261,3.332204510175204,3.2188758248682006,3.8712010109078907,3.58351893845611,3.4339872044851463,3.6635616461296463,3.8066624897703196,3.7612001156935624,3.0910424533583156,3.1780538303479453,4.1588830833596715,3.8501476017100584,3.3672958299864737,3.9318256327243257,3.8712010109078907,3.58351893845611,3.3672958299864737,4.0943445622221,3.784189633918261,3.58351893845611,3.828641396489095,3.526360524616161,3.7135720667043075,3.3672958299864737,3.295836866004329,3.332204510175204,3.4965075614664802,3.044522437723423,3.332204510175204,3.7612001156935624,3.6375861597263857,3.2188758248682006,3.7135720667043075,3.8501476017100584,3.295836866004329,3.2188758248682006,3.4011973816621555,3.7135720667043075,3.6109179126442243,3.3672958299864737,3.6109179126442243,3.6635616461296463,3.8918202981106265,3.6109179126442243,4.189654742026425,3.5553480614894135,3.5553480614894135,3.7135720667043075,3.784189633918261,3.8501476017100584,3.6635616461296463,3.5553480614894135,3.4011973816621555,3.4657359027997265,3.3672958299864737,3.58351893845611,3.526360524616161,3.8066624897703196,3.7612001156935624,3.7135720667043075,3.6109179126442243,3.044522437723423,3.2188758248682006,3.332204510175204,3.8501476017100584,3.526360524616161,3.5553480614894135,3.2580965380214817,3.3672958299864737,3.4965075614664802,3.3672958299864737,3.6375861597263857,3.4339872044851463,3.0910424533583156,4.07753744390572,3.784189633918261,3.2188758248682006,3.4339872044851463,3.7612001156935624,3.1780538303479453,3.4339872044851463,3.8501476017100584,3.828641396489095,3.4657359027997265,3.4657359027997265,3.7612001156935624,3.8501476017100584,3.4339872044851463,3.6635616461296463,3.7135720667043075,3.4011973816621555,4.060443010546419,3.912023005428146,3.6375861597263857,3.4339872044851463,3.4339872044851463,3.8712010109078907,3.4011973816621555,3.1354942159291497,3.295836866004329,4.007333185232471,3.4011973816621555,3.7135720667043075,3.1354942159291497,3.784189633918261,3.526360524616161,4.060443010546419,4.174387269895637,3.7612001156935624,3.3672958299864737,3.4339872044851463,3.2580965380214817,3.526360524616161,4.174387269895637,3.4011973816621555,3.8918202981106265,3.6375861597263857,3.5553480614894135,3.1780538303479453,3.4339872044851463,3.9318256327243257,3.4657359027997265,3.7135720667043075,3.6635616461296463,3.332204510175204],\"type\":\"box\",\"xaxis\":\"x4\",\"yaxis\":\"y4\"},{\"y\":[3.1354942159291497,3.988984046564274,3.3672958299864737,3.2580965380214817,3.2188758248682006,4.110873864173311,3.4965075614664802,3.8066624897703196,4.1588830833596715,3.2580965380214817,3.6375861597263857,4.07753744390572,4.060443010546419,3.9702919135521215,3.1780538303479453,4.127134385045092,3.2580965380214817,3.6375861597263857,3.7135720667043075,3.5553480614894135,3.8066624897703196,3.8712010109078907,3.3672958299864737,3.526360524616161,4.07753744390572,3.6888794541139363,3.6888794541139363,3.2580965380214817,3.4339872044851463,3.1780538303479453,3.2580965380214817,3.332204510175204,3.4339872044851463,3.4011973816621555,3.4011973816621555,4.204692619390966,3.1354942159291497,3.044522437723423,3.526360524616161,3.4657359027997265,3.526360524616161,3.5553480614894135,3.295836866004329,3.988984046564274,3.3672958299864737,3.4339872044851463,3.7135720667043075,3.6109179126442243,4.31748811353631,3.044522437723423,4.007333185232471,3.5553480614894135,3.6109179126442243,3.0910424533583156,3.5553480614894135,3.332204510175204,3.7135720667043075,3.0910424533583156,3.9318256327243257,4.204692619390966,3.332204510175204,3.988984046564274,3.1354942159291497,3.295836866004329,3.4339872044851463,3.1780538303479453,4.127134385045092,3.4011973816621555,3.2188758248682006,3.1354942159291497,3.2188758248682006,3.4011973816621555,3.6375861597263857,3.828641396489095,3.3672958299864737,3.5553480614894135,3.4965075614664802,3.8918202981106265,3.3672958299864737,3.295836866004329,3.7612001156935624,3.6375861597263857,3.8066624897703196,3.526360524616161,3.2188758248682006,3.2580965380214817,3.4657359027997265,3.3672958299864737,3.4965075614664802,3.4339872044851463,3.2188758248682006,3.2188758248682006,3.1780538303479453,3.8066624897703196,3.2188758248682006,3.4965075614664802,3.4011973816621555,3.3672958299864737,3.1780538303479453,3.295836866004329,3.1780538303479453,3.2580965380214817,3.7612001156935624,4.110873864173311,3.6375861597263857,4.060443010546419,3.6635616461296463,3.8501476017100584,3.332204510175204,3.1354942159291497,3.3672958299864737,3.7612001156935624,3.58351893845611,3.526360524616161,3.526360524616161,3.2580965380214817,4.025351690735149,3.4011973816621555,3.2580965380214817,3.295836866004329,3.737669618283368,3.4339872044851463,3.5553480614894135,4.127134385045092,3.4657359027997265,3.58351893845611,3.4011973816621555,3.1354942159291497,3.1780538303479453,3.3672958299864737,3.526360524616161,3.295836866004329,3.8712010109078907,3.7612001156935624,3.044522437723423,3.4011973816621555,3.332204510175204,3.6635616461296463,3.2188758248682006,3.332204510175204,3.5553480614894135,3.295836866004329,3.1780538303479453,3.2188758248682006,3.988984046564274,3.4657359027997265,3.3672958299864737,3.526360524616161,3.7612001156935624,3.1780538303479453,3.4657359027997265,3.5553480614894135,3.784189633918261,3.2188758248682006,3.5553480614894135,3.1354942159291497,3.3672958299864737,3.4011973816621555,3.332204510175204,3.4657359027997265,3.2188758248682006,3.6375861597263857,3.6109179126442243,3.4657359027997265,3.1780538303479453,3.332204510175204,3.4339872044851463,3.526360524616161,3.044522437723423,3.8712010109078907,4.110873864173311,3.044522437723423,3.7135720667043075,3.4965075614664802,3.1780538303479453,3.6109179126442243,3.4657359027997265,3.4339872044851463,3.5553480614894135,3.3672958299864737,3.9318256327243257,3.1354942159291497,3.8918202981106265,3.1354942159291497,3.0910424533583156,3.4965075614664802,3.6635616461296463,4.189654742026425,3.4011973816621555,3.8066624897703196,2.995732273553991,3.2580965380214817,3.295836866004329,3.332204510175204,3.7135720667043075,3.332204510175204,3.295836866004329,3.6635616461296463,3.7135720667043075,3.6375861597263857,3.828641396489095,3.7612001156935624,3.737669618283368,3.1780538303479453,3.784189633918261,3.737669618283368,3.2188758248682006,3.4011973816621555,3.8501476017100584,3.2188758248682006,3.2580965380214817,3.58351893845611,3.332204510175204,3.5553480614894135,3.2188758248682006,3.2188758248682006,3.0910424533583156,3.2580965380214817,4.0943445622221,3.0910424533583156,3.1780538303479453,3.295836866004329,3.6375861597263857,3.1780538303479453,4.025351690735149,3.4965075614664802,3.6888794541139363,3.58351893845611,3.2188758248682006,3.4339872044851463,3.4657359027997265,3.2580965380214817,3.2580965380214817,3.2580965380214817,3.1780538303479453,3.9318256327243257,3.332204510175204,3.6888794541139363,3.951243718581427,3.2188758248682006,3.295836866004329,3.2188758248682006,4.007333185232471,3.8501476017100584,3.295836866004329,3.737669618283368,3.526360524616161,3.6109179126442243,3.8712010109078907,3.1780538303479453,3.4011973816621555,3.2580965380214817,3.8918202981106265,3.4011973816621555,3.1780538303479453,4.23410650459726,4.060443010546419,3.526360524616161,3.4965075614664802,3.4011973816621555,3.3672958299864737,3.58351893845611,3.2580965380214817,3.332204510175204,3.784189633918261,3.988984046564274,3.1780538303479453,3.7612001156935624,3.784189633918261,3.2580965380214817,3.4657359027997265,3.4965075614664802,4.23410650459726,3.526360524616161,3.6888794541139363,3.1354942159291497,4.025351690735149,3.8501476017100584,3.6888794541139363,3.1354942159291497,3.4339872044851463,3.3672958299864737,3.7612001156935624,3.4339872044851463,3.784189633918261,3.4657359027997265,3.2188758248682006,3.3672958299864737,3.295836866004329,3.828641396489095,3.58351893845611,3.1780538303479453,3.4011973816621555,3.6109179126442243,3.8712010109078907,3.2580965380214817,3.912023005428146,3.526360524616161,3.295836866004329,3.1780538303479453],\"type\":\"box\",\"xaxis\":\"x5\",\"yaxis\":\"y5\"},{\"y\":[4.219507705176107,3.1354942159291497,3.912023005428146,3.828641396489095,3.988984046564274,3.58351893845611,3.988984046564274,3.58351893845611,4.127134385045092,3.3672958299864737,3.2580965380214817,3.2188758248682006,3.1354942159291497,4.110873864173311,3.3672958299864737,3.4965075614664802,3.988984046564274,3.2580965380214817,3.8066624897703196,3.4657359027997265,3.8918202981106265,3.8066624897703196,3.8918202981106265,3.8066624897703196,3.295836866004329,3.6109179126442243,3.6888794541139363,3.7612001156935624,3.5553480614894135,4.1588830833596715,3.6109179126442243,3.332204510175204,3.4339872044851463,4.060443010546419,3.526360524616161,3.2580965380214817,3.4657359027997265,3.6375861597263857,3.6375861597263857,3.2188758248682006,3.4339872044851463,3.295836866004329,3.8066624897703196,3.2188758248682006,4.07753744390572,3.58351893845611,3.6888794541139363,3.1780538303479453,3.6888794541139363,3.3672958299864737,3.4011973816621555,3.4339872044851463,3.2580965380214817,3.4657359027997265,4.060443010546419,3.295836866004329,3.9702919135521215,3.4657359027997265,3.1780538303479453,3.1780538303479453,3.332204510175204,3.9318256327243257,4.127134385045092,3.2580965380214817,3.295836866004329,3.8918202981106265,3.4011973816621555,3.1354942159291497,3.6375861597263857,3.2580965380214817,3.4339872044851463,3.8501476017100584,3.951243718581427,3.737669618283368,3.7135720667043075,4.204692619390966,3.5553480614894135,3.951243718581427,3.6888794541139363,3.1354942159291497,3.8066624897703196,3.8712010109078907,3.2188758248682006,4.07753744390572,3.9702919135521215,3.4011973816621555,3.332204510175204,3.8712010109078907,3.4339872044851463,3.3672958299864737,4.04305126783455,4.007333185232471,3.526360524616161,3.044522437723423,4.007333185232471,4.07753744390572,4.127134385045092,3.5553480614894135,3.6109179126442243,3.6109179126442243,3.737669618283368,3.2188758248682006,3.2188758248682006,3.58351893845611,3.295836866004329,3.6888794541139363,3.6888794541139363,3.4965075614664802,3.4339872044851463,3.58351893845611,3.4657359027997265,3.1780538303479453,3.3672958299864737,3.2580965380214817,3.58351893845611,3.8712010109078907,3.4339872044851463,3.332204510175204,3.1780538303479453,3.6109179126442243,3.2580965380214817,3.737669618283368,3.2188758248682006,4.1588830833596715,3.332204510175204,3.4339872044851463,3.7135720667043075,3.4339872044851463,3.5553480614894135,3.4011973816621555,3.2188758248682006,3.4011973816621555,3.332204510175204,3.8712010109078907,3.0910424533583156,3.6635616461296463,3.332204510175204,4.204692619390966,3.58351893845611,3.8066624897703196,3.332204510175204,3.4339872044851463,3.332204510175204,3.1354942159291497,3.1780538303479453,3.4339872044851463,3.6888794541139363,3.951243718581427,3.3672958299864737,3.8501476017100584,3.7612001156935624,3.6635616461296463,3.2188758248682006,3.4011973816621555,3.6109179126442243,3.044522437723423,3.8918202981106265,3.828641396489095,3.6635616461296463,3.5553480614894135,3.6109179126442243,3.4339872044851463,3.6109179126442243,4.2626798770413155,3.6109179126442243,3.4965075614664802,3.526360524616161,3.044522437723423,3.2580965380214817,3.4657359027997265,3.526360524616161,3.295836866004329,3.5553480614894135,3.526360524616161,3.295836866004329,3.988984046564274,3.7612001156935624,3.9702919135521215,3.4657359027997265,4.189654742026425,3.3672958299864737,3.4339872044851463,3.7135720667043075,3.9318256327243257,3.6109179126442243,3.4657359027997265,4.31748811353631,4.23410650459726,3.044522437723423,3.526360524616161,4.007333185232471,3.5553480614894135,3.6109179126442243,3.4011973816621555,3.0910424533583156,3.5553480614894135,3.3672958299864737,3.332204510175204,3.6109179126442243,3.7135720667043075,3.9702919135521215,3.332204510175204,3.295836866004329,3.0910424533583156,3.6635616461296463,3.6635616461296463,3.784189633918261,3.295836866004329,3.0910424533583156,4.025351690735149,3.526360524616161,3.828641396489095,3.9318256327243257,4.204692619390966,3.951243718581427,3.6888794541139363,3.4657359027997265,3.1780538303479453,3.2188758248682006,4.174387269895637,3.295836866004329,3.1780538303479453,3.4339872044851463,3.4965075614664802,3.4339872044851463,3.332204510175204,3.332204510175204,3.988984046564274,3.1354942159291497,3.1354942159291497,3.295836866004329,3.951243718581427,3.58351893845611,3.2580965380214817,3.7612001156935624,3.4339872044851463,3.1780538303479453,4.127134385045092,3.58351893845611,3.6888794541139363,3.4011973816621555,3.951243718581427,3.2188758248682006,3.332204510175204,3.58351893845611,3.2580965380214817,3.9702919135521215,3.58351893845611,3.295836866004329,3.1354942159291497,3.6888794541139363,3.8501476017100584,3.2188758248682006,3.58351893845611,3.2188758248682006,3.332204510175204,3.58351893845611,3.4011973816621555,3.1780538303479453,4.060443010546419,3.332204510175204,4.025351690735149,3.6109179126442243,4.060443010546419,3.4965075614664802,3.6375861597263857,3.6109179126442243,3.6635616461296463,3.828641396489095,3.2580965380214817,3.4965075614664802,3.6375861597263857,3.6109179126442243,3.3672958299864737,3.5553480614894135,3.4965075614664802,3.295836866004329,3.912023005428146,3.4965075614664802,3.4011973816621555,3.1780538303479453,3.9318256327243257,3.912023005428146,4.1588830833596715,3.6375861597263857,3.58351893845611,3.295836866004329,3.4657359027997265,3.912023005428146,3.8918202981106265,3.295836866004329,3.3672958299864737,3.8066624897703196,4.04305126783455,3.8501476017100584,3.295836866004329,3.044522437723423,3.828641396489095,3.784189633918261,3.4965075614664802,4.007333185232471,3.7612001156935624,3.6375861597263857,3.912023005428146,3.8066624897703196,3.526360524616161,3.2188758248682006,3.526360524616161,3.2188758248682006,3.1354942159291497,3.7135720667043075,3.2580965380214817,3.295836866004329,3.2580965380214817,3.4011973816621555,3.4657359027997265,3.6635616461296463,3.8918202981106265,3.4965075614664802,3.332204510175204,3.3672958299864737,3.4965075614664802,3.5553480614894135,3.3672958299864737,3.6109179126442243,3.6888794541139363,3.912023005428146,3.5553480614894135,3.4657359027997265,3.3672958299864737,4.330733340286331,3.4339872044851463,3.2188758248682006,3.2188758248682006,3.1780538303479453,3.8066624897703196,3.1780538303479453,3.2188758248682006,3.3672958299864737,3.4657359027997265,3.2188758248682006,3.295836866004329,3.2580965380214817,3.526360524616161,3.6375861597263857,3.784189633918261,3.1780538303479453,3.1780538303479453,3.5553480614894135,3.4965075614664802,3.1780538303479453,3.4011973816621555,3.6635616461296463,3.3672958299864737,3.8501476017100584,3.1780538303479453,3.912023005428146,3.295836866004329,3.3672958299864737,3.1780538303479453,4.127134385045092,3.6375861597263857,3.6109179126442243,3.0910424533583156,3.2580965380214817,3.6109179126442243,3.332204510175204,3.1354942159291497,3.7612001156935624,3.7135720667043075,3.6109179126442243,3.526360524616161,3.1780538303479453,4.1588830833596715,4.110873864173311,3.6375861597263857,3.5553480614894135,3.6109179126442243,4.060443010546419,3.9702919135521215,3.6888794541139363,3.6635616461296463,3.2580965380214817,3.295836866004329,3.295836866004329,3.2580965380214817,3.0910424533583156,3.7135720667043075,3.332204510175204,3.332204510175204,3.4339872044851463,2.995732273553991,3.6888794541139363,3.4657359027997265,3.4657359027997265,3.4965075614664802,4.025351690735149,3.8501476017100584,3.8501476017100584,3.784189633918261,3.6888794541139363,3.3672958299864737,3.332204510175204,3.332204510175204,3.784189633918261,3.1354942159291497,3.784189633918261,3.332204510175204,3.295836866004329,3.3672958299864737,3.044522437723423,3.58351893845611,3.7612001156935624,3.7135720667043075,3.58351893845611,3.58351893845611,3.526360524616161,3.1780538303479453,3.4657359027997265,3.526360524616161,3.044522437723423,3.4339872044851463,3.8712010109078907,3.5553480614894135,3.2580965380214817,3.0910424533583156,3.4011973816621555,3.8501476017100584,3.044522437723423,4.025351690735149,4.31748811353631,3.4011973816621555,3.6109179126442243,3.526360524616161,3.2580965380214817,3.2580965380214817,3.1780538303479453,3.6375861597263857,4.189654742026425,3.295836866004329,3.6888794541139363,3.4339872044851463,3.4011973816621555,3.737669618283368,3.4339872044851463,3.737669618283368,3.5553480614894135,3.58351893845611,4.025351690735149,4.127134385045092,3.4339872044851463,3.4011973816621555,3.5553480614894135,3.58351893845611,3.4657359027997265,3.4011973816621555,3.6109179126442243,3.58351893845611,3.332204510175204,3.4965075614664802,3.6375861597263857,3.6109179126442243,3.5553480614894135,3.6635616461296463,3.5553480614894135,4.1588830833596715,3.4011973816621555,3.4965075614664802,3.295836866004329,3.58351893845611,3.1354942159291497,3.1780538303479453,3.3672958299864737,3.6109179126442243,3.526360524616161,3.295836866004329,3.2188758248682006,3.2580965380214817,3.6888794541139363,3.8066624897703196,3.1780538303479453,3.295836866004329,4.060443010546419,3.4339872044851463,3.8066624897703196,3.8712010109078907,3.9702919135521215,4.143134726391533,3.58351893845611,3.295836866004329,3.295836866004329,3.7612001156935624,3.332204510175204,3.6635616461296463,3.6888794541139363,3.044522437723423,3.4011973816621555,3.7135720667043075,3.4965075614664802,3.3672958299864737,3.332204510175204,3.7612001156935624,3.912023005428146,3.6635616461296463,3.2188758248682006,3.332204510175204,3.6109179126442243,3.5553480614894135,3.3672958299864737,3.828641396489095,3.295836866004329,3.4965075614664802,3.295836866004329,3.044522437723423,4.007333185232471,3.6375861597263857,3.7135720667043075,3.1780538303479453,3.784189633918261,3.6109179126442243,3.8066624897703196,3.2188758248682006,3.988984046564274,3.1780538303479453,3.295836866004329,3.4339872044851463,3.4657359027997265,3.7612001156935624,3.4657359027997265,3.737669618283368,3.4965075614664802,3.3672958299864737,3.737669618283368,3.295836866004329,3.2580965380214817,3.526360524616161,4.330733340286331,3.6375861597263857,3.7612001156935624,3.828641396489095,3.1780538303479453,4.110873864173311,3.4657359027997265,3.5553480614894135,4.127134385045092,3.784189633918261,3.6375861597263857,3.4965075614664802,3.2188758248682006,3.58351893845611,3.1780538303479453,3.828641396489095,3.5553480614894135,3.332204510175204,4.219507705176107,3.1354942159291497,3.3672958299864737,3.4011973816621555,3.332204510175204,3.4657359027997265,3.912023005428146,3.2188758248682006,3.4011973816621555,3.6375861597263857,3.6375861597263857,3.1780538303479453,3.6109179126442243,3.5553480614894135,3.737669618283368,3.4657359027997265,3.1780538303479453,3.6635616461296463,3.295836866004329,3.1354942159291497,3.332204510175204,3.2188758248682006,3.332204510175204,3.526360524616161,3.332204510175204,3.332204510175204,3.4339872044851463,3.912023005428146,3.295836866004329,3.526360524616161,3.9702919135521215,3.044522437723423,3.6109179126442243,3.0910424533583156,3.8712010109078907,4.110873864173311,4.07753744390572,3.7612001156935624,3.6109179126442243,3.044522437723423,3.7135720667043075,3.4965075614664802,3.1780538303479453,3.6109179126442243,3.4657359027997265,3.4965075614664802,3.828641396489095,3.4339872044851463,3.5553480614894135,3.3672958299864737,3.1780538303479453,3.1354942159291497,4.31748811353631,3.9318256327243257,3.526360524616161,3.828641396489095,3.1354942159291497,3.8918202981106265,3.4011973816621555,3.1354942159291497,3.1354942159291497,3.8918202981106265,3.332204510175204,3.6375861597263857,3.0910424533583156,3.912023005428146,3.332204510175204,3.4965075614664802,3.6635616461296463,3.1354942159291497,4.189654742026425,3.58351893845611,3.737669618283368,3.4011973816621555,3.6109179126442243,4.174387269895637,3.3672958299864737,3.8066624897703196,3.1780538303479453,2.995732273553991,3.2580965380214817,3.8712010109078907,3.3672958299864737,3.0910424533583156,3.5553480614894135,3.295836866004329,3.332204510175204,3.6635616461296463,3.7135720667043075,3.526360524616161,3.4965075614664802,3.332204510175204,3.4965075614664802,3.295836866004329,3.6635616461296463,3.7135720667043075,3.9318256327243257,3.6375861597263857,3.828641396489095,3.7612001156935624,3.58351893845611,3.1354942159291497,3.737669618283368,3.6375861597263857,3.3672958299864737,3.737669618283368,3.1780538303479453,3.1780538303479453,3.9318256327243257,3.58351893845611,3.9318256327243257,3.332204510175204,3.5553480614894135,3.332204510175204,3.784189633918261,3.8712010109078907,3.332204510175204,3.4657359027997265,3.7612001156935624,3.2188758248682006,3.737669618283368,3.295836866004329,3.526360524616161,3.2188758248682006,4.174387269895637,3.295836866004329,4.04305126783455,3.6375861597263857,3.526360524616161,3.8712010109078907,3.4657359027997265,3.5553480614894135,3.332204510175204,3.4339872044851463,3.58351893845611,3.4657359027997265,3.2580965380214817,3.2580965380214817,3.4011973816621555,3.8066624897703196,3.3672958299864737,3.9318256327243257,3.4011973816621555,3.6635616461296463,3.2188758248682006,3.7135720667043075,3.4011973816621555,3.8501476017100584,3.8712010109078907,3.737669618283368,3.4965075614664802,3.58351893845611,3.2188758248682006,3.2580965380214817,3.2580965380214817,3.6375861597263857,3.4965075614664802,3.58351893845611,3.8501476017100584,3.2580965380214817,3.332204510175204,4.1588830833596715,3.7135720667043075,3.4965075614664802,3.4657359027997265,3.4657359027997265,3.5553480614894135,3.2188758248682006,3.2188758248682006,4.204692619390966,3.0910424533583156,3.737669618283368,3.8712010109078907,3.2580965380214817,4.0943445622221,3.6109179126442243,3.526360524616161,3.0910424533583156,3.8066624897703196,3.3672958299864737,3.6375861597263857,3.4011973816621555,3.1780538303479453,3.58351893845611,3.828641396489095,3.295836866004329,3.4965075614664802,3.1780538303479453,3.737669618283368,3.1354942159291497,3.4339872044851463,3.3672958299864737,3.1780538303479453,3.6375861597263857,3.295836866004329,3.526360524616161,3.912023005428146,3.1780538303479453,3.1780538303479453,3.2580965380214817,4.025351690735149,3.4965075614664802,4.31748811353631,3.6888794541139363,3.4657359027997265,3.58351893845611,4.0943445622221,3.2188758248682006,3.2188758248682006,3.4339872044851463,3.332204510175204,3.7135720667043075,3.4657359027997265,3.4657359027997265,3.3672958299864737,4.1588830833596715,3.295836866004329,3.2580965380214817,3.6109179126442243,3.9702919135521215,4.204692619390966,3.2580965380214817,3.6375861597263857,3.2580965380214817,3.6635616461296463,4.219507705176107,3.2580965380214817,4.110873864173311,3.4657359027997265,3.1780538303479453,4.110873864173311,3.58351893845611,3.7135720667043075,3.6635616461296463,3.9318256327243257,3.332204510175204,3.6888794541139363,3.737669618283368,3.332204510175204,3.951243718581427,3.4965075614664802,3.1354942159291497,3.951243718581427,3.1354942159291497,4.007333185232471,3.58351893845611,4.007333185232471,3.8918202981106265,3.2188758248682006,3.58351893845611,3.2188758248682006,3.2188758248682006,3.295836866004329,4.189654742026425,4.025351690735149,3.295836866004329,3.295836866004329,3.3672958299864737,3.2188758248682006,4.007333185232471,3.8501476017100584,4.007333185232471,4.143134726391533,3.2188758248682006,3.784189633918261,3.295836866004329,3.332204510175204,3.2188758248682006,3.737669618283368,3.8712010109078907,3.58351893845611,3.4339872044851463,3.526360524616161,3.6109179126442243,3.8712010109078907,3.6635616461296463,3.8066624897703196,3.1780538303479453,3.4011973816621555,3.7612001156935624,3.2580965380214817,3.8918202981106265,3.0910424533583156,3.1780538303479453,4.1588830833596715,3.8501476017100584,3.4011973816621555,3.3672958299864737,3.1780538303479453,3.9318256327243257,3.8712010109078907,3.58351893845611,4.23410650459726,3.3672958299864737,4.0943445622221,4.060443010546419,3.526360524616161,3.784189633918261,3.58351893845611,3.4965075614664802,3.828641396489095,3.526360524616161,3.7135720667043075,3.3672958299864737,3.4011973816621555,3.295836866004329,3.332204510175204,3.3672958299864737,3.58351893845611,3.4965075614664802,3.2580965380214817,3.044522437723423,3.332204510175204,3.7612001156935624,3.6375861597263857,3.2188758248682006,3.7135720667043075,3.8501476017100584,3.295836866004329,3.2188758248682006,3.4011973816621555,3.7135720667043075,3.6109179126442243,3.3672958299864737,3.332204510175204,3.6109179126442243,3.6635616461296463,3.8918202981106265,3.6109179126442243,4.189654742026425,3.784189633918261,3.988984046564274,3.5553480614894135,3.1780538303479453,3.5553480614894135,3.7135720667043075,3.784189633918261,3.8501476017100584,3.6635616461296463,3.5553480614894135,3.4011973816621555,3.4657359027997265,3.3672958299864737,3.58351893845611,3.526360524616161,3.7612001156935624,3.784189633918261,3.8066624897703196,3.7612001156935624,3.7135720667043075,3.6109179126442243,3.044522437723423,3.2188758248682006,3.332204510175204,3.8501476017100584,3.526360524616161,3.5553480614894135,3.2580965380214817,3.2580965380214817,3.3672958299864737,3.4657359027997265,3.4965075614664802,3.4965075614664802,4.23410650459726,3.526360524616161,3.6888794541139363,3.3672958299864737,3.6375861597263857,3.1354942159291497,3.4339872044851463,4.025351690735149,3.8501476017100584,3.0910424533583156,3.6888794541139363,4.07753744390572,3.784189633918261,3.2188758248682006,3.1354942159291497,3.4339872044851463,3.7612001156935624,3.1780538303479453,3.4339872044851463,3.3672958299864737,3.4339872044851463,3.7612001156935624,3.8501476017100584,3.828641396489095,3.4657359027997265,3.4657359027997265,3.7612001156935624,3.8501476017100584,3.4339872044851463,3.4339872044851463,3.6635616461296463,3.784189633918261,3.4657359027997265,3.7135720667043075,3.2188758248682006,3.3672958299864737,3.295836866004329,3.4011973816621555,4.060443010546419,3.912023005428146,3.6375861597263857,3.828641396489095,3.4339872044851463,3.4339872044851463,3.8712010109078907,3.4011973816621555,3.58351893845611,3.1354942159291497,3.295836866004329,3.1780538303479453,4.007333185232471,3.4011973816621555,3.7135720667043075,3.1354942159291497,3.784189633918261,3.4011973816621555,3.6109179126442243,3.526360524616161,4.060443010546419,4.174387269895637,3.7612001156935624,3.8712010109078907,3.2580965380214817,3.912023005428146,3.526360524616161,3.3672958299864737,3.295836866004329,3.4339872044851463,3.2580965380214817,3.526360524616161,4.174387269895637,3.4011973816621555,3.8918202981106265,3.6375861597263857,3.5553480614894135,3.1780538303479453,3.4339872044851463,3.9318256327243257,3.4657359027997265,3.7135720667043075,3.6635616461296463,3.1780538303479453,3.332204510175204],\"type\":\"box\",\"xaxis\":\"x6\",\"yaxis\":\"y6\"}],                        {\"template\":{\"data\":{\"barpolar\":[{\"marker\":{\"line\":{\"color\":\"white\",\"width\":0.5},\"pattern\":{\"fillmode\":\"overlay\",\"size\":10,\"solidity\":0.2}},\"type\":\"barpolar\"}],\"bar\":[{\"error_x\":{\"color\":\"rgb(36,36,36)\"},\"error_y\":{\"color\":\"rgb(36,36,36)\"},\"marker\":{\"line\":{\"color\":\"white\",\"width\":0.5},\"pattern\":{\"fillmode\":\"overlay\",\"size\":10,\"solidity\":0.2}},\"type\":\"bar\"}],\"carpet\":[{\"aaxis\":{\"endlinecolor\":\"rgb(36,36,36)\",\"gridcolor\":\"white\",\"linecolor\":\"white\",\"minorgridcolor\":\"white\",\"startlinecolor\":\"rgb(36,36,36)\"},\"baxis\":{\"endlinecolor\":\"rgb(36,36,36)\",\"gridcolor\":\"white\",\"linecolor\":\"white\",\"minorgridcolor\":\"white\",\"startlinecolor\":\"rgb(36,36,36)\"},\"type\":\"carpet\"}],\"choropleth\":[{\"colorbar\":{\"outlinewidth\":1,\"tickcolor\":\"rgb(36,36,36)\",\"ticks\":\"outside\"},\"type\":\"choropleth\"}],\"contourcarpet\":[{\"colorbar\":{\"outlinewidth\":1,\"tickcolor\":\"rgb(36,36,36)\",\"ticks\":\"outside\"},\"type\":\"contourcarpet\"}],\"contour\":[{\"colorbar\":{\"outlinewidth\":1,\"tickcolor\":\"rgb(36,36,36)\",\"ticks\":\"outside\"},\"colorscale\":[[0.0,\"#440154\"],[0.1111111111111111,\"#482878\"],[0.2222222222222222,\"#3e4989\"],[0.3333333333333333,\"#31688e\"],[0.4444444444444444,\"#26828e\"],[0.5555555555555556,\"#1f9e89\"],[0.6666666666666666,\"#35b779\"],[0.7777777777777778,\"#6ece58\"],[0.8888888888888888,\"#b5de2b\"],[1.0,\"#fde725\"]],\"type\":\"contour\"}],\"heatmapgl\":[{\"colorbar\":{\"outlinewidth\":1,\"tickcolor\":\"rgb(36,36,36)\",\"ticks\":\"outside\"},\"colorscale\":[[0.0,\"#440154\"],[0.1111111111111111,\"#482878\"],[0.2222222222222222,\"#3e4989\"],[0.3333333333333333,\"#31688e\"],[0.4444444444444444,\"#26828e\"],[0.5555555555555556,\"#1f9e89\"],[0.6666666666666666,\"#35b779\"],[0.7777777777777778,\"#6ece58\"],[0.8888888888888888,\"#b5de2b\"],[1.0,\"#fde725\"]],\"type\":\"heatmapgl\"}],\"heatmap\":[{\"colorbar\":{\"outlinewidth\":1,\"tickcolor\":\"rgb(36,36,36)\",\"ticks\":\"outside\"},\"colorscale\":[[0.0,\"#440154\"],[0.1111111111111111,\"#482878\"],[0.2222222222222222,\"#3e4989\"],[0.3333333333333333,\"#31688e\"],[0.4444444444444444,\"#26828e\"],[0.5555555555555556,\"#1f9e89\"],[0.6666666666666666,\"#35b779\"],[0.7777777777777778,\"#6ece58\"],[0.8888888888888888,\"#b5de2b\"],[1.0,\"#fde725\"]],\"type\":\"heatmap\"}],\"histogram2dcontour\":[{\"colorbar\":{\"outlinewidth\":1,\"tickcolor\":\"rgb(36,36,36)\",\"ticks\":\"outside\"},\"colorscale\":[[0.0,\"#440154\"],[0.1111111111111111,\"#482878\"],[0.2222222222222222,\"#3e4989\"],[0.3333333333333333,\"#31688e\"],[0.4444444444444444,\"#26828e\"],[0.5555555555555556,\"#1f9e89\"],[0.6666666666666666,\"#35b779\"],[0.7777777777777778,\"#6ece58\"],[0.8888888888888888,\"#b5de2b\"],[1.0,\"#fde725\"]],\"type\":\"histogram2dcontour\"}],\"histogram2d\":[{\"colorbar\":{\"outlinewidth\":1,\"tickcolor\":\"rgb(36,36,36)\",\"ticks\":\"outside\"},\"colorscale\":[[0.0,\"#440154\"],[0.1111111111111111,\"#482878\"],[0.2222222222222222,\"#3e4989\"],[0.3333333333333333,\"#31688e\"],[0.4444444444444444,\"#26828e\"],[0.5555555555555556,\"#1f9e89\"],[0.6666666666666666,\"#35b779\"],[0.7777777777777778,\"#6ece58\"],[0.8888888888888888,\"#b5de2b\"],[1.0,\"#fde725\"]],\"type\":\"histogram2d\"}],\"histogram\":[{\"marker\":{\"line\":{\"color\":\"white\",\"width\":0.6}},\"type\":\"histogram\"}],\"mesh3d\":[{\"colorbar\":{\"outlinewidth\":1,\"tickcolor\":\"rgb(36,36,36)\",\"ticks\":\"outside\"},\"type\":\"mesh3d\"}],\"parcoords\":[{\"line\":{\"colorbar\":{\"outlinewidth\":1,\"tickcolor\":\"rgb(36,36,36)\",\"ticks\":\"outside\"}},\"type\":\"parcoords\"}],\"pie\":[{\"automargin\":true,\"type\":\"pie\"}],\"scatter3d\":[{\"line\":{\"colorbar\":{\"outlinewidth\":1,\"tickcolor\":\"rgb(36,36,36)\",\"ticks\":\"outside\"}},\"marker\":{\"colorbar\":{\"outlinewidth\":1,\"tickcolor\":\"rgb(36,36,36)\",\"ticks\":\"outside\"}},\"type\":\"scatter3d\"}],\"scattercarpet\":[{\"marker\":{\"colorbar\":{\"outlinewidth\":1,\"tickcolor\":\"rgb(36,36,36)\",\"ticks\":\"outside\"}},\"type\":\"scattercarpet\"}],\"scattergeo\":[{\"marker\":{\"colorbar\":{\"outlinewidth\":1,\"tickcolor\":\"rgb(36,36,36)\",\"ticks\":\"outside\"}},\"type\":\"scattergeo\"}],\"scattergl\":[{\"marker\":{\"colorbar\":{\"outlinewidth\":1,\"tickcolor\":\"rgb(36,36,36)\",\"ticks\":\"outside\"}},\"type\":\"scattergl\"}],\"scattermapbox\":[{\"marker\":{\"colorbar\":{\"outlinewidth\":1,\"tickcolor\":\"rgb(36,36,36)\",\"ticks\":\"outside\"}},\"type\":\"scattermapbox\"}],\"scatterpolargl\":[{\"marker\":{\"colorbar\":{\"outlinewidth\":1,\"tickcolor\":\"rgb(36,36,36)\",\"ticks\":\"outside\"}},\"type\":\"scatterpolargl\"}],\"scatterpolar\":[{\"marker\":{\"colorbar\":{\"outlinewidth\":1,\"tickcolor\":\"rgb(36,36,36)\",\"ticks\":\"outside\"}},\"type\":\"scatterpolar\"}],\"scatter\":[{\"fillpattern\":{\"fillmode\":\"overlay\",\"size\":10,\"solidity\":0.2},\"type\":\"scatter\"}],\"scatterternary\":[{\"marker\":{\"colorbar\":{\"outlinewidth\":1,\"tickcolor\":\"rgb(36,36,36)\",\"ticks\":\"outside\"}},\"type\":\"scatterternary\"}],\"surface\":[{\"colorbar\":{\"outlinewidth\":1,\"tickcolor\":\"rgb(36,36,36)\",\"ticks\":\"outside\"},\"colorscale\":[[0.0,\"#440154\"],[0.1111111111111111,\"#482878\"],[0.2222222222222222,\"#3e4989\"],[0.3333333333333333,\"#31688e\"],[0.4444444444444444,\"#26828e\"],[0.5555555555555556,\"#1f9e89\"],[0.6666666666666666,\"#35b779\"],[0.7777777777777778,\"#6ece58\"],[0.8888888888888888,\"#b5de2b\"],[1.0,\"#fde725\"]],\"type\":\"surface\"}],\"table\":[{\"cells\":{\"fill\":{\"color\":\"rgb(237,237,237)\"},\"line\":{\"color\":\"white\"}},\"header\":{\"fill\":{\"color\":\"rgb(217,217,217)\"},\"line\":{\"color\":\"white\"}},\"type\":\"table\"}]},\"layout\":{\"annotationdefaults\":{\"arrowhead\":0,\"arrowwidth\":1},\"autotypenumbers\":\"strict\",\"coloraxis\":{\"colorbar\":{\"outlinewidth\":1,\"tickcolor\":\"rgb(36,36,36)\",\"ticks\":\"outside\"}},\"colorscale\":{\"diverging\":[[0.0,\"rgb(103,0,31)\"],[0.1,\"rgb(178,24,43)\"],[0.2,\"rgb(214,96,77)\"],[0.3,\"rgb(244,165,130)\"],[0.4,\"rgb(253,219,199)\"],[0.5,\"rgb(247,247,247)\"],[0.6,\"rgb(209,229,240)\"],[0.7,\"rgb(146,197,222)\"],[0.8,\"rgb(67,147,195)\"],[0.9,\"rgb(33,102,172)\"],[1.0,\"rgb(5,48,97)\"]],\"sequential\":[[0.0,\"#440154\"],[0.1111111111111111,\"#482878\"],[0.2222222222222222,\"#3e4989\"],[0.3333333333333333,\"#31688e\"],[0.4444444444444444,\"#26828e\"],[0.5555555555555556,\"#1f9e89\"],[0.6666666666666666,\"#35b779\"],[0.7777777777777778,\"#6ece58\"],[0.8888888888888888,\"#b5de2b\"],[1.0,\"#fde725\"]],\"sequentialminus\":[[0.0,\"#440154\"],[0.1111111111111111,\"#482878\"],[0.2222222222222222,\"#3e4989\"],[0.3333333333333333,\"#31688e\"],[0.4444444444444444,\"#26828e\"],[0.5555555555555556,\"#1f9e89\"],[0.6666666666666666,\"#35b779\"],[0.7777777777777778,\"#6ece58\"],[0.8888888888888888,\"#b5de2b\"],[1.0,\"#fde725\"]]},\"colorway\":[\"#1F77B4\",\"#FF7F0E\",\"#2CA02C\",\"#D62728\",\"#9467BD\",\"#8C564B\",\"#E377C2\",\"#7F7F7F\",\"#BCBD22\",\"#17BECF\"],\"font\":{\"color\":\"rgb(36,36,36)\"},\"geo\":{\"bgcolor\":\"white\",\"lakecolor\":\"white\",\"landcolor\":\"white\",\"showlakes\":true,\"showland\":true,\"subunitcolor\":\"white\"},\"hoverlabel\":{\"align\":\"left\"},\"hovermode\":\"closest\",\"mapbox\":{\"style\":\"light\"},\"paper_bgcolor\":\"white\",\"plot_bgcolor\":\"white\",\"polar\":{\"angularaxis\":{\"gridcolor\":\"rgb(232,232,232)\",\"linecolor\":\"rgb(36,36,36)\",\"showgrid\":false,\"showline\":true,\"ticks\":\"outside\"},\"bgcolor\":\"white\",\"radialaxis\":{\"gridcolor\":\"rgb(232,232,232)\",\"linecolor\":\"rgb(36,36,36)\",\"showgrid\":false,\"showline\":true,\"ticks\":\"outside\"}},\"scene\":{\"xaxis\":{\"backgroundcolor\":\"white\",\"gridcolor\":\"rgb(232,232,232)\",\"gridwidth\":2,\"linecolor\":\"rgb(36,36,36)\",\"showbackground\":true,\"showgrid\":false,\"showline\":true,\"ticks\":\"outside\",\"zeroline\":false,\"zerolinecolor\":\"rgb(36,36,36)\"},\"yaxis\":{\"backgroundcolor\":\"white\",\"gridcolor\":\"rgb(232,232,232)\",\"gridwidth\":2,\"linecolor\":\"rgb(36,36,36)\",\"showbackground\":true,\"showgrid\":false,\"showline\":true,\"ticks\":\"outside\",\"zeroline\":false,\"zerolinecolor\":\"rgb(36,36,36)\"},\"zaxis\":{\"backgroundcolor\":\"white\",\"gridcolor\":\"rgb(232,232,232)\",\"gridwidth\":2,\"linecolor\":\"rgb(36,36,36)\",\"showbackground\":true,\"showgrid\":false,\"showline\":true,\"ticks\":\"outside\",\"zeroline\":false,\"zerolinecolor\":\"rgb(36,36,36)\"}},\"shapedefaults\":{\"fillcolor\":\"black\",\"line\":{\"width\":0},\"opacity\":0.3},\"ternary\":{\"aaxis\":{\"gridcolor\":\"rgb(232,232,232)\",\"linecolor\":\"rgb(36,36,36)\",\"showgrid\":false,\"showline\":true,\"ticks\":\"outside\"},\"baxis\":{\"gridcolor\":\"rgb(232,232,232)\",\"linecolor\":\"rgb(36,36,36)\",\"showgrid\":false,\"showline\":true,\"ticks\":\"outside\"},\"bgcolor\":\"white\",\"caxis\":{\"gridcolor\":\"rgb(232,232,232)\",\"linecolor\":\"rgb(36,36,36)\",\"showgrid\":false,\"showline\":true,\"ticks\":\"outside\"}},\"title\":{\"x\":0.05},\"xaxis\":{\"automargin\":true,\"gridcolor\":\"rgb(232,232,232)\",\"linecolor\":\"rgb(36,36,36)\",\"showgrid\":false,\"showline\":true,\"ticks\":\"outside\",\"title\":{\"standoff\":15},\"zeroline\":false,\"zerolinecolor\":\"rgb(36,36,36)\"},\"yaxis\":{\"automargin\":true,\"gridcolor\":\"rgb(232,232,232)\",\"linecolor\":\"rgb(36,36,36)\",\"showgrid\":false,\"showline\":true,\"ticks\":\"outside\",\"title\":{\"standoff\":15},\"zeroline\":false,\"zerolinecolor\":\"rgb(36,36,36)\"}}},\"xaxis\":{\"anchor\":\"y\",\"domain\":[0.0,0.2888888888888889],\"matches\":\"x4\",\"showticklabels\":false},\"yaxis\":{\"anchor\":\"x\",\"domain\":[0.55,1.0]},\"xaxis2\":{\"anchor\":\"y2\",\"domain\":[0.35555555555555557,0.6444444444444445],\"matches\":\"x5\",\"showticklabels\":false},\"yaxis2\":{\"anchor\":\"x2\",\"domain\":[0.55,1.0]},\"xaxis3\":{\"anchor\":\"y3\",\"domain\":[0.7111111111111111,1.0],\"matches\":\"x6\",\"showticklabels\":false},\"yaxis3\":{\"anchor\":\"x3\",\"domain\":[0.55,1.0]},\"xaxis4\":{\"anchor\":\"y4\",\"domain\":[0.0,0.2888888888888889],\"showticklabels\":false},\"yaxis4\":{\"anchor\":\"x4\",\"domain\":[0.0,0.45]},\"xaxis5\":{\"anchor\":\"y5\",\"domain\":[0.35555555555555557,0.6444444444444445],\"showticklabels\":false},\"yaxis5\":{\"anchor\":\"x5\",\"domain\":[0.0,0.45]},\"xaxis6\":{\"anchor\":\"y6\",\"domain\":[0.7111111111111111,1.0],\"showticklabels\":false},\"yaxis6\":{\"anchor\":\"x6\",\"domain\":[0.0,0.45]},\"annotations\":[{\"font\":{\"size\":16},\"showarrow\":false,\"text\":\"Good\",\"x\":0.14444444444444446,\"xanchor\":\"center\",\"xref\":\"paper\",\"y\":1.0,\"yanchor\":\"bottom\",\"yref\":\"paper\"},{\"font\":{\"size\":16},\"showarrow\":false,\"text\":\"Bad\",\"x\":0.5,\"xanchor\":\"center\",\"xref\":\"paper\",\"y\":1.0,\"yanchor\":\"bottom\",\"yref\":\"paper\"},{\"font\":{\"size\":16},\"showarrow\":false,\"text\":\"General Distribuition\",\"x\":0.8555555555555556,\"xanchor\":\"center\",\"xref\":\"paper\",\"y\":1.0,\"yanchor\":\"bottom\",\"yref\":\"paper\"}],\"title\":{\"font\":{\"size\":18},\"text\":\"Age Distribuition\",\"x\":0.5},\"barmode\":\"group\",\"showlegend\":false,\"width\":1000},                        {\"responsive\": true}                    ).then(function(){\n",
       "                            \n",
       "var gd = document.getElementById('d0505732-6826-4ecc-837e-d106f8bbb146');\n",
       "var x = new MutationObserver(function (mutations, observer) {{\n",
       "        var display = window.getComputedStyle(gd).display;\n",
       "        if (!display || display === 'none') {{\n",
       "            console.log([gd, 'removed!']);\n",
       "            Plotly.purge(gd);\n",
       "            observer.disconnect();\n",
       "        }}\n",
       "}});\n",
       "\n",
       "// Listen for the removal of the full notebook cells\n",
       "var notebookContainer = gd.closest('#notebook-container');\n",
       "if (notebookContainer) {{\n",
       "    x.observe(notebookContainer, {childList: true});\n",
       "}}\n",
       "\n",
       "// Listen for the clearing of the current output cell\n",
       "var outputEl = gd.closest('.output');\n",
       "if (outputEl) {{\n",
       "    x.observe(outputEl, {childList: true});\n",
       "}}\n",
       "\n",
       "                        })                };                            </script>        </div>\n",
       "</body>\n",
       "</html>"
      ]
     },
     "metadata": {},
     "output_type": "display_data"
    }
   ],
   "source": [
    "log_df = logFunc(df[numeric.columns.to_list()])\n",
    "log_df['default'] = df['default']\n",
    "\n",
    "for col in numeric.columns.to_list():\n",
    "  plotDist(log_df, col)"
   ]
  },
  {
   "cell_type": "markdown",
   "metadata": {
    "id": "5yMY9Xkc8q6T"
   },
   "source": [
    "### Data wrangling"
   ]
  },
  {
   "cell_type": "code",
   "execution_count": null,
   "metadata": {
    "colab": {
     "base_uri": "https://localhost:8080/"
    },
    "id": "2KdbBFcZ6JQy",
    "outputId": "4be0464d-bc05-4679-d50f-16486ff59427"
   },
   "outputs": [
    {
     "name": "stdout",
     "output_type": "stream",
     "text": [
      "<class 'pandas.core.frame.DataFrame'>\n",
      "RangeIndex: 1000 entries, 0 to 999\n",
      "Data columns (total 17 columns):\n",
      " #   Column                Non-Null Count  Dtype   \n",
      "---  ------                --------------  -----   \n",
      " 0   months_loan_duration  1000 non-null   int64   \n",
      " 1   amount                1000 non-null   int64   \n",
      " 2   age                   1000 non-null   int64   \n",
      " 3   checking_balance      606 non-null    category\n",
      " 4   credit_history        1000 non-null   category\n",
      " 5   purpose               1000 non-null   category\n",
      " 6   savings_balance       817 non-null    category\n",
      " 7   employment_duration   1000 non-null   category\n",
      " 8   percent_of_income     1000 non-null   category\n",
      " 9   years_at_residence    1000 non-null   category\n",
      " 10  other_credit          186 non-null    category\n",
      " 11  housing               1000 non-null   category\n",
      " 12  existing_loans_count  1000 non-null   category\n",
      " 13  job                   1000 non-null   category\n",
      " 14  dependents            1000 non-null   category\n",
      " 15  phone                 1000 non-null   category\n",
      " 16  default               1000 non-null   category\n",
      "dtypes: category(14), int64(3)\n",
      "memory usage: 39.6 KB\n"
     ]
    }
   ],
   "source": [
    "# Define numeric and categorical features\n",
    "numeric = df[df.select_dtypes(exclude = [object]).describe().columns]\n",
    "categorical = df[df.select_dtypes([object]).describe().columns]\n",
    "\n",
    "# Transform categorical variables to type category\n",
    "categorical = categorical.astype('category')\n",
    "\n",
    "# Concat numeric and new categorical data\n",
    "df = pd.concat([numeric, categorical], axis = 1)\n",
    "\n",
    "# Check types\n",
    "df.info()"
   ]
  },
  {
   "cell_type": "code",
   "execution_count": null,
   "metadata": {
    "id": "jGTLcU4z6JUK"
   },
   "outputs": [],
   "source": [
    "# Domain - Check possible values for each feature"
   ]
  },
  {
   "cell_type": "code",
   "execution_count": null,
   "metadata": {
    "id": "jr-OTdzc3tl2"
   },
   "outputs": [],
   "source": [
    "# Drop\n",
    "df.drop(columns=['other_credit'], inplace=True)"
   ]
  },
  {
   "cell_type": "markdown",
   "metadata": {
    "id": "pqNYLRImOcWF"
   },
   "source": [
    "### Features Engeneering "
   ]
  },
  {
   "cell_type": "code",
   "execution_count": null,
   "metadata": {
    "colab": {
     "base_uri": "https://localhost:8080/"
    },
    "id": "fq5KkUpDLplz",
    "outputId": "2a67a244-e436-437b-daf6-78451cc2a586"
   },
   "outputs": [
    {
     "name": "stdout",
     "output_type": "stream",
     "text": [
      "Looking in indexes: https://pypi.org/simple, https://us-python.pkg.dev/colab-wheels/public/simple/\n",
      "Collecting feature_engine\n",
      "  Downloading feature_engine-1.6.0-py2.py3-none-any.whl (319 kB)\n",
      "\u001b[2K     \u001b[90m━━━━━━━━━━━━━━━━━━━━━━━━━━━━━━━━━━━━━━\u001b[0m \u001b[32m319.4/319.4 kB\u001b[0m \u001b[31m14.3 MB/s\u001b[0m eta \u001b[36m0:00:00\u001b[0m\n",
      "\u001b[?25hRequirement already satisfied: numpy>=1.18.2 in /usr/local/lib/python3.9/dist-packages (from feature_engine) (1.22.4)\n",
      "Requirement already satisfied: pandas>=1.0.3 in /usr/local/lib/python3.9/dist-packages (from feature_engine) (1.5.3)\n",
      "Requirement already satisfied: statsmodels>=0.11.1 in /usr/local/lib/python3.9/dist-packages (from feature_engine) (0.13.5)\n",
      "Requirement already satisfied: scipy>=1.4.1 in /usr/local/lib/python3.9/dist-packages (from feature_engine) (1.10.1)\n",
      "Requirement already satisfied: scikit-learn>=1.0.0 in /usr/local/lib/python3.9/dist-packages (from feature_engine) (1.2.2)\n",
      "Requirement already satisfied: python-dateutil>=2.8.1 in /usr/local/lib/python3.9/dist-packages (from pandas>=1.0.3->feature_engine) (2.8.2)\n",
      "Requirement already satisfied: pytz>=2020.1 in /usr/local/lib/python3.9/dist-packages (from pandas>=1.0.3->feature_engine) (2022.7.1)\n",
      "Requirement already satisfied: threadpoolctl>=2.0.0 in /usr/local/lib/python3.9/dist-packages (from scikit-learn>=1.0.0->feature_engine) (3.1.0)\n",
      "Requirement already satisfied: joblib>=1.1.1 in /usr/local/lib/python3.9/dist-packages (from scikit-learn>=1.0.0->feature_engine) (1.2.0)\n",
      "Requirement already satisfied: patsy>=0.5.2 in /usr/local/lib/python3.9/dist-packages (from statsmodels>=0.11.1->feature_engine) (0.5.3)\n",
      "Requirement already satisfied: packaging>=21.3 in /usr/local/lib/python3.9/dist-packages (from statsmodels>=0.11.1->feature_engine) (23.1)\n",
      "Requirement already satisfied: six in /usr/local/lib/python3.9/dist-packages (from patsy>=0.5.2->statsmodels>=0.11.1->feature_engine) (1.16.0)\n",
      "Installing collected packages: feature_engine\n",
      "Successfully installed feature_engine-1.6.0\n"
     ]
    }
   ],
   "source": [
    "# Pipelines\n",
    "from imblearn.over_sampling import SMOTE\n",
    "from sklearn.impute import SimpleImputer\n",
    "from sklearn.compose import ColumnTransformer\n",
    "from sklearn.pipeline import make_pipeline, Pipeline\n",
    "from sklearn.model_selection import train_test_split\n",
    "from imblearn.pipeline import Pipeline as imbPipeline\n",
    "from sklearn.preprocessing import FunctionTransformer, StandardScaler, MinMaxScaler, OrdinalEncoder, OneHotEncoder\n",
    "!pip install feature_engine\n",
    "from feature_engine.selection import (DropFeatures, DropConstantFeatures, DropDuplicateFeatures)"
   ]
  },
  {
   "cell_type": "code",
   "execution_count": null,
   "metadata": {
    "id": "cSnGiCS9XNNz"
   },
   "outputs": [],
   "source": [
    "# Reload the dataset\n",
    "import io\n",
    "df = pd.read_csv(io.BytesIO(uploaded['GermanCreditRisk.csv']))\n",
    "\n",
    "# Split X and y\n",
    "X, y = df.iloc[:, :-1], df.iloc[:, -1:]\n",
    "\n",
    "# Split the dataset into training and testing sets\n",
    "X_train, X_test, y_train, y_test = train_test_split(X, y, test_size=0.2, random_state=42)"
   ]
  },
  {
   "cell_type": "code",
   "execution_count": null,
   "metadata": {
    "id": "guZelgAyS6CS"
   },
   "outputs": [],
   "source": [
    "# Create feature selection topic"
   ]
  },
  {
   "cell_type": "code",
   "execution_count": null,
   "metadata": {
    "id": "kLlYLMckCO3a"
   },
   "outputs": [],
   "source": [
    "# Define types\n",
    "num_cols = ['months_loan_duration', 'amount', 'age', 'dependents']\n",
    "cat_cols = ['checking_balance', 'purpose', 'housing', 'existing_loans_count', 'job', 'phone']\n",
    "ord_cols = ['credit_history', 'savings_balance', 'employment_duration','percent_of_income', 'years_at_residence']\n",
    "\n",
    "# Define order to ordinal encoding\n",
    "\n",
    "\n",
    "\n",
    "# Apply\n",
    "df[cat_cols] = df[cat_cols].astype('category')\n",
    "df[ord_cols] = df[ord_cols].astype('category')\n",
    "df[num_cols] = df[num_cols].astype(int)\n",
    "\n",
    "\n",
    "# define the column transformer to handle different feature types\n",
    "transformer = ColumnTransformer(\n",
    "    transformers=[\n",
    "        \n",
    "        # handle missing values in numeric features\n",
    "        (\"num\", make_pipeline(\n",
    "            SimpleImputer(strategy=\"median\"),\n",
    "            FunctionTransformer(logFunc, feature_names_out='one-to-one'),\n",
    "            StandardScaler()),\n",
    "        num_cols),\n",
    "\n",
    "        # handle missing values and encode ordinal features\n",
    "        (\"ord\", make_pipeline(\n",
    "            SimpleImputer(strategy=\"most_frequent\"),\n",
    "            OrdinalEncoder()),\n",
    "        ord_cols),\n",
    "\n",
    "        # handle missing and encode categorical features\n",
    "        (\"cat\", make_pipeline(\n",
    "            SimpleImputer(strategy=\"most_frequent\"),\n",
    "            OneHotEncoder(drop='if_binary')),\n",
    "        cat_cols),\n",
    "    ]\n",
    ")"
   ]
  },
  {
   "cell_type": "code",
   "execution_count": null,
   "metadata": {
    "id": "YbdfsqYOWfK-"
   },
   "outputs": [],
   "source": [
    "# Are the ordinal encodes correct? I don´t think so, I need improve this!"
   ]
  },
  {
   "cell_type": "markdown",
   "metadata": {
    "id": "pfy3VYfRYOMw"
   },
   "source": [
    "# **MACHINE LEARNING**"
   ]
  },
  {
   "cell_type": "markdown",
   "metadata": {
    "id": "WHrrfx1W6aBN"
   },
   "source": [
    "## **Models**"
   ]
  },
  {
   "cell_type": "markdown",
   "metadata": {
    "id": "-G6ij4-J4duz"
   },
   "source": [
    "### **Modeling**"
   ]
  },
  {
   "cell_type": "markdown",
   "metadata": {
    "id": "ozL3VOUB6QXd"
   },
   "source": [
    "#### Imports"
   ]
  },
  {
   "cell_type": "code",
   "execution_count": null,
   "metadata": {
    "id": "coKuvglRSEFW"
   },
   "outputs": [],
   "source": [
    "# Import ML model\n",
    "from sklearn.svm import SVC\n",
    "from sklearn.neighbors import KNeighborsClassifier\n",
    "from sklearn.linear_model import LogisticRegression\n",
    "from sklearn.naive_bayes import GaussianNB, MultinomialNB\n",
    "from sklearn.ensemble import RandomForestClassifier, ExtraTreesClassifier, AdaBoostClassifier, GradientBoostingClassifier\n",
    "\n",
    "# Sklearn metrics, preprocessing and encoding\n",
    "from sklearn.metrics import accuracy_score, confusion_matrix, roc_auc_score, classification_report\n",
    "from sklearn.preprocessing import LabelEncoder, OneHotEncoder\n",
    "from sklearn.model_selection import KFold, cross_val_score, train_test_split, cross_val_predict, RandomizedSearchCV, GridSearchCV"
   ]
  },
  {
   "cell_type": "markdown",
   "metadata": {
    "id": "zT738Fai6Pvk"
   },
   "source": [
    "#### Define models"
   ]
  },
  {
   "cell_type": "code",
   "execution_count": null,
   "metadata": {
    "id": "1Tn5vxIq3v5I"
   },
   "outputs": [],
   "source": [
    "# Create models for training in loop\n",
    "KNN = ('KNN', KNeighborsClassifier())\n",
    "Logistic_Regression = ('LOG', LogisticRegression())\n",
    "Gaussian_NB = ('MNB', GaussianNB())\n",
    "SVM = ('SVM', SVC(probability=True))\n",
    "Random_Forest = ('RFC', RandomForestClassifier(n_estimators = 100, max_depth = 100, random_state = 123))\n",
    "Extra_Trees = ('ETC', ExtraTreesClassifier(n_estimators = 100, max_depth = 100, random_state = 123))\n",
    "Ada_Boost = ('ADA', AdaBoostClassifier(n_estimators = 100, random_state = 123))\n",
    "Gradient_Boosting = ('GBC', GradientBoostingClassifier(n_estimators = 100, random_state = 123))"
   ]
  },
  {
   "cell_type": "code",
   "execution_count": null,
   "metadata": {
    "id": "55CxPEsu6B2W"
   },
   "outputs": [],
   "source": [
    "# Preparando a lista de modelos\n",
    "models = []\n",
    "\n",
    "models.append(('RegressaoLogistica', Logistic_Regression))\n",
    "models.append(('KNN', KNN))\n",
    "models.append(('NaiveBayes', Gaussian_NB))\n",
    "models.append(('SVM', SVM))\n",
    "\n",
    "models.append(('RandomForest', Random_Forest))\n",
    "models.append(('ExtraTrees', Extra_Trees))\n",
    "models.append(('AdaBoost', Ada_Boost))\n",
    "models.append(('GradientBoosting', Gradient_Boosting))"
   ]
  },
  {
   "cell_type": "markdown",
   "metadata": {
    "id": "ONI_y8mKFXJ1"
   },
   "source": [
    "#### Pipeline"
   ]
  },
  {
   "cell_type": "code",
   "execution_count": null,
   "metadata": {
    "id": "KayD2oN17BCJ"
   },
   "outputs": [],
   "source": [
    "# Define the pipeline\n",
    "def pipeFunc(model):\n",
    "  pipeline = imbPipeline([\n",
    "      ('drop_duplicates', DropDuplicateFeatures()),\n",
    "      (\"preprocessing\", transformer),\n",
    "      (\"balancing\", SMOTE()),\n",
    "      (model)\n",
    "  ])\n",
    "\n",
    "  return pipeline"
   ]
  },
  {
   "cell_type": "markdown",
   "metadata": {
    "id": "djP2LeXGFhPQ"
   },
   "source": [
    "### **Train Test Split**"
   ]
  },
  {
   "cell_type": "markdown",
   "metadata": {
    "id": "b67xMGt4DXbk"
   },
   "source": [
    "#### Training the models"
   ]
  },
  {
   "cell_type": "code",
   "execution_count": null,
   "metadata": {
    "id": "ZBYAQA5k6iwh"
   },
   "outputs": [],
   "source": [
    "# evaluate the model\n",
    "results = []\n",
    "names = []\n",
    "auc = []\n",
    "\n",
    "for name, model in models:\n",
    "    # Define pipeline object\n",
    "    pipeline = pipeFunc(model)\n",
    "    \n",
    "    # fit\n",
    "    pipeline.fit(X_train, y_train.values.ravel())\n",
    "    result = pipeline.score(X_test, y_test)\n",
    "    pred_prob = pipeline.predict_proba(X_test)\n",
    "    y_pred = pipeline.predict(X_test)\n",
    "    auc_score = roc_auc_score(y_test, pred_prob[:,1])\n",
    "    cr = classification_report(y_test, y_pred)\n",
    "              \n",
    "    # appends\n",
    "    results.append(result)\n",
    "    names.append(name)\n",
    "    auc.append(auc_score)"
   ]
  },
  {
   "cell_type": "markdown",
   "metadata": {
    "id": "F3TBSBNQ34N9"
   },
   "source": [
    "#### Resume"
   ]
  },
  {
   "cell_type": "code",
   "execution_count": null,
   "metadata": {
    "colab": {
     "base_uri": "https://localhost:8080/",
     "height": 300
    },
    "id": "MmRaJrXT4a5W",
    "outputId": "a1489ac9-6a30-4d19-c8ec-9e499e6aec01"
   },
   "outputs": [
    {
     "data": {
      "text/html": [
       "\n",
       "  <div id=\"df-f6d448d8-14d9-48c7-9138-83ba278ddddf\">\n",
       "    <div class=\"colab-df-container\">\n",
       "      <div>\n",
       "<style scoped>\n",
       "    .dataframe tbody tr th:only-of-type {\n",
       "        vertical-align: middle;\n",
       "    }\n",
       "\n",
       "    .dataframe tbody tr th {\n",
       "        vertical-align: top;\n",
       "    }\n",
       "\n",
       "    .dataframe thead th {\n",
       "        text-align: right;\n",
       "    }\n",
       "</style>\n",
       "<table border=\"1\" class=\"dataframe\">\n",
       "  <thead>\n",
       "    <tr style=\"text-align: right;\">\n",
       "      <th></th>\n",
       "      <th>Model</th>\n",
       "      <th>Accuracy</th>\n",
       "      <th>AUC</th>\n",
       "    </tr>\n",
       "  </thead>\n",
       "  <tbody>\n",
       "    <tr>\n",
       "      <th>3</th>\n",
       "      <td>SVM</td>\n",
       "      <td>0.745</td>\n",
       "      <td>0.809592</td>\n",
       "    </tr>\n",
       "    <tr>\n",
       "      <th>7</th>\n",
       "      <td>GradientBoosting</td>\n",
       "      <td>0.785</td>\n",
       "      <td>0.808631</td>\n",
       "    </tr>\n",
       "    <tr>\n",
       "      <th>4</th>\n",
       "      <td>RandomForest</td>\n",
       "      <td>0.785</td>\n",
       "      <td>0.805445</td>\n",
       "    </tr>\n",
       "    <tr>\n",
       "      <th>6</th>\n",
       "      <td>AdaBoost</td>\n",
       "      <td>0.750</td>\n",
       "      <td>0.796129</td>\n",
       "    </tr>\n",
       "    <tr>\n",
       "      <th>5</th>\n",
       "      <td>ExtraTrees</td>\n",
       "      <td>0.775</td>\n",
       "      <td>0.782486</td>\n",
       "    </tr>\n",
       "    <tr>\n",
       "      <th>0</th>\n",
       "      <td>RegressaoLogistica</td>\n",
       "      <td>0.695</td>\n",
       "      <td>0.769323</td>\n",
       "    </tr>\n",
       "    <tr>\n",
       "      <th>2</th>\n",
       "      <td>NaiveBayes</td>\n",
       "      <td>0.665</td>\n",
       "      <td>0.711744</td>\n",
       "    </tr>\n",
       "    <tr>\n",
       "      <th>1</th>\n",
       "      <td>KNN</td>\n",
       "      <td>0.635</td>\n",
       "      <td>0.703991</td>\n",
       "    </tr>\n",
       "  </tbody>\n",
       "</table>\n",
       "</div>\n",
       "      <button class=\"colab-df-convert\" onclick=\"convertToInteractive('df-f6d448d8-14d9-48c7-9138-83ba278ddddf')\"\n",
       "              title=\"Convert this dataframe to an interactive table.\"\n",
       "              style=\"display:none;\">\n",
       "        \n",
       "  <svg xmlns=\"http://www.w3.org/2000/svg\" height=\"24px\"viewBox=\"0 0 24 24\"\n",
       "       width=\"24px\">\n",
       "    <path d=\"M0 0h24v24H0V0z\" fill=\"none\"/>\n",
       "    <path d=\"M18.56 5.44l.94 2.06.94-2.06 2.06-.94-2.06-.94-.94-2.06-.94 2.06-2.06.94zm-11 1L8.5 8.5l.94-2.06 2.06-.94-2.06-.94L8.5 2.5l-.94 2.06-2.06.94zm10 10l.94 2.06.94-2.06 2.06-.94-2.06-.94-.94-2.06-.94 2.06-2.06.94z\"/><path d=\"M17.41 7.96l-1.37-1.37c-.4-.4-.92-.59-1.43-.59-.52 0-1.04.2-1.43.59L10.3 9.45l-7.72 7.72c-.78.78-.78 2.05 0 2.83L4 21.41c.39.39.9.59 1.41.59.51 0 1.02-.2 1.41-.59l7.78-7.78 2.81-2.81c.8-.78.8-2.07 0-2.86zM5.41 20L4 18.59l7.72-7.72 1.47 1.35L5.41 20z\"/>\n",
       "  </svg>\n",
       "      </button>\n",
       "      \n",
       "  <style>\n",
       "    .colab-df-container {\n",
       "      display:flex;\n",
       "      flex-wrap:wrap;\n",
       "      gap: 12px;\n",
       "    }\n",
       "\n",
       "    .colab-df-convert {\n",
       "      background-color: #E8F0FE;\n",
       "      border: none;\n",
       "      border-radius: 50%;\n",
       "      cursor: pointer;\n",
       "      display: none;\n",
       "      fill: #1967D2;\n",
       "      height: 32px;\n",
       "      padding: 0 0 0 0;\n",
       "      width: 32px;\n",
       "    }\n",
       "\n",
       "    .colab-df-convert:hover {\n",
       "      background-color: #E2EBFA;\n",
       "      box-shadow: 0px 1px 2px rgba(60, 64, 67, 0.3), 0px 1px 3px 1px rgba(60, 64, 67, 0.15);\n",
       "      fill: #174EA6;\n",
       "    }\n",
       "\n",
       "    [theme=dark] .colab-df-convert {\n",
       "      background-color: #3B4455;\n",
       "      fill: #D2E3FC;\n",
       "    }\n",
       "\n",
       "    [theme=dark] .colab-df-convert:hover {\n",
       "      background-color: #434B5C;\n",
       "      box-shadow: 0px 1px 3px 1px rgba(0, 0, 0, 0.15);\n",
       "      filter: drop-shadow(0px 1px 2px rgba(0, 0, 0, 0.3));\n",
       "      fill: #FFFFFF;\n",
       "    }\n",
       "  </style>\n",
       "\n",
       "      <script>\n",
       "        const buttonEl =\n",
       "          document.querySelector('#df-f6d448d8-14d9-48c7-9138-83ba278ddddf button.colab-df-convert');\n",
       "        buttonEl.style.display =\n",
       "          google.colab.kernel.accessAllowed ? 'block' : 'none';\n",
       "\n",
       "        async function convertToInteractive(key) {\n",
       "          const element = document.querySelector('#df-f6d448d8-14d9-48c7-9138-83ba278ddddf');\n",
       "          const dataTable =\n",
       "            await google.colab.kernel.invokeFunction('convertToInteractive',\n",
       "                                                     [key], {});\n",
       "          if (!dataTable) return;\n",
       "\n",
       "          const docLinkHtml = 'Like what you see? Visit the ' +\n",
       "            '<a target=\"_blank\" href=https://colab.research.google.com/notebooks/data_table.ipynb>data table notebook</a>'\n",
       "            + ' to learn more about interactive tables.';\n",
       "          element.innerHTML = '';\n",
       "          dataTable['output_type'] = 'display_data';\n",
       "          await google.colab.output.renderOutput(dataTable, element);\n",
       "          const docLink = document.createElement('div');\n",
       "          docLink.innerHTML = docLinkHtml;\n",
       "          element.appendChild(docLink);\n",
       "        }\n",
       "      </script>\n",
       "    </div>\n",
       "  </div>\n",
       "  "
      ],
      "text/plain": [
       "                Model  Accuracy       AUC\n",
       "3                 SVM     0.745  0.809592\n",
       "7    GradientBoosting     0.785  0.808631\n",
       "4        RandomForest     0.785  0.805445\n",
       "6            AdaBoost     0.750  0.796129\n",
       "5          ExtraTrees     0.775  0.782486\n",
       "0  RegressaoLogistica     0.695  0.769323\n",
       "2          NaiveBayes     0.665  0.711744\n",
       "1                 KNN     0.635  0.703991"
      ]
     },
     "execution_count": 33,
     "metadata": {},
     "output_type": "execute_result"
    }
   ],
   "source": [
    "# Models summary\n",
    "models_TrainTest = pd.concat([pd.DataFrame(columns = ['Model'], data = names), \n",
    "                              pd.DataFrame(columns = ['Accuracy'], data = results),\n",
    "                              pd.DataFrame(columns = ['AUC'], data = auc)], axis = 1).sort_values('AUC', ascending = False)\n",
    "\n",
    "# View results\n",
    "models_TrainTest"
   ]
  },
  {
   "cell_type": "markdown",
   "metadata": {
    "id": "IjjISN2eFm2c"
   },
   "source": [
    "### **Cross Validation**"
   ]
  },
  {
   "cell_type": "markdown",
   "metadata": {
    "id": "e1fMKI02JSxG"
   },
   "source": [
    "#### Fit the models"
   ]
  },
  {
   "cell_type": "code",
   "execution_count": null,
   "metadata": {
    "id": "hyQptAXGFrFK"
   },
   "outputs": [],
   "source": [
    "# evaluate the model\n",
    "results = []\n",
    "names = []\n",
    "scoring = 'roc_auc'\n",
    "num_folds = 10\n",
    "kfold = 10\n",
    "\n",
    "for nome, model in models:\n",
    "  # Fit\n",
    "  kfold = KFold(n_splits = num_folds, shuffle = True, random_state = 123)\n",
    "  cv_results = cross_val_score(pipeline, X, y.values.ravel(), scoring = scoring, cv = kfold)\n",
    "  y_pred = cross_val_predict(pipeline, X, y.values.ravel(), cv = kfold)\n",
    "  pred_prob = pipeline.predict_proba(X)\n",
    "\n",
    "  # Append\n",
    "  results.append(cv_results)\n",
    "  names.append(nome)"
   ]
  },
  {
   "cell_type": "markdown",
   "metadata": {
    "id": "lAkpqqyt3_UH"
   },
   "source": [
    "#### Resume"
   ]
  },
  {
   "cell_type": "code",
   "execution_count": null,
   "metadata": {
    "colab": {
     "base_uri": "https://localhost:8080/",
     "height": 206
    },
    "id": "eKnGksWuHKwq",
    "outputId": "e59f5a09-2df2-4d7d-d45c-afec46265adf"
   },
   "outputs": [
    {
     "data": {
      "text/html": [
       "\n",
       "  <div id=\"df-8645f088-9169-4edb-b02f-f51e5292d065\">\n",
       "    <div class=\"colab-df-container\">\n",
       "      <div>\n",
       "<style scoped>\n",
       "    .dataframe tbody tr th:only-of-type {\n",
       "        vertical-align: middle;\n",
       "    }\n",
       "\n",
       "    .dataframe tbody tr th {\n",
       "        vertical-align: top;\n",
       "    }\n",
       "\n",
       "    .dataframe thead th {\n",
       "        text-align: right;\n",
       "    }\n",
       "</style>\n",
       "<table border=\"1\" class=\"dataframe\">\n",
       "  <thead>\n",
       "    <tr style=\"text-align: right;\">\n",
       "      <th></th>\n",
       "      <th>Model</th>\n",
       "      <th>0</th>\n",
       "      <th>1</th>\n",
       "      <th>2</th>\n",
       "      <th>3</th>\n",
       "      <th>4</th>\n",
       "      <th>5</th>\n",
       "      <th>6</th>\n",
       "      <th>7</th>\n",
       "      <th>8</th>\n",
       "      <th>9</th>\n",
       "      <th>roc_auc</th>\n",
       "    </tr>\n",
       "  </thead>\n",
       "  <tbody>\n",
       "    <tr>\n",
       "      <th>0</th>\n",
       "      <td>RegressaoLogistica</td>\n",
       "      <td>0.816845</td>\n",
       "      <td>0.813800</td>\n",
       "      <td>0.854981</td>\n",
       "      <td>0.811771</td>\n",
       "      <td>0.754862</td>\n",
       "      <td>0.695221</td>\n",
       "      <td>0.817387</td>\n",
       "      <td>0.689048</td>\n",
       "      <td>0.738195</td>\n",
       "      <td>0.736111</td>\n",
       "      <td>0.7728</td>\n",
       "    </tr>\n",
       "    <tr>\n",
       "      <th>4</th>\n",
       "      <td>RandomForest</td>\n",
       "      <td>0.821747</td>\n",
       "      <td>0.795535</td>\n",
       "      <td>0.841110</td>\n",
       "      <td>0.783866</td>\n",
       "      <td>0.762551</td>\n",
       "      <td>0.716783</td>\n",
       "      <td>0.832929</td>\n",
       "      <td>0.687143</td>\n",
       "      <td>0.718093</td>\n",
       "      <td>0.745536</td>\n",
       "      <td>0.7705</td>\n",
       "    </tr>\n",
       "    <tr>\n",
       "      <th>1</th>\n",
       "      <td>KNN</td>\n",
       "      <td>0.814171</td>\n",
       "      <td>0.796043</td>\n",
       "      <td>0.841110</td>\n",
       "      <td>0.777270</td>\n",
       "      <td>0.774310</td>\n",
       "      <td>0.680653</td>\n",
       "      <td>0.813016</td>\n",
       "      <td>0.685714</td>\n",
       "      <td>0.749883</td>\n",
       "      <td>0.740575</td>\n",
       "      <td>0.7673</td>\n",
       "    </tr>\n",
       "    <tr>\n",
       "      <th>3</th>\n",
       "      <td>SVM</td>\n",
       "      <td>0.792781</td>\n",
       "      <td>0.792491</td>\n",
       "      <td>0.854981</td>\n",
       "      <td>0.781837</td>\n",
       "      <td>0.748530</td>\n",
       "      <td>0.701632</td>\n",
       "      <td>0.815930</td>\n",
       "      <td>0.672381</td>\n",
       "      <td>0.743806</td>\n",
       "      <td>0.751984</td>\n",
       "      <td>0.7656</td>\n",
       "    </tr>\n",
       "    <tr>\n",
       "      <th>2</th>\n",
       "      <td>NaiveBayes</td>\n",
       "      <td>0.800802</td>\n",
       "      <td>0.791984</td>\n",
       "      <td>0.845734</td>\n",
       "      <td>0.760528</td>\n",
       "      <td>0.747173</td>\n",
       "      <td>0.716783</td>\n",
       "      <td>0.811559</td>\n",
       "      <td>0.662381</td>\n",
       "      <td>0.729313</td>\n",
       "      <td>0.719246</td>\n",
       "      <td>0.7586</td>\n",
       "    </tr>\n",
       "  </tbody>\n",
       "</table>\n",
       "</div>\n",
       "      <button class=\"colab-df-convert\" onclick=\"convertToInteractive('df-8645f088-9169-4edb-b02f-f51e5292d065')\"\n",
       "              title=\"Convert this dataframe to an interactive table.\"\n",
       "              style=\"display:none;\">\n",
       "        \n",
       "  <svg xmlns=\"http://www.w3.org/2000/svg\" height=\"24px\"viewBox=\"0 0 24 24\"\n",
       "       width=\"24px\">\n",
       "    <path d=\"M0 0h24v24H0V0z\" fill=\"none\"/>\n",
       "    <path d=\"M18.56 5.44l.94 2.06.94-2.06 2.06-.94-2.06-.94-.94-2.06-.94 2.06-2.06.94zm-11 1L8.5 8.5l.94-2.06 2.06-.94-2.06-.94L8.5 2.5l-.94 2.06-2.06.94zm10 10l.94 2.06.94-2.06 2.06-.94-2.06-.94-.94-2.06-.94 2.06-2.06.94z\"/><path d=\"M17.41 7.96l-1.37-1.37c-.4-.4-.92-.59-1.43-.59-.52 0-1.04.2-1.43.59L10.3 9.45l-7.72 7.72c-.78.78-.78 2.05 0 2.83L4 21.41c.39.39.9.59 1.41.59.51 0 1.02-.2 1.41-.59l7.78-7.78 2.81-2.81c.8-.78.8-2.07 0-2.86zM5.41 20L4 18.59l7.72-7.72 1.47 1.35L5.41 20z\"/>\n",
       "  </svg>\n",
       "      </button>\n",
       "      \n",
       "  <style>\n",
       "    .colab-df-container {\n",
       "      display:flex;\n",
       "      flex-wrap:wrap;\n",
       "      gap: 12px;\n",
       "    }\n",
       "\n",
       "    .colab-df-convert {\n",
       "      background-color: #E8F0FE;\n",
       "      border: none;\n",
       "      border-radius: 50%;\n",
       "      cursor: pointer;\n",
       "      display: none;\n",
       "      fill: #1967D2;\n",
       "      height: 32px;\n",
       "      padding: 0 0 0 0;\n",
       "      width: 32px;\n",
       "    }\n",
       "\n",
       "    .colab-df-convert:hover {\n",
       "      background-color: #E2EBFA;\n",
       "      box-shadow: 0px 1px 2px rgba(60, 64, 67, 0.3), 0px 1px 3px 1px rgba(60, 64, 67, 0.15);\n",
       "      fill: #174EA6;\n",
       "    }\n",
       "\n",
       "    [theme=dark] .colab-df-convert {\n",
       "      background-color: #3B4455;\n",
       "      fill: #D2E3FC;\n",
       "    }\n",
       "\n",
       "    [theme=dark] .colab-df-convert:hover {\n",
       "      background-color: #434B5C;\n",
       "      box-shadow: 0px 1px 3px 1px rgba(0, 0, 0, 0.15);\n",
       "      filter: drop-shadow(0px 1px 2px rgba(0, 0, 0, 0.3));\n",
       "      fill: #FFFFFF;\n",
       "    }\n",
       "  </style>\n",
       "\n",
       "      <script>\n",
       "        const buttonEl =\n",
       "          document.querySelector('#df-8645f088-9169-4edb-b02f-f51e5292d065 button.colab-df-convert');\n",
       "        buttonEl.style.display =\n",
       "          google.colab.kernel.accessAllowed ? 'block' : 'none';\n",
       "\n",
       "        async function convertToInteractive(key) {\n",
       "          const element = document.querySelector('#df-8645f088-9169-4edb-b02f-f51e5292d065');\n",
       "          const dataTable =\n",
       "            await google.colab.kernel.invokeFunction('convertToInteractive',\n",
       "                                                     [key], {});\n",
       "          if (!dataTable) return;\n",
       "\n",
       "          const docLinkHtml = 'Like what you see? Visit the ' +\n",
       "            '<a target=\"_blank\" href=https://colab.research.google.com/notebooks/data_table.ipynb>data table notebook</a>'\n",
       "            + ' to learn more about interactive tables.';\n",
       "          element.innerHTML = '';\n",
       "          dataTable['output_type'] = 'display_data';\n",
       "          await google.colab.output.renderOutput(dataTable, element);\n",
       "          const docLink = document.createElement('div');\n",
       "          docLink.innerHTML = docLinkHtml;\n",
       "          element.appendChild(docLink);\n",
       "        }\n",
       "      </script>\n",
       "    </div>\n",
       "  </div>\n",
       "  "
      ],
      "text/plain": [
       "                Model         0         1         2         3         4  \\\n",
       "0  RegressaoLogistica  0.816845  0.813800  0.854981  0.811771  0.754862   \n",
       "4        RandomForest  0.821747  0.795535  0.841110  0.783866  0.762551   \n",
       "1                 KNN  0.814171  0.796043  0.841110  0.777270  0.774310   \n",
       "3                 SVM  0.792781  0.792491  0.854981  0.781837  0.748530   \n",
       "2          NaiveBayes  0.800802  0.791984  0.845734  0.760528  0.747173   \n",
       "\n",
       "          5         6         7         8         9  roc_auc  \n",
       "0  0.695221  0.817387  0.689048  0.738195  0.736111   0.7728  \n",
       "4  0.716783  0.832929  0.687143  0.718093  0.745536   0.7705  \n",
       "1  0.680653  0.813016  0.685714  0.749883  0.740575   0.7673  \n",
       "3  0.701632  0.815930  0.672381  0.743806  0.751984   0.7656  \n",
       "2  0.716783  0.811559  0.662381  0.729313  0.719246   0.7586  "
      ]
     },
     "execution_count": 35,
     "metadata": {},
     "output_type": "execute_result"
    }
   ],
   "source": [
    "# Models summary\n",
    "models_CrossVal = pd.concat([pd.DataFrame(columns = ['Model'], data = names), \n",
    "                             pd.DataFrame(data = results)\n",
    "], axis = 1).head()\n",
    "\n",
    "models_CrossVal[scoring] = models_CrossVal.mean(axis=1).round(4)\n",
    "models_CrossVal.sort_values(scoring, inplace = True, ascending = False)\n",
    "\n",
    "# View\n",
    "models_CrossVal"
   ]
  },
  {
   "cell_type": "code",
   "execution_count": null,
   "metadata": {
    "id": "9yTA3AHojb_w"
   },
   "outputs": [],
   "source": [
    "# Tunning best model\n",
    "# interpretação da reg logistica https://blog.metodosquantitativos.com/razaodechances/"
   ]
  },
  {
   "cell_type": "markdown",
   "metadata": {
    "id": "1beb9999"
   },
   "source": [
    "### **Hyperparameters**"
   ]
  },
  {
   "cell_type": "markdown",
   "metadata": {
    "id": "UPqs6pfw_jCF"
   },
   "source": [
    "#### Parmeters"
   ]
  },
  {
   "cell_type": "code",
   "execution_count": null,
   "metadata": {
    "id": "c5ce4391"
   },
   "outputs": [],
   "source": [
    "# Base models\n",
    "\n",
    "DisLin_Params = [{'LDA__solver': ['svd', 'lsqr', 'eigen'],\n",
    "                  'LDA_shrinkage': ['auto', None],\n",
    "                  'LDA__store_covariance': [True, False],                            #If True, explicitly compute the weighted within-class covariance matrix when solver is ‘svd’. The matrix is always computed and stored for the other solvers.\n",
    "                  'LDA__tol': [1e-6, 1e-4, 1e-2, 1e-0, 1e2, 1e4, 1e6],               #Absolute threshold for a singular value of X to be considered significant, used to estimate the rank of X. Dimensions whose singular values are non-significant are discarded. Only used if solver is ‘svd’.\n",
    "                  'LDA__covariance_estimato': ['covariance_estimato', None] }]       #If not None, covariance_estimator is used to estimate the covariance matrices instead of relying on the empirical covariance estimator (with potential shrinkage). The object should have a fit method and a covariance_ attribute like the estimators in sklearn.covariance.   \n",
    "\n",
    "LogReg_Params = [{'LOG__solver': ['newton-cg', 'lbfgs', 'liblinear', 'sag', 'saga'], #Algorithm to use in the optimization problem. Default is ‘lbfgs’. To choose a solver, you might want to consider the following aspects:For small datasets, ‘liblinear’ is a good choice, whereas ‘sag’ and ‘saga’ are faster for large ones; For multiclass problems, only ‘newton-cg’, ‘sag’, ‘saga’ and ‘lbfgs’ handle multinomial loss; ‘liblinear’ is limited to one-versus-rest schemes.\n",
    "                  'LOG__penalty': ['l1', 'l2', 'elasticnet', 'none'],                #Specify the norm of the penalty:\n",
    "                  'LOG__tol': [1e-4, 1e-2, 1e-0, 1e2, 1e4],                          #Tolerance for stopping criteria.\n",
    "                  'LOG__C': [10, 1.0, 0.1, 0.01] }]                                  #Inverse of regularization strength; must be a positive float. Like in support vector machines, smaller values specify stronger regularization.\n",
    "\n",
    "DTC_Params = [{'DTC__splitter': ['best', 'random'],                                  #The strategy used to choose the split at each node. \n",
    "               'DTC__max_features': ['auto','sqrt', 'log2', None],                   #The number of features to consider when looking for the best split\n",
    "               'DTC__max_depth': [3, 7, 9],                                          #The maximum depth of the tree. \n",
    "               'DTC__criterion': ['gini', 'entropy', 'log_loss'],                    #The function to measure the quality of a split.\n",
    "               'DTC__min_samples_split': [2, 4, 6, 8 ,10],                           #The minimum number of samples required to split an internal node:\n",
    "               'DTC__min_samples_leaf': [1, 3, 5, 7, 10] }]                          #The minimum number of samples required to be at a leaf node. A split point at any depth will only be considered if it leaves at least min_samples_leaf training samples in each of the left and right branches. This may have the effect of smoothing the model, especially in regression.\n",
    "\n",
    "KNN_Params = [{'KNN__n_neighbors': range(1, 21, 2),                                  #Number of neighbors to use by default for kneighbors queries.\n",
    "               'KNN__weights': ['uniform', 'distance'],                              #Weight function used in prediction. Possible values:‘uniform’ : uniform weights. All points in each neighborhood are weighted equally. ‘distance’ : weight points by the inverse of their distance. in this case, closer neighbors of a query point will have a greater influence than neighbors which are further away.\n",
    "               'KNN__metric': ['euclidean', 'manhattan', 'minkowski'],               #The distance metric to use for the tree.\n",
    "               'KNN__algorithm': ['auto', 'ball_tree', 'kd_tree', 'brute']}]         #Algorithm used to compute the nearest neighbors:\n",
    "\n",
    "MNB_Params = [{'MNB__alpha': [0,0.25,0.5,0.75,1],                                    #Additive (Laplace/Lidstone) smoothing parameter (0 for no smoothing).\n",
    "               'MNB_fit_prior': [True, False] }]                                     #Whether to learn class prior probabilities or not. If false, a uniform prior will be used.\n",
    "\n",
    "GNB_Params = [{'GNB__var_smoothing':[1e-12, 1e-9, 1e-6] }]                           #Portion of the largest variance of all features that is added to variances for calculation stability.\n",
    "\n",
    "SVM_Params = [{'SVM__kernel': ['linear', 'poly', 'rbf', 'sigmoid', 'precomputed'],   #Specifies the kernel type to be used in the algorithm.\n",
    "               'SVM__tol': [1e-2, 1e-0, 1e2],                                        #Tolerance for stopping criterion.\n",
    "               'SVM__degree': [1,2,3],                                               #Degree of the polynomial kernel function (‘poly’). Ignored by all other kernels.\n",
    "               'SVM__C': [10, 1.0, 0.1, 0.01],                                       #Regularization parameter. The strength of the regularization is inversely proportional to C. Must be strictly positive.\n",
    "               'SVM__decision_function_shape': ['ovo', 'ovr'],                       #The parameter is ignored for binary classification. Whether to return a one-vs-rest (‘ovr’) decision function of shape (n_samples, n_classes) as all other classifiers, or the original one-vs-one (‘ovo’) decision function of libsvm which has shape (n_samples, n_classes * (n_classes - 1) / 2). \n",
    "               'SVM__gamma': ['scale', 'auto'] }]                                    #Kernel coefficient for ‘rbf’, ‘poly’ and ‘sigmoid’."
   ]
  },
  {
   "cell_type": "code",
   "execution_count": null,
   "metadata": {
    "id": "c98a3ef0"
   },
   "outputs": [],
   "source": [
    "# Ensemble models\n",
    "\n",
    "RFC_Params = [{'RFC__n_estimators': [10, 100, 250],                        #The number of trees in the forest.\n",
    "               'RFC__max_features': ['sqrt', 'log2', None],                #The number of features to consider when looking for the best split\n",
    "               'RFC__max_depth': [3, 7, 9],                                #The maximum depth of the tree. \n",
    "               'RFC__criterion': ['gini', 'entropy', 'log_loss'],          #The function to measure the quality of a split.\n",
    "               'RFC__bootstrap': [True, False],                            #Whether bootstrap samples are used when building trees. If False, the whole dataset is used to build each tree.\n",
    "               'RFC__min_samples_split': [2, 4, 6, 8 ,10],                 #The minimum number of samples required to split an internal node:\n",
    "               'RFC__min_samples_leaf': [1, 3, 5, 7, 10] }]                #The minimum number of samples required to be at a leaf node. A split point at any depth will only be considered if it leaves at least min_samples_leaf training samples in each of the left and right branches. This may have the effect of smoothing the model, especially in regression.\n",
    "\n",
    "ETC_Params = [{'RFC__n_estimators': [10, 100, 250],                        #The number of trees in the forest.\n",
    "               'RFC__max_features': ['sqrt', 'log2', None],                #The number of features to consider when looking for the best split\n",
    "               'RFC__max_depth': [3, 7, 9],                                #The maximum depth of the tree. \n",
    "               'RFC__criterion': ['gini', 'entropy', 'log_loss'],          #The function to measure the quality of a split.\n",
    "               'RFC__bootstrap': [True, False],                            #Whether bootstrap samples are used when building trees. If False, the whole dataset is used to build each tree.\n",
    "               'RFC__min_samples_split': [2, 4, 6, 8 ,10],                 #The minimum number of samples required to split an internal node:\n",
    "               'RFC__min_samples_leaf': [1, 3, 5, 7, 10] }]                #The minimum number of samples required to be at a leaf node. A split point at any depth will only be considered if it leaves at least min_samples_leaf training samples in each of the left and right branches. This may have the effect of smoothing the model, especially in regression.\n",
    "\n",
    "\n",
    "ADA_Params = [{'ADA__n_estimators': [10, 50, 100],                         #The maximum number of estimators at which boosting is terminated.\n",
    "               'ADA__learning_rate': [0.001, 0.01, 0.1, 1, 1.1],           #Learning rate shrinks the contribution of each tree by learning_rate. There is a trade-off between learning_rate and n_estimators. \n",
    "               'ADA__algorithm': ['SAMME', 'SAMME.R'] }]                   #If ‘SAMME.R’ then use the SAMME.R real boosting algorithm. base_estimator must support calculation of class probabilities. If ‘SAMME’ then use the SAMME discrete boosting algorithm. The SAMME.R algorithm typically converges faster than SAMME, achieving a lower test error with fewer boosting iterations.\n",
    "\n",
    "    \n",
    "GBC_Params = [{'GBC__n_estimators': [10, 100, 250],                        #The number of boosting stages to perform. Gradient boosting is fairly robust to over-fitting so a large number usually results in better performance.\n",
    "               'RFC__max_features': ['sqrt', 'log2', None],                #The number of features to consider when looking for the best split\n",
    "               'GBC__max_depth': [3, 7, 9],                                #The maximum depth of the tree. \n",
    "               'GBC__criterion': ['friedman_mse', 'squared_error', 'mse'], #The function to measure the quality of a split.\n",
    "               'GBC__learning_rate': [0.001,0.01, 0.1],                    #Learning rate shrinks the contribution of each tree by learning_rate. There is a trade-off between learning_rate and n_estimators.\n",
    "               'GBC__subsample': [0.1, 0.5, 0.7, 1.0],                     #The fraction of samples to be used for fitting the individual base learners. If smaller than 1.0 this results in Stochastic Gradient Boosting. subsample interacts with the parameter n_estimators. Choosing subsample < 1.0 leads to a reduction of variance and an increase in bias.\n",
    "               'RFC__min_samples_split': [2, 4, 6, 8 ,10],                 #The minimum number of samples required to split an internal node:\n",
    "               'RFC__min_samples_leaf': [1, 3, 5, 7, 10] }]                #The minimum number of samples required to be at a leaf node. A split point at any depth will only be considered if it leaves at least min_samples_leaf training samples in each of the left and right branches. This may have the effect of smoothing the model, especially in regression.\n",
    "               "
   ]
  },
  {
   "cell_type": "markdown",
   "metadata": {
    "id": "87671053"
   },
   "source": [
    "#### Grid Search Parameter Tuning"
   ]
  },
  {
   "cell_type": "code",
   "execution_count": null,
   "metadata": {
    "colab": {
     "base_uri": "https://localhost:8080/"
    },
    "id": "0748af86",
    "outputId": "724a81d4-c1ff-4e78-dd2e-eec24f44c79a"
   },
   "outputs": [
    {
     "data": {
      "application/vnd.google.colaboratory.intrinsic+json": {
       "type": "string"
      },
      "text/plain": [
       "\"# Define best model \\nmodel = pipeFunc(SVM)\\n\\n# Define Hyperparameters\\nparam_grid = SVM_Params\\n\\n# Define grid search\\ngscv = GridSearchCV(model, param_grid, cv = 10, scoring = 'accuracy')\\n\\n# Fit the model\\ngscv.fit(X_train, y_train)    \\n\\n# Results\\nprint(gscv.best_params_)\\nprint(gscv.best_score_.round(4))\""
      ]
     },
     "execution_count": 39,
     "metadata": {},
     "output_type": "execute_result"
    }
   ],
   "source": [
    "'''# Define best model \n",
    "model = pipeFunc(SVM)\n",
    "\n",
    "# Define Hyperparameters\n",
    "param_grid = SVM_Params\n",
    "\n",
    "# Define grid search\n",
    "gscv = GridSearchCV(model, param_grid, cv = 10, scoring = 'accuracy')\n",
    "\n",
    "# Fit the model\n",
    "gscv.fit(X_train, y_train)    \n",
    "\n",
    "# Results\n",
    "print(gscv.best_params_)\n",
    "print(gscv.best_score_.round(4))'''"
   ]
  },
  {
   "cell_type": "code",
   "execution_count": null,
   "metadata": {
    "colab": {
     "base_uri": "https://localhost:8080/"
    },
    "id": "q3GnBTyoCq-g",
    "outputId": "87bf1662-0e9f-4b4e-ebcc-ab87c8762664"
   },
   "outputs": [
    {
     "data": {
      "application/vnd.google.colaboratory.intrinsic+json": {
       "type": "string"
      },
      "text/plain": [
       "'# Evaluate\\nresult = gscv.score(X_test, y_test)\\npred_prob = gscv.predict_proba(X_test)\\ny_pred = gscv.predict(X_test)\\nauc_score = roc_auc_score(y_test, pred_prob[:,1])\\nconfusion_matrix = classification_report(y_test, y_pred)'"
      ]
     },
     "execution_count": 40,
     "metadata": {},
     "output_type": "execute_result"
    }
   ],
   "source": [
    "'''# Evaluate\n",
    "result = gscv.score(X_test, y_test)\n",
    "pred_prob = gscv.predict_proba(X_test)\n",
    "y_pred = gscv.predict(X_test)\n",
    "auc_score = roc_auc_score(y_test, pred_prob[:,1])\n",
    "confusion_matrix = classification_report(y_test, y_pred)'''"
   ]
  },
  {
   "cell_type": "markdown",
   "metadata": {
    "id": "0320ad1c"
   },
   "source": [
    "#### Random Search Parameter Tuning"
   ]
  },
  {
   "cell_type": "code",
   "execution_count": null,
   "metadata": {
    "colab": {
     "base_uri": "https://localhost:8080/"
    },
    "id": "ee94a658",
    "outputId": "44fe242f-2a6c-48dd-c6e3-a9fe50490f94"
   },
   "outputs": [
    {
     "data": {
      "application/vnd.google.colaboratory.intrinsic+json": {
       "type": "string"
      },
      "text/plain": [
       "\"# Define best model \\nmodel = pipeFunc(SVM)\\n\\n# Define Hyperparameter\\nparam_dist = SVM_Params\\n\\n# Define random search\\nrcv = RandomizedSearchCV(model, param_dist, n_iter = 100, cv = 10, scoring = 'accuracy')\\n\\n# Fit the model\\nrcv.fit(X_train, y_train)\\n\\n# Results\\nprint(rcv.best_params_)\\nprint(rcv.best_score_.round(4))\""
      ]
     },
     "execution_count": 41,
     "metadata": {},
     "output_type": "execute_result"
    }
   ],
   "source": [
    "'''# Define best model \n",
    "model = pipeFunc(SVM)\n",
    "\n",
    "# Define Hyperparameter\n",
    "param_dist = SVM_Params\n",
    "\n",
    "# Define random search\n",
    "rcv = RandomizedSearchCV(model, param_dist, n_iter = 100, cv = 10, scoring = 'accuracy')\n",
    "\n",
    "# Fit the model\n",
    "rcv.fit(X_train, y_train)\n",
    "\n",
    "# Results\n",
    "print(rcv.best_params_)\n",
    "print(rcv.best_score_.round(4))'''"
   ]
  },
  {
   "cell_type": "code",
   "execution_count": null,
   "metadata": {
    "colab": {
     "base_uri": "https://localhost:8080/"
    },
    "id": "PP05YVYEJEZm",
    "outputId": "8248b54c-866b-4709-b1d4-37cfffa8945d"
   },
   "outputs": [
    {
     "data": {
      "application/vnd.google.colaboratory.intrinsic+json": {
       "type": "string"
      },
      "text/plain": [
       "'# Evaluate\\nresult = rcv.score(X_test, y_test)\\npred_prob = rcv.predict_proba(X_test)\\ny_pred = rcv.predict(X_test)\\nauc_score = roc_auc_score(y_test, pred_prob[:,1])\\nconfusion_matrix = classification_report(y_test, y_pred)'"
      ]
     },
     "execution_count": 42,
     "metadata": {},
     "output_type": "execute_result"
    }
   ],
   "source": [
    "'''# Evaluate\n",
    "result = rcv.score(X_test, y_test)\n",
    "pred_prob = rcv.predict_proba(X_test)\n",
    "y_pred = rcv.predict(X_test)\n",
    "auc_score = roc_auc_score(y_test, pred_prob[:,1])\n",
    "confusion_matrix = classification_report(y_test, y_pred)'''"
   ]
  },
  {
   "cell_type": "markdown",
   "metadata": {
    "id": "wIywSCW1YbDe"
   },
   "source": [
    "# **DEEP LEARNING**"
   ]
  },
  {
   "cell_type": "markdown",
   "metadata": {
    "id": "Ydyg-cdtYhua"
   },
   "source": [
    "## **Models**"
   ]
  },
  {
   "cell_type": "markdown",
   "metadata": {
    "id": "TLcTwD9v4npp"
   },
   "source": [
    "### **PyTorch**"
   ]
  },
  {
   "cell_type": "markdown",
   "metadata": {
    "id": "o7vAZO8W08G-"
   },
   "source": [
    "#### Imports"
   ]
  },
  {
   "cell_type": "code",
   "execution_count": null,
   "metadata": {
    "id": "vDEc3J3d4qBK"
   },
   "outputs": [],
   "source": [
    "# Pytorch\n",
    "import torch\n",
    "from torch import nn\n",
    "import torch.optim as optim\n",
    "from sklearn.metrics import r2_score"
   ]
  },
  {
   "cell_type": "markdown",
   "metadata": {
    "id": "zNbQsjre6pul"
   },
   "source": [
    "#### Feature Engeneering"
   ]
  },
  {
   "cell_type": "code",
   "execution_count": null,
   "metadata": {
    "id": "fIv6_XzA6fwj"
   },
   "outputs": [],
   "source": [
    "# Reload the dataset\n",
    "import io\n",
    " \n",
    "df = pd.read_csv(io.BytesIO(uploaded['GermanCreditRisk.csv']))\n",
    "\n",
    "# Define types\n",
    "cat_cols = ['checking_balance', 'purpose', 'housing', 'existing_loans_count', 'job', 'phone']\n",
    "ord_cols = ['credit_history', 'savings_balance', 'employment_duration','percent_of_income', 'years_at_residence', 'default']\n",
    "num_cols = ['months_loan_duration', 'amount', 'age', 'dependents']\n",
    "\n",
    "# Apply\n",
    "df[cat_cols] = df[cat_cols].astype('category')\n",
    "df[ord_cols] = df[ord_cols].astype('category')\n",
    "df[num_cols] = df[num_cols].astype(int)\n",
    "\n",
    "# define the column transformer to handle different feature types\n",
    "transformer = ColumnTransformer(\n",
    "    transformers=[\n",
    "        \n",
    "        # handle missing values in numeric features\n",
    "        (\"num\", make_pipeline(\n",
    "            SimpleImputer(strategy=\"median\"),\n",
    "            FunctionTransformer(logFunc, feature_names_out='one-to-one'),\n",
    "            StandardScaler()),\n",
    "        num_cols),\n",
    "\n",
    "        # handle missing values and encode ordinal features\n",
    "        (\"ord\", make_pipeline(\n",
    "            SimpleImputer(strategy=\"most_frequent\"),\n",
    "            OrdinalEncoder()),\n",
    "        ord_cols),\n",
    "\n",
    "        # handle missing and encode categorical features\n",
    "        (\"cat\", make_pipeline(\n",
    "            SimpleImputer(strategy=\"most_frequent\"),\n",
    "            OneHotEncoder(drop='if_binary')),\n",
    "        cat_cols),\n",
    "    ]\n",
    ")\n",
    "\n",
    "# Define transformed DF\n",
    "df_new = transformer.fit_transform(df)\n",
    "df_new = pd.DataFrame(df_new, columns=list(transformer.get_feature_names_out()))\n",
    "\n",
    "# Split X and y\n",
    "df = df_new.values\n",
    "\n",
    "X, y = df_new.drop(columns=['ord__default']), df_new['ord__default']\n",
    "\n",
    "# Split the dataset into training and testing sets\n",
    "X_train, X_test, y_train, y_test = train_test_split(X, y, test_size=0.2, random_state=42)"
   ]
  },
  {
   "cell_type": "markdown",
   "metadata": {
    "id": "lKUXFQW7z56v"
   },
   "source": [
    "#### Model"
   ]
  },
  {
   "cell_type": "code",
   "execution_count": null,
   "metadata": {
    "colab": {
     "base_uri": "https://localhost:8080/",
     "height": 385
    },
    "id": "HveKwj33TxiO",
    "outputId": "303c82b0-bfef-47a2-9bf5-c2b391e4ce77"
   },
   "outputs": [
    {
     "name": "stdout",
     "output_type": "stream",
     "text": [
      "Accuracy: 0.7050\n"
     ]
    },
    {
     "data": {
      "image/png": "[encoded data removed]",
      "text/plain": [
       "<Figure size 800x400 with 1 Axes>"
      ]
     },
     "metadata": {},
     "output_type": "display_data"
    }
   ],
   "source": [
    "# Define size's layers\n",
    "in_size = X.shape[1]\n",
    "hidden_size = 10\n",
    "out_size = 2\n",
    "\n",
    "# Define the model\n",
    "model = nn.Sequential(\n",
    "    nn.Linear(in_features=in_size, out_features=hidden_size),\n",
    "    nn.ReLU(),\n",
    "    nn.Linear(in_features=hidden_size, out_features=hidden_size),\n",
    "    nn.ReLU(),\n",
    "    nn.LogSoftmax(dim=1),\n",
    ")\n",
    "\n",
    "# Move model and data to GPU\n",
    "device = torch.device('cuda' if torch.cuda.is_available() else 'cpu')\n",
    "model.to(device)\n",
    "\n",
    "# Convert the data into tensors\n",
    "X_train = torch.tensor(np.float32(X_train), dtype=torch.float32).to(device)\n",
    "X_test = torch.tensor(np.float32(X_test), dtype=torch.float32).to(device)\n",
    "y_train = torch.tensor(np.int32(y_train), dtype=torch.long).to(device)\n",
    "y_test = torch.tensor(np.int32(y_test), dtype=torch.long).to(device)\n",
    "\n",
    "# Define the loss function and optimizer\n",
    "criterion = nn.NLLLoss()\n",
    "optimizer = optim.Adam(model.parameters(), lr=0.01)\n",
    "\n",
    "# Train the model\n",
    "num_epochs = 100\n",
    "train_loss = []\n",
    "test_loss = []\n",
    "\n",
    "for epoch in range(num_epochs):\n",
    "  # Forward\n",
    "  y_pred = model(X_train)\n",
    "  loss = criterion(y_pred, y_train)\n",
    "\n",
    "  # Backward and Optimizer\n",
    "  optimizer.zero_grad()\n",
    "  loss.backward()\n",
    "  optimizer.step()\n",
    "  train_loss.append(loss.item())\n",
    "\n",
    "  # Testing\n",
    "  with torch.no_grad():\n",
    "        y_pred = model(X_test)\n",
    "        loss = criterion(y_pred, y_test)\n",
    "        test_loss.append(loss.item())\n",
    "\n",
    "  if epoch % 500 == 0:\n",
    "        pass #print(f\"Epoch: {epoch}, Train Loss: {train_loss[-1]}, Test Loss: {test_loss[-1]}\")\n",
    "\n",
    "# Evaluate the model on the test set\n",
    "with torch.no_grad():\n",
    "    y_pred = model(X_test)\n",
    "    _, predicted = torch.max(y_pred.data, 1)\n",
    "    accuracy = (predicted == y_test).sum().item() / len(y_test)\n",
    "    print(f\"Accuracy: {accuracy:.4f}\")\n",
    "\n",
    "# Plot the loss\n",
    "plt.figure(figsize = (8, 4))\n",
    "plt.plot(train_loss, label=\"Train Loss\")\n",
    "plt.plot(test_loss, label=\"Test Loss\")\n",
    "plt.legend()\n",
    "plt.show()"
   ]
  },
  {
   "cell_type": "code",
   "execution_count": null,
   "metadata": {
    "colab": {
     "base_uri": "https://localhost:8080/"
    },
    "id": "9fa6kNfJ_YV8",
    "outputId": "4d60ad8d-3005-4ede-84ff-a1e96bdd317e"
   },
   "outputs": [
    {
     "name": "stdout",
     "output_type": "stream",
     "text": [
      "Predicted: tensor([0, 0], device='cuda:0')\n"
     ]
    }
   ],
   "source": [
    "# Make predictions on new data\n",
    "\n",
    "# X new\n",
    "X_new = X_test[:2]\n",
    "\n",
    "# Convert X_new to tensor\n",
    "X_new = torch.tensor(X_new, dtype=torch.float32).to(device)\n",
    "\n",
    "# Make prediction\n",
    "with torch.no_grad():\n",
    "    outputs = model(X_new)\n",
    "    _, predicted = torch.max(outputs.data, 1)\n",
    "    print(f\"Predicted: {predicted}\")"
   ]
  },
  {
   "cell_type": "markdown",
   "metadata": {
    "id": "GhNQf-4w4n0d"
   },
   "source": [
    "### **TensorFlow**"
   ]
  },
  {
   "cell_type": "markdown",
   "metadata": {
    "id": "Cd5pAd3N01HV"
   },
   "source": [
    "#### Imports"
   ]
  },
  {
   "cell_type": "code",
   "execution_count": null,
   "metadata": {
    "id": "aduLbDsx4wDQ"
   },
   "outputs": [],
   "source": [
    "import tensorflow as tf\n",
    "from tensorflow import keras\n",
    "from tensorflow.keras.models import Sequential\n",
    "from tensorflow.keras.layers import Dense, Activation"
   ]
  },
  {
   "cell_type": "markdown",
   "metadata": {
    "id": "VoWH2i7n0qaR"
   },
   "source": [
    "#### Features Engeneering"
   ]
  },
  {
   "cell_type": "code",
   "execution_count": null,
   "metadata": {
    "id": "K4GGAN1mW9Ml"
   },
   "outputs": [],
   "source": [
    "# Reload the dataset\n",
    "import io\n",
    " \n",
    "df = pd.read_csv(io.BytesIO(uploaded['GermanCreditRisk.csv']))\n",
    "\n",
    "# Define types\n",
    "cat_cols = ['checking_balance', 'purpose', 'housing', 'existing_loans_count', 'job', 'phone']\n",
    "ord_cols = ['credit_history', 'savings_balance', 'employment_duration','percent_of_income', 'years_at_residence', 'default']\n",
    "num_cols = ['months_loan_duration', 'amount', 'age', 'dependents']\n",
    "\n",
    "# Apply\n",
    "df[cat_cols] = df[cat_cols].astype('category')\n",
    "df[ord_cols] = df[ord_cols].astype('category')\n",
    "df[num_cols] = df[num_cols].astype(int)\n",
    "\n",
    "# define the column transformer to handle different feature types\n",
    "transformer = ColumnTransformer(\n",
    "    transformers=[\n",
    "        \n",
    "        # handle missing values in numeric features\n",
    "        (\"num\", make_pipeline(\n",
    "            SimpleImputer(strategy=\"median\"),\n",
    "            FunctionTransformer(logFunc, feature_names_out='one-to-one'),\n",
    "            StandardScaler()),\n",
    "        num_cols),\n",
    "\n",
    "        # handle missing values and encode ordinal features\n",
    "        (\"ord\", make_pipeline(\n",
    "            SimpleImputer(strategy=\"most_frequent\"),\n",
    "            OrdinalEncoder()),\n",
    "        ord_cols),\n",
    "\n",
    "        # handle missing and encode categorical features\n",
    "        (\"cat\", make_pipeline(\n",
    "            SimpleImputer(strategy=\"most_frequent\"),\n",
    "            OneHotEncoder(drop='if_binary')),\n",
    "        cat_cols),\n",
    "    ]\n",
    ")\n",
    "\n",
    "# Define transformed DF\n",
    "df_new = transformer.fit_transform(df)\n",
    "df_new = pd.DataFrame(df_new, columns=list(transformer.get_feature_names_out()))\n",
    "\n",
    "# Split X and y\n",
    "df = df_new.values\n",
    "\n",
    "X, y = df_new.drop(columns=['ord__default']), df_new['ord__default']\n",
    "\n",
    "# Split the dataset into training and testing sets\n",
    "X_train, X_test, y_train, y_test = train_test_split(X, y, test_size=0.2, random_state=42)"
   ]
  },
  {
   "cell_type": "markdown",
   "metadata": {
    "id": "YZJOj2fG0vwK"
   },
   "source": [
    "#### Model"
   ]
  },
  {
   "cell_type": "code",
   "execution_count": null,
   "metadata": {
    "id": "tHEkTqSuZABV"
   },
   "outputs": [],
   "source": [
    "#https://towardsdatascience.com/7-popular-activation-functions-you-should-know-in-deep-learning-and-how-to-use-them-with-keras-and-27b4d838dfe6"
   ]
  },
  {
   "cell_type": "code",
   "execution_count": null,
   "metadata": {
    "colab": {
     "base_uri": "https://localhost:8080/"
    },
    "id": "l0DcjexQx2Ni",
    "outputId": "68da1883-10a2-473c-ff94-dd0f6896a83e"
   },
   "outputs": [
    {
     "name": "stdout",
     "output_type": "stream",
     "text": [
      "7/7 [==============================] - 0s 3ms/step - loss: 0.5650 - accuracy: 0.7400\n",
      "Test loss: 0.5650, Test MAE: 0.7400\n"
     ]
    },
    {
     "data": {
      "image/png": "[encoded data removed]",
      "text/plain": [
       "<Figure size 1100x500 with 1 Axes>"
      ]
     },
     "metadata": {},
     "output_type": "display_data"
    }
   ],
   "source": [
    "# Define size's layers\n",
    "in_size = X.shape[1]\n",
    "hidden_size = 8\n",
    "out_size = 2\n",
    "\n",
    "# Define the model\n",
    "model = Sequential([\n",
    "     Dense(hidden_size, input_shape=(in_size,), activation='relu'),   \n",
    "     Dense(8, activation='sigmoid'),   \n",
    "     Dense(4, activation='relu'),                        \n",
    "     Dense(out_size, activation='softmax')                          \n",
    "])\n",
    "\n",
    "# Compile the model\n",
    "optimizer = keras.optimizers.Adam(learning_rate=0.001)\n",
    "model.compile(optimizer=optimizer, loss='sparse_categorical_crossentropy', metrics=['accuracy'])\n",
    "\n",
    "# Train the model for 10 epochs\n",
    "history = model.fit(X_train, y_train, epochs=100, validation_data=(X_test, y_test), verbose=0)\n",
    "\n",
    "# Evaluate the model on the test set\n",
    "loss, mae = model.evaluate(X_test, y_test)\n",
    "print(f'Test loss: {loss:.4f}, Test MAE: {mae:.4f}')\n",
    "\n",
    "# Plot the loss_train and loss_test over time\n",
    "plt.figure(figsize = (11, 5))\n",
    "plt.plot(history.history['loss'], label='Training Loss')\n",
    "plt.plot(history.history['val_loss'], label='Testing Loss')\n",
    "plt.xlabel('Epoch')\n",
    "plt.ylabel('Loss')\n",
    "plt.legend()\n",
    "plt.show()"
   ]
  },
  {
   "cell_type": "code",
   "execution_count": null,
   "metadata": {
    "colab": {
     "base_uri": "https://localhost:8080/"
    },
    "id": "9uhIqTinHNMn",
    "outputId": "5ae9660a-157c-4839-ce78-6424367db79a"
   },
   "outputs": [
    {
     "name": "stdout",
     "output_type": "stream",
     "text": [
      "1/1 [==============================] - 0s 86ms/step\n"
     ]
    },
    {
     "data": {
      "text/plain": [
       "array([[0.51, 0.49],\n",
       "       [0.57, 0.43]], dtype=float32)"
      ]
     },
     "execution_count": 51,
     "metadata": {},
     "output_type": "execute_result"
    }
   ],
   "source": [
    "# Make predictions using TensorFlow model\n",
    "predictions_tf = model.predict(X_test[:2])\n",
    "predictions_tf.round(2)"
   ]
  },
  {
   "cell_type": "code",
   "execution_count": null,
   "metadata": {
    "colab": {
     "base_uri": "https://localhost:8080/"
    },
    "id": "Er1zJWD8LO6o",
    "outputId": "b4988201-616a-4fa3-f963-746a8440dbb0"
   },
   "outputs": [
    {
     "name": "stdout",
     "output_type": "stream",
     "text": [
      "1/1 [==============================] - 0s 22ms/step\n",
      "[[0.51 0.49]\n",
      " [0.57 0.43]]\n"
     ]
    }
   ],
   "source": [
    "# Make predictions on new data\n",
    "\n",
    "# X new\n",
    "X_new = X_test[:2]\n",
    "\n",
    "# Make predictions\n",
    "predictions_tf = model.predict(X_new)\n",
    "print(predictions_tf.round(2))"
   ]
  },
  {
   "cell_type": "code",
   "execution_count": null,
   "metadata": {
    "id": "Un1iAJgly-3T"
   },
   "outputs": [],
   "source": []
  }
 ],
 "metadata": {
  "accelerator": "GPU",
  "colab": {
   "collapsed_sections": [
    "_3jm9VYNYvwn",
    "5HMZwtREUVLk",
    "7X6ALoW5Nngt",
    "mz2b1synZ9IN",
    "tJ5qqH4qXff8",
    "t6mxV0Sr6MEz",
    "dkVpUKGWPbVo",
    "WXeTE06g6InA",
    "JGKZBcOqAXP2",
    "BXeDCpVOStw9",
    "5yMY9Xkc8q6T",
    "pqNYLRImOcWF",
    "WHrrfx1W6aBN",
    "-G6ij4-J4duz",
    "ozL3VOUB6QXd",
    "zT738Fai6Pvk",
    "ONI_y8mKFXJ1",
    "djP2LeXGFhPQ",
    "b67xMGt4DXbk",
    "F3TBSBNQ34N9",
    "IjjISN2eFm2c",
    "e1fMKI02JSxG",
    "1beb9999",
    "UPqs6pfw_jCF",
    "87671053",
    "TLcTwD9v4npp",
    "o7vAZO8W08G-",
    "zNbQsjre6pul",
    "lKUXFQW7z56v",
    "GhNQf-4w4n0d",
    "Cd5pAd3N01HV",
    "VoWH2i7n0qaR",
    "YZJOj2fG0vwK"
   ],
   "provenance": []
  },
  "gpuClass": "standard",
  "kernelspec": {
   "display_name": "Python 3 (ipykernel)",
   "language": "python",
   "name": "python3"
  },
  "language_info": {
   "codemirror_mode": {
    "name": "ipython",
    "version": 3
   },
   "file_extension": ".py",
   "mimetype": "text/x-python",
   "name": "python",
   "nbconvert_exporter": "python",
   "pygments_lexer": "ipython3",
   "version": "3.9.13"
  }
 },
 "nbformat": 4,
 "nbformat_minor": 1
}

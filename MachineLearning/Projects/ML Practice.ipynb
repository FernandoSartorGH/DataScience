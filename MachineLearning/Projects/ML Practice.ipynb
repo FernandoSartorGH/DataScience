{
 "cells": [
  {
   "cell_type": "markdown",
   "id": "da928bfb",
   "metadata": {},
   "source": [
    "# "
   ]
  },
  {
   "cell_type": "markdown",
   "id": "d126dfc9",
   "metadata": {},
   "source": [
    "# <center> ML/DL Regressor - Examples"
   ]
  },
  {
   "cell_type": "markdown",
   "id": "237b611c",
   "metadata": {},
   "source": [
    "## Imports"
   ]
  },
  {
   "cell_type": "code",
   "execution_count": 1,
   "id": "d732ed11",
   "metadata": {},
   "outputs": [],
   "source": [
    "# Imports\n",
    "import warnings\n",
    "warnings.filterwarnings('ignore')\n",
    "\n",
    "import numpy as np\n",
    "import pandas as pd\n",
    "\n",
    "import matplotlib.pyplot as plt\n",
    "\n",
    "from sklearn.model_selection import train_test_split"
   ]
  },
  {
   "cell_type": "markdown",
   "id": "ce5c765d",
   "metadata": {},
   "source": [
    "## Data"
   ]
  },
  {
   "cell_type": "code",
   "execution_count": 2,
   "id": "fbd6aeb8",
   "metadata": {},
   "outputs": [],
   "source": [
    "# load data\n",
    "url = \"https://raw.githubusercontent.com/FernandoSartorGH/data/main/housing.csv\"\n",
    "\n",
    "df = pd.read_csv(url)"
   ]
  },
  {
   "cell_type": "code",
   "execution_count": 3,
   "id": "3e957ae5",
   "metadata": {},
   "outputs": [],
   "source": [
    "# Define X and y\n",
    "X, y = df.drop(columns='target'), df.target\n",
    "\n",
    "# Train test data\n",
    "X_train, X_test, y_train,  y_test = train_test_split(X, y, test_size=0.2, random_state=1234)"
   ]
  },
  {
   "cell_type": "markdown",
   "id": "1fea86a4",
   "metadata": {},
   "source": [
    "## View Data"
   ]
  },
  {
   "cell_type": "code",
   "execution_count": 4,
   "id": "7260a7d9",
   "metadata": {},
   "outputs": [
    {
     "data": {
      "text/html": [
       "<div>\n",
       "<style scoped>\n",
       "    .dataframe tbody tr th:only-of-type {\n",
       "        vertical-align: middle;\n",
       "    }\n",
       "\n",
       "    .dataframe tbody tr th {\n",
       "        vertical-align: top;\n",
       "    }\n",
       "\n",
       "    .dataframe thead th {\n",
       "        text-align: right;\n",
       "    }\n",
       "</style>\n",
       "<table border=\"1\" class=\"dataframe\">\n",
       "  <thead>\n",
       "    <tr style=\"text-align: right;\">\n",
       "      <th></th>\n",
       "      <th>ZN</th>\n",
       "      <th>INDUS</th>\n",
       "      <th>CHAS</th>\n",
       "      <th>NOX</th>\n",
       "      <th>RM</th>\n",
       "      <th>AGE</th>\n",
       "      <th>DIS</th>\n",
       "      <th>RAD</th>\n",
       "      <th>TAX</th>\n",
       "      <th>PTRATIO</th>\n",
       "      <th>B</th>\n",
       "      <th>LSTAT</th>\n",
       "      <th>target</th>\n",
       "    </tr>\n",
       "  </thead>\n",
       "  <tbody>\n",
       "    <tr>\n",
       "      <th>0</th>\n",
       "      <td>18.0</td>\n",
       "      <td>2.31</td>\n",
       "      <td>0.0</td>\n",
       "      <td>0.538</td>\n",
       "      <td>6.575</td>\n",
       "      <td>65.2</td>\n",
       "      <td>4.0900</td>\n",
       "      <td>1.0</td>\n",
       "      <td>296.0</td>\n",
       "      <td>15.3</td>\n",
       "      <td>396.90</td>\n",
       "      <td>4.98</td>\n",
       "      <td>24.0</td>\n",
       "    </tr>\n",
       "    <tr>\n",
       "      <th>1</th>\n",
       "      <td>0.0</td>\n",
       "      <td>7.07</td>\n",
       "      <td>0.0</td>\n",
       "      <td>0.469</td>\n",
       "      <td>6.421</td>\n",
       "      <td>78.9</td>\n",
       "      <td>4.9671</td>\n",
       "      <td>2.0</td>\n",
       "      <td>242.0</td>\n",
       "      <td>17.8</td>\n",
       "      <td>396.90</td>\n",
       "      <td>9.14</td>\n",
       "      <td>21.6</td>\n",
       "    </tr>\n",
       "    <tr>\n",
       "      <th>2</th>\n",
       "      <td>0.0</td>\n",
       "      <td>7.07</td>\n",
       "      <td>0.0</td>\n",
       "      <td>0.469</td>\n",
       "      <td>7.185</td>\n",
       "      <td>61.1</td>\n",
       "      <td>4.9671</td>\n",
       "      <td>2.0</td>\n",
       "      <td>242.0</td>\n",
       "      <td>17.8</td>\n",
       "      <td>392.83</td>\n",
       "      <td>4.03</td>\n",
       "      <td>34.7</td>\n",
       "    </tr>\n",
       "    <tr>\n",
       "      <th>3</th>\n",
       "      <td>0.0</td>\n",
       "      <td>2.18</td>\n",
       "      <td>0.0</td>\n",
       "      <td>0.458</td>\n",
       "      <td>6.998</td>\n",
       "      <td>45.8</td>\n",
       "      <td>6.0622</td>\n",
       "      <td>3.0</td>\n",
       "      <td>222.0</td>\n",
       "      <td>18.7</td>\n",
       "      <td>394.63</td>\n",
       "      <td>2.94</td>\n",
       "      <td>33.4</td>\n",
       "    </tr>\n",
       "    <tr>\n",
       "      <th>4</th>\n",
       "      <td>0.0</td>\n",
       "      <td>2.18</td>\n",
       "      <td>0.0</td>\n",
       "      <td>0.458</td>\n",
       "      <td>7.147</td>\n",
       "      <td>54.2</td>\n",
       "      <td>6.0622</td>\n",
       "      <td>3.0</td>\n",
       "      <td>222.0</td>\n",
       "      <td>18.7</td>\n",
       "      <td>396.90</td>\n",
       "      <td>5.33</td>\n",
       "      <td>36.2</td>\n",
       "    </tr>\n",
       "    <tr>\n",
       "      <th>...</th>\n",
       "      <td>...</td>\n",
       "      <td>...</td>\n",
       "      <td>...</td>\n",
       "      <td>...</td>\n",
       "      <td>...</td>\n",
       "      <td>...</td>\n",
       "      <td>...</td>\n",
       "      <td>...</td>\n",
       "      <td>...</td>\n",
       "      <td>...</td>\n",
       "      <td>...</td>\n",
       "      <td>...</td>\n",
       "      <td>...</td>\n",
       "    </tr>\n",
       "    <tr>\n",
       "      <th>501</th>\n",
       "      <td>0.0</td>\n",
       "      <td>11.93</td>\n",
       "      <td>0.0</td>\n",
       "      <td>0.573</td>\n",
       "      <td>6.593</td>\n",
       "      <td>69.1</td>\n",
       "      <td>2.4786</td>\n",
       "      <td>1.0</td>\n",
       "      <td>273.0</td>\n",
       "      <td>21.0</td>\n",
       "      <td>391.99</td>\n",
       "      <td>9.67</td>\n",
       "      <td>22.4</td>\n",
       "    </tr>\n",
       "    <tr>\n",
       "      <th>502</th>\n",
       "      <td>0.0</td>\n",
       "      <td>11.93</td>\n",
       "      <td>0.0</td>\n",
       "      <td>0.573</td>\n",
       "      <td>6.120</td>\n",
       "      <td>76.7</td>\n",
       "      <td>2.2875</td>\n",
       "      <td>1.0</td>\n",
       "      <td>273.0</td>\n",
       "      <td>21.0</td>\n",
       "      <td>396.90</td>\n",
       "      <td>9.08</td>\n",
       "      <td>20.6</td>\n",
       "    </tr>\n",
       "    <tr>\n",
       "      <th>503</th>\n",
       "      <td>0.0</td>\n",
       "      <td>11.93</td>\n",
       "      <td>0.0</td>\n",
       "      <td>0.573</td>\n",
       "      <td>6.976</td>\n",
       "      <td>91.0</td>\n",
       "      <td>2.1675</td>\n",
       "      <td>1.0</td>\n",
       "      <td>273.0</td>\n",
       "      <td>21.0</td>\n",
       "      <td>396.90</td>\n",
       "      <td>5.64</td>\n",
       "      <td>23.9</td>\n",
       "    </tr>\n",
       "    <tr>\n",
       "      <th>504</th>\n",
       "      <td>0.0</td>\n",
       "      <td>11.93</td>\n",
       "      <td>0.0</td>\n",
       "      <td>0.573</td>\n",
       "      <td>6.794</td>\n",
       "      <td>89.3</td>\n",
       "      <td>2.3889</td>\n",
       "      <td>1.0</td>\n",
       "      <td>273.0</td>\n",
       "      <td>21.0</td>\n",
       "      <td>393.45</td>\n",
       "      <td>6.48</td>\n",
       "      <td>22.0</td>\n",
       "    </tr>\n",
       "    <tr>\n",
       "      <th>505</th>\n",
       "      <td>0.0</td>\n",
       "      <td>11.93</td>\n",
       "      <td>0.0</td>\n",
       "      <td>0.573</td>\n",
       "      <td>6.030</td>\n",
       "      <td>80.8</td>\n",
       "      <td>2.5050</td>\n",
       "      <td>1.0</td>\n",
       "      <td>273.0</td>\n",
       "      <td>21.0</td>\n",
       "      <td>396.90</td>\n",
       "      <td>7.88</td>\n",
       "      <td>11.9</td>\n",
       "    </tr>\n",
       "  </tbody>\n",
       "</table>\n",
       "<p>506 rows × 13 columns</p>\n",
       "</div>"
      ],
      "text/plain": [
       "       ZN  INDUS  CHAS    NOX     RM   AGE     DIS  RAD    TAX  PTRATIO  \\\n",
       "0    18.0   2.31   0.0  0.538  6.575  65.2  4.0900  1.0  296.0     15.3   \n",
       "1     0.0   7.07   0.0  0.469  6.421  78.9  4.9671  2.0  242.0     17.8   \n",
       "2     0.0   7.07   0.0  0.469  7.185  61.1  4.9671  2.0  242.0     17.8   \n",
       "3     0.0   2.18   0.0  0.458  6.998  45.8  6.0622  3.0  222.0     18.7   \n",
       "4     0.0   2.18   0.0  0.458  7.147  54.2  6.0622  3.0  222.0     18.7   \n",
       "..    ...    ...   ...    ...    ...   ...     ...  ...    ...      ...   \n",
       "501   0.0  11.93   0.0  0.573  6.593  69.1  2.4786  1.0  273.0     21.0   \n",
       "502   0.0  11.93   0.0  0.573  6.120  76.7  2.2875  1.0  273.0     21.0   \n",
       "503   0.0  11.93   0.0  0.573  6.976  91.0  2.1675  1.0  273.0     21.0   \n",
       "504   0.0  11.93   0.0  0.573  6.794  89.3  2.3889  1.0  273.0     21.0   \n",
       "505   0.0  11.93   0.0  0.573  6.030  80.8  2.5050  1.0  273.0     21.0   \n",
       "\n",
       "          B  LSTAT  target  \n",
       "0    396.90   4.98    24.0  \n",
       "1    396.90   9.14    21.6  \n",
       "2    392.83   4.03    34.7  \n",
       "3    394.63   2.94    33.4  \n",
       "4    396.90   5.33    36.2  \n",
       "..      ...    ...     ...  \n",
       "501  391.99   9.67    22.4  \n",
       "502  396.90   9.08    20.6  \n",
       "503  396.90   5.64    23.9  \n",
       "504  393.45   6.48    22.0  \n",
       "505  396.90   7.88    11.9  \n",
       "\n",
       "[506 rows x 13 columns]"
      ]
     },
     "execution_count": 4,
     "metadata": {},
     "output_type": "execute_result"
    }
   ],
   "source": [
    "df"
   ]
  },
  {
   "cell_type": "code",
   "execution_count": 5,
   "id": "e990a067",
   "metadata": {},
   "outputs": [
    {
     "data": {
      "text/plain": [
       "ZN         0\n",
       "INDUS      0\n",
       "CHAS       0\n",
       "NOX        0\n",
       "RM         0\n",
       "AGE        0\n",
       "DIS        0\n",
       "RAD        0\n",
       "TAX        0\n",
       "PTRATIO    0\n",
       "B          0\n",
       "LSTAT      0\n",
       "target     0\n",
       "dtype: int64"
      ]
     },
     "execution_count": 5,
     "metadata": {},
     "output_type": "execute_result"
    }
   ],
   "source": [
    "# Check\n",
    "df.isna().sum()"
   ]
  },
  {
   "cell_type": "code",
   "execution_count": 6,
   "id": "86fa4128",
   "metadata": {},
   "outputs": [
    {
     "data": {
      "text/plain": [
       "ZN         float64\n",
       "INDUS      float64\n",
       "CHAS       float64\n",
       "NOX        float64\n",
       "RM         float64\n",
       "AGE        float64\n",
       "DIS        float64\n",
       "RAD        float64\n",
       "TAX        float64\n",
       "PTRATIO    float64\n",
       "B          float64\n",
       "LSTAT      float64\n",
       "target     float64\n",
       "dtype: object"
      ]
     },
     "execution_count": 6,
     "metadata": {},
     "output_type": "execute_result"
    }
   ],
   "source": [
    "# Check types\n",
    "df.dtypes"
   ]
  },
  {
   "cell_type": "code",
   "execution_count": 7,
   "id": "f1cc2a2b",
   "metadata": {},
   "outputs": [
    {
     "data": {
      "text/plain": [
       "ZN          26\n",
       "INDUS       76\n",
       "CHAS         2\n",
       "NOX         81\n",
       "RM         446\n",
       "AGE        356\n",
       "DIS        412\n",
       "RAD          9\n",
       "TAX         66\n",
       "PTRATIO     46\n",
       "B          357\n",
       "LSTAT      455\n",
       "target     229\n",
       "dtype: int64"
      ]
     },
     "execution_count": 7,
     "metadata": {},
     "output_type": "execute_result"
    }
   ],
   "source": [
    "# Check Uniques\n",
    "df.nunique()"
   ]
  },
  {
   "cell_type": "markdown",
   "id": "ad7f2363",
   "metadata": {},
   "source": [
    "---"
   ]
  },
  {
   "cell_type": "markdown",
   "id": "ce978832",
   "metadata": {},
   "source": [
    "# Base Line"
   ]
  },
  {
   "cell_type": "markdown",
   "id": "d90d789a",
   "metadata": {},
   "source": [
    "## Linear Regression"
   ]
  },
  {
   "cell_type": "code",
   "execution_count": 8,
   "id": "b08704a5",
   "metadata": {},
   "outputs": [],
   "source": [
    "# Imports\n",
    "from sklearn.metrics import r2_score\n",
    "from sklearn.linear_model import LinearRegression"
   ]
  },
  {
   "cell_type": "code",
   "execution_count": 9,
   "id": "27fcc781",
   "metadata": {},
   "outputs": [
    {
     "name": "stdout",
     "output_type": "stream",
     "text": [
      "r2: 75.68%\n"
     ]
    }
   ],
   "source": [
    "# Define model\n",
    "lr = LinearRegression()\n",
    "\n",
    "# Fit Model\n",
    "lr.fit(X_train, y_train)\n",
    "\n",
    "# Predictions\n",
    "y_pred = lr.predict(X_test)\n",
    "\n",
    "# Accuracy\n",
    "r2 = r2_score(y_test, y_pred)\n",
    "print(f'r2: {round(r2*100, 2)}%')"
   ]
  },
  {
   "cell_type": "markdown",
   "id": "1f8961e0",
   "metadata": {},
   "source": [
    "## Knn"
   ]
  },
  {
   "cell_type": "code",
   "execution_count": 10,
   "id": "27944d57",
   "metadata": {},
   "outputs": [],
   "source": [
    "# Imports\n",
    "from sklearn.metrics import r2_score\n",
    "from sklearn.neighbors import KNeighborsRegressor"
   ]
  },
  {
   "cell_type": "code",
   "execution_count": 11,
   "id": "722f906a",
   "metadata": {},
   "outputs": [
    {
     "name": "stdout",
     "output_type": "stream",
     "text": [
      "r2: 55.95%\n"
     ]
    }
   ],
   "source": [
    "# Define model\n",
    "knn = KNeighborsRegressor()\n",
    "\n",
    "# Fit model\n",
    "knn.fit(X_train, y_train)\n",
    "\n",
    "# Predictions\n",
    "y_pred = knn.predict(X_test)\n",
    "\n",
    "# Accuracy\n",
    "r2 = r2_score(y_test, y_pred)\n",
    "print(f'r2: {round(r2*100, 2)}%')"
   ]
  },
  {
   "cell_type": "markdown",
   "id": "4a6dd8d9",
   "metadata": {},
   "source": [
    "## Decision Tree"
   ]
  },
  {
   "cell_type": "code",
   "execution_count": 12,
   "id": "c269e033",
   "metadata": {},
   "outputs": [],
   "source": [
    "# Imports\n",
    "from sklearn.tree import DecisionTreeRegressor"
   ]
  },
  {
   "cell_type": "code",
   "execution_count": 13,
   "id": "c39076f3",
   "metadata": {},
   "outputs": [
    {
     "name": "stdout",
     "output_type": "stream",
     "text": [
      "r2: 79.39%\n"
     ]
    }
   ],
   "source": [
    "# Define the model\n",
    "dt = DecisionTreeRegressor()\n",
    "\n",
    "# Fit the model\n",
    "dt.fit(X_train, y_train)\n",
    "\n",
    "# Predictions\n",
    "y_pred = dt.predict(X_test)\n",
    "\n",
    "# Accuracy\n",
    "r2 = r2_score(y_test, y_pred)\n",
    "print(f'r2: {round(r2*100, 2)}%')"
   ]
  },
  {
   "cell_type": "markdown",
   "id": "4e358a39",
   "metadata": {},
   "source": [
    "---"
   ]
  },
  {
   "cell_type": "markdown",
   "id": "811cddb9",
   "metadata": {},
   "source": [
    "# Machine Learning Models"
   ]
  },
  {
   "cell_type": "markdown",
   "id": "f6920bf0",
   "metadata": {},
   "source": [
    "## Random Forest"
   ]
  },
  {
   "cell_type": "code",
   "execution_count": 14,
   "id": "4a35faaa",
   "metadata": {},
   "outputs": [],
   "source": [
    "# Imports\n",
    "from sklearn.ensemble import RandomForestRegressor"
   ]
  },
  {
   "cell_type": "code",
   "execution_count": 15,
   "id": "e742cf0e",
   "metadata": {},
   "outputs": [
    {
     "name": "stdout",
     "output_type": "stream",
     "text": [
      "r2: 91.7%\n"
     ]
    }
   ],
   "source": [
    "# Define the model\n",
    "rf = RandomForestRegressor(n_estimators = 100, random_state = 123)\n",
    "\n",
    "# Fit the model\n",
    "rf.fit(X_train, y_train)\n",
    "\n",
    "# Predictions\n",
    "y_pred = rf.predict(X_test)\n",
    "\n",
    "# Accuracy\n",
    "r2 = r2_score(y_test, y_pred)\n",
    "print(f'r2: {round(r2*100, 2)}%')"
   ]
  },
  {
   "cell_type": "markdown",
   "id": "ab933c97",
   "metadata": {},
   "source": [
    "## Extra Trees"
   ]
  },
  {
   "cell_type": "code",
   "execution_count": 16,
   "id": "84ae76e0",
   "metadata": {},
   "outputs": [],
   "source": [
    "# Imports\n",
    "from sklearn.ensemble import ExtraTreesRegressor"
   ]
  },
  {
   "cell_type": "code",
   "execution_count": 17,
   "id": "738bd4db",
   "metadata": {},
   "outputs": [
    {
     "name": "stdout",
     "output_type": "stream",
     "text": [
      "r2: 92.16%\n"
     ]
    }
   ],
   "source": [
    "# Define the model\n",
    "et = ExtraTreesRegressor(n_estimators = 100, random_state = 123)\n",
    "\n",
    "# Fit the model\n",
    "et.fit(X_train, y_train)\n",
    "\n",
    "# Predictions\n",
    "y_pred = et.predict(X_test)\n",
    "\n",
    "# Accuracy\n",
    "r2 = r2_score(y_test, y_pred)\n",
    "print(f'r2: {round(r2*100, 2)}%')"
   ]
  },
  {
   "cell_type": "markdown",
   "id": "ee0b2d9a",
   "metadata": {},
   "source": [
    "## ADA Boosting"
   ]
  },
  {
   "cell_type": "code",
   "execution_count": 18,
   "id": "bea7d0c9",
   "metadata": {},
   "outputs": [],
   "source": [
    "from sklearn.ensemble import AdaBoostRegressor"
   ]
  },
  {
   "cell_type": "code",
   "execution_count": 19,
   "id": "758824c8",
   "metadata": {},
   "outputs": [
    {
     "name": "stdout",
     "output_type": "stream",
     "text": [
      "r2: 87.28%\n"
     ]
    }
   ],
   "source": [
    "# Define the model\n",
    "ada = AdaBoostRegressor(n_estimators = 100, random_state = 123)\n",
    "\n",
    "# Fit the model\n",
    "ada.fit(X_train, y_train)\n",
    "\n",
    "# Predictions\n",
    "y_pred = ada.predict(X_test)\n",
    "\n",
    "# Accuracy\n",
    "r2 = r2_score(y_test, y_pred)\n",
    "print(f'r2: {round(r2*100, 2)}%')"
   ]
  },
  {
   "cell_type": "markdown",
   "id": "dfd9a580",
   "metadata": {},
   "source": [
    "## Grad Boosting"
   ]
  },
  {
   "cell_type": "code",
   "execution_count": 20,
   "id": "012fb95d",
   "metadata": {},
   "outputs": [],
   "source": [
    "from sklearn.ensemble import GradientBoostingRegressor"
   ]
  },
  {
   "cell_type": "code",
   "execution_count": 21,
   "id": "b6562db2",
   "metadata": {},
   "outputs": [
    {
     "name": "stdout",
     "output_type": "stream",
     "text": [
      "r2: 91.53%\n"
     ]
    }
   ],
   "source": [
    "# Define the model\n",
    "grd = GradientBoostingRegressor(n_estimators = 100, random_state = 123)\n",
    "\n",
    "# Fit the model\n",
    "grd.fit(X_train, y_train)\n",
    "\n",
    "# Predictions\n",
    "y_pred = grd.predict(X_test)\n",
    "\n",
    "# Accuracy\n",
    "r2 = r2_score(y_test, y_pred)\n",
    "print(f'r2: {round(r2*100, 2)}%')"
   ]
  },
  {
   "cell_type": "markdown",
   "id": "6c54f807",
   "metadata": {},
   "source": [
    "## SVM"
   ]
  },
  {
   "cell_type": "code",
   "execution_count": 22,
   "id": "7a3bc75d",
   "metadata": {},
   "outputs": [],
   "source": [
    "# Imports\n",
    "from sklearn.svm import SVR\n",
    "from sklearn.preprocessing import MinMaxScaler"
   ]
  },
  {
   "cell_type": "code",
   "execution_count": 23,
   "id": "0435e4b0",
   "metadata": {},
   "outputs": [],
   "source": [
    "# Standard scaler\n",
    "scaler = MinMaxScaler().fit(X_train)\n",
    "train_std = scaler.transform(X_train)\n",
    "X_train_std = pd.DataFrame(train_std, columns=X_train.columns)\n",
    "\n",
    "test_std = scaler.transform(X_test)\n",
    "X_test_std = pd.DataFrame(test_std, columns=X_test.columns)"
   ]
  },
  {
   "cell_type": "code",
   "execution_count": 24,
   "id": "56134975",
   "metadata": {},
   "outputs": [
    {
     "name": "stdout",
     "output_type": "stream",
     "text": [
      "r2: 61.92%\n"
     ]
    }
   ],
   "source": [
    "# Define the model\n",
    "svm = SVR()\n",
    "\n",
    "# Fit the model\n",
    "svm.fit(X_train_std, y_train)\n",
    "\n",
    "# Predictions\n",
    "y_pred = svm.predict(X_test_std)\n",
    "\n",
    "# Accuracy\n",
    "r2 = r2_score(y_test, y_pred)\n",
    "print(f'r2: {round(r2*100, 2)}%')"
   ]
  },
  {
   "cell_type": "markdown",
   "id": "d51008cb",
   "metadata": {},
   "source": [
    "---"
   ]
  },
  {
   "cell_type": "markdown",
   "id": "96e409a9",
   "metadata": {},
   "source": [
    "# Deep Learnig Models"
   ]
  },
  {
   "cell_type": "markdown",
   "id": "7f3c8512",
   "metadata": {},
   "source": [
    "## Pytorch"
   ]
  },
  {
   "cell_type": "code",
   "execution_count": 25,
   "id": "37c13fa3",
   "metadata": {},
   "outputs": [],
   "source": [
    "# Pytorch\n",
    "import torch\n",
    "from torch import nn\n",
    "import torch.optim as optim"
   ]
  },
  {
   "cell_type": "code",
   "execution_count": 28,
   "id": "40e0f3dd",
   "metadata": {},
   "outputs": [],
   "source": [
    "# Define devicce\n",
    "device = torch.device('cuda' if torch.cuda.is_available() else 'cpu')"
   ]
  },
  {
   "cell_type": "code",
   "execution_count": 29,
   "id": "f2d2368f",
   "metadata": {},
   "outputs": [],
   "source": [
    "# load data\n",
    "url = \"https://raw.githubusercontent.com/FernandoSartorGH/data/main/housing.csv\"\n",
    "\n",
    "df = pd.read_csv(url)\n",
    "\n",
    "# Define X and y\n",
    "X, y = df.drop(columns='target'), df.target\n",
    "\n",
    "# Train test data\n",
    "X_train, X_test, y_train, y_test = train_test_split(X, y, test_size=0.2, random_state=1234)"
   ]
  },
  {
   "cell_type": "code",
   "execution_count": 30,
   "id": "1d5d00cc",
   "metadata": {},
   "outputs": [],
   "source": [
    "# Standard scaler for input features\n",
    "train_scaler = MinMaxScaler().fit(X_train)\n",
    "train_std = train_scaler.transform(X_train)\n",
    "test_std = train_scaler.transform(X_test)  # Use the same scaler for test data\n",
    "\n",
    "X_train_std = torch.tensor(train_std, dtype=torch.float32).to(device)\n",
    "X_test_std = torch.tensor(test_std, dtype=torch.float32).to(device)\n",
    "\n",
    "# Convert the target variable into tensors\n",
    "y_train = torch.tensor(y_train.values, dtype=torch.float32).to(device)\n",
    "y_test = torch.tensor(y_test.values, dtype=torch.float32).to(device)"
   ]
  },
  {
   "cell_type": "code",
   "execution_count": 31,
   "id": "c3d9fdab",
   "metadata": {},
   "outputs": [],
   "source": [
    "# Parameters\n",
    "in_size = X_train.shape[1]\n",
    "hidden_size = 10\n",
    "out_size = 1 \n",
    "\n",
    "# Define model\n",
    "model = nn.Sequential(\n",
    "    nn.Linear(in_features=in_size, out_features=hidden_size),\n",
    "    nn.ReLU(),\n",
    "    nn.Linear(in_features=hidden_size, out_features=hidden_size),\n",
    "    nn.ReLU(),\n",
    "    nn.Linear(in_features=hidden_size, out_features = 1)\n",
    ")\n",
    "\n",
    "# Move model and data to GPU\n",
    "model.to(device)\n",
    "\n",
    "# Define the loss function and optimizer\n",
    "criterion = nn.MSELoss()\n",
    "optimizer = optim.Adam(model.parameters(), lr=0.01)"
   ]
  },
  {
   "cell_type": "code",
   "execution_count": 32,
   "id": "ccc3cb86",
   "metadata": {},
   "outputs": [
    {
     "name": "stdout",
     "output_type": "stream",
     "text": [
      "Mean Squared Error (MSE) on Test Set: 178.5418\n",
      "r2 score on Test Set: 0.8572\n"
     ]
    }
   ],
   "source": [
    "# Train the model\n",
    "num_epochs = 1000\n",
    "train_loss = []\n",
    "test_loss = []\n",
    "train_r2 = []\n",
    "test_r2 = []\n",
    "\n",
    "for epoch in range(num_epochs):\n",
    "    # Forward\n",
    "    y_pred = model(X_train_std)\n",
    "    loss = criterion(y_pred, y_train.unsqueeze(1))\n",
    "    \n",
    "    # Calculate R² for training data\n",
    "    train_r2.append(r2_score(y_train.numpy(), y_pred.detach().numpy()))\n",
    "\n",
    "\n",
    "    # Backward and Optimizer\n",
    "    optimizer.zero_grad()\n",
    "    loss.backward()\n",
    "    optimizer.step()\n",
    "    train_loss.append(loss.item())\n",
    "\n",
    "    # Testing\n",
    "    with torch.no_grad():\n",
    "        y_pred = model(X_test_std)\n",
    "        loss = criterion(y_pred, y_test.unsqueeze(1))\n",
    "        test_loss.append(loss.item())\n",
    "        \n",
    "        # Calculate R² for test data\n",
    "        test_r2.append(r2_score(y_test.numpy(), y_pred.detach().numpy()))\n",
    "\n",
    "\n",
    "    if epoch % 50 == 0:\n",
    "        pass #print(f\"Epoch: {epoch}, Train Loss: {train_loss[-1]}, Test Loss: {test_loss[-1]}\")\n",
    "\n",
    "# Evaluate the model on the test set\n",
    "# Evaluate the model on the test set\n",
    "with torch.no_grad():\n",
    "    y_pred = model(X_test_std)\n",
    "    mse = criterion(y_pred, y_test)\n",
    "    r2 = r2_score(y_test.numpy(), y_pred.detach().numpy())\n",
    "    print(f\"Mean Squared Error (MSE) on Test Set: {mse:.4f}\")\n",
    "    print(f\"r2 score on Test Set: {r2:.4f}\")"
   ]
  },
  {
   "cell_type": "code",
   "execution_count": 33,
   "id": "4704d985",
   "metadata": {},
   "outputs": [
    {
     "data": {
      "image/png": "[encoded data removed]",
      "text/plain": [
       "<Figure size 800x400 with 1 Axes>"
      ]
     },
     "metadata": {},
     "output_type": "display_data"
    }
   ],
   "source": [
    "# Plot the loss\n",
    "plt.figure(figsize = (8, 4))\n",
    "plt.plot(train_loss, label=\"Train Loss\")\n",
    "plt.plot(test_loss, label=\"Test Loss\")\n",
    "plt.xlabel('Epoch')\n",
    "plt.ylabel('Loss')\n",
    "plt.legend()\n",
    "plt.show()"
   ]
  },
  {
   "cell_type": "code",
   "execution_count": 34,
   "id": "c84d6694",
   "metadata": {},
   "outputs": [
    {
     "data": {
      "image/png": "[encoded data removed]",
      "text/plain": [
       "<Figure size 800x400 with 1 Axes>"
      ]
     },
     "metadata": {},
     "output_type": "display_data"
    }
   ],
   "source": [
    "# Plot the loss\n",
    "plt.figure(figsize = (8, 4))\n",
    "plt.plot(train_r2, label=\"Train Loss\")\n",
    "plt.plot(test_r2, label=\"Test Loss\")\n",
    "plt.xlabel('Epoch')\n",
    "plt.ylabel('R2')\n",
    "plt.legend()\n",
    "plt.show()"
   ]
  },
  {
   "cell_type": "markdown",
   "id": "e30e2c8c",
   "metadata": {},
   "source": [
    "## Tensor Flow"
   ]
  },
  {
   "cell_type": "code",
   "execution_count": 42,
   "id": "f0895c10",
   "metadata": {},
   "outputs": [],
   "source": [
    "# Imports\n",
    "import tensorflow as tf\n",
    "from tensorflow.keras.models import Sequential\n",
    "from tensorflow.keras.layers import Dense, Activation"
   ]
  },
  {
   "cell_type": "code",
   "execution_count": 43,
   "id": "4c1e9c12",
   "metadata": {},
   "outputs": [],
   "source": [
    "# load data\n",
    "url = \"https://raw.githubusercontent.com/FernandoSartorGH/data/main/housing.csv\"\n",
    "df = pd.read_csv(url)\n",
    "\n",
    "# Define X and y\n",
    "X, y = df.drop(columns='target'), df.target\n",
    "\n",
    "# Train test data\n",
    "X_train, X_test, y_train, y_test = train_test_split(X, y, test_size=0.2, random_state=1234)\n",
    "\n",
    "# Standard scaler\n",
    "scaler = MinMaxScaler().fit(X_train)\n",
    "train_std = scaler.transform(X_train)\n",
    "test_std = scaler.transform(X_test)\n",
    "\n",
    "X_train_std = pd.DataFrame(train_std, columns=X_train.columns)\n",
    "X_test_std = pd.DataFrame(test_std, columns=X_test.columns)"
   ]
  },
  {
   "cell_type": "code",
   "execution_count": 44,
   "id": "e0ee37a0",
   "metadata": {},
   "outputs": [],
   "source": [
    "# Define the model structure\n",
    "in_size = X_train.shape[1]\n",
    "hidden_size = 10\n",
    "out_size = 1\n",
    "\n",
    "# Create TensorFlow model\n",
    "tf_model = Sequential([\n",
    "     Dense(hidden_size, input_shape=(in_size,), activation='relu'),   \n",
    "     Dense(hidden_size, activation='relu'),                           \n",
    "     Dense(out_size)                            \n",
    "])"
   ]
  },
  {
   "cell_type": "code",
   "execution_count": 45,
   "id": "3e1e0c04",
   "metadata": {},
   "outputs": [],
   "source": [
    "# Define custom R² metric function\n",
    "def r_squared(y_true, y_pred):\n",
    "    SS_res = tf.reduce_sum(tf.square(y_true - y_pred))\n",
    "    SS_tot = tf.reduce_sum(tf.square(y_true - tf.reduce_mean(y_true)))\n",
    "    return 1 - (SS_res / (SS_tot + tf.keras.backend.epsilon()))\n",
    "\n",
    "# Compile the model with the custom optimizer and metric\n",
    "optimizer = tf.keras.optimizers.Adam(learning_rate=0.01)\n",
    "tf_model.compile(optimizer=optimizer, loss='mse', metrics=[r_squared])\n",
    "\n",
    "# Train the model and collect history\n",
    "history = tf_model.fit(X_train_std, y_train, epochs=1000, batch_size=16, validation_split=0.2, verbose=0)\n",
    "\n",
    "# Extract training and validation loss\n",
    "train_loss = history.history['loss']\n",
    "val_loss = history.history['val_loss']\n",
    "\n",
    "# Extract training and validation R²\n",
    "train_r_squared = history.history['r_squared']\n",
    "val_r_squared = history.history['val_r_squared']"
   ]
  },
  {
   "cell_type": "code",
   "execution_count": 46,
   "id": "beb8b65c",
   "metadata": {},
   "outputs": [
    {
     "name": "stdout",
     "output_type": "stream",
     "text": [
      "4/4 [==============================] - 0s 2ms/step - loss: 11.2700 - r_squared: 0.8588\n",
      "Test loss: 11.2700, Test MAE: 0.8588\n",
      "4/4 [==============================] - 0s 2ms/step\n",
      "R2 score: 0.8902\n"
     ]
    }
   ],
   "source": [
    "# Evaluate the model on the test set\n",
    "loss, mae = tf_model.evaluate(X_test_std, y_test)\n",
    "print(f'Test loss: {loss:.4f}, Test MAE: {mae:.4f}')\n",
    "\n",
    "# Calculate the R2 score\n",
    "y_pred = tf_model.predict(X_test_std)\n",
    "r2 = r2_score(y_test, y_pred)\n",
    "print(f'R2 score: {r2:.4f}')"
   ]
  },
  {
   "cell_type": "code",
   "execution_count": 47,
   "id": "aca635dd",
   "metadata": {},
   "outputs": [
    {
     "data": {
      "image/png": "[encoded data removed]",
      "text/plain": [
       "<Figure size 800x400 with 1 Axes>"
      ]
     },
     "metadata": {},
     "output_type": "display_data"
    }
   ],
   "source": [
    "# Get training and validation loss\n",
    "train_loss = history.history['loss']\n",
    "val_loss = history.history['val_loss']\n",
    "\n",
    "# Plot loss\n",
    "plt.figure(figsize = (8, 4))\n",
    "plt.plot(train_loss, label='Train Loss')\n",
    "plt.plot(val_loss, label='Validation Loss')\n",
    "plt.xlabel('Epoch')\n",
    "plt.ylabel('Loss')\n",
    "plt.title('Training and Validation Loss')\n",
    "plt.legend()\n",
    "plt.show()"
   ]
  },
  {
   "cell_type": "code",
   "execution_count": 48,
   "id": "4fb3c7ca",
   "metadata": {},
   "outputs": [
    {
     "data": {
      "image/png": "[encoded data removed]",
      "text/plain": [
       "<Figure size 800x400 with 1 Axes>"
      ]
     },
     "metadata": {},
     "output_type": "display_data"
    }
   ],
   "source": [
    "# Extract training and validation R²\n",
    "train_r2 = history.history['r_squared']\n",
    "val_r2 = history.history['val_r_squared']\n",
    "\n",
    "# Plot R²\n",
    "plt.figure(figsize = (8, 4))\n",
    "plt.plot(train_r2, label='Train R²')\n",
    "plt.plot(val_r2, label='Validation R²')\n",
    "plt.xlabel('Epoch')\n",
    "plt.ylabel('R²')\n",
    "plt.title('Training and Validation R²')\n",
    "plt.legend()\n",
    "plt.show()"
   ]
  },
  {
   "cell_type": "markdown",
   "id": "41879825",
   "metadata": {},
   "source": [
    "---"
   ]
  }
 ],
 "metadata": {
  "kernelspec": {
   "display_name": "Python 3 (ipykernel)",
   "language": "python",
   "name": "python3"
  },
  "language_info": {
   "codemirror_mode": {
    "name": "ipython",
    "version": 3
   },
   "file_extension": ".py",
   "mimetype": "text/x-python",
   "name": "python",
   "nbconvert_exporter": "python",
   "pygments_lexer": "ipython3",
   "version": "3.9.13"
  }
 },
 "nbformat": 4,
 "nbformat_minor": 5
}

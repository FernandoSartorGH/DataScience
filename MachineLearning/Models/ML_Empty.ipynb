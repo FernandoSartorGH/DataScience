{
 "cells": [
  {
   "cell_type": "markdown",
   "id": "6f7f2937",
   "metadata": {},
   "source": [
    "# "
   ]
  },
  {
   "cell_type": "markdown",
   "id": "2452deea",
   "metadata": {},
   "source": [
    "# <center> MACHINE LEARNING - EMPTY"
   ]
  },
  {
   "cell_type": "markdown",
   "id": "c656b8ce",
   "metadata": {},
   "source": [
    "## Imports"
   ]
  },
  {
   "cell_type": "code",
   "execution_count": 2,
   "id": "886ca9a8",
   "metadata": {},
   "outputs": [],
   "source": [
    "import warnings\n",
    "warnings.filterwarnings(\"ignore\")\n",
    "\n",
    "\n",
    "import numpy as np\n",
    "import pandas as pd\n",
    "\n",
    "import seaborn as sns\n",
    "import matplotlib.pyplot as plt"
   ]
  },
  {
   "cell_type": "markdown",
   "id": "a3d806d4",
   "metadata": {},
   "source": [
    "## Data"
   ]
  },
  {
   "cell_type": "code",
   "execution_count": null,
   "id": "023e9d87",
   "metadata": {},
   "outputs": [],
   "source": []
  },
  {
   "cell_type": "markdown",
   "id": "87e1b34e",
   "metadata": {},
   "source": [
    "## EDA - Exploratoory Data Analisys"
   ]
  },
  {
   "cell_type": "code",
   "execution_count": null,
   "id": "de7fe13d",
   "metadata": {},
   "outputs": [],
   "source": []
  },
  {
   "cell_type": "markdown",
   "id": "60ab9bbd",
   "metadata": {},
   "source": [
    "## Features Engeneering"
   ]
  },
  {
   "cell_type": "code",
   "execution_count": 4,
   "id": "5d4e828c",
   "metadata": {},
   "outputs": [],
   "source": [
    "from sklearn.preprocessing import MinMaxScaler\n",
    "from sklearn.model_selection import train_test_split"
   ]
  },
  {
   "cell_type": "code",
   "execution_count": null,
   "id": "200d635a",
   "metadata": {},
   "outputs": [],
   "source": []
  },
  {
   "cell_type": "markdown",
   "id": "09bcf12e",
   "metadata": {},
   "source": [
    "## Fit Funcion"
   ]
  },
  {
   "cell_type": "code",
   "execution_count": null,
   "id": "115b75c9",
   "metadata": {},
   "outputs": [],
   "source": []
  },
  {
   "cell_type": "markdown",
   "id": "ef77a856",
   "metadata": {},
   "source": [
    "## Base Line Models"
   ]
  },
  {
   "cell_type": "code",
   "execution_count": 8,
   "id": "9d1704cc",
   "metadata": {},
   "outputs": [],
   "source": [
    "# Models\n",
    "from sklearn.tree import DecisionTreeClassifier\n",
    "from sklearn.neighbors import KNeighborsClassifier\n",
    "from sklearn.linear_model import LogisticRegression\n",
    "\n",
    "# Metrics\n",
    "from sklearn.metrics import r2_score, mean_squared_error"
   ]
  },
  {
   "cell_type": "markdown",
   "id": "14db5bcd",
   "metadata": {},
   "source": [
    "## Strong Models"
   ]
  },
  {
   "cell_type": "code",
   "execution_count": 19,
   "id": "680ffcc7",
   "metadata": {},
   "outputs": [],
   "source": [
    "# Models\n",
    "from sklearn.svm import SVC\n",
    "from sklearn.ensemble import RandomForestClassifier, ExtraTreesClassifier\n",
    "from sklearn.ensemble import AdaBoostClassifier, GradientBoostingClassifier"
   ]
  },
  {
   "cell_type": "markdown",
   "id": "121f5fbc",
   "metadata": {},
   "source": []
  },
  {
   "cell_type": "markdown",
   "id": "49ab2d90",
   "metadata": {},
   "source": [
    "## Tuning Hyperparameters"
   ]
  },
  {
   "cell_type": "code",
   "execution_count": 20,
   "id": "d7d33e93",
   "metadata": {},
   "outputs": [],
   "source": [
    "# Imports\n",
    "from sklearn.model_selection import GridSearchCV, RandomizedSearchCV"
   ]
  },
  {
   "cell_type": "markdown",
   "id": "517d5a21",
   "metadata": {},
   "source": [
    "### Random Search Parameter Tuning"
   ]
  },
  {
   "cell_type": "markdown",
   "id": "072f86b2",
   "metadata": {},
   "source": []
  },
  {
   "cell_type": "markdown",
   "id": "691e1ad8",
   "metadata": {},
   "source": [
    "### Grid Search Parameter Tuning"
   ]
  },
  {
   "cell_type": "markdown",
   "id": "33046f00",
   "metadata": {},
   "source": []
  },
  {
   "cell_type": "markdown",
   "id": "e128e3e9",
   "metadata": {},
   "source": [
    "## Save Model"
   ]
  },
  {
   "cell_type": "code",
   "execution_count": 17,
   "id": "2767cbea",
   "metadata": {},
   "outputs": [],
   "source": [
    "import pickle"
   ]
  },
  {
   "cell_type": "code",
   "execution_count": null,
   "id": "192e1dd0",
   "metadata": {},
   "outputs": [],
   "source": []
  },
  {
   "cell_type": "markdown",
   "id": "81395263",
   "metadata": {},
   "source": [
    "## Load Model"
   ]
  },
  {
   "cell_type": "markdown",
   "id": "96cd190f",
   "metadata": {},
   "source": []
  },
  {
   "cell_type": "markdown",
   "id": "6c3a3e6d",
   "metadata": {},
   "source": [
    "## Predictions"
   ]
  },
  {
   "cell_type": "code",
   "execution_count": null,
   "id": "aa27831f",
   "metadata": {},
   "outputs": [],
   "source": []
  },
  {
   "cell_type": "markdown",
   "id": "eecb914b",
   "metadata": {},
   "source": [
    "---"
   ]
  }
 ],
 "metadata": {
  "kernelspec": {
   "display_name": "Python 3 (ipykernel)",
   "language": "python",
   "name": "python3"
  },
  "language_info": {
   "codemirror_mode": {
    "name": "ipython",
    "version": 3
   },
   "file_extension": ".py",
   "mimetype": "text/x-python",
   "name": "python",
   "nbconvert_exporter": "python",
   "pygments_lexer": "ipython3",
   "version": "3.9.13"
  }
 },
 "nbformat": 4,
 "nbformat_minor": 5
}

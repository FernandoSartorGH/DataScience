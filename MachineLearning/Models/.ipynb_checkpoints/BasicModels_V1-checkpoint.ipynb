{
 "cells": [
  {
   "cell_type": "markdown",
   "id": "da928bfb",
   "metadata": {},
   "source": [
    "# "
   ]
  },
  {
   "cell_type": "markdown",
   "id": "d126dfc9",
   "metadata": {},
   "source": [
    "# <font size=10> Machine Learning - Basic Examples"
   ]
  },
  {
   "cell_type": "markdown",
   "id": "e6ebe192",
   "metadata": {},
   "source": [
    "## "
   ]
  },
  {
   "cell_type": "markdown",
   "id": "237b611c",
   "metadata": {},
   "source": [
    "## Imports"
   ]
  },
  {
   "cell_type": "code",
   "execution_count": 1,
   "id": "d732ed11",
   "metadata": {},
   "outputs": [],
   "source": [
    "# Imports\n",
    "import warnings\n",
    "warnings.filterwarnings('ignore')\n",
    "\n",
    "import numpy as np\n",
    "import pandas as pd\n",
    "\n",
    "import matplotlib.pyplot as plt\n",
    "\n",
    "from sklearn.model_selection import train_test_split"
   ]
  },
  {
   "cell_type": "code",
   "execution_count": 2,
   "id": "a9b2dcd0",
   "metadata": {},
   "outputs": [],
   "source": [
    "# Metrics\n",
    "from sklearn.metrics import r2_score"
   ]
  },
  {
   "cell_type": "markdown",
   "id": "40a85611",
   "metadata": {},
   "source": [
    "---"
   ]
  },
  {
   "cell_type": "markdown",
   "id": "ce5c765d",
   "metadata": {},
   "source": [
    "## Data"
   ]
  },
  {
   "cell_type": "code",
   "execution_count": 3,
   "id": "fbd6aeb8",
   "metadata": {},
   "outputs": [],
   "source": [
    "# load data\n",
    "url = \"https://raw.githubusercontent.com/FernandoSartorGH/data/main/housing.csv\"\n",
    "\n",
    "df = pd.read_csv(url)"
   ]
  },
  {
   "cell_type": "code",
   "execution_count": 4,
   "id": "3e957ae5",
   "metadata": {},
   "outputs": [],
   "source": [
    "# Define X and y\n",
    "X, y = df.drop(columns='target'), df.target\n",
    "\n",
    "# Train test data\n",
    "X_train, X_test, y_train,  y_test = train_test_split(X, y, test_size=0.2, random_state=1234)"
   ]
  },
  {
   "cell_type": "code",
   "execution_count": 5,
   "id": "1ca1d3a8",
   "metadata": {},
   "outputs": [],
   "source": [
    "from sklearn.preprocessing import MinMaxScaler\n",
    "\n",
    "# Standard scaler for input features\n",
    "train_scaler = MinMaxScaler().fit(X_train)\n",
    "\n",
    "X_train_std = train_scaler.transform(X_train)\n",
    "X_test_std = train_scaler.transform(X_test)  # Use the same scaler for test data"
   ]
  },
  {
   "cell_type": "markdown",
   "id": "1fea86a4",
   "metadata": {},
   "source": [
    "## View Data"
   ]
  },
  {
   "cell_type": "code",
   "execution_count": 6,
   "id": "7260a7d9",
   "metadata": {},
   "outputs": [
    {
     "data": {
      "text/html": [
       "<div>\n",
       "<style scoped>\n",
       "    .dataframe tbody tr th:only-of-type {\n",
       "        vertical-align: middle;\n",
       "    }\n",
       "\n",
       "    .dataframe tbody tr th {\n",
       "        vertical-align: top;\n",
       "    }\n",
       "\n",
       "    .dataframe thead th {\n",
       "        text-align: right;\n",
       "    }\n",
       "</style>\n",
       "<table border=\"1\" class=\"dataframe\">\n",
       "  <thead>\n",
       "    <tr style=\"text-align: right;\">\n",
       "      <th></th>\n",
       "      <th>ZN</th>\n",
       "      <th>INDUS</th>\n",
       "      <th>CHAS</th>\n",
       "      <th>NOX</th>\n",
       "      <th>RM</th>\n",
       "      <th>AGE</th>\n",
       "      <th>DIS</th>\n",
       "      <th>RAD</th>\n",
       "      <th>TAX</th>\n",
       "      <th>PTRATIO</th>\n",
       "      <th>B</th>\n",
       "      <th>LSTAT</th>\n",
       "      <th>target</th>\n",
       "    </tr>\n",
       "  </thead>\n",
       "  <tbody>\n",
       "    <tr>\n",
       "      <th>0</th>\n",
       "      <td>18.0</td>\n",
       "      <td>2.31</td>\n",
       "      <td>0.0</td>\n",
       "      <td>0.538</td>\n",
       "      <td>6.575</td>\n",
       "      <td>65.2</td>\n",
       "      <td>4.0900</td>\n",
       "      <td>1.0</td>\n",
       "      <td>296.0</td>\n",
       "      <td>15.3</td>\n",
       "      <td>396.90</td>\n",
       "      <td>4.98</td>\n",
       "      <td>24.0</td>\n",
       "    </tr>\n",
       "    <tr>\n",
       "      <th>1</th>\n",
       "      <td>0.0</td>\n",
       "      <td>7.07</td>\n",
       "      <td>0.0</td>\n",
       "      <td>0.469</td>\n",
       "      <td>6.421</td>\n",
       "      <td>78.9</td>\n",
       "      <td>4.9671</td>\n",
       "      <td>2.0</td>\n",
       "      <td>242.0</td>\n",
       "      <td>17.8</td>\n",
       "      <td>396.90</td>\n",
       "      <td>9.14</td>\n",
       "      <td>21.6</td>\n",
       "    </tr>\n",
       "    <tr>\n",
       "      <th>2</th>\n",
       "      <td>0.0</td>\n",
       "      <td>7.07</td>\n",
       "      <td>0.0</td>\n",
       "      <td>0.469</td>\n",
       "      <td>7.185</td>\n",
       "      <td>61.1</td>\n",
       "      <td>4.9671</td>\n",
       "      <td>2.0</td>\n",
       "      <td>242.0</td>\n",
       "      <td>17.8</td>\n",
       "      <td>392.83</td>\n",
       "      <td>4.03</td>\n",
       "      <td>34.7</td>\n",
       "    </tr>\n",
       "    <tr>\n",
       "      <th>3</th>\n",
       "      <td>0.0</td>\n",
       "      <td>2.18</td>\n",
       "      <td>0.0</td>\n",
       "      <td>0.458</td>\n",
       "      <td>6.998</td>\n",
       "      <td>45.8</td>\n",
       "      <td>6.0622</td>\n",
       "      <td>3.0</td>\n",
       "      <td>222.0</td>\n",
       "      <td>18.7</td>\n",
       "      <td>394.63</td>\n",
       "      <td>2.94</td>\n",
       "      <td>33.4</td>\n",
       "    </tr>\n",
       "    <tr>\n",
       "      <th>4</th>\n",
       "      <td>0.0</td>\n",
       "      <td>2.18</td>\n",
       "      <td>0.0</td>\n",
       "      <td>0.458</td>\n",
       "      <td>7.147</td>\n",
       "      <td>54.2</td>\n",
       "      <td>6.0622</td>\n",
       "      <td>3.0</td>\n",
       "      <td>222.0</td>\n",
       "      <td>18.7</td>\n",
       "      <td>396.90</td>\n",
       "      <td>5.33</td>\n",
       "      <td>36.2</td>\n",
       "    </tr>\n",
       "    <tr>\n",
       "      <th>...</th>\n",
       "      <td>...</td>\n",
       "      <td>...</td>\n",
       "      <td>...</td>\n",
       "      <td>...</td>\n",
       "      <td>...</td>\n",
       "      <td>...</td>\n",
       "      <td>...</td>\n",
       "      <td>...</td>\n",
       "      <td>...</td>\n",
       "      <td>...</td>\n",
       "      <td>...</td>\n",
       "      <td>...</td>\n",
       "      <td>...</td>\n",
       "    </tr>\n",
       "    <tr>\n",
       "      <th>501</th>\n",
       "      <td>0.0</td>\n",
       "      <td>11.93</td>\n",
       "      <td>0.0</td>\n",
       "      <td>0.573</td>\n",
       "      <td>6.593</td>\n",
       "      <td>69.1</td>\n",
       "      <td>2.4786</td>\n",
       "      <td>1.0</td>\n",
       "      <td>273.0</td>\n",
       "      <td>21.0</td>\n",
       "      <td>391.99</td>\n",
       "      <td>9.67</td>\n",
       "      <td>22.4</td>\n",
       "    </tr>\n",
       "    <tr>\n",
       "      <th>502</th>\n",
       "      <td>0.0</td>\n",
       "      <td>11.93</td>\n",
       "      <td>0.0</td>\n",
       "      <td>0.573</td>\n",
       "      <td>6.120</td>\n",
       "      <td>76.7</td>\n",
       "      <td>2.2875</td>\n",
       "      <td>1.0</td>\n",
       "      <td>273.0</td>\n",
       "      <td>21.0</td>\n",
       "      <td>396.90</td>\n",
       "      <td>9.08</td>\n",
       "      <td>20.6</td>\n",
       "    </tr>\n",
       "    <tr>\n",
       "      <th>503</th>\n",
       "      <td>0.0</td>\n",
       "      <td>11.93</td>\n",
       "      <td>0.0</td>\n",
       "      <td>0.573</td>\n",
       "      <td>6.976</td>\n",
       "      <td>91.0</td>\n",
       "      <td>2.1675</td>\n",
       "      <td>1.0</td>\n",
       "      <td>273.0</td>\n",
       "      <td>21.0</td>\n",
       "      <td>396.90</td>\n",
       "      <td>5.64</td>\n",
       "      <td>23.9</td>\n",
       "    </tr>\n",
       "    <tr>\n",
       "      <th>504</th>\n",
       "      <td>0.0</td>\n",
       "      <td>11.93</td>\n",
       "      <td>0.0</td>\n",
       "      <td>0.573</td>\n",
       "      <td>6.794</td>\n",
       "      <td>89.3</td>\n",
       "      <td>2.3889</td>\n",
       "      <td>1.0</td>\n",
       "      <td>273.0</td>\n",
       "      <td>21.0</td>\n",
       "      <td>393.45</td>\n",
       "      <td>6.48</td>\n",
       "      <td>22.0</td>\n",
       "    </tr>\n",
       "    <tr>\n",
       "      <th>505</th>\n",
       "      <td>0.0</td>\n",
       "      <td>11.93</td>\n",
       "      <td>0.0</td>\n",
       "      <td>0.573</td>\n",
       "      <td>6.030</td>\n",
       "      <td>80.8</td>\n",
       "      <td>2.5050</td>\n",
       "      <td>1.0</td>\n",
       "      <td>273.0</td>\n",
       "      <td>21.0</td>\n",
       "      <td>396.90</td>\n",
       "      <td>7.88</td>\n",
       "      <td>11.9</td>\n",
       "    </tr>\n",
       "  </tbody>\n",
       "</table>\n",
       "<p>506 rows × 13 columns</p>\n",
       "</div>"
      ],
      "text/plain": [
       "       ZN  INDUS  CHAS    NOX     RM   AGE     DIS  RAD    TAX  PTRATIO  \\\n",
       "0    18.0   2.31   0.0  0.538  6.575  65.2  4.0900  1.0  296.0     15.3   \n",
       "1     0.0   7.07   0.0  0.469  6.421  78.9  4.9671  2.0  242.0     17.8   \n",
       "2     0.0   7.07   0.0  0.469  7.185  61.1  4.9671  2.0  242.0     17.8   \n",
       "3     0.0   2.18   0.0  0.458  6.998  45.8  6.0622  3.0  222.0     18.7   \n",
       "4     0.0   2.18   0.0  0.458  7.147  54.2  6.0622  3.0  222.0     18.7   \n",
       "..    ...    ...   ...    ...    ...   ...     ...  ...    ...      ...   \n",
       "501   0.0  11.93   0.0  0.573  6.593  69.1  2.4786  1.0  273.0     21.0   \n",
       "502   0.0  11.93   0.0  0.573  6.120  76.7  2.2875  1.0  273.0     21.0   \n",
       "503   0.0  11.93   0.0  0.573  6.976  91.0  2.1675  1.0  273.0     21.0   \n",
       "504   0.0  11.93   0.0  0.573  6.794  89.3  2.3889  1.0  273.0     21.0   \n",
       "505   0.0  11.93   0.0  0.573  6.030  80.8  2.5050  1.0  273.0     21.0   \n",
       "\n",
       "          B  LSTAT  target  \n",
       "0    396.90   4.98    24.0  \n",
       "1    396.90   9.14    21.6  \n",
       "2    392.83   4.03    34.7  \n",
       "3    394.63   2.94    33.4  \n",
       "4    396.90   5.33    36.2  \n",
       "..      ...    ...     ...  \n",
       "501  391.99   9.67    22.4  \n",
       "502  396.90   9.08    20.6  \n",
       "503  396.90   5.64    23.9  \n",
       "504  393.45   6.48    22.0  \n",
       "505  396.90   7.88    11.9  \n",
       "\n",
       "[506 rows x 13 columns]"
      ]
     },
     "execution_count": 6,
     "metadata": {},
     "output_type": "execute_result"
    }
   ],
   "source": [
    "df"
   ]
  },
  {
   "cell_type": "code",
   "execution_count": 7,
   "id": "e990a067",
   "metadata": {},
   "outputs": [
    {
     "data": {
      "text/plain": [
       "ZN         0\n",
       "INDUS      0\n",
       "CHAS       0\n",
       "NOX        0\n",
       "RM         0\n",
       "AGE        0\n",
       "DIS        0\n",
       "RAD        0\n",
       "TAX        0\n",
       "PTRATIO    0\n",
       "B          0\n",
       "LSTAT      0\n",
       "target     0\n",
       "dtype: int64"
      ]
     },
     "execution_count": 7,
     "metadata": {},
     "output_type": "execute_result"
    }
   ],
   "source": [
    "# Check\n",
    "df.isna().sum()"
   ]
  },
  {
   "cell_type": "code",
   "execution_count": 8,
   "id": "86fa4128",
   "metadata": {},
   "outputs": [
    {
     "data": {
      "text/plain": [
       "ZN         float64\n",
       "INDUS      float64\n",
       "CHAS       float64\n",
       "NOX        float64\n",
       "RM         float64\n",
       "AGE        float64\n",
       "DIS        float64\n",
       "RAD        float64\n",
       "TAX        float64\n",
       "PTRATIO    float64\n",
       "B          float64\n",
       "LSTAT      float64\n",
       "target     float64\n",
       "dtype: object"
      ]
     },
     "execution_count": 8,
     "metadata": {},
     "output_type": "execute_result"
    }
   ],
   "source": [
    "# Check types\n",
    "df.dtypes"
   ]
  },
  {
   "cell_type": "code",
   "execution_count": 9,
   "id": "f1cc2a2b",
   "metadata": {},
   "outputs": [
    {
     "data": {
      "text/plain": [
       "ZN          26\n",
       "INDUS       76\n",
       "CHAS         2\n",
       "NOX         81\n",
       "RM         446\n",
       "AGE        356\n",
       "DIS        412\n",
       "RAD          9\n",
       "TAX         66\n",
       "PTRATIO     46\n",
       "B          357\n",
       "LSTAT      455\n",
       "target     229\n",
       "dtype: int64"
      ]
     },
     "execution_count": 9,
     "metadata": {},
     "output_type": "execute_result"
    }
   ],
   "source": [
    "# Check Uniques\n",
    "df.nunique()"
   ]
  },
  {
   "cell_type": "markdown",
   "id": "ad7f2363",
   "metadata": {},
   "source": [
    "---"
   ]
  },
  {
   "cell_type": "markdown",
   "id": "ce978832",
   "metadata": {},
   "source": [
    "# <font size=8> Base Line Models</font>"
   ]
  },
  {
   "cell_type": "markdown",
   "id": "d90d789a",
   "metadata": {},
   "source": [
    "## Linear Regression"
   ]
  },
  {
   "cell_type": "code",
   "execution_count": 10,
   "id": "b08704a5",
   "metadata": {},
   "outputs": [],
   "source": [
    "# Imports\n",
    "from sklearn.linear_model import LinearRegression"
   ]
  },
  {
   "cell_type": "code",
   "execution_count": 11,
   "id": "27fcc781",
   "metadata": {},
   "outputs": [
    {
     "name": "stdout",
     "output_type": "stream",
     "text": [
      "r2: 75.68%\n"
     ]
    }
   ],
   "source": [
    "# Define model\n",
    "lr = LinearRegression()\n",
    "\n",
    "# Fit Model\n",
    "lr.fit(X_train, y_train)\n",
    "\n",
    "# Predictions\n",
    "y_pred = lr.predict(X_test)\n",
    "\n",
    "# Accuracy\n",
    "lr_r2 = r2_score(y_test, y_pred)\n",
    "print(f'r2: {round(lr_r2*100, 2)}%')"
   ]
  },
  {
   "cell_type": "code",
   "execution_count": 12,
   "id": "23c8ec0c",
   "metadata": {},
   "outputs": [
    {
     "data": {
      "text/html": [
       "<div>\n",
       "<style scoped>\n",
       "    .dataframe tbody tr th:only-of-type {\n",
       "        vertical-align: middle;\n",
       "    }\n",
       "\n",
       "    .dataframe tbody tr th {\n",
       "        vertical-align: top;\n",
       "    }\n",
       "\n",
       "    .dataframe thead th {\n",
       "        text-align: right;\n",
       "    }\n",
       "</style>\n",
       "<table border=\"1\" class=\"dataframe\">\n",
       "  <thead>\n",
       "    <tr style=\"text-align: right;\">\n",
       "      <th></th>\n",
       "      <th>y_test</th>\n",
       "      <th>y_pred</th>\n",
       "    </tr>\n",
       "  </thead>\n",
       "  <tbody>\n",
       "    <tr>\n",
       "      <th>64</th>\n",
       "      <td>33.0</td>\n",
       "      <td>21.665078</td>\n",
       "    </tr>\n",
       "    <tr>\n",
       "      <th>100</th>\n",
       "      <td>27.5</td>\n",
       "      <td>23.860923</td>\n",
       "    </tr>\n",
       "    <tr>\n",
       "      <th>400</th>\n",
       "      <td>5.6</td>\n",
       "      <td>13.650258</td>\n",
       "    </tr>\n",
       "    <tr>\n",
       "      <th>485</th>\n",
       "      <td>21.2</td>\n",
       "      <td>21.636727</td>\n",
       "    </tr>\n",
       "    <tr>\n",
       "      <th>454</th>\n",
       "      <td>14.9</td>\n",
       "      <td>13.640682</td>\n",
       "    </tr>\n",
       "    <tr>\n",
       "      <th>...</th>\n",
       "      <td>...</td>\n",
       "      <td>...</td>\n",
       "    </tr>\n",
       "    <tr>\n",
       "      <th>350</th>\n",
       "      <td>22.9</td>\n",
       "      <td>19.598343</td>\n",
       "    </tr>\n",
       "    <tr>\n",
       "      <th>191</th>\n",
       "      <td>30.5</td>\n",
       "      <td>30.002105</td>\n",
       "    </tr>\n",
       "    <tr>\n",
       "      <th>239</th>\n",
       "      <td>23.3</td>\n",
       "      <td>28.067261</td>\n",
       "    </tr>\n",
       "    <tr>\n",
       "      <th>109</th>\n",
       "      <td>19.4</td>\n",
       "      <td>19.374386</td>\n",
       "    </tr>\n",
       "    <tr>\n",
       "      <th>219</th>\n",
       "      <td>23.0</td>\n",
       "      <td>29.858434</td>\n",
       "    </tr>\n",
       "  </tbody>\n",
       "</table>\n",
       "<p>102 rows × 2 columns</p>\n",
       "</div>"
      ],
      "text/plain": [
       "     y_test     y_pred\n",
       "64     33.0  21.665078\n",
       "100    27.5  23.860923\n",
       "400     5.6  13.650258\n",
       "485    21.2  21.636727\n",
       "454    14.9  13.640682\n",
       "..      ...        ...\n",
       "350    22.9  19.598343\n",
       "191    30.5  30.002105\n",
       "239    23.3  28.067261\n",
       "109    19.4  19.374386\n",
       "219    23.0  29.858434\n",
       "\n",
       "[102 rows x 2 columns]"
      ]
     },
     "execution_count": 12,
     "metadata": {},
     "output_type": "execute_result"
    }
   ],
   "source": [
    "data = {'y_test': y_test, 'y_pred':y_pred}\n",
    "pd.DataFrame(data)"
   ]
  },
  {
   "cell_type": "markdown",
   "id": "1f8961e0",
   "metadata": {},
   "source": [
    "## Knn"
   ]
  },
  {
   "cell_type": "code",
   "execution_count": 13,
   "id": "27944d57",
   "metadata": {},
   "outputs": [],
   "source": [
    "# Imports\n",
    "from sklearn.neighbors import KNeighborsRegressor"
   ]
  },
  {
   "cell_type": "code",
   "execution_count": 14,
   "id": "722f906a",
   "metadata": {},
   "outputs": [
    {
     "name": "stdout",
     "output_type": "stream",
     "text": [
      "r2: 55.95%\n"
     ]
    }
   ],
   "source": [
    "# Define model\n",
    "knn = KNeighborsRegressor()\n",
    "\n",
    "# Fit model\n",
    "knn.fit(X_train, y_train)\n",
    "\n",
    "# Predictions\n",
    "y_pred = knn.predict(X_test)\n",
    "\n",
    "# Accuracy\n",
    "knn_r2 = r2_score(y_test, y_pred)\n",
    "print(f'r2: {round(knn_r2*100, 2)}%')"
   ]
  },
  {
   "cell_type": "code",
   "execution_count": 15,
   "id": "b625da01",
   "metadata": {},
   "outputs": [
    {
     "data": {
      "text/html": [
       "<div>\n",
       "<style scoped>\n",
       "    .dataframe tbody tr th:only-of-type {\n",
       "        vertical-align: middle;\n",
       "    }\n",
       "\n",
       "    .dataframe tbody tr th {\n",
       "        vertical-align: top;\n",
       "    }\n",
       "\n",
       "    .dataframe thead th {\n",
       "        text-align: right;\n",
       "    }\n",
       "</style>\n",
       "<table border=\"1\" class=\"dataframe\">\n",
       "  <thead>\n",
       "    <tr style=\"text-align: right;\">\n",
       "      <th></th>\n",
       "      <th>y_test</th>\n",
       "      <th>y_pred</th>\n",
       "    </tr>\n",
       "  </thead>\n",
       "  <tbody>\n",
       "    <tr>\n",
       "      <th>64</th>\n",
       "      <td>33.0</td>\n",
       "      <td>27.48</td>\n",
       "    </tr>\n",
       "    <tr>\n",
       "      <th>100</th>\n",
       "      <td>27.5</td>\n",
       "      <td>20.62</td>\n",
       "    </tr>\n",
       "    <tr>\n",
       "      <th>400</th>\n",
       "      <td>5.6</td>\n",
       "      <td>10.20</td>\n",
       "    </tr>\n",
       "    <tr>\n",
       "      <th>485</th>\n",
       "      <td>21.2</td>\n",
       "      <td>20.90</td>\n",
       "    </tr>\n",
       "    <tr>\n",
       "      <th>454</th>\n",
       "      <td>14.9</td>\n",
       "      <td>11.30</td>\n",
       "    </tr>\n",
       "    <tr>\n",
       "      <th>...</th>\n",
       "      <td>...</td>\n",
       "      <td>...</td>\n",
       "    </tr>\n",
       "    <tr>\n",
       "      <th>350</th>\n",
       "      <td>22.9</td>\n",
       "      <td>25.14</td>\n",
       "    </tr>\n",
       "    <tr>\n",
       "      <th>191</th>\n",
       "      <td>30.5</td>\n",
       "      <td>31.36</td>\n",
       "    </tr>\n",
       "    <tr>\n",
       "      <th>239</th>\n",
       "      <td>23.3</td>\n",
       "      <td>21.84</td>\n",
       "    </tr>\n",
       "    <tr>\n",
       "      <th>109</th>\n",
       "      <td>19.4</td>\n",
       "      <td>19.76</td>\n",
       "    </tr>\n",
       "    <tr>\n",
       "      <th>219</th>\n",
       "      <td>23.0</td>\n",
       "      <td>21.64</td>\n",
       "    </tr>\n",
       "  </tbody>\n",
       "</table>\n",
       "<p>102 rows × 2 columns</p>\n",
       "</div>"
      ],
      "text/plain": [
       "     y_test  y_pred\n",
       "64     33.0   27.48\n",
       "100    27.5   20.62\n",
       "400     5.6   10.20\n",
       "485    21.2   20.90\n",
       "454    14.9   11.30\n",
       "..      ...     ...\n",
       "350    22.9   25.14\n",
       "191    30.5   31.36\n",
       "239    23.3   21.84\n",
       "109    19.4   19.76\n",
       "219    23.0   21.64\n",
       "\n",
       "[102 rows x 2 columns]"
      ]
     },
     "execution_count": 15,
     "metadata": {},
     "output_type": "execute_result"
    }
   ],
   "source": [
    "data = {'y_test': y_test, 'y_pred':y_pred}\n",
    "pd.DataFrame(data)"
   ]
  },
  {
   "cell_type": "markdown",
   "id": "4a6dd8d9",
   "metadata": {},
   "source": [
    "## Decision Tree"
   ]
  },
  {
   "cell_type": "code",
   "execution_count": 16,
   "id": "c269e033",
   "metadata": {},
   "outputs": [],
   "source": [
    "# Imports\n",
    "from sklearn.tree import DecisionTreeRegressor"
   ]
  },
  {
   "cell_type": "code",
   "execution_count": 17,
   "id": "c39076f3",
   "metadata": {},
   "outputs": [
    {
     "name": "stdout",
     "output_type": "stream",
     "text": [
      "r2: 78.06%\n"
     ]
    }
   ],
   "source": [
    "# Define the model\n",
    "dt = DecisionTreeRegressor()\n",
    "\n",
    "# Fit the model\n",
    "dt.fit(X_train, y_train)\n",
    "\n",
    "# Predictions\n",
    "y_pred = dt.predict(X_test)\n",
    "\n",
    "# Accuracy\n",
    "dt_r2 = r2_score(y_test, y_pred)\n",
    "print(f'r2: {round(dt_r2*100, 2)}%')"
   ]
  },
  {
   "cell_type": "code",
   "execution_count": 18,
   "id": "3b92dd7d",
   "metadata": {},
   "outputs": [
    {
     "data": {
      "text/html": [
       "<div>\n",
       "<style scoped>\n",
       "    .dataframe tbody tr th:only-of-type {\n",
       "        vertical-align: middle;\n",
       "    }\n",
       "\n",
       "    .dataframe tbody tr th {\n",
       "        vertical-align: top;\n",
       "    }\n",
       "\n",
       "    .dataframe thead th {\n",
       "        text-align: right;\n",
       "    }\n",
       "</style>\n",
       "<table border=\"1\" class=\"dataframe\">\n",
       "  <thead>\n",
       "    <tr style=\"text-align: right;\">\n",
       "      <th></th>\n",
       "      <th>y_test</th>\n",
       "      <th>y_pred</th>\n",
       "    </tr>\n",
       "  </thead>\n",
       "  <tbody>\n",
       "    <tr>\n",
       "      <th>64</th>\n",
       "      <td>33.0</td>\n",
       "      <td>30.7</td>\n",
       "    </tr>\n",
       "    <tr>\n",
       "      <th>100</th>\n",
       "      <td>27.5</td>\n",
       "      <td>26.7</td>\n",
       "    </tr>\n",
       "    <tr>\n",
       "      <th>400</th>\n",
       "      <td>5.6</td>\n",
       "      <td>10.9</td>\n",
       "    </tr>\n",
       "    <tr>\n",
       "      <th>485</th>\n",
       "      <td>21.2</td>\n",
       "      <td>20.8</td>\n",
       "    </tr>\n",
       "    <tr>\n",
       "      <th>454</th>\n",
       "      <td>14.9</td>\n",
       "      <td>12.7</td>\n",
       "    </tr>\n",
       "    <tr>\n",
       "      <th>...</th>\n",
       "      <td>...</td>\n",
       "      <td>...</td>\n",
       "    </tr>\n",
       "    <tr>\n",
       "      <th>350</th>\n",
       "      <td>22.9</td>\n",
       "      <td>19.4</td>\n",
       "    </tr>\n",
       "    <tr>\n",
       "      <th>191</th>\n",
       "      <td>30.5</td>\n",
       "      <td>27.9</td>\n",
       "    </tr>\n",
       "    <tr>\n",
       "      <th>239</th>\n",
       "      <td>23.3</td>\n",
       "      <td>29.4</td>\n",
       "    </tr>\n",
       "    <tr>\n",
       "      <th>109</th>\n",
       "      <td>19.4</td>\n",
       "      <td>16.1</td>\n",
       "    </tr>\n",
       "    <tr>\n",
       "      <th>219</th>\n",
       "      <td>23.0</td>\n",
       "      <td>23.1</td>\n",
       "    </tr>\n",
       "  </tbody>\n",
       "</table>\n",
       "<p>102 rows × 2 columns</p>\n",
       "</div>"
      ],
      "text/plain": [
       "     y_test  y_pred\n",
       "64     33.0    30.7\n",
       "100    27.5    26.7\n",
       "400     5.6    10.9\n",
       "485    21.2    20.8\n",
       "454    14.9    12.7\n",
       "..      ...     ...\n",
       "350    22.9    19.4\n",
       "191    30.5    27.9\n",
       "239    23.3    29.4\n",
       "109    19.4    16.1\n",
       "219    23.0    23.1\n",
       "\n",
       "[102 rows x 2 columns]"
      ]
     },
     "execution_count": 18,
     "metadata": {},
     "output_type": "execute_result"
    }
   ],
   "source": [
    "data = {'y_test': y_test, 'y_pred':y_pred}\n",
    "pd.DataFrame(data)"
   ]
  },
  {
   "cell_type": "markdown",
   "id": "4e358a39",
   "metadata": {},
   "source": [
    "---"
   ]
  },
  {
   "cell_type": "markdown",
   "id": "811cddb9",
   "metadata": {},
   "source": [
    "# <font size=8>Machine Learning Models</font>"
   ]
  },
  {
   "cell_type": "markdown",
   "id": "a386591c",
   "metadata": {},
   "source": [
    "# <font size=6>Linear Models"
   ]
  },
  {
   "cell_type": "markdown",
   "id": "511de146",
   "metadata": {},
   "source": [
    "## Linear Regression"
   ]
  },
  {
   "cell_type": "code",
   "execution_count": 19,
   "id": "6bb1782f",
   "metadata": {},
   "outputs": [],
   "source": [
    "# Imports\n",
    "from sklearn.linear_model import LinearRegression"
   ]
  },
  {
   "cell_type": "code",
   "execution_count": 20,
   "id": "62252bed",
   "metadata": {},
   "outputs": [
    {
     "name": "stdout",
     "output_type": "stream",
     "text": [
      "r2: 75.68%\n"
     ]
    }
   ],
   "source": [
    "# Define model\n",
    "lr = LinearRegression()\n",
    "\n",
    "# Fit Model\n",
    "lr.fit(X_train_std, y_train)\n",
    "\n",
    "# Predictions\n",
    "y_pred = lr.predict(X_test_std)\n",
    "\n",
    "# Accuracy\n",
    "lr_r2 = r2_score(y_test, y_pred)\n",
    "print(f'r2: {round(lr_r2*100, 2)}%')"
   ]
  },
  {
   "cell_type": "markdown",
   "id": "aa088b12",
   "metadata": {},
   "source": [
    "## Ridge Regression"
   ]
  },
  {
   "cell_type": "code",
   "execution_count": 21,
   "id": "2cb4b6b5",
   "metadata": {},
   "outputs": [],
   "source": [
    "# Imports\n",
    "from sklearn.linear_model import Ridge"
   ]
  },
  {
   "cell_type": "code",
   "execution_count": 22,
   "id": "537c04e6",
   "metadata": {},
   "outputs": [
    {
     "name": "stdout",
     "output_type": "stream",
     "text": [
      "r2: 75.68%\n"
     ]
    }
   ],
   "source": [
    "# Define model\n",
    "ridge = Ridge(alpha=1.0)\n",
    "\n",
    "# Fit Model\n",
    "ridge.fit(X_train, y_train)\n",
    "\n",
    "# Predictions\n",
    "y_pred = ridge.predict(X_test)\n",
    "\n",
    "# Accuracy\n",
    "ridge_r2 = r2_score(y_test, y_pred)\n",
    "print(f'r2: {round(lr_r2*100, 2)}%')"
   ]
  },
  {
   "cell_type": "markdown",
   "id": "e38692f4",
   "metadata": {},
   "source": [
    "## Lasso Regression"
   ]
  },
  {
   "cell_type": "code",
   "execution_count": 23,
   "id": "f48603e1",
   "metadata": {},
   "outputs": [],
   "source": [
    "# Imports\n",
    "from sklearn.linear_model import Lasso"
   ]
  },
  {
   "cell_type": "code",
   "execution_count": 24,
   "id": "c7337e2f",
   "metadata": {},
   "outputs": [
    {
     "name": "stdout",
     "output_type": "stream",
     "text": [
      "r2: 75.68%\n"
     ]
    }
   ],
   "source": [
    "# Define model\n",
    "lasso = Lasso(alpha=1.0)\n",
    "\n",
    "# Fit Model\n",
    "lasso.fit(X_train, y_train)\n",
    "\n",
    "# Predictions\n",
    "y_pred = lasso.predict(X_test)\n",
    "\n",
    "# Accuracy\n",
    "lasso_r2 = r2_score(y_test, y_pred)\n",
    "print(f'r2: {round(lr_r2*100, 2)}%')"
   ]
  },
  {
   "cell_type": "markdown",
   "id": "9f0c8e2e",
   "metadata": {},
   "source": [
    "## Elastic Net Regression"
   ]
  },
  {
   "cell_type": "code",
   "execution_count": 25,
   "id": "e3fd642e",
   "metadata": {},
   "outputs": [],
   "source": [
    "# Imports\n",
    "from sklearn.linear_model import ElasticNet"
   ]
  },
  {
   "cell_type": "code",
   "execution_count": 26,
   "id": "3767db29",
   "metadata": {},
   "outputs": [
    {
     "name": "stdout",
     "output_type": "stream",
     "text": [
      "r2: 68.72%\n"
     ]
    }
   ],
   "source": [
    "# Define model\n",
    "e_net = ElasticNet(alpha=1.0, l1_ratio=0.5)\n",
    "\n",
    "# Fit Model\n",
    "e_net.fit(X_train, y_train)\n",
    "\n",
    "# Predictions\n",
    "y_pred = e_net.predict(X_test)\n",
    "\n",
    "# Accuracy\n",
    "lr_r2 = r2_score(y_test, y_pred)\n",
    "print(f'r2: {round(lr_r2*100, 2)}%')"
   ]
  },
  {
   "cell_type": "markdown",
   "id": "fd1395b2",
   "metadata": {},
   "source": [
    "---"
   ]
  },
  {
   "cell_type": "markdown",
   "id": "d471871e",
   "metadata": {},
   "source": [
    "# <font size=6>Tree Based models"
   ]
  },
  {
   "cell_type": "markdown",
   "id": "d9234c91",
   "metadata": {},
   "source": [
    "## Decision Tree"
   ]
  },
  {
   "cell_type": "code",
   "execution_count": 27,
   "id": "dc3f3234",
   "metadata": {},
   "outputs": [],
   "source": [
    "# Imports\n",
    "from sklearn.tree import DecisionTreeRegressor"
   ]
  },
  {
   "cell_type": "code",
   "execution_count": 28,
   "id": "f39309f5",
   "metadata": {},
   "outputs": [
    {
     "name": "stdout",
     "output_type": "stream",
     "text": [
      "r2: 85.01%\n"
     ]
    }
   ],
   "source": [
    "# Define the model\n",
    "dt = DecisionTreeRegressor()\n",
    "\n",
    "# Fit the model\n",
    "dt.fit(X_train, y_train)\n",
    "\n",
    "# Predictions\n",
    "y_pred = dt.predict(X_test)\n",
    "\n",
    "# Accuracy\n",
    "dt_r2 = r2_score(y_test, y_pred)\n",
    "print(f'r2: {round(dt_r2*100, 2)}%')"
   ]
  },
  {
   "cell_type": "markdown",
   "id": "1f3790da",
   "metadata": {},
   "source": [
    "## Ensemble models"
   ]
  },
  {
   "cell_type": "markdown",
   "id": "a556038c",
   "metadata": {},
   "source": [
    "## Bagging"
   ]
  },
  {
   "cell_type": "markdown",
   "id": "f6920bf0",
   "metadata": {},
   "source": [
    "## Random Forest"
   ]
  },
  {
   "cell_type": "code",
   "execution_count": 29,
   "id": "4a35faaa",
   "metadata": {},
   "outputs": [],
   "source": [
    "# Imports\n",
    "from sklearn.ensemble import RandomForestRegressor"
   ]
  },
  {
   "cell_type": "code",
   "execution_count": 30,
   "id": "e742cf0e",
   "metadata": {},
   "outputs": [
    {
     "name": "stdout",
     "output_type": "stream",
     "text": [
      "r2: 91.7%\n"
     ]
    }
   ],
   "source": [
    "# Define the model\n",
    "rf = RandomForestRegressor(n_estimators = 100, random_state = 123)\n",
    "\n",
    "# Fit the model\n",
    "rf.fit(X_train, y_train)\n",
    "\n",
    "# Predictions\n",
    "y_pred = rf.predict(X_test)\n",
    "\n",
    "# Accuracy\n",
    "rf_r2 = r2_score(y_test, y_pred)\n",
    "print(f'r2: {round(rf_r2*100, 2)}%')"
   ]
  },
  {
   "cell_type": "markdown",
   "id": "ab933c97",
   "metadata": {},
   "source": [
    "## Extra Trees"
   ]
  },
  {
   "cell_type": "code",
   "execution_count": 31,
   "id": "84ae76e0",
   "metadata": {},
   "outputs": [],
   "source": [
    "# Imports\n",
    "from sklearn.ensemble import ExtraTreesRegressor"
   ]
  },
  {
   "cell_type": "code",
   "execution_count": 32,
   "id": "738bd4db",
   "metadata": {},
   "outputs": [
    {
     "name": "stdout",
     "output_type": "stream",
     "text": [
      "r2: 92.16%\n"
     ]
    }
   ],
   "source": [
    "# Define the model\n",
    "et = ExtraTreesRegressor(n_estimators = 100, random_state = 123)\n",
    "\n",
    "# Fit the model\n",
    "et.fit(X_train, y_train)\n",
    "\n",
    "# Predictions\n",
    "y_pred = et.predict(X_test)\n",
    "\n",
    "# Accuracy\n",
    "et_r2 = r2_score(y_test, y_pred)\n",
    "print(f'r2: {round(et_r2*100, 2)}%')"
   ]
  },
  {
   "cell_type": "markdown",
   "id": "3ccb5586",
   "metadata": {},
   "source": [
    "## Boosting"
   ]
  },
  {
   "cell_type": "markdown",
   "id": "ee0b2d9a",
   "metadata": {},
   "source": [
    "## ADA Boosting"
   ]
  },
  {
   "cell_type": "code",
   "execution_count": 33,
   "id": "bea7d0c9",
   "metadata": {},
   "outputs": [],
   "source": [
    "from sklearn.ensemble import AdaBoostRegressor"
   ]
  },
  {
   "cell_type": "code",
   "execution_count": 34,
   "id": "758824c8",
   "metadata": {},
   "outputs": [
    {
     "name": "stdout",
     "output_type": "stream",
     "text": [
      "r2: 87.28%\n"
     ]
    }
   ],
   "source": [
    "# Define the model\n",
    "ada = AdaBoostRegressor(n_estimators = 100, random_state = 123)\n",
    "\n",
    "# Fit the model\n",
    "ada.fit(X_train, y_train)\n",
    "\n",
    "# Predictions\n",
    "y_pred = ada.predict(X_test)\n",
    "\n",
    "# Accuracy\n",
    "ada_r2 = r2_score(y_test, y_pred)\n",
    "print(f'r2: {round(ada_r2*100, 2)}%')"
   ]
  },
  {
   "cell_type": "markdown",
   "id": "dfd9a580",
   "metadata": {},
   "source": [
    "## Grad Boosting"
   ]
  },
  {
   "cell_type": "code",
   "execution_count": 35,
   "id": "012fb95d",
   "metadata": {},
   "outputs": [],
   "source": [
    "from sklearn.ensemble import GradientBoostingRegressor"
   ]
  },
  {
   "cell_type": "code",
   "execution_count": 36,
   "id": "b6562db2",
   "metadata": {},
   "outputs": [
    {
     "name": "stdout",
     "output_type": "stream",
     "text": [
      "r2: 91.53%\n"
     ]
    }
   ],
   "source": [
    "# Define the model\n",
    "grd = GradientBoostingRegressor(n_estimators = 100, random_state = 123)\n",
    "\n",
    "# Fit the model\n",
    "grd.fit(X_train, y_train)\n",
    "\n",
    "# Predictions\n",
    "y_pred = grd.predict(X_test)\n",
    "\n",
    "# Accuracy\n",
    "gb_r2 = r2_score(y_test, y_pred)\n",
    "print(f'r2: {round(gb_r2*100, 2)}%')"
   ]
  },
  {
   "cell_type": "markdown",
   "id": "24197365",
   "metadata": {},
   "source": [
    "---"
   ]
  },
  {
   "cell_type": "markdown",
   "id": "db1494d3",
   "metadata": {},
   "source": [
    "# <font size=6>Instance Based Models"
   ]
  },
  {
   "cell_type": "markdown",
   "id": "740dfa01",
   "metadata": {},
   "source": [
    "## KNN"
   ]
  },
  {
   "cell_type": "code",
   "execution_count": 37,
   "id": "20f4a55e",
   "metadata": {},
   "outputs": [],
   "source": [
    "# Imports\n",
    "from sklearn.neighbors import KNeighborsRegressor"
   ]
  },
  {
   "cell_type": "code",
   "execution_count": 38,
   "id": "8ad670c4",
   "metadata": {},
   "outputs": [
    {
     "name": "stdout",
     "output_type": "stream",
     "text": [
      "r2: 72.25%\n"
     ]
    }
   ],
   "source": [
    "# Define model\n",
    "knn = KNeighborsRegressor()\n",
    "\n",
    "# Fit model\n",
    "knn.fit(X_train_std, y_train)\n",
    "\n",
    "# Predictions\n",
    "y_pred = knn.predict(X_test_std)\n",
    "\n",
    "# Accuracy\n",
    "knn_r2 = r2_score(y_test, y_pred)\n",
    "print(f'r2: {round(knn_r2*100, 2)}%')"
   ]
  },
  {
   "cell_type": "markdown",
   "id": "6c54f807",
   "metadata": {},
   "source": [
    "## SVM"
   ]
  },
  {
   "cell_type": "code",
   "execution_count": 39,
   "id": "7a3bc75d",
   "metadata": {},
   "outputs": [],
   "source": [
    "# Imports\n",
    "from sklearn.svm import SVR"
   ]
  },
  {
   "cell_type": "code",
   "execution_count": 40,
   "id": "56134975",
   "metadata": {},
   "outputs": [
    {
     "ename": "NameError",
     "evalue": "name 'train_std' is not defined",
     "output_type": "error",
     "traceback": [
      "\u001b[1;31m---------------------------------------------------------------------------\u001b[0m",
      "\u001b[1;31mNameError\u001b[0m                                 Traceback (most recent call last)",
      "\u001b[1;32m~\\AppData\\Local\\Temp\\ipykernel_29400\\922141115.py\u001b[0m in \u001b[0;36m<module>\u001b[1;34m\u001b[0m\n\u001b[0;32m      3\u001b[0m \u001b[1;33m\u001b[0m\u001b[0m\n\u001b[0;32m      4\u001b[0m \u001b[1;31m# Fit the model\u001b[0m\u001b[1;33m\u001b[0m\u001b[1;33m\u001b[0m\u001b[0m\n\u001b[1;32m----> 5\u001b[1;33m \u001b[0msvm\u001b[0m\u001b[1;33m.\u001b[0m\u001b[0mfit\u001b[0m\u001b[1;33m(\u001b[0m\u001b[0mtrain_std\u001b[0m\u001b[1;33m,\u001b[0m \u001b[0my_train\u001b[0m\u001b[1;33m)\u001b[0m\u001b[1;33m\u001b[0m\u001b[1;33m\u001b[0m\u001b[0m\n\u001b[0m\u001b[0;32m      6\u001b[0m \u001b[1;33m\u001b[0m\u001b[0m\n\u001b[0;32m      7\u001b[0m \u001b[1;31m# Predictions\u001b[0m\u001b[1;33m\u001b[0m\u001b[1;33m\u001b[0m\u001b[0m\n",
      "\u001b[1;31mNameError\u001b[0m: name 'train_std' is not defined"
     ]
    }
   ],
   "source": [
    "# Define the model\n",
    "svm = SVR()\n",
    "\n",
    "# Fit the model\n",
    "svm.fit(train_std, y_train)\n",
    "\n",
    "# Predictions\n",
    "y_pred = svm.predict(test_std)\n",
    "\n",
    "# Accuracy\n",
    "svm_r2 = r2_score(y_test, y_pred)\n",
    "print(f'r2: {round(svm_r2*100, 2)}%')"
   ]
  },
  {
   "cell_type": "markdown",
   "id": "d51008cb",
   "metadata": {},
   "source": [
    "---"
   ]
  },
  {
   "cell_type": "markdown",
   "id": "96e409a9",
   "metadata": {},
   "source": [
    "# <font size=8>Deep Learnig Models</font>"
   ]
  },
  {
   "cell_type": "markdown",
   "id": "7f3c8512",
   "metadata": {},
   "source": [
    "## <font size=6>SkitLearn"
   ]
  },
  {
   "cell_type": "markdown",
   "id": "5488934a",
   "metadata": {},
   "source": [
    "## Multilayer Perceptron"
   ]
  },
  {
   "cell_type": "code",
   "execution_count": null,
   "id": "ba1f69b4",
   "metadata": {},
   "outputs": [],
   "source": [
    "# Imports\n",
    "from sklearn.neural_network import MLPRegressor"
   ]
  },
  {
   "cell_type": "code",
   "execution_count": null,
   "id": "bf28b9fb",
   "metadata": {},
   "outputs": [],
   "source": [
    "# Defin e the model\n",
    "mlp = MLPRegressor(hidden_layer_sizes=(1000,), max_iter=1000, random_state=42)\n",
    "\n",
    "# Fit tyhe model\n",
    "mlp.fit(X_train_std, y_train) \n",
    "\n",
    "# Predictions\n",
    "y_pred = mlp.predict(X_test_std)\n",
    "\n",
    "# Accuracy\n",
    "perceptron_r2 = r2_score(y_test, y_pred)\n",
    "print(f'r2: {round(perceptron_r2*100, 2)}%')"
   ]
  },
  {
   "cell_type": "markdown",
   "id": "ee259e8b",
   "metadata": {},
   "source": [
    "---"
   ]
  },
  {
   "cell_type": "markdown",
   "id": "e43bbca5",
   "metadata": {},
   "source": [
    "## <font size=6>Pytorch"
   ]
  },
  {
   "cell_type": "code",
   "execution_count": null,
   "id": "37c13fa3",
   "metadata": {},
   "outputs": [],
   "source": [
    "# Pytorch\n",
    "import torch\n",
    "from torch import nn\n",
    "import torch.optim as optim"
   ]
  },
  {
   "cell_type": "code",
   "execution_count": null,
   "id": "40e0f3dd",
   "metadata": {},
   "outputs": [],
   "source": [
    "# Define devicce\n",
    "device = torch.device('cuda' if torch.cuda.is_available() else 'cpu')"
   ]
  },
  {
   "cell_type": "code",
   "execution_count": null,
   "id": "f2d2368f",
   "metadata": {},
   "outputs": [],
   "source": [
    "# load data\n",
    "url = \"https://raw.githubusercontent.com/FernandoSartorGH/data/main/housing.csv\"\n",
    "\n",
    "df = pd.read_csv(url)\n",
    "\n",
    "# Define X and y\n",
    "X, y = df.drop(columns='target'), df.target\n",
    "\n",
    "# Train test data\n",
    "X_train, X_test, y_train, y_test = train_test_split(X, y, test_size=0.2, random_state=1234)"
   ]
  },
  {
   "cell_type": "code",
   "execution_count": null,
   "id": "1d5d00cc",
   "metadata": {},
   "outputs": [],
   "source": [
    "# Standard scaler for input features\n",
    "train_scaler = MinMaxScaler().fit(X_train)\n",
    "train_std = train_scaler.transform(X_train)\n",
    "test_std = train_scaler.transform(X_test)  # Use the same scaler for test data\n",
    "\n",
    "X_train_std = torch.tensor(train_std, dtype=torch.float32).to(device)\n",
    "X_test_std = torch.tensor(test_std, dtype=torch.float32).to(device)\n",
    "\n",
    "# Convert the target variable into tensors\n",
    "y_train = torch.tensor(y_train.values, dtype=torch.float32).to(device)\n",
    "y_test = torch.tensor(y_test.values, dtype=torch.float32).to(device)"
   ]
  },
  {
   "cell_type": "code",
   "execution_count": null,
   "id": "c3d9fdab",
   "metadata": {},
   "outputs": [],
   "source": [
    "# Parameters\n",
    "in_size = X_train.shape[1]\n",
    "hidden_size = 10\n",
    "out_size = 1 \n",
    "\n",
    "# Define model\n",
    "model = nn.Sequential(\n",
    "    nn.Linear(in_features=in_size, out_features=hidden_size),\n",
    "    nn.ReLU(),\n",
    "    nn.Linear(in_features=hidden_size, out_features=hidden_size),\n",
    "    nn.ReLU(),\n",
    "    nn.Linear(in_features=hidden_size, out_features = 1)\n",
    ")\n",
    "\n",
    "# Move model and data to GPU\n",
    "model.to(device)\n",
    "\n",
    "# Define the loss function and optimizer\n",
    "criterion = nn.MSELoss()\n",
    "optimizer = optim.Adam(model.parameters(), lr=0.001)"
   ]
  },
  {
   "cell_type": "code",
   "execution_count": null,
   "id": "ccc3cb86",
   "metadata": {},
   "outputs": [],
   "source": [
    "# Train the model\n",
    "num_epochs = 1000\n",
    "train_loss = []\n",
    "test_loss = []\n",
    "train_r2 = []\n",
    "test_r2 = []\n",
    "\n",
    "for epoch in range(num_epochs):\n",
    "    # Forward\n",
    "    y_pred = model(X_train_std)\n",
    "    loss = criterion(y_pred, y_train.unsqueeze(1))\n",
    "    \n",
    "    # Calculate R² for training data\n",
    "    train_r2.append(r2_score(y_train.numpy(), y_pred.detach().numpy()))\n",
    "\n",
    "    # Backward and Optimizer\n",
    "    optimizer.zero_grad()\n",
    "    loss.backward()\n",
    "    optimizer.step()\n",
    "    train_loss.append(loss.item())\n",
    "\n",
    "    # Testing\n",
    "    with torch.no_grad():\n",
    "        y_pred = model(X_test_std)\n",
    "        loss = criterion(y_pred, y_test.unsqueeze(1))\n",
    "        test_loss.append(loss.item())\n",
    "        \n",
    "        # Calculate R² for test data\n",
    "        test_r2.append(r2_score(y_test.numpy(), y_pred.detach().numpy()))\n",
    "\n",
    "    if epoch % 50 == 0:\n",
    "        pass #print(f\"Epoch: {epoch}, Train Loss: {train_loss[-1]}, Test Loss: {test_loss[-1]}\")\n",
    "\n",
    "# Evaluate the model on the test set\n",
    "with torch.no_grad():\n",
    "    y_pred = model(X_test_std)\n",
    "    mse = criterion(y_pred, y_test)\n",
    "    r2 = r2_score(y_test.numpy(), y_pred.detach().numpy())\n",
    "    print(f\"Mean Squared Error (MSE) on Test Set: {mse:.4f}\")\n",
    "    print(f\"r2 score on Test Set: {r2:.4f}\")"
   ]
  },
  {
   "cell_type": "code",
   "execution_count": null,
   "id": "e686ea75",
   "metadata": {},
   "outputs": [],
   "source": [
    "data = {'y_test': y_test, 'y_pred':y_pred.reshape(-1)}\n",
    "pd.DataFrame(data)"
   ]
  },
  {
   "cell_type": "code",
   "execution_count": null,
   "id": "4704d985",
   "metadata": {},
   "outputs": [],
   "source": [
    "# Plot the loss\n",
    "plt.figure(figsize = (8, 4))\n",
    "plt.plot(train_loss, label=\"Train Loss\")\n",
    "plt.plot(test_loss, label=\"Test Loss\")\n",
    "plt.xlabel('Epoch')\n",
    "plt.ylabel('Loss')\n",
    "plt.legend()\n",
    "plt.show()"
   ]
  },
  {
   "cell_type": "code",
   "execution_count": null,
   "id": "c84d6694",
   "metadata": {},
   "outputs": [],
   "source": [
    "# Plot the loss\n",
    "plt.figure(figsize = (8, 4))\n",
    "plt.plot(train_r2, label=\"Train Loss\")\n",
    "plt.plot(test_r2, label=\"Test Loss\")\n",
    "plt.xlabel('Epoch')\n",
    "plt.ylabel('R2')\n",
    "plt.legend()\n",
    "plt.show()"
   ]
  },
  {
   "cell_type": "markdown",
   "id": "e30e2c8c",
   "metadata": {},
   "source": [
    "## <font size=6>Tensor Flow"
   ]
  },
  {
   "cell_type": "code",
   "execution_count": null,
   "id": "f0895c10",
   "metadata": {},
   "outputs": [],
   "source": [
    "# Imports\n",
    "import tensorflow as tf\n",
    "from tensorflow.keras.models import Sequential\n",
    "from tensorflow.keras.layers import Dense, Activation"
   ]
  },
  {
   "cell_type": "code",
   "execution_count": null,
   "id": "4c1e9c12",
   "metadata": {},
   "outputs": [],
   "source": [
    "# load data\n",
    "url = \"https://raw.githubusercontent.com/FernandoSartorGH/data/main/housing.csv\"\n",
    "df = pd.read_csv(url)\n",
    "\n",
    "# Define X and y\n",
    "X, y = df.drop(columns='target'), df.target\n",
    "\n",
    "# Train test data\n",
    "X_train, X_test, y_train, y_test = train_test_split(X, y, test_size=0.2, random_state=1234)\n",
    "\n",
    "# Standard scaler\n",
    "scaler = MinMaxScaler().fit(X_train)\n",
    "train_std = scaler.transform(X_train)\n",
    "test_std = scaler.transform(X_test)\n",
    "\n",
    "X_train_std = pd.DataFrame(train_std, columns=X_train.columns)\n",
    "X_test_std = pd.DataFrame(test_std, columns=X_test.columns)"
   ]
  },
  {
   "cell_type": "code",
   "execution_count": null,
   "id": "e0ee37a0",
   "metadata": {},
   "outputs": [],
   "source": [
    "# Define the model structure\n",
    "in_size = X_train.shape[1]\n",
    "hidden_size = 10\n",
    "out_size = 1\n",
    "\n",
    "# Create TensorFlow model\n",
    "tf_model = Sequential([\n",
    "     Dense(hidden_size, input_shape=(in_size,), activation='relu'),   \n",
    "     Dense(hidden_size, activation='relu'),                           \n",
    "     Dense(out_size)                            \n",
    "])"
   ]
  },
  {
   "cell_type": "code",
   "execution_count": null,
   "id": "3e1e0c04",
   "metadata": {},
   "outputs": [],
   "source": [
    "# Define custom R² metric function\n",
    "def r_squared(y_true, y_pred):\n",
    "    SS_res = tf.reduce_sum(tf.square(y_true - y_pred))\n",
    "    SS_tot = tf.reduce_sum(tf.square(y_true - tf.reduce_mean(y_true)))\n",
    "    return 1 - (SS_res / (SS_tot + tf.keras.backend.epsilon()))\n",
    "\n",
    "# Compile the model with the custom optimizer and metric\n",
    "optimizer = tf.keras.optimizers.Adam(learning_rate=0.001)\n",
    "tf_model.compile(optimizer=optimizer, loss='mse', metrics=[r_squared])\n",
    "\n",
    "# Train the model and collect history\n",
    "history = tf_model.fit(X_train_std, y_train, epochs=1000, batch_size=16, validation_split=0.2, verbose=0)\n",
    "\n",
    "# Extract training and validation loss\n",
    "train_loss = history.history['loss']\n",
    "val_loss = history.history['val_loss']\n",
    "\n",
    "# Extract training and validation R²\n",
    "train_r_squared = history.history['r_squared']\n",
    "val_r_squared = history.history['val_r_squared']"
   ]
  },
  {
   "cell_type": "code",
   "execution_count": null,
   "id": "beb8b65c",
   "metadata": {},
   "outputs": [],
   "source": [
    "# Evaluate the model on the test set\n",
    "loss, mae = tf_model.evaluate(X_test_std, y_test)\n",
    "print(f'Test loss: {loss:.4f}, Test MAE: {mae:.4f}')\n",
    "\n",
    "# Calculate the R2 score\n",
    "y_pred = tf_model.predict(X_test_std)\n",
    "r2 = r2_score(y_test, y_pred)\n",
    "print(f'R2 score: {r2:.4f}')"
   ]
  },
  {
   "cell_type": "code",
   "execution_count": null,
   "id": "b6b0e001",
   "metadata": {},
   "outputs": [],
   "source": [
    "# Plot predictions\n",
    "data = {'y_test': y_test, 'y_pred':y_pred.reshape(-1)}\n",
    "data_df = pd.DataFrame(data).reset_index()\n",
    "\n",
    "data_df_plot = data_df[0:10]\n",
    "\n",
    "plt.scatter(x=data_df_plot.index, y=data_df_plot.y_test, label='y_test')\n",
    "plt.scatter(x=data_df_plot.index, y=data_df_plot.y_pred, label='y_pred')\n",
    "plt.legend()\n",
    "plt.show()"
   ]
  },
  {
   "cell_type": "code",
   "execution_count": null,
   "id": "aca635dd",
   "metadata": {},
   "outputs": [],
   "source": [
    "# Get training and validation loss\n",
    "train_loss = history.history['loss']\n",
    "val_loss = history.history['val_loss']\n",
    "\n",
    "# Plot loss\n",
    "plt.figure(figsize = (8, 4))\n",
    "plt.plot(train_loss, label='Train Loss')\n",
    "plt.plot(val_loss, label='Validation Loss')\n",
    "plt.xlabel('Epoch')\n",
    "plt.ylabel('Loss')\n",
    "plt.title('Training and Validation Loss')\n",
    "plt.legend()\n",
    "plt.show()"
   ]
  },
  {
   "cell_type": "code",
   "execution_count": null,
   "id": "4fb3c7ca",
   "metadata": {},
   "outputs": [],
   "source": [
    "# Extract training and validation R²\n",
    "train_r2 = history.history['r_squared']\n",
    "val_r2 = history.history['val_r_squared']\n",
    "\n",
    "# Plot R²\n",
    "plt.figure(figsize = (8, 4))\n",
    "plt.plot(train_r2, label='Train R²')\n",
    "plt.plot(val_r2, label='Validation R²')\n",
    "plt.xlabel('Epoch')\n",
    "plt.ylabel('R²')\n",
    "plt.title('Training and Validation R²')\n",
    "plt.legend()\n",
    "plt.show()"
   ]
  },
  {
   "cell_type": "markdown",
   "id": "bc49a0f6",
   "metadata": {},
   "source": [
    "---"
   ]
  },
  {
   "cell_type": "markdown",
   "id": "4e168951",
   "metadata": {},
   "source": [
    "# <font size=8> Clustering Models"
   ]
  },
  {
   "cell_type": "markdown",
   "id": "d75634bb",
   "metadata": {},
   "source": [
    "# Data"
   ]
  },
  {
   "cell_type": "code",
   "execution_count": null,
   "id": "0b8f87af",
   "metadata": {},
   "outputs": [],
   "source": [
    "from sklearn import datasets\n",
    "from sklearn.preprocessing import StandardScaler"
   ]
  },
  {
   "cell_type": "code",
   "execution_count": null,
   "id": "0cf60555",
   "metadata": {},
   "outputs": [],
   "source": [
    "# Dados\n",
    "# Criar datasets\n",
    "n_samples = 500\n",
    "seed = 30\n",
    "blobs = datasets.make_blobs(n_samples=n_samples, random_state=seed)\n",
    "X = StandardScaler().fit_transform(X)"
   ]
  },
  {
   "cell_type": "code",
   "execution_count": null,
   "id": "722d7f01",
   "metadata": {},
   "outputs": [],
   "source": [
    "def plot_clusters(X, y_pred, algorithm_name):\n",
    "    \n",
    "    plt.scatter(X[:, 0], X[:, 1], c=y_pred, cmap='viridis', s=50)\n",
    "    plt.title(f\"{algorithm_name}\")\n",
    "    plt.xticks([]) \n",
    "    plt.yticks([])\n",
    "    plt.show()"
   ]
  },
  {
   "cell_type": "markdown",
   "id": "708ca022",
   "metadata": {},
   "source": [
    "# <font size=6>Nearest Based"
   ]
  },
  {
   "cell_type": "markdown",
   "id": "84238022",
   "metadata": {},
   "source": [
    "## K-Means"
   ]
  },
  {
   "cell_type": "code",
   "execution_count": null,
   "id": "d41e4a6b",
   "metadata": {},
   "outputs": [],
   "source": [
    "from sklearn.cluster import KMeans"
   ]
  },
  {
   "cell_type": "code",
   "execution_count": null,
   "id": "a0b51595",
   "metadata": {},
   "outputs": [],
   "source": [
    "# Define amodel\n",
    "algorithm = KMeans(n_clusters=3, random_state=seed)\n",
    "# Fit\n",
    "algorithm.fit(X)\n",
    "\n",
    "# Predictians\n",
    "y_pred = algorithm.fit_predict(X)\n",
    "\n",
    "# Plotagem\n",
    "plot_clusters(X, y_pred, \"K-Means\")"
   ]
  },
  {
   "cell_type": "markdown",
   "id": "c558669a",
   "metadata": {},
   "source": [
    "## K-Medoids"
   ]
  },
  {
   "cell_type": "code",
   "execution_count": null,
   "id": "e6ccf176",
   "metadata": {},
   "outputs": [],
   "source": [
    "from sklearn_extra.cluster import KMedoids"
   ]
  },
  {
   "cell_type": "code",
   "execution_count": null,
   "id": "56903c02",
   "metadata": {},
   "outputs": [],
   "source": [
    "# Define amodel\n",
    "algorithm = KMedoids(n_clusters=3, random_state=seed)\n",
    "# Fit\n",
    "algorithm.fit(X)\n",
    "\n",
    "# Predictians\n",
    "y_pred = algorithm.fit_predict(X)\n",
    "\n",
    "# Plotagem\n",
    "plot_clusters(X, y_pred, \"K-Medoid\")"
   ]
  },
  {
   "cell_type": "markdown",
   "id": "d47a151d",
   "metadata": {},
   "source": [
    "## K-Mode"
   ]
  },
  {
   "cell_type": "code",
   "execution_count": null,
   "id": "2e6f1dee",
   "metadata": {},
   "outputs": [],
   "source": [
    "from kmodes.kmodes import KModes"
   ]
  },
  {
   "cell_type": "code",
   "execution_count": null,
   "id": "e3b59e69",
   "metadata": {},
   "outputs": [],
   "source": [
    "# Define amodel\n",
    "algorithm = KModes(n_clusters=3, random_state=seed)\n",
    "# Fit\n",
    "algorithm.fit(X)\n",
    "\n",
    "# Predictians\n",
    "y_pred = algorithm.fit_predict(X)\n",
    "\n",
    "# Plotagem\n",
    "plot_clusters(X, y_pred, \"K-Mode\")"
   ]
  },
  {
   "cell_type": "markdown",
   "id": "0c732400",
   "metadata": {},
   "source": [
    "## Aglomerative"
   ]
  },
  {
   "cell_type": "code",
   "execution_count": null,
   "id": "a5d6313e",
   "metadata": {},
   "outputs": [],
   "source": [
    "from sklearn.cluster import AgglomerativeClustering"
   ]
  },
  {
   "cell_type": "code",
   "execution_count": null,
   "id": "dbc4d62b",
   "metadata": {},
   "outputs": [],
   "source": [
    "# Define amodel\n",
    "algorithm = AgglomerativeClustering(n_clusters=3)\n",
    "\n",
    "# Fit\n",
    "algorithm.fit(X)\n",
    "\n",
    "# Predictians\n",
    "y_pred = algorithm.fit_predict(X)\n",
    "\n",
    "# Plotagem\n",
    "plot_clusters(X, y_pred, \"Agglomerative Clustering\")"
   ]
  },
  {
   "cell_type": "markdown",
   "id": "a706d9f5",
   "metadata": {},
   "source": [
    "---"
   ]
  },
  {
   "cell_type": "markdown",
   "id": "87de62f6",
   "metadata": {},
   "source": [
    "# <font size=6>Density Based"
   ]
  },
  {
   "cell_type": "code",
   "execution_count": null,
   "id": "5f9d9492",
   "metadata": {},
   "outputs": [],
   "source": [
    "from sklearn.cluster import KMeans, AgglomerativeClustering, DBSCAN, Birch, SpectralClustering, MeanShift"
   ]
  },
  {
   "cell_type": "markdown",
   "id": "4ecbafec",
   "metadata": {},
   "source": [
    "## DBScan"
   ]
  },
  {
   "cell_type": "code",
   "execution_count": null,
   "id": "8d60e185",
   "metadata": {},
   "outputs": [],
   "source": [
    "# Define amodel\n",
    "algorithm = DBSCAN(eps=0.3)\n",
    "\n",
    "# Fit\n",
    "algorithm.fit(X)\n",
    "\n",
    "# Predictians\n",
    "y_pred = algorithm.fit_predict(X)\n",
    "\n",
    "# Plotagem\n",
    "plot_clusters(X, y_pred, \"DBScan\")"
   ]
  },
  {
   "cell_type": "markdown",
   "id": "1ce40259",
   "metadata": {},
   "source": [
    "## Mean Shift"
   ]
  },
  {
   "cell_type": "code",
   "execution_count": null,
   "id": "930b5bb0",
   "metadata": {},
   "outputs": [],
   "source": [
    "from sklearn.cluster import SpectralClustering, MeanShift"
   ]
  },
  {
   "cell_type": "code",
   "execution_count": null,
   "id": "063ff4cf",
   "metadata": {},
   "outputs": [],
   "source": [
    "# Define amodel\n",
    "algorithm = MeanShift()\n",
    "\n",
    "# Fit\n",
    "algorithm.fit(X)\n",
    "\n",
    "# Predictians\n",
    "y_pred = algorithm.fit_predict(X)\n",
    "\n",
    "# Plotagem\n",
    "plot_clusters(X, y_pred, \"Mean Shift\")"
   ]
  },
  {
   "cell_type": "markdown",
   "id": "db10be4f",
   "metadata": {},
   "source": [
    "## Gaussian Misture"
   ]
  },
  {
   "cell_type": "code",
   "execution_count": null,
   "id": "6663decc",
   "metadata": {},
   "outputs": [],
   "source": [
    "from sklearn.mixture import GaussianMixture"
   ]
  },
  {
   "cell_type": "code",
   "execution_count": null,
   "id": "035f13cd",
   "metadata": {},
   "outputs": [],
   "source": [
    "# Define amodel\n",
    "algorithm = GaussianMixture(n_components=3, random_state=seed)\n",
    "\n",
    "# Fit\n",
    "algorithm.fit(X)\n",
    "\n",
    "# Predictians\n",
    "y_pred = algorithm.fit_predict(X)\n",
    "\n",
    "# Plotagem\n",
    "plot_clusters(X, y_pred, \"Gaussian Mixture\")"
   ]
  },
  {
   "cell_type": "markdown",
   "id": "7893c768",
   "metadata": {},
   "source": [
    "---"
   ]
  },
  {
   "cell_type": "markdown",
   "id": "1e33359c",
   "metadata": {},
   "source": [
    "# <font size=6>Graph Based"
   ]
  },
  {
   "cell_type": "code",
   "execution_count": null,
   "id": "d84da0c6",
   "metadata": {},
   "outputs": [],
   "source": [
    "from sklearn.cluster import SpectralClustering"
   ]
  },
  {
   "cell_type": "code",
   "execution_count": null,
   "id": "f3867ebe",
   "metadata": {},
   "outputs": [],
   "source": [
    "# Define amodel\n",
    "algorithm = SpectralClustering(n_clusters=3, random_state=seed)\n",
    "\n",
    "# Fit\n",
    "algorithm.fit(X)\n",
    "\n",
    "# Predictians\n",
    "y_pred = algorithm.fit_predict(X)\n",
    "\n",
    "# Plotagem\n",
    "plot_clusters(X, y_pred, \"Gaussian Mixture\")"
   ]
  },
  {
   "cell_type": "markdown",
   "id": "124af8e0",
   "metadata": {},
   "source": [
    "---"
   ]
  },
  {
   "cell_type": "markdown",
   "id": "7e585b78",
   "metadata": {},
   "source": [
    "# <font size=6>Hierarquical Based"
   ]
  },
  {
   "cell_type": "markdown",
   "id": "b986651f",
   "metadata": {},
   "source": [
    "## Imports"
   ]
  },
  {
   "cell_type": "markdown",
   "id": "b7bd71c2",
   "metadata": {},
   "source": [
    "O parâmetro method na função linkage especifica o algoritmo de ligação a ser usado para calcular a distância entre clusters. Ppções disponíveis para o parâmetro method:\n",
    "\n",
    "* single: Usa a menor distância entre pontos de diferentes clusters (também conhecido como \"vizinho mais próximo\").\n",
    "* complete: Usa a maior distância entre pontos de diferentes clusters (também conhecido como \"vizinho mais distante\").\n",
    "* average: Usa a média das distâncias entre todos os pares de pontos em diferentes clusters.\n",
    "* weighted: Uma variação do método average, também conhecido como método de McQuitty.\n",
    "* centroid: Usa a distância entre os centroides dos clusters (pode resultar em distâncias não monotônicas).\n",
    "* median: Semelhante ao método centroid, mas usa a mediana dos pontos.\n",
    "* ward: Minimiza a soma das diferenças ao quadrado dentro de todos os clusters (também conhecido como método de Ward). Este é o método padrão se nenhum outro for especificado."
   ]
  },
  {
   "cell_type": "code",
   "execution_count": null,
   "id": "19ba0748",
   "metadata": {},
   "outputs": [],
   "source": [
    "import numpy as np\n",
    "import matplotlib.pyplot as plt\n",
    "from scipy.cluster.hierarchy import dendrogram, linkage"
   ]
  },
  {
   "cell_type": "markdown",
   "id": "72990ba4",
   "metadata": {},
   "source": [
    "## Data"
   ]
  },
  {
   "cell_type": "code",
   "execution_count": null,
   "id": "e2248d7b",
   "metadata": {},
   "outputs": [],
   "source": [
    "# Create sample\n",
    "x = [4, 5, 10, 4, 3, 11, 14 , 6, 10, 12]\n",
    "y = [21, 19, 24, 17, 16, 25, 24, 22, 21, 21]\n",
    "\n",
    "data = list(zip(x, y))\n",
    "\n",
    "# view\n",
    "plt.scatter(x, y)\n",
    "plt.show()"
   ]
  },
  {
   "cell_type": "markdown",
   "id": "34ae5be7",
   "metadata": {},
   "source": [
    "## Single-Linkage"
   ]
  },
  {
   "cell_type": "code",
   "execution_count": null,
   "id": "15903678",
   "metadata": {},
   "outputs": [],
   "source": [
    "linkage_data = linkage(data, method='single', metric='euclidean')\n",
    "dendrogram(linkage_data)\n",
    "\n",
    "plt.show()"
   ]
  },
  {
   "cell_type": "markdown",
   "id": "df1b773a",
   "metadata": {},
   "source": [
    "## Complete-Linkage"
   ]
  },
  {
   "cell_type": "code",
   "execution_count": null,
   "id": "35b2c282",
   "metadata": {},
   "outputs": [],
   "source": [
    "linkage_data = linkage(data, method='complete', metric='euclidean')\n",
    "dendrogram(linkage_data)\n",
    "\n",
    "plt.show()"
   ]
  },
  {
   "cell_type": "markdown",
   "id": "5e8e1eb8",
   "metadata": {},
   "source": [
    "## Ward"
   ]
  },
  {
   "cell_type": "code",
   "execution_count": null,
   "id": "2ed8961a",
   "metadata": {},
   "outputs": [],
   "source": [
    "linkage_data = linkage(data, method='ward', metric='euclidean')\n",
    "dendrogram(linkage_data)\n",
    "\n",
    "plt.show()"
   ]
  },
  {
   "cell_type": "markdown",
   "id": "0a5f1cbd",
   "metadata": {},
   "source": [
    "---"
   ]
  },
  {
   "cell_type": "markdown",
   "id": "53461dcb",
   "metadata": {},
   "source": [
    "# <font size=8> Dimension Reduction</font>"
   ]
  },
  {
   "cell_type": "markdown",
   "id": "34f9daee",
   "metadata": {},
   "source": [
    "## Imports"
   ]
  },
  {
   "cell_type": "code",
   "execution_count": null,
   "id": "e1106cc2",
   "metadata": {},
   "outputs": [],
   "source": [
    "from sklearn.datasets import make_blobs\n",
    "from mpl_toolkits.mplot3d import Axes3D\n",
    "import plotly.graph_objects as go"
   ]
  },
  {
   "cell_type": "markdown",
   "id": "48610a79",
   "metadata": {},
   "source": [
    "## Data"
   ]
  },
  {
   "cell_type": "code",
   "execution_count": null,
   "id": "67bfb26b",
   "metadata": {},
   "outputs": [],
   "source": [
    "# Criar dados sintéticos\n",
    "X, y = make_blobs(n_samples=900, centers=3, n_features=3, cluster_std=2.5, random_state=42)\n",
    "\n",
    "# Criar o gráfico 3D\n",
    "fig = go.Figure()\n",
    "\n",
    "# Adicionar pontos ao gráfico\n",
    "fig.add_trace(go.Scatter3d(\n",
    "    x=X[:, 0],\n",
    "    y=X[:, 1],\n",
    "    z=X[:, 2],\n",
    "    mode='markers',\n",
    "    marker=dict(\n",
    "        size=5,\n",
    "        color=y,  # Colorir de acordo com o cluster\n",
    "        colorscale='Viridis',\n",
    "        opacity=0.8\n",
    "    )\n",
    "))\n",
    "\n",
    "# Configurar layout\n",
    "fig.update_layout(\n",
    "    title=\"Dados Originais em 3D\",\n",
    "    scene=dict(\n",
    "        xaxis_title='Eixo X',\n",
    "        yaxis_title='Eixo Y',\n",
    "        zaxis_title='Eixo Z'\n",
    "    ),\n",
    "    margin=dict(l=0, r=0, b=0, t=40),\n",
    "    height=900,\n",
    "    width= 950,\n",
    ")\n",
    "\n",
    "# Mostrar o gráfico\n",
    "fig.show()"
   ]
  },
  {
   "cell_type": "markdown",
   "id": "01311762",
   "metadata": {},
   "source": [
    "# PCA"
   ]
  },
  {
   "cell_type": "code",
   "execution_count": null,
   "id": "6c504e4f",
   "metadata": {},
   "outputs": [],
   "source": [
    "# Imports\n",
    "from sklearn.decomposition import PCA"
   ]
  },
  {
   "cell_type": "code",
   "execution_count": null,
   "id": "2e993598",
   "metadata": {},
   "outputs": [],
   "source": [
    "# Aplicar PCA\n",
    "pca = PCA(n_components=2)\n",
    "X_pca = pca.fit_transform(X)\n",
    "\n",
    "# Plotar resultado do PCA\n",
    "plt.figure(figsize=(8, 6))\n",
    "plt.scatter(X_pca[:, 0], X_pca[:, 1], c=y, cmap='viridis')\n",
    "plt.title(\"PCA\")\n",
    "plt.xlabel(\"Componente Principal 1\")\n",
    "plt.ylabel(\"Componente Principal 2\")\n",
    "plt.show()"
   ]
  },
  {
   "cell_type": "markdown",
   "id": "124a072a",
   "metadata": {},
   "source": [
    "# T-SNE"
   ]
  },
  {
   "cell_type": "code",
   "execution_count": null,
   "id": "7a1a7b4d",
   "metadata": {},
   "outputs": [],
   "source": [
    "# Imports\n",
    "from sklearn.manifold import TSNE"
   ]
  },
  {
   "cell_type": "code",
   "execution_count": null,
   "id": "bc2d6f1d",
   "metadata": {},
   "outputs": [],
   "source": [
    "# Aplicar t-SNE\n",
    "tsne = TSNE(n_components=2, random_state=42)\n",
    "X_tsne = tsne.fit_transform(X)\n",
    "\n",
    "# Plotar resultado do t-SNE\n",
    "plt.figure(figsize=(8, 6))\n",
    "plt.scatter(X_tsne[:, 0], X_tsne[:, 1], c=y, cmap='viridis')\n",
    "plt.title(\"t-SNE\")\n",
    "plt.xlabel(\"Dimensão 1\")\n",
    "plt.ylabel(\"Dimensão 2\")\n",
    "plt.show()"
   ]
  },
  {
   "cell_type": "markdown",
   "id": "ae72187f",
   "metadata": {},
   "source": [
    "# Autoencoder"
   ]
  },
  {
   "cell_type": "code",
   "execution_count": null,
   "id": "e18d156c",
   "metadata": {},
   "outputs": [],
   "source": [
    "import tensorflow as tf\n",
    "from tensorflow.keras import layers, models"
   ]
  },
  {
   "cell_type": "code",
   "execution_count": null,
   "id": "f98baeaf",
   "metadata": {
    "scrolled": true
   },
   "outputs": [],
   "source": [
    "# Definir o autoencoder\n",
    "input_dim = X.shape[1]\n",
    "encoding_dim = 2\n",
    "\n",
    "input_layer = layers.Input(shape=(input_dim,))\n",
    "encoded = layers.Dense(encoding_dim, activation='relu')(input_layer)\n",
    "decoded = layers.Dense(input_dim, activation='sigmoid')(encoded)\n",
    "\n",
    "autoencoder = models.Model(inputs=input_layer, outputs=decoded)\n",
    "encoder = models.Model(inputs=input_layer, outputs=encoded)\n",
    "\n",
    "autoencoder.compile(optimizer='adam', loss='mse')\n",
    "\n",
    "# Treinar o autoencoder\n",
    "autoencoder.fit(X, X, epochs=100, batch_size=16, shuffle=True, verbose=-2)\n",
    "\n",
    "# Obter a representação codificada\n",
    "X_autoencoded = encoder.predict(X)"
   ]
  },
  {
   "cell_type": "code",
   "execution_count": null,
   "id": "e16d8829",
   "metadata": {},
   "outputs": [],
   "source": [
    "# Plotar resultado do Autoencoder\n",
    "plt.figure(figsize=(8, 6))\n",
    "plt.scatter(X_autoencoded[:, 0], X_autoencoded[:, 1], c=y, cmap='viridis')\n",
    "plt.title(\"Autoencoder\")\n",
    "plt.xlabel(\"Dimensão Codificada 1\")\n",
    "plt.ylabel(\"Dimensão Codificada 2\")\n",
    "plt.show()"
   ]
  },
  {
   "cell_type": "markdown",
   "id": "b5dccd11",
   "metadata": {},
   "source": [
    "---"
   ]
  }
 ],
 "metadata": {
  "kernelspec": {
   "display_name": "Python 3 (ipykernel)",
   "language": "python",
   "name": "python3"
  },
  "language_info": {
   "codemirror_mode": {
    "name": "ipython",
    "version": 3
   },
   "file_extension": ".py",
   "mimetype": "text/x-python",
   "name": "python",
   "nbconvert_exporter": "python",
   "pygments_lexer": "ipython3",
   "version": "3.9.13"
  }
 },
 "nbformat": 4,
 "nbformat_minor": 5
}

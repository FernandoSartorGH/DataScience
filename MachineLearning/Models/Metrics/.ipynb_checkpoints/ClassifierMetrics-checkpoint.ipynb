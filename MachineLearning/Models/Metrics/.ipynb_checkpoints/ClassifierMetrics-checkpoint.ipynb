{
 "cells": [
  {
   "cell_type": "markdown",
   "id": "938c2784",
   "metadata": {},
   "source": [
    "# "
   ]
  },
  {
   "cell_type": "markdown",
   "id": "b9557377",
   "metadata": {},
   "source": [
    "# <center> Some Metrics for Classifiers Models"
   ]
  },
  {
   "cell_type": "markdown",
   "id": "2af21f6c",
   "metadata": {},
   "source": [
    "## References"
   ]
  },
  {
   "cell_type": "markdown",
   "id": "ce16b60e",
   "metadata": {},
   "source": [
    "* Hands-on Machine Learning with Scikit-Learn, Keras, and TensorFlow - Aurélien Géron\n",
    "\n",
    "https://towardsdatascience.com/metrics-to-evaluate-your-machine-learning-algorithm-f10ba6e38234\n",
    "\n",
    "https://www.analyticsvidhya.com/blog/2021/07/metrics-to-evaluate-your-classification-model-to-take-the-right-decisions/"
   ]
  },
  {
   "cell_type": "markdown",
   "id": "78b8f2db",
   "metadata": {},
   "source": [
    "## Imports"
   ]
  },
  {
   "cell_type": "code",
   "execution_count": 1,
   "id": "ee249f54",
   "metadata": {},
   "outputs": [],
   "source": [
    "# Suppress warnings\n",
    "import warnings\n",
    "warnings.filterwarnings('ignore')"
   ]
  },
  {
   "cell_type": "code",
   "execution_count": 2,
   "id": "a68ed898",
   "metadata": {},
   "outputs": [],
   "source": [
    "# Imports\n",
    "import numpy as np\n",
    "import pandas as pd\n",
    "import matplotlib.pyplot as plt\n",
    "\n",
    "from sklearn import metrics\n",
    "from sklearn.model_selection import train_test_split\n",
    "from sklearn.preprocessing import StandardScaler, MinMaxScaler, OrdinalEncoder, OneHotEncoder"
   ]
  },
  {
   "cell_type": "markdown",
   "id": "965f5cbc",
   "metadata": {},
   "source": [
    "## Data"
   ]
  },
  {
   "cell_type": "code",
   "execution_count": 3,
   "id": "cb92f938",
   "metadata": {},
   "outputs": [],
   "source": [
    "# Load the dataset\n",
    "from sklearn.datasets import load_breast_cancer\n",
    "df = load_breast_cancer()\n",
    "X, y = df.data, df.target\n",
    "\n",
    "# Get target names\n",
    "target_names = df.target_names\n",
    "\n",
    "# Split the dataset into training and testing sets\n",
    "X_train, X_test, y_train, y_test = train_test_split(X, y, test_size=0.2, random_state=42)"
   ]
  },
  {
   "cell_type": "code",
   "execution_count": 4,
   "id": "3e9b4e8d",
   "metadata": {},
   "outputs": [],
   "source": [
    "# Standard scaler\n",
    "scaler = MinMaxScaler().fit(X_train)\n",
    "train_std = scaler.transform(X_train)\n",
    "X_train = pd.DataFrame(train_std, columns=df.feature_names)\n",
    "\n",
    "test_std = scaler.transform(X_test)\n",
    "X_test = pd.DataFrame(test_std, columns=df.feature_names)"
   ]
  },
  {
   "cell_type": "markdown",
   "id": "640807e7",
   "metadata": {},
   "source": [
    "# Model"
   ]
  },
  {
   "cell_type": "code",
   "execution_count": 5,
   "id": "97735e25",
   "metadata": {},
   "outputs": [],
   "source": [
    "# Import \n",
    "from sklearn.linear_model import LogisticRegression\n",
    "from sklearn.metrics import confusion_matrix, log_loss, roc_curve, auc, classification_report"
   ]
  },
  {
   "cell_type": "code",
   "execution_count": 6,
   "id": "7652d6bf",
   "metadata": {},
   "outputs": [
    {
     "name": "stdout",
     "output_type": "stream",
     "text": [
      "Accuracy: 98.25%\n",
      "Entropy Loss: 0.11805079871296745\n",
      "\n",
      "Report\n",
      "               precision    recall  f1-score   support\n",
      "\n",
      "           0       1.00      0.95      0.98        43\n",
      "           1       0.97      1.00      0.99        71\n",
      "\n",
      "    accuracy                           0.98       114\n",
      "   macro avg       0.99      0.98      0.98       114\n",
      "weighted avg       0.98      0.98      0.98       114\n",
      "\n"
     ]
    }
   ],
   "source": [
    "# Define model\n",
    "model = LogisticRegression()\n",
    "\n",
    "# Fit Model\n",
    "model.fit(X_train, y_train)\n",
    "\n",
    "# Making predictions\n",
    "y_pred = model.predict(X_test)\n",
    "y_pred_prob = model.predict_proba(X_test)\n",
    "\n",
    "# Evaluate\n",
    "result = model.score(X_test, y_test)\n",
    "matrix = confusion_matrix(y_test, y_pred)\n",
    "report = classification_report(y_test, y_pred)\n",
    "entropy_loss = log_loss(y_test, y_pred_prob)\n",
    "\n",
    "print(\"Accuracy: %.2f%%\" % (result * 100.0))\n",
    "print(f\"Entropy Loss: {entropy_loss}\")\n",
    "print(\"\\nReport\\n\", report)"
   ]
  },
  {
   "cell_type": "markdown",
   "id": "0d1fc205",
   "metadata": {},
   "source": [
    "---"
   ]
  },
  {
   "cell_type": "markdown",
   "id": "85235dfd",
   "metadata": {},
   "source": [
    "# Confusion Matrix"
   ]
  },
  {
   "cell_type": "code",
   "execution_count": 7,
   "id": "6b218e7a",
   "metadata": {},
   "outputs": [
    {
     "name": "stdout",
     "output_type": "stream",
     "text": [
      "\n",
      "Confusion Matrix\n",
      " [[41  2]\n",
      " [ 0 71]]\n"
     ]
    }
   ],
   "source": [
    "print(\"\\nConfusion Matrix\\n\",matrix)"
   ]
  },
  {
   "cell_type": "code",
   "execution_count": 8,
   "id": "bee5bb90",
   "metadata": {},
   "outputs": [],
   "source": [
    "TP = matrix[0,0]\n",
    "TN = matrix[1,1]\n",
    "FP = matrix[0,1]\n",
    "FN = matrix[1,0]"
   ]
  },
  {
   "cell_type": "markdown",
   "id": "b8306666",
   "metadata": {},
   "source": [
    "## Accuracy"
   ]
  },
  {
   "cell_type": "markdown",
   "id": "3b9fc850",
   "metadata": {},
   "source": [
    "Global accuracy rate\n",
    "###  $ Acuracy = \\frac{TP + TN}{TP + TN + FP + FN}$"
   ]
  },
  {
   "cell_type": "code",
   "execution_count": 9,
   "id": "61f6be85",
   "metadata": {},
   "outputs": [
    {
     "data": {
      "text/plain": [
       "0.9824561403508771"
      ]
     },
     "execution_count": 9,
     "metadata": {},
     "output_type": "execute_result"
    }
   ],
   "source": [
    "calc_acc = (TP + TN)/(TP + TN + FP + FN)\n",
    "calc_acc"
   ]
  },
  {
   "cell_type": "markdown",
   "id": "a99e3b7b",
   "metadata": {},
   "source": [
    "## Global error"
   ]
  },
  {
   "cell_type": "markdown",
   "id": "8ff323c3",
   "metadata": {},
   "source": [
    "Global erros rate"
   ]
  },
  {
   "cell_type": "code",
   "execution_count": 10,
   "id": "0bca486f",
   "metadata": {},
   "outputs": [
    {
     "data": {
      "text/plain": [
       "0.017543859649122806"
      ]
     },
     "execution_count": 10,
     "metadata": {},
     "output_type": "execute_result"
    }
   ],
   "source": [
    "calc_error = (FP + FN)/(TP + TN + FP + FN)\n",
    "calc_error"
   ]
  },
  {
   "cell_type": "markdown",
   "id": "0f1473ce",
   "metadata": {},
   "source": [
    "## TFP - True False Positive - Type I error"
   ]
  },
  {
   "cell_type": "markdown",
   "id": "694af388",
   "metadata": {},
   "source": [
    "Negative class error rate. Among those truly negative, how many errors?"
   ]
  },
  {
   "cell_type": "code",
   "execution_count": 11,
   "id": "ba213cc1",
   "metadata": {},
   "outputs": [
    {
     "data": {
      "text/plain": [
       "0.0273972602739726"
      ]
     },
     "execution_count": 11,
     "metadata": {},
     "output_type": "execute_result"
    }
   ],
   "source": [
    "TFP = FP/(FP + TN)\n",
    "TFP"
   ]
  },
  {
   "cell_type": "markdown",
   "id": "98b0a49e",
   "metadata": {},
   "source": [
    "## TFN - True False Negative - Type II error"
   ]
  },
  {
   "cell_type": "markdown",
   "id": "630dfcfc",
   "metadata": {},
   "source": [
    "Positive class error rate. Among those truly positive, how many errors?"
   ]
  },
  {
   "cell_type": "code",
   "execution_count": 12,
   "id": "889363eb",
   "metadata": {},
   "outputs": [
    {
     "data": {
      "text/plain": [
       "0.0"
      ]
     },
     "execution_count": 12,
     "metadata": {},
     "output_type": "execute_result"
    }
   ],
   "source": [
    "TFN = FN/(FN + TP)\n",
    "TFN"
   ]
  },
  {
   "cell_type": "markdown",
   "id": "8d509761",
   "metadata": {},
   "source": [
    "## True Negative Rate - Specificity"
   ]
  },
  {
   "cell_type": "markdown",
   "id": "6d8fc741",
   "metadata": {},
   "source": [
    "Negative class accuracy rate. Among those truly negative, how many correct classifications?"
   ]
  },
  {
   "cell_type": "code",
   "execution_count": 13,
   "id": "a12fabef",
   "metadata": {},
   "outputs": [
    {
     "data": {
      "text/plain": [
       "0.9726027397260274"
      ]
     },
     "execution_count": 13,
     "metadata": {},
     "output_type": "execute_result"
    }
   ],
   "source": [
    "TN = TN/( TN + FP)\n",
    "TN"
   ]
  },
  {
   "cell_type": "markdown",
   "id": "00b40045",
   "metadata": {},
   "source": [
    "## True Positive Rate - Sensitivity (Recall)"
   ]
  },
  {
   "cell_type": "markdown",
   "id": "56e81f06",
   "metadata": {},
   "source": [
    "Positive class accuracy rate. Among those truly positive, how many correct classifications?"
   ]
  },
  {
   "cell_type": "code",
   "execution_count": 14,
   "id": "e7ec50b1",
   "metadata": {},
   "outputs": [
    {
     "data": {
      "text/plain": [
       "1.0"
      ]
     },
     "execution_count": 14,
     "metadata": {},
     "output_type": "execute_result"
    }
   ],
   "source": [
    "recall = TP/(TP + FN)\n",
    "recall"
   ]
  },
  {
   "cell_type": "markdown",
   "id": "333f406c",
   "metadata": {},
   "source": [
    "## Precision"
   ]
  },
  {
   "cell_type": "markdown",
   "id": "574dd7a9",
   "metadata": {},
   "source": [
    "Accuracy rate among positive predictions. Among those predicted as positive, how many correct classifications?"
   ]
  },
  {
   "cell_type": "code",
   "execution_count": 15,
   "id": "9b927618",
   "metadata": {},
   "outputs": [
    {
     "data": {
      "text/plain": [
       "0.9534883720930233"
      ]
     },
     "execution_count": 15,
     "metadata": {},
     "output_type": "execute_result"
    }
   ],
   "source": [
    "precision = TP/(TP + FP)\n",
    "precision"
   ]
  },
  {
   "cell_type": "markdown",
   "id": "94ef1fa1",
   "metadata": {},
   "source": [
    "## F1 score"
   ]
  },
  {
   "cell_type": "markdown",
   "id": "89e6da85",
   "metadata": {},
   "source": [
    "F1 Score is the Harmonic Mean between precision and recall. The range for F1 Score is [0, 1]. It tells us how precise our classifier is (how many instances it classifies correctly), as well as how robust it is, finding the balance between precision and recall."
   ]
  },
  {
   "cell_type": "code",
   "execution_count": 16,
   "id": "a6cbc71e",
   "metadata": {},
   "outputs": [
    {
     "data": {
      "text/plain": [
       "0.9761904761904763"
      ]
     },
     "execution_count": 16,
     "metadata": {},
     "output_type": "execute_result"
    }
   ],
   "source": [
    "f1_score = 2 * (precision * recall)/(precision + recall)\n",
    "f1_score"
   ]
  },
  {
   "cell_type": "code",
   "execution_count": 17,
   "id": "a6b47ed7",
   "metadata": {
    "scrolled": true
   },
   "outputs": [
    {
     "data": {
      "text/plain": [
       "0.9761904761904762"
      ]
     },
     "execution_count": 17,
     "metadata": {},
     "output_type": "execute_result"
    }
   ],
   "source": [
    "f1_score = 2 * 1/(1/precision + 1/recall)\n",
    "f1_score"
   ]
  },
  {
   "cell_type": "markdown",
   "id": "3520eb6d",
   "metadata": {},
   "source": [
    "---"
   ]
  },
  {
   "cell_type": "markdown",
   "id": "e474180c",
   "metadata": {},
   "source": [
    "## Roc Curve"
   ]
  },
  {
   "cell_type": "markdown",
   "id": "a8d106f2",
   "metadata": {},
   "source": [
    "It represents the relationship between the true positive rate (sensitivity) and the false positive rate for different thresholds of the model. The closer the ROC curve is to the upper left corner, the better the model's performance."
   ]
  },
  {
   "cell_type": "code",
   "execution_count": 18,
   "id": "1bdedbdd",
   "metadata": {},
   "outputs": [],
   "source": [
    "# Data for ROC curce\n",
    "fpr, tpr, _ = roc_curve(y_test, y_pred_prob[:, 1])\n",
    "roc_auc = auc(fpr, tpr)"
   ]
  },
  {
   "cell_type": "code",
   "execution_count": 19,
   "id": "f60fad3d",
   "metadata": {},
   "outputs": [
    {
     "data": {
      "image/png": "[encoded data removed]",
      "text/plain": [
       "<Figure size 800x500 with 1 Axes>"
      ]
     },
     "metadata": {},
     "output_type": "display_data"
    }
   ],
   "source": [
    "# Plotar a curva ROC\n",
    "plt.figure(figsize=(8, 5))\n",
    "\n",
    "plt.plot(fpr, tpr, color='darkorange', lw=2, label='ROC curve (area = %0.2f)' % roc_auc)\n",
    "plt.plot([0, 1], [0, 1], color='navy', lw=2, linestyle='--')\n",
    "plt.xlim([0.0, 1.0])\n",
    "plt.ylim([0.0, 1.05])\n",
    "\n",
    "font1 = {'family': 'serif', 'color':'darkred', 'size':16}\n",
    "font2 = {'family': 'serif', 'color':'dimgray', 'size':12}\n",
    "\n",
    "plt.title('Receiver Operating Characteristic (ROC)', fontdict=font1)\n",
    "plt.xlabel('True Positive', fontdict=font2)\n",
    "plt.ylabel('False Positive', fontdict=font2)\n",
    "plt.legend(loc=\"lower right\")\n",
    "\n",
    "# Make the Spines Visibility as False \n",
    "for pos in ['right', 'top']: \n",
    "    plt.gca().spines[pos].set_visible(False) \n",
    "    \n",
    "# Plot Grid\n",
    "plt.grid(color='lightgrey', linestyle=':', linewidth=0.5)\n",
    "\n",
    "plt.show()"
   ]
  },
  {
   "cell_type": "markdown",
   "id": "de631a7c",
   "metadata": {},
   "source": [
    "## AUC Curve"
   ]
  },
  {
   "cell_type": "markdown",
   "id": "c64f9f5d",
   "metadata": {},
   "source": [
    "Mede a área sob a curva ROC e fornece uma métrica resumida da qualidade do modelo. Quanto maior a AUC, melhor o desempenho do modelo em discriminar entre classes. Um valor de 0,5 indica desempenho aleatório, enquanto 1 representa um modelo perfeito."
   ]
  },
  {
   "cell_type": "code",
   "execution_count": 20,
   "id": "c44cb63d",
   "metadata": {},
   "outputs": [
    {
     "data": {
      "text/plain": [
       "0.9980347199475925"
      ]
     },
     "execution_count": 20,
     "metadata": {},
     "output_type": "execute_result"
    }
   ],
   "source": [
    "roc_auc"
   ]
  },
  {
   "cell_type": "code",
   "execution_count": 21,
   "id": "b801a2de",
   "metadata": {},
   "outputs": [],
   "source": [
    "# Line\n",
    "y = [0,1]\n",
    "x = [0,1]\n",
    "\n",
    "# Scatter\n",
    "y1 = [0,1,1]\n",
    "x1 = [0,0,1]\n",
    "\n",
    "# Big scatter\n",
    "y2 = [0.3,0.9]\n",
    "x2 = [0.1,0.7]"
   ]
  },
  {
   "cell_type": "code",
   "execution_count": 22,
   "id": "fa0ce1aa",
   "metadata": {},
   "outputs": [
    {
     "data": {
      "image/png": "[encoded data removed]",
      "text/plain": [
       "<Figure size 800x500 with 1 Axes>"
      ]
     },
     "metadata": {},
     "output_type": "display_data"
    }
   ],
   "source": [
    "# Colors\n",
    "colors = ['darkorange', 'green', 'purple']\n",
    "\n",
    "# Plot\n",
    "plt.figure(figsize=(8, 5))\n",
    "plt.plot(x, y, c='gray', linestyle = 'dotted', alpha=0.85)\n",
    "plt.scatter(x1, y1, s=150, c=colors, alpha=0.7)\n",
    "plt.scatter(x2, y2, s=4000, c=['gray','slateblue'], alpha=0.1)\n",
    "\n",
    "# Font parammeters\n",
    "font1 = {'family': 'serif', 'color':'darkred', 'size':20}\n",
    "font2 = {'family': 'serif', 'color':'black', 'size':12}\n",
    "text1 = {'family': 'serif', 'color':  'green','weight': 'normal','size': 10}\n",
    "text2 = {'family': 'serif', 'color':  'purple','weight': 'normal','size': 10, 'alpha':0.7}\n",
    "text3 = {'family': 'serif', 'color':  'darkorange','weight': 'normal','size': 10}\n",
    "text4 = {'family': 'serif', 'color':  'slateblue','weight': 'normal','size': 10,  'alpha':0.8}\n",
    "text5 = {'family': 'serif', 'color':  'gray','weight': 'normal','size': 10, 'alpha':0.8}\n",
    "\n",
    "# Text\n",
    "plt.text(0.02, 0.95, r'Perfect classifcation, without errors', fontdict=text1)\n",
    "plt.text(0.94, 0.86, r'''Correctly classifies all Positive classes.\n",
    "Misclassifies all Negative classes''', fontdict=text2)\n",
    "plt.text(0.01, 0.05, r'''Never predicts Positive classes. Correctly classifies all Negative classes''', fontdict=text3)\n",
    "plt.text(0.5, 0.7, r'Detects Positice classes with high confidence', fontdict=text4)\n",
    "plt.text(0.07, 0.45, r'Detects Positice classes with low confidence', fontdict=text5)\n",
    "\n",
    "plt.title('ROC Curve', fontdict=font1)\n",
    "plt.xlabel('True Positive', fontdict=font2)\n",
    "plt.ylabel('False Positive', fontdict=font2)\n",
    "\n",
    "# Make the Spines Visibility as False \n",
    "for pos in ['right', 'top']: \n",
    "    plt.gca().spines[pos].set_visible(False) \n",
    "    \n",
    "# Plot Grid\n",
    "plt.grid(color='lightgrey', linestyle=':', linewidth=0.5)\n",
    "\n",
    "plt.show()"
   ]
  },
  {
   "cell_type": "markdown",
   "id": "578762cf",
   "metadata": {},
   "source": [
    "---"
   ]
  },
  {
   "cell_type": "markdown",
   "id": "54a549b8",
   "metadata": {},
   "source": [
    "## Mean Absolute Arror\n",
    "   * It represents the mean absolute prediction error. If the model were perfect, the result would be zero. However, since there is no upper limit, the metric cannot quantify how bad the model is. This does not prevent the metric from being used for a relative evaluation, that is, comparing different models. To avoid cancellations in the sum of differences, the absolute value of each difference is taken..\n",
    "   * ### $ MAE =\\frac{1}{n}\\sum{|y - \\hat{y}|} $\n",
    "\n",
    "#### Advantages of MAE\n",
    "\n",
    "* The MAE you get is in the same unit as the output variable.\n",
    "* It is most Robust to outliers.\n",
    "\n",
    "#### Disadvantages of MAE\n",
    "\n",
    "* The graph of MAE is not differentiable so we have to apply various optimizers like Gradient descent which can be differentiable."
   ]
  },
  {
   "cell_type": "code",
   "execution_count": 23,
   "id": "efa31c74",
   "metadata": {},
   "outputs": [
    {
     "name": "stdout",
     "output_type": "stream",
     "text": [
      "\n",
      " MAE test: 0.02\n"
     ]
    }
   ],
   "source": [
    "# Mean absolute error\n",
    "mae_test = metrics.mean_absolute_error(y_test, y_pred)\n",
    "print(\"\\n MAE test: %.2f\" % (mae_test))"
   ]
  },
  {
   "cell_type": "markdown",
   "id": "44a4546d",
   "metadata": {},
   "source": [
    "---"
   ]
  },
  {
   "cell_type": "markdown",
   "id": "9a4c9bfe",
   "metadata": {},
   "source": [
    "## Mean Squared Error\n",
    "\n",
    "   * It represents the mean squared prediction error, which is the square of the difference between the actual and predicted values. To avoid cancellations in the sum of differences, each calculated difference is squared.\n",
    "    * ### $ MSE =\\frac{1}{n}\\sum{(y - \\hat{y})^2} $\n",
    "\n",
    "#### Advantages of MSE\n",
    "\n",
    "* The graph of MSE is differentiable, so you can easily use it as a loss function.\n",
    "\n",
    "#### Disadvantages of MSE\n",
    "\n",
    "* The value you get after calculating MSE is a squared unit of output. \n",
    "* If you have outliers in the dataset then it penalizes the outliers most and the calculated MSE is bigger. So, in short, it is not Robust to outliers which were an advantage in MAE."
   ]
  },
  {
   "cell_type": "code",
   "execution_count": 24,
   "id": "0d7ad32e",
   "metadata": {},
   "outputs": [
    {
     "name": "stdout",
     "output_type": "stream",
     "text": [
      "\n",
      " MSE test: 0.02\n"
     ]
    }
   ],
   "source": [
    "# Mean squared error\n",
    "mse_test = metrics.mean_squared_error(y_test, y_pred)\n",
    "print(\"\\n MSE test: %.2f\" % (mse_test))"
   ]
  },
  {
   "cell_type": "markdown",
   "id": "719ac645",
   "metadata": {},
   "source": [
    "---"
   ]
  },
  {
   "cell_type": "markdown",
   "id": "14dbf2a6",
   "metadata": {},
   "source": [
    "## Root Mean Squared Error\n",
    "\n",
    "   * It is the square root of the mean squared error. It brings the measure back to the same unit as the data.\n",
    "   * Most of the time people use RMSE as an evaluation metric and mostly when you are working with deep learning techniques the most preferred metric is RMSE.\n",
    "    * ### $ MSE = \\sqrt{\\frac{1}{n}\\sum{(y - \\hat{y})^2}} $\n",
    "\n",
    "#### Advantages of RMSE\n",
    "* The output value you get is in the same unit as the required output variable which makes interpretation of loss easy.\n",
    "\n",
    "#### Disadvantages of RMSE\n",
    "* It is not that robust to outliers as compared to MAE."
   ]
  },
  {
   "cell_type": "code",
   "execution_count": 25,
   "id": "3ca19c5e",
   "metadata": {},
   "outputs": [
    {
     "name": "stdout",
     "output_type": "stream",
     "text": [
      "\n",
      " RMSE test: 0.13\n"
     ]
    }
   ],
   "source": [
    "# Root mean squared error\n",
    "root_mse_test = np.sqrt(metrics.mean_squared_error(y_test, y_pred))\n",
    "print(\"\\n RMSE test: %.2f\" % (root_mse_test))"
   ]
  },
  {
   "cell_type": "markdown",
   "id": "bf475723",
   "metadata": {},
   "source": [
    "---"
   ]
  },
  {
   "cell_type": "markdown",
   "id": "2041b720",
   "metadata": {},
   "source": [
    "## Cross Entropy\n",
    "\n",
    "* It measures the difference between two probability distributions for a given set of events.\n",
    "* Cross-entropy is commonly used as a loss function in classification models, particularly in neural networks.\n",
    "    * ### $ LogLoss = -\\frac{1}{n}\\sum{(y \\log(\\hat{y}) + (1 - y) \\log(1 - \\hat{y}))} $\n",
    "\n",
    "#### Advantages of Cross Entropy\n",
    "* It is a common choice as a loss function for classification tasks, especially in neural networks.\n",
    "\n",
    "#### Disadvantages of Cross Entropy\n",
    "\n",
    "* It can be sensitive to class imbalance and outliers, leading to potentially biased models."
   ]
  },
  {
   "cell_type": "code",
   "execution_count": 26,
   "id": "c72252b6",
   "metadata": {},
   "outputs": [
    {
     "name": "stdout",
     "output_type": "stream",
     "text": [
      "\n",
      " Entropy Loss test: 0.1181\n"
     ]
    }
   ],
   "source": [
    "# Cross entropy\n",
    "entropy_loss = log_loss(y_test, y_pred_prob)\n",
    "print(\"\\n Entropy Loss test: %.4f\" % (entropy_loss))"
   ]
  },
  {
   "cell_type": "markdown",
   "id": "439e4744",
   "metadata": {},
   "source": [
    "---"
   ]
  }
 ],
 "metadata": {
  "kernelspec": {
   "display_name": "Python 3 (ipykernel)",
   "language": "python",
   "name": "python3"
  },
  "language_info": {
   "codemirror_mode": {
    "name": "ipython",
    "version": 3
   },
   "file_extension": ".py",
   "mimetype": "text/x-python",
   "name": "python",
   "nbconvert_exporter": "python",
   "pygments_lexer": "ipython3",
   "version": "3.9.13"
  }
 },
 "nbformat": 4,
 "nbformat_minor": 5
}

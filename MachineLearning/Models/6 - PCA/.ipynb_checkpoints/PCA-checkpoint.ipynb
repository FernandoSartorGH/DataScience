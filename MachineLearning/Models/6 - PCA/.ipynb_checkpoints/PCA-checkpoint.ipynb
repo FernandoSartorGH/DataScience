{
 "cells": [
  {
   "cell_type": "markdown",
   "id": "840756e8",
   "metadata": {},
   "source": [
    "# "
   ]
  },
  {
   "cell_type": "markdown",
   "id": "4e62fe09",
   "metadata": {},
   "source": [
    "# <center>PCA"
   ]
  },
  {
   "cell_type": "markdown",
   "id": "d843ed97",
   "metadata": {},
   "source": [
    "## References\n",
    "\n",
    "* Hands-on Machine Learning with Scikit-Learn, Keras, and TensorFlow - Aurélien Géron\n",
    "* Machine learning - Fast reference guide - Matt Harrison\n",
    "* https://filipezabala.com/\n",
    "* https://www.youtube.com/@patloeber\n",
    "* https://www.youtube.com/@Dataquestio"
   ]
  },
  {
   "cell_type": "markdown",
   "id": "628c3f14",
   "metadata": {},
   "source": [
    "## Overview"
   ]
  },
  {
   "cell_type": "code",
   "execution_count": null,
   "id": "193e5e0d",
   "metadata": {},
   "outputs": [],
   "source": []
  },
  {
   "cell_type": "markdown",
   "id": "60ac5c7a",
   "metadata": {},
   "source": [
    "## Math"
   ]
  },
  {
   "cell_type": "code",
   "execution_count": null,
   "id": "b27106af",
   "metadata": {},
   "outputs": [],
   "source": []
  },
  {
   "cell_type": "markdown",
   "id": "dbd7f250",
   "metadata": {},
   "source": [
    "---"
   ]
  },
  {
   "cell_type": "markdown",
   "id": "06883bae",
   "metadata": {},
   "source": [
    "## Imports"
   ]
  },
  {
   "cell_type": "code",
   "execution_count": 76,
   "id": "2a44b3cf",
   "metadata": {},
   "outputs": [],
   "source": [
    "import numpy as np\n",
    "import pandas as pd"
   ]
  },
  {
   "cell_type": "markdown",
   "id": "9d2f07e8",
   "metadata": {},
   "source": [
    "## Data"
   ]
  },
  {
   "cell_type": "code",
   "execution_count": 103,
   "id": "62797466",
   "metadata": {},
   "outputs": [
    {
     "data": {
      "text/html": [
       "<div>\n",
       "<style scoped>\n",
       "    .dataframe tbody tr th:only-of-type {\n",
       "        vertical-align: middle;\n",
       "    }\n",
       "\n",
       "    .dataframe tbody tr th {\n",
       "        vertical-align: top;\n",
       "    }\n",
       "\n",
       "    .dataframe thead th {\n",
       "        text-align: right;\n",
       "    }\n",
       "</style>\n",
       "<table border=\"1\" class=\"dataframe\">\n",
       "  <thead>\n",
       "    <tr style=\"text-align: right;\">\n",
       "      <th></th>\n",
       "      <th>0</th>\n",
       "      <th>1</th>\n",
       "      <th>2</th>\n",
       "      <th>3</th>\n",
       "      <th>4</th>\n",
       "    </tr>\n",
       "  </thead>\n",
       "  <tbody>\n",
       "    <tr>\n",
       "      <th>0</th>\n",
       "      <td>1</td>\n",
       "      <td>2</td>\n",
       "      <td>4</td>\n",
       "      <td>6</td>\n",
       "      <td>1</td>\n",
       "    </tr>\n",
       "    <tr>\n",
       "      <th>1</th>\n",
       "      <td>4</td>\n",
       "      <td>1</td>\n",
       "      <td>2</td>\n",
       "      <td>4</td>\n",
       "      <td>3</td>\n",
       "    </tr>\n",
       "    <tr>\n",
       "      <th>2</th>\n",
       "      <td>5</td>\n",
       "      <td>4</td>\n",
       "      <td>8</td>\n",
       "      <td>3</td>\n",
       "      <td>1</td>\n",
       "    </tr>\n",
       "    <tr>\n",
       "      <th>3</th>\n",
       "      <td>7</td>\n",
       "      <td>2</td>\n",
       "      <td>3</td>\n",
       "      <td>7</td>\n",
       "      <td>6</td>\n",
       "    </tr>\n",
       "  </tbody>\n",
       "</table>\n",
       "</div>"
      ],
      "text/plain": [
       "   0  1  2  3  4\n",
       "0  1  2  4  6  1\n",
       "1  4  1  2  4  3\n",
       "2  5  4  8  3  1\n",
       "3  7  2  3  7  6"
      ]
     },
     "execution_count": 103,
     "metadata": {},
     "output_type": "execute_result"
    }
   ],
   "source": [
    "# Create some data\n",
    "data = np.matrix([\n",
    "    [1,2,4,6,1],\n",
    "    [4,1,2,4,3],\n",
    "    [5,4,8,3,1],\n",
    "    [7,2,3,7,6]\n",
    "])\n",
    "\n",
    "# To dataframe\n",
    "X = pd.DataFrame(data)\n",
    "\n",
    "# View\n",
    "X"
   ]
  },
  {
   "cell_type": "markdown",
   "id": "603f0e13",
   "metadata": {},
   "source": [
    "## Model"
   ]
  },
  {
   "cell_type": "markdown",
   "id": "0fa309d6",
   "metadata": {
    "scrolled": true
   },
   "source": [
    "## From sklearn\n"
   ]
  },
  {
   "cell_type": "code",
   "execution_count": 104,
   "id": "9b499a7f",
   "metadata": {},
   "outputs": [],
   "source": [
    "# Imports\n",
    "from sklearn.decomposition import PCA"
   ]
  },
  {
   "cell_type": "code",
   "execution_count": 105,
   "id": "3b7027be",
   "metadata": {},
   "outputs": [],
   "source": [
    "# standardize data\n",
    "std_data = (X - X.mean())/X.std()"
   ]
  },
  {
   "cell_type": "code",
   "execution_count": 106,
   "id": "4893d6b8",
   "metadata": {},
   "outputs": [
    {
     "data": {
      "text/plain": [
       "array([[ 0.17,  1.41, -0.75],\n",
       "       [-0.74,  0.66,  1.03],\n",
       "       [ 2.26, -0.82,  0.11],\n",
       "       [-1.69, -1.25, -0.38]])"
      ]
     },
     "execution_count": 106,
     "metadata": {},
     "output_type": "execute_result"
    }
   ],
   "source": [
    "# Define PCA and fit transform\n",
    "pca_sklearn = (PCA(3).fit_transform(std_data))\n",
    "\n",
    "# View\n",
    "pca_sklearn.round(2)"
   ]
  },
  {
   "cell_type": "markdown",
   "id": "8d91f120",
   "metadata": {},
   "source": [
    "## From scratch"
   ]
  },
  {
   "cell_type": "code",
   "execution_count": 107,
   "id": "c45bed2d",
   "metadata": {},
   "outputs": [],
   "source": [
    "# Imports\n",
    "from my_PCA import PCA"
   ]
  },
  {
   "cell_type": "code",
   "execution_count": 108,
   "id": "ae844d00",
   "metadata": {},
   "outputs": [
    {
     "data": {
      "text/plain": [
       "array([[-0.17, -1.41, -0.75],\n",
       "       [ 0.74, -0.66,  1.03],\n",
       "       [-2.26,  0.82,  0.11],\n",
       "       [ 1.69,  1.25, -0.38]])"
      ]
     },
     "execution_count": 108,
     "metadata": {},
     "output_type": "execute_result"
    }
   ],
   "source": [
    "# Define PCA\n",
    "pca = PCA(3)\n",
    "\n",
    "# Fit\n",
    "pca.fit(X)\n",
    "\n",
    "# Tranform\n",
    "pca_scratch = pca.transform(X)\n",
    "\n",
    "# View\n",
    "pca_scratch.round(2)"
   ]
  },
  {
   "cell_type": "markdown",
   "id": "dc557489",
   "metadata": {},
   "source": [
    "___"
   ]
  }
 ],
 "metadata": {
  "kernelspec": {
   "display_name": "Python 3.7",
   "language": "python",
   "name": "py37"
  },
  "language_info": {
   "codemirror_mode": {
    "name": "ipython",
    "version": 3
   },
   "file_extension": ".py",
   "mimetype": "text/x-python",
   "name": "python",
   "nbconvert_exporter": "python",
   "pygments_lexer": "ipython3",
   "version": "3.8.8"
  }
 },
 "nbformat": 4,
 "nbformat_minor": 5
}

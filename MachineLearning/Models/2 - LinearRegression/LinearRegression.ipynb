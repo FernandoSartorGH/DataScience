{
 "cells": [
  {
   "cell_type": "markdown",
   "id": "379c8bc0",
   "metadata": {},
   "source": [
    "# "
   ]
  },
  {
   "cell_type": "markdown",
   "id": "d019d78a",
   "metadata": {},
   "source": [
    "# <center> Linear Regression"
   ]
  },
  {
   "cell_type": "markdown",
   "id": "f0ca156d",
   "metadata": {},
   "source": [
    "## References\n",
    "\n",
    "* Hands-on Machine Learning with Scikit-Learn, Keras, and TensorFlow - Aurélien Géron\n",
    "* Machine learning - Fast reference guide - Matt Harrison\n",
    "* https://www.youtube.com/@patloeber\n",
    "* https://www.youtube.com/@Dataquestio"
   ]
  },
  {
   "cell_type": "markdown",
   "id": "2cfd3733",
   "metadata": {},
   "source": [
    "## Overview\n",
    "\n",
    "Linear regression is a statistical method of supervised learning regression that assumes that a particular variable of interest can be explained by a linear combination of input data/features. Estimating the model involves finding the weights or parameters that minimize the prediction errors.\n",
    "\n",
    "The resulting model will have an equation of the type $ \\hat{y} = \\hat{\\beta_{0}} + \\hat{\\beta_{1}}x_{1} + \\hat{\\beta_{2}}x_{2} + ... + \\hat{\\beta_{n}}x_{n} $ ou $ \\hat{y} = \\beta x  $ in vectorized form.\n",
    "\n",
    "There are certain assumptions that must be met for inferences to be made, and if these assumptions are satisfied, parameter estimation using the Ordinary Least Squares (OLS) method results in the best unbiased linear estimator.\n",
    "\n",
    "#### Gauss-Markov assumptions\n",
    "\n",
    "* Random sampling\n",
    "\n",
    "* The model is linear in parameters\n",
    "\n",
    "* Non-zero variance in X\n",
    "\n",
    "* No Perfect Collinearity\n",
    "\n",
    "* The conditional mean of the residuals is zero (the expected value of the errors is zero)\n",
    "\n",
    "* Homoscedasticity (the variance of the residuals is constant)\n",
    "\n",
    "* No correlation between residuals\n"
   ]
  },
  {
   "cell_type": "markdown",
   "id": "7a524d5a",
   "metadata": {},
   "source": [
    "### Some math on estimation methods:\n",
    "\n",
    "* ### Direct Method\n",
    "The direct method will optimize the model by deriving the cost function with respect to each parameter and solving the resulting system of equations.\n",
    "\n",
    "   * #### Close equation\n",
    "   $ \\hat{\\beta}  = (X^{T}X)^{-1} X^{T} y $\n",
    "\n",
    "   * #### Using Pseudo-inverse\n",
    "   The normal equation method may encounter a matrix that has no inverse. In this case the parameters could not be estimated. The pseudo inverse overcomes this obstacle.\n",
    "\n",
    "   $ \\hat{\\beta}  = X^{+} y $\n",
    "            The idea is to decompose the training matrix X into the product of three matrices.\n",
    "   $ X^{+} = V \\sum^{+}U^{T}  $\n",
    "\n",
    "   To calculate $\\sum^{+}$, all values smaller than a small threshold value are set to zero, the remaining values are replaced by their inverse, and the resulting matrix is transposed.\n",
    "\n",
    "\n",
    "* ### Gradient Descent method\n",
    "\n",
    "    This method minimizes the cost function $ \\sum{(y - \\hat{y})}^2 $ by iteratively adjusting the parameters $ \\hat{\\beta_{i}} $ on equation $ \\hat{y} = \\hat{\\beta_{0}} + \\hat{\\beta_{1}}x_{1} + \\hat{\\beta_{2}}x_{2} + ... + \\hat{\\beta_{n}}x_{n} $.\n",
    "\n",
    "\n",
    "    * Normal\n",
    "    * Batch\n",
    "    * Stochastic    \n"
   ]
  },
  {
   "cell_type": "markdown",
   "id": "0fb6155a",
   "metadata": {},
   "source": [
    "## Requirements:\n",
    "\n",
    "It is expected that the residuals do not exhibit a behavior that can be modeled. If they exhibit a defined behavior, there may be bias problems (functional form), absence of relevant explanatory variable for the model, among others"
   ]
  },
  {
   "cell_type": "markdown",
   "id": "72b95545",
   "metadata": {},
   "source": [
    "## More ..."
   ]
  },
  {
   "cell_type": "markdown",
   "id": "f455d8db",
   "metadata": {},
   "source": [
    "In another file there is a more detailed explanation of each aspect mentioned here. There are also two other files dealing with the interpretation of the models given transformations in the variables and on the interpretation of the model using dummy variables."
   ]
  },
  {
   "cell_type": "markdown",
   "id": "d63efaa0",
   "metadata": {},
   "source": [
    "___"
   ]
  },
  {
   "cell_type": "markdown",
   "id": "b66d8ff4",
   "metadata": {},
   "source": [
    "## Imports"
   ]
  },
  {
   "cell_type": "code",
   "execution_count": 1,
   "id": "97369114",
   "metadata": {},
   "outputs": [],
   "source": [
    "# Suppress warnings\n",
    "import warnings\n",
    "warnings.filterwarnings('ignore')"
   ]
  },
  {
   "cell_type": "code",
   "execution_count": 2,
   "id": "f1f24389",
   "metadata": {},
   "outputs": [],
   "source": [
    "# Imports\n",
    "import numpy as np\n",
    "import pandas as pd\n",
    "from sklearn import datasets\n",
    "from sklearn.model_selection import train_test_split"
   ]
  },
  {
   "cell_type": "markdown",
   "id": "d6d396d2",
   "metadata": {},
   "source": [
    "___"
   ]
  },
  {
   "cell_type": "markdown",
   "id": "b8d634b6",
   "metadata": {},
   "source": [
    "## Data"
   ]
  },
  {
   "cell_type": "code",
   "execution_count": 3,
   "id": "3fe3b2a9",
   "metadata": {},
   "outputs": [],
   "source": [
    "# Load data\n",
    "url = \"https://raw.githubusercontent.com/FernandoSartorGH/data/main/housing.csv\"\n",
    "df = pd.read_csv(url)\n",
    "\n",
    "# Define X and y\n",
    "X, y = df.iloc[:,0:-1], df.iloc[:,-1]"
   ]
  },
  {
   "cell_type": "code",
   "execution_count": 4,
   "id": "92e3c09c",
   "metadata": {},
   "outputs": [],
   "source": [
    "# Separate data\n",
    "X_train, X_test, y_train, y_test = train_test_split(X, y, test_size=0.2, random_state=1234)"
   ]
  },
  {
   "cell_type": "markdown",
   "id": "23398e66",
   "metadata": {},
   "source": [
    "## From scratch"
   ]
  },
  {
   "cell_type": "code",
   "execution_count": 5,
   "id": "818bbe6a",
   "metadata": {},
   "outputs": [],
   "source": [
    "# Import\n",
    "from my_LinearModels import my_LinearRegression, r2"
   ]
  },
  {
   "cell_type": "code",
   "execution_count": 6,
   "id": "71361068",
   "metadata": {
    "scrolled": true
   },
   "outputs": [
    {
     "name": "stdout",
     "output_type": "stream",
     "text": [
      "\n",
      " r2: 75.68%\n"
     ]
    }
   ],
   "source": [
    "# Define the model\n",
    "reg = my_LinearRegression(fit_mode = 'ols')\n",
    "\n",
    "# Fit the model\n",
    "reg.fit(X_train, y_train)\n",
    "\n",
    "# Predictions\n",
    "predictions = reg.predict(X_test)\n",
    "\n",
    "# Accuracy\n",
    "r2 = r2(y_test, predictions)\n",
    "print(\"\\n r2: %.2f%%\" % (r2*100))"
   ]
  },
  {
   "cell_type": "markdown",
   "id": "e2913e87",
   "metadata": {},
   "source": [
    "___"
   ]
  },
  {
   "cell_type": "markdown",
   "id": "7a6a2228",
   "metadata": {},
   "source": [
    "## From sklearn"
   ]
  },
  {
   "cell_type": "code",
   "execution_count": 7,
   "id": "984afc50",
   "metadata": {},
   "outputs": [],
   "source": [
    "from sklearn.metrics import r2_score\n",
    "from sklearn.linear_model import LinearRegression"
   ]
  },
  {
   "cell_type": "code",
   "execution_count": 8,
   "id": "f2e595e3",
   "metadata": {},
   "outputs": [
    {
     "name": "stdout",
     "output_type": "stream",
     "text": [
      "\n",
      " r2: 75.68%\n"
     ]
    }
   ],
   "source": [
    "# Define the model\n",
    "modelo = LinearRegression()\n",
    "\n",
    "# Fit the model\n",
    "modelo.fit(X_train, y_train)\n",
    "\n",
    "# Predictions\n",
    "y_pred = modelo.predict(X_test)\n",
    "\n",
    "# Accuracy\n",
    "r2 = r2_score(y_test, y_pred)\n",
    "print(\"\\n r2: %.2f%%\" % (r2*100))"
   ]
  },
  {
   "cell_type": "markdown",
   "id": "c6498dbf",
   "metadata": {},
   "source": [
    "___"
   ]
  }
 ],
 "metadata": {
  "kernelspec": {
   "display_name": "Python 3 (ipykernel)",
   "language": "python",
   "name": "python3"
  },
  "language_info": {
   "codemirror_mode": {
    "name": "ipython",
    "version": 3
   },
   "file_extension": ".py",
   "mimetype": "text/x-python",
   "name": "python",
   "nbconvert_exporter": "python",
   "pygments_lexer": "ipython3",
   "version": "3.8.8"
  }
 },
 "nbformat": 4,
 "nbformat_minor": 5
}

{
 "cells": [
  {
   "cell_type": "markdown",
   "id": "30852afb",
   "metadata": {},
   "source": [
    "### "
   ]
  },
  {
   "cell_type": "markdown",
   "id": "4003eb5c",
   "metadata": {},
   "source": [
    "# <center> Linear Regression and Variations"
   ]
  },
  {
   "cell_type": "markdown",
   "id": "20076a55",
   "metadata": {},
   "source": [
    "## References\n",
    "\n",
    "* Hands-on Machine Learning with Scikit-Learn, Keras, and TensorFlow - Aurélien Géron\n",
    "* Machine learning - Fast reference guide - Matt Harrison\n",
    "* https://www.youtube.com/@patloeber\n",
    "* https://www.youtube.com/@Dataquestio"
   ]
  },
  {
   "cell_type": "markdown",
   "id": "6b7aab3f",
   "metadata": {},
   "source": [
    "___"
   ]
  },
  {
   "cell_type": "markdown",
   "id": "48f8c09e",
   "metadata": {},
   "source": [
    "## Summary\n",
    "\n",
    "This study presents some topics that help understand linear models, both in terms of estimation and variations. Initially, topics related to linear regression will be addressed, and at at another complementary material, the motivation and flexibilizations that lead to logistic regression, a typical Generalized Linear Model.\n",
    "\n",
    "Regarding estimation methods, two general methods will be addressed:\n",
    "* Direct Method\n",
    "    * Normal equation\n",
    "    * Pseudo-inverse\n",
    "* Gradient Descent\n",
    "    * Normal\n",
    "    * Batch\n",
    "    * Stochastic    \n",
    "\n",
    "Regarding variations of the linear regression model, functional forms and types of regularization will be explored:\n",
    "\n",
    "* Functional form\n",
    "    * Linear\n",
    "    * Polynomial\n",
    "* Regularizations:\n",
    "    * Ridge\n",
    "    * Lasso\n",
    "    * Elastic Net"
   ]
  },
  {
   "cell_type": "markdown",
   "id": "67819054",
   "metadata": {},
   "source": [
    "## Definition and assumptions"
   ]
  },
  {
   "cell_type": "markdown",
   "id": "792d18b7",
   "metadata": {},
   "source": [
    "Linear regression is a statistical method that assumes that a particular variable of interest can be explained by a linear combination of input data/features. Estimating the model involves finding the weights or parameters that minimize the prediction errors.\n",
    "\n",
    "The resulting model will have an equation of the type $ \\hat{y} = \\hat{\\beta_{0}} + \\hat{\\beta_{1}}x_{1} + \\hat{\\beta_{2}}x_{2} + ... + \\hat{\\beta_{n}}x_{n} $ or $ \\hat{y} = \\beta x  $ in vectorized form.\n",
    "\n",
    "There are certain assumptions that must be met for inferences to be made, and if these assumptions are satisfied, parameter estimation using the Ordinary Least Squares (OLS) method results in the best unbiased linear estimator."
   ]
  },
  {
   "cell_type": "markdown",
   "id": "1e496c53",
   "metadata": {},
   "source": [
    "### Gauss-Markov assumptions:\n",
    "\n",
    "#### 1 - Random sampling\n",
    "    We do not want any sampling bias when making predictions, right?\n",
    "\n",
    "#### 2 - The model is linear in parameters\n",
    "    The model can take the polynomial form in the variables as long as it is linear in the parameters.\n",
    "\n",
    "#### 3 - Non-zero variance in X\n",
    "    There must be variation in the data for the model to be estimated.\n",
    "\n",
    "#### 4 - No Perfect Collinearity\n",
    "    Perfect collinearity, depending on the estimation method, implies infinite variance and impossibility of parameter estimation. Even if it is imperfect (correlation <1), but still high, the model will have high variance, generating large confidence intervals for the parameters resulting in low precision of the estimates.\n",
    "\n",
    "#### 5 - The conditional mean of the residuals is zero (the expected value of the errors is zero)\n",
    "    This assumption refers to the \"other factors\" contained in the errors (ui) and that these other factors are uncorrelated with X.\n",
    "\n",
    "#### 6 - Homoscedasticity (the variance of the residuals is constant)\n",
    "    The variance of the residual needs to be approximately constant, regardless of the values of X. Assumptions 5 and 6 together imply the normality of the distribution of the residuals.\n",
    "\n",
    "#### 7 - No correlation between residuals\n",
    "    The errors of two different observations, conditioned on X, should not be related. Random sampling will avoid autocorrelation."
   ]
  },
  {
   "cell_type": "markdown",
   "id": "93db8177",
   "metadata": {},
   "source": [
    "What is expected is that the residuals do not exhibit a behavior that can be modeled. If they exhibit a defined behavior, there may be bias problems (functional form), absence of relevant explanatory variable for the model, among others.\n",
    "\n",
    "The fact that the model assumes that errors have a normal distribution with mean zero and constant variance (hypotheses 5 and 6) implies that around the estimated value there is a normal distribution and that the observed value is a realization of that distribution centered on the line. Therefore, the observed value has a probability of being far from the line, i.e., far from the predicted value. However, the probability of being on the line is higher, because being centered on the line, the mean, median, and mode will be on the line."
   ]
  },
  {
   "cell_type": "markdown",
   "id": "6ee48104",
   "metadata": {},
   "source": [
    "## More ..."
   ]
  },
  {
   "cell_type": "markdown",
   "id": "5ffbdafb",
   "metadata": {},
   "source": [
    "There are two other files that deal with interpreting the models given transformations in the variables and interpreting the model using dummy variables. In addition there is a file with an overview of the linear regression model and the application from sklearn and from scratch on some dataset."
   ]
  },
  {
   "cell_type": "markdown",
   "id": "7a452073",
   "metadata": {},
   "source": [
    "___"
   ]
  },
  {
   "cell_type": "markdown",
   "id": "b99d72c7",
   "metadata": {},
   "source": [
    "## Imports"
   ]
  },
  {
   "cell_type": "code",
   "execution_count": 1,
   "id": "99572ce3",
   "metadata": {},
   "outputs": [],
   "source": [
    "# Imports\n",
    "import warnings\n",
    "warnings.filterwarnings('ignore')\n",
    "\n",
    "import numpy as np\n",
    "import pandas as pd\n",
    "import matplotlib.pyplot as plt"
   ]
  },
  {
   "cell_type": "markdown",
   "id": "368569a4",
   "metadata": {},
   "source": [
    "___"
   ]
  },
  {
   "cell_type": "markdown",
   "id": "6ca3c2db",
   "metadata": {},
   "source": [
    "## Data"
   ]
  },
  {
   "cell_type": "code",
   "execution_count": 2,
   "id": "5d6ef7ba",
   "metadata": {},
   "outputs": [],
   "source": [
    "# Create some data\n",
    "X = 2 * np.random.rand(100, 1)\n",
    "y = 1 + 3 * X + np.random.rand(100, 1)"
   ]
  },
  {
   "cell_type": "code",
   "execution_count": 3,
   "id": "afb446a1",
   "metadata": {},
   "outputs": [
    {
     "data": {
      "image/png": "[encoded data removed]",
      "text/plain": [
       "<Figure size 720x432 with 1 Axes>"
      ]
     },
     "metadata": {
      "needs_background": "light"
     },
     "output_type": "display_data"
    }
   ],
   "source": [
    "# PLot\n",
    "plt.figure(figsize = (10,6))\n",
    "\n",
    "plt.plot(X, y, 'b.')\n",
    "plt.axis([0,2,0,10])\n",
    "plt.title('Data', fontsize = 16)\n",
    "plt.show()"
   ]
  },
  {
   "cell_type": "markdown",
   "id": "ba58cad6",
   "metadata": {},
   "source": [
    "Linear regression models aim to estimate the parameters of a linear equation that minimizes prediction errors. These parameters are found by calculating the weighted sum of input features plus the bias (constant). Once the parameters are estimated, the model can be used to make predictions on new data. To do this, the input features of the new data point are plugged into the equation along with the estimated parameters to obtain the predicted value. This predicted value can then be compared to the true value to evaluate the model's accuracy.\n",
    "\n",
    "### $ \\hat{y} = \\hat{\\beta_{0}} + \\hat{\\beta_{1}}x_{1} + \\hat{\\beta_{2}}x_{2} + ... + \\hat{\\beta_{n}}x_{n} $"
   ]
  },
  {
   "cell_type": "markdown",
   "id": "210e0774",
   "metadata": {},
   "source": [
    "Vectorized form\n",
    "\n",
    "### $ \\hat{y} = h_{\\beta}(x) = \\beta x  $"
   ]
  },
  {
   "cell_type": "markdown",
   "id": "7cdf7125",
   "metadata": {},
   "source": [
    "___"
   ]
  },
  {
   "cell_type": "markdown",
   "id": "0f6b9f70",
   "metadata": {},
   "source": [
    "# <center> Parameter Estimation"
   ]
  },
  {
   "cell_type": "markdown",
   "id": "373ac027",
   "metadata": {},
   "source": [
    "Regardless of the method used, the goal is to minimize the prediction errors. Some methods, for mathematical convenience, seek to minimize the square of these errors while others seek optimization iteratively.\n",
    "\n",
    "In general terms, we model the equation that will result in the error or cost function and calculate the derivative with respect to each parameter by equating the equations to zero. The result will be a system of simultaneous equations that, when solved, will result in a vector containing the parameter or weight of each variable.\n",
    "\n",
    "### >> Cost function\n",
    "### $ S_{\\beta_{0}, \\beta_{1}, \\beta_{2}, \\beta_{n}} = \\sum{(y - \\hat{y})}^2 $\n",
    "\n",
    "### $ S_{\\beta_{0}, \\beta_{1}, \\beta_{2}, \\beta_{n}} = \\sum{(y - \\hat{\\beta_{0}} + \\hat{\\beta_{1}}x_{1} + \\hat{\\beta_{2}}x_{2} + ... + \\hat{\\beta_{n}}x_{n})}^2 $\n",
    "\n",
    "### >> Differentiating the cost function with respect to each parameter \n",
    "### $ \\frac{\\partial S(\\beta_{0}, \\beta_{1} ... \\beta_{n})}{\\partial \\beta_{0}} = \\sum{-2(y_i - \\hat{\\beta_{0}} + \\hat{\\beta_{1}}x_{1i} + ... + \\hat{\\beta_{n}}x_{ni})} = 0 $ \n",
    "### $ \\frac{\\partial S(\\beta_{1}, \\beta_{1} ... \\beta_{n})}{\\partial \\beta_{1}} = \\sum{-2x_1(y_i - \\hat{\\beta_{0}} + \\hat{\\beta_{1}}x_{1i} + ... + \\hat{\\beta_{n}}x_{ni})} = 0 $ \n",
    "### $ \\frac{\\partial S(\\beta_{n}, \\beta_{1} ... \\beta_{n})}{\\partial \\beta_{n}} = \\sum{-2x_n(y_i - \\hat{\\beta_{0}} + \\hat{\\beta_{1}}x_{1i} + ... + \\hat{\\beta_{n}}x_{ni})} = 0 $ \n",
    "\n",
    "\n",
    "### >> Estimated equation\n",
    "### $ \\hat{y} = \\hat{\\beta_{0}} + \\hat{\\beta_{1}}x_{1} + \\hat{\\beta_{2}}x_{2} + ... + \\hat{\\beta_{n}}x_{n} $"
   ]
  },
  {
   "cell_type": "markdown",
   "id": "859007ef",
   "metadata": {},
   "source": [
    "Since it is a system of simultaneous equations, the use of linear algebra will facilitate the operations. Next, we will see the implementation from scratch using numpy and the comparison of the result using sklearn.\n",
    "\n",
    "The examples will be extremely simple using only one predictor variable to allow for visualization of the line fitting."
   ]
  },
  {
   "cell_type": "markdown",
   "id": "06b5276e",
   "metadata": {},
   "source": [
    "---"
   ]
  },
  {
   "cell_type": "markdown",
   "id": "25e5bcb9",
   "metadata": {},
   "source": [
    "# Direct Method\n",
    "\n",
    "### $ \\hat{\\beta}  = (X^{T}X)^{-1} X^{T} y $"
   ]
  },
  {
   "cell_type": "markdown",
   "id": "948ff93e",
   "metadata": {},
   "source": [
    "### From scratch"
   ]
  },
  {
   "cell_type": "code",
   "execution_count": 4,
   "id": "a52578d6",
   "metadata": {},
   "outputs": [
    {
     "data": {
      "text/plain": [
       "array([[1.46029349],\n",
       "       [3.00763235]])"
      ]
     },
     "execution_count": 4,
     "metadata": {},
     "output_type": "execute_result"
    }
   ],
   "source": [
    "# Add constant to matriz X\n",
    "X_b = np.c_[np.ones((100,1)), X]\n",
    "\n",
    "# Calculate the vector with the parameters\n",
    "beta = np.linalg.inv(X_b.T.dot(X_b)).dot(X_b.T).dot(y)\n",
    "\n",
    "# View\n",
    "beta"
   ]
  },
  {
   "cell_type": "markdown",
   "id": "0af019bf",
   "metadata": {},
   "source": [
    "### From sklearn"
   ]
  },
  {
   "cell_type": "code",
   "execution_count": 6,
   "id": "d974957e",
   "metadata": {},
   "outputs": [
    {
     "data": {
      "text/plain": [
       "(array([1.46029349]), array([[3.00763235]]))"
      ]
     },
     "execution_count": 6,
     "metadata": {},
     "output_type": "execute_result"
    }
   ],
   "source": [
    "# Import\n",
    "from sklearn.linear_model import LinearRegression\n",
    "\n",
    "# Create and train model\n",
    "lin_reg = LinearRegression()\n",
    "lin_reg.fit(X, y)\n",
    "lin_reg.intercept_, lin_reg.coef_"
   ]
  },
  {
   "cell_type": "markdown",
   "id": "356bfc4d",
   "metadata": {},
   "source": [
    "## SVD Method - Pseudo-Inverse"
   ]
  },
  {
   "cell_type": "markdown",
   "id": "ea0a84c8",
   "metadata": {},
   "source": [
    "The direct method shows that at some point it is necessary to calculate the inverse of the matrix resulting from the product of the transpose of the input data matrix by itself. It is known that not all matrices have inverses, in which case a solution cannot be guaranteed for all problems. This does not seem reasonable.\n",
    "\n",
    "To solve this problem, there is the Moore-Penrose pseudoinverse of X. The SVD (singular value decomposition) method eliminates problems with matrices without inverses, as well as cases with more variables than observations and perfect collinearity.\n",
    "### $ \\hat{\\beta}  = X^{+} y $\n",
    "\n",
    "\n",
    "The idea is to decompose the training matrix $X$ into the product of three matrices.\n",
    "### $ X^{+} = V \\sum^{+}U^{T}  $\n",
    "\n",
    "To calculate $\\sum^{+}$, all values smaller than a small threshold value are set to zero, the remaining values are replaced by their inverse, and the resulting matrix is transposed."
   ]
  },
  {
   "cell_type": "markdown",
   "id": "2eb06021",
   "metadata": {},
   "source": [
    "### From numpy"
   ]
  },
  {
   "cell_type": "code",
   "execution_count": 8,
   "id": "ee5092da",
   "metadata": {},
   "outputs": [
    {
     "data": {
      "text/plain": [
       "array([[1.46029349],\n",
       "       [3.00763235]])"
      ]
     },
     "execution_count": 8,
     "metadata": {},
     "output_type": "execute_result"
    }
   ],
   "source": [
    "# The LinearRegression class is based on the scipy.linalg.lstsq() class.\n",
    "beta_svd =  np.linalg.lstsq(X_b, y, rcond = 1e-6)\n",
    "beta_svd[0]"
   ]
  },
  {
   "cell_type": "markdown",
   "id": "5dc4797e",
   "metadata": {},
   "source": [
    "### From scratch (or almost that) "
   ]
  },
  {
   "cell_type": "code",
   "execution_count": 9,
   "id": "df1dbedc",
   "metadata": {},
   "outputs": [
    {
     "data": {
      "text/plain": [
       "array([[1.46029349],\n",
       "       [3.00763235]])"
      ]
     },
     "execution_count": 9,
     "metadata": {},
     "output_type": "execute_result"
    }
   ],
   "source": [
    "# Applying the pseudoinverse with numpy\n",
    "np.linalg.pinv(X_b).dot(y)"
   ]
  },
  {
   "cell_type": "markdown",
   "id": "7b9bb18e",
   "metadata": {},
   "source": [
    "## Gradient Descent Method"
   ]
  },
  {
   "cell_type": "markdown",
   "id": "c6d6c3eb",
   "metadata": {},
   "source": [
    "This method minimizes the cost function by iteratively adjusting the parameters.\n",
    "\n",
    "The most common analogy for gradient descent is to imagine yourself at the top of a mountain and needing to descend as quickly as possible to the bottom of a valley. Moreover, you can't see the slope, you can only feel the slope beneath your feet. The strategy would be to feel the slope on all sides and follow the steepest one.\n",
    "\n",
    "The algorithm calculates the local gradient of the cost function with respect to the parameter vector and moves in the direction of the gradient descent. When the gradient is zero, we have found the minimum.\n",
    "\n",
    "**Parameters and Characteristics:**\n",
    "\n",
    "Learning rate: It is the size of the steps the algorithm takes in search of the minimum. If it is too small, the algorithm needs many iterations to find the minimum. If it is too large, it may overshoot the minimum and end up at a higher point than where it started.\n",
    "\n",
    "Shape of the cost function: When the function is a convex parabola, starting from the left or right won't make a difference, and the model will walk straight to the unique minimum of the function. If the function has local minima, which would be equivalent to finding holes during the mountain descent, the solution found may not be optimal because we are looking for the global minimum of the function. If the function has a flat slope, we need a large number of iterations to cross the plateau. Increasing the learning rate may be a solution, but if we go too high, as already mentioned, we may overshoot the global minimum and not find a good solution.\n",
    "\n",
    "The MSE cost function is a convex function without local minima, which means there is only one global minimum. This facilitates parameter estimation, and the result found converges to the results found by previous models."
   ]
  },
  {
   "cell_type": "markdown",
   "id": "7051f121",
   "metadata": {},
   "source": [
    "## Batch GD"
   ]
  },
  {
   "cell_type": "markdown",
   "id": "016cb8a9",
   "metadata": {},
   "source": [
    "The Batch method means that the entire training dataset will be used in each iteration. For very large datasets, the model may become slow, but it will still have better performance than the direct or SVD method."
   ]
  },
  {
   "cell_type": "markdown",
   "id": "c3e5e68e",
   "metadata": {},
   "source": [
    "### $ \\triangledown_{\\beta}MSE(\\beta) = \\frac{2}{m} X^{T}(X\\beta - y)  $\n",
    "\n",
    "### $ \\beta(next) = \\beta - \\eta * \\triangledown_{\\beta}MSE(\\beta) $"
   ]
  },
  {
   "cell_type": "code",
   "execution_count": 10,
   "id": "6a9fdc96",
   "metadata": {},
   "outputs": [
    {
     "data": {
      "text/plain": [
       "array([[1.46029349],\n",
       "       [3.00763235]])"
      ]
     },
     "execution_count": 10,
     "metadata": {},
     "output_type": "execute_result"
    }
   ],
   "source": [
    "# Learning rate\n",
    "eta = 0.1\n",
    "\n",
    "# Iterations \n",
    "n_iterations = 1000\n",
    "m = 100\n",
    "\n",
    "# random initialization\n",
    "beta = np.random.randn(2,1)\n",
    "\n",
    "for iteration in range (n_iterations):\n",
    "    gradients = 2/m * X_b.T.dot(X_b.dot(beta) - y)\n",
    "    beta = beta - eta * gradients\n",
    "    \n",
    "# View\n",
    "beta"
   ]
  },
  {
   "cell_type": "markdown",
   "id": "8c8970a8",
   "metadata": {},
   "source": [
    "## Random GD"
   ]
  },
  {
   "cell_type": "markdown",
   "id": "cb8a00d5",
   "metadata": {},
   "source": [
    "One of the problems with applying batch GD is that it uses the entire training dataset to calculate gradients at each step, making the training process slower. Stochastic GD works at the other extreme, selecting a random instance from the training set at each step and calculating the gradients based on that single selected instance.\n",
    "\n",
    "Due to the randomness of the process, this algorithm does not descend smoothly and regularly to the minimum. The cost function will go up and down, only descending on average and ending up very close to the minimum without stabilizing. If the cost function is irregular, containing local minima, stochastic GD has a greater chance of finding the global minimum compared to batch GD.\n",
    "\n",
    "In summary, stochastic GD is a solution to the problem of local minima, but the model may never stabilize at the minimum. One solution would be to gradually reduce the learning rate. A high rate at the beginning would allow the model to escape local minima, and a low rate at the end would allow the model to stabilize at the global minimum."
   ]
  },
  {
   "cell_type": "markdown",
   "id": "93c04f2b",
   "metadata": {},
   "source": [
    "### From scratch"
   ]
  },
  {
   "cell_type": "code",
   "execution_count": 11,
   "id": "ef18d4af",
   "metadata": {},
   "outputs": [
    {
     "data": {
      "text/plain": [
       "array([[1.46989993],\n",
       "       [2.99947047]])"
      ]
     },
     "execution_count": 11,
     "metadata": {},
     "output_type": "execute_result"
    }
   ],
   "source": [
    "# Número de iterações\n",
    "m = 100\n",
    "\n",
    "# Número de rodadas\n",
    "n_epochs = 50\n",
    "\n",
    "# Hiperparâmetros do cronograma de aprendizado\n",
    "t0, t1 = 5, 50\n",
    "\n",
    "def learning_schedule(t):\n",
    "    return t0 / (t + t1)\n",
    "\n",
    "# Inicialização aleatória\n",
    "beta = np.random.randn(2,1)\n",
    "\n",
    "for epoch in range(n_epochs):\n",
    "    for i in range(m):\n",
    "        random_index = np.random.randint(m)\n",
    "        xi = X_b[random_index:random_index + 1]\n",
    "        yi = y[random_index:random_index + 1]\n",
    "        \n",
    "        gradients = 2 * xi.T.dot(xi.dot(beta) - yi)\n",
    "        eta = learning_schedule(epoch * m + i)\n",
    "        beta = beta - eta * gradients\n",
    "        \n",
    "# View\n",
    "beta"
   ]
  },
  {
   "cell_type": "markdown",
   "id": "e8df83d1",
   "metadata": {},
   "source": [
    "### From sklearn"
   ]
  },
  {
   "cell_type": "code",
   "execution_count": 12,
   "id": "a6199a7a",
   "metadata": {},
   "outputs": [
    {
     "data": {
      "text/plain": [
       "(array([1.44473258]), array([2.97648539]))"
      ]
     },
     "execution_count": 12,
     "metadata": {},
     "output_type": "execute_result"
    }
   ],
   "source": [
    "# import\n",
    "from sklearn.linear_model import SGDRegressor\n",
    "\n",
    "sgd_reg = SGDRegressor(max_iter = 1000, tol = 1e-3, penalty = None, eta0 = 0.1)\n",
    "sgd_reg.fit(X, y.ravel())\n",
    "\n",
    "sgd_reg.intercept_, sgd_reg.coef_"
   ]
  },
  {
   "cell_type": "markdown",
   "id": "4e58208e",
   "metadata": {},
   "source": [
    "___\n"
   ]
  },
  {
   "cell_type": "markdown",
   "id": "4c6029a8",
   "metadata": {},
   "source": [
    "# <center> Polinomial Regression"
   ]
  },
  {
   "cell_type": "markdown",
   "id": "70a2d3dd",
   "metadata": {},
   "source": [
    "One of the premises of Gauss-Markov is that the model is linear in the parameters. This means that we can use linear regression for data with non-linear behavior without violating this premise, since the non-linearity will be in the data and not in the parameters."
   ]
  },
  {
   "cell_type": "markdown",
   "id": "872e285b",
   "metadata": {},
   "source": [
    "## Quadratic form"
   ]
  },
  {
   "cell_type": "code",
   "execution_count": 13,
   "id": "888b3e2a",
   "metadata": {},
   "outputs": [],
   "source": [
    "# Simple quadratic equation\n",
    "m = 100\n",
    "X = 6 * np.random.rand(m, 1) -3\n",
    "y = -X**2 + X + 2*np.random.randn(m, 1)"
   ]
  },
  {
   "cell_type": "code",
   "execution_count": 14,
   "id": "04c3e918",
   "metadata": {},
   "outputs": [
    {
     "data": {
      "image/png": "[encoded data removed]",
      "text/plain": [
       "<Figure size 720x432 with 1 Axes>"
      ]
     },
     "metadata": {
      "needs_background": "light"
     },
     "output_type": "display_data"
    }
   ],
   "source": [
    "# PLot\n",
    "plt.figure(figsize = (10,6))\n",
    "\n",
    "plt.plot(X, y, 'b.')\n",
    "plt.title('Quadratic Polynomial Form', fontsize = 16)\n",
    "plt.show()"
   ]
  },
  {
   "cell_type": "code",
   "execution_count": 15,
   "id": "1d75e777",
   "metadata": {},
   "outputs": [],
   "source": [
    "# add square\n",
    "from sklearn.preprocessing import PolynomialFeatures\n",
    "\n",
    "poly_features = PolynomialFeatures(degree = 2, include_bias = False)\n",
    "X_poly = poly_features.fit_transform(X)"
   ]
  },
  {
   "cell_type": "code",
   "execution_count": 16,
   "id": "d003e3a7",
   "metadata": {},
   "outputs": [
    {
     "data": {
      "text/plain": [
       "(array([-0.36924492]), array([[ 1.10507667, -0.92998084]]))"
      ]
     },
     "execution_count": 16,
     "metadata": {},
     "output_type": "execute_result"
    }
   ],
   "source": [
    "# Import\n",
    "from sklearn.linear_model import LinearRegression\n",
    "\n",
    "# Create and train model\n",
    "lin_reg = LinearRegression()\n",
    "lin_reg.fit(X_poly, y)\n",
    "lin_reg.intercept_, lin_reg.coef_"
   ]
  },
  {
   "cell_type": "code",
   "execution_count": 17,
   "id": "c3e1d49f",
   "metadata": {
    "scrolled": false
   },
   "outputs": [
    {
     "data": {
      "image/png": "[encoded data removed]",
      "text/plain": [
       "<Figure size 720x432 with 1 Axes>"
      ]
     },
     "metadata": {
      "needs_background": "light"
     },
     "output_type": "display_data"
    }
   ],
   "source": [
    "# Predict\n",
    "predict = lin_reg.predict(X_poly)\n",
    "\n",
    "# PLot\n",
    "plt.figure(figsize = (10,6))\n",
    "\n",
    "plt.plot(X, y, 'b.')\n",
    "plt.plot(X, predict, 'r.', label = 'Predictions')\n",
    "plt.title('Quadratic Form', fontsize = 16)\n",
    "plt.legend()\n",
    "plt.show()"
   ]
  },
  {
   "cell_type": "markdown",
   "id": "2824db02",
   "metadata": {},
   "source": [
    "## Cubic form"
   ]
  },
  {
   "cell_type": "code",
   "execution_count": 18,
   "id": "61718bfa",
   "metadata": {},
   "outputs": [],
   "source": [
    "# Simple cubic equation\n",
    "m = 100\n",
    "X = 6 * np.random.rand(m, 1) - 3\n",
    "y = X**3 + X**2 + X + 2 + 2* np.random.randn(m, 1)"
   ]
  },
  {
   "cell_type": "code",
   "execution_count": 19,
   "id": "d857e87b",
   "metadata": {},
   "outputs": [
    {
     "data": {
      "image/png": "[encoded data removed]",
      "text/plain": [
       "<Figure size 720x432 with 1 Axes>"
      ]
     },
     "metadata": {
      "needs_background": "light"
     },
     "output_type": "display_data"
    }
   ],
   "source": [
    "# PLot\n",
    "plt.figure(figsize = (10,6))\n",
    "\n",
    "plt.plot(X, y, 'b.')\n",
    "plt.title('Cubic Polynomial Form', fontsize = 16)\n",
    "plt.show()"
   ]
  },
  {
   "cell_type": "code",
   "execution_count": 20,
   "id": "8eeea4c5",
   "metadata": {},
   "outputs": [],
   "source": [
    "# add cube\n",
    "from sklearn.preprocessing import PolynomialFeatures\n",
    "\n",
    "poly_features = PolynomialFeatures(degree = 3, include_bias = False)\n",
    "X_poly = poly_features.fit_transform(X)"
   ]
  },
  {
   "cell_type": "code",
   "execution_count": 21,
   "id": "9b479cf5",
   "metadata": {},
   "outputs": [
    {
     "data": {
      "text/plain": [
       "(array([1.71266974]), array([[0.76684959, 1.03259608, 1.02993963]]))"
      ]
     },
     "execution_count": 21,
     "metadata": {},
     "output_type": "execute_result"
    }
   ],
   "source": [
    "# Import\n",
    "from sklearn.linear_model import LinearRegression\n",
    "\n",
    "# Create and train model\n",
    "lin_reg = LinearRegression()\n",
    "lin_reg.fit(X_poly, y)\n",
    "lin_reg.intercept_, lin_reg.coef_"
   ]
  },
  {
   "cell_type": "code",
   "execution_count": 22,
   "id": "f0d01b27",
   "metadata": {},
   "outputs": [
    {
     "data": {
      "image/png": "[encoded data removed]",
      "text/plain": [
       "<Figure size 720x432 with 1 Axes>"
      ]
     },
     "metadata": {
      "needs_background": "light"
     },
     "output_type": "display_data"
    }
   ],
   "source": [
    "# Predict\n",
    "predict = lin_reg.predict(X_poly)\n",
    "\n",
    "# PLot\n",
    "plt.figure(figsize = (10,6))\n",
    "\n",
    "plt.plot(X, y, 'b.')\n",
    "plt.plot(X, predict, 'r.', label = 'Predictions')\n",
    "plt.title('Cubic Form', fontsize = 16)\n",
    "plt.legend()\n",
    "plt.show()"
   ]
  },
  {
   "cell_type": "markdown",
   "id": "953c2330",
   "metadata": {},
   "source": [
    "___"
   ]
  },
  {
   "cell_type": "markdown",
   "id": "e07535c0",
   "metadata": {},
   "source": [
    "## Learning Curves and Trade-off Bias/Variance"
   ]
  },
  {
   "cell_type": "markdown",
   "id": "2829f2e7",
   "metadata": {},
   "source": [
    "The generalization error of a model can be expressed as the sum of three distinct errors:\n",
    "\n",
    "**Bias:**\n",
    "\n",
    "    This error is due to wrong assumptions about the model, such as the functional form for example. A high bias can result in an underfitting model.\n",
    "\n",
    "**Variance:**\n",
    "\n",
    "    This error is due to the model's excessive sensitivity to small variations in the training data. A model with many degrees of freedom, such as a high-degree polynomial model, can have high variance and overfit to the data.\n",
    "\n",
    "**Irreducible error:**\n",
    "\n",
    "    These are the noises in the data. To reduce it, we can clean the data and/or improve the source."
   ]
  },
  {
   "cell_type": "markdown",
   "id": "099b7910",
   "metadata": {},
   "source": [
    "Increasing the complexity of a model increases variance and reduces bias, and vice versa.\n",
    "\n",
    "* High bias: Underfitting model\n",
    "* High variance: Overfitting model"
   ]
  },
  {
   "cell_type": "code",
   "execution_count": 23,
   "id": "2823b6a8",
   "metadata": {},
   "outputs": [],
   "source": [
    "# Create some data\n",
    "m = 100\n",
    "X = 2 * np.random.rand(100, 1)\n",
    "y = 4 + 3 * X + np.random.rand(100, 1)"
   ]
  },
  {
   "cell_type": "code",
   "execution_count": 24,
   "id": "ad42a0b9",
   "metadata": {},
   "outputs": [],
   "source": [
    "# Imports\n",
    "from sklearn.metrics import mean_squared_error\n",
    "from sklearn.model_selection import train_test_split\n",
    "\n",
    "# Plot function\n",
    "def plot_learning_curves(model, X, y):\n",
    "    X_train, X_val, y_train, y_val = train_test_split(X, y, test_size = 0.2)\n",
    "    train_errors, val_errors = [], []\n",
    "    \n",
    "    for m in range(1, len(X_train)):\n",
    "        model.fit(X_train[:m], y_train[:m])\n",
    "        y_train_predict = model.predict(X_train[:m])\n",
    "        y_val_predict = model.predict(X_val)\n",
    "        train_errors.append(mean_squared_error(y_train[:m], y_train_predict))\n",
    "        val_errors.append(mean_squared_error(y_val, y_val_predict))\n",
    "    \n",
    "    # PLot\n",
    "    plt.figure(figsize = (10,6))\n",
    "    plt.plot(np.sqrt(train_errors), 'r-+', linewidth = 2, label = 'train')\n",
    "    plt.plot(np.sqrt(val_errors), 'b-', linewidth = 3, label = 'val')\n",
    "    plt.title('Viés/Variância', fontsize = 16)\n",
    "    plt.xlabel('Training set size')\n",
    "    plt.ylabel('RMSE')\n",
    "    plt.legend()\n",
    "    plt.show()"
   ]
  },
  {
   "cell_type": "code",
   "execution_count": 25,
   "id": "c7beddc0",
   "metadata": {},
   "outputs": [
    {
     "data": {
      "image/png": "[encoded data removed]",
      "text/plain": [
       "<Figure size 720x432 with 1 Axes>"
      ]
     },
     "metadata": {
      "needs_background": "light"
     },
     "output_type": "display_data"
    }
   ],
   "source": [
    "# View\n",
    "lin_reg = LinearRegression()\n",
    "\n",
    "plot_learning_curves(lin_reg, X, y)"
   ]
  },
  {
   "cell_type": "markdown",
   "id": "0281096a",
   "metadata": {},
   "source": [
    "___"
   ]
  },
  {
   "cell_type": "markdown",
   "id": "21cb2832",
   "metadata": {},
   "source": [
    "# <center> Regularized Models"
   ]
  },
  {
   "cell_type": "markdown",
   "id": "f680ac2e",
   "metadata": {},
   "source": [
    "One way to reduce overfitting is to regularize or restrict the model. In the case of polynomial models, a simple way to restrict the model is to reduce the degree. For linear models, regularization can be achieved by restricting the model weights.\n",
    "\n",
    "Most regularization models are sensitive to the scale of the data, so it is essential to scale the data before applying any regularized regression model."
   ]
  },
  {
   "cell_type": "markdown",
   "id": "c610ea96",
   "metadata": {},
   "source": [
    "# Ridge Regression"
   ]
  },
  {
   "cell_type": "markdown",
   "id": "ab61802a",
   "metadata": {},
   "source": [
    "Ridge regression adds a regularization term to linear regression. The added parameter is the sum of the squared weights.\n",
    "\n",
    "### $ J(\\beta) = MSE(\\beta) + \\alpha\\frac{1}{2}\\sum_{i = 1}^{n}\\beta_{i}^{2}   $\n",
    "\n",
    "\n",
    "### $ \\hat{\\beta}  = (X^{T}\\alpha X)^{-1} X^{T} y $"
   ]
  },
  {
   "cell_type": "code",
   "execution_count": 26,
   "id": "60418542",
   "metadata": {},
   "outputs": [],
   "source": [
    "# Create some data\n",
    "X = 2 * np.random.rand(100, 1)\n",
    "y = 4 + 3 * X + np.random.rand(100, 1)\n",
    "\n",
    "# add poly\n",
    "from sklearn.preprocessing import PolynomialFeatures\n",
    "\n",
    "poly_features = PolynomialFeatures(degree = 3, include_bias = False)\n",
    "X_poly = poly_features.fit_transform(X)"
   ]
  },
  {
   "cell_type": "code",
   "execution_count": 27,
   "id": "7d990fae",
   "metadata": {},
   "outputs": [],
   "source": [
    "# Import \n",
    "from sklearn.preprocessing import StandardScaler\n",
    "\n",
    "# Padronizar\n",
    "X_std = StandardScaler().fit(X).transform(X)\n",
    "XPoly_std = StandardScaler().fit(X_poly).transform(X_poly)"
   ]
  },
  {
   "cell_type": "markdown",
   "id": "7765c341",
   "metadata": {},
   "source": [
    "### Linear model"
   ]
  },
  {
   "cell_type": "code",
   "execution_count": 28,
   "id": "ad339390",
   "metadata": {},
   "outputs": [],
   "source": [
    "# import\n",
    "from sklearn.linear_model import Ridge\n",
    "from sklearn.linear_model import LinearRegression\n",
    "\n",
    "# linear\n",
    "linear_reg = LinearRegression().fit(X_std, y)\n",
    "\n",
    "# ridge alpha 0\n",
    "ridge_reg0 = Ridge(alpha = 0, solver = 'cholesky').fit(X_std, y)\n",
    "\n",
    "# ridge alpha \n",
    "ridge_reg01 = Ridge(alpha = 10, solver = 'cholesky').fit(X_std, y)\n",
    "\n",
    "# ridge alpha \n",
    "ridge_reg1 = Ridge(alpha = 20, solver = 'cholesky').fit(X_std, y)"
   ]
  },
  {
   "cell_type": "code",
   "execution_count": 29,
   "id": "5d984e49",
   "metadata": {},
   "outputs": [],
   "source": [
    "# predict\n",
    "predict = linear_reg.predict(X_std)\n",
    "predict0 = ridge_reg0.predict(X_std)\n",
    "predict01 = ridge_reg01.predict(X_std)\n",
    "predict1 = ridge_reg1.predict(X_std)"
   ]
  },
  {
   "cell_type": "code",
   "execution_count": 30,
   "id": "2166d91c",
   "metadata": {},
   "outputs": [
    {
     "data": {
      "image/png": "[encoded data removed]",
      "text/plain": [
       "<Figure size 720x432 with 1 Axes>"
      ]
     },
     "metadata": {
      "needs_background": "light"
     },
     "output_type": "display_data"
    }
   ],
   "source": [
    "# PLot\n",
    "plt.figure(figsize = (10,6))\n",
    "\n",
    "plt.plot(X, y, 'k.', markersize = 12, alpha = 0.5)\n",
    "plt.plot(X, predict, 'b-', label = 'Linear', alpha = 0.8)\n",
    "plt.plot(X, predict0, 'r-', label = 'Ridge alpha 0', alpha = 0.8)\n",
    "plt.plot(X, predict01, 'g-', label = 'Ridge alpha 10', alpha = 0.8)\n",
    "plt.plot(X, predict1, 'c-', label = 'Ridge alpha 20', alpha = 0.8)\n",
    "plt.title('Regularization', fontsize = 16)\n",
    "#plt.axis([0,2,0,15])\n",
    "plt.legend()\n",
    "plt.show()"
   ]
  },
  {
   "cell_type": "markdown",
   "id": "b542dec9",
   "metadata": {},
   "source": [
    "When alpha = 0, regularization disappears and we return to the linear regression model."
   ]
  },
  {
   "cell_type": "markdown",
   "id": "5e05a737",
   "metadata": {},
   "source": [
    "### Polinomial model"
   ]
  },
  {
   "cell_type": "code",
   "execution_count": 31,
   "id": "345c9744",
   "metadata": {},
   "outputs": [],
   "source": [
    "# Squared equation\n",
    "m = 100\n",
    "X = 6 * np.random.rand(m, 1) - 3\n",
    "y = X**3 + X**2 + X + 2 + 2* np.random.randn(m, 1)\n",
    "\n",
    "# add poly\n",
    "from sklearn.preprocessing import PolynomialFeatures\n",
    "\n",
    "poly_features = PolynomialFeatures(degree = 3, include_bias = False)\n",
    "X_poly = poly_features.fit_transform(X)"
   ]
  },
  {
   "cell_type": "code",
   "execution_count": 32,
   "id": "256d7284",
   "metadata": {},
   "outputs": [],
   "source": [
    "# Import \n",
    "from sklearn.preprocessing import StandardScaler\n",
    "\n",
    "# Scaling\n",
    "X_std = StandardScaler().fit(X).transform(X)\n",
    "XPoly_std = StandardScaler().fit(X_poly).transform(X_poly)"
   ]
  },
  {
   "cell_type": "code",
   "execution_count": 33,
   "id": "08ca44ca",
   "metadata": {},
   "outputs": [],
   "source": [
    "# import\n",
    "from sklearn.linear_model import Ridge\n",
    "from sklearn.linear_model import LinearRegression\n",
    "\n",
    "# linear\n",
    "linear_reg = LinearRegression().fit(XPoly_std, y)\n",
    "\n",
    "# ridge alpha \n",
    "ridge_reg0 = Ridge(alpha = 0, solver = 'cholesky').fit(XPoly_std, y)\n",
    "\n",
    "# ridge alpha\n",
    "ridge_reg01 = Ridge(alpha = 100, solver = 'cholesky').fit(XPoly_std, y)"
   ]
  },
  {
   "cell_type": "code",
   "execution_count": 34,
   "id": "9c10705a",
   "metadata": {},
   "outputs": [],
   "source": [
    "# predict\n",
    "predict = linear_reg.predict(XPoly_std)\n",
    "predict0 = ridge_reg0.predict(XPoly_std)\n",
    "predict01 = ridge_reg01.predict(XPoly_std)"
   ]
  },
  {
   "cell_type": "code",
   "execution_count": 35,
   "id": "dd7d8183",
   "metadata": {},
   "outputs": [
    {
     "data": {
      "image/png": "[encoded data removed]",
      "text/plain": [
       "<Figure size 720x432 with 1 Axes>"
      ]
     },
     "metadata": {
      "needs_background": "light"
     },
     "output_type": "display_data"
    }
   ],
   "source": [
    "# PLot\n",
    "plt.figure(figsize = (10,6))\n",
    "\n",
    "plt.plot(X, y, 'k.', markersize = 14, alpha = 0.35)\n",
    "plt.plot(X, predict, 'b.', label = 'Linear', alpha = 0.7)\n",
    "plt.plot(X, predict0, 'r.', label = 'Ridge alpha 0', alpha = 0.7)\n",
    "plt.plot(X, predict01, 'g.', label = 'Ridge alpha 100', alpha = 0.7)\n",
    "plt.title('Regularization', fontsize = 16)\n",
    "#plt.axis([0,2,0,15])\n",
    "plt.legend()\n",
    "plt.show()"
   ]
  },
  {
   "cell_type": "markdown",
   "id": "06859ae4",
   "metadata": {},
   "source": [
    "___"
   ]
  },
  {
   "cell_type": "markdown",
   "id": "74ff8fb8",
   "metadata": {},
   "source": [
    "# Lasso Regression"
   ]
  },
  {
   "cell_type": "markdown",
   "id": "d3311793",
   "metadata": {},
   "source": [
    "Lasso regression also adds a regularization term to linear regression. The added term is the sum of the absolute values of the weights.\n",
    "\n",
    "### $ J(\\beta) = MSE(\\beta) + \\alpha\\sum_{i = 1}^{n}|\\beta_{i}|   $\n",
    "\n",
    "\n",
    "#### $ \\triangledown_{\\beta}MSE(\\beta) = \\frac{2}{m} X^{T}(X\\beta - y)  $\n",
    "\n",
    "\n",
    "### $ g(\\beta, J) = \\triangledown_{\\beta}MSE(\\beta) + \\alpha \\begin{pmatrix} sign(\\beta_{1}) \\\\ sign(\\beta_{2}) \\\\ ... \\\\ sign(\\beta_{n}) \\end{pmatrix} $ quando $ sign(\\beta_{i}) = \\begin{cases} -1 & if \\beta_{i} < 0 \\\\ 0 & if \\beta_{i} = 0\\\\ +1 & if \\beta_{i} > 0 \\end{cases}$ "
   ]
  },
  {
   "cell_type": "code",
   "execution_count": 36,
   "id": "416f4ed3",
   "metadata": {},
   "outputs": [],
   "source": [
    "# Create some data\n",
    "X = 2 * np.random.rand(100, 1)\n",
    "y = 4 + 3 * X + np.random.rand(100, 1)\n",
    "\n",
    "# add poly\n",
    "from sklearn.preprocessing import PolynomialFeatures\n",
    "\n",
    "poly_features = PolynomialFeatures(degree = 3, include_bias = False)\n",
    "X_poly = poly_features.fit_transform(X)"
   ]
  },
  {
   "cell_type": "code",
   "execution_count": 37,
   "id": "5d4010b2",
   "metadata": {},
   "outputs": [],
   "source": [
    "# Import \n",
    "from sklearn.preprocessing import StandardScaler\n",
    "\n",
    "# Scaling\n",
    "X_std = StandardScaler().fit(X).transform(X)\n",
    "XPoly_std = StandardScaler().fit(X_poly).transform(X_poly)"
   ]
  },
  {
   "cell_type": "markdown",
   "id": "4443a26c",
   "metadata": {},
   "source": [
    "### Linear model"
   ]
  },
  {
   "cell_type": "code",
   "execution_count": 38,
   "id": "a666b771",
   "metadata": {},
   "outputs": [],
   "source": [
    "# import\n",
    "from sklearn.linear_model import Lasso\n",
    "from sklearn.linear_model import LinearRegression\n",
    "\n",
    "# linear\n",
    "linear_reg = LinearRegression().fit(X_std, y)\n",
    "\n",
    "# ridge alpha 0\n",
    "lasso_reg0 = Lasso(alpha = 0).fit(X_std, y)\n",
    "\n",
    "# ridge alpha\n",
    "lasso_reg01 = Lasso(alpha = 0.5).fit(X_std, y)\n",
    "\n",
    "# ridge alpha\n",
    "lasso_reg1 = Lasso(alpha = 0.7).fit(X_std, y)"
   ]
  },
  {
   "cell_type": "code",
   "execution_count": 39,
   "id": "b1ba4749",
   "metadata": {},
   "outputs": [],
   "source": [
    "# predict\n",
    "predict = linear_reg.predict(X_std)\n",
    "predict0 = lasso_reg0.predict(X_std)\n",
    "predict01 = lasso_reg01.predict(X_std)\n",
    "predict1 = lasso_reg1.predict(X_std)"
   ]
  },
  {
   "cell_type": "code",
   "execution_count": 40,
   "id": "2d650b12",
   "metadata": {},
   "outputs": [
    {
     "data": {
      "image/png": "[encoded data removed]",
      "text/plain": [
       "<Figure size 720x432 with 1 Axes>"
      ]
     },
     "metadata": {
      "needs_background": "light"
     },
     "output_type": "display_data"
    }
   ],
   "source": [
    "# PLot\n",
    "plt.figure(figsize = (10,6))\n",
    "\n",
    "plt.plot(X, y, 'k.', markersize = 12, alpha = 0.5)\n",
    "plt.plot(X, predict, 'b-', label = 'Linear', alpha = 0.7)\n",
    "plt.plot(X, predict0, 'r-', label = 'Lasso alpha 0', alpha = 0.7)\n",
    "plt.plot(X, predict01, 'g-', label = 'Lasso alpha 0.5', alpha = 0.7)\n",
    "plt.plot(X, predict1, 'c-', label = 'Lasso alpha 0.7', alpha = 0.7)\n",
    "plt.title('Regularization', fontsize = 16)\n",
    "#plt.axis([0,2,0,15])\n",
    "plt.legend()\n",
    "plt.show()"
   ]
  },
  {
   "cell_type": "markdown",
   "id": "37661361",
   "metadata": {},
   "source": [
    "When alpha = 0, regularization disappears and we return to the linear regression model."
   ]
  },
  {
   "cell_type": "markdown",
   "id": "fbc36f2c",
   "metadata": {},
   "source": [
    "### Polinomial model"
   ]
  },
  {
   "cell_type": "code",
   "execution_count": 41,
   "id": "1954ca41",
   "metadata": {},
   "outputs": [],
   "source": [
    "# Cubic form\n",
    "m = 100\n",
    "X = 6 * np.random.rand(m, 1) - 3\n",
    "y = X**3 + X**2 + X + 2 + 2* np.random.randn(m, 1)\n",
    "\n",
    "# add poly\n",
    "from sklearn.preprocessing import PolynomialFeatures\n",
    "\n",
    "poly_features = PolynomialFeatures(degree = 3, include_bias = False)\n",
    "X_poly = poly_features.fit_transform(X)"
   ]
  },
  {
   "cell_type": "code",
   "execution_count": 42,
   "id": "247d0a6c",
   "metadata": {},
   "outputs": [],
   "source": [
    "# Import \n",
    "from sklearn.preprocessing import StandardScaler\n",
    "\n",
    "# Scaling\n",
    "X_std = StandardScaler().fit(X).transform(X)\n",
    "XPoly_std = StandardScaler().fit(X_poly).transform(X_poly)"
   ]
  },
  {
   "cell_type": "code",
   "execution_count": 43,
   "id": "dc0e1e68",
   "metadata": {},
   "outputs": [],
   "source": [
    "# Import\n",
    "from sklearn.linear_model import Lasso\n",
    "from sklearn.linear_model import LinearRegression\n",
    "\n",
    "# linear\n",
    "linear_reg = LinearRegression().fit(XPoly_std, y)\n",
    "\n",
    "# lasso alpha\n",
    "lasso_reg0 = Lasso(alpha = 1).fit(XPoly_std, y)\n",
    "\n",
    "# lasso alpha\n",
    "lasso_reg01 = Lasso(alpha = 2).fit(XPoly_std, y)"
   ]
  },
  {
   "cell_type": "code",
   "execution_count": 44,
   "id": "e4526da0",
   "metadata": {},
   "outputs": [],
   "source": [
    "# predict\n",
    "predict = linear_reg.predict(XPoly_std)\n",
    "predict0 = lasso_reg0.predict(XPoly_std)\n",
    "predict01 = lasso_reg01.predict(XPoly_std)"
   ]
  },
  {
   "cell_type": "code",
   "execution_count": 45,
   "id": "4be905fb",
   "metadata": {},
   "outputs": [
    {
     "data": {
      "image/png": "[encoded data removed]",
      "text/plain": [
       "<Figure size 720x432 with 1 Axes>"
      ]
     },
     "metadata": {
      "needs_background": "light"
     },
     "output_type": "display_data"
    }
   ],
   "source": [
    "# PLot\n",
    "plt.figure(figsize = (10,6))\n",
    "\n",
    "plt.plot(X, y, 'k.', markersize = 12, alpha = 0.3)\n",
    "plt.plot(X, predict, 'b.', label = 'Linear', alpha = 0.7)\n",
    "plt.plot(X, predict0, 'r.', label = 'Lasso alpha 1', alpha = 0.7)\n",
    "plt.plot(X, predict01, 'g.', label = 'Lasso alpha 2', alpha = 0.7)\n",
    "plt.title('Regularization', fontsize = 16)\n",
    "#plt.axis([0,2,0,15])\n",
    "plt.legend()\n",
    "plt.show()"
   ]
  },
  {
   "cell_type": "markdown",
   "id": "88c04f6e",
   "metadata": {},
   "source": [
    "___"
   ]
  },
  {
   "cell_type": "markdown",
   "id": "6fee89f0",
   "metadata": {},
   "source": [
    "# Elastic Net Regression"
   ]
  },
  {
   "cell_type": "markdown",
   "id": "dcfedcff",
   "metadata": {},
   "source": [
    "The elastic net regression combines ridge and lasso regularizations, allowing the weight of each to be controlled.\n",
    "\n",
    "$ J(\\beta) = MSE(\\beta) + r\\alpha\\sum_{i = 1}^{n}|\\beta_{i}| + \\frac{1 - r}{2}\\alpha\\sum_{i = 1}^{n}\\beta_{i}^{2}   $"
   ]
  },
  {
   "cell_type": "code",
   "execution_count": 46,
   "id": "81da5ec8",
   "metadata": {},
   "outputs": [],
   "source": [
    "# Create some data\n",
    "X = 2 * np.random.rand(100, 1)\n",
    "y = 4 + 3 * X + np.random.rand(100, 1)\n",
    "\n",
    "# add poly\n",
    "from sklearn.preprocessing import PolynomialFeatures\n",
    "\n",
    "poly_features = PolynomialFeatures(degree = 3, include_bias = False)\n",
    "X_poly = poly_features.fit_transform(X)"
   ]
  },
  {
   "cell_type": "code",
   "execution_count": 47,
   "id": "5281745c",
   "metadata": {},
   "outputs": [],
   "source": [
    "# Import \n",
    "from sklearn.preprocessing import StandardScaler\n",
    "\n",
    "# Padronizar\n",
    "X_std = StandardScaler().fit(X).transform(X)\n",
    "XPoly_std = StandardScaler().fit(X_poly).transform(X_poly)"
   ]
  },
  {
   "cell_type": "markdown",
   "id": "c9011a3e",
   "metadata": {},
   "source": [
    "### Linear model"
   ]
  },
  {
   "cell_type": "code",
   "execution_count": 48,
   "id": "f9665740",
   "metadata": {},
   "outputs": [],
   "source": [
    "# import\n",
    "from sklearn.linear_model import ElasticNet\n",
    "from sklearn.linear_model import LinearRegression\n",
    "\n",
    "# linear\n",
    "linear_reg = LinearRegression().fit(X_std, y)\n",
    "\n",
    "# ElasticNet alpha 0\n",
    "elastic_reg0 = ElasticNet(alpha = 0).fit(X_std, y)\n",
    "\n",
    "# ElasticNet alpha -1\n",
    "elastic_reg01 = ElasticNet(alpha = 0.5).fit(X_std, y)\n",
    "\n",
    "# ElasticNet alpha 1\n",
    "elastic_reg1 = ElasticNet(alpha = 0.7).fit(X_std, y)"
   ]
  },
  {
   "cell_type": "code",
   "execution_count": 49,
   "id": "9ffa53aa",
   "metadata": {},
   "outputs": [],
   "source": [
    "# predict\n",
    "predict = linear_reg.predict(X_std)\n",
    "predict0 = elastic_reg0.predict(X_std)\n",
    "predict01 = elastic_reg01.predict(X_std)\n",
    "predict1 = elastic_reg1.predict(X_std)"
   ]
  },
  {
   "cell_type": "code",
   "execution_count": 50,
   "id": "91035aec",
   "metadata": {},
   "outputs": [
    {
     "data": {
      "image/png": "[encoded data removed]",
      "text/plain": [
       "<Figure size 720x432 with 1 Axes>"
      ]
     },
     "metadata": {
      "needs_background": "light"
     },
     "output_type": "display_data"
    }
   ],
   "source": [
    "# PLot\n",
    "plt.figure(figsize = (10,6))\n",
    "\n",
    "plt.plot(X, y, 'k.', markersize = 12, alpha = 0.5)\n",
    "plt.plot(X, predict, 'b-', label = 'Linear', alpha = 0.7)\n",
    "plt.plot(X, predict0, 'r-', label = 'Ridge alpha 0', alpha = 0.7)\n",
    "plt.plot(X, predict01, 'g-', label = 'Ridge alpha 0.5', alpha = 0.7)\n",
    "plt.plot(X, predict1, 'c-', label = 'Ridge alpha 0.7', alpha = 0.7)\n",
    "plt.title('Regularization', fontsize = 16)\n",
    "#plt.axis([0,2,0,15])\n",
    "plt.legend()\n",
    "plt.show()"
   ]
  },
  {
   "cell_type": "markdown",
   "id": "e6b76dd4",
   "metadata": {},
   "source": [
    "When alpha = 0, regularization disappears and we return to the linear regression model."
   ]
  },
  {
   "cell_type": "markdown",
   "id": "2f342d7d",
   "metadata": {},
   "source": [
    "### Polinomial model"
   ]
  },
  {
   "cell_type": "code",
   "execution_count": 51,
   "id": "fd92246d",
   "metadata": {},
   "outputs": [],
   "source": [
    "# Cubic form\n",
    "m = 100\n",
    "X = 6 * np.random.rand(m, 1) - 3\n",
    "y = X**3 + X**2 + X + 2 + 2* np.random.randn(m, 1)\n",
    "\n",
    "# add poly\n",
    "from sklearn.preprocessing import PolynomialFeatures\n",
    "\n",
    "poly_features = PolynomialFeatures(degree = 3, include_bias = False)\n",
    "X_poly = poly_features.fit_transform(X)"
   ]
  },
  {
   "cell_type": "code",
   "execution_count": 52,
   "id": "bf665f43",
   "metadata": {},
   "outputs": [],
   "source": [
    "# Import \n",
    "from sklearn.preprocessing import StandardScaler\n",
    "\n",
    "# Scaling\n",
    "X_std = StandardScaler().fit(X).transform(X)\n",
    "XPoly_std = StandardScaler().fit(X_poly).transform(X_poly)"
   ]
  },
  {
   "cell_type": "code",
   "execution_count": 53,
   "id": "2e90618c",
   "metadata": {},
   "outputs": [],
   "source": [
    "# import\n",
    "from sklearn.linear_model import ElasticNet\n",
    "from sklearn.linear_model import LinearRegression\n",
    "\n",
    "# linear\n",
    "linear_reg = LinearRegression().fit(XPoly_std, y)\n",
    "\n",
    "# ElasticNet alpha 0\n",
    "elastic_reg0 = ElasticNet(alpha = 0.5).fit(XPoly_std, y)\n",
    "\n",
    "# ElasticNet alpha -1\n",
    "elastic_reg01 = ElasticNet(alpha = 1).fit(XPoly_std, y)"
   ]
  },
  {
   "cell_type": "code",
   "execution_count": 54,
   "id": "bfa3810b",
   "metadata": {},
   "outputs": [],
   "source": [
    "# predict\n",
    "predict = linear_reg.predict(XPoly_std)\n",
    "predict0 = elastic_reg0.predict(XPoly_std)\n",
    "predict01 = elastic_reg01.predict(XPoly_std)"
   ]
  },
  {
   "cell_type": "code",
   "execution_count": 55,
   "id": "1b302569",
   "metadata": {},
   "outputs": [
    {
     "data": {
      "image/png": "[encoded data removed]",
      "text/plain": [
       "<Figure size 720x432 with 1 Axes>"
      ]
     },
     "metadata": {
      "needs_background": "light"
     },
     "output_type": "display_data"
    }
   ],
   "source": [
    "# PLot\n",
    "plt.figure(figsize = (10,6))\n",
    "\n",
    "plt.plot(X, y, 'k.', markersize = 12, alpha = 0.3)\n",
    "plt.plot(X, predict, 'b.', label = 'Linear', alpha = 0.7)\n",
    "plt.plot(X, predict0, 'r.', label = 'Ridge alpha 0.5', alpha = 0.7)\n",
    "plt.plot(X, predict01, 'g.', label = 'Ridge alpha 1', alpha = 0.7)\n",
    "plt.title('Regularization', fontsize = 16)\n",
    "#plt.axis([0,2,0,15])\n",
    "plt.legend()\n",
    "plt.show()"
   ]
  },
  {
   "cell_type": "markdown",
   "id": "df10a7b2",
   "metadata": {},
   "source": [
    "___"
   ]
  }
 ],
 "metadata": {
  "kernelspec": {
   "display_name": "Python 3 (ipykernel)",
   "language": "python",
   "name": "python3"
  },
  "language_info": {
   "codemirror_mode": {
    "name": "ipython",
    "version": 3
   },
   "file_extension": ".py",
   "mimetype": "text/x-python",
   "name": "python",
   "nbconvert_exporter": "python",
   "pygments_lexer": "ipython3",
   "version": "3.8.8"
  }
 },
 "nbformat": 4,
 "nbformat_minor": 5
}

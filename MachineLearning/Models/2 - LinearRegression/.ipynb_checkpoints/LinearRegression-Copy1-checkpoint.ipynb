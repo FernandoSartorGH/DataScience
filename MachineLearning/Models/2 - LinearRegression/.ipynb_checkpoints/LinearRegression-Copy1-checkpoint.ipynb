{
 "cells": [
  {
   "cell_type": "markdown",
   "id": "30852afb",
   "metadata": {},
   "source": [
    "### "
   ]
  },
  {
   "cell_type": "markdown",
   "id": "4003eb5c",
   "metadata": {},
   "source": [
    "# <center> Linear Models"
   ]
  },
  {
   "cell_type": "markdown",
   "id": "20076a55",
   "metadata": {},
   "source": [
    "## References\n",
    "\n",
    "* Hands-on Machine Learning with Scikit-Learn, Keras, and TensorFlow - Aurélien Géron\n",
    "* Machine learning - Fast reference guide - Matt Harrison\n",
    "* https://www.youtube.com/@patloeber\n",
    "* https://www.youtube.com/@Dataquestio"
   ]
  },
  {
   "cell_type": "markdown",
   "id": "6b7aab3f",
   "metadata": {},
   "source": [
    "___"
   ]
  },
  {
   "cell_type": "markdown",
   "id": "d09ccbc6",
   "metadata": {},
   "source": [
    "## Resumo\n",
    "\n",
    "Este estudo traz alguns tópicos que auxiliam no entendimento dos modelos lineares tanto em relação à estimação quanto às variações. Inicialmente serão abordados tópicos relacionados à regressão linear e ao final a motivação e flexibilizações que levam à regressão logística, típico Modelo Linear Generalizado.\n",
    "\n",
    "Em relação aos métodos de estimação serão abordados dois métodos gerais:\n",
    "\n",
    "    * Método direto\n",
    "        * Equação normal\n",
    "        * Pseudo inversa\n",
    "    * Gradient Descent\n",
    "        * Normal\n",
    "        * Em lote\n",
    "        * Estocástico\n",
    "        \n",
    "Em relação às variações do modelo de regressão linear serão exploradas formas funcionais e tipos de regularizações:\n",
    "\n",
    "    * Forma funcional\n",
    "        * Linear\n",
    "        * Polinomial\n",
    "    * Regularizações:\n",
    "        * Ridge\n",
    "        * Lasso\n",
    "        * Elastic Net"
   ]
  },
  {
   "cell_type": "markdown",
   "id": "67819054",
   "metadata": {},
   "source": [
    "## Definição e premissas"
   ]
  },
  {
   "cell_type": "markdown",
   "id": "792d18b7",
   "metadata": {},
   "source": [
    "A regressão linear é um método estatístico que assume que uma determinada variável de interesse pode ser explicada por uma combinação linear dos dados/características de entrada. A estimação do modelo consiste em encontrar os pesos ou parâmetros minimizam os erros de previsão.\n",
    "\n",
    "O modelo resultante terá uma equanção do tipo $ \\hat{y} = \\hat{\\beta_{0}} + \\hat{\\beta_{1}}x_{1} + \\hat{\\beta_{2}}x_{2} + ... + \\hat{\\beta_{n}}x_{n} $ ou $ \\hat{y} = \\beta x  $ na forma vetorizada.\n",
    "\n",
    "Algumas premissas que precisam ser satisfeitas para que as inferências possam ter realizadas e se forem atendidas a estimação dos parâmetros pelo método dos Mínimos Quadrados Ordinários - MQO resulta no melhor estimador linear não viesado. "
   ]
  },
  {
   "cell_type": "markdown",
   "id": "ca046480",
   "metadata": {},
   "source": [
    "### Premissas de Gauss Markov:\n",
    "\n",
    "####    1) Amostragem aleatória\n",
    "    Não queremos nenhum tipo de viés de amostragem ao realizar previsões, certo? \n",
    "####    2) O modelo é linear nos parâmetros\n",
    "    O modelo pode assumir a forma polinomial nas variáveis desde que seja linear nos parâmetros.\n",
    "####    3) A variância em X não é nula\n",
    "    É necessário que haja variação nos dados para que o modelo possa ser estimado.\n",
    "####    4) Ausência de Colineriadade Perfeita\n",
    "    A colinearidade perfeita, dependendo do método de estimação, implica em variância infinita e impossibilidade de estimação do parâmetro. Mesmo que seja imperfeita (correlação < 1), mas ainda assim seja alta, o modelo terá alta variância, gerando grandes intervalos de confiância para os parâmetros resultando em baixa precisão das estimativas.\n",
    "####    5) A média condicional dos resíduos é zero (o valor esperado dos erros é zero)\n",
    "    Esta hipótese fala sobre os “outros fatores” contidos nos erros(ui) e que esses outros fatores são não correlacionados com X.\n",
    "####    6) Heterocedasticidade (a variância dos resíduos é constante)\n",
    "    A variância dos resíduo precisa ser aproximadamente constante, independente dos valores de X. As premissas 5 e 6 juntas implicam na normalidade da distribuição dos resíduos. \n",
    "####    7) Ausência de correlação entre os resíduos\n",
    "    Os erros de duas observações diferentes, condicionadas a X, não devem estar relacionados. A amostragem aleatória evitará autocorrelação."
   ]
  },
  {
   "cell_type": "markdown",
   "id": "6b003f77",
   "metadata": {},
   "source": [
    "O que se espera é que os resíduos não apresentem um comportamento passível de ser modelado. Caso apresentem um comportamento definido podem existir problema de Viés (forma funcional), ausência de variável explicativa relevante para o modelos entre outros.\n",
    "\n",
    "O fato de o modelo assumir que os erros possuem uma distribuição normal com média zero e variância constante (hipóteses 5 e 6) implica que em torno do valor estimado existe uma distribuição normal e que o valor observado é uma realização dessa distribuição centrada na reta. Logo, o valor observado tem uma probabilidade de estar longe da reta, ou seja, longe do valor previsto. Porém, a probabilidade de estar sobre a reta é maior, pois estando centrada na reta, a média, mediana e moda estarão sobre a reta."
   ]
  },
  {
   "cell_type": "markdown",
   "id": "7a452073",
   "metadata": {},
   "source": [
    "___"
   ]
  },
  {
   "cell_type": "markdown",
   "id": "b99d72c7",
   "metadata": {},
   "source": [
    "## Imports"
   ]
  },
  {
   "cell_type": "code",
   "execution_count": 1,
   "id": "99572ce3",
   "metadata": {},
   "outputs": [],
   "source": [
    "# Imports\n",
    "import warnings\n",
    "warnings.filterwarnings('ignore')\n",
    "\n",
    "import numpy as np\n",
    "import pandas as pd\n",
    "import matplotlib.pyplot as plt"
   ]
  },
  {
   "cell_type": "markdown",
   "id": "368569a4",
   "metadata": {},
   "source": [
    "___"
   ]
  },
  {
   "cell_type": "markdown",
   "id": "8b580f82",
   "metadata": {},
   "source": [
    "## Data"
   ]
  },
  {
   "cell_type": "code",
   "execution_count": 75,
   "id": "5d6ef7ba",
   "metadata": {},
   "outputs": [],
   "source": [
    "# Create some data\n",
    "X = 2 * np.random.rand(100, 1)\n",
    "y = 1 + 3 * X + np.random.rand(100, 1)"
   ]
  },
  {
   "cell_type": "code",
   "execution_count": 76,
   "id": "afb446a1",
   "metadata": {},
   "outputs": [
    {
     "data": {
      "image/png": "[encoded data removed]",
      "text/plain": [
       "<Figure size 720x432 with 1 Axes>"
      ]
     },
     "metadata": {
      "needs_background": "light"
     },
     "output_type": "display_data"
    }
   ],
   "source": [
    "# PLot\n",
    "plt.figure(figsize = (10,6))\n",
    "\n",
    "plt.plot(X, y, 'b.')\n",
    "plt.axis([0,2,0,10])\n",
    "plt.title('Data', fontsize = 16)\n",
    "plt.show()"
   ]
  },
  {
   "cell_type": "markdown",
   "id": "2bc98974",
   "metadata": {},
   "source": [
    "Os modelos de regressão linear buscam estimar os parâmetros de uma equação linear que minimiza os erros de previsão. Esses parâmetros são econtrados calculando a soma ponderada das características de entrada mais o viés (constante)."
   ]
  },
  {
   "cell_type": "markdown",
   "id": "ba58cad6",
   "metadata": {},
   "source": [
    "Predição do modelo de regressão linear\n",
    "\n",
    "### $ \\hat{y} = \\hat{\\beta_{0}} + \\hat{\\beta_{1}}x_{1} + \\hat{\\beta_{2}}x_{2} + ... + \\hat{\\beta_{n}}x_{n} $"
   ]
  },
  {
   "cell_type": "markdown",
   "id": "210e0774",
   "metadata": {},
   "source": [
    "Forma vetorizada\n",
    "\n",
    "### $ \\hat{y} = h_{\\beta}(x) = \\beta x  $"
   ]
  },
  {
   "cell_type": "markdown",
   "id": "7cdf7125",
   "metadata": {},
   "source": [
    "___"
   ]
  },
  {
   "cell_type": "markdown",
   "id": "0f6b9f70",
   "metadata": {},
   "source": [
    "# <center> Estimação dos Parâmetros"
   ]
  },
  {
   "cell_type": "markdown",
   "id": "373ac027",
   "metadata": {},
   "source": [
    "Independente do método utilizado o que se busca é minizar os erros de previsão. Alguns métodos, por conveniência matemática, buscam minimizar o quadrado desses erros enquanto outros buscam a otmização de forma iterativa.\n",
    "\n",
    "Em linhas gerais modela-se a equação que resultará no erro ou **função de custo** e calcula-se a derivada em relação a cada parâmetro igualando as equações a zero. O resultado será um sistema de equações simultâneas que resolvidas resultarão em um vetor contendo o parâmetro ou peso de cada variável.\n",
    "\n",
    "### >> Função de custo\n",
    "### $ S_{\\beta_{0}, \\beta_{1}, \\beta_{2}, \\beta_{n}} = \\sum{(y - \\hat{y})}^2 $\n",
    "\n",
    "### $ S_{\\beta_{0}, \\beta_{1}, \\beta_{2}, \\beta_{n}} = \\sum{(y - \\hat{\\beta_{0}} + \\hat{\\beta_{1}}x_{1} + \\hat{\\beta_{2}}x_{2} + ... + \\hat{\\beta_{n}}x_{n})}^2 $\n",
    "\n",
    "### >> Deriva em relação a cada $ \\beta $\n",
    "### $ \\frac{\\partial S(\\beta_{0}, \\beta_{1} ... \\beta_{n})}{\\partial \\beta_{0}} = \\sum{-2(y_i - \\hat{\\beta_{0}} + \\hat{\\beta_{1}}x_{1i} + ... + \\hat{\\beta_{n}}x_{ni})} = 0 $ \n",
    "### $ \\frac{\\partial S(\\beta_{1}, \\beta_{1} ... \\beta_{n})}{\\partial \\beta_{1}} = \\sum{-2x_1(y_i - \\hat{\\beta_{0}} + \\hat{\\beta_{1}}x_{1i} + ... + \\hat{\\beta_{n}}x_{ni})} = 0 $ \n",
    "### $ \\frac{\\partial S(\\beta_{n}, \\beta_{1} ... \\beta_{n})}{\\partial \\beta_{n}} = \\sum{-2x_n(y_i - \\hat{\\beta_{0}} + \\hat{\\beta_{1}}x_{1i} + ... + \\hat{\\beta_{n}}x_{ni})} = 0 $ \n",
    "\n",
    "\n",
    "### >> Esquação estimada\n",
    "### $ \\hat{y} = \\hat{\\beta_{0}} + \\hat{\\beta_{1}}x_{1} + \\hat{\\beta_{2}}x_{2} + ... + \\hat{\\beta_{n}}x_{n} $"
   ]
  },
  {
   "cell_type": "markdown",
   "id": "49776dae",
   "metadata": {},
   "source": [
    "Como se trata de um sistema de equações simultâneas o uso de álgebra linear facilitará as operações. A seguir veremos a implementação do zero usando numpy e a comparação do resultado usando sklearn.\n",
    "\n",
    "Os exemplos serão extremamente simples usando apenas uma variável preditora para possibilitar a visualização do ajuste das retas."
   ]
  },
  {
   "cell_type": "markdown",
   "id": "94b07190",
   "metadata": {},
   "source": [
    "---"
   ]
  },
  {
   "cell_type": "markdown",
   "id": "25e5bcb9",
   "metadata": {},
   "source": [
    "# Método direto\n",
    "\n",
    "### $ \\hat{\\beta}  = (X^{T}X)^{-1} X^{T} y $"
   ]
  },
  {
   "cell_type": "markdown",
   "id": "dc48a159",
   "metadata": {},
   "source": [
    "### From scratch"
   ]
  },
  {
   "cell_type": "code",
   "execution_count": 77,
   "id": "a52578d6",
   "metadata": {},
   "outputs": [
    {
     "data": {
      "text/plain": [
       "array([[1.39323545],\n",
       "       [3.07121762]])"
      ]
     },
     "execution_count": 77,
     "metadata": {},
     "output_type": "execute_result"
    }
   ],
   "source": [
    "# Add constant to matriz X\n",
    "X_b = np.c_[np.ones((100,1)), X]\n",
    "\n",
    "# Calculate the vector with the parameters\n",
    "beta = np.linalg.inv(X_b.T.dot(X_b)).dot(X_b.T).dot(y)\n",
    "\n",
    "# View\n",
    "beta"
   ]
  },
  {
   "cell_type": "code",
   "execution_count": 78,
   "id": "2227a708",
   "metadata": {},
   "outputs": [
    {
     "data": {
      "text/plain": [
       "array([[1.39323545],\n",
       "       [7.53567069]])"
      ]
     },
     "execution_count": 78,
     "metadata": {},
     "output_type": "execute_result"
    }
   ],
   "source": [
    "X_new = np.array([[0], [2]])\n",
    "X_new_b = np.c_[np.ones((2, 1)), X_new]\n",
    "\n",
    "# Predict\n",
    "y_predict = X_new_b.dot(beta)\n",
    "y_predict"
   ]
  },
  {
   "cell_type": "code",
   "execution_count": 79,
   "id": "e51d9c18",
   "metadata": {},
   "outputs": [
    {
     "data": {
      "image/png": "[encoded data removed]",
      "text/plain": [
       "<Figure size 720x432 with 1 Axes>"
      ]
     },
     "metadata": {
      "needs_background": "light"
     },
     "output_type": "display_data"
    }
   ],
   "source": [
    "# PLot\n",
    "plt.figure(figsize = (10,6))\n",
    "\n",
    "plt.plot(X_new, y_predict, 'r-', label = 'Predictions')\n",
    "plt.plot(X, y, 'b.')\n",
    "plt.axis([0,2,0,10])\n",
    "plt.title('Linear Regression with MQO', fontsize = 16)\n",
    "plt.legend()\n",
    "plt.show()"
   ]
  },
  {
   "cell_type": "markdown",
   "id": "0af019bf",
   "metadata": {},
   "source": [
    "### From sklearn"
   ]
  },
  {
   "cell_type": "code",
   "execution_count": 19,
   "id": "d974957e",
   "metadata": {},
   "outputs": [
    {
     "data": {
      "text/plain": [
       "(array([4.57851997]), array([[2.96254908]]))"
      ]
     },
     "execution_count": 19,
     "metadata": {},
     "output_type": "execute_result"
    }
   ],
   "source": [
    "# Import\n",
    "from sklearn.linear_model import LinearRegression\n",
    "\n",
    "# Create and train model\n",
    "lin_reg = LinearRegression()\n",
    "lin_reg.fit(X, y)\n",
    "lin_reg.intercept_, lin_reg.coef_"
   ]
  },
  {
   "cell_type": "code",
   "execution_count": 20,
   "id": "f4dcdd94",
   "metadata": {},
   "outputs": [
    {
     "data": {
      "text/plain": [
       "array([[ 4.57851997],\n",
       "       [10.50361814]])"
      ]
     },
     "execution_count": 20,
     "metadata": {},
     "output_type": "execute_result"
    }
   ],
   "source": [
    "# Predict \n",
    "lin_reg.predict(X_new)"
   ]
  },
  {
   "cell_type": "markdown",
   "id": "beee9eaf",
   "metadata": {},
   "source": [
    "## Método SVD - Pseudo-Inversa"
   ]
  },
  {
   "cell_type": "markdown",
   "id": "71ca1175",
   "metadata": {},
   "source": [
    "Como é possível verificar no método direto, em algum momento é necessário calcular a inversa da matriz resultante entre o produto da transposta da matriz dos dados de entrada por ela mesma. É sabido que nem toda matriz possui inversa, nesse caso não é possível garantir solução para todos os problemas. Não parece raoável. \n",
    "\n",
    "Para resolver esse problema exite a pseudoinverso de X de Moore-Penrose. O método SVD *(decomposição em valores singulares)* elimina os problemas de matrizes sem inversa, além de casos com mais variáveis que observações e colinearidade perfeita.\n",
    "\n",
    "### $ \\hat{\\beta}  = X^{+} y $\n",
    "\n",
    "\n",
    "A ideia é decompor a matriz de treinamento $X$ no produto entre três matrizes.\n",
    "### $ X^{+} = V \\sum^{+}U^{T}  $\n",
    "\n",
    "Para calcular $\\sum^{+}$ define-se como zero todos os valores menores que um pequeno valor de  limiar, substitui os demais valores pelo inverso e transpõe a matriz resultante."
   ]
  },
  {
   "cell_type": "markdown",
   "id": "2eb06021",
   "metadata": {},
   "source": [
    "### From numpy"
   ]
  },
  {
   "cell_type": "code",
   "execution_count": 21,
   "id": "ee5092da",
   "metadata": {},
   "outputs": [
    {
     "data": {
      "text/plain": [
       "array([[4.57851997],\n",
       "       [2.96254908]])"
      ]
     },
     "execution_count": 21,
     "metadata": {},
     "output_type": "execute_result"
    }
   ],
   "source": [
    "# A classe LinearRegression é baseada na classe scipy.linalg.lstsq()\n",
    "beta_svd =  np.linalg.lstsq(X_b, y, rcond = 1e-6)\n",
    "beta_svd[0]"
   ]
  },
  {
   "cell_type": "markdown",
   "id": "a206548a",
   "metadata": {},
   "source": [
    "### From scratch (ou quase isso) "
   ]
  },
  {
   "cell_type": "code",
   "execution_count": 22,
   "id": "df1dbedc",
   "metadata": {},
   "outputs": [
    {
     "data": {
      "text/plain": [
       "array([[4.57851997],\n",
       "       [2.96254908]])"
      ]
     },
     "execution_count": 22,
     "metadata": {},
     "output_type": "execute_result"
    }
   ],
   "source": [
    "# Aplicando o pseudoinverso com numpy\n",
    "np.linalg.pinv(X_b).dot(y)"
   ]
  },
  {
   "cell_type": "markdown",
   "id": "7b9bb18e",
   "metadata": {},
   "source": [
    "## Método do Gradient Descent"
   ]
  },
  {
   "cell_type": "markdown",
   "id": "c6d6c3eb",
   "metadata": {},
   "source": [
    "Este método minimiza a função de custo ajustando os parâmetros iterativamente.\n",
    "\n",
    "A analogia mais comum sobre o gradiente descendente é imaginar-se no topo de uma montanha e que você precisa descer o mais rápido até o fim de um vale. Além disso, você não congue ver a ancosta, só pode sentir o declive abaixo dos pés. A estratégia seria sentir o declive em todos os lados e seguir o mais íngreme.\n",
    "\n",
    "O algoritmo calcula o gradiente local da função de custo em relação ao vetor de parâmetros e segue em direção ao gradiente descendente. Quando o gradiente for zero encontramos o mínimo. \n",
    "\n",
    "**Parâmetros e características:**\n",
    "\n",
    "    * Taxa de aprendizado: É o tamanho das etapas ou dos passos que o algoritmo dá em busca do mínimo. Se for muito pequeno o algoritmo precisa de muitas iterações até encontar o mínimo. Se for muito grande pode passar do mínimo e acabar em um ponto mais alto do que estava quando começou.\n",
    "    \n",
    "    * Forma da função de custo: Quando a função é uma parábola convexa, iniciar pela esquerda ou direita não fará diferença e o modelo caminha direto para o único mínimo da função. Caso a função tenha mínimos locais, o que seria equivalente a encontrar buracos durante a descida da montanha, a solução encontrada pode não ser ótima, pois buscado é o mínimo global da função. Caso a função tenha uma baixa inclição, precisamos de um grande número de iterações para atravessar o platô. Aumentar a taxa de aprendizado pode ser uma solução, mas em excesso, como já mencionamos, podemos passar do mínimo global e não encontrar uma boa solução.\n",
    "    \n",
    "    \n",
    "A função de custo MSE é uma função convexa sem mínimos locais, ou seja, há apenas um mínimo global. Isso facilita a estimação dos parâmetros e o resultado encontrado converge para os resultados encontrados pelos modelos anteriores."
   ]
  },
  {
   "cell_type": "markdown",
   "id": "7051f121",
   "metadata": {},
   "source": [
    "## GD em batch (lote)"
   ]
  },
  {
   "cell_type": "markdown",
   "id": "4a8875ac",
   "metadata": {},
   "source": [
    "O método em Batch significa que será utilizado todo conjunto de dados de treino a cada iteração. Para conjuntos de dados muito grandes o modelo pode ficar lento, mas ainda terá uma performance melhor que o método direto ou SVD."
   ]
  },
  {
   "cell_type": "markdown",
   "id": "c3e5e68e",
   "metadata": {},
   "source": [
    "### $ \\triangledown_{\\beta}MSE(\\beta) = \\frac{2}{m} X^{T}(X\\beta - y)  $\n",
    "\n",
    "### $ \\beta(next) = \\beta - \\eta * \\triangledown_{\\beta}MSE(\\beta) $"
   ]
  },
  {
   "cell_type": "code",
   "execution_count": 23,
   "id": "6a9fdc96",
   "metadata": {},
   "outputs": [
    {
     "data": {
      "text/plain": [
       "array([[4.57851997],\n",
       "       [2.96254908]])"
      ]
     },
     "execution_count": 23,
     "metadata": {},
     "output_type": "execute_result"
    }
   ],
   "source": [
    "# Taxa de aprendizado\n",
    "eta = 0.1\n",
    "\n",
    "# Núm de iterações\n",
    "n_iterations = 1000\n",
    "m = 100\n",
    "\n",
    "# Inicialização aleatória\n",
    "beta = np.random.randn(2,1)\n",
    "\n",
    "for iteration in range (n_iterations):\n",
    "    gradients = 2/m * X_b.T.dot(X_b.dot(beta) - y)\n",
    "    beta = beta - eta * gradients\n",
    "    \n",
    "# view\n",
    "beta"
   ]
  },
  {
   "cell_type": "markdown",
   "id": "8c8970a8",
   "metadata": {},
   "source": [
    "## GD estocástico"
   ]
  },
  {
   "cell_type": "markdown",
   "id": "cb8a00d5",
   "metadata": {},
   "source": [
    "Um dos problemas da aplicação do GD em batch é que ele usa todo o conjunto de dados de treinamento para calcular os gradientes em cada etapa, tornando o processo de treinamento mais lento. O GD estocástico trabalha no outro extremo, selecionando uma instância aleatória no conjunto de treinamento a cada etapa e calculando os grandientes baseados nessa única instância selecionada.\n",
    "\n",
    "Devido a aleatoriedade do processo esse algoritmo não desce regular e suavemente até o mínimo. A função de custo irá subir e descer, descendo apenas na media e terminará muito próximo do mínimo nunca se estabilizando. Caso a função de custo seja irregular, contendo mínimos locais, o GD estocástico tem maior chance de encontrar o mínimo global em comparação com o GD em batch.\n",
    "\n",
    "Em resumo, o GD estcástico é uma solução para o problema dos mínimos locais, porém o modelo pode nunca estabilizar no mínimo. Uma solução seria reduzir gradualmente a taxa de aprendizado. Uma taxa alta no início possibilitaria o modelo escapar dos mínimos locais e uma taxa baixa no final permitiria o modelo estabilizar no mínimo global."
   ]
  },
  {
   "cell_type": "markdown",
   "id": "6764b10f",
   "metadata": {},
   "source": [
    "### From scratch"
   ]
  },
  {
   "cell_type": "code",
   "execution_count": 24,
   "id": "ef18d4af",
   "metadata": {},
   "outputs": [
    {
     "data": {
      "text/plain": [
       "array([[4.57455385],\n",
       "       [2.96265292]])"
      ]
     },
     "execution_count": 24,
     "metadata": {},
     "output_type": "execute_result"
    }
   ],
   "source": [
    "# Número de iterações\n",
    "m = 100\n",
    "\n",
    "# Número de rodadas\n",
    "n_epochs = 50\n",
    "\n",
    "# Hiperparâmetros do cronograma de aprendizado\n",
    "t0, t1 = 5, 50\n",
    "\n",
    "def learning_schedule(t):\n",
    "    return t0 / (t + t1)\n",
    "\n",
    "# Inicialização aleatória\n",
    "beta = np.random.randn(2,1)\n",
    "\n",
    "for epoch in range(n_epochs):\n",
    "    for i in range(m):\n",
    "        random_index = np.random.randint(m)\n",
    "        xi = X_b[random_index:random_index + 1]\n",
    "        yi = y[random_index:random_index + 1]\n",
    "        \n",
    "        gradients = 2 * xi.T.dot(xi.dot(beta) - yi)\n",
    "        eta = learning_schedule(epoch * m + i)\n",
    "        beta = beta - eta * gradients\n",
    "        \n",
    "# View\n",
    "beta"
   ]
  },
  {
   "cell_type": "markdown",
   "id": "e8df83d1",
   "metadata": {},
   "source": [
    "### From sklearn"
   ]
  },
  {
   "cell_type": "code",
   "execution_count": 80,
   "id": "a6199a7a",
   "metadata": {},
   "outputs": [
    {
     "data": {
      "text/plain": [
       "(array([1.39709293]), array([3.05264282]))"
      ]
     },
     "execution_count": 80,
     "metadata": {},
     "output_type": "execute_result"
    }
   ],
   "source": [
    "# import\n",
    "from sklearn.linear_model import SGDRegressor\n",
    "\n",
    "sgd_reg = SGDRegressor(max_iter = 1000, tol = 1e-3, penalty = None, eta0 = 0.1)\n",
    "sgd_reg.fit(X, y.ravel())\n",
    "\n",
    "sgd_reg.intercept_, sgd_reg.coef_"
   ]
  },
  {
   "cell_type": "markdown",
   "id": "4e58208e",
   "metadata": {},
   "source": [
    "___\n"
   ]
  },
  {
   "cell_type": "markdown",
   "id": "4c6029a8",
   "metadata": {},
   "source": [
    "# <center> Regressão Polinomial"
   ]
  },
  {
   "cell_type": "markdown",
   "id": "70a2d3dd",
   "metadata": {},
   "source": [
    "Uma das premissas de Gauss-Markov é que o modelo precisa ser linear nos parâmetros. isso significa que podemos usar regressao linear para dados com comportamento não linear. "
   ]
  },
  {
   "cell_type": "markdown",
   "id": "872e285b",
   "metadata": {},
   "source": [
    "## Forma quadrática"
   ]
  },
  {
   "cell_type": "code",
   "execution_count": 95,
   "id": "888b3e2a",
   "metadata": {},
   "outputs": [],
   "source": [
    "# Equação quadrática simples\n",
    "m = 100\n",
    "X = 6 * np.random.rand(m, 1) -3\n",
    "y = -X**2 + X + 2*np.random.randn(m, 1)"
   ]
  },
  {
   "cell_type": "code",
   "execution_count": 96,
   "id": "04c3e918",
   "metadata": {},
   "outputs": [
    {
     "data": {
      "image/png": "[encoded data removed]",
      "text/plain": [
       "<Figure size 720x432 with 1 Axes>"
      ]
     },
     "metadata": {
      "needs_background": "light"
     },
     "output_type": "display_data"
    }
   ],
   "source": [
    "# PLot\n",
    "plt.figure(figsize = (10,6))\n",
    "\n",
    "plt.plot(X, y, 'b.')\n",
    "plt.title('Quadratic Polynomial Form', fontsize = 16)\n",
    "plt.show()"
   ]
  },
  {
   "cell_type": "markdown",
   "id": "69f3234b",
   "metadata": {},
   "source": [
    "É evidente que a forma funcional é quadrática. Podemos usar o sklearn para adicionar o quadrado a cada variável"
   ]
  },
  {
   "cell_type": "code",
   "execution_count": 97,
   "id": "1d75e777",
   "metadata": {},
   "outputs": [],
   "source": [
    "# add **\n",
    "from sklearn.preprocessing import PolynomialFeatures\n",
    "\n",
    "poly_features = PolynomialFeatures(degree = 2, include_bias = False)\n",
    "X_poly = poly_features.fit_transform(X)"
   ]
  },
  {
   "cell_type": "code",
   "execution_count": 98,
   "id": "d003e3a7",
   "metadata": {},
   "outputs": [
    {
     "data": {
      "text/plain": [
       "(array([-0.73979765]), array([[ 0.93960985, -0.8603044 ]]))"
      ]
     },
     "execution_count": 98,
     "metadata": {},
     "output_type": "execute_result"
    }
   ],
   "source": [
    "# Import\n",
    "from sklearn.linear_model import LinearRegression\n",
    "\n",
    "# Create and train model\n",
    "lin_reg = LinearRegression()\n",
    "lin_reg.fit(X_poly, y)\n",
    "lin_reg.intercept_, lin_reg.coef_"
   ]
  },
  {
   "cell_type": "code",
   "execution_count": 99,
   "id": "25a4b074",
   "metadata": {},
   "outputs": [],
   "source": [
    "# Predict\n",
    "predict = lin_reg.predict(X_poly)"
   ]
  },
  {
   "cell_type": "code",
   "execution_count": 100,
   "id": "c3e1d49f",
   "metadata": {
    "scrolled": false
   },
   "outputs": [
    {
     "data": {
      "image/png": "[encoded data removed]",
      "text/plain": [
       "<Figure size 720x432 with 1 Axes>"
      ]
     },
     "metadata": {
      "needs_background": "light"
     },
     "output_type": "display_data"
    }
   ],
   "source": [
    "# PLot\n",
    "plt.figure(figsize = (10,6))\n",
    "\n",
    "plt.plot(X, y, 'b.')\n",
    "plt.plot(X, predict, 'r.', label = 'Predictions')\n",
    "plt.title('Quadratic Form', fontsize = 16)\n",
    "plt.legend()\n",
    "plt.show()"
   ]
  },
  {
   "cell_type": "markdown",
   "id": "2824db02",
   "metadata": {},
   "source": [
    "## Forma cúbica"
   ]
  },
  {
   "cell_type": "code",
   "execution_count": 106,
   "id": "61718bfa",
   "metadata": {},
   "outputs": [],
   "source": [
    "# Equação quadrática simples\n",
    "m = 100\n",
    "X = 6 * np.random.rand(m, 1) - 3\n",
    "y = X**3 + X**2 + X + 2 + 2* np.random.randn(m, 1)"
   ]
  },
  {
   "cell_type": "code",
   "execution_count": 107,
   "id": "d857e87b",
   "metadata": {},
   "outputs": [
    {
     "data": {
      "image/png": "[encoded data removed]",
      "text/plain": [
       "<Figure size 720x432 with 1 Axes>"
      ]
     },
     "metadata": {
      "needs_background": "light"
     },
     "output_type": "display_data"
    }
   ],
   "source": [
    "# PLot\n",
    "plt.figure(figsize = (10,6))\n",
    "\n",
    "plt.plot(X, y, 'b.')\n",
    "plt.title('Cubic Polynomial Form', fontsize = 16)\n",
    "plt.show()"
   ]
  },
  {
   "cell_type": "markdown",
   "id": "ddd4721c",
   "metadata": {},
   "source": [
    "É evidente que a forma funcional é quadrática. Podemos usar o sklearn para adicionar o quadrado a cada variável"
   ]
  },
  {
   "cell_type": "code",
   "execution_count": 108,
   "id": "8eeea4c5",
   "metadata": {},
   "outputs": [],
   "source": [
    "# add **\n",
    "from sklearn.preprocessing import PolynomialFeatures\n",
    "\n",
    "poly_features = PolynomialFeatures(degree = 3, include_bias = False)\n",
    "X_poly = poly_features.fit_transform(X)"
   ]
  },
  {
   "cell_type": "code",
   "execution_count": 109,
   "id": "9b479cf5",
   "metadata": {},
   "outputs": [
    {
     "data": {
      "text/plain": [
       "(array([2.32614984]), array([[0.82156886, 0.97965962, 1.05160885]]))"
      ]
     },
     "execution_count": 109,
     "metadata": {},
     "output_type": "execute_result"
    }
   ],
   "source": [
    "# Import\n",
    "from sklearn.linear_model import LinearRegression\n",
    "\n",
    "# Create and train model\n",
    "lin_reg = LinearRegression()\n",
    "lin_reg.fit(X_poly, y)\n",
    "lin_reg.intercept_, lin_reg.coef_"
   ]
  },
  {
   "cell_type": "code",
   "execution_count": 110,
   "id": "6df2851c",
   "metadata": {},
   "outputs": [],
   "source": [
    "# Predict\n",
    "predict = lin_reg.predict(X_poly)"
   ]
  },
  {
   "cell_type": "code",
   "execution_count": 111,
   "id": "f0d01b27",
   "metadata": {},
   "outputs": [
    {
     "data": {
      "image/png": "[encoded data removed]",
      "text/plain": [
       "<Figure size 720x432 with 1 Axes>"
      ]
     },
     "metadata": {
      "needs_background": "light"
     },
     "output_type": "display_data"
    }
   ],
   "source": [
    "# PLot\n",
    "plt.figure(figsize = (10,6))\n",
    "\n",
    "plt.plot(X, y, 'b.')\n",
    "plt.plot(X, predict, 'r.', label = 'Predictions')\n",
    "plt.title('Cubic Form', fontsize = 16)\n",
    "plt.legend()\n",
    "plt.show()"
   ]
  },
  {
   "cell_type": "markdown",
   "id": "953c2330",
   "metadata": {},
   "source": [
    "___"
   ]
  },
  {
   "cell_type": "markdown",
   "id": "e07535c0",
   "metadata": {},
   "source": [
    "## Curvas de Aprendizado e Trade-off Viés/Variância"
   ]
  },
  {
   "cell_type": "markdown",
   "id": "2829f2e7",
   "metadata": {},
   "source": [
    "O erro de generalização de um modelo pode ser expresso como a soma de três erros distintos:\n",
    "\n",
    "***Viés:***\n",
    "\n",
    "    * Este erro se deve a suposições erradas sobre o modelo, como a forma funcional por exemplo. Um alto viés pode resultar em um modelo subajustado.\n",
    "    \n",
    "***Variância*** \n",
    "\n",
    "    * Este erro se deve ao excesso de sensibilidade do modelo a pequenas variações nos dados de treino. Um modelo com muitos graus de liberdade, como um modelo polinomial de alto grau, pode ter alta variância e se sobreajustar aos dados.\n",
    "    \n",
    "    \n",
    "***Erro irredutível***\n",
    "\n",
    "    * São os ruídos dos dados. Para reduzí-lo podemos limpar os dados e/ou melhorar a fonte."
   ]
  },
  {
   "cell_type": "markdown",
   "id": "099b7910",
   "metadata": {},
   "source": [
    "*Aumentar a complexidade do modelo aumenta a variância e reduz o viés e vice-versa.*\n",
    "\n",
    "    * Alto viés: Modelo subajustado\n",
    "    * Alta Variância: Modelo sobreajustado"
   ]
  },
  {
   "cell_type": "code",
   "execution_count": 38,
   "id": "2823b6a8",
   "metadata": {},
   "outputs": [],
   "source": [
    "# Create some data\n",
    "m = 100\n",
    "X = 2 * np.random.rand(100, 1)\n",
    "y = 4 + 3 * X + np.random.rand(100, 1)"
   ]
  },
  {
   "cell_type": "code",
   "execution_count": 39,
   "id": "ad42a0b9",
   "metadata": {},
   "outputs": [],
   "source": [
    "from sklearn.metrics import mean_squared_error\n",
    "from sklearn.model_selection import train_test_split\n",
    "\n",
    "def plot_learning_curves(model, X, y):\n",
    "    X_train, X_val, y_train, y_val = train_test_split(X, y, test_size = 0.2)\n",
    "    train_errors, val_errors = [], []\n",
    "    \n",
    "    for m in range(1, len(X_train)):\n",
    "        model.fit(X_train[:m], y_train[:m])\n",
    "        y_train_predict = model.predict(X_train[:m])\n",
    "        y_val_predict = model.predict(X_val)\n",
    "        train_errors.append(mean_squared_error(y_train[:m], y_train_predict))\n",
    "        val_errors.append(mean_squared_error(y_val, y_val_predict))\n",
    "    \n",
    "    # PLot\n",
    "    plt.figure(figsize = (10,6))\n",
    "    plt.plot(np.sqrt(train_errors), 'r-+', linewidth = 2, label = 'train')\n",
    "    plt.plot(np.sqrt(val_errors), 'b-', linewidth = 3, label = 'val')\n",
    "    plt.title('Viés/Variância', fontsize = 16)\n",
    "    plt.xlabel('Training set size')\n",
    "    plt.ylabel('RMSE')\n",
    "    plt.legend()\n",
    "    plt.show()"
   ]
  },
  {
   "cell_type": "code",
   "execution_count": 40,
   "id": "c7beddc0",
   "metadata": {},
   "outputs": [
    {
     "data": {
      "image/png": "[encoded data removed]",
      "text/plain": [
       "<Figure size 720x432 with 1 Axes>"
      ]
     },
     "metadata": {
      "needs_background": "light"
     },
     "output_type": "display_data"
    }
   ],
   "source": [
    "# model\n",
    "lin_reg = LinearRegression()\n",
    "\n",
    "plot_learning_curves(lin_reg, X, y)"
   ]
  },
  {
   "cell_type": "markdown",
   "id": "0281096a",
   "metadata": {},
   "source": [
    "___"
   ]
  },
  {
   "cell_type": "markdown",
   "id": "21cb2832",
   "metadata": {},
   "source": [
    "# <center> Modelos Regularizados"
   ]
  },
  {
   "cell_type": "markdown",
   "id": "f680ac2e",
   "metadata": {},
   "source": [
    "Uma maneira de reduzir o sobreajuste é regularizar ou restringir o modelo. Em casos de modelos polinomiais uma forma simples de restringir é reduzir o grau. Já em modelos lineares a regularização pode ser obtida restringindo os pesos do modelo.\n",
    "\n",
    "A maioria dos modelos de regularização são sensíveis a escala dos dados, portanto, é essencial que o dados sejam escalonados antes de aplicar algum modelo de regressão regularizado."
   ]
  },
  {
   "cell_type": "markdown",
   "id": "c610ea96",
   "metadata": {},
   "source": [
    "# Ridge Regression"
   ]
  },
  {
   "cell_type": "markdown",
   "id": "ab61802a",
   "metadata": {},
   "source": [
    "A regressão ridge adiciona um termo de regularização à regressão linear. O parâmetro adicionado é o somatório do quadrado dos pesos.\n",
    "\n",
    "\n",
    "### $ J(\\beta) = MSE(\\beta) + \\alpha\\frac{1}{2}\\sum_{i = 1}^{n}\\beta_{i}^{2}   $\n",
    "\n",
    "\n",
    "### $ \\hat{\\beta}  = (X^{T}\\alpha X)^{-1} X^{T} y $"
   ]
  },
  {
   "cell_type": "code",
   "execution_count": 41,
   "id": "60418542",
   "metadata": {},
   "outputs": [],
   "source": [
    "# Create some data\n",
    "X = 2 * np.random.rand(100, 1)\n",
    "y = 4 + 3 * X + np.random.rand(100, 1)\n",
    "\n",
    "# add poly\n",
    "from sklearn.preprocessing import PolynomialFeatures\n",
    "\n",
    "poly_features = PolynomialFeatures(degree = 3, include_bias = False)\n",
    "X_poly = poly_features.fit_transform(X)"
   ]
  },
  {
   "cell_type": "code",
   "execution_count": 42,
   "id": "7d990fae",
   "metadata": {},
   "outputs": [],
   "source": [
    "# Import \n",
    "from sklearn.preprocessing import StandardScaler\n",
    "\n",
    "# Padronizar\n",
    "X_std = StandardScaler().fit(X).transform(X)\n",
    "XPoly_std = StandardScaler().fit(X_poly).transform(X_poly)"
   ]
  },
  {
   "cell_type": "markdown",
   "id": "7765c341",
   "metadata": {},
   "source": [
    "### Modelo linear"
   ]
  },
  {
   "cell_type": "code",
   "execution_count": 43,
   "id": "ad339390",
   "metadata": {},
   "outputs": [],
   "source": [
    "# import\n",
    "from sklearn.linear_model import Ridge\n",
    "from sklearn.linear_model import LinearRegression\n",
    "\n",
    "# linear\n",
    "linear_reg = LinearRegression().fit(X_std, y)\n",
    "\n",
    "# ridge alpha 0\n",
    "ridge_reg0 = Ridge(alpha = 0, solver = 'cholesky').fit(X_std, y)\n",
    "\n",
    "# ridge alpha \n",
    "ridge_reg01 = Ridge(alpha = 10, solver = 'cholesky').fit(X_std, y)\n",
    "\n",
    "# ridge alpha \n",
    "ridge_reg1 = Ridge(alpha = 20, solver = 'cholesky').fit(X_std, y)"
   ]
  },
  {
   "cell_type": "code",
   "execution_count": 44,
   "id": "5d984e49",
   "metadata": {},
   "outputs": [],
   "source": [
    "# predict\n",
    "predict = linear_reg.predict(X_std)\n",
    "predict0 = ridge_reg0.predict(X_std)\n",
    "predict01 = ridge_reg01.predict(X_std)\n",
    "predict1 = ridge_reg1.predict(X_std)"
   ]
  },
  {
   "cell_type": "code",
   "execution_count": 45,
   "id": "2166d91c",
   "metadata": {},
   "outputs": [
    {
     "data": {
      "image/png": "[encoded data removed]",
      "text/plain": [
       "<Figure size 720x432 with 1 Axes>"
      ]
     },
     "metadata": {
      "needs_background": "light"
     },
     "output_type": "display_data"
    }
   ],
   "source": [
    "# PLot\n",
    "plt.figure(figsize = (10,6))\n",
    "\n",
    "plt.plot(X, y, 'k.', markersize = 12, alpha = 0.5)\n",
    "plt.plot(X, predict, 'b-', label = 'Linear', alpha = 0.8)\n",
    "plt.plot(X, predict0, 'r-', label = 'Ridge alpha 0', alpha = 0.8)\n",
    "plt.plot(X, predict01, 'g-', label = 'Ridge alpha 10', alpha = 0.8)\n",
    "plt.plot(X, predict1, 'c-', label = 'Ridge alpha 20', alpha = 0.8)\n",
    "plt.title('Regularização', fontsize = 16)\n",
    "#plt.axis([0,2,0,15])\n",
    "plt.legend()\n",
    "plt.show()"
   ]
  },
  {
   "cell_type": "markdown",
   "id": "b542dec9",
   "metadata": {},
   "source": [
    "Quando alpha = 0, a regularização desaparece e retornamos ao modelo de regressão linear."
   ]
  },
  {
   "cell_type": "markdown",
   "id": "5e05a737",
   "metadata": {},
   "source": [
    "### Modelo polinomial"
   ]
  },
  {
   "cell_type": "code",
   "execution_count": 46,
   "id": "345c9744",
   "metadata": {},
   "outputs": [],
   "source": [
    "# Equação quadrática simples\n",
    "m = 100\n",
    "X = 6 * np.random.rand(m, 1) - 3\n",
    "y = X**3 + X**2 + X + 2 + 2* np.random.randn(m, 1)\n",
    "\n",
    "# add poly\n",
    "from sklearn.preprocessing import PolynomialFeatures\n",
    "\n",
    "poly_features = PolynomialFeatures(degree = 3, include_bias = False)\n",
    "X_poly = poly_features.fit_transform(X)"
   ]
  },
  {
   "cell_type": "code",
   "execution_count": 47,
   "id": "256d7284",
   "metadata": {},
   "outputs": [],
   "source": [
    "# Import \n",
    "from sklearn.preprocessing import StandardScaler\n",
    "\n",
    "# Padronizar\n",
    "X_std = StandardScaler().fit(X).transform(X)\n",
    "XPoly_std = StandardScaler().fit(X_poly).transform(X_poly)"
   ]
  },
  {
   "cell_type": "code",
   "execution_count": 48,
   "id": "08ca44ca",
   "metadata": {},
   "outputs": [],
   "source": [
    "# import\n",
    "from sklearn.linear_model import Ridge\n",
    "from sklearn.linear_model import LinearRegression\n",
    "\n",
    "# linear\n",
    "linear_reg = LinearRegression().fit(XPoly_std, y)\n",
    "\n",
    "# ridge alpha \n",
    "ridge_reg0 = Ridge(alpha = 0, solver = 'cholesky').fit(XPoly_std, y)\n",
    "\n",
    "# ridge alpha\n",
    "ridge_reg01 = Ridge(alpha = 100, solver = 'cholesky').fit(XPoly_std, y)"
   ]
  },
  {
   "cell_type": "code",
   "execution_count": 49,
   "id": "9c10705a",
   "metadata": {},
   "outputs": [],
   "source": [
    "# predict\n",
    "predict = linear_reg.predict(XPoly_std)\n",
    "predict0 = ridge_reg0.predict(XPoly_std)\n",
    "predict01 = ridge_reg01.predict(XPoly_std)"
   ]
  },
  {
   "cell_type": "code",
   "execution_count": 50,
   "id": "dd7d8183",
   "metadata": {},
   "outputs": [
    {
     "data": {
      "image/png": "[encoded data removed]",
      "text/plain": [
       "<Figure size 720x432 with 1 Axes>"
      ]
     },
     "metadata": {
      "needs_background": "light"
     },
     "output_type": "display_data"
    }
   ],
   "source": [
    "# PLot\n",
    "plt.figure(figsize = (10,6))\n",
    "\n",
    "plt.plot(X, y, 'k.', markersize = 14, alpha = 0.35)\n",
    "plt.plot(X, predict, 'b.', label = 'Linear', alpha = 0.7)\n",
    "plt.plot(X, predict0, 'r.', label = 'Ridge alpha 0', alpha = 0.7)\n",
    "plt.plot(X, predict01, 'g.', label = 'Ridge alpha 100', alpha = 0.7)\n",
    "plt.title('Regularização', fontsize = 16)\n",
    "#plt.axis([0,2,0,15])\n",
    "plt.legend()\n",
    "plt.show()"
   ]
  },
  {
   "cell_type": "markdown",
   "id": "06859ae4",
   "metadata": {},
   "source": [
    "___"
   ]
  },
  {
   "cell_type": "markdown",
   "id": "74ff8fb8",
   "metadata": {},
   "source": [
    "# Lasso Regression"
   ]
  },
  {
   "cell_type": "markdown",
   "id": "d3311793",
   "metadata": {},
   "source": [
    "A regressão lasso também adiciona um termo de regularização à regressão linear. O termo adicionado é somatório do módulo dos pesos.\n",
    "\n",
    "### $ J(\\beta) = MSE(\\beta) + \\alpha\\sum_{i = 1}^{n}|\\beta_{i}|   $\n",
    "\n",
    "\n",
    "#### $ \\triangledown_{\\beta}MSE(\\beta) = \\frac{2}{m} X^{T}(X\\beta - y)  $\n",
    "\n",
    "\n",
    "### $ g(\\beta, J) = \\triangledown_{\\beta}MSE(\\beta) + \\alpha \\begin{pmatrix} sign(\\beta_{1}) \\\\ sign(\\beta_{2}) \\\\ ... \\\\ sign(\\beta_{n}) \\end{pmatrix} $ quando $ sign(\\beta_{i}) = \\begin{cases} -1 & if \\beta_{i} < 0 \\\\ 0 & if \\beta_{i} = 0\\\\ +1 & if \\beta_{i} > 0 \\end{cases}$ "
   ]
  },
  {
   "cell_type": "code",
   "execution_count": 51,
   "id": "416f4ed3",
   "metadata": {},
   "outputs": [],
   "source": [
    "# Create some data\n",
    "X = 2 * np.random.rand(100, 1)\n",
    "y = 4 + 3 * X + np.random.rand(100, 1)\n",
    "\n",
    "# add poly\n",
    "from sklearn.preprocessing import PolynomialFeatures\n",
    "\n",
    "poly_features = PolynomialFeatures(degree = 3, include_bias = False)\n",
    "X_poly = poly_features.fit_transform(X)"
   ]
  },
  {
   "cell_type": "code",
   "execution_count": 52,
   "id": "5d4010b2",
   "metadata": {},
   "outputs": [],
   "source": [
    "# Import \n",
    "from sklearn.preprocessing import StandardScaler\n",
    "\n",
    "# Padronizar\n",
    "X_std = StandardScaler().fit(X).transform(X)\n",
    "XPoly_std = StandardScaler().fit(X_poly).transform(X_poly)"
   ]
  },
  {
   "cell_type": "markdown",
   "id": "4443a26c",
   "metadata": {},
   "source": [
    "### Modelo linear"
   ]
  },
  {
   "cell_type": "code",
   "execution_count": 53,
   "id": "a666b771",
   "metadata": {},
   "outputs": [],
   "source": [
    "# import\n",
    "from sklearn.linear_model import Lasso\n",
    "from sklearn.linear_model import LinearRegression\n",
    "\n",
    "# linear\n",
    "linear_reg = LinearRegression().fit(X_std, y)\n",
    "\n",
    "# ridge alpha 0\n",
    "lasso_reg0 = Lasso(alpha = 0).fit(X_std, y)\n",
    "\n",
    "# ridge alpha\n",
    "lasso_reg01 = Lasso(alpha = 0.5).fit(X_std, y)\n",
    "\n",
    "# ridge alpha\n",
    "lasso_reg1 = Lasso(alpha = 0.7).fit(X_std, y)"
   ]
  },
  {
   "cell_type": "code",
   "execution_count": 54,
   "id": "b1ba4749",
   "metadata": {},
   "outputs": [],
   "source": [
    "# predict\n",
    "predict = linear_reg.predict(X_std)\n",
    "predict0 = lasso_reg0.predict(X_std)\n",
    "predict01 = lasso_reg01.predict(X_std)\n",
    "predict1 = lasso_reg1.predict(X_std)"
   ]
  },
  {
   "cell_type": "code",
   "execution_count": 55,
   "id": "2d650b12",
   "metadata": {},
   "outputs": [
    {
     "data": {
      "image/png": "[encoded data removed]",
      "text/plain": [
       "<Figure size 720x432 with 1 Axes>"
      ]
     },
     "metadata": {
      "needs_background": "light"
     },
     "output_type": "display_data"
    }
   ],
   "source": [
    "# PLot\n",
    "plt.figure(figsize = (10,6))\n",
    "\n",
    "plt.plot(X, y, 'k.', markersize = 12, alpha = 0.5)\n",
    "plt.plot(X, predict, 'b-', label = 'Linear', alpha = 0.7)\n",
    "plt.plot(X, predict0, 'r-', label = 'Lasso alpha 0', alpha = 0.7)\n",
    "plt.plot(X, predict01, 'g-', label = 'Lasso alpha 0.5', alpha = 0.7)\n",
    "plt.plot(X, predict1, 'c-', label = 'Lasso alpha 0.7', alpha = 0.7)\n",
    "plt.title('Regularização', fontsize = 16)\n",
    "#plt.axis([0,2,0,15])\n",
    "plt.legend()\n",
    "plt.show()"
   ]
  },
  {
   "cell_type": "markdown",
   "id": "37661361",
   "metadata": {},
   "source": [
    "Quando alpha = 0, a regularização desaparece e retornamos ao modelo de regressão linear."
   ]
  },
  {
   "cell_type": "markdown",
   "id": "fbc36f2c",
   "metadata": {},
   "source": [
    "### Modelo polinomial"
   ]
  },
  {
   "cell_type": "code",
   "execution_count": 56,
   "id": "1954ca41",
   "metadata": {},
   "outputs": [],
   "source": [
    "# Equação quadrática simples\n",
    "m = 100\n",
    "X = 6 * np.random.rand(m, 1) - 3\n",
    "y = X**3 + X**2 + X + 2 + 2* np.random.randn(m, 1)\n",
    "\n",
    "# add poly\n",
    "from sklearn.preprocessing import PolynomialFeatures\n",
    "\n",
    "poly_features = PolynomialFeatures(degree = 3, include_bias = False)\n",
    "X_poly = poly_features.fit_transform(X)"
   ]
  },
  {
   "cell_type": "code",
   "execution_count": 57,
   "id": "247d0a6c",
   "metadata": {},
   "outputs": [],
   "source": [
    "# Import \n",
    "from sklearn.preprocessing import StandardScaler\n",
    "\n",
    "# Padronizar\n",
    "X_std = StandardScaler().fit(X).transform(X)\n",
    "XPoly_std = StandardScaler().fit(X_poly).transform(X_poly)"
   ]
  },
  {
   "cell_type": "code",
   "execution_count": 58,
   "id": "dc0e1e68",
   "metadata": {},
   "outputs": [],
   "source": [
    "# import\n",
    "from sklearn.linear_model import Lasso\n",
    "from sklearn.linear_model import LinearRegression\n",
    "\n",
    "# linear\n",
    "linear_reg = LinearRegression().fit(XPoly_std, y)\n",
    "\n",
    "# lasso alpha\n",
    "lasso_reg0 = Lasso(alpha = 1).fit(XPoly_std, y)\n",
    "\n",
    "# lasso alpha\n",
    "lasso_reg01 = Lasso(alpha = 2).fit(XPoly_std, y)"
   ]
  },
  {
   "cell_type": "code",
   "execution_count": 59,
   "id": "e4526da0",
   "metadata": {},
   "outputs": [],
   "source": [
    "# predict\n",
    "predict = linear_reg.predict(XPoly_std)\n",
    "predict0 = lasso_reg0.predict(XPoly_std)\n",
    "predict01 = lasso_reg01.predict(XPoly_std)"
   ]
  },
  {
   "cell_type": "code",
   "execution_count": 60,
   "id": "4be905fb",
   "metadata": {},
   "outputs": [
    {
     "data": {
      "image/png": "[encoded data removed]",
      "text/plain": [
       "<Figure size 720x432 with 1 Axes>"
      ]
     },
     "metadata": {
      "needs_background": "light"
     },
     "output_type": "display_data"
    }
   ],
   "source": [
    "# PLot\n",
    "plt.figure(figsize = (10,6))\n",
    "\n",
    "plt.plot(X, y, 'k.', markersize = 12, alpha = 0.3)\n",
    "plt.plot(X, predict, 'b.', label = 'Linear', alpha = 0.7)\n",
    "plt.plot(X, predict0, 'r.', label = 'Lasso alpha 1', alpha = 0.7)\n",
    "plt.plot(X, predict01, 'g.', label = 'Lasso alpha 2', alpha = 0.7)\n",
    "plt.title('Regularização', fontsize = 16)\n",
    "#plt.axis([0,2,0,15])\n",
    "plt.legend()\n",
    "plt.show()"
   ]
  },
  {
   "cell_type": "markdown",
   "id": "88c04f6e",
   "metadata": {},
   "source": [
    "___"
   ]
  },
  {
   "cell_type": "markdown",
   "id": "6fee89f0",
   "metadata": {},
   "source": [
    "# Elastic Net Regression"
   ]
  },
  {
   "cell_type": "markdown",
   "id": "dcfedcff",
   "metadata": {},
   "source": [
    "A regressão elastic net combina as regularizações ridge e lasso, permitindo que o peso de cada uma seja controlado.\n",
    "\n",
    "$ J(\\beta) = MSE(\\beta) + r\\alpha\\sum_{i = 1}^{n}|\\beta_{i}| + \\frac{1 - r}{2}\\alpha\\sum_{i = 1}^{n}\\beta_{i}^{2}   $"
   ]
  },
  {
   "cell_type": "code",
   "execution_count": 61,
   "id": "81da5ec8",
   "metadata": {},
   "outputs": [],
   "source": [
    "# Create some data\n",
    "X = 2 * np.random.rand(100, 1)\n",
    "y = 4 + 3 * X + np.random.rand(100, 1)\n",
    "\n",
    "# add poly\n",
    "from sklearn.preprocessing import PolynomialFeatures\n",
    "\n",
    "poly_features = PolynomialFeatures(degree = 3, include_bias = False)\n",
    "X_poly = poly_features.fit_transform(X)"
   ]
  },
  {
   "cell_type": "code",
   "execution_count": 62,
   "id": "5281745c",
   "metadata": {},
   "outputs": [],
   "source": [
    "# Import \n",
    "from sklearn.preprocessing import StandardScaler\n",
    "\n",
    "# Padronizar\n",
    "X_std = StandardScaler().fit(X).transform(X)\n",
    "XPoly_std = StandardScaler().fit(X_poly).transform(X_poly)"
   ]
  },
  {
   "cell_type": "markdown",
   "id": "c9011a3e",
   "metadata": {},
   "source": [
    "### Modelo linear"
   ]
  },
  {
   "cell_type": "code",
   "execution_count": 63,
   "id": "f9665740",
   "metadata": {},
   "outputs": [],
   "source": [
    "# import\n",
    "from sklearn.linear_model import ElasticNet\n",
    "from sklearn.linear_model import LinearRegression\n",
    "\n",
    "# linear\n",
    "linear_reg = LinearRegression().fit(X_std, y)\n",
    "\n",
    "# ElasticNet alpha 0\n",
    "elastic_reg0 = ElasticNet(alpha = 0).fit(X_std, y)\n",
    "\n",
    "# ElasticNet alpha -1\n",
    "elastic_reg01 = ElasticNet(alpha = 0.5).fit(X_std, y)\n",
    "\n",
    "# ElasticNet alpha 1\n",
    "elastic_reg1 = ElasticNet(alpha = 0.7).fit(X_std, y)"
   ]
  },
  {
   "cell_type": "code",
   "execution_count": 64,
   "id": "9ffa53aa",
   "metadata": {},
   "outputs": [],
   "source": [
    "# predict\n",
    "predict = linear_reg.predict(X_std)\n",
    "predict0 = elastic_reg0.predict(X_std)\n",
    "predict01 = elastic_reg01.predict(X_std)\n",
    "predict1 = elastic_reg1.predict(X_std)"
   ]
  },
  {
   "cell_type": "code",
   "execution_count": 65,
   "id": "91035aec",
   "metadata": {},
   "outputs": [
    {
     "data": {
      "image/png": "[encoded data removed]",
      "text/plain": [
       "<Figure size 720x432 with 1 Axes>"
      ]
     },
     "metadata": {
      "needs_background": "light"
     },
     "output_type": "display_data"
    }
   ],
   "source": [
    "# PLot\n",
    "plt.figure(figsize = (10,6))\n",
    "\n",
    "plt.plot(X, y, 'k.', markersize = 12, alpha = 0.5)\n",
    "plt.plot(X, predict, 'b-', label = 'Linear', alpha = 0.7)\n",
    "plt.plot(X, predict0, 'r-', label = 'Ridge alpha 0', alpha = 0.7)\n",
    "plt.plot(X, predict01, 'g-', label = 'Ridge alpha 0.5', alpha = 0.7)\n",
    "plt.plot(X, predict1, 'c-', label = 'Ridge alpha 0.7', alpha = 0.7)\n",
    "plt.title('Regularização', fontsize = 16)\n",
    "#plt.axis([0,2,0,15])\n",
    "plt.legend()\n",
    "plt.show()"
   ]
  },
  {
   "cell_type": "markdown",
   "id": "e6b76dd4",
   "metadata": {},
   "source": [
    "Quando alpha = 0, a regularização desaparece e retornamos ao modelo de regressão linear."
   ]
  },
  {
   "cell_type": "markdown",
   "id": "2f342d7d",
   "metadata": {},
   "source": [
    "### Modelo polinomial"
   ]
  },
  {
   "cell_type": "code",
   "execution_count": 66,
   "id": "fd92246d",
   "metadata": {},
   "outputs": [],
   "source": [
    "# Equação quadrática simples\n",
    "m = 100\n",
    "X = 6 * np.random.rand(m, 1) - 3\n",
    "y = X**3 + X**2 + X + 2 + 2* np.random.randn(m, 1)\n",
    "\n",
    "# add poly\n",
    "from sklearn.preprocessing import PolynomialFeatures\n",
    "\n",
    "poly_features = PolynomialFeatures(degree = 3, include_bias = False)\n",
    "X_poly = poly_features.fit_transform(X)"
   ]
  },
  {
   "cell_type": "code",
   "execution_count": 67,
   "id": "bf665f43",
   "metadata": {},
   "outputs": [],
   "source": [
    "# Import \n",
    "from sklearn.preprocessing import StandardScaler\n",
    "\n",
    "# Padronizar\n",
    "X_std = StandardScaler().fit(X).transform(X)\n",
    "XPoly_std = StandardScaler().fit(X_poly).transform(X_poly)"
   ]
  },
  {
   "cell_type": "code",
   "execution_count": 68,
   "id": "2e90618c",
   "metadata": {},
   "outputs": [],
   "source": [
    "# import\n",
    "from sklearn.linear_model import ElasticNet\n",
    "from sklearn.linear_model import LinearRegression\n",
    "\n",
    "# linear\n",
    "linear_reg = LinearRegression().fit(XPoly_std, y)\n",
    "\n",
    "# ElasticNet alpha 0\n",
    "elastic_reg0 = ElasticNet(alpha = 0.5).fit(XPoly_std, y)\n",
    "\n",
    "# ElasticNet alpha -1\n",
    "elastic_reg01 = ElasticNet(alpha = 1).fit(XPoly_std, y)"
   ]
  },
  {
   "cell_type": "code",
   "execution_count": 69,
   "id": "bfa3810b",
   "metadata": {},
   "outputs": [],
   "source": [
    "# predict\n",
    "predict = linear_reg.predict(XPoly_std)\n",
    "predict0 = elastic_reg0.predict(XPoly_std)\n",
    "predict01 = elastic_reg01.predict(XPoly_std)"
   ]
  },
  {
   "cell_type": "code",
   "execution_count": 70,
   "id": "1b302569",
   "metadata": {},
   "outputs": [
    {
     "data": {
      "image/png": "[encoded data removed]",
      "text/plain": [
       "<Figure size 720x432 with 1 Axes>"
      ]
     },
     "metadata": {
      "needs_background": "light"
     },
     "output_type": "display_data"
    }
   ],
   "source": [
    "# PLot\n",
    "plt.figure(figsize = (10,6))\n",
    "\n",
    "plt.plot(X, y, 'k.', markersize = 12, alpha = 0.3)\n",
    "plt.plot(X, predict, 'b.', label = 'Linear', alpha = 0.7)\n",
    "plt.plot(X, predict0, 'r.', label = 'Ridge alpha 0.5', alpha = 0.7)\n",
    "plt.plot(X, predict01, 'g.', label = 'Ridge alpha 1', alpha = 0.7)\n",
    "plt.title('Regularização', fontsize = 16)\n",
    "#plt.axis([0,2,0,15])\n",
    "plt.legend()\n",
    "plt.show()"
   ]
  },
  {
   "cell_type": "markdown",
   "id": "df10a7b2",
   "metadata": {},
   "source": [
    "___"
   ]
  }
 ],
 "metadata": {
  "kernelspec": {
   "display_name": "Python 3 (ipykernel)",
   "language": "python",
   "name": "python3"
  },
  "language_info": {
   "codemirror_mode": {
    "name": "ipython",
    "version": 3
   },
   "file_extension": ".py",
   "mimetype": "text/x-python",
   "name": "python",
   "nbconvert_exporter": "python",
   "pygments_lexer": "ipython3",
   "version": "3.8.8"
  }
 },
 "nbformat": 4,
 "nbformat_minor": 5
}

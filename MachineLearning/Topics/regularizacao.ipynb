{
 "cells": [
  {
   "cell_type": "markdown",
   "id": "efb5d9f2",
   "metadata": {},
   "source": [
    "# "
   ]
  },
  {
   "cell_type": "markdown",
   "id": "bffd52fa",
   "metadata": {},
   "source": [
    "# <font size =8> Regularização"
   ]
  },
  {
   "cell_type": "markdown",
   "id": "e5eb3fa9",
   "metadata": {},
   "source": [
    "A regularização é uma técnica em machine learning utilizada para melhorar a generalização dos modelos, prevenindo o overfitting. Overfitting ocorre quando um modelo se ajusta muito bem aos dados de treinamento, mas falha em generalizar para novos dados. A regularização adiciona um termo de penalização à função de custo do modelo, que desencoraja a complexidade excessiva e ajuda a manter os coeficientes do modelo sob controle.\n",
    "\n",
    "É amplamente utilizada em diversos tipos de modelos de machine learning, especialmente em regressões lineares e logísticas, para melhorar a robustez e a capacidade de generalização. Ela é aplicada em situações onde:\n",
    "\n",
    "* **Há muitas características**: Para evitar overfitting em datasets com um grande número de características, especialmente quando algumas delas podem ser irrelevantes ou redundantes.\n",
    "* **Multicolinearidade**: Quando as características estão correlacionadas, a regularização ajuda a estabilizar as estimativas dos coeficientes.\n",
    "* **Interpretação do Modelo**: Em problemas onde a interpretabilidade é importante, a regularização pode ajudar a identificar as características mais relevantes.\n",
    "\n",
    "Em resumo, a regularização é uma ferramenta poderosa para melhorar a performance dos modelos de machine learning, tornando-os mais robustos e interpretáveis, especialmente em cenários com dados complexos e de alta dimensionalidade."
   ]
  },
  {
   "cell_type": "markdown",
   "id": "84046822",
   "metadata": {},
   "source": [
    "---"
   ]
  },
  {
   "cell_type": "markdown",
   "id": "6477acd1",
   "metadata": {},
   "source": [
    "## <font size=6>Imports"
   ]
  },
  {
   "cell_type": "code",
   "execution_count": 1,
   "id": "af0c93a9",
   "metadata": {},
   "outputs": [],
   "source": [
    "#autoreload\n",
    "%load_ext autoreload\n",
    "%autoreload 2"
   ]
  },
  {
   "cell_type": "code",
   "execution_count": 2,
   "id": "12095293",
   "metadata": {},
   "outputs": [],
   "source": [
    "# Warnings\n",
    "import warnings\n",
    "warnings.filterwarnings('ignore')"
   ]
  },
  {
   "cell_type": "code",
   "execution_count": 3,
   "id": "c4fb036e",
   "metadata": {},
   "outputs": [],
   "source": [
    "# Imports\n",
    "import numpy as np\n",
    "import pandas as pd\n",
    "\n",
    "from sklearn.pipeline import Pipeline\n",
    "from sklearn.metrics import mean_squared_error\n",
    "from sklearn.preprocessing import StandardScaler\n",
    "from sklearn.linear_model import Lasso, Ridge, ElasticNet\n",
    "from sklearn.model_selection import train_test_split, cross_val_score\n",
    "\n",
    "# utils\n",
    "from utils.eda_utils import remove_acentuacao"
   ]
  },
  {
   "cell_type": "markdown",
   "id": "3e67f272",
   "metadata": {},
   "source": [
    "---"
   ]
  },
  {
   "cell_type": "markdown",
   "id": "d048bae0",
   "metadata": {},
   "source": [
    "# <font size=8> Regressors"
   ]
  },
  {
   "cell_type": "markdown",
   "id": "739a6726",
   "metadata": {},
   "source": [
    "# Load Data"
   ]
  },
  {
   "cell_type": "code",
   "execution_count": 4,
   "id": "c1d583ae",
   "metadata": {},
   "outputs": [],
   "source": [
    "# load\n",
    "df = pd.read_csv('data/cholesterol.csv')"
   ]
  },
  {
   "cell_type": "code",
   "execution_count": 5,
   "id": "aac17a8a",
   "metadata": {},
   "outputs": [
    {
     "data": {
      "text/html": [
       "<div>\n",
       "<style scoped>\n",
       "    .dataframe tbody tr th:only-of-type {\n",
       "        vertical-align: middle;\n",
       "    }\n",
       "\n",
       "    .dataframe tbody tr th {\n",
       "        vertical-align: top;\n",
       "    }\n",
       "\n",
       "    .dataframe thead th {\n",
       "        text-align: right;\n",
       "    }\n",
       "</style>\n",
       "<table border=\"1\" class=\"dataframe\">\n",
       "  <thead>\n",
       "    <tr style=\"text-align: right;\">\n",
       "      <th></th>\n",
       "      <th>Id</th>\n",
       "      <th>Grupo Sanguíneo</th>\n",
       "      <th>Fumante</th>\n",
       "      <th>Nível de Atividade</th>\n",
       "      <th>Idade</th>\n",
       "      <th>Peso</th>\n",
       "      <th>Altura</th>\n",
       "      <th>Colesterol</th>\n",
       "    </tr>\n",
       "  </thead>\n",
       "  <tbody>\n",
       "    <tr>\n",
       "      <th>0</th>\n",
       "      <td>1</td>\n",
       "      <td>B</td>\n",
       "      <td>Sim</td>\n",
       "      <td>Baixo</td>\n",
       "      <td>33.0</td>\n",
       "      <td>85.1</td>\n",
       "      <td>186.0</td>\n",
       "      <td>199.63</td>\n",
       "    </tr>\n",
       "    <tr>\n",
       "      <th>1</th>\n",
       "      <td>2</td>\n",
       "      <td>A</td>\n",
       "      <td>Não</td>\n",
       "      <td>Moderado</td>\n",
       "      <td>68.0</td>\n",
       "      <td>105.0</td>\n",
       "      <td>184.0</td>\n",
       "      <td>236.98</td>\n",
       "    </tr>\n",
       "    <tr>\n",
       "      <th>2</th>\n",
       "      <td>3</td>\n",
       "      <td>O</td>\n",
       "      <td>Não</td>\n",
       "      <td>Alto</td>\n",
       "      <td>25.0</td>\n",
       "      <td>64.8</td>\n",
       "      <td>180.0</td>\n",
       "      <td>161.79</td>\n",
       "    </tr>\n",
       "    <tr>\n",
       "      <th>3</th>\n",
       "      <td>4</td>\n",
       "      <td>A</td>\n",
       "      <td>Não</td>\n",
       "      <td>Alto</td>\n",
       "      <td>43.0</td>\n",
       "      <td>120.2</td>\n",
       "      <td>167.0</td>\n",
       "      <td>336.24</td>\n",
       "    </tr>\n",
       "    <tr>\n",
       "      <th>4</th>\n",
       "      <td>5</td>\n",
       "      <td>AB</td>\n",
       "      <td>Não</td>\n",
       "      <td>Baixo</td>\n",
       "      <td>79.0</td>\n",
       "      <td>88.5</td>\n",
       "      <td>175.0</td>\n",
       "      <td>226.23</td>\n",
       "    </tr>\n",
       "    <tr>\n",
       "      <th>...</th>\n",
       "      <td>...</td>\n",
       "      <td>...</td>\n",
       "      <td>...</td>\n",
       "      <td>...</td>\n",
       "      <td>...</td>\n",
       "      <td>...</td>\n",
       "      <td>...</td>\n",
       "      <td>...</td>\n",
       "    </tr>\n",
       "    <tr>\n",
       "      <th>995</th>\n",
       "      <td>996</td>\n",
       "      <td>AB</td>\n",
       "      <td>Sim</td>\n",
       "      <td>Moderado</td>\n",
       "      <td>31.0</td>\n",
       "      <td>68.1</td>\n",
       "      <td>166.0</td>\n",
       "      <td>206.81</td>\n",
       "    </tr>\n",
       "    <tr>\n",
       "      <th>996</th>\n",
       "      <td>997</td>\n",
       "      <td>O</td>\n",
       "      <td>Não</td>\n",
       "      <td>Alto</td>\n",
       "      <td>51.0</td>\n",
       "      <td>47.7</td>\n",
       "      <td>170.0</td>\n",
       "      <td>128.03</td>\n",
       "    </tr>\n",
       "    <tr>\n",
       "      <th>997</th>\n",
       "      <td>998</td>\n",
       "      <td>AB</td>\n",
       "      <td>Não</td>\n",
       "      <td>Baixo</td>\n",
       "      <td>39.0</td>\n",
       "      <td>85.5</td>\n",
       "      <td>176.0</td>\n",
       "      <td>211.14</td>\n",
       "    </tr>\n",
       "    <tr>\n",
       "      <th>998</th>\n",
       "      <td>999</td>\n",
       "      <td>AB</td>\n",
       "      <td>Sim</td>\n",
       "      <td>Baixo</td>\n",
       "      <td>61.0</td>\n",
       "      <td>91.2</td>\n",
       "      <td>161.0</td>\n",
       "      <td>284.53</td>\n",
       "    </tr>\n",
       "    <tr>\n",
       "      <th>999</th>\n",
       "      <td>1000</td>\n",
       "      <td>A</td>\n",
       "      <td>Não</td>\n",
       "      <td>Baixo</td>\n",
       "      <td>45.0</td>\n",
       "      <td>82.4</td>\n",
       "      <td>163.0</td>\n",
       "      <td>237.45</td>\n",
       "    </tr>\n",
       "  </tbody>\n",
       "</table>\n",
       "<p>1000 rows × 8 columns</p>\n",
       "</div>"
      ],
      "text/plain": [
       "       Id Grupo Sanguíneo Fumante Nível de Atividade  Idade   Peso  Altura  \\\n",
       "0       1               B     Sim              Baixo   33.0   85.1   186.0   \n",
       "1       2               A     Não           Moderado   68.0  105.0   184.0   \n",
       "2       3               O     Não               Alto   25.0   64.8   180.0   \n",
       "3       4               A     Não               Alto   43.0  120.2   167.0   \n",
       "4       5              AB     Não              Baixo   79.0   88.5   175.0   \n",
       "..    ...             ...     ...                ...    ...    ...     ...   \n",
       "995   996              AB     Sim           Moderado   31.0   68.1   166.0   \n",
       "996   997               O     Não               Alto   51.0   47.7   170.0   \n",
       "997   998              AB     Não              Baixo   39.0   85.5   176.0   \n",
       "998   999              AB     Sim              Baixo   61.0   91.2   161.0   \n",
       "999  1000               A     Não              Baixo   45.0   82.4   163.0   \n",
       "\n",
       "     Colesterol  \n",
       "0        199.63  \n",
       "1        236.98  \n",
       "2        161.79  \n",
       "3        336.24  \n",
       "4        226.23  \n",
       "..          ...  \n",
       "995      206.81  \n",
       "996      128.03  \n",
       "997      211.14  \n",
       "998      284.53  \n",
       "999      237.45  \n",
       "\n",
       "[1000 rows x 8 columns]"
      ]
     },
     "execution_count": 5,
     "metadata": {},
     "output_type": "execute_result"
    }
   ],
   "source": [
    "# Preview\n",
    "df"
   ]
  },
  {
   "cell_type": "markdown",
   "id": "9cde6eee",
   "metadata": {},
   "source": [
    "# Processing"
   ]
  },
  {
   "cell_type": "code",
   "execution_count": 6,
   "id": "5fcdc391",
   "metadata": {},
   "outputs": [],
   "source": [
    "# drop id\n",
    "df.drop(columns='Id', inplace=True)\n",
    "\n",
    "# rename columns\n",
    "df.columns = [col.lower() for col in df.columns]\n",
    "\n",
    "# replace white spaces\n",
    "df.columns = [col.replace(' ', '_') for col in df.columns]\n",
    "\n",
    "# remove accent\n",
    "df.columns = [remove_acentuacao(col) for col in df.columns]\n",
    "\n",
    "# dropna\n",
    "df.dropna(inplace=True)\n",
    "\n",
    "# One Hot encode\n",
    "df = pd.get_dummies(df, columns=['grupo_sanguineo', 'fumante', 'nivel_de_atividade'])\n",
    "\n",
    "# Set target\n",
    "target = 'colesterol'"
   ]
  },
  {
   "cell_type": "code",
   "execution_count": 7,
   "id": "bc2f3a26",
   "metadata": {},
   "outputs": [
    {
     "data": {
      "text/html": [
       "<div>\n",
       "<style scoped>\n",
       "    .dataframe tbody tr th:only-of-type {\n",
       "        vertical-align: middle;\n",
       "    }\n",
       "\n",
       "    .dataframe tbody tr th {\n",
       "        vertical-align: top;\n",
       "    }\n",
       "\n",
       "    .dataframe thead th {\n",
       "        text-align: right;\n",
       "    }\n",
       "</style>\n",
       "<table border=\"1\" class=\"dataframe\">\n",
       "  <thead>\n",
       "    <tr style=\"text-align: right;\">\n",
       "      <th></th>\n",
       "      <th>idade</th>\n",
       "      <th>peso</th>\n",
       "      <th>altura</th>\n",
       "      <th>colesterol</th>\n",
       "      <th>grupo_sanguineo_A</th>\n",
       "      <th>grupo_sanguineo_AB</th>\n",
       "      <th>grupo_sanguineo_B</th>\n",
       "      <th>grupo_sanguineo_O</th>\n",
       "      <th>fumante_Não</th>\n",
       "      <th>fumante_Sim</th>\n",
       "      <th>nivel_de_atividade_Alto</th>\n",
       "      <th>nivel_de_atividade_Baixo</th>\n",
       "      <th>nivel_de_atividade_Moderado</th>\n",
       "    </tr>\n",
       "  </thead>\n",
       "  <tbody>\n",
       "    <tr>\n",
       "      <th>0</th>\n",
       "      <td>33.0</td>\n",
       "      <td>85.1</td>\n",
       "      <td>186.0</td>\n",
       "      <td>199.63</td>\n",
       "      <td>0</td>\n",
       "      <td>0</td>\n",
       "      <td>1</td>\n",
       "      <td>0</td>\n",
       "      <td>0</td>\n",
       "      <td>1</td>\n",
       "      <td>0</td>\n",
       "      <td>1</td>\n",
       "      <td>0</td>\n",
       "    </tr>\n",
       "    <tr>\n",
       "      <th>1</th>\n",
       "      <td>68.0</td>\n",
       "      <td>105.0</td>\n",
       "      <td>184.0</td>\n",
       "      <td>236.98</td>\n",
       "      <td>1</td>\n",
       "      <td>0</td>\n",
       "      <td>0</td>\n",
       "      <td>0</td>\n",
       "      <td>1</td>\n",
       "      <td>0</td>\n",
       "      <td>0</td>\n",
       "      <td>0</td>\n",
       "      <td>1</td>\n",
       "    </tr>\n",
       "    <tr>\n",
       "      <th>2</th>\n",
       "      <td>25.0</td>\n",
       "      <td>64.8</td>\n",
       "      <td>180.0</td>\n",
       "      <td>161.79</td>\n",
       "      <td>0</td>\n",
       "      <td>0</td>\n",
       "      <td>0</td>\n",
       "      <td>1</td>\n",
       "      <td>1</td>\n",
       "      <td>0</td>\n",
       "      <td>1</td>\n",
       "      <td>0</td>\n",
       "      <td>0</td>\n",
       "    </tr>\n",
       "    <tr>\n",
       "      <th>3</th>\n",
       "      <td>43.0</td>\n",
       "      <td>120.2</td>\n",
       "      <td>167.0</td>\n",
       "      <td>336.24</td>\n",
       "      <td>1</td>\n",
       "      <td>0</td>\n",
       "      <td>0</td>\n",
       "      <td>0</td>\n",
       "      <td>1</td>\n",
       "      <td>0</td>\n",
       "      <td>1</td>\n",
       "      <td>0</td>\n",
       "      <td>0</td>\n",
       "    </tr>\n",
       "    <tr>\n",
       "      <th>4</th>\n",
       "      <td>79.0</td>\n",
       "      <td>88.5</td>\n",
       "      <td>175.0</td>\n",
       "      <td>226.23</td>\n",
       "      <td>0</td>\n",
       "      <td>1</td>\n",
       "      <td>0</td>\n",
       "      <td>0</td>\n",
       "      <td>1</td>\n",
       "      <td>0</td>\n",
       "      <td>0</td>\n",
       "      <td>1</td>\n",
       "      <td>0</td>\n",
       "    </tr>\n",
       "    <tr>\n",
       "      <th>...</th>\n",
       "      <td>...</td>\n",
       "      <td>...</td>\n",
       "      <td>...</td>\n",
       "      <td>...</td>\n",
       "      <td>...</td>\n",
       "      <td>...</td>\n",
       "      <td>...</td>\n",
       "      <td>...</td>\n",
       "      <td>...</td>\n",
       "      <td>...</td>\n",
       "      <td>...</td>\n",
       "      <td>...</td>\n",
       "      <td>...</td>\n",
       "    </tr>\n",
       "    <tr>\n",
       "      <th>995</th>\n",
       "      <td>31.0</td>\n",
       "      <td>68.1</td>\n",
       "      <td>166.0</td>\n",
       "      <td>206.81</td>\n",
       "      <td>0</td>\n",
       "      <td>1</td>\n",
       "      <td>0</td>\n",
       "      <td>0</td>\n",
       "      <td>0</td>\n",
       "      <td>1</td>\n",
       "      <td>0</td>\n",
       "      <td>0</td>\n",
       "      <td>1</td>\n",
       "    </tr>\n",
       "    <tr>\n",
       "      <th>996</th>\n",
       "      <td>51.0</td>\n",
       "      <td>47.7</td>\n",
       "      <td>170.0</td>\n",
       "      <td>128.03</td>\n",
       "      <td>0</td>\n",
       "      <td>0</td>\n",
       "      <td>0</td>\n",
       "      <td>1</td>\n",
       "      <td>1</td>\n",
       "      <td>0</td>\n",
       "      <td>1</td>\n",
       "      <td>0</td>\n",
       "      <td>0</td>\n",
       "    </tr>\n",
       "    <tr>\n",
       "      <th>997</th>\n",
       "      <td>39.0</td>\n",
       "      <td>85.5</td>\n",
       "      <td>176.0</td>\n",
       "      <td>211.14</td>\n",
       "      <td>0</td>\n",
       "      <td>1</td>\n",
       "      <td>0</td>\n",
       "      <td>0</td>\n",
       "      <td>1</td>\n",
       "      <td>0</td>\n",
       "      <td>0</td>\n",
       "      <td>1</td>\n",
       "      <td>0</td>\n",
       "    </tr>\n",
       "    <tr>\n",
       "      <th>998</th>\n",
       "      <td>61.0</td>\n",
       "      <td>91.2</td>\n",
       "      <td>161.0</td>\n",
       "      <td>284.53</td>\n",
       "      <td>0</td>\n",
       "      <td>1</td>\n",
       "      <td>0</td>\n",
       "      <td>0</td>\n",
       "      <td>0</td>\n",
       "      <td>1</td>\n",
       "      <td>0</td>\n",
       "      <td>1</td>\n",
       "      <td>0</td>\n",
       "    </tr>\n",
       "    <tr>\n",
       "      <th>999</th>\n",
       "      <td>45.0</td>\n",
       "      <td>82.4</td>\n",
       "      <td>163.0</td>\n",
       "      <td>237.45</td>\n",
       "      <td>1</td>\n",
       "      <td>0</td>\n",
       "      <td>0</td>\n",
       "      <td>0</td>\n",
       "      <td>1</td>\n",
       "      <td>0</td>\n",
       "      <td>0</td>\n",
       "      <td>1</td>\n",
       "      <td>0</td>\n",
       "    </tr>\n",
       "  </tbody>\n",
       "</table>\n",
       "<p>981 rows × 13 columns</p>\n",
       "</div>"
      ],
      "text/plain": [
       "     idade   peso  altura  colesterol  grupo_sanguineo_A  grupo_sanguineo_AB  \\\n",
       "0     33.0   85.1   186.0      199.63                  0                   0   \n",
       "1     68.0  105.0   184.0      236.98                  1                   0   \n",
       "2     25.0   64.8   180.0      161.79                  0                   0   \n",
       "3     43.0  120.2   167.0      336.24                  1                   0   \n",
       "4     79.0   88.5   175.0      226.23                  0                   1   \n",
       "..     ...    ...     ...         ...                ...                 ...   \n",
       "995   31.0   68.1   166.0      206.81                  0                   1   \n",
       "996   51.0   47.7   170.0      128.03                  0                   0   \n",
       "997   39.0   85.5   176.0      211.14                  0                   1   \n",
       "998   61.0   91.2   161.0      284.53                  0                   1   \n",
       "999   45.0   82.4   163.0      237.45                  1                   0   \n",
       "\n",
       "     grupo_sanguineo_B  grupo_sanguineo_O  fumante_Não  fumante_Sim  \\\n",
       "0                    1                  0            0            1   \n",
       "1                    0                  0            1            0   \n",
       "2                    0                  1            1            0   \n",
       "3                    0                  0            1            0   \n",
       "4                    0                  0            1            0   \n",
       "..                 ...                ...          ...          ...   \n",
       "995                  0                  0            0            1   \n",
       "996                  0                  1            1            0   \n",
       "997                  0                  0            1            0   \n",
       "998                  0                  0            0            1   \n",
       "999                  0                  0            1            0   \n",
       "\n",
       "     nivel_de_atividade_Alto  nivel_de_atividade_Baixo  \\\n",
       "0                          0                         1   \n",
       "1                          0                         0   \n",
       "2                          1                         0   \n",
       "3                          1                         0   \n",
       "4                          0                         1   \n",
       "..                       ...                       ...   \n",
       "995                        0                         0   \n",
       "996                        1                         0   \n",
       "997                        0                         1   \n",
       "998                        0                         1   \n",
       "999                        0                         1   \n",
       "\n",
       "     nivel_de_atividade_Moderado  \n",
       "0                              0  \n",
       "1                              1  \n",
       "2                              0  \n",
       "3                              0  \n",
       "4                              0  \n",
       "..                           ...  \n",
       "995                            1  \n",
       "996                            0  \n",
       "997                            0  \n",
       "998                            0  \n",
       "999                            0  \n",
       "\n",
       "[981 rows x 13 columns]"
      ]
     },
     "execution_count": 7,
     "metadata": {},
     "output_type": "execute_result"
    }
   ],
   "source": [
    "# View\n",
    "df"
   ]
  },
  {
   "cell_type": "code",
   "execution_count": 8,
   "id": "f4b25052",
   "metadata": {},
   "outputs": [],
   "source": [
    "# Separar os dados\n",
    "X = df.drop(target, axis=1)\n",
    "y = df[target]\n",
    "\n",
    "# Separar treino e teste\n",
    "X_train, X_test, y_train, y_test = train_test_split(X, y, test_size=0.3, random_state=51)"
   ]
  },
  {
   "cell_type": "markdown",
   "id": "7ee8ea29",
   "metadata": {},
   "source": [
    "# Functions"
   ]
  },
  {
   "cell_type": "code",
   "execution_count": 9,
   "id": "efa0ae95",
   "metadata": {},
   "outputs": [],
   "source": [
    "# Performance\n",
    "def performance_model(model, X_test, y_test):\n",
    "    \n",
    "    # Prediction\n",
    "    y_pred = model.predict(X_test)\n",
    "    \n",
    "    return mean_squared_error(y_test, y_pred, squared=False)"
   ]
  },
  {
   "cell_type": "code",
   "execution_count": 10,
   "id": "9962e21b",
   "metadata": {},
   "outputs": [],
   "source": [
    "# Criar um pipeline para escalonar os dados e ajustar o modelo\n",
    "def create_pipeline(model):\n",
    "    return Pipeline([\n",
    "        ('scaler', StandardScaler()),\n",
    "        ('regressor', model)\n",
    "    ])"
   ]
  },
  {
   "cell_type": "markdown",
   "id": "b017d307",
   "metadata": {},
   "source": [
    "# Models"
   ]
  },
  {
   "cell_type": "code",
   "execution_count": 11,
   "id": "2762534b",
   "metadata": {},
   "outputs": [],
   "source": [
    "# Features names\n",
    "feature_names = X_train.columns"
   ]
  },
  {
   "cell_type": "code",
   "execution_count": 12,
   "id": "4e51c666",
   "metadata": {},
   "outputs": [],
   "source": [
    "# Definir os modelos\n",
    "lasso = create_pipeline(Lasso(alpha=0.1, random_state=42))\n",
    "ridge = create_pipeline(Ridge(alpha=1.0, random_state=42))\n",
    "elastic_net = create_pipeline(ElasticNet(alpha=0.1, l1_ratio=0.5, random_state=42))"
   ]
  },
  {
   "cell_type": "code",
   "execution_count": 13,
   "id": "c05216b0",
   "metadata": {},
   "outputs": [
    {
     "name": "stdout",
     "output_type": "stream",
     "text": [
      "Lasso MSE: 78.9743\n",
      "Ridge MSE: 79.3403\n",
      "ElasticNet MSE: 92.8183\n"
     ]
    }
   ],
   "source": [
    "# Avaliar os modelos usando validação cruzada\n",
    "models = {'Lasso': lasso, 'Ridge': ridge, 'ElasticNet': elastic_net}\n",
    "results = {}\n",
    "\n",
    "for name, model in models.items():\n",
    "    scores = cross_val_score(model, X_train, y_train, cv=5, scoring='neg_mean_squared_error')\n",
    "    results[name] = np.mean(scores)\n",
    "    print(f\"{name} MSE: {-np.mean(scores):.4f}\")"
   ]
  },
  {
   "cell_type": "markdown",
   "id": "d8e74fc1",
   "metadata": {},
   "source": [
    "---"
   ]
  },
  {
   "cell_type": "markdown",
   "id": "4640d9e2",
   "metadata": {},
   "source": [
    "# Regularização L1 (Lasso)"
   ]
  },
  {
   "cell_type": "markdown",
   "id": "894f1327",
   "metadata": {},
   "source": [
    "### Características:\n",
    "   * Ênfase na seleção de features. Quanto maior o alpha, maior será a regularizção e mais coeficientes tendem a ser reduzidos a zero.\n",
    "   * Útil para fins de feature selection e para modelos esparsos. Adiciona uma penalidade à função de custo proporcional à soma absoluta dos valores dos pesos.\n",
    "\n",
    "### Vantagens:\n",
    "   * Pode induzir esparsidade nos pesos, levando a modelos mais simples e interpretáveis.\n",
    "   * Útil quando há suspeita de que muitos dos recursos de entrada são irrelevantes.\n",
    "\n",
    "### Desvantagens:\n",
    "   * Pode tornar a otimização mais desafiadora devido a função não possuir uma derivada definida, pois não há inclinação suave."
   ]
  },
  {
   "cell_type": "code",
   "execution_count": 14,
   "id": "f5699271",
   "metadata": {},
   "outputs": [
    {
     "name": "stdout",
     "output_type": "stream",
     "text": [
      "\n",
      "Lasso Coefficients:\n",
      "\n",
      "peso                           52.779403\n",
      "altura                        -19.448690\n",
      "grupo_sanguineo_AB              1.214534\n",
      "fumante_Não                    -1.115419\n",
      "nivel_de_atividade_Alto        -0.534324\n",
      "nivel_de_atividade_Baixo        0.283418\n",
      "idade                          -0.080303\n",
      "grupo_sanguineo_A              -0.032644\n",
      "grupo_sanguineo_B              -0.000000\n",
      "grupo_sanguineo_O               0.000000\n",
      "fumante_Sim                     0.000000\n",
      "nivel_de_atividade_Moderado    -0.000000\n",
      "dtype: float64\n"
     ]
    }
   ],
   "source": [
    "# Ajustar o modelo Lasso para inspecionar os coeficientes\n",
    "lasso.fit(X_train, y_train)\n",
    "lasso_coef = lasso.named_steps['regressor'].coef_\n",
    "\n",
    "lasso_coef_series = pd.Series(lasso_coef, index=feature_names)\n",
    "lasso_coef_sorted = lasso_coef_series.reindex(lasso_coef_series.abs().sort_values(ascending=False).index)\n",
    "\n",
    "print(\"\\nLasso Coefficients:\\n\")\n",
    "print(lasso_coef_sorted)"
   ]
  },
  {
   "cell_type": "code",
   "execution_count": 15,
   "id": "b2fe49de",
   "metadata": {},
   "outputs": [
    {
     "name": "stdout",
     "output_type": "stream",
     "text": [
      "MSE: 8.971879743621065\n"
     ]
    }
   ],
   "source": [
    "# Avalirar o modelo\n",
    "print(f'MSE: {performance_model(lasso, X_test, y_test)}')"
   ]
  },
  {
   "cell_type": "markdown",
   "id": "4f3da384",
   "metadata": {},
   "source": [
    "---"
   ]
  },
  {
   "cell_type": "markdown",
   "id": "c3828054",
   "metadata": {},
   "source": [
    "# Regularização L2 (Ridge)"
   ]
  },
  {
   "cell_type": "markdown",
   "id": "bb3d6df7",
   "metadata": {},
   "source": [
    "### Características:\n",
    "* Ênfase na redução de variância e generalização do modelo (reduz overfitting).\n",
    "* Útil principalmente quando há multicolinearidade. Adiciona uma penalidade à função de custo proporcional à soma dos quadrados dos valores dos pesos.\n",
    "\n",
    "###  Vantagens:\n",
    "* Ajuda a evitar pesos muito grandes, promovendo modelos mais suaves e menos sensíveis a pequenas * variações nos dados (Variância).\n",
    "* Facilita a otimização, pois é diferenciável em todos os lugares.\n",
    "\n",
    "###  Desvantagens:\n",
    "* Não induz esparsidade nos pesos."
   ]
  },
  {
   "cell_type": "code",
   "execution_count": 16,
   "id": "65cc0890",
   "metadata": {},
   "outputs": [
    {
     "name": "stdout",
     "output_type": "stream",
     "text": [
      "\n",
      "Ridge Coefficients:\n",
      "\n",
      "peso                           52.784899\n",
      "altura                        -19.518348\n",
      "grupo_sanguineo_AB              0.964885\n",
      "fumante_Sim                     0.600941\n",
      "fumante_Não                    -0.600941\n",
      "nivel_de_atividade_Alto        -0.531738\n",
      "grupo_sanguineo_A              -0.428186\n",
      "nivel_de_atividade_Baixo        0.415457\n",
      "grupo_sanguineo_O              -0.278051\n",
      "grupo_sanguineo_B              -0.275259\n",
      "idade                          -0.178941\n",
      "nivel_de_atividade_Moderado     0.069490\n",
      "dtype: float64\n"
     ]
    }
   ],
   "source": [
    "# Ajustar o modelo Ridge para inspecionar os coeficientes\n",
    "ridge.fit(X_train, y_train)\n",
    "ridge_coef = ridge.named_steps['regressor'].coef_\n",
    "\n",
    "ridge_coef_series = pd.Series(ridge_coef, index=feature_names)\n",
    "ridge_coef_sorted = ridge_coef_series.reindex(ridge_coef_series.abs().sort_values(ascending=False).index)\n",
    "\n",
    "print(\"\\nRidge Coefficients:\\n\")\n",
    "print(ridge_coef_sorted)"
   ]
  },
  {
   "cell_type": "code",
   "execution_count": 17,
   "id": "ec2aad4d",
   "metadata": {},
   "outputs": [
    {
     "name": "stdout",
     "output_type": "stream",
     "text": [
      "MSE: 8.99212979268138\n"
     ]
    }
   ],
   "source": [
    "# Avalirar o modelo\n",
    "print(f'MSE: {performance_model(ridge, X_test, y_test)}')"
   ]
  },
  {
   "cell_type": "markdown",
   "id": "a201c2d0",
   "metadata": {},
   "source": [
    "---"
   ]
  },
  {
   "cell_type": "markdown",
   "id": "76407c82",
   "metadata": {},
   "source": [
    "# Regularização Elastic Net"
   ]
  },
  {
   "cell_type": "markdown",
   "id": "42d0a379",
   "metadata": {},
   "source": [
    "### Características:\n",
    "* Combina as penalidades L1 (Lasso) e L2 (Ridge).\n",
    "* Útil quando há muitas features correlacionadas ou quando se deseja uma combinação de seleção de features e regularização.\n",
    "\n",
    "### Vantagens:\n",
    "* Flexibilidade para ajustar a proporção de penalidades L1 e L2, permitindo um equilíbrio entre seleção de features e redução de variância.\n",
    "* Pode melhorar o desempenho em dados onde Lasso ou Ridge sozinhos não são suficientes.\n",
    "\n",
    "### Desvantagens:\n",
    "* Requer a escolha de dois hiperparâmetros (um para cada tipo de penalidade), o que pode aumentar a complexidade do ajuste do modelo.\n",
    "* Pode ser computacionalmente mais intensivo devido à necessidade de ajustar múltiplos parâmetros."
   ]
  },
  {
   "cell_type": "code",
   "execution_count": 18,
   "id": "41cd40ff",
   "metadata": {},
   "outputs": [
    {
     "name": "stdout",
     "output_type": "stream",
     "text": [
      "\n",
      "Elastic Net Coefficients:\n",
      "\n",
      "peso                           48.454125\n",
      "altura                        -17.012498\n",
      "fumante_Não                    -1.239679\n",
      "grupo_sanguineo_AB              1.178263\n",
      "fumante_Sim                     1.151963\n",
      "nivel_de_atividade_Alto        -1.018730\n",
      "grupo_sanguineo_O              -0.953656\n",
      "nivel_de_atividade_Baixo        0.891105\n",
      "grupo_sanguineo_B              -0.423553\n",
      "idade                          -0.239601\n",
      "grupo_sanguineo_A               0.055217\n",
      "nivel_de_atividade_Moderado    -0.000000\n",
      "dtype: float64\n"
     ]
    }
   ],
   "source": [
    "# Ajustar o modelo Elastic Net para inspecionar os coeficientes\n",
    "elastic_net.fit(X_train, y_train)\n",
    "elastic_net_coef = elastic_net.named_steps['regressor'].coef_\n",
    "\n",
    "elastic_net_coef_series = pd.Series(elastic_net_coef, index=feature_names)\n",
    "elastic_net_coef_sorted = elastic_net_coef_series.reindex(elastic_net_coef_series.abs().sort_values(ascending=False).index)\n",
    "\n",
    "print(\"\\nElastic Net Coefficients:\\n\")\n",
    "print(elastic_net_coef_sorted)"
   ]
  },
  {
   "cell_type": "code",
   "execution_count": 19,
   "id": "b1b91601",
   "metadata": {},
   "outputs": [
    {
     "name": "stdout",
     "output_type": "stream",
     "text": [
      "MSE: 9.507076548120105\n"
     ]
    }
   ],
   "source": [
    "# Avalirar o modelo\n",
    "print(f'MSE: {performance_model(elastic_net, X_test, y_test)}')"
   ]
  },
  {
   "cell_type": "markdown",
   "id": "b7eb179f",
   "metadata": {},
   "source": [
    "---"
   ]
  },
  {
   "cell_type": "markdown",
   "id": "85835e4d",
   "metadata": {},
   "source": [
    "# <font size=8> Classifiers"
   ]
  },
  {
   "cell_type": "markdown",
   "id": "8101e2b3",
   "metadata": {},
   "source": [
    "# Imports"
   ]
  },
  {
   "cell_type": "code",
   "execution_count": 23,
   "id": "a00f94ac",
   "metadata": {},
   "outputs": [],
   "source": [
    "# Imports\n",
    "from sklearn.linear_model import LogisticRegression"
   ]
  },
  {
   "cell_type": "markdown",
   "id": "e1882d51",
   "metadata": {},
   "source": [
    "# Load Data"
   ]
  },
  {
   "cell_type": "code",
   "execution_count": 24,
   "id": "d840711d",
   "metadata": {},
   "outputs": [],
   "source": [
    "# load\n",
    "df = pd.read_csv('data/fruit_quality.csv')"
   ]
  },
  {
   "cell_type": "code",
   "execution_count": 25,
   "id": "9122c9bc",
   "metadata": {},
   "outputs": [
    {
     "data": {
      "text/html": [
       "<div>\n",
       "<style scoped>\n",
       "    .dataframe tbody tr th:only-of-type {\n",
       "        vertical-align: middle;\n",
       "    }\n",
       "\n",
       "    .dataframe tbody tr th {\n",
       "        vertical-align: top;\n",
       "    }\n",
       "\n",
       "    .dataframe thead th {\n",
       "        text-align: right;\n",
       "    }\n",
       "</style>\n",
       "<table border=\"1\" class=\"dataframe\">\n",
       "  <thead>\n",
       "    <tr style=\"text-align: right;\">\n",
       "      <th></th>\n",
       "      <th>A_id</th>\n",
       "      <th>Size</th>\n",
       "      <th>Weight</th>\n",
       "      <th>Sweetness</th>\n",
       "      <th>Crunchiness</th>\n",
       "      <th>Juiciness</th>\n",
       "      <th>Ripeness</th>\n",
       "      <th>Acidity</th>\n",
       "      <th>Quality</th>\n",
       "    </tr>\n",
       "  </thead>\n",
       "  <tbody>\n",
       "    <tr>\n",
       "      <th>0</th>\n",
       "      <td>0</td>\n",
       "      <td>-3.970049</td>\n",
       "      <td>-2.512336</td>\n",
       "      <td>5.346330</td>\n",
       "      <td>-1.012009</td>\n",
       "      <td>1.844900</td>\n",
       "      <td>0.329840</td>\n",
       "      <td>-0.491590</td>\n",
       "      <td>good</td>\n",
       "    </tr>\n",
       "    <tr>\n",
       "      <th>1</th>\n",
       "      <td>1</td>\n",
       "      <td>-1.195217</td>\n",
       "      <td>-2.839257</td>\n",
       "      <td>3.664059</td>\n",
       "      <td>1.588232</td>\n",
       "      <td>0.853286</td>\n",
       "      <td>0.867530</td>\n",
       "      <td>-0.722809</td>\n",
       "      <td>good</td>\n",
       "    </tr>\n",
       "    <tr>\n",
       "      <th>2</th>\n",
       "      <td>2</td>\n",
       "      <td>-0.292024</td>\n",
       "      <td>-1.351282</td>\n",
       "      <td>-1.738429</td>\n",
       "      <td>-0.342616</td>\n",
       "      <td>2.838636</td>\n",
       "      <td>-0.038033</td>\n",
       "      <td>2.621636</td>\n",
       "      <td>bad</td>\n",
       "    </tr>\n",
       "    <tr>\n",
       "      <th>3</th>\n",
       "      <td>3</td>\n",
       "      <td>-0.657196</td>\n",
       "      <td>-2.271627</td>\n",
       "      <td>1.324874</td>\n",
       "      <td>-0.097875</td>\n",
       "      <td>3.637970</td>\n",
       "      <td>-3.413761</td>\n",
       "      <td>0.790723</td>\n",
       "      <td>good</td>\n",
       "    </tr>\n",
       "    <tr>\n",
       "      <th>4</th>\n",
       "      <td>4</td>\n",
       "      <td>1.364217</td>\n",
       "      <td>-1.296612</td>\n",
       "      <td>-0.384658</td>\n",
       "      <td>-0.553006</td>\n",
       "      <td>3.030874</td>\n",
       "      <td>-1.303849</td>\n",
       "      <td>0.501984</td>\n",
       "      <td>good</td>\n",
       "    </tr>\n",
       "    <tr>\n",
       "      <th>...</th>\n",
       "      <td>...</td>\n",
       "      <td>...</td>\n",
       "      <td>...</td>\n",
       "      <td>...</td>\n",
       "      <td>...</td>\n",
       "      <td>...</td>\n",
       "      <td>...</td>\n",
       "      <td>...</td>\n",
       "      <td>...</td>\n",
       "    </tr>\n",
       "    <tr>\n",
       "      <th>3995</th>\n",
       "      <td>3995</td>\n",
       "      <td>0.059386</td>\n",
       "      <td>-1.067408</td>\n",
       "      <td>-3.714549</td>\n",
       "      <td>0.473052</td>\n",
       "      <td>1.697986</td>\n",
       "      <td>2.244055</td>\n",
       "      <td>0.137784</td>\n",
       "      <td>bad</td>\n",
       "    </tr>\n",
       "    <tr>\n",
       "      <th>3996</th>\n",
       "      <td>3996</td>\n",
       "      <td>-0.293118</td>\n",
       "      <td>1.949253</td>\n",
       "      <td>-0.204020</td>\n",
       "      <td>-0.640196</td>\n",
       "      <td>0.024523</td>\n",
       "      <td>-1.087900</td>\n",
       "      <td>1.854235</td>\n",
       "      <td>good</td>\n",
       "    </tr>\n",
       "    <tr>\n",
       "      <th>3997</th>\n",
       "      <td>3997</td>\n",
       "      <td>-2.634515</td>\n",
       "      <td>-2.138247</td>\n",
       "      <td>-2.440461</td>\n",
       "      <td>0.657223</td>\n",
       "      <td>2.199709</td>\n",
       "      <td>4.763859</td>\n",
       "      <td>-1.334611</td>\n",
       "      <td>bad</td>\n",
       "    </tr>\n",
       "    <tr>\n",
       "      <th>3998</th>\n",
       "      <td>3998</td>\n",
       "      <td>-4.008004</td>\n",
       "      <td>-1.779337</td>\n",
       "      <td>2.366397</td>\n",
       "      <td>-0.200329</td>\n",
       "      <td>2.161435</td>\n",
       "      <td>0.214488</td>\n",
       "      <td>-2.229720</td>\n",
       "      <td>good</td>\n",
       "    </tr>\n",
       "    <tr>\n",
       "      <th>3999</th>\n",
       "      <td>3999</td>\n",
       "      <td>0.278540</td>\n",
       "      <td>-1.715505</td>\n",
       "      <td>0.121217</td>\n",
       "      <td>-1.154075</td>\n",
       "      <td>1.266677</td>\n",
       "      <td>-0.776571</td>\n",
       "      <td>1.599796</td>\n",
       "      <td>good</td>\n",
       "    </tr>\n",
       "  </tbody>\n",
       "</table>\n",
       "<p>4000 rows × 9 columns</p>\n",
       "</div>"
      ],
      "text/plain": [
       "      A_id      Size    Weight  Sweetness  Crunchiness  Juiciness  Ripeness  \\\n",
       "0        0 -3.970049 -2.512336   5.346330    -1.012009   1.844900  0.329840   \n",
       "1        1 -1.195217 -2.839257   3.664059     1.588232   0.853286  0.867530   \n",
       "2        2 -0.292024 -1.351282  -1.738429    -0.342616   2.838636 -0.038033   \n",
       "3        3 -0.657196 -2.271627   1.324874    -0.097875   3.637970 -3.413761   \n",
       "4        4  1.364217 -1.296612  -0.384658    -0.553006   3.030874 -1.303849   \n",
       "...    ...       ...       ...        ...          ...        ...       ...   \n",
       "3995  3995  0.059386 -1.067408  -3.714549     0.473052   1.697986  2.244055   \n",
       "3996  3996 -0.293118  1.949253  -0.204020    -0.640196   0.024523 -1.087900   \n",
       "3997  3997 -2.634515 -2.138247  -2.440461     0.657223   2.199709  4.763859   \n",
       "3998  3998 -4.008004 -1.779337   2.366397    -0.200329   2.161435  0.214488   \n",
       "3999  3999  0.278540 -1.715505   0.121217    -1.154075   1.266677 -0.776571   \n",
       "\n",
       "       Acidity Quality  \n",
       "0    -0.491590    good  \n",
       "1    -0.722809    good  \n",
       "2     2.621636     bad  \n",
       "3     0.790723    good  \n",
       "4     0.501984    good  \n",
       "...        ...     ...  \n",
       "3995  0.137784     bad  \n",
       "3996  1.854235    good  \n",
       "3997 -1.334611     bad  \n",
       "3998 -2.229720    good  \n",
       "3999  1.599796    good  \n",
       "\n",
       "[4000 rows x 9 columns]"
      ]
     },
     "execution_count": 25,
     "metadata": {},
     "output_type": "execute_result"
    }
   ],
   "source": [
    "# Preview\n",
    "df"
   ]
  },
  {
   "cell_type": "markdown",
   "id": "a01e9ea5",
   "metadata": {},
   "source": [
    "# Processing"
   ]
  },
  {
   "cell_type": "code",
   "execution_count": 26,
   "id": "700ff865",
   "metadata": {},
   "outputs": [],
   "source": [
    "# drop id\n",
    "df.drop(columns='A_id', inplace=True)\n",
    "\n",
    "# rename columns\n",
    "df.columns = [col.lower() for col in df.columns]\n",
    "\n",
    "# replace white spaces\n",
    "df.columns = [col.replace(' ', '_') for col in df.columns]\n",
    "\n",
    "# remove accent\n",
    "df.columns = [remove_acentuacao(col) for col in df.columns]\n",
    "\n",
    "# dropna\n",
    "df.dropna(inplace=True)\n",
    "\n",
    "# Target\n",
    "target = 'quality'\n",
    "df['quality'] = (df['quality'] == 'good').astype(int)"
   ]
  },
  {
   "cell_type": "code",
   "execution_count": 27,
   "id": "225bf47d",
   "metadata": {},
   "outputs": [
    {
     "data": {
      "text/html": [
       "<div>\n",
       "<style scoped>\n",
       "    .dataframe tbody tr th:only-of-type {\n",
       "        vertical-align: middle;\n",
       "    }\n",
       "\n",
       "    .dataframe tbody tr th {\n",
       "        vertical-align: top;\n",
       "    }\n",
       "\n",
       "    .dataframe thead th {\n",
       "        text-align: right;\n",
       "    }\n",
       "</style>\n",
       "<table border=\"1\" class=\"dataframe\">\n",
       "  <thead>\n",
       "    <tr style=\"text-align: right;\">\n",
       "      <th></th>\n",
       "      <th>size</th>\n",
       "      <th>weight</th>\n",
       "      <th>sweetness</th>\n",
       "      <th>crunchiness</th>\n",
       "      <th>juiciness</th>\n",
       "      <th>ripeness</th>\n",
       "      <th>acidity</th>\n",
       "      <th>quality</th>\n",
       "    </tr>\n",
       "  </thead>\n",
       "  <tbody>\n",
       "    <tr>\n",
       "      <th>0</th>\n",
       "      <td>-3.970049</td>\n",
       "      <td>-2.512336</td>\n",
       "      <td>5.346330</td>\n",
       "      <td>-1.012009</td>\n",
       "      <td>1.844900</td>\n",
       "      <td>0.329840</td>\n",
       "      <td>-0.491590</td>\n",
       "      <td>1</td>\n",
       "    </tr>\n",
       "    <tr>\n",
       "      <th>1</th>\n",
       "      <td>-1.195217</td>\n",
       "      <td>-2.839257</td>\n",
       "      <td>3.664059</td>\n",
       "      <td>1.588232</td>\n",
       "      <td>0.853286</td>\n",
       "      <td>0.867530</td>\n",
       "      <td>-0.722809</td>\n",
       "      <td>1</td>\n",
       "    </tr>\n",
       "    <tr>\n",
       "      <th>2</th>\n",
       "      <td>-0.292024</td>\n",
       "      <td>-1.351282</td>\n",
       "      <td>-1.738429</td>\n",
       "      <td>-0.342616</td>\n",
       "      <td>2.838636</td>\n",
       "      <td>-0.038033</td>\n",
       "      <td>2.621636</td>\n",
       "      <td>0</td>\n",
       "    </tr>\n",
       "    <tr>\n",
       "      <th>3</th>\n",
       "      <td>-0.657196</td>\n",
       "      <td>-2.271627</td>\n",
       "      <td>1.324874</td>\n",
       "      <td>-0.097875</td>\n",
       "      <td>3.637970</td>\n",
       "      <td>-3.413761</td>\n",
       "      <td>0.790723</td>\n",
       "      <td>1</td>\n",
       "    </tr>\n",
       "    <tr>\n",
       "      <th>4</th>\n",
       "      <td>1.364217</td>\n",
       "      <td>-1.296612</td>\n",
       "      <td>-0.384658</td>\n",
       "      <td>-0.553006</td>\n",
       "      <td>3.030874</td>\n",
       "      <td>-1.303849</td>\n",
       "      <td>0.501984</td>\n",
       "      <td>1</td>\n",
       "    </tr>\n",
       "    <tr>\n",
       "      <th>...</th>\n",
       "      <td>...</td>\n",
       "      <td>...</td>\n",
       "      <td>...</td>\n",
       "      <td>...</td>\n",
       "      <td>...</td>\n",
       "      <td>...</td>\n",
       "      <td>...</td>\n",
       "      <td>...</td>\n",
       "    </tr>\n",
       "    <tr>\n",
       "      <th>3995</th>\n",
       "      <td>0.059386</td>\n",
       "      <td>-1.067408</td>\n",
       "      <td>-3.714549</td>\n",
       "      <td>0.473052</td>\n",
       "      <td>1.697986</td>\n",
       "      <td>2.244055</td>\n",
       "      <td>0.137784</td>\n",
       "      <td>0</td>\n",
       "    </tr>\n",
       "    <tr>\n",
       "      <th>3996</th>\n",
       "      <td>-0.293118</td>\n",
       "      <td>1.949253</td>\n",
       "      <td>-0.204020</td>\n",
       "      <td>-0.640196</td>\n",
       "      <td>0.024523</td>\n",
       "      <td>-1.087900</td>\n",
       "      <td>1.854235</td>\n",
       "      <td>1</td>\n",
       "    </tr>\n",
       "    <tr>\n",
       "      <th>3997</th>\n",
       "      <td>-2.634515</td>\n",
       "      <td>-2.138247</td>\n",
       "      <td>-2.440461</td>\n",
       "      <td>0.657223</td>\n",
       "      <td>2.199709</td>\n",
       "      <td>4.763859</td>\n",
       "      <td>-1.334611</td>\n",
       "      <td>0</td>\n",
       "    </tr>\n",
       "    <tr>\n",
       "      <th>3998</th>\n",
       "      <td>-4.008004</td>\n",
       "      <td>-1.779337</td>\n",
       "      <td>2.366397</td>\n",
       "      <td>-0.200329</td>\n",
       "      <td>2.161435</td>\n",
       "      <td>0.214488</td>\n",
       "      <td>-2.229720</td>\n",
       "      <td>1</td>\n",
       "    </tr>\n",
       "    <tr>\n",
       "      <th>3999</th>\n",
       "      <td>0.278540</td>\n",
       "      <td>-1.715505</td>\n",
       "      <td>0.121217</td>\n",
       "      <td>-1.154075</td>\n",
       "      <td>1.266677</td>\n",
       "      <td>-0.776571</td>\n",
       "      <td>1.599796</td>\n",
       "      <td>1</td>\n",
       "    </tr>\n",
       "  </tbody>\n",
       "</table>\n",
       "<p>4000 rows × 8 columns</p>\n",
       "</div>"
      ],
      "text/plain": [
       "          size    weight  sweetness  crunchiness  juiciness  ripeness  \\\n",
       "0    -3.970049 -2.512336   5.346330    -1.012009   1.844900  0.329840   \n",
       "1    -1.195217 -2.839257   3.664059     1.588232   0.853286  0.867530   \n",
       "2    -0.292024 -1.351282  -1.738429    -0.342616   2.838636 -0.038033   \n",
       "3    -0.657196 -2.271627   1.324874    -0.097875   3.637970 -3.413761   \n",
       "4     1.364217 -1.296612  -0.384658    -0.553006   3.030874 -1.303849   \n",
       "...        ...       ...        ...          ...        ...       ...   \n",
       "3995  0.059386 -1.067408  -3.714549     0.473052   1.697986  2.244055   \n",
       "3996 -0.293118  1.949253  -0.204020    -0.640196   0.024523 -1.087900   \n",
       "3997 -2.634515 -2.138247  -2.440461     0.657223   2.199709  4.763859   \n",
       "3998 -4.008004 -1.779337   2.366397    -0.200329   2.161435  0.214488   \n",
       "3999  0.278540 -1.715505   0.121217    -1.154075   1.266677 -0.776571   \n",
       "\n",
       "       acidity  quality  \n",
       "0    -0.491590        1  \n",
       "1    -0.722809        1  \n",
       "2     2.621636        0  \n",
       "3     0.790723        1  \n",
       "4     0.501984        1  \n",
       "...        ...      ...  \n",
       "3995  0.137784        0  \n",
       "3996  1.854235        1  \n",
       "3997 -1.334611        0  \n",
       "3998 -2.229720        1  \n",
       "3999  1.599796        1  \n",
       "\n",
       "[4000 rows x 8 columns]"
      ]
     },
     "execution_count": 27,
     "metadata": {},
     "output_type": "execute_result"
    }
   ],
   "source": [
    "# View\n",
    "df"
   ]
  },
  {
   "cell_type": "code",
   "execution_count": 28,
   "id": "d811e0e1",
   "metadata": {},
   "outputs": [],
   "source": [
    "# Separar os dados\n",
    "X = df.drop('quality', axis=1)\n",
    "y = df['quality']\n",
    "\n",
    "# Separar treino e teste\n",
    "X_train, X_test, y_train, y_test = train_test_split(X, y, test_size=0.3, random_state=51)"
   ]
  },
  {
   "cell_type": "markdown",
   "id": "e74b959d",
   "metadata": {},
   "source": [
    "---"
   ]
  },
  {
   "cell_type": "markdown",
   "id": "c35ce7b4",
   "metadata": {},
   "source": [
    "# Models"
   ]
  },
  {
   "cell_type": "code",
   "execution_count": 31,
   "id": "22b44a22",
   "metadata": {},
   "outputs": [],
   "source": [
    "# Features names\n",
    "feature_names = X_train.columns"
   ]
  },
  {
   "cell_type": "code",
   "execution_count": 29,
   "id": "8750b791",
   "metadata": {},
   "outputs": [],
   "source": [
    "# Definir os modelos\n",
    "lasso = create_pipeline(LogisticRegression(penalty='l1', C=0.1, solver='liblinear', random_state=42))\n",
    "ridge = create_pipeline(LogisticRegression(penalty='l2', C=0.1, solver='liblinear', random_state=42))"
   ]
  },
  {
   "cell_type": "code",
   "execution_count": 30,
   "id": "e2480bb7",
   "metadata": {},
   "outputs": [
    {
     "name": "stdout",
     "output_type": "stream",
     "text": [
      "Lasso MSE: 0.2582\n",
      "Ridge MSE: 0.2618\n"
     ]
    }
   ],
   "source": [
    "# Avaliar os modelos usando validação cruzada\n",
    "models = {'Lasso': lasso, 'Ridge': ridge}\n",
    "results = {}\n",
    "\n",
    "for name, model in models.items():\n",
    "    scores = cross_val_score(model, X_train, y_train, cv=5, scoring='neg_mean_squared_error')\n",
    "    results[name] = np.mean(scores)\n",
    "    print(f\"{name} MSE: {-np.mean(scores):.4f}\")"
   ]
  },
  {
   "cell_type": "markdown",
   "id": "1408ed9f",
   "metadata": {},
   "source": [
    "---"
   ]
  },
  {
   "cell_type": "markdown",
   "id": "69fc266e",
   "metadata": {},
   "source": [
    "# Regularização L1 (Lasso)"
   ]
  },
  {
   "cell_type": "markdown",
   "id": "351b8c26",
   "metadata": {},
   "source": [
    "### Características:\n",
    "   * Ênfase na seleção de features. Quanto maior o alpha, maior será a regularizção e mais coeficientes tendem a ser reduzidos a zero.\n",
    "   * Útil para fins de feature selection e para modelos esparsos. Adiciona uma penalidade à função de custo proporcional à soma absoluta dos valores dos pesos.\n",
    "\n",
    "### Vantagens:\n",
    "   * Pode induzir esparsidade nos pesos, levando a modelos mais simples e interpretáveis.\n",
    "   * Útil quando há suspeita de que muitos dos recursos de entrada são irrelevantes.\n",
    "\n",
    "### Desvantagens:\n",
    "   * Pode tornar a otimização mais desafiadora devido a função não possuir uma derivada definida, pois não há inclinação suave."
   ]
  },
  {
   "cell_type": "code",
   "execution_count": 34,
   "id": "47c544c2",
   "metadata": {},
   "outputs": [
    {
     "name": "stdout",
     "output_type": "stream",
     "text": [
      "\n",
      "Lasso Coefficients:\n",
      "\n",
      "size           1.085051\n",
      "sweetness      0.992598\n",
      "juiciness      0.774423\n",
      "acidity       -0.524495\n",
      "weight         0.349329\n",
      "ripeness      -0.233747\n",
      "crunchiness    0.000000\n",
      "dtype: float64\n"
     ]
    }
   ],
   "source": [
    "# Ajustar o modelo Lasso para inspecionar os coeficientes\n",
    "lasso.fit(X_train, y_train)\n",
    "lasso_coef = lasso.named_steps['regressor'].coef_[0]\n",
    "\n",
    "lasso_coef_series = pd.Series(lasso_coef, index=feature_names)\n",
    "lasso_coef_sorted = lasso_coef_series.reindex(lasso_coef_series.abs().sort_values(ascending=False).index)\n",
    "\n",
    "print(\"\\nLasso Coefficients:\\n\")\n",
    "print(lasso_coef_sorted)"
   ]
  },
  {
   "cell_type": "code",
   "execution_count": 35,
   "id": "ace1f388",
   "metadata": {},
   "outputs": [
    {
     "data": {
      "text/plain": [
       "0.47696960070847283"
      ]
     },
     "execution_count": 35,
     "metadata": {},
     "output_type": "execute_result"
    }
   ],
   "source": [
    "# Avalirar o modelo\n",
    "performance_model(lasso, X_test, y_test)"
   ]
  },
  {
   "cell_type": "markdown",
   "id": "d7d6f850",
   "metadata": {},
   "source": [
    "---"
   ]
  },
  {
   "cell_type": "markdown",
   "id": "564aa16e",
   "metadata": {},
   "source": [
    "# Regularização L2 (Ridge)"
   ]
  },
  {
   "cell_type": "markdown",
   "id": "1321e896",
   "metadata": {},
   "source": [
    "### Características:\n",
    "* Ênfase na redução de variância e generalização do modelo (reduz overfitting).\n",
    "* Útil principalmente quando há multicolinearidade. Adiciona uma penalidade à função de custo proporcional à soma dos quadrados dos valores dos pesos.\n",
    "\n",
    "###  Vantagens:\n",
    "* Ajuda a evitar pesos muito grandes, promovendo modelos mais suaves e menos sensíveis a pequenas * variações nos dados (Variância).\n",
    "* Facilita a otimização, pois é diferenciável em todos os lugares.\n",
    "\n",
    "###  Desvantagens:\n",
    "* Não induz esparsidade nos pesos."
   ]
  },
  {
   "cell_type": "code",
   "execution_count": 32,
   "id": "575ca93e",
   "metadata": {},
   "outputs": [
    {
     "name": "stdout",
     "output_type": "stream",
     "text": [
      "\n",
      "Ridge Coefficients:\n",
      "\n",
      "size           1.092517\n",
      "sweetness      0.999361\n",
      "juiciness      0.792077\n",
      "acidity       -0.545598\n",
      "weight         0.365329\n",
      "ripeness      -0.245057\n",
      "crunchiness    0.021616\n",
      "dtype: float64\n"
     ]
    }
   ],
   "source": [
    "# Ajustar o modelo Ridge para inspecionar os coeficientes\n",
    "ridge.fit(X_train, y_train)\n",
    "ridge_coef = ridge.named_steps['regressor'].coef_[0]\n",
    "\n",
    "ridge_coef_series = pd.Series(ridge_coef, index=feature_names)\n",
    "ridge_coef_sorted = ridge_coef_series.reindex(ridge_coef_series.abs().sort_values(ascending=False).index)\n",
    "\n",
    "print(\"\\nRidge Coefficients:\\n\")\n",
    "print(ridge_coef_sorted)"
   ]
  },
  {
   "cell_type": "code",
   "execution_count": 33,
   "id": "fc840e59",
   "metadata": {},
   "outputs": [
    {
     "data": {
      "text/plain": [
       "0.4752192476461084"
      ]
     },
     "execution_count": 33,
     "metadata": {},
     "output_type": "execute_result"
    }
   ],
   "source": [
    "# Avalirar o modelo\n",
    "performance_model(ridge, X_test, y_test)"
   ]
  },
  {
   "cell_type": "markdown",
   "id": "357b961b",
   "metadata": {},
   "source": [
    "---"
   ]
  }
 ],
 "metadata": {
  "kernelspec": {
   "display_name": "Python 3 (ipykernel)",
   "language": "python",
   "name": "python3"
  },
  "language_info": {
   "codemirror_mode": {
    "name": "ipython",
    "version": 3
   },
   "file_extension": ".py",
   "mimetype": "text/x-python",
   "name": "python",
   "nbconvert_exporter": "python",
   "pygments_lexer": "ipython3",
   "version": "3.9.13"
  }
 },
 "nbformat": 4,
 "nbformat_minor": 5
}

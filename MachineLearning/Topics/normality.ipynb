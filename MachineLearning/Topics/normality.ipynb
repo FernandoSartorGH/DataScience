{
 "cells": [
  {
   "cell_type": "markdown",
   "id": "ede20e1a",
   "metadata": {},
   "source": [
    "### "
   ]
  },
  {
   "cell_type": "markdown",
   "id": "d0db793d",
   "metadata": {},
   "source": [
    "# <center> Normality Test and Data Transformations"
   ]
  },
  {
   "cell_type": "markdown",
   "id": "2935c88c",
   "metadata": {},
   "source": [
    "___"
   ]
  },
  {
   "cell_type": "markdown",
   "id": "2ef6485e",
   "metadata": {},
   "source": [
    "The normality of data is one of the central aspects in statistics and consequently in data science. Many algorithms and statistical inferences assume the normality of data, therefore, we must test it and whenever possible apply the necessary transformations to seek normalization of the data.\n",
    "\n",
    "The operations will be performed using scikit-learn, scipy, and numpy."
   ]
  },
  {
   "cell_type": "markdown",
   "id": "a9a83a44",
   "metadata": {},
   "source": [
    "___"
   ]
  },
  {
   "cell_type": "markdown",
   "id": "8380215b",
   "metadata": {},
   "source": [
    "## Imports"
   ]
  },
  {
   "cell_type": "code",
   "execution_count": 1,
   "id": "84e6b53a",
   "metadata": {},
   "outputs": [],
   "source": [
    "# Imports\n",
    "import warnings\n",
    "warnings.filterwarnings('ignore')\n",
    "\n",
    "import numpy as np\n",
    "import pandas as pd\n",
    "\n",
    "from scipy import stats\n",
    "\n",
    "from sklearn.preprocessing import Normalizer\n",
    "from sklearn.preprocessing import MinMaxScaler\n",
    "from sklearn.preprocessing import StandardScaler\n",
    "from sklearn.model_selection import train_test_split\n",
    "\n",
    "import seaborn as sns\n",
    "import matplotlib.pyplot as plt\n",
    "%matplotlib inline"
   ]
  },
  {
   "cell_type": "markdown",
   "id": "5098459d",
   "metadata": {},
   "source": [
    "___"
   ]
  },
  {
   "cell_type": "markdown",
   "id": "1fc8398e",
   "metadata": {},
   "source": [
    "## Data"
   ]
  },
  {
   "cell_type": "code",
   "execution_count": 2,
   "id": "2b6038b2",
   "metadata": {
    "scrolled": false
   },
   "outputs": [],
   "source": [
    "# Load data\n",
    "arquivo = 'dados/datasetalcool.csv'\n",
    "\n",
    "df = pd.read_csv(arquivo, encoding = 'UTF-8')"
   ]
  },
  {
   "cell_type": "code",
   "execution_count": 3,
   "id": "76e7edf7",
   "metadata": {},
   "outputs": [
    {
     "data": {
      "text/html": [
       "<div>\n",
       "<style scoped>\n",
       "    .dataframe tbody tr th:only-of-type {\n",
       "        vertical-align: middle;\n",
       "    }\n",
       "\n",
       "    .dataframe tbody tr th {\n",
       "        vertical-align: top;\n",
       "    }\n",
       "\n",
       "    .dataframe thead th {\n",
       "        text-align: right;\n",
       "    }\n",
       "</style>\n",
       "<table border=\"1\" class=\"dataframe\">\n",
       "  <thead>\n",
       "    <tr style=\"text-align: right;\">\n",
       "      <th></th>\n",
       "      <th>idade</th>\n",
       "      <th>sexo</th>\n",
       "      <th>tot_bilirubin</th>\n",
       "      <th>direct_bilirubin</th>\n",
       "      <th>tot_proteins</th>\n",
       "      <th>albumina</th>\n",
       "      <th>ag_ratio</th>\n",
       "      <th>sgpt</th>\n",
       "      <th>sgot</th>\n",
       "      <th>alkphos</th>\n",
       "      <th>classe</th>\n",
       "    </tr>\n",
       "  </thead>\n",
       "  <tbody>\n",
       "    <tr>\n",
       "      <th>0</th>\n",
       "      <td>65</td>\n",
       "      <td>Mulher</td>\n",
       "      <td>0.7</td>\n",
       "      <td>0.1</td>\n",
       "      <td>187</td>\n",
       "      <td>16</td>\n",
       "      <td>18</td>\n",
       "      <td>6.8</td>\n",
       "      <td>3.3</td>\n",
       "      <td>0.90</td>\n",
       "      <td>1</td>\n",
       "    </tr>\n",
       "    <tr>\n",
       "      <th>1</th>\n",
       "      <td>62</td>\n",
       "      <td>Homem</td>\n",
       "      <td>10.9</td>\n",
       "      <td>5.5</td>\n",
       "      <td>699</td>\n",
       "      <td>64</td>\n",
       "      <td>100</td>\n",
       "      <td>7.5</td>\n",
       "      <td>3.2</td>\n",
       "      <td>0.74</td>\n",
       "      <td>1</td>\n",
       "    </tr>\n",
       "    <tr>\n",
       "      <th>2</th>\n",
       "      <td>62</td>\n",
       "      <td>Homem</td>\n",
       "      <td>7.3</td>\n",
       "      <td>4.1</td>\n",
       "      <td>490</td>\n",
       "      <td>60</td>\n",
       "      <td>68</td>\n",
       "      <td>7.0</td>\n",
       "      <td>3.3</td>\n",
       "      <td>0.89</td>\n",
       "      <td>1</td>\n",
       "    </tr>\n",
       "    <tr>\n",
       "      <th>3</th>\n",
       "      <td>58</td>\n",
       "      <td>Homem</td>\n",
       "      <td>1.0</td>\n",
       "      <td>0.4</td>\n",
       "      <td>182</td>\n",
       "      <td>14</td>\n",
       "      <td>20</td>\n",
       "      <td>6.8</td>\n",
       "      <td>3.4</td>\n",
       "      <td>1.00</td>\n",
       "      <td>1</td>\n",
       "    </tr>\n",
       "    <tr>\n",
       "      <th>4</th>\n",
       "      <td>72</td>\n",
       "      <td>Homem</td>\n",
       "      <td>3.9</td>\n",
       "      <td>2.0</td>\n",
       "      <td>195</td>\n",
       "      <td>27</td>\n",
       "      <td>59</td>\n",
       "      <td>7.3</td>\n",
       "      <td>2.4</td>\n",
       "      <td>0.40</td>\n",
       "      <td>1</td>\n",
       "    </tr>\n",
       "    <tr>\n",
       "      <th>...</th>\n",
       "      <td>...</td>\n",
       "      <td>...</td>\n",
       "      <td>...</td>\n",
       "      <td>...</td>\n",
       "      <td>...</td>\n",
       "      <td>...</td>\n",
       "      <td>...</td>\n",
       "      <td>...</td>\n",
       "      <td>...</td>\n",
       "      <td>...</td>\n",
       "      <td>...</td>\n",
       "    </tr>\n",
       "    <tr>\n",
       "      <th>578</th>\n",
       "      <td>60</td>\n",
       "      <td>Homem</td>\n",
       "      <td>0.5</td>\n",
       "      <td>0.1</td>\n",
       "      <td>500</td>\n",
       "      <td>20</td>\n",
       "      <td>34</td>\n",
       "      <td>5.9</td>\n",
       "      <td>1.6</td>\n",
       "      <td>0.37</td>\n",
       "      <td>2</td>\n",
       "    </tr>\n",
       "    <tr>\n",
       "      <th>579</th>\n",
       "      <td>40</td>\n",
       "      <td>Homem</td>\n",
       "      <td>0.6</td>\n",
       "      <td>0.1</td>\n",
       "      <td>98</td>\n",
       "      <td>35</td>\n",
       "      <td>31</td>\n",
       "      <td>6.0</td>\n",
       "      <td>3.2</td>\n",
       "      <td>1.10</td>\n",
       "      <td>1</td>\n",
       "    </tr>\n",
       "    <tr>\n",
       "      <th>580</th>\n",
       "      <td>52</td>\n",
       "      <td>Homem</td>\n",
       "      <td>0.8</td>\n",
       "      <td>0.2</td>\n",
       "      <td>245</td>\n",
       "      <td>48</td>\n",
       "      <td>49</td>\n",
       "      <td>6.4</td>\n",
       "      <td>3.2</td>\n",
       "      <td>1.00</td>\n",
       "      <td>1</td>\n",
       "    </tr>\n",
       "    <tr>\n",
       "      <th>581</th>\n",
       "      <td>31</td>\n",
       "      <td>Homem</td>\n",
       "      <td>1.3</td>\n",
       "      <td>0.5</td>\n",
       "      <td>184</td>\n",
       "      <td>29</td>\n",
       "      <td>32</td>\n",
       "      <td>6.8</td>\n",
       "      <td>3.4</td>\n",
       "      <td>1.00</td>\n",
       "      <td>1</td>\n",
       "    </tr>\n",
       "    <tr>\n",
       "      <th>582</th>\n",
       "      <td>38</td>\n",
       "      <td>Homem</td>\n",
       "      <td>1.0</td>\n",
       "      <td>0.3</td>\n",
       "      <td>216</td>\n",
       "      <td>21</td>\n",
       "      <td>24</td>\n",
       "      <td>7.3</td>\n",
       "      <td>4.4</td>\n",
       "      <td>1.50</td>\n",
       "      <td>2</td>\n",
       "    </tr>\n",
       "  </tbody>\n",
       "</table>\n",
       "<p>583 rows × 11 columns</p>\n",
       "</div>"
      ],
      "text/plain": [
       "     idade    sexo  tot_bilirubin  direct_bilirubin  tot_proteins  albumina  \\\n",
       "0       65  Mulher            0.7               0.1           187        16   \n",
       "1       62   Homem           10.9               5.5           699        64   \n",
       "2       62   Homem            7.3               4.1           490        60   \n",
       "3       58   Homem            1.0               0.4           182        14   \n",
       "4       72   Homem            3.9               2.0           195        27   \n",
       "..     ...     ...            ...               ...           ...       ...   \n",
       "578     60   Homem            0.5               0.1           500        20   \n",
       "579     40   Homem            0.6               0.1            98        35   \n",
       "580     52   Homem            0.8               0.2           245        48   \n",
       "581     31   Homem            1.3               0.5           184        29   \n",
       "582     38   Homem            1.0               0.3           216        21   \n",
       "\n",
       "     ag_ratio  sgpt  sgot  alkphos  classe  \n",
       "0          18   6.8   3.3     0.90       1  \n",
       "1         100   7.5   3.2     0.74       1  \n",
       "2          68   7.0   3.3     0.89       1  \n",
       "3          20   6.8   3.4     1.00       1  \n",
       "4          59   7.3   2.4     0.40       1  \n",
       "..        ...   ...   ...      ...     ...  \n",
       "578        34   5.9   1.6     0.37       2  \n",
       "579        31   6.0   3.2     1.10       1  \n",
       "580        49   6.4   3.2     1.00       1  \n",
       "581        32   6.8   3.4     1.00       1  \n",
       "582        24   7.3   4.4     1.50       2  \n",
       "\n",
       "[583 rows x 11 columns]"
      ]
     },
     "execution_count": 3,
     "metadata": {},
     "output_type": "execute_result"
    }
   ],
   "source": [
    "# View\n",
    "df"
   ]
  },
  {
   "cell_type": "code",
   "execution_count": 4,
   "id": "96f60529",
   "metadata": {},
   "outputs": [
    {
     "data": {
      "text/html": [
       "<div>\n",
       "<style scoped>\n",
       "    .dataframe tbody tr th:only-of-type {\n",
       "        vertical-align: middle;\n",
       "    }\n",
       "\n",
       "    .dataframe tbody tr th {\n",
       "        vertical-align: top;\n",
       "    }\n",
       "\n",
       "    .dataframe thead th {\n",
       "        text-align: right;\n",
       "    }\n",
       "</style>\n",
       "<table border=\"1\" class=\"dataframe\">\n",
       "  <thead>\n",
       "    <tr style=\"text-align: right;\">\n",
       "      <th></th>\n",
       "      <th>idade</th>\n",
       "      <th>tot_bilirubin</th>\n",
       "      <th>direct_bilirubin</th>\n",
       "      <th>tot_proteins</th>\n",
       "      <th>albumina</th>\n",
       "      <th>ag_ratio</th>\n",
       "      <th>sgpt</th>\n",
       "      <th>sgot</th>\n",
       "      <th>alkphos</th>\n",
       "    </tr>\n",
       "  </thead>\n",
       "  <tbody>\n",
       "    <tr>\n",
       "      <th>0</th>\n",
       "      <td>65</td>\n",
       "      <td>0.7</td>\n",
       "      <td>0.1</td>\n",
       "      <td>187</td>\n",
       "      <td>16</td>\n",
       "      <td>18</td>\n",
       "      <td>6.8</td>\n",
       "      <td>3.3</td>\n",
       "      <td>0.90</td>\n",
       "    </tr>\n",
       "    <tr>\n",
       "      <th>1</th>\n",
       "      <td>62</td>\n",
       "      <td>10.9</td>\n",
       "      <td>5.5</td>\n",
       "      <td>699</td>\n",
       "      <td>64</td>\n",
       "      <td>100</td>\n",
       "      <td>7.5</td>\n",
       "      <td>3.2</td>\n",
       "      <td>0.74</td>\n",
       "    </tr>\n",
       "    <tr>\n",
       "      <th>2</th>\n",
       "      <td>62</td>\n",
       "      <td>7.3</td>\n",
       "      <td>4.1</td>\n",
       "      <td>490</td>\n",
       "      <td>60</td>\n",
       "      <td>68</td>\n",
       "      <td>7.0</td>\n",
       "      <td>3.3</td>\n",
       "      <td>0.89</td>\n",
       "    </tr>\n",
       "    <tr>\n",
       "      <th>3</th>\n",
       "      <td>58</td>\n",
       "      <td>1.0</td>\n",
       "      <td>0.4</td>\n",
       "      <td>182</td>\n",
       "      <td>14</td>\n",
       "      <td>20</td>\n",
       "      <td>6.8</td>\n",
       "      <td>3.4</td>\n",
       "      <td>1.00</td>\n",
       "    </tr>\n",
       "    <tr>\n",
       "      <th>4</th>\n",
       "      <td>72</td>\n",
       "      <td>3.9</td>\n",
       "      <td>2.0</td>\n",
       "      <td>195</td>\n",
       "      <td>27</td>\n",
       "      <td>59</td>\n",
       "      <td>7.3</td>\n",
       "      <td>2.4</td>\n",
       "      <td>0.40</td>\n",
       "    </tr>\n",
       "    <tr>\n",
       "      <th>...</th>\n",
       "      <td>...</td>\n",
       "      <td>...</td>\n",
       "      <td>...</td>\n",
       "      <td>...</td>\n",
       "      <td>...</td>\n",
       "      <td>...</td>\n",
       "      <td>...</td>\n",
       "      <td>...</td>\n",
       "      <td>...</td>\n",
       "    </tr>\n",
       "    <tr>\n",
       "      <th>578</th>\n",
       "      <td>60</td>\n",
       "      <td>0.5</td>\n",
       "      <td>0.1</td>\n",
       "      <td>500</td>\n",
       "      <td>20</td>\n",
       "      <td>34</td>\n",
       "      <td>5.9</td>\n",
       "      <td>1.6</td>\n",
       "      <td>0.37</td>\n",
       "    </tr>\n",
       "    <tr>\n",
       "      <th>579</th>\n",
       "      <td>40</td>\n",
       "      <td>0.6</td>\n",
       "      <td>0.1</td>\n",
       "      <td>98</td>\n",
       "      <td>35</td>\n",
       "      <td>31</td>\n",
       "      <td>6.0</td>\n",
       "      <td>3.2</td>\n",
       "      <td>1.10</td>\n",
       "    </tr>\n",
       "    <tr>\n",
       "      <th>580</th>\n",
       "      <td>52</td>\n",
       "      <td>0.8</td>\n",
       "      <td>0.2</td>\n",
       "      <td>245</td>\n",
       "      <td>48</td>\n",
       "      <td>49</td>\n",
       "      <td>6.4</td>\n",
       "      <td>3.2</td>\n",
       "      <td>1.00</td>\n",
       "    </tr>\n",
       "    <tr>\n",
       "      <th>581</th>\n",
       "      <td>31</td>\n",
       "      <td>1.3</td>\n",
       "      <td>0.5</td>\n",
       "      <td>184</td>\n",
       "      <td>29</td>\n",
       "      <td>32</td>\n",
       "      <td>6.8</td>\n",
       "      <td>3.4</td>\n",
       "      <td>1.00</td>\n",
       "    </tr>\n",
       "    <tr>\n",
       "      <th>582</th>\n",
       "      <td>38</td>\n",
       "      <td>1.0</td>\n",
       "      <td>0.3</td>\n",
       "      <td>216</td>\n",
       "      <td>21</td>\n",
       "      <td>24</td>\n",
       "      <td>7.3</td>\n",
       "      <td>4.4</td>\n",
       "      <td>1.50</td>\n",
       "    </tr>\n",
       "  </tbody>\n",
       "</table>\n",
       "<p>583 rows × 9 columns</p>\n",
       "</div>"
      ],
      "text/plain": [
       "     idade  tot_bilirubin  direct_bilirubin  tot_proteins  albumina  ag_ratio  \\\n",
       "0       65            0.7               0.1           187        16        18   \n",
       "1       62           10.9               5.5           699        64       100   \n",
       "2       62            7.3               4.1           490        60        68   \n",
       "3       58            1.0               0.4           182        14        20   \n",
       "4       72            3.9               2.0           195        27        59   \n",
       "..     ...            ...               ...           ...       ...       ...   \n",
       "578     60            0.5               0.1           500        20        34   \n",
       "579     40            0.6               0.1            98        35        31   \n",
       "580     52            0.8               0.2           245        48        49   \n",
       "581     31            1.3               0.5           184        29        32   \n",
       "582     38            1.0               0.3           216        21        24   \n",
       "\n",
       "     sgpt  sgot  alkphos  \n",
       "0     6.8   3.3     0.90  \n",
       "1     7.5   3.2     0.74  \n",
       "2     7.0   3.3     0.89  \n",
       "3     6.8   3.4     1.00  \n",
       "4     7.3   2.4     0.40  \n",
       "..    ...   ...      ...  \n",
       "578   5.9   1.6     0.37  \n",
       "579   6.0   3.2     1.10  \n",
       "580   6.4   3.2     1.00  \n",
       "581   6.8   3.4     1.00  \n",
       "582   7.3   4.4     1.50  \n",
       "\n",
       "[583 rows x 9 columns]"
      ]
     },
     "execution_count": 4,
     "metadata": {},
     "output_type": "execute_result"
    }
   ],
   "source": [
    "# Numeric features\n",
    "dataset = df[['idade', 'tot_bilirubin', 'direct_bilirubin', 'tot_proteins', 'albumina', 'ag_ratio', 'sgpt', 'sgot', 'alkphos']]\n",
    "\n",
    "# View\n",
    "dataset"
   ]
  },
  {
   "cell_type": "markdown",
   "id": "5b427b5c",
   "metadata": {},
   "source": [
    "___"
   ]
  },
  {
   "cell_type": "markdown",
   "id": "9ce28f49",
   "metadata": {},
   "source": [
    "# EDA"
   ]
  },
  {
   "cell_type": "markdown",
   "id": "8f2a9a7e",
   "metadata": {},
   "source": [
    "A brief exploration and treatment of the data."
   ]
  },
  {
   "cell_type": "code",
   "execution_count": 5,
   "id": "c960e2fe",
   "metadata": {},
   "outputs": [
    {
     "data": {
      "text/plain": [
       "(583, 9)"
      ]
     },
     "execution_count": 5,
     "metadata": {},
     "output_type": "execute_result"
    }
   ],
   "source": [
    "# shape\n",
    "dataset.shape"
   ]
  },
  {
   "cell_type": "code",
   "execution_count": 6,
   "id": "66625ae3",
   "metadata": {},
   "outputs": [
    {
     "data": {
      "text/plain": [
       "True"
      ]
     },
     "execution_count": 6,
     "metadata": {},
     "output_type": "execute_result"
    }
   ],
   "source": [
    "# Checkin missing values\n",
    "dataset.isna().values.any()"
   ]
  },
  {
   "cell_type": "code",
   "execution_count": 7,
   "id": "2abdb733",
   "metadata": {},
   "outputs": [
    {
     "data": {
      "text/plain": [
       "idade               0\n",
       "tot_bilirubin       0\n",
       "direct_bilirubin    0\n",
       "tot_proteins        0\n",
       "albumina            0\n",
       "ag_ratio            0\n",
       "sgpt                0\n",
       "sgot                0\n",
       "alkphos             4\n",
       "dtype: int64"
      ]
     },
     "execution_count": 7,
     "metadata": {},
     "output_type": "execute_result"
    }
   ],
   "source": [
    "# view na\n",
    "dataset.isna().sum()"
   ]
  },
  {
   "cell_type": "code",
   "execution_count": 8,
   "id": "a916937c",
   "metadata": {},
   "outputs": [
    {
     "data": {
      "text/plain": [
       "False"
      ]
     },
     "execution_count": 8,
     "metadata": {},
     "output_type": "execute_result"
    }
   ],
   "source": [
    "# Drop na\n",
    "dataset.dropna(inplace = True)\n",
    "\n",
    "# Double check missing values\n",
    "dataset.isna().values.any()"
   ]
  },
  {
   "cell_type": "code",
   "execution_count": 9,
   "id": "5ea7e569",
   "metadata": {},
   "outputs": [
    {
     "data": {
      "text/plain": [
       "idade                 int64\n",
       "tot_bilirubin       float64\n",
       "direct_bilirubin    float64\n",
       "tot_proteins          int64\n",
       "albumina              int64\n",
       "ag_ratio              int64\n",
       "sgpt                float64\n",
       "sgot                float64\n",
       "alkphos             float64\n",
       "dtype: object"
      ]
     },
     "execution_count": 9,
     "metadata": {},
     "output_type": "execute_result"
    }
   ],
   "source": [
    "# Data format\n",
    "dataset.dtypes"
   ]
  },
  {
   "cell_type": "markdown",
   "id": "9acb9577",
   "metadata": {},
   "source": [
    "___"
   ]
  },
  {
   "cell_type": "markdown",
   "id": "faa24b99",
   "metadata": {},
   "source": [
    "# Testing Normality"
   ]
  },
  {
   "cell_type": "markdown",
   "id": "8b7944cb",
   "metadata": {},
   "source": [
    "> ### Statistical test"
   ]
  },
  {
   "cell_type": "markdown",
   "id": "5505689e",
   "metadata": {},
   "source": [
    "**Hypotheses:**\n",
    "\n",
    "    * Null hypothesis: The data follows a normal distribution - p > alpha\n",
    "    * Alternative hypothesis: The data does not follow a normal distribution - p < alpha."
   ]
  },
  {
   "cell_type": "code",
   "execution_count": 10,
   "id": "4cb19d84",
   "metadata": {},
   "outputs": [],
   "source": [
    "# test\n",
    "def normalTest(alpha, dataset):\n",
    "    alpha = alpha\n",
    "    names = []\n",
    "    test = []\n",
    "    p_value = []\n",
    "    \n",
    "    # Null hypothesis: The data follows a normal distribution - p > alpha\n",
    "    # Alternative hypothesis: The data does not follow a normal distribution - p < alpha.\n",
    "    \n",
    "    for col in dataset.columns:\n",
    "        k2, p = stats.normaltest(dataset[col])\n",
    "        names.append(col)\n",
    "        test.append('The Null Hypothesis can be rejected.' if p < alpha else 'The Null Hypothesis cannot be rejected.')\n",
    "        p_value.append(p.round(4))\n",
    "        \n",
    "    return pd.DataFrame({'Name': names,\n",
    "                         'Test': test,\n",
    "                         'p-value': p_value})"
   ]
  },
  {
   "cell_type": "code",
   "execution_count": 11,
   "id": "1bcb1ea8",
   "metadata": {},
   "outputs": [
    {
     "data": {
      "text/html": [
       "<div>\n",
       "<style scoped>\n",
       "    .dataframe tbody tr th:only-of-type {\n",
       "        vertical-align: middle;\n",
       "    }\n",
       "\n",
       "    .dataframe tbody tr th {\n",
       "        vertical-align: top;\n",
       "    }\n",
       "\n",
       "    .dataframe thead th {\n",
       "        text-align: right;\n",
       "    }\n",
       "</style>\n",
       "<table border=\"1\" class=\"dataframe\">\n",
       "  <thead>\n",
       "    <tr style=\"text-align: right;\">\n",
       "      <th></th>\n",
       "      <th>Name</th>\n",
       "      <th>Test</th>\n",
       "      <th>p-value</th>\n",
       "    </tr>\n",
       "  </thead>\n",
       "  <tbody>\n",
       "    <tr>\n",
       "      <th>0</th>\n",
       "      <td>idade</td>\n",
       "      <td>The Null Hypothesis can be rejected.</td>\n",
       "      <td>0.0005</td>\n",
       "    </tr>\n",
       "    <tr>\n",
       "      <th>1</th>\n",
       "      <td>tot_bilirubin</td>\n",
       "      <td>The Null Hypothesis can be rejected.</td>\n",
       "      <td>0.0000</td>\n",
       "    </tr>\n",
       "    <tr>\n",
       "      <th>2</th>\n",
       "      <td>direct_bilirubin</td>\n",
       "      <td>The Null Hypothesis can be rejected.</td>\n",
       "      <td>0.0000</td>\n",
       "    </tr>\n",
       "    <tr>\n",
       "      <th>3</th>\n",
       "      <td>tot_proteins</td>\n",
       "      <td>The Null Hypothesis can be rejected.</td>\n",
       "      <td>0.0000</td>\n",
       "    </tr>\n",
       "    <tr>\n",
       "      <th>4</th>\n",
       "      <td>albumina</td>\n",
       "      <td>The Null Hypothesis can be rejected.</td>\n",
       "      <td>0.0000</td>\n",
       "    </tr>\n",
       "    <tr>\n",
       "      <th>5</th>\n",
       "      <td>ag_ratio</td>\n",
       "      <td>The Null Hypothesis can be rejected.</td>\n",
       "      <td>0.0000</td>\n",
       "    </tr>\n",
       "    <tr>\n",
       "      <th>6</th>\n",
       "      <td>sgpt</td>\n",
       "      <td>The Null Hypothesis can be rejected.</td>\n",
       "      <td>0.0088</td>\n",
       "    </tr>\n",
       "    <tr>\n",
       "      <th>7</th>\n",
       "      <td>sgot</td>\n",
       "      <td>The Null Hypothesis cannot be rejected.</td>\n",
       "      <td>0.0589</td>\n",
       "    </tr>\n",
       "    <tr>\n",
       "      <th>8</th>\n",
       "      <td>alkphos</td>\n",
       "      <td>The Null Hypothesis can be rejected.</td>\n",
       "      <td>0.0000</td>\n",
       "    </tr>\n",
       "  </tbody>\n",
       "</table>\n",
       "</div>"
      ],
      "text/plain": [
       "               Name                                     Test  p-value\n",
       "0             idade     The Null Hypothesis can be rejected.   0.0005\n",
       "1     tot_bilirubin     The Null Hypothesis can be rejected.   0.0000\n",
       "2  direct_bilirubin     The Null Hypothesis can be rejected.   0.0000\n",
       "3      tot_proteins     The Null Hypothesis can be rejected.   0.0000\n",
       "4          albumina     The Null Hypothesis can be rejected.   0.0000\n",
       "5          ag_ratio     The Null Hypothesis can be rejected.   0.0000\n",
       "6              sgpt     The Null Hypothesis can be rejected.   0.0088\n",
       "7              sgot  The Null Hypothesis cannot be rejected.   0.0589\n",
       "8           alkphos     The Null Hypothesis can be rejected.   0.0000"
      ]
     },
     "execution_count": 11,
     "metadata": {},
     "output_type": "execute_result"
    }
   ],
   "source": [
    "normalTest(0.05 , dataset)"
   ]
  },
  {
   "cell_type": "markdown",
   "id": "cd50ea6e",
   "metadata": {},
   "source": [
    "> ### Visual test"
   ]
  },
  {
   "cell_type": "code",
   "execution_count": 12,
   "id": "b7d0a790",
   "metadata": {},
   "outputs": [
    {
     "data": {
      "image/png": "[encoded data removed]",
      "text/plain": [
       "<Figure size 936x576 with 9 Axes>"
      ]
     },
     "metadata": {
      "needs_background": "light"
     },
     "output_type": "display_data"
    }
   ],
   "source": [
    "# Density Plot \n",
    "dataset.hist(grid = False, layout = (3,3), figsize = (13, 8), density = True, color = 'steelblue', alpha=0.7, ec = 'white')\n",
    "\n",
    "plt.tight_layout()\n",
    "plt.show()"
   ]
  },
  {
   "cell_type": "code",
   "execution_count": 13,
   "id": "227fae93",
   "metadata": {},
   "outputs": [
    {
     "data": {
      "image/png": "[encoded data removed]",
      "text/plain": [
       "<Figure size 864x504 with 9 Axes>"
      ]
     },
     "metadata": {
      "needs_background": "light"
     },
     "output_type": "display_data"
    }
   ],
   "source": [
    "# Density Plot \n",
    "dataset.plot(kind = 'density', subplots = True, layout = (3,3), sharex = False, figsize = (12,7))\n",
    "\n",
    "plt.tight_layout()\n",
    "plt.show()"
   ]
  },
  {
   "cell_type": "code",
   "execution_count": 14,
   "id": "b52989d3",
   "metadata": {},
   "outputs": [
    {
     "data": {
      "image/png": "[encoded data removed]",
      "text/plain": [
       "<Figure size 864x504 with 9 Axes>"
      ]
     },
     "metadata": {
      "needs_background": "light"
     },
     "output_type": "display_data"
    }
   ],
   "source": [
    "# Box Plots\n",
    "dataset.plot(kind = 'box', subplots = True, layout = (3,3), sharex = False, sharey = False, figsize = (12,7))\n",
    "\n",
    "plt.tight_layout()\n",
    "plt.show()"
   ]
  },
  {
   "cell_type": "markdown",
   "id": "ef078da9",
   "metadata": {},
   "source": [
    "___"
   ]
  },
  {
   "cell_type": "markdown",
   "id": "a30c6e24",
   "metadata": {},
   "source": [
    "# Transformations and testing"
   ]
  },
  {
   "cell_type": "markdown",
   "id": "8d720f7e",
   "metadata": {},
   "source": [
    "Firstly, we will apply transformations only to the tot_proteins variable and test the normality in each case. Later, we will repeat the procedure on the entire dataset."
   ]
  },
  {
   "cell_type": "code",
   "execution_count": 15,
   "id": "10c77af5",
   "metadata": {},
   "outputs": [],
   "source": [
    "# set datasets\n",
    "normal_df = dataset[['tot_proteins']]"
   ]
  },
  {
   "cell_type": "markdown",
   "id": "25314695",
   "metadata": {},
   "source": [
    "### Normalization  - Method 1"
   ]
  },
  {
   "cell_type": "code",
   "execution_count": 16,
   "id": "9f96f869",
   "metadata": {},
   "outputs": [],
   "source": [
    "# Scaling data to same scale between 0 and 1.\n",
    "from sklearn.preprocessing import MinMaxScaler\n",
    "\n",
    "# Scaling\n",
    "scaler = MinMaxScaler(feature_range = (0, 1))\n",
    "rescaled = scaler.fit_transform(normal_df)\n",
    "\n",
    "# Create new dataframe\n",
    "rescaled_df = pd.DataFrame(rescaled, columns = ['rescaled'])"
   ]
  },
  {
   "cell_type": "markdown",
   "id": "6152c7e4",
   "metadata": {},
   "source": [
    "### Normalization - Methd 2"
   ]
  },
  {
   "cell_type": "code",
   "execution_count": 17,
   "id": "27d65310",
   "metadata": {},
   "outputs": [],
   "source": [
    "# Scaling data to length equal to 1\n",
    "from sklearn.preprocessing import Normalizer\n",
    "\n",
    "# Scaling\n",
    "scaler = Normalizer(norm = 'l2').fit(normal_df)\n",
    "normalized = scaler.transform(normal_df)\n",
    "\n",
    "# Create new dataframe\n",
    "normalized_df = pd.DataFrame(normalized, columns = ['normalized'])"
   ]
  },
  {
   "cell_type": "markdown",
   "id": "00f1cf3c",
   "metadata": {},
   "source": [
    "### Standardization"
   ]
  },
  {
   "cell_type": "code",
   "execution_count": 18,
   "id": "85b99806",
   "metadata": {},
   "outputs": [],
   "source": [
    "# Mean 0 and standard deviation 1 \n",
    "from sklearn.preprocessing import StandardScaler\n",
    "\n",
    "# Scaling\n",
    "scaler = StandardScaler().fit(normal_df)\n",
    "standard = scaler.transform(normal_df)\n",
    "\n",
    "# Create new dataframe\n",
    "standard_df = pd.DataFrame(standard, columns = ['standard'])"
   ]
  },
  {
   "cell_type": "code",
   "execution_count": 19,
   "id": "309c718c",
   "metadata": {},
   "outputs": [
    {
     "data": {
      "text/html": [
       "<div>\n",
       "<style scoped>\n",
       "    .dataframe tbody tr th:only-of-type {\n",
       "        vertical-align: middle;\n",
       "    }\n",
       "\n",
       "    .dataframe tbody tr th {\n",
       "        vertical-align: top;\n",
       "    }\n",
       "\n",
       "    .dataframe thead th {\n",
       "        text-align: right;\n",
       "    }\n",
       "</style>\n",
       "<table border=\"1\" class=\"dataframe\">\n",
       "  <thead>\n",
       "    <tr style=\"text-align: right;\">\n",
       "      <th></th>\n",
       "      <th>tot_proteins</th>\n",
       "      <th>rescaled</th>\n",
       "      <th>normalized</th>\n",
       "      <th>standard</th>\n",
       "    </tr>\n",
       "  </thead>\n",
       "  <tbody>\n",
       "    <tr>\n",
       "      <th>0</th>\n",
       "      <td>187.0</td>\n",
       "      <td>0.060576</td>\n",
       "      <td>1.0</td>\n",
       "      <td>-0.428870</td>\n",
       "    </tr>\n",
       "    <tr>\n",
       "      <th>1</th>\n",
       "      <td>699.0</td>\n",
       "      <td>0.310699</td>\n",
       "      <td>1.0</td>\n",
       "      <td>1.675083</td>\n",
       "    </tr>\n",
       "    <tr>\n",
       "      <th>2</th>\n",
       "      <td>490.0</td>\n",
       "      <td>0.208598</td>\n",
       "      <td>1.0</td>\n",
       "      <td>0.816243</td>\n",
       "    </tr>\n",
       "    <tr>\n",
       "      <th>3</th>\n",
       "      <td>182.0</td>\n",
       "      <td>0.058134</td>\n",
       "      <td>1.0</td>\n",
       "      <td>-0.449416</td>\n",
       "    </tr>\n",
       "    <tr>\n",
       "      <th>4</th>\n",
       "      <td>195.0</td>\n",
       "      <td>0.064485</td>\n",
       "      <td>1.0</td>\n",
       "      <td>-0.395996</td>\n",
       "    </tr>\n",
       "    <tr>\n",
       "      <th>...</th>\n",
       "      <td>...</td>\n",
       "      <td>...</td>\n",
       "      <td>...</td>\n",
       "      <td>...</td>\n",
       "    </tr>\n",
       "    <tr>\n",
       "      <th>570</th>\n",
       "      <td>515.0</td>\n",
       "      <td>0.213483</td>\n",
       "      <td>1.0</td>\n",
       "      <td>0.857336</td>\n",
       "    </tr>\n",
       "    <tr>\n",
       "      <th>571</th>\n",
       "      <td>560.0</td>\n",
       "      <td>0.017098</td>\n",
       "      <td>1.0</td>\n",
       "      <td>-0.794596</td>\n",
       "    </tr>\n",
       "    <tr>\n",
       "      <th>572</th>\n",
       "      <td>289.0</td>\n",
       "      <td>0.088911</td>\n",
       "      <td>1.0</td>\n",
       "      <td>-0.190532</td>\n",
       "    </tr>\n",
       "    <tr>\n",
       "      <th>573</th>\n",
       "      <td>190.0</td>\n",
       "      <td>0.059111</td>\n",
       "      <td>1.0</td>\n",
       "      <td>-0.441198</td>\n",
       "    </tr>\n",
       "    <tr>\n",
       "      <th>574</th>\n",
       "      <td>500.0</td>\n",
       "      <td>0.074744</td>\n",
       "      <td>1.0</td>\n",
       "      <td>-0.309701</td>\n",
       "    </tr>\n",
       "  </tbody>\n",
       "</table>\n",
       "<p>575 rows × 4 columns</p>\n",
       "</div>"
      ],
      "text/plain": [
       "     tot_proteins  rescaled  normalized  standard\n",
       "0           187.0  0.060576         1.0 -0.428870\n",
       "1           699.0  0.310699         1.0  1.675083\n",
       "2           490.0  0.208598         1.0  0.816243\n",
       "3           182.0  0.058134         1.0 -0.449416\n",
       "4           195.0  0.064485         1.0 -0.395996\n",
       "..            ...       ...         ...       ...\n",
       "570         515.0  0.213483         1.0  0.857336\n",
       "571         560.0  0.017098         1.0 -0.794596\n",
       "572         289.0  0.088911         1.0 -0.190532\n",
       "573         190.0  0.059111         1.0 -0.441198\n",
       "574         500.0  0.074744         1.0 -0.309701\n",
       "\n",
       "[575 rows x 4 columns]"
      ]
     },
     "execution_count": 19,
     "metadata": {},
     "output_type": "execute_result"
    }
   ],
   "source": [
    "# df com scaling\n",
    "df_transf = pd.concat([normal_df, rescaled_df, normalized_df, standard_df], axis = 1).dropna().reset_index(drop = True)\n",
    "df_transf"
   ]
  },
  {
   "cell_type": "markdown",
   "id": "161a8b69",
   "metadata": {},
   "source": [
    "> ### Statistical test"
   ]
  },
  {
   "cell_type": "code",
   "execution_count": 20,
   "id": "cdcaef7e",
   "metadata": {},
   "outputs": [
    {
     "data": {
      "text/html": [
       "<div>\n",
       "<style scoped>\n",
       "    .dataframe tbody tr th:only-of-type {\n",
       "        vertical-align: middle;\n",
       "    }\n",
       "\n",
       "    .dataframe tbody tr th {\n",
       "        vertical-align: top;\n",
       "    }\n",
       "\n",
       "    .dataframe thead th {\n",
       "        text-align: right;\n",
       "    }\n",
       "</style>\n",
       "<table border=\"1\" class=\"dataframe\">\n",
       "  <thead>\n",
       "    <tr style=\"text-align: right;\">\n",
       "      <th></th>\n",
       "      <th>Name</th>\n",
       "      <th>Test</th>\n",
       "      <th>p-value</th>\n",
       "    </tr>\n",
       "  </thead>\n",
       "  <tbody>\n",
       "    <tr>\n",
       "      <th>0</th>\n",
       "      <td>tot_proteins</td>\n",
       "      <td>The Null Hypothesis can be rejected.</td>\n",
       "      <td>0.0</td>\n",
       "    </tr>\n",
       "    <tr>\n",
       "      <th>1</th>\n",
       "      <td>rescaled</td>\n",
       "      <td>The Null Hypothesis can be rejected.</td>\n",
       "      <td>0.0</td>\n",
       "    </tr>\n",
       "    <tr>\n",
       "      <th>2</th>\n",
       "      <td>normalized</td>\n",
       "      <td>The Null Hypothesis can be rejected.</td>\n",
       "      <td>0.0</td>\n",
       "    </tr>\n",
       "    <tr>\n",
       "      <th>3</th>\n",
       "      <td>standard</td>\n",
       "      <td>The Null Hypothesis can be rejected.</td>\n",
       "      <td>0.0</td>\n",
       "    </tr>\n",
       "  </tbody>\n",
       "</table>\n",
       "</div>"
      ],
      "text/plain": [
       "           Name                                  Test  p-value\n",
       "0  tot_proteins  The Null Hypothesis can be rejected.      0.0\n",
       "1      rescaled  The Null Hypothesis can be rejected.      0.0\n",
       "2    normalized  The Null Hypothesis can be rejected.      0.0\n",
       "3      standard  The Null Hypothesis can be rejected.      0.0"
      ]
     },
     "execution_count": 20,
     "metadata": {},
     "output_type": "execute_result"
    }
   ],
   "source": [
    "normalTest(0.05, df_transf)"
   ]
  },
  {
   "cell_type": "markdown",
   "id": "2f7a1ee3",
   "metadata": {},
   "source": [
    "> ### Visual test"
   ]
  },
  {
   "cell_type": "code",
   "execution_count": 21,
   "id": "0b584640",
   "metadata": {},
   "outputs": [
    {
     "data": {
      "image/png": "[encoded data removed]",
      "text/plain": [
       "<Figure size 864x360 with 4 Axes>"
      ]
     },
     "metadata": {
      "needs_background": "light"
     },
     "output_type": "display_data"
    }
   ],
   "source": [
    "# Box Plots\n",
    "df_transf.plot(kind = 'box', subplots = True, layout = (2,2), sharex = False, sharey = False, figsize = (12,5))\n",
    "\n",
    "plt.tight_layout()\n",
    "plt.show()"
   ]
  },
  {
   "cell_type": "markdown",
   "id": "f21458e8",
   "metadata": {},
   "source": [
    "As it can be observed, standardization and normalization do not change the distribution of the data. However, these transformations are useful in other aspects, such as in the application of algorithms that use distance measures, such as K-means or KNN.\n",
    "\n",
    "To modify the distribution of the data, we need to apply other transformations."
   ]
  },
  {
   "cell_type": "markdown",
   "id": "338d0f24",
   "metadata": {},
   "source": [
    "___"
   ]
  },
  {
   "cell_type": "markdown",
   "id": "8cd22a20",
   "metadata": {},
   "source": [
    "# Transformations that influence the distribution of the data"
   ]
  },
  {
   "cell_type": "markdown",
   "id": "8c90b596",
   "metadata": {},
   "source": [
    "Let's apply the following transformations:\n",
    "\n",
    "* Log\n",
    "* Square-Root\n",
    "* Reciprocal\n",
    "* Box-Cox \n",
    "* Yeo-Johnson"
   ]
  },
  {
   "cell_type": "markdown",
   "id": "58e34214",
   "metadata": {},
   "source": [
    "### Define functions"
   ]
  },
  {
   "cell_type": "code",
   "execution_count": 22,
   "id": "583d7011",
   "metadata": {},
   "outputs": [],
   "source": [
    "import numpy as np\n",
    "\n",
    "# Log Transformation\n",
    "def logFunc(df):\n",
    "    return np.log1p(df)\n",
    "\n",
    "# Square-Root Transformation\n",
    "def sqrtFunc(df):\n",
    "    return pd.DataFrame(df**(1/2))\n",
    "\n",
    "# Reciprocal Transformation\n",
    "def reciprocalFunc(df):\n",
    "    return 1/df\n",
    "\n",
    "# Box-Cox Transformation\n",
    "from scipy.stats import boxcox\n",
    "def bxcFunc(df):\n",
    "    bcx = [boxcox(df[col])[0] for col in df.columns]\n",
    "    bcx = pd.DataFrame(bcx).T\n",
    "    bcx.columns = list(df.columns)\n",
    "    return bcx\n",
    "\n",
    "# Yeo-Johnson Transformation\n",
    "from scipy.stats import yeojohnson\n",
    "def yeoJohnFunc(df):\n",
    "    yf = [yeojohnson(df[col])[0] for col in df.columns]\n",
    "    yf = pd.DataFrame(yf).T\n",
    "    yf.columns = list(df.columns)\n",
    "    return yf"
   ]
  },
  {
   "cell_type": "markdown",
   "id": "2cc9b5f6",
   "metadata": {},
   "source": [
    "Let's apply them to the variable tot_proteins."
   ]
  },
  {
   "cell_type": "code",
   "execution_count": 23,
   "id": "9f41be3a",
   "metadata": {},
   "outputs": [],
   "source": [
    "# Set df\n",
    "df_test2 =  dataset[['tot_proteins']]"
   ]
  },
  {
   "cell_type": "code",
   "execution_count": 24,
   "id": "67166bc4",
   "metadata": {},
   "outputs": [],
   "source": [
    "import numpy as np\n",
    "\n",
    "# Log Transformation\n",
    "log = logFunc(df_test2[['tot_proteins']])\n",
    "\n",
    "# Square-Root Transformation\n",
    "sqrt = sqrtFunc((df_test2[['tot_proteins']]**(1/2)))\n",
    "\n",
    "# Reciprocal Transformation\n",
    "reciprocal = reciprocalFunc(df_test2[['tot_proteins']])\n",
    "\n",
    "# Box-Cox Transformation\n",
    "bcx = bxcFunc(df_test2[['tot_proteins']])\n",
    "\n",
    "# Yeo-Johnson Transformation\n",
    "yf = yeoJohnFunc(df_test2[['tot_proteins']])"
   ]
  },
  {
   "cell_type": "code",
   "execution_count": 25,
   "id": "9a1b0f04",
   "metadata": {},
   "outputs": [
    {
     "data": {
      "text/html": [
       "<div>\n",
       "<style scoped>\n",
       "    .dataframe tbody tr th:only-of-type {\n",
       "        vertical-align: middle;\n",
       "    }\n",
       "\n",
       "    .dataframe tbody tr th {\n",
       "        vertical-align: top;\n",
       "    }\n",
       "\n",
       "    .dataframe thead th {\n",
       "        text-align: right;\n",
       "    }\n",
       "</style>\n",
       "<table border=\"1\" class=\"dataframe\">\n",
       "  <thead>\n",
       "    <tr style=\"text-align: right;\">\n",
       "      <th></th>\n",
       "      <th>Original</th>\n",
       "      <th>Log</th>\n",
       "      <th>Square-Root</th>\n",
       "      <th>Reciprocal</th>\n",
       "      <th>Box-Cox</th>\n",
       "      <th>Yeo-Johnson</th>\n",
       "    </tr>\n",
       "  </thead>\n",
       "  <tbody>\n",
       "    <tr>\n",
       "      <th>0</th>\n",
       "      <td>187.0</td>\n",
       "      <td>5.236442</td>\n",
       "      <td>3.697945</td>\n",
       "      <td>0.005348</td>\n",
       "      <td>1.352033</td>\n",
       "      <td>1.339377</td>\n",
       "    </tr>\n",
       "    <tr>\n",
       "      <th>1</th>\n",
       "      <td>699.0</td>\n",
       "      <td>6.551080</td>\n",
       "      <td>5.141849</td>\n",
       "      <td>0.001431</td>\n",
       "      <td>1.371418</td>\n",
       "      <td>1.357828</td>\n",
       "    </tr>\n",
       "    <tr>\n",
       "      <th>2</th>\n",
       "      <td>490.0</td>\n",
       "      <td>6.196444</td>\n",
       "      <td>4.704885</td>\n",
       "      <td>0.002041</td>\n",
       "      <td>1.367856</td>\n",
       "      <td>1.354444</td>\n",
       "    </tr>\n",
       "    <tr>\n",
       "      <th>3</th>\n",
       "      <td>182.0</td>\n",
       "      <td>5.209486</td>\n",
       "      <td>3.672974</td>\n",
       "      <td>0.005495</td>\n",
       "      <td>1.351408</td>\n",
       "      <td>1.338782</td>\n",
       "    </tr>\n",
       "    <tr>\n",
       "      <th>4</th>\n",
       "      <td>195.0</td>\n",
       "      <td>5.278115</td>\n",
       "      <td>3.736876</td>\n",
       "      <td>0.005128</td>\n",
       "      <td>1.352974</td>\n",
       "      <td>1.340273</td>\n",
       "    </tr>\n",
       "  </tbody>\n",
       "</table>\n",
       "</div>"
      ],
      "text/plain": [
       "   Original       Log  Square-Root  Reciprocal   Box-Cox  Yeo-Johnson\n",
       "0     187.0  5.236442     3.697945    0.005348  1.352033     1.339377\n",
       "1     699.0  6.551080     5.141849    0.001431  1.371418     1.357828\n",
       "2     490.0  6.196444     4.704885    0.002041  1.367856     1.354444\n",
       "3     182.0  5.209486     3.672974    0.005495  1.351408     1.338782\n",
       "4     195.0  5.278115     3.736876    0.005128  1.352974     1.340273"
      ]
     },
     "execution_count": 25,
     "metadata": {},
     "output_type": "execute_result"
    }
   ],
   "source": [
    "# Create dataset\n",
    "df_transf2 = pd.concat([df_test2, log, sqrt, reciprocal, bcx, yf], axis = 1).dropna()\n",
    "\n",
    "df_transf2.columns = ['Original', 'Log', 'Square-Root', 'Reciprocal', 'Box-Cox', 'Yeo-Johnson']\n",
    "\n",
    "# View\n",
    "df_transf2.head()"
   ]
  },
  {
   "cell_type": "markdown",
   "id": "51cc3eb9",
   "metadata": {},
   "source": [
    "> ### Statistical test"
   ]
  },
  {
   "cell_type": "code",
   "execution_count": 26,
   "id": "9b6acd83",
   "metadata": {
    "scrolled": true
   },
   "outputs": [
    {
     "data": {
      "text/html": [
       "<div>\n",
       "<style scoped>\n",
       "    .dataframe tbody tr th:only-of-type {\n",
       "        vertical-align: middle;\n",
       "    }\n",
       "\n",
       "    .dataframe tbody tr th {\n",
       "        vertical-align: top;\n",
       "    }\n",
       "\n",
       "    .dataframe thead th {\n",
       "        text-align: right;\n",
       "    }\n",
       "</style>\n",
       "<table border=\"1\" class=\"dataframe\">\n",
       "  <thead>\n",
       "    <tr style=\"text-align: right;\">\n",
       "      <th></th>\n",
       "      <th>Name</th>\n",
       "      <th>Test</th>\n",
       "      <th>p-value</th>\n",
       "    </tr>\n",
       "  </thead>\n",
       "  <tbody>\n",
       "    <tr>\n",
       "      <th>0</th>\n",
       "      <td>Original</td>\n",
       "      <td>The Null Hypothesis can be rejected.</td>\n",
       "      <td>0.0000</td>\n",
       "    </tr>\n",
       "    <tr>\n",
       "      <th>1</th>\n",
       "      <td>Log</td>\n",
       "      <td>The Null Hypothesis can be rejected.</td>\n",
       "      <td>0.0000</td>\n",
       "    </tr>\n",
       "    <tr>\n",
       "      <th>2</th>\n",
       "      <td>Square-Root</td>\n",
       "      <td>The Null Hypothesis can be rejected.</td>\n",
       "      <td>0.0000</td>\n",
       "    </tr>\n",
       "    <tr>\n",
       "      <th>3</th>\n",
       "      <td>Reciprocal</td>\n",
       "      <td>The Null Hypothesis can be rejected.</td>\n",
       "      <td>0.0000</td>\n",
       "    </tr>\n",
       "    <tr>\n",
       "      <th>4</th>\n",
       "      <td>Box-Cox</td>\n",
       "      <td>The Null Hypothesis can be rejected.</td>\n",
       "      <td>0.0007</td>\n",
       "    </tr>\n",
       "    <tr>\n",
       "      <th>5</th>\n",
       "      <td>Yeo-Johnson</td>\n",
       "      <td>The Null Hypothesis can be rejected.</td>\n",
       "      <td>0.0008</td>\n",
       "    </tr>\n",
       "  </tbody>\n",
       "</table>\n",
       "</div>"
      ],
      "text/plain": [
       "          Name                                  Test  p-value\n",
       "0     Original  The Null Hypothesis can be rejected.   0.0000\n",
       "1          Log  The Null Hypothesis can be rejected.   0.0000\n",
       "2  Square-Root  The Null Hypothesis can be rejected.   0.0000\n",
       "3   Reciprocal  The Null Hypothesis can be rejected.   0.0000\n",
       "4      Box-Cox  The Null Hypothesis can be rejected.   0.0007\n",
       "5  Yeo-Johnson  The Null Hypothesis can be rejected.   0.0008"
      ]
     },
     "execution_count": 26,
     "metadata": {},
     "output_type": "execute_result"
    }
   ],
   "source": [
    "normalTest(0.05, df_transf2)"
   ]
  },
  {
   "cell_type": "markdown",
   "id": "886f1285",
   "metadata": {},
   "source": [
    "> ### Visual test"
   ]
  },
  {
   "cell_type": "code",
   "execution_count": 27,
   "id": "babd0c5b",
   "metadata": {},
   "outputs": [
    {
     "data": {
      "image/png": "[encoded data removed]",
      "text/plain": [
       "<Figure size 1080x576 with 9 Axes>"
      ]
     },
     "metadata": {
      "needs_background": "light"
     },
     "output_type": "display_data"
    }
   ],
   "source": [
    "# Box Plots\n",
    "df_transf2.plot(kind = 'box', subplots = True, layout = (3,3), sharex = False, sharey = False, figsize = (15,8))\n",
    "\n",
    "plt.tight_layout()\n",
    "plt.show()"
   ]
  },
  {
   "cell_type": "markdown",
   "id": "7bc7165c",
   "metadata": {},
   "source": [
    "From a quantitative point of view, the transformations were not sufficient to normalize the distributions. However, it is possible to observe that with the transformations, the distribution approaches normality."
   ]
  },
  {
   "cell_type": "markdown",
   "id": "80aa8bfb",
   "metadata": {},
   "source": [
    "___"
   ]
  },
  {
   "cell_type": "markdown",
   "id": "d15300dc",
   "metadata": {},
   "source": [
    "# Apply the transformations to all variables"
   ]
  },
  {
   "cell_type": "markdown",
   "id": "d058733b",
   "metadata": {},
   "source": [
    "**Hypothesis:**\n",
    "\n",
    "    * Null hypothesis: The data follows a normal distribution - p > alpha\n",
    "    * Alternative hypothesis: The data does not follow a normal distribution - p < alpha.    "
   ]
  },
  {
   "cell_type": "markdown",
   "id": "45267d02",
   "metadata": {},
   "source": [
    "### Log"
   ]
  },
  {
   "cell_type": "code",
   "execution_count": 28,
   "id": "21a9461b",
   "metadata": {
    "scrolled": true
   },
   "outputs": [
    {
     "data": {
      "text/html": [
       "<div>\n",
       "<style scoped>\n",
       "    .dataframe tbody tr th:only-of-type {\n",
       "        vertical-align: middle;\n",
       "    }\n",
       "\n",
       "    .dataframe tbody tr th {\n",
       "        vertical-align: top;\n",
       "    }\n",
       "\n",
       "    .dataframe thead th {\n",
       "        text-align: right;\n",
       "    }\n",
       "</style>\n",
       "<table border=\"1\" class=\"dataframe\">\n",
       "  <thead>\n",
       "    <tr style=\"text-align: right;\">\n",
       "      <th></th>\n",
       "      <th>Name</th>\n",
       "      <th>Test</th>\n",
       "      <th>p-value</th>\n",
       "    </tr>\n",
       "  </thead>\n",
       "  <tbody>\n",
       "    <tr>\n",
       "      <th>0</th>\n",
       "      <td>idade</td>\n",
       "      <td>The Null Hypothesis can be rejected.</td>\n",
       "      <td>0.0000</td>\n",
       "    </tr>\n",
       "    <tr>\n",
       "      <th>1</th>\n",
       "      <td>tot_bilirubin</td>\n",
       "      <td>The Null Hypothesis can be rejected.</td>\n",
       "      <td>0.0000</td>\n",
       "    </tr>\n",
       "    <tr>\n",
       "      <th>2</th>\n",
       "      <td>direct_bilirubin</td>\n",
       "      <td>The Null Hypothesis can be rejected.</td>\n",
       "      <td>0.0000</td>\n",
       "    </tr>\n",
       "    <tr>\n",
       "      <th>3</th>\n",
       "      <td>tot_proteins</td>\n",
       "      <td>The Null Hypothesis can be rejected.</td>\n",
       "      <td>0.0000</td>\n",
       "    </tr>\n",
       "    <tr>\n",
       "      <th>4</th>\n",
       "      <td>albumina</td>\n",
       "      <td>The Null Hypothesis can be rejected.</td>\n",
       "      <td>0.0000</td>\n",
       "    </tr>\n",
       "    <tr>\n",
       "      <th>5</th>\n",
       "      <td>ag_ratio</td>\n",
       "      <td>The Null Hypothesis can be rejected.</td>\n",
       "      <td>0.0000</td>\n",
       "    </tr>\n",
       "    <tr>\n",
       "      <th>6</th>\n",
       "      <td>sgpt</td>\n",
       "      <td>The Null Hypothesis can be rejected.</td>\n",
       "      <td>0.0000</td>\n",
       "    </tr>\n",
       "    <tr>\n",
       "      <th>7</th>\n",
       "      <td>sgot</td>\n",
       "      <td>The Null Hypothesis can be rejected.</td>\n",
       "      <td>0.0000</td>\n",
       "    </tr>\n",
       "    <tr>\n",
       "      <th>8</th>\n",
       "      <td>alkphos</td>\n",
       "      <td>The Null Hypothesis can be rejected.</td>\n",
       "      <td>0.0011</td>\n",
       "    </tr>\n",
       "  </tbody>\n",
       "</table>\n",
       "</div>"
      ],
      "text/plain": [
       "               Name                                  Test  p-value\n",
       "0             idade  The Null Hypothesis can be rejected.   0.0000\n",
       "1     tot_bilirubin  The Null Hypothesis can be rejected.   0.0000\n",
       "2  direct_bilirubin  The Null Hypothesis can be rejected.   0.0000\n",
       "3      tot_proteins  The Null Hypothesis can be rejected.   0.0000\n",
       "4          albumina  The Null Hypothesis can be rejected.   0.0000\n",
       "5          ag_ratio  The Null Hypothesis can be rejected.   0.0000\n",
       "6              sgpt  The Null Hypothesis can be rejected.   0.0000\n",
       "7              sgot  The Null Hypothesis can be rejected.   0.0000\n",
       "8           alkphos  The Null Hypothesis can be rejected.   0.0011"
      ]
     },
     "execution_count": 28,
     "metadata": {},
     "output_type": "execute_result"
    }
   ],
   "source": [
    "# transform\n",
    "log = logFunc(dataset)\n",
    "\n",
    "#test\n",
    "normalTest(0.05, log)"
   ]
  },
  {
   "cell_type": "code",
   "execution_count": 29,
   "id": "2f4888f6",
   "metadata": {},
   "outputs": [
    {
     "data": {
      "image/png": "[encoded data removed]",
      "text/plain": [
       "<Figure size 1080x504 with 9 Axes>"
      ]
     },
     "metadata": {
      "needs_background": "light"
     },
     "output_type": "display_data"
    }
   ],
   "source": [
    "# Box Plots\n",
    "log.plot(kind = 'box', subplots = True, layout = (3,3), sharex = False, sharey = False, figsize = (15,7))\n",
    "\n",
    "plt.tight_layout()\n",
    "plt.show()"
   ]
  },
  {
   "cell_type": "markdown",
   "id": "c9cf3977",
   "metadata": {},
   "source": [
    "### sqrt"
   ]
  },
  {
   "cell_type": "code",
   "execution_count": 30,
   "id": "1f0a9edd",
   "metadata": {},
   "outputs": [
    {
     "data": {
      "text/html": [
       "<div>\n",
       "<style scoped>\n",
       "    .dataframe tbody tr th:only-of-type {\n",
       "        vertical-align: middle;\n",
       "    }\n",
       "\n",
       "    .dataframe tbody tr th {\n",
       "        vertical-align: top;\n",
       "    }\n",
       "\n",
       "    .dataframe thead th {\n",
       "        text-align: right;\n",
       "    }\n",
       "</style>\n",
       "<table border=\"1\" class=\"dataframe\">\n",
       "  <thead>\n",
       "    <tr style=\"text-align: right;\">\n",
       "      <th></th>\n",
       "      <th>Name</th>\n",
       "      <th>Test</th>\n",
       "      <th>p-value</th>\n",
       "    </tr>\n",
       "  </thead>\n",
       "  <tbody>\n",
       "    <tr>\n",
       "      <th>0</th>\n",
       "      <td>idade</td>\n",
       "      <td>The Null Hypothesis can be rejected.</td>\n",
       "      <td>0.0000</td>\n",
       "    </tr>\n",
       "    <tr>\n",
       "      <th>1</th>\n",
       "      <td>tot_bilirubin</td>\n",
       "      <td>The Null Hypothesis can be rejected.</td>\n",
       "      <td>0.0000</td>\n",
       "    </tr>\n",
       "    <tr>\n",
       "      <th>2</th>\n",
       "      <td>direct_bilirubin</td>\n",
       "      <td>The Null Hypothesis can be rejected.</td>\n",
       "      <td>0.0000</td>\n",
       "    </tr>\n",
       "    <tr>\n",
       "      <th>3</th>\n",
       "      <td>tot_proteins</td>\n",
       "      <td>The Null Hypothesis can be rejected.</td>\n",
       "      <td>0.0000</td>\n",
       "    </tr>\n",
       "    <tr>\n",
       "      <th>4</th>\n",
       "      <td>albumina</td>\n",
       "      <td>The Null Hypothesis can be rejected.</td>\n",
       "      <td>0.0000</td>\n",
       "    </tr>\n",
       "    <tr>\n",
       "      <th>5</th>\n",
       "      <td>ag_ratio</td>\n",
       "      <td>The Null Hypothesis can be rejected.</td>\n",
       "      <td>0.0000</td>\n",
       "    </tr>\n",
       "    <tr>\n",
       "      <th>6</th>\n",
       "      <td>sgpt</td>\n",
       "      <td>The Null Hypothesis can be rejected.</td>\n",
       "      <td>0.0000</td>\n",
       "    </tr>\n",
       "    <tr>\n",
       "      <th>7</th>\n",
       "      <td>sgot</td>\n",
       "      <td>The Null Hypothesis can be rejected.</td>\n",
       "      <td>0.0007</td>\n",
       "    </tr>\n",
       "    <tr>\n",
       "      <th>8</th>\n",
       "      <td>alkphos</td>\n",
       "      <td>The Null Hypothesis can be rejected.</td>\n",
       "      <td>0.0003</td>\n",
       "    </tr>\n",
       "  </tbody>\n",
       "</table>\n",
       "</div>"
      ],
      "text/plain": [
       "               Name                                  Test  p-value\n",
       "0             idade  The Null Hypothesis can be rejected.   0.0000\n",
       "1     tot_bilirubin  The Null Hypothesis can be rejected.   0.0000\n",
       "2  direct_bilirubin  The Null Hypothesis can be rejected.   0.0000\n",
       "3      tot_proteins  The Null Hypothesis can be rejected.   0.0000\n",
       "4          albumina  The Null Hypothesis can be rejected.   0.0000\n",
       "5          ag_ratio  The Null Hypothesis can be rejected.   0.0000\n",
       "6              sgpt  The Null Hypothesis can be rejected.   0.0000\n",
       "7              sgot  The Null Hypothesis can be rejected.   0.0007\n",
       "8           alkphos  The Null Hypothesis can be rejected.   0.0003"
      ]
     },
     "execution_count": 30,
     "metadata": {},
     "output_type": "execute_result"
    }
   ],
   "source": [
    "# transform\n",
    "sqrt = sqrtFunc(dataset)\n",
    "\n",
    "# test\n",
    "normalTest(0.05, sqrt)"
   ]
  },
  {
   "cell_type": "code",
   "execution_count": 31,
   "id": "8d3575bd",
   "metadata": {},
   "outputs": [
    {
     "data": {
      "image/png": "[encoded data removed]",
      "text/plain": [
       "<Figure size 1080x504 with 9 Axes>"
      ]
     },
     "metadata": {
      "needs_background": "light"
     },
     "output_type": "display_data"
    }
   ],
   "source": [
    "# Box Plots\n",
    "sqrt.plot(kind = 'box', subplots = True, layout = (3,3), sharex = False, sharey = False, figsize = (15,7))\n",
    "\n",
    "plt.tight_layout()\n",
    "plt.show()"
   ]
  },
  {
   "cell_type": "markdown",
   "id": "e4e9595f",
   "metadata": {},
   "source": [
    "### Reciprocal"
   ]
  },
  {
   "cell_type": "code",
   "execution_count": 32,
   "id": "dfb0fba6",
   "metadata": {},
   "outputs": [
    {
     "data": {
      "text/html": [
       "<div>\n",
       "<style scoped>\n",
       "    .dataframe tbody tr th:only-of-type {\n",
       "        vertical-align: middle;\n",
       "    }\n",
       "\n",
       "    .dataframe tbody tr th {\n",
       "        vertical-align: top;\n",
       "    }\n",
       "\n",
       "    .dataframe thead th {\n",
       "        text-align: right;\n",
       "    }\n",
       "</style>\n",
       "<table border=\"1\" class=\"dataframe\">\n",
       "  <thead>\n",
       "    <tr style=\"text-align: right;\">\n",
       "      <th></th>\n",
       "      <th>Name</th>\n",
       "      <th>Test</th>\n",
       "      <th>p-value</th>\n",
       "    </tr>\n",
       "  </thead>\n",
       "  <tbody>\n",
       "    <tr>\n",
       "      <th>0</th>\n",
       "      <td>idade</td>\n",
       "      <td>The Null Hypothesis can be rejected.</td>\n",
       "      <td>0.0</td>\n",
       "    </tr>\n",
       "    <tr>\n",
       "      <th>1</th>\n",
       "      <td>tot_bilirubin</td>\n",
       "      <td>The Null Hypothesis can be rejected.</td>\n",
       "      <td>0.0</td>\n",
       "    </tr>\n",
       "    <tr>\n",
       "      <th>2</th>\n",
       "      <td>direct_bilirubin</td>\n",
       "      <td>The Null Hypothesis can be rejected.</td>\n",
       "      <td>0.0</td>\n",
       "    </tr>\n",
       "    <tr>\n",
       "      <th>3</th>\n",
       "      <td>tot_proteins</td>\n",
       "      <td>The Null Hypothesis can be rejected.</td>\n",
       "      <td>0.0</td>\n",
       "    </tr>\n",
       "    <tr>\n",
       "      <th>4</th>\n",
       "      <td>albumina</td>\n",
       "      <td>The Null Hypothesis can be rejected.</td>\n",
       "      <td>0.0</td>\n",
       "    </tr>\n",
       "    <tr>\n",
       "      <th>5</th>\n",
       "      <td>ag_ratio</td>\n",
       "      <td>The Null Hypothesis can be rejected.</td>\n",
       "      <td>0.0</td>\n",
       "    </tr>\n",
       "    <tr>\n",
       "      <th>6</th>\n",
       "      <td>sgpt</td>\n",
       "      <td>The Null Hypothesis can be rejected.</td>\n",
       "      <td>0.0</td>\n",
       "    </tr>\n",
       "    <tr>\n",
       "      <th>7</th>\n",
       "      <td>sgot</td>\n",
       "      <td>The Null Hypothesis can be rejected.</td>\n",
       "      <td>0.0</td>\n",
       "    </tr>\n",
       "    <tr>\n",
       "      <th>8</th>\n",
       "      <td>alkphos</td>\n",
       "      <td>The Null Hypothesis can be rejected.</td>\n",
       "      <td>0.0</td>\n",
       "    </tr>\n",
       "  </tbody>\n",
       "</table>\n",
       "</div>"
      ],
      "text/plain": [
       "               Name                                  Test  p-value\n",
       "0             idade  The Null Hypothesis can be rejected.      0.0\n",
       "1     tot_bilirubin  The Null Hypothesis can be rejected.      0.0\n",
       "2  direct_bilirubin  The Null Hypothesis can be rejected.      0.0\n",
       "3      tot_proteins  The Null Hypothesis can be rejected.      0.0\n",
       "4          albumina  The Null Hypothesis can be rejected.      0.0\n",
       "5          ag_ratio  The Null Hypothesis can be rejected.      0.0\n",
       "6              sgpt  The Null Hypothesis can be rejected.      0.0\n",
       "7              sgot  The Null Hypothesis can be rejected.      0.0\n",
       "8           alkphos  The Null Hypothesis can be rejected.      0.0"
      ]
     },
     "execution_count": 32,
     "metadata": {},
     "output_type": "execute_result"
    }
   ],
   "source": [
    "# transform\n",
    "reciprocal = reciprocalFunc(dataset)\n",
    "\n",
    "# test\n",
    "normalTest(0.05, reciprocal)"
   ]
  },
  {
   "cell_type": "code",
   "execution_count": 33,
   "id": "d4430e8f",
   "metadata": {},
   "outputs": [
    {
     "data": {
      "image/png": "[encoded data removed]",
      "text/plain": [
       "<Figure size 1080x504 with 9 Axes>"
      ]
     },
     "metadata": {
      "needs_background": "light"
     },
     "output_type": "display_data"
    }
   ],
   "source": [
    "# Box Plots\n",
    "reciprocal.plot(kind = 'box', subplots = True, layout = (3,3), sharex = False, sharey = False, figsize = (15,7))\n",
    "\n",
    "plt.tight_layout()\n",
    "plt.show()"
   ]
  },
  {
   "cell_type": "markdown",
   "id": "8b38370a",
   "metadata": {},
   "source": [
    "### Box Cox"
   ]
  },
  {
   "cell_type": "code",
   "execution_count": 34,
   "id": "14860465",
   "metadata": {},
   "outputs": [
    {
     "data": {
      "text/html": [
       "<div>\n",
       "<style scoped>\n",
       "    .dataframe tbody tr th:only-of-type {\n",
       "        vertical-align: middle;\n",
       "    }\n",
       "\n",
       "    .dataframe tbody tr th {\n",
       "        vertical-align: top;\n",
       "    }\n",
       "\n",
       "    .dataframe thead th {\n",
       "        text-align: right;\n",
       "    }\n",
       "</style>\n",
       "<table border=\"1\" class=\"dataframe\">\n",
       "  <thead>\n",
       "    <tr style=\"text-align: right;\">\n",
       "      <th></th>\n",
       "      <th>Name</th>\n",
       "      <th>Test</th>\n",
       "      <th>p-value</th>\n",
       "    </tr>\n",
       "  </thead>\n",
       "  <tbody>\n",
       "    <tr>\n",
       "      <th>0</th>\n",
       "      <td>tot_proteins</td>\n",
       "      <td>The Null Hypothesis can be rejected.</td>\n",
       "      <td>0.0008</td>\n",
       "    </tr>\n",
       "  </tbody>\n",
       "</table>\n",
       "</div>"
      ],
      "text/plain": [
       "           Name                                  Test  p-value\n",
       "0  tot_proteins  The Null Hypothesis can be rejected.   0.0008"
      ]
     },
     "execution_count": 34,
     "metadata": {},
     "output_type": "execute_result"
    }
   ],
   "source": [
    "# transform\n",
    "bxc = bxcFunc(dataset)\n",
    "\n",
    "# test\n",
    "normalTest(0.05, bcx)"
   ]
  },
  {
   "cell_type": "code",
   "execution_count": 35,
   "id": "d34b243a",
   "metadata": {},
   "outputs": [
    {
     "data": {
      "image/png": "[encoded data removed]",
      "text/plain": [
       "<Figure size 1080x504 with 9 Axes>"
      ]
     },
     "metadata": {
      "needs_background": "light"
     },
     "output_type": "display_data"
    }
   ],
   "source": [
    "# Box Plots\n",
    "bcx.plot(kind = 'box', subplots = True, layout = (3,3), sharex = False, sharey = False, figsize = (15,7))\n",
    "\n",
    "plt.tight_layout()\n",
    "plt.show()"
   ]
  },
  {
   "cell_type": "markdown",
   "id": "4e510c6d",
   "metadata": {},
   "source": [
    "### Yeo-Johnson"
   ]
  },
  {
   "cell_type": "code",
   "execution_count": 36,
   "id": "c0fdadf5",
   "metadata": {},
   "outputs": [
    {
     "data": {
      "text/html": [
       "<div>\n",
       "<style scoped>\n",
       "    .dataframe tbody tr th:only-of-type {\n",
       "        vertical-align: middle;\n",
       "    }\n",
       "\n",
       "    .dataframe tbody tr th {\n",
       "        vertical-align: top;\n",
       "    }\n",
       "\n",
       "    .dataframe thead th {\n",
       "        text-align: right;\n",
       "    }\n",
       "</style>\n",
       "<table border=\"1\" class=\"dataframe\">\n",
       "  <thead>\n",
       "    <tr style=\"text-align: right;\">\n",
       "      <th></th>\n",
       "      <th>Name</th>\n",
       "      <th>Test</th>\n",
       "      <th>p-value</th>\n",
       "    </tr>\n",
       "  </thead>\n",
       "  <tbody>\n",
       "    <tr>\n",
       "      <th>0</th>\n",
       "      <td>idade</td>\n",
       "      <td>The Null Hypothesis can be rejected.</td>\n",
       "      <td>0.0011</td>\n",
       "    </tr>\n",
       "    <tr>\n",
       "      <th>1</th>\n",
       "      <td>tot_bilirubin</td>\n",
       "      <td>The Null Hypothesis can be rejected.</td>\n",
       "      <td>0.0000</td>\n",
       "    </tr>\n",
       "    <tr>\n",
       "      <th>2</th>\n",
       "      <td>direct_bilirubin</td>\n",
       "      <td>The Null Hypothesis can be rejected.</td>\n",
       "      <td>0.0000</td>\n",
       "    </tr>\n",
       "    <tr>\n",
       "      <th>3</th>\n",
       "      <td>tot_proteins</td>\n",
       "      <td>The Null Hypothesis can be rejected.</td>\n",
       "      <td>0.0009</td>\n",
       "    </tr>\n",
       "    <tr>\n",
       "      <th>4</th>\n",
       "      <td>albumina</td>\n",
       "      <td>The Null Hypothesis cannot be rejected.</td>\n",
       "      <td>0.0926</td>\n",
       "    </tr>\n",
       "    <tr>\n",
       "      <th>5</th>\n",
       "      <td>ag_ratio</td>\n",
       "      <td>The Null Hypothesis can be rejected.</td>\n",
       "      <td>0.0000</td>\n",
       "    </tr>\n",
       "    <tr>\n",
       "      <th>6</th>\n",
       "      <td>sgpt</td>\n",
       "      <td>The Null Hypothesis cannot be rejected.</td>\n",
       "      <td>0.9846</td>\n",
       "    </tr>\n",
       "    <tr>\n",
       "      <th>7</th>\n",
       "      <td>sgot</td>\n",
       "      <td>The Null Hypothesis cannot be rejected.</td>\n",
       "      <td>0.0591</td>\n",
       "    </tr>\n",
       "    <tr>\n",
       "      <th>8</th>\n",
       "      <td>alkphos</td>\n",
       "      <td>The Null Hypothesis cannot be rejected.</td>\n",
       "      <td>0.2175</td>\n",
       "    </tr>\n",
       "  </tbody>\n",
       "</table>\n",
       "</div>"
      ],
      "text/plain": [
       "               Name                                     Test  p-value\n",
       "0             idade     The Null Hypothesis can be rejected.   0.0011\n",
       "1     tot_bilirubin     The Null Hypothesis can be rejected.   0.0000\n",
       "2  direct_bilirubin     The Null Hypothesis can be rejected.   0.0000\n",
       "3      tot_proteins     The Null Hypothesis can be rejected.   0.0009\n",
       "4          albumina  The Null Hypothesis cannot be rejected.   0.0926\n",
       "5          ag_ratio     The Null Hypothesis can be rejected.   0.0000\n",
       "6              sgpt  The Null Hypothesis cannot be rejected.   0.9846\n",
       "7              sgot  The Null Hypothesis cannot be rejected.   0.0591\n",
       "8           alkphos  The Null Hypothesis cannot be rejected.   0.2175"
      ]
     },
     "execution_count": 36,
     "metadata": {},
     "output_type": "execute_result"
    }
   ],
   "source": [
    "# Yeo-Johnson\n",
    "yf = yeoJohnFunc(dataset)\n",
    "\n",
    "# test\n",
    "normalTest(0.05, yf)"
   ]
  },
  {
   "cell_type": "code",
   "execution_count": 37,
   "id": "9b9e59b2",
   "metadata": {},
   "outputs": [
    {
     "data": {
      "image/png": "[encoded data removed]",
      "text/plain": [
       "<Figure size 1080x504 with 9 Axes>"
      ]
     },
     "metadata": {
      "needs_background": "light"
     },
     "output_type": "display_data"
    }
   ],
   "source": [
    "# Box Plots\n",
    "yf.plot(kind = 'box', subplots = True, layout = (3,3), sharex = False, sharey = False, figsize = (15,7))\n",
    "\n",
    "plt.tight_layout()\n",
    "plt.show()"
   ]
  },
  {
   "cell_type": "markdown",
   "id": "28b50b0e",
   "metadata": {},
   "source": [
    "In this case, the Box-Cox and Yeo-Johnson transformations presented the best results. In the original dataset, we had only one normally distributed variable at a significance level of 5%, with the transformations we have 4 variables. The other variables are closer to normality."
   ]
  },
  {
   "cell_type": "markdown",
   "id": "cdc92a88",
   "metadata": {},
   "source": [
    "___"
   ]
  },
  {
   "cell_type": "markdown",
   "id": "cef35318",
   "metadata": {},
   "source": [
    "# Outliers"
   ]
  },
  {
   "cell_type": "markdown",
   "id": "a2702c75",
   "metadata": {},
   "source": [
    "Another way to deal with non-normality is to treat outliers in some way. In these cases, it is necessary to take into account the type of problem being dealt with. In cases of anomaly detection, for example, outlier treatment requires greater care, as it is precisely in them that we are interested."
   ]
  },
  {
   "cell_type": "code",
   "execution_count": 38,
   "id": "261e3962",
   "metadata": {},
   "outputs": [],
   "source": [
    "# Remove outliers\n",
    "def removeOutliers(dataset):\n",
    "    outlier_free_list = []\n",
    "    filtered_data = []\n",
    "\n",
    "    for col in dataset.columns:\n",
    "\n",
    "        Q3 = np.quantile(dataset[col], 0.75)\n",
    "        Q1 = np.quantile(dataset[col], 0.25)\n",
    "        IQR = Q3 - Q1   \n",
    "\n",
    "        lower_range = Q1 - 1.5 * IQR\n",
    "        upper_range = Q3 + 1.5 * IQR\n",
    "        outlier_free = [x for x in dataset[col] if ((x > lower_range) & (x < upper_range))]\n",
    "        filtered_data.append(outlier_free)\n",
    "    filtered_df = pd.DataFrame(filtered_data).T.dropna()\n",
    "    filtered_df.columns = list(dataset.columns)\n",
    "        \n",
    "    return filtered_df   "
   ]
  },
  {
   "cell_type": "code",
   "execution_count": 39,
   "id": "80f6ec97",
   "metadata": {},
   "outputs": [
    {
     "data": {
      "text/html": [
       "<div>\n",
       "<style scoped>\n",
       "    .dataframe tbody tr th:only-of-type {\n",
       "        vertical-align: middle;\n",
       "    }\n",
       "\n",
       "    .dataframe tbody tr th {\n",
       "        vertical-align: top;\n",
       "    }\n",
       "\n",
       "    .dataframe thead th {\n",
       "        text-align: right;\n",
       "    }\n",
       "</style>\n",
       "<table border=\"1\" class=\"dataframe\">\n",
       "  <thead>\n",
       "    <tr style=\"text-align: right;\">\n",
       "      <th></th>\n",
       "      <th>idade</th>\n",
       "      <th>tot_bilirubin</th>\n",
       "      <th>direct_bilirubin</th>\n",
       "      <th>tot_proteins</th>\n",
       "      <th>albumina</th>\n",
       "      <th>ag_ratio</th>\n",
       "      <th>sgpt</th>\n",
       "      <th>sgot</th>\n",
       "      <th>alkphos</th>\n",
       "    </tr>\n",
       "  </thead>\n",
       "  <tbody>\n",
       "    <tr>\n",
       "      <th>0</th>\n",
       "      <td>65.0</td>\n",
       "      <td>0.7</td>\n",
       "      <td>0.1</td>\n",
       "      <td>187.0</td>\n",
       "      <td>16.0</td>\n",
       "      <td>18.0</td>\n",
       "      <td>6.8</td>\n",
       "      <td>3.3</td>\n",
       "      <td>0.90</td>\n",
       "    </tr>\n",
       "    <tr>\n",
       "      <th>1</th>\n",
       "      <td>62.0</td>\n",
       "      <td>1.0</td>\n",
       "      <td>0.4</td>\n",
       "      <td>182.0</td>\n",
       "      <td>64.0</td>\n",
       "      <td>100.0</td>\n",
       "      <td>7.5</td>\n",
       "      <td>3.2</td>\n",
       "      <td>0.74</td>\n",
       "    </tr>\n",
       "    <tr>\n",
       "      <th>2</th>\n",
       "      <td>62.0</td>\n",
       "      <td>3.9</td>\n",
       "      <td>2.0</td>\n",
       "      <td>195.0</td>\n",
       "      <td>60.0</td>\n",
       "      <td>68.0</td>\n",
       "      <td>7.0</td>\n",
       "      <td>3.3</td>\n",
       "      <td>0.89</td>\n",
       "    </tr>\n",
       "    <tr>\n",
       "      <th>3</th>\n",
       "      <td>58.0</td>\n",
       "      <td>1.8</td>\n",
       "      <td>0.7</td>\n",
       "      <td>208.0</td>\n",
       "      <td>14.0</td>\n",
       "      <td>20.0</td>\n",
       "      <td>6.8</td>\n",
       "      <td>3.4</td>\n",
       "      <td>1.00</td>\n",
       "    </tr>\n",
       "    <tr>\n",
       "      <th>4</th>\n",
       "      <td>72.0</td>\n",
       "      <td>0.9</td>\n",
       "      <td>0.2</td>\n",
       "      <td>154.0</td>\n",
       "      <td>27.0</td>\n",
       "      <td>59.0</td>\n",
       "      <td>7.3</td>\n",
       "      <td>2.4</td>\n",
       "      <td>0.40</td>\n",
       "    </tr>\n",
       "    <tr>\n",
       "      <th>...</th>\n",
       "      <td>...</td>\n",
       "      <td>...</td>\n",
       "      <td>...</td>\n",
       "      <td>...</td>\n",
       "      <td>...</td>\n",
       "      <td>...</td>\n",
       "      <td>...</td>\n",
       "      <td>...</td>\n",
       "      <td>...</td>\n",
       "    </tr>\n",
       "    <tr>\n",
       "      <th>490</th>\n",
       "      <td>25.0</td>\n",
       "      <td>0.5</td>\n",
       "      <td>1.2</td>\n",
       "      <td>390.0</td>\n",
       "      <td>22.0</td>\n",
       "      <td>138.0</td>\n",
       "      <td>5.9</td>\n",
       "      <td>3.9</td>\n",
       "      <td>0.70</td>\n",
       "    </tr>\n",
       "    <tr>\n",
       "      <th>491</th>\n",
       "      <td>32.0</td>\n",
       "      <td>0.6</td>\n",
       "      <td>0.3</td>\n",
       "      <td>356.0</td>\n",
       "      <td>22.0</td>\n",
       "      <td>83.0</td>\n",
       "      <td>4.9</td>\n",
       "      <td>3.0</td>\n",
       "      <td>1.20</td>\n",
       "    </tr>\n",
       "    <tr>\n",
       "      <th>492</th>\n",
       "      <td>24.0</td>\n",
       "      <td>0.8</td>\n",
       "      <td>1.6</td>\n",
       "      <td>315.0</td>\n",
       "      <td>20.0</td>\n",
       "      <td>34.0</td>\n",
       "      <td>8.1</td>\n",
       "      <td>4.8</td>\n",
       "      <td>0.40</td>\n",
       "    </tr>\n",
       "    <tr>\n",
       "      <th>493</th>\n",
       "      <td>67.0</td>\n",
       "      <td>1.3</td>\n",
       "      <td>0.1</td>\n",
       "      <td>388.0</td>\n",
       "      <td>91.0</td>\n",
       "      <td>143.0</td>\n",
       "      <td>5.5</td>\n",
       "      <td>3.0</td>\n",
       "      <td>0.90</td>\n",
       "    </tr>\n",
       "    <tr>\n",
       "      <th>494</th>\n",
       "      <td>68.0</td>\n",
       "      <td>1.0</td>\n",
       "      <td>0.1</td>\n",
       "      <td>298.0</td>\n",
       "      <td>46.0</td>\n",
       "      <td>31.0</td>\n",
       "      <td>5.8</td>\n",
       "      <td>4.0</td>\n",
       "      <td>1.10</td>\n",
       "    </tr>\n",
       "  </tbody>\n",
       "</table>\n",
       "<p>495 rows × 9 columns</p>\n",
       "</div>"
      ],
      "text/plain": [
       "     idade  tot_bilirubin  direct_bilirubin  tot_proteins  albumina  ag_ratio  \\\n",
       "0     65.0            0.7               0.1         187.0      16.0      18.0   \n",
       "1     62.0            1.0               0.4         182.0      64.0     100.0   \n",
       "2     62.0            3.9               2.0         195.0      60.0      68.0   \n",
       "3     58.0            1.8               0.7         208.0      14.0      20.0   \n",
       "4     72.0            0.9               0.2         154.0      27.0      59.0   \n",
       "..     ...            ...               ...           ...       ...       ...   \n",
       "490   25.0            0.5               1.2         390.0      22.0     138.0   \n",
       "491   32.0            0.6               0.3         356.0      22.0      83.0   \n",
       "492   24.0            0.8               1.6         315.0      20.0      34.0   \n",
       "493   67.0            1.3               0.1         388.0      91.0     143.0   \n",
       "494   68.0            1.0               0.1         298.0      46.0      31.0   \n",
       "\n",
       "     sgpt  sgot  alkphos  \n",
       "0     6.8   3.3     0.90  \n",
       "1     7.5   3.2     0.74  \n",
       "2     7.0   3.3     0.89  \n",
       "3     6.8   3.4     1.00  \n",
       "4     7.3   2.4     0.40  \n",
       "..    ...   ...      ...  \n",
       "490   5.9   3.9     0.70  \n",
       "491   4.9   3.0     1.20  \n",
       "492   8.1   4.8     0.40  \n",
       "493   5.5   3.0     0.90  \n",
       "494   5.8   4.0     1.10  \n",
       "\n",
       "[495 rows x 9 columns]"
      ]
     },
     "execution_count": 39,
     "metadata": {},
     "output_type": "execute_result"
    }
   ],
   "source": [
    "free_outlier = removeOutliers(dataset)\n",
    "free_outlier"
   ]
  },
  {
   "cell_type": "markdown",
   "id": "6c5260ed",
   "metadata": {},
   "source": [
    "> ### Statistical test"
   ]
  },
  {
   "cell_type": "code",
   "execution_count": 40,
   "id": "83152888",
   "metadata": {},
   "outputs": [
    {
     "data": {
      "text/html": [
       "<div>\n",
       "<style scoped>\n",
       "    .dataframe tbody tr th:only-of-type {\n",
       "        vertical-align: middle;\n",
       "    }\n",
       "\n",
       "    .dataframe tbody tr th {\n",
       "        vertical-align: top;\n",
       "    }\n",
       "\n",
       "    .dataframe thead th {\n",
       "        text-align: right;\n",
       "    }\n",
       "</style>\n",
       "<table border=\"1\" class=\"dataframe\">\n",
       "  <thead>\n",
       "    <tr style=\"text-align: right;\">\n",
       "      <th></th>\n",
       "      <th>Name</th>\n",
       "      <th>Test</th>\n",
       "      <th>p-value</th>\n",
       "    </tr>\n",
       "  </thead>\n",
       "  <tbody>\n",
       "    <tr>\n",
       "      <th>0</th>\n",
       "      <td>idade</td>\n",
       "      <td>The Null Hypothesis can be rejected.</td>\n",
       "      <td>0.0000</td>\n",
       "    </tr>\n",
       "    <tr>\n",
       "      <th>1</th>\n",
       "      <td>tot_bilirubin</td>\n",
       "      <td>The Null Hypothesis can be rejected.</td>\n",
       "      <td>0.0000</td>\n",
       "    </tr>\n",
       "    <tr>\n",
       "      <th>2</th>\n",
       "      <td>direct_bilirubin</td>\n",
       "      <td>The Null Hypothesis can be rejected.</td>\n",
       "      <td>0.0000</td>\n",
       "    </tr>\n",
       "    <tr>\n",
       "      <th>3</th>\n",
       "      <td>tot_proteins</td>\n",
       "      <td>The Null Hypothesis can be rejected.</td>\n",
       "      <td>0.0000</td>\n",
       "    </tr>\n",
       "    <tr>\n",
       "      <th>4</th>\n",
       "      <td>albumina</td>\n",
       "      <td>The Null Hypothesis can be rejected.</td>\n",
       "      <td>0.0000</td>\n",
       "    </tr>\n",
       "    <tr>\n",
       "      <th>5</th>\n",
       "      <td>ag_ratio</td>\n",
       "      <td>The Null Hypothesis can be rejected.</td>\n",
       "      <td>0.0000</td>\n",
       "    </tr>\n",
       "    <tr>\n",
       "      <th>6</th>\n",
       "      <td>sgpt</td>\n",
       "      <td>The Null Hypothesis can be rejected.</td>\n",
       "      <td>0.0281</td>\n",
       "    </tr>\n",
       "    <tr>\n",
       "      <th>7</th>\n",
       "      <td>sgot</td>\n",
       "      <td>The Null Hypothesis cannot be rejected.</td>\n",
       "      <td>0.0726</td>\n",
       "    </tr>\n",
       "    <tr>\n",
       "      <th>8</th>\n",
       "      <td>alkphos</td>\n",
       "      <td>The Null Hypothesis cannot be rejected.</td>\n",
       "      <td>0.0597</td>\n",
       "    </tr>\n",
       "  </tbody>\n",
       "</table>\n",
       "</div>"
      ],
      "text/plain": [
       "               Name                                     Test  p-value\n",
       "0             idade     The Null Hypothesis can be rejected.   0.0000\n",
       "1     tot_bilirubin     The Null Hypothesis can be rejected.   0.0000\n",
       "2  direct_bilirubin     The Null Hypothesis can be rejected.   0.0000\n",
       "3      tot_proteins     The Null Hypothesis can be rejected.   0.0000\n",
       "4          albumina     The Null Hypothesis can be rejected.   0.0000\n",
       "5          ag_ratio     The Null Hypothesis can be rejected.   0.0000\n",
       "6              sgpt     The Null Hypothesis can be rejected.   0.0281\n",
       "7              sgot  The Null Hypothesis cannot be rejected.   0.0726\n",
       "8           alkphos  The Null Hypothesis cannot be rejected.   0.0597"
      ]
     },
     "execution_count": 40,
     "metadata": {},
     "output_type": "execute_result"
    }
   ],
   "source": [
    "# No outlier\n",
    "normalTest(0.05, free_outlier)"
   ]
  },
  {
   "cell_type": "markdown",
   "id": "828b7938",
   "metadata": {},
   "source": [
    "> ### Visual test"
   ]
  },
  {
   "cell_type": "code",
   "execution_count": 41,
   "id": "b0af3715",
   "metadata": {},
   "outputs": [
    {
     "data": {
      "image/png": "[encoded data removed]",
      "text/plain": [
       "<Figure size 1080x504 with 9 Axes>"
      ]
     },
     "metadata": {
      "needs_background": "light"
     },
     "output_type": "display_data"
    }
   ],
   "source": [
    "# Box Plots\n",
    "free_outlier.plot(kind = 'box', subplots = True, layout = (3,3), sharex = False, sharey = False, figsize = (15,7))\n",
    "\n",
    "plt.tight_layout()\n",
    "plt.show()"
   ]
  },
  {
   "cell_type": "markdown",
   "id": "aff202f2",
   "metadata": {},
   "source": [
    "## Apply the transformation to the data free of outliers"
   ]
  },
  {
   "cell_type": "markdown",
   "id": "fda3e2a6",
   "metadata": {},
   "source": [
    "### Log"
   ]
  },
  {
   "cell_type": "code",
   "execution_count": 42,
   "id": "c98ab8f8",
   "metadata": {},
   "outputs": [
    {
     "data": {
      "text/html": [
       "<div>\n",
       "<style scoped>\n",
       "    .dataframe tbody tr th:only-of-type {\n",
       "        vertical-align: middle;\n",
       "    }\n",
       "\n",
       "    .dataframe tbody tr th {\n",
       "        vertical-align: top;\n",
       "    }\n",
       "\n",
       "    .dataframe thead th {\n",
       "        text-align: right;\n",
       "    }\n",
       "</style>\n",
       "<table border=\"1\" class=\"dataframe\">\n",
       "  <thead>\n",
       "    <tr style=\"text-align: right;\">\n",
       "      <th></th>\n",
       "      <th>Name</th>\n",
       "      <th>Test</th>\n",
       "      <th>p-value</th>\n",
       "    </tr>\n",
       "  </thead>\n",
       "  <tbody>\n",
       "    <tr>\n",
       "      <th>0</th>\n",
       "      <td>idade</td>\n",
       "      <td>The Null Hypothesis can be rejected.</td>\n",
       "      <td>0.0000</td>\n",
       "    </tr>\n",
       "    <tr>\n",
       "      <th>1</th>\n",
       "      <td>tot_bilirubin</td>\n",
       "      <td>The Null Hypothesis can be rejected.</td>\n",
       "      <td>0.0000</td>\n",
       "    </tr>\n",
       "    <tr>\n",
       "      <th>2</th>\n",
       "      <td>direct_bilirubin</td>\n",
       "      <td>The Null Hypothesis can be rejected.</td>\n",
       "      <td>0.0000</td>\n",
       "    </tr>\n",
       "    <tr>\n",
       "      <th>3</th>\n",
       "      <td>tot_proteins</td>\n",
       "      <td>The Null Hypothesis can be rejected.</td>\n",
       "      <td>0.0000</td>\n",
       "    </tr>\n",
       "    <tr>\n",
       "      <th>4</th>\n",
       "      <td>albumina</td>\n",
       "      <td>The Null Hypothesis can be rejected.</td>\n",
       "      <td>0.0000</td>\n",
       "    </tr>\n",
       "    <tr>\n",
       "      <th>5</th>\n",
       "      <td>ag_ratio</td>\n",
       "      <td>The Null Hypothesis can be rejected.</td>\n",
       "      <td>0.0000</td>\n",
       "    </tr>\n",
       "    <tr>\n",
       "      <th>6</th>\n",
       "      <td>sgpt</td>\n",
       "      <td>The Null Hypothesis can be rejected.</td>\n",
       "      <td>0.0000</td>\n",
       "    </tr>\n",
       "    <tr>\n",
       "      <th>7</th>\n",
       "      <td>sgot</td>\n",
       "      <td>The Null Hypothesis can be rejected.</td>\n",
       "      <td>0.0000</td>\n",
       "    </tr>\n",
       "    <tr>\n",
       "      <th>8</th>\n",
       "      <td>alkphos</td>\n",
       "      <td>The Null Hypothesis can be rejected.</td>\n",
       "      <td>0.0011</td>\n",
       "    </tr>\n",
       "  </tbody>\n",
       "</table>\n",
       "</div>"
      ],
      "text/plain": [
       "               Name                                  Test  p-value\n",
       "0             idade  The Null Hypothesis can be rejected.   0.0000\n",
       "1     tot_bilirubin  The Null Hypothesis can be rejected.   0.0000\n",
       "2  direct_bilirubin  The Null Hypothesis can be rejected.   0.0000\n",
       "3      tot_proteins  The Null Hypothesis can be rejected.   0.0000\n",
       "4          albumina  The Null Hypothesis can be rejected.   0.0000\n",
       "5          ag_ratio  The Null Hypothesis can be rejected.   0.0000\n",
       "6              sgpt  The Null Hypothesis can be rejected.   0.0000\n",
       "7              sgot  The Null Hypothesis can be rejected.   0.0000\n",
       "8           alkphos  The Null Hypothesis can be rejected.   0.0011"
      ]
     },
     "execution_count": 42,
     "metadata": {},
     "output_type": "execute_result"
    }
   ],
   "source": [
    "# log transform\n",
    "log_freeoutlier = logFunc(dataset)\n",
    "\n",
    "# test\n",
    "normalTest(0.05, log_freeoutlier)"
   ]
  },
  {
   "cell_type": "code",
   "execution_count": 43,
   "id": "06fd1088",
   "metadata": {},
   "outputs": [
    {
     "data": {
      "image/png": "[encoded data removed]",
      "text/plain": [
       "<Figure size 936x576 with 9 Axes>"
      ]
     },
     "metadata": {
      "needs_background": "light"
     },
     "output_type": "display_data"
    }
   ],
   "source": [
    "# Histogram\n",
    "log_freeoutlier.hist(grid = False, layout = (3,3), figsize = (13, 8), density = True, color = 'steelblue', alpha=0.7, ec = 'white')\n",
    "\n",
    "plt.tight_layout()\n",
    "plt.show()"
   ]
  },
  {
   "cell_type": "markdown",
   "id": "d2b28b5a",
   "metadata": {},
   "source": [
    "### sqrt"
   ]
  },
  {
   "cell_type": "code",
   "execution_count": 44,
   "id": "997af6a7",
   "metadata": {},
   "outputs": [
    {
     "data": {
      "text/html": [
       "<div>\n",
       "<style scoped>\n",
       "    .dataframe tbody tr th:only-of-type {\n",
       "        vertical-align: middle;\n",
       "    }\n",
       "\n",
       "    .dataframe tbody tr th {\n",
       "        vertical-align: top;\n",
       "    }\n",
       "\n",
       "    .dataframe thead th {\n",
       "        text-align: right;\n",
       "    }\n",
       "</style>\n",
       "<table border=\"1\" class=\"dataframe\">\n",
       "  <thead>\n",
       "    <tr style=\"text-align: right;\">\n",
       "      <th></th>\n",
       "      <th>Name</th>\n",
       "      <th>Test</th>\n",
       "      <th>p-value</th>\n",
       "    </tr>\n",
       "  </thead>\n",
       "  <tbody>\n",
       "    <tr>\n",
       "      <th>0</th>\n",
       "      <td>idade</td>\n",
       "      <td>The Null Hypothesis can be rejected.</td>\n",
       "      <td>0.0000</td>\n",
       "    </tr>\n",
       "    <tr>\n",
       "      <th>1</th>\n",
       "      <td>tot_bilirubin</td>\n",
       "      <td>The Null Hypothesis can be rejected.</td>\n",
       "      <td>0.0000</td>\n",
       "    </tr>\n",
       "    <tr>\n",
       "      <th>2</th>\n",
       "      <td>direct_bilirubin</td>\n",
       "      <td>The Null Hypothesis can be rejected.</td>\n",
       "      <td>0.0000</td>\n",
       "    </tr>\n",
       "    <tr>\n",
       "      <th>3</th>\n",
       "      <td>tot_proteins</td>\n",
       "      <td>The Null Hypothesis can be rejected.</td>\n",
       "      <td>0.0000</td>\n",
       "    </tr>\n",
       "    <tr>\n",
       "      <th>4</th>\n",
       "      <td>albumina</td>\n",
       "      <td>The Null Hypothesis can be rejected.</td>\n",
       "      <td>0.0000</td>\n",
       "    </tr>\n",
       "    <tr>\n",
       "      <th>5</th>\n",
       "      <td>ag_ratio</td>\n",
       "      <td>The Null Hypothesis can be rejected.</td>\n",
       "      <td>0.0000</td>\n",
       "    </tr>\n",
       "    <tr>\n",
       "      <th>6</th>\n",
       "      <td>sgpt</td>\n",
       "      <td>The Null Hypothesis can be rejected.</td>\n",
       "      <td>0.0000</td>\n",
       "    </tr>\n",
       "    <tr>\n",
       "      <th>7</th>\n",
       "      <td>sgot</td>\n",
       "      <td>The Null Hypothesis can be rejected.</td>\n",
       "      <td>0.0007</td>\n",
       "    </tr>\n",
       "    <tr>\n",
       "      <th>8</th>\n",
       "      <td>alkphos</td>\n",
       "      <td>The Null Hypothesis can be rejected.</td>\n",
       "      <td>0.0003</td>\n",
       "    </tr>\n",
       "  </tbody>\n",
       "</table>\n",
       "</div>"
      ],
      "text/plain": [
       "               Name                                  Test  p-value\n",
       "0             idade  The Null Hypothesis can be rejected.   0.0000\n",
       "1     tot_bilirubin  The Null Hypothesis can be rejected.   0.0000\n",
       "2  direct_bilirubin  The Null Hypothesis can be rejected.   0.0000\n",
       "3      tot_proteins  The Null Hypothesis can be rejected.   0.0000\n",
       "4          albumina  The Null Hypothesis can be rejected.   0.0000\n",
       "5          ag_ratio  The Null Hypothesis can be rejected.   0.0000\n",
       "6              sgpt  The Null Hypothesis can be rejected.   0.0000\n",
       "7              sgot  The Null Hypothesis can be rejected.   0.0007\n",
       "8           alkphos  The Null Hypothesis can be rejected.   0.0003"
      ]
     },
     "execution_count": 44,
     "metadata": {},
     "output_type": "execute_result"
    }
   ],
   "source": [
    "# sqrt transform\n",
    "sqrt_freeoutlier = sqrtFunc(dataset)\n",
    "\n",
    "# test\n",
    "normalTest(0.05, sqrt_freeoutlier)"
   ]
  },
  {
   "cell_type": "code",
   "execution_count": 45,
   "id": "81936145",
   "metadata": {},
   "outputs": [
    {
     "data": {
      "image/png": "[encoded data removed]",
      "text/plain": [
       "<Figure size 936x576 with 9 Axes>"
      ]
     },
     "metadata": {
      "needs_background": "light"
     },
     "output_type": "display_data"
    }
   ],
   "source": [
    "# Histograma Univariado\n",
    "sqrt.hist(grid = False, layout = (3,3), figsize = (13, 8), density = True, color = 'steelblue', alpha=0.7, ec = 'white')\n",
    "\n",
    "plt.tight_layout()\n",
    "plt.show()"
   ]
  },
  {
   "cell_type": "markdown",
   "id": "cbae3e73",
   "metadata": {},
   "source": [
    "### Reciprocal"
   ]
  },
  {
   "cell_type": "code",
   "execution_count": 46,
   "id": "7eb9eb83",
   "metadata": {},
   "outputs": [
    {
     "data": {
      "text/html": [
       "<div>\n",
       "<style scoped>\n",
       "    .dataframe tbody tr th:only-of-type {\n",
       "        vertical-align: middle;\n",
       "    }\n",
       "\n",
       "    .dataframe tbody tr th {\n",
       "        vertical-align: top;\n",
       "    }\n",
       "\n",
       "    .dataframe thead th {\n",
       "        text-align: right;\n",
       "    }\n",
       "</style>\n",
       "<table border=\"1\" class=\"dataframe\">\n",
       "  <thead>\n",
       "    <tr style=\"text-align: right;\">\n",
       "      <th></th>\n",
       "      <th>Name</th>\n",
       "      <th>Test</th>\n",
       "      <th>p-value</th>\n",
       "    </tr>\n",
       "  </thead>\n",
       "  <tbody>\n",
       "    <tr>\n",
       "      <th>0</th>\n",
       "      <td>idade</td>\n",
       "      <td>The Null Hypothesis can be rejected.</td>\n",
       "      <td>0.0</td>\n",
       "    </tr>\n",
       "    <tr>\n",
       "      <th>1</th>\n",
       "      <td>tot_bilirubin</td>\n",
       "      <td>The Null Hypothesis can be rejected.</td>\n",
       "      <td>0.0</td>\n",
       "    </tr>\n",
       "    <tr>\n",
       "      <th>2</th>\n",
       "      <td>direct_bilirubin</td>\n",
       "      <td>The Null Hypothesis can be rejected.</td>\n",
       "      <td>0.0</td>\n",
       "    </tr>\n",
       "    <tr>\n",
       "      <th>3</th>\n",
       "      <td>tot_proteins</td>\n",
       "      <td>The Null Hypothesis can be rejected.</td>\n",
       "      <td>0.0</td>\n",
       "    </tr>\n",
       "    <tr>\n",
       "      <th>4</th>\n",
       "      <td>albumina</td>\n",
       "      <td>The Null Hypothesis can be rejected.</td>\n",
       "      <td>0.0</td>\n",
       "    </tr>\n",
       "    <tr>\n",
       "      <th>5</th>\n",
       "      <td>ag_ratio</td>\n",
       "      <td>The Null Hypothesis can be rejected.</td>\n",
       "      <td>0.0</td>\n",
       "    </tr>\n",
       "    <tr>\n",
       "      <th>6</th>\n",
       "      <td>sgpt</td>\n",
       "      <td>The Null Hypothesis can be rejected.</td>\n",
       "      <td>0.0</td>\n",
       "    </tr>\n",
       "    <tr>\n",
       "      <th>7</th>\n",
       "      <td>sgot</td>\n",
       "      <td>The Null Hypothesis can be rejected.</td>\n",
       "      <td>0.0</td>\n",
       "    </tr>\n",
       "    <tr>\n",
       "      <th>8</th>\n",
       "      <td>alkphos</td>\n",
       "      <td>The Null Hypothesis can be rejected.</td>\n",
       "      <td>0.0</td>\n",
       "    </tr>\n",
       "  </tbody>\n",
       "</table>\n",
       "</div>"
      ],
      "text/plain": [
       "               Name                                  Test  p-value\n",
       "0             idade  The Null Hypothesis can be rejected.      0.0\n",
       "1     tot_bilirubin  The Null Hypothesis can be rejected.      0.0\n",
       "2  direct_bilirubin  The Null Hypothesis can be rejected.      0.0\n",
       "3      tot_proteins  The Null Hypothesis can be rejected.      0.0\n",
       "4          albumina  The Null Hypothesis can be rejected.      0.0\n",
       "5          ag_ratio  The Null Hypothesis can be rejected.      0.0\n",
       "6              sgpt  The Null Hypothesis can be rejected.      0.0\n",
       "7              sgot  The Null Hypothesis can be rejected.      0.0\n",
       "8           alkphos  The Null Hypothesis can be rejected.      0.0"
      ]
     },
     "execution_count": 46,
     "metadata": {},
     "output_type": "execute_result"
    }
   ],
   "source": [
    "# reciprocal transform\n",
    "rec_freeoutlier = reciprocalFunc(dataset)\n",
    "\n",
    "# test\n",
    "normalTest(0.05, rec_freeoutlier)"
   ]
  },
  {
   "cell_type": "code",
   "execution_count": 47,
   "id": "f988e706",
   "metadata": {},
   "outputs": [
    {
     "data": {
      "image/png": "[encoded data removed]",
      "text/plain": [
       "<Figure size 936x576 with 9 Axes>"
      ]
     },
     "metadata": {
      "needs_background": "light"
     },
     "output_type": "display_data"
    }
   ],
   "source": [
    "# Histogram\n",
    "rec_freeoutlier.hist(grid = False, layout = (3,3), figsize = (13, 8), density = True, color = 'steelblue', alpha=0.7, ec = 'white')\n",
    "\n",
    "plt.tight_layout()\n",
    "plt.show()"
   ]
  },
  {
   "cell_type": "code",
   "execution_count": 48,
   "id": "a3a99f25",
   "metadata": {},
   "outputs": [
    {
     "data": {
      "image/png": "[encoded data removed]",
      "text/plain": [
       "<Figure size 1080x504 with 9 Axes>"
      ]
     },
     "metadata": {
      "needs_background": "light"
     },
     "output_type": "display_data"
    }
   ],
   "source": [
    "# Box Plots\n",
    "rec_freeoutlier.plot(kind = 'box', subplots = True, layout = (3,3), sharex = False, sharey = False, figsize = (15,7))\n",
    "\n",
    "plt.tight_layout()\n",
    "plt.show()"
   ]
  },
  {
   "cell_type": "markdown",
   "id": "39f494bb",
   "metadata": {},
   "source": [
    "### Box-Cox"
   ]
  },
  {
   "cell_type": "code",
   "execution_count": 49,
   "id": "89e633c5",
   "metadata": {},
   "outputs": [
    {
     "data": {
      "text/html": [
       "<div>\n",
       "<style scoped>\n",
       "    .dataframe tbody tr th:only-of-type {\n",
       "        vertical-align: middle;\n",
       "    }\n",
       "\n",
       "    .dataframe tbody tr th {\n",
       "        vertical-align: top;\n",
       "    }\n",
       "\n",
       "    .dataframe thead th {\n",
       "        text-align: right;\n",
       "    }\n",
       "</style>\n",
       "<table border=\"1\" class=\"dataframe\">\n",
       "  <thead>\n",
       "    <tr style=\"text-align: right;\">\n",
       "      <th></th>\n",
       "      <th>Name</th>\n",
       "      <th>Test</th>\n",
       "      <th>p-value</th>\n",
       "    </tr>\n",
       "  </thead>\n",
       "  <tbody>\n",
       "    <tr>\n",
       "      <th>0</th>\n",
       "      <td>idade</td>\n",
       "      <td>The Null Hypothesis can be rejected.</td>\n",
       "      <td>0.0011</td>\n",
       "    </tr>\n",
       "    <tr>\n",
       "      <th>1</th>\n",
       "      <td>tot_bilirubin</td>\n",
       "      <td>The Null Hypothesis can be rejected.</td>\n",
       "      <td>0.0000</td>\n",
       "    </tr>\n",
       "    <tr>\n",
       "      <th>2</th>\n",
       "      <td>direct_bilirubin</td>\n",
       "      <td>The Null Hypothesis can be rejected.</td>\n",
       "      <td>0.0000</td>\n",
       "    </tr>\n",
       "    <tr>\n",
       "      <th>3</th>\n",
       "      <td>tot_proteins</td>\n",
       "      <td>The Null Hypothesis can be rejected.</td>\n",
       "      <td>0.0008</td>\n",
       "    </tr>\n",
       "    <tr>\n",
       "      <th>4</th>\n",
       "      <td>albumina</td>\n",
       "      <td>The Null Hypothesis cannot be rejected.</td>\n",
       "      <td>0.1739</td>\n",
       "    </tr>\n",
       "    <tr>\n",
       "      <th>5</th>\n",
       "      <td>ag_ratio</td>\n",
       "      <td>The Null Hypothesis can be rejected.</td>\n",
       "      <td>0.0001</td>\n",
       "    </tr>\n",
       "    <tr>\n",
       "      <th>6</th>\n",
       "      <td>sgpt</td>\n",
       "      <td>The Null Hypothesis cannot be rejected.</td>\n",
       "      <td>0.9914</td>\n",
       "    </tr>\n",
       "    <tr>\n",
       "      <th>7</th>\n",
       "      <td>sgot</td>\n",
       "      <td>The Null Hypothesis cannot be rejected.</td>\n",
       "      <td>0.0584</td>\n",
       "    </tr>\n",
       "    <tr>\n",
       "      <th>8</th>\n",
       "      <td>alkphos</td>\n",
       "      <td>The Null Hypothesis can be rejected.</td>\n",
       "      <td>0.0361</td>\n",
       "    </tr>\n",
       "  </tbody>\n",
       "</table>\n",
       "</div>"
      ],
      "text/plain": [
       "               Name                                     Test  p-value\n",
       "0             idade     The Null Hypothesis can be rejected.   0.0011\n",
       "1     tot_bilirubin     The Null Hypothesis can be rejected.   0.0000\n",
       "2  direct_bilirubin     The Null Hypothesis can be rejected.   0.0000\n",
       "3      tot_proteins     The Null Hypothesis can be rejected.   0.0008\n",
       "4          albumina  The Null Hypothesis cannot be rejected.   0.1739\n",
       "5          ag_ratio     The Null Hypothesis can be rejected.   0.0001\n",
       "6              sgpt  The Null Hypothesis cannot be rejected.   0.9914\n",
       "7              sgot  The Null Hypothesis cannot be rejected.   0.0584\n",
       "8           alkphos     The Null Hypothesis can be rejected.   0.0361"
      ]
     },
     "execution_count": 49,
     "metadata": {},
     "output_type": "execute_result"
    }
   ],
   "source": [
    "# bxc transform\n",
    "bxc_freeoutlier = bxcFunc(dataset)\n",
    "\n",
    "# test\n",
    "normalTest(0.05, bxc_freeoutlier)"
   ]
  },
  {
   "cell_type": "code",
   "execution_count": 50,
   "id": "5c8c290d",
   "metadata": {},
   "outputs": [
    {
     "data": {
      "image/png": "[encoded data removed]",
      "text/plain": [
       "<Figure size 1080x504 with 9 Axes>"
      ]
     },
     "metadata": {
      "needs_background": "light"
     },
     "output_type": "display_data"
    }
   ],
   "source": [
    "# Box Plots\n",
    "bxc_freeoutlier.plot(kind = 'box', subplots = True, layout = (3,3), sharex = False, sharey = False, figsize = (15,7))\n",
    "\n",
    "plt.tight_layout()\n",
    "plt.show()"
   ]
  },
  {
   "cell_type": "code",
   "execution_count": 51,
   "id": "4b91a5a4",
   "metadata": {},
   "outputs": [
    {
     "data": {
      "image/png": "[encoded data removed]",
      "text/plain": [
       "<Figure size 936x576 with 9 Axes>"
      ]
     },
     "metadata": {
      "needs_background": "light"
     },
     "output_type": "display_data"
    }
   ],
   "source": [
    "# Histogram\n",
    "bxc_freeoutlier.hist(grid = False, layout = (3,3), figsize = (13, 8), density = True, color = 'steelblue', alpha=0.7, ec = 'white')\n",
    "\n",
    "plt.tight_layout()\n",
    "plt.show()"
   ]
  },
  {
   "cell_type": "markdown",
   "id": "04f4209e",
   "metadata": {},
   "source": [
    "### Yeo-Johnson"
   ]
  },
  {
   "cell_type": "code",
   "execution_count": 52,
   "id": "f58c35de",
   "metadata": {},
   "outputs": [
    {
     "data": {
      "text/html": [
       "<div>\n",
       "<style scoped>\n",
       "    .dataframe tbody tr th:only-of-type {\n",
       "        vertical-align: middle;\n",
       "    }\n",
       "\n",
       "    .dataframe tbody tr th {\n",
       "        vertical-align: top;\n",
       "    }\n",
       "\n",
       "    .dataframe thead th {\n",
       "        text-align: right;\n",
       "    }\n",
       "</style>\n",
       "<table border=\"1\" class=\"dataframe\">\n",
       "  <thead>\n",
       "    <tr style=\"text-align: right;\">\n",
       "      <th></th>\n",
       "      <th>Name</th>\n",
       "      <th>Test</th>\n",
       "      <th>p-value</th>\n",
       "    </tr>\n",
       "  </thead>\n",
       "  <tbody>\n",
       "    <tr>\n",
       "      <th>0</th>\n",
       "      <td>idade</td>\n",
       "      <td>The Null Hypothesis can be rejected.</td>\n",
       "      <td>0.0011</td>\n",
       "    </tr>\n",
       "    <tr>\n",
       "      <th>1</th>\n",
       "      <td>tot_bilirubin</td>\n",
       "      <td>The Null Hypothesis can be rejected.</td>\n",
       "      <td>0.0000</td>\n",
       "    </tr>\n",
       "    <tr>\n",
       "      <th>2</th>\n",
       "      <td>direct_bilirubin</td>\n",
       "      <td>The Null Hypothesis can be rejected.</td>\n",
       "      <td>0.0000</td>\n",
       "    </tr>\n",
       "    <tr>\n",
       "      <th>3</th>\n",
       "      <td>tot_proteins</td>\n",
       "      <td>The Null Hypothesis can be rejected.</td>\n",
       "      <td>0.0009</td>\n",
       "    </tr>\n",
       "    <tr>\n",
       "      <th>4</th>\n",
       "      <td>albumina</td>\n",
       "      <td>The Null Hypothesis cannot be rejected.</td>\n",
       "      <td>0.0926</td>\n",
       "    </tr>\n",
       "    <tr>\n",
       "      <th>5</th>\n",
       "      <td>ag_ratio</td>\n",
       "      <td>The Null Hypothesis can be rejected.</td>\n",
       "      <td>0.0000</td>\n",
       "    </tr>\n",
       "    <tr>\n",
       "      <th>6</th>\n",
       "      <td>sgpt</td>\n",
       "      <td>The Null Hypothesis cannot be rejected.</td>\n",
       "      <td>0.9846</td>\n",
       "    </tr>\n",
       "    <tr>\n",
       "      <th>7</th>\n",
       "      <td>sgot</td>\n",
       "      <td>The Null Hypothesis cannot be rejected.</td>\n",
       "      <td>0.0591</td>\n",
       "    </tr>\n",
       "    <tr>\n",
       "      <th>8</th>\n",
       "      <td>alkphos</td>\n",
       "      <td>The Null Hypothesis cannot be rejected.</td>\n",
       "      <td>0.2175</td>\n",
       "    </tr>\n",
       "  </tbody>\n",
       "</table>\n",
       "</div>"
      ],
      "text/plain": [
       "               Name                                     Test  p-value\n",
       "0             idade     The Null Hypothesis can be rejected.   0.0011\n",
       "1     tot_bilirubin     The Null Hypothesis can be rejected.   0.0000\n",
       "2  direct_bilirubin     The Null Hypothesis can be rejected.   0.0000\n",
       "3      tot_proteins     The Null Hypothesis can be rejected.   0.0009\n",
       "4          albumina  The Null Hypothesis cannot be rejected.   0.0926\n",
       "5          ag_ratio     The Null Hypothesis can be rejected.   0.0000\n",
       "6              sgpt  The Null Hypothesis cannot be rejected.   0.9846\n",
       "7              sgot  The Null Hypothesis cannot be rejected.   0.0591\n",
       "8           alkphos  The Null Hypothesis cannot be rejected.   0.2175"
      ]
     },
     "execution_count": 52,
     "metadata": {},
     "output_type": "execute_result"
    }
   ],
   "source": [
    "# yeoJohn transform\n",
    "yf_freeoutlier = yeoJohnFunc(dataset)\n",
    "\n",
    "# test\n",
    "normalTest(0.05, yf_freeoutlier)"
   ]
  },
  {
   "cell_type": "code",
   "execution_count": 53,
   "id": "c764b07d",
   "metadata": {
    "scrolled": false
   },
   "outputs": [
    {
     "data": {
      "image/png": "[encoded data removed]",
      "text/plain": [
       "<Figure size 1080x504 with 9 Axes>"
      ]
     },
     "metadata": {
      "needs_background": "light"
     },
     "output_type": "display_data"
    }
   ],
   "source": [
    "# Box Plots\n",
    "yf_freeoutlier.plot(kind = 'box', subplots = True, layout = (3,3), sharex = False, sharey = False, figsize = (15,7))\n",
    "\n",
    "plt.tight_layout()\n",
    "plt.show()"
   ]
  },
  {
   "cell_type": "code",
   "execution_count": 54,
   "id": "37241796",
   "metadata": {},
   "outputs": [
    {
     "data": {
      "image/png": "[encoded data removed]",
      "text/plain": [
       "<Figure size 936x576 with 9 Axes>"
      ]
     },
     "metadata": {
      "needs_background": "light"
     },
     "output_type": "display_data"
    }
   ],
   "source": [
    "# Histogram\n",
    "yf_freeoutlier.hist(grid = False, layout = (3,3), figsize = (13, 8), density = True, color = 'steelblue', alpha=0.7, ec = 'white')\n",
    "\n",
    "plt.tight_layout()\n",
    "plt.show()"
   ]
  },
  {
   "cell_type": "markdown",
   "id": "1f83854f",
   "metadata": {},
   "source": [
    "The Box-Cox and Yeo-Johnson transformations applied after outlier treatment produced good results for most variables."
   ]
  },
  {
   "cell_type": "markdown",
   "id": "c74d5ed2",
   "metadata": {},
   "source": [
    "The treatment and transformations that can be used depend on the problem at hand, and the results depend on the data itself, so it is necessary to test different transformations.\n",
    "\n",
    "Regarding the application of these transformations to data used in machine learning models, we can verify if the algorithm used assumes the hypothesis of normality of the data. If it does't assume it, then these transformations may not be necessary."
   ]
  },
  {
   "cell_type": "markdown",
   "id": "6ac42b29",
   "metadata": {},
   "source": [
    "___"
   ]
  }
 ],
 "metadata": {
  "kernelspec": {
   "display_name": "Python 3 (ipykernel)",
   "language": "python",
   "name": "python3"
  },
  "language_info": {
   "codemirror_mode": {
    "name": "ipython",
    "version": 3
   },
   "file_extension": ".py",
   "mimetype": "text/x-python",
   "name": "python",
   "nbconvert_exporter": "python",
   "pygments_lexer": "ipython3",
   "version": "3.9.13"
  }
 },
 "nbformat": 4,
 "nbformat_minor": 5
}

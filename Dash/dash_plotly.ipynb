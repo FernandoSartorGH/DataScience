{
 "cells": [
  {
   "cell_type": "markdown",
   "id": "0a329b04",
   "metadata": {},
   "source": [
    "# "
   ]
  },
  {
   "cell_type": "markdown",
   "id": "e61ce9bd",
   "metadata": {},
   "source": [
    "# <center> Dash Plotly"
   ]
  },
  {
   "cell_type": "markdown",
   "id": "cd22fc85",
   "metadata": {},
   "source": [
    "## Imports"
   ]
  },
  {
   "cell_type": "code",
   "execution_count": 1,
   "id": "980915f0",
   "metadata": {},
   "outputs": [],
   "source": [
    "# Supress warnings\n",
    "import warnings\n",
    "warnings.filterwarnings('ignore')\n",
    "\n",
    "import numpy as np\n",
    "import pandas as pd\n",
    "import plotly.express as px"
   ]
  },
  {
   "cell_type": "markdown",
   "id": "dbe2a8d5",
   "metadata": {},
   "source": [
    "## Data"
   ]
  },
  {
   "cell_type": "code",
   "execution_count": 2,
   "id": "90adc5dd",
   "metadata": {},
   "outputs": [],
   "source": [
    "url = 'https://raw.githubusercontent.com/plotly/datasets/master/gapminder_unfiltered.csv'\n",
    "df = pd.read_csv(url, encoding='utf-8')"
   ]
  },
  {
   "cell_type": "markdown",
   "id": "19b3ad34",
   "metadata": {},
   "source": [
    "---"
   ]
  },
  {
   "cell_type": "markdown",
   "id": "ed6668f2",
   "metadata": {},
   "source": [
    "# Dash"
   ]
  },
  {
   "cell_type": "markdown",
   "id": "cae14e64",
   "metadata": {},
   "source": [
    "## Basic Dash Structure"
   ]
  },
  {
   "cell_type": "code",
   "execution_count": 3,
   "id": "907864e7",
   "metadata": {},
   "outputs": [],
   "source": [
    "# Imports\n",
    "from dash import Dash, html"
   ]
  },
  {
   "cell_type": "code",
   "execution_count": 4,
   "id": "bc633d52",
   "metadata": {},
   "outputs": [
    {
     "name": "stdout",
     "output_type": "stream",
     "text": [
      "Dash app running on http://127.0.0.1:8050/\n"
     ]
    }
   ],
   "source": [
    "# Init app\n",
    "app = Dash(__name__)\n",
    "\n",
    "# app layout\n",
    "app.layout = html.Div([\n",
    "    html.P(children='Hello')\n",
    "])\n",
    "\n",
    "# callbacks\n",
    "\n",
    "# run app\n",
    "if __name__ == '__main__':\n",
    "    app.run(debug=True, jupyter_mode=\"external\")"
   ]
  },
  {
   "cell_type": "markdown",
   "id": "3cb8a6fc",
   "metadata": {},
   "source": [
    "## Minimal Dash"
   ]
  },
  {
   "cell_type": "code",
   "execution_count": 5,
   "id": "ddfe15b3",
   "metadata": {},
   "outputs": [],
   "source": [
    "# imports\n",
    "from dash import Dash, dcc, callback, Input, Output"
   ]
  },
  {
   "cell_type": "code",
   "execution_count": 6,
   "id": "3c0d8337",
   "metadata": {},
   "outputs": [
    {
     "name": "stdout",
     "output_type": "stream",
     "text": [
      "Dash app running on http://127.0.0.1:8050/\n"
     ]
    }
   ],
   "source": [
    "# init app\n",
    "app = Dash(__name__)\n",
    "\n",
    "# app layout\n",
    "title = html.H1(children='Dash Title', style={'textAlign':'center'})\n",
    "body = html.Div([\n",
    "    dcc.Dropdown(df.country.unique(), 'Canada', id='dropdown_selection'),\n",
    "    dcc.Graph(id='graph_content')\n",
    "])\n",
    "\n",
    "app.layout = html.Div([\n",
    "    title,\n",
    "    body\n",
    "])\n",
    "\n",
    "# calback\n",
    "@callback(\n",
    "    Output('graph_content', 'figure'),\n",
    "    Input('dropdown_selection', 'value')\n",
    ")\n",
    "def update_graph(value):\n",
    "    dff = df[df.country==value]\n",
    "    return px.line(dff, x='year', y='pop')\n",
    "\n",
    "# run app\n",
    "if __name__ == '__main__':\n",
    "    app.run(debug=True, jupyter_mode='external')"
   ]
  },
  {
   "cell_type": "markdown",
   "id": "9956c39f",
   "metadata": {},
   "source": [
    "## Dash Table and Graph"
   ]
  },
  {
   "cell_type": "code",
   "execution_count": 7,
   "id": "0ed52c86",
   "metadata": {},
   "outputs": [],
   "source": [
    "# imports \n",
    "from dash import Dash, html, dcc, dash_table"
   ]
  },
  {
   "cell_type": "code",
   "execution_count": 8,
   "id": "eadfe068",
   "metadata": {},
   "outputs": [],
   "source": [
    "# filter data\n",
    "df_2007 = df[df.year==2007]"
   ]
  },
  {
   "cell_type": "code",
   "execution_count": 9,
   "id": "71387174",
   "metadata": {},
   "outputs": [
    {
     "name": "stdout",
     "output_type": "stream",
     "text": [
      "Dash app running on http://127.0.0.1:8050/\n"
     ]
    }
   ],
   "source": [
    "# init app\n",
    "app = Dash(__name__)\n",
    "\n",
    "# app layout\n",
    "title = html.H1('Dash Table and Graph', style={'textAlign':'center'})\n",
    "body = html.Div([\n",
    "    dash_table.DataTable(data=df_2007.to_dict('records'), page_size=10),\n",
    "    dcc.Graph(figure=px.histogram(df, x='continent', y='lifeExp', histfunc='avg'))\n",
    "])\n",
    "\n",
    "app.layout = html.Div([\n",
    "    title,\n",
    "    body\n",
    "])\n",
    "\n",
    "# run app\n",
    "if __name__ == '__main__':\n",
    "    app.run(debug=True, jupyter_mode='external')"
   ]
  },
  {
   "cell_type": "markdown",
   "id": "c28f3fb2",
   "metadata": {},
   "source": [
    "## Dash Table and Graph with Callbacks"
   ]
  },
  {
   "cell_type": "code",
   "execution_count": 10,
   "id": "8b830a83",
   "metadata": {},
   "outputs": [],
   "source": [
    "# imports\n",
    "from dash import Dash, dcc, html, Input, Output, dash_table"
   ]
  },
  {
   "cell_type": "code",
   "execution_count": 11,
   "id": "de8b2e06",
   "metadata": {},
   "outputs": [],
   "source": [
    "# filter data\n",
    "df_2007 = df[df.year==2007]"
   ]
  },
  {
   "cell_type": "code",
   "execution_count": 12,
   "id": "69b49dae",
   "metadata": {},
   "outputs": [
    {
     "name": "stdout",
     "output_type": "stream",
     "text": [
      "Dash app running on http://127.0.0.1:8050/\n"
     ]
    }
   ],
   "source": [
    "# init app\n",
    "app = Dash(__name__)\n",
    "\n",
    "# app laouat\n",
    "title = html.H1('Dash Callback', style={'textAlign':'center'})\n",
    "\n",
    "body = html.Div([\n",
    "    dcc.RadioItems(options=['pop', 'lifeExp', 'gdpPercap'], value='lifeExp', id='radio_id'),\n",
    "    dash_table.DataTable(data=df_2007.to_dict('records'), page_size=6),\n",
    "    dcc.Graph(figure={}, id='histogram_id')\n",
    "])\n",
    "\n",
    "app.layout = html.Div([\n",
    "    title,\n",
    "    body\n",
    "])\n",
    "\n",
    "# callbacks\n",
    "@callback(\n",
    "    Output('histogram_id', 'figure'),\n",
    "    Input('radio_id', 'value')\n",
    ")\n",
    "def update_graph(op_chosen):\n",
    "    value = f'{op_chosen}'\n",
    "    fig = px.histogram(df, x='continent', y=value, histfunc='avg')\n",
    "    \n",
    "    return fig\n",
    "\n",
    "# layout\n",
    "if __name__ == '__main__':\n",
    "    app.run(debug=True, jupyter_mode='external')"
   ]
  },
  {
   "cell_type": "markdown",
   "id": "525c3936",
   "metadata": {},
   "source": [
    "## Add cols"
   ]
  },
  {
   "cell_type": "code",
   "execution_count": 13,
   "id": "e5a58baa",
   "metadata": {},
   "outputs": [],
   "source": [
    "# imports\n",
    "import dash_bootstrap_components as dbc\n",
    "from dash import Dash, dcc, html, Input, Output, dash_table"
   ]
  },
  {
   "cell_type": "code",
   "execution_count": 14,
   "id": "8f1d6c16",
   "metadata": {},
   "outputs": [
    {
     "name": "stdout",
     "output_type": "stream",
     "text": [
      "Dash app running on http://127.0.0.1:8050/\n"
     ]
    }
   ],
   "source": [
    "# Init the app - add a Dash Bootstrap theme\n",
    "external_stylesheets = [dbc.themes.BOOTSTRAP]\n",
    "app = Dash(__name__, external_stylesheets=external_stylesheets)\n",
    "\n",
    "\n",
    "# app layout\n",
    "app.layout = dbc.Container([\n",
    "    \n",
    "    # Title\n",
    "    html.H1('Dash Callback', style={'textAlign':'center', 'color':'slategray'}),\n",
    "    \n",
    "    # Filter data - Radio items\n",
    "    dbc.Row([\n",
    "        dcc.RadioItems(\n",
    "            options=[\n",
    "                {'label': ' pop', 'value': 'pop'},\n",
    "                {'label': ' lifeExp', 'value': 'lifeExp'},\n",
    "                {'label': ' gdpPercap', 'value': 'gdpPercap'},\n",
    "            ],\n",
    "            value='lifeExp', \n",
    "            style={'margin-left':'20px'},\n",
    "            labelStyle={'display':  'inline-block', 'width': None, 'fontSize': 16, 'margin-left':'20px'},\n",
    "            inline=True, \n",
    "            id='radio_id'),\n",
    "        \n",
    "        html.P()\n",
    "    ]),\n",
    "    \n",
    "    # Show table and graph\n",
    "    dbc.Row([\n",
    "        dbc.Col([\n",
    "            dash_table.DataTable(data=df_2007.to_dict('records'), page_size=12, style_table={'overflowX':'auto'}),\n",
    "        ], width=6),\n",
    "        \n",
    "        dbc.Col([\n",
    "            dcc.Graph(figure={}, id='histogram_id')\n",
    "        ], width=6)\n",
    "    ])\n",
    "], fluid=True, style={'background': 'rgba(74,86,93,0.1)', 'height' : 'calc(100vh - 24px)',})\n",
    "\n",
    "# Callbacks\n",
    "@callback(\n",
    "    Output('histogram_id', 'figure'),\n",
    "    Input('radio_id', 'value')\n",
    ")\n",
    "def update_graph(op_chosen):\n",
    "    value = f'{op_chosen}'\n",
    "    fig = px.histogram(df, x='continent', y=value, histfunc='avg')\n",
    "    \n",
    "    return fig\n",
    "\n",
    "# layout\n",
    "if __name__ == '__main__':\n",
    "    app.run(debug=True, jupyter_mode='external')"
   ]
  },
  {
   "cell_type": "markdown",
   "id": "f81accac",
   "metadata": {},
   "source": [
    "## Styling"
   ]
  },
  {
   "cell_type": "code",
   "execution_count": 15,
   "id": "9d283f91",
   "metadata": {},
   "outputs": [],
   "source": [
    "content_style = {\n",
    "    'height' : 'calc(100vh - 0px)',\n",
    "    'background': 'linear-gradient(0deg, rgba(74,86,93,0.1) 50%, rgba(50,67,83,0.1) 50%)',\n",
    "    'border-color': 'transparent'\n",
    "}\n",
    "                    \n",
    "card_radio_style = {\n",
    "    'width': '98.75%', \n",
    "    'display': 'inline-block', \n",
    "    'margin-top': '0.5rem',\n",
    "    'border-radius':'3px', \n",
    "    'border': '0px',\n",
    "    'box-shadow': ' 2px 2px 4px rgba(26, 29, 32, 0.5)',\n",
    "    #'background-color': 'rgba(26, 29, 32, 0.001)',\n",
    "    'background-color': 'rgba(255,255,255,0.95)'\n",
    "}\n",
    "\n",
    "card_style = {\n",
    "    'width': '100%',\n",
    "    'display': 'inline-block', \n",
    "    'margin-top': '0.5rem',\n",
    "    'border-radius':'3px', \n",
    "    'border': '0px',\n",
    "    'box-shadow': ' 2px 2px 4px rgba(26, 29, 32, 0.5)',\n",
    "    'background-color': 'rgba(255,255,255,0.8)'\n",
    "}"
   ]
  },
  {
   "cell_type": "code",
   "execution_count": 16,
   "id": "41219b1a",
   "metadata": {},
   "outputs": [
    {
     "name": "stdout",
     "output_type": "stream",
     "text": [
      "Dash app running on http://127.0.0.1:8050/\n"
     ]
    }
   ],
   "source": [
    "# init the app - add a Dash Bootstrap theme\n",
    "external_stylesheets = [dbc.themes.BOOTSTRAP]\n",
    "app = Dash(__name__, external_stylesheets=external_stylesheets)\n",
    "\n",
    "\n",
    "# app layout\n",
    "app.layout = dbc.Container([\n",
    "    \n",
    "    # Title\n",
    "    html.H1('Dash Styling', style={'textAlign':'center', 'color':'darkslategray'}),\n",
    "    \n",
    "    # Cards\n",
    "    dbc.Row([\n",
    "        dbc.Card([\n",
    "            dbc.CardBody([\n",
    "                dbc.Col([\n",
    "                    \n",
    "                ], width=6),\n",
    "                \n",
    "                dbc.Col([\n",
    "                    # filter data - Radio items\n",
    "                    dcc.RadioItems(\n",
    "                        options=[\n",
    "                            {'label': ' População', 'value': 'pop'},\n",
    "                            {'label': ' Expectatida de vida', 'value': 'lifeExp'},\n",
    "                            {'label': ' Renda Per Capta', 'value': 'gdpPercap'},\n",
    "                        ],\n",
    "                        value='lifeExp', \n",
    "                        style={'margin-left':'20px', 'margin-top':'0px'},\n",
    "                        labelStyle={'display':  'inline-block', 'width': None, 'fontSize': 16, 'margin-left':'15px'},\n",
    "                        inline=True, \n",
    "                        id='radio_id'),\n",
    "                ], width=6)\n",
    "            ])\n",
    "        ], style=card_radio_style),\n",
    "    ], justify = 'around'),\n",
    "    \n",
    "    # show table and graph\n",
    "    dbc.Row([\n",
    "        dbc.Col([\n",
    "            dbc.Card([\n",
    "                dbc.CardBody([\n",
    "                    dash_table.DataTable(data=df_2007.to_dict('records'), page_size=12, style_table={'overflowX':'auto'}),\n",
    "                ])\n",
    "            ], style=card_style)\n",
    "        ], width=6),\n",
    "\n",
    "        dbc.Col([\n",
    "            dbc.Card([\n",
    "                dbc.CardBody([\n",
    "                    dcc.Graph(figure={}, id='histogram_id')\n",
    "                ])\n",
    "            ], style=card_style)\n",
    "        ], width=6)\n",
    "    ], justify = 'around')\n",
    "      \n",
    "], fluid=True, style=content_style)\n",
    "\n",
    "# callbacks\n",
    "@callback(\n",
    "    Output('histogram_id', 'figure'),\n",
    "    Input('radio_id', 'value')\n",
    ")\n",
    "def update_graph(op_chosen):\n",
    "    value = f'{op_chosen}'\n",
    "    fig = px.histogram(df, x='continent', y=value, histfunc='avg')\n",
    "    fig.update_layout(height=435, paper_bgcolor='rgba(255,255,255,0.8)', plot_bgcolor='rgba(255,255,255,0.8)',)\n",
    "    \n",
    "    return fig\n",
    "\n",
    "# layout\n",
    "if __name__ == '__main__':\n",
    "    app.run(debug=True, jupyter_mode='external')"
   ]
  },
  {
   "cell_type": "markdown",
   "id": "54f6f020",
   "metadata": {},
   "source": [
    "## Styling II"
   ]
  },
  {
   "cell_type": "code",
   "execution_count": 17,
   "id": "83d90a95",
   "metadata": {},
   "outputs": [],
   "source": [
    "content_style = {\n",
    "    'height' : 'calc(100vh - 0px)',\n",
    "    'background': 'linear-gradient(0deg, rgba(74,86,93,0.1) 50%, rgba(50,67,83,0.1) 50%)',\n",
    "    'border-color': 'transparent'\n",
    "}\n",
    "                    \n",
    "card_radio_style = {\n",
    "    'width': '100%', \n",
    "    'display': 'inline-block', \n",
    "    'margin-top': '0.5rem',\n",
    "    'border-radius':'3px', \n",
    "    'border': '0px',\n",
    "    'box-shadow': ' 2px 2px 4px rgba(26, 29, 32, 0.5)',\n",
    "    #'background-color': 'rgba(26, 29, 32, 0.001)',\n",
    "    'background-color': 'rgba(255,255,255,0.95)'\n",
    "}\n",
    "\n",
    "card_style = {\n",
    "    'width': '100%',\n",
    "    'display': 'inline-block', \n",
    "    'margin-top': '0.5rem',\n",
    "    'border-radius':'3px', \n",
    "    'border': '0px',\n",
    "    'box-shadow': ' 2px 2px 4px rgba(26, 29, 32, 0.5)',\n",
    "    'background-color': 'rgba(255,255,255,0.8)'\n",
    "}"
   ]
  },
  {
   "cell_type": "code",
   "execution_count": 18,
   "id": "89ad3402",
   "metadata": {},
   "outputs": [
    {
     "name": "stdout",
     "output_type": "stream",
     "text": [
      "Dash app running on http://127.0.0.1:8050/\n"
     ]
    }
   ],
   "source": [
    "# init the app - add a Dash Bootstrap theme\n",
    "external_stylesheets = [dbc.themes.BOOTSTRAP]\n",
    "app = Dash(__name__, external_stylesheets=external_stylesheets)\n",
    "\n",
    "\n",
    "# app layout\n",
    "app.layout = dbc.Container([\n",
    "    \n",
    "    # Title\n",
    "    html.H1('Dash Styling', className = 'text-center display-1',\n",
    "            style={'textAlign':'center', 'color':'darkslategray', 'font-size':60, 'font-family':'Georgia'}),\n",
    "    \n",
    "    # Cards\n",
    "    dbc.Row([\n",
    "        dbc.Col([\n",
    "            dbc.Card([\n",
    "                dbc.CardBody([\n",
    "                    html.P('Periodo'),\n",
    "                    dcc.RangeSlider(\n",
    "                        value=[df.year.min(),df.year.max()],\n",
    "                        min=df.year.min(),\n",
    "                        max=df.year.max(),\n",
    "                        step=1,\n",
    "                        marks=None,\n",
    "                        tooltip={\n",
    "                            'placement':'bottom',\n",
    "                            'always_visible':True\n",
    "                        },\n",
    "                        id='slider_id'\n",
    "                    )\n",
    "                ])\n",
    "            ], style=card_radio_style),\n",
    "        ], width=6),\n",
    "        \n",
    "        dbc.Col([\n",
    "            dbc.Card([\n",
    "                dbc.CardBody([\n",
    "                    html.P(),\n",
    "                    # filter data - Radio items\n",
    "                    dcc.RadioItems(\n",
    "                        options=[\n",
    "                            {'label': ' População', 'value': 'pop'},\n",
    "                            {'label': ' Expectatida de vida', 'value': 'lifeExp'},\n",
    "                            {'label': ' Renda Per Capita', 'value': 'gdpPercap'},\n",
    "                        ],\n",
    "                        value='lifeExp', \n",
    "                        style={'margin-left':'200px', 'margin-top':'28px', 'margin-bottom':'26px'},\n",
    "                        labelStyle={'display':  'inline-block', 'width': None, 'fontSize': 16, 'margin-left':'15px'},\n",
    "                        inline=True, \n",
    "                        id='radio_id'),\n",
    "                    html.P(),\n",
    "                ])\n",
    "            ], style=card_radio_style),\n",
    "        ], width=6),\n",
    "    ], justify = 'around'),\n",
    "    \n",
    "    # show table and graph\n",
    "    dbc.Row([\n",
    "        dbc.Col([\n",
    "            dbc.Card([\n",
    "                dbc.CardBody([\n",
    "                    dash_table.DataTable(\n",
    "                        data=[], \n",
    "                        page_size=12,\n",
    "                        style_table={'overflowX':'auto'},\n",
    "                        id='table_id'),\n",
    "                ])\n",
    "            ], style=card_style)\n",
    "        ], width=6),\n",
    "\n",
    "        dbc.Col([\n",
    "            dbc.Card([\n",
    "                dbc.CardBody([\n",
    "                    dcc.Graph(figure={}, id='histogram_id')\n",
    "                ])\n",
    "            ], style=card_style)\n",
    "        ], width=6)\n",
    "    ], justify = 'around')\n",
    "      \n",
    "], fluid=True, style=content_style)\n",
    "\n",
    "\n",
    "# callbacks plot\n",
    "@callback(\n",
    "    Output('histogram_id', 'figure'),\n",
    "    [Input('radio_id', 'value'),\n",
    "     Input('slider_id', 'value')]\n",
    ")\n",
    "def update_graph(op_chosen, period):\n",
    "    value = f'{op_chosen}'\n",
    "    \n",
    "    title_chosen = 'Expectativa de Vida' if op_chosen == 'lifeExp' else 'População' if op_chosen == 'pop' else 'Renda per Capita'\n",
    "    df_filt = df.loc[(df.year>=period[0]) & (df.year<=period[1])]\n",
    "    \n",
    "    fig = px.histogram(df_filt, x='continent', y=value, histfunc='avg', title=f'{title_chosen} por Continente')\n",
    "    fig.update_layout(\n",
    "        font_family='Courier New',\n",
    "        font_size=12,\n",
    "        title_font_family='Times New Roman',\n",
    "        title_font_size=22,\n",
    "        title_x=0.5\n",
    "        )\n",
    "    fig.update_layout(height=435, paper_bgcolor='rgba(255,255,255,0.8)', plot_bgcolor='rgba(255,255,255,0.8)',)\n",
    "    \n",
    "    return fig\n",
    "\n",
    "\n",
    "# callbacks table\n",
    "@callback(\n",
    "    Output('table_id', 'data'),\n",
    "    Input('slider_id', 'value')\n",
    ")\n",
    "def update_graph(value):\n",
    "    \n",
    "    df_filt = df.loc[(df.year>=value[0]) & (df.year<=value[1])]\n",
    "    data = df_filt.to_dict('records')\n",
    "    \n",
    "    return data\n",
    "\n",
    "# layout\n",
    "if __name__ == '__main__':\n",
    "    app.run(debug=True, jupyter_mode='external')"
   ]
  },
  {
   "cell_type": "markdown",
   "id": "8d2abc99",
   "metadata": {},
   "source": [
    "---"
   ]
  }
 ],
 "metadata": {
  "kernelspec": {
   "display_name": "Python 3 (ipykernel)",
   "language": "python",
   "name": "python3"
  },
  "language_info": {
   "codemirror_mode": {
    "name": "ipython",
    "version": 3
   },
   "file_extension": ".py",
   "mimetype": "text/x-python",
   "name": "python",
   "nbconvert_exporter": "python",
   "pygments_lexer": "ipython3",
   "version": "3.9.13"
  }
 },
 "nbformat": 4,
 "nbformat_minor": 5
}

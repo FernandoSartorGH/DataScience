{
 "cells": [
  {
   "cell_type": "markdown",
   "id": "a600cc5b",
   "metadata": {},
   "source": [
    "# "
   ]
  },
  {
   "cell_type": "markdown",
   "id": "ff6d5239",
   "metadata": {},
   "source": [
    "# <center>List comprehension, map, reduce, filter, apply"
   ]
  },
  {
   "cell_type": "markdown",
   "id": "3ee4fd7f",
   "metadata": {},
   "source": [
    "---"
   ]
  },
  {
   "cell_type": "code",
   "execution_count": 1,
   "id": "afea27f7",
   "metadata": {},
   "outputs": [],
   "source": [
    "# Imports\n",
    "import numpy as np\n",
    "import pandas as pd"
   ]
  },
  {
   "cell_type": "code",
   "execution_count": 2,
   "id": "4010e876",
   "metadata": {},
   "outputs": [
    {
     "data": {
      "text/html": [
       "<div>\n",
       "<style scoped>\n",
       "    .dataframe tbody tr th:only-of-type {\n",
       "        vertical-align: middle;\n",
       "    }\n",
       "\n",
       "    .dataframe tbody tr th {\n",
       "        vertical-align: top;\n",
       "    }\n",
       "\n",
       "    .dataframe thead th {\n",
       "        text-align: right;\n",
       "    }\n",
       "</style>\n",
       "<table border=\"1\" class=\"dataframe\">\n",
       "  <thead>\n",
       "    <tr style=\"text-align: right;\">\n",
       "      <th></th>\n",
       "      <th>col1</th>\n",
       "      <th>col2</th>\n",
       "    </tr>\n",
       "  </thead>\n",
       "  <tbody>\n",
       "    <tr>\n",
       "      <th>0</th>\n",
       "      <td>1</td>\n",
       "      <td>a</td>\n",
       "    </tr>\n",
       "    <tr>\n",
       "      <th>1</th>\n",
       "      <td>2</td>\n",
       "      <td>e</td>\n",
       "    </tr>\n",
       "    <tr>\n",
       "      <th>2</th>\n",
       "      <td>3</td>\n",
       "      <td>i</td>\n",
       "    </tr>\n",
       "    <tr>\n",
       "      <th>3</th>\n",
       "      <td>4</td>\n",
       "      <td>o</td>\n",
       "    </tr>\n",
       "    <tr>\n",
       "      <th>4</th>\n",
       "      <td>5</td>\n",
       "      <td>u</td>\n",
       "    </tr>\n",
       "  </tbody>\n",
       "</table>\n",
       "</div>"
      ],
      "text/plain": [
       "   col1 col2\n",
       "0     1    a\n",
       "1     2    e\n",
       "2     3    i\n",
       "3     4    o\n",
       "4     5    u"
      ]
     },
     "execution_count": 2,
     "metadata": {},
     "output_type": "execute_result"
    }
   ],
   "source": [
    "# Define empty dataset\n",
    "df = pd.DataFrame({'col1': [1,2,3,4,5],\n",
    "                     'col2': ['a','e','i','o','u']})\n",
    "\n",
    "# View data\n",
    "df"
   ]
  },
  {
   "cell_type": "markdown",
   "id": "08438637",
   "metadata": {},
   "source": [
    "---"
   ]
  },
  {
   "cell_type": "markdown",
   "id": "feeab868",
   "metadata": {},
   "source": [
    "## Loop for vs List Comprehension"
   ]
  },
  {
   "cell_type": "code",
   "execution_count": 3,
   "id": "34a399db",
   "metadata": {},
   "outputs": [
    {
     "name": "stdout",
     "output_type": "stream",
     "text": [
      "[0, 1, 4, 9, 16, 25, 36, 49, 64, 81]\n"
     ]
    }
   ],
   "source": [
    "# loop for\n",
    "data = []\n",
    "\n",
    "for i in range(10):\n",
    "    data.append(i**2)\n",
    "\n",
    "print(data)"
   ]
  },
  {
   "cell_type": "code",
   "execution_count": 4,
   "id": "373ceac1",
   "metadata": {},
   "outputs": [
    {
     "name": "stdout",
     "output_type": "stream",
     "text": [
      "[0, 1, 4, 9, 16, 25, 36, 49, 64, 81]\n"
     ]
    }
   ],
   "source": [
    "# [item for item in list]\n",
    "data = [i**2 for i in range(10)]\n",
    "\n",
    "print(data)"
   ]
  },
  {
   "cell_type": "code",
   "execution_count": 5,
   "id": "fec773d0",
   "metadata": {},
   "outputs": [
    {
     "name": "stdout",
     "output_type": "stream",
     "text": [
      "['A', 'E', 'I', 'O', 'U']\n"
     ]
    }
   ],
   "source": [
    "# loop for\n",
    "data = []\n",
    "\n",
    "for v in df['col2']:\n",
    "    data.append(str(v).upper())\n",
    "\n",
    "print(data)"
   ]
  },
  {
   "cell_type": "code",
   "execution_count": 6,
   "id": "f6c72e4e",
   "metadata": {},
   "outputs": [
    {
     "name": "stdout",
     "output_type": "stream",
     "text": [
      "['A', 'E', 'I', 'O', 'U']\n"
     ]
    }
   ],
   "source": [
    "# [item for item in list]\n",
    "data = [str(item).upper() for item in df['col2']]\n",
    "\n",
    "print(data)"
   ]
  },
  {
   "cell_type": "markdown",
   "id": "f2e89528",
   "metadata": {},
   "source": [
    "## List Comprehension with ONE condition"
   ]
  },
  {
   "cell_type": "code",
   "execution_count": 7,
   "id": "a1fbd17c",
   "metadata": {},
   "outputs": [
    {
     "name": "stdout",
     "output_type": "stream",
     "text": [
      "[0, 2, 4, 6, 8, 10, 12, 14, 16, 18]\n"
     ]
    }
   ],
   "source": [
    "# loop for -- append even numbers\n",
    "even = []\n",
    "for i in range(20):\n",
    "    if i % 2 == 0:\n",
    "        even.append(i)\n",
    "\n",
    "print(even)"
   ]
  },
  {
   "cell_type": "code",
   "execution_count": 8,
   "id": "4cf43d1e",
   "metadata": {},
   "outputs": [
    {
     "name": "stdout",
     "output_type": "stream",
     "text": [
      "[0, 2, 4, 6, 8, 10, 12, 14, 16, 18]\n"
     ]
    }
   ],
   "source": [
    "# [item for item in list if condition]\n",
    "even = [i for i in range(20) if i % 2 == 0]\n",
    "\n",
    "print(even)"
   ]
  },
  {
   "cell_type": "markdown",
   "id": "51d0a1e9",
   "metadata": {},
   "source": [
    "## List Comprehension with TWO conditions"
   ]
  },
  {
   "cell_type": "code",
   "execution_count": 9,
   "id": "cc46cb79",
   "metadata": {},
   "outputs": [
    {
     "name": "stdout",
     "output_type": "stream",
     "text": [
      "[0, 30, 60, 90]\n"
     ]
    }
   ],
   "source": [
    "# loop for -- append if number is divisible by five and six\n",
    "\n",
    "result = []\n",
    "\n",
    "for i in range(100):\n",
    "    if i % 5 == 0:\n",
    "        if i % 6 == 0:\n",
    "            result.append(i)\n",
    "\n",
    "print(result)"
   ]
  },
  {
   "cell_type": "code",
   "execution_count": 10,
   "id": "b00a48b7",
   "metadata": {},
   "outputs": [
    {
     "name": "stdout",
     "output_type": "stream",
     "text": [
      "[0, 30, 60, 90]\n"
     ]
    }
   ],
   "source": [
    "# [item for item in list if condition if condition]\n",
    "result = [num for num in range(100) if num % 5 == 0 if num % 6 == 0]\n",
    "\n",
    "print(result)"
   ]
  },
  {
   "cell_type": "markdown",
   "id": "077c190a",
   "metadata": {},
   "source": [
    "## List Comprehension with elif"
   ]
  },
  {
   "cell_type": "code",
   "execution_count": 11,
   "id": "1508f226",
   "metadata": {},
   "outputs": [
    {
     "name": "stdout",
     "output_type": "stream",
     "text": [
      "[0, 2, 4, 600, 8, 10, 12, 14, 16, 18]\n"
     ]
    }
   ],
   "source": [
    "# loop for -- Append even numbers and if number is six multiply by 100\n",
    "\n",
    "even_aj = []\n",
    "for i in range(20):\n",
    "    if i == 6:\n",
    "        even_aj.append(i*100)\n",
    "    elif i % 2 == 0:\n",
    "        even_aj.append(i)\n",
    "\n",
    "print(even_aj)"
   ]
  },
  {
   "cell_type": "code",
   "execution_count": 12,
   "id": "1ce8c1c4",
   "metadata": {},
   "outputs": [
    {
     "name": "stdout",
     "output_type": "stream",
     "text": [
      "[0, 2, 4, 600, 8, 10, 12, 14, 16, 18]\n"
     ]
    }
   ],
   "source": [
    "# [item if item condition else something for item in list if condition]\n",
    "even_aj = [i if i !=6 else i*100 \n",
    "           for i in range(20) \n",
    "           if i % 2 == 0]\n",
    "\n",
    "print(even_aj)"
   ]
  },
  {
   "cell_type": "markdown",
   "id": "86c9aece",
   "metadata": {},
   "source": [
    "## List Comprehension with if else"
   ]
  },
  {
   "cell_type": "code",
   "execution_count": 13,
   "id": "a567b218",
   "metadata": {},
   "outputs": [
    {
     "name": "stdout",
     "output_type": "stream",
     "text": [
      "[1, 0, 0, 0, 0, 1, 0, 0, 0, 0, 1, 0, 0, 0, 0, 1]\n"
     ]
    }
   ],
   "source": [
    "result = []\n",
    "\n",
    "# loop for\n",
    "for i in range(16):\n",
    "    if i % 5 == 0:\n",
    "        result.append(1)\n",
    "    else:\n",
    "        result.append(0)\n",
    "\n",
    "print(result)"
   ]
  },
  {
   "cell_type": "code",
   "execution_count": 14,
   "id": "abc95131",
   "metadata": {},
   "outputs": [
    {
     "name": "stdout",
     "output_type": "stream",
     "text": [
      "[1, 0, 0, 0, 0, 1, 0, 0, 0, 0, 1, 0, 0, 0, 0, 1]\n"
     ]
    }
   ],
   "source": [
    "# [item if condition else something for item in list]\n",
    "result = [1 if i % 5 == 0 else 0 for i in range(16)]\n",
    "\n",
    "print(result)"
   ]
  },
  {
   "cell_type": "markdown",
   "id": "485cd69a",
   "metadata": {},
   "source": [
    "## List Comprehension with nested loop"
   ]
  },
  {
   "cell_type": "code",
   "execution_count": 15,
   "id": "d2736c30",
   "metadata": {
    "scrolled": false
   },
   "outputs": [
    {
     "name": "stdout",
     "output_type": "stream",
     "text": [
      "[[0, 0], [0, 1], [0, 2], [1, 0], [1, 1], [1, 2], [2, 0], [2, 1], [2, 2], [3, 0], [3, 1], [3, 2]]\n"
     ]
    }
   ],
   "source": [
    "# Nasted Loop\n",
    "rows_and_cols = [] \n",
    "\n",
    "for i in range(4):\n",
    "    for j in range(3):\n",
    "        rows_and_cols.append([i, j])\n",
    "        \n",
    "print(rows_and_cols)"
   ]
  },
  {
   "cell_type": "code",
   "execution_count": 16,
   "id": "262c8f56",
   "metadata": {},
   "outputs": [
    {
     "name": "stdout",
     "output_type": "stream",
     "text": [
      "[[0, 0], [0, 1], [0, 2], [1, 0], [1, 1], [1, 2], [2, 0], [2, 1], [2, 2], [3, 0], [3, 1], [3, 2]]\n"
     ]
    }
   ],
   "source": [
    "# [[i,j] for i in list_i for j in list_j]\n",
    "rows_and_cols = [[x, y] for x in range(4) for y in range(3)]\n",
    "\n",
    "print(rows_and_cols)"
   ]
  },
  {
   "cell_type": "markdown",
   "id": "ca4ae884",
   "metadata": {},
   "source": [
    "## List comprehension with nasted loop and conditions"
   ]
  },
  {
   "cell_type": "code",
   "execution_count": 17,
   "id": "5b0f4bc6",
   "metadata": {},
   "outputs": [
    {
     "name": "stdout",
     "output_type": "stream",
     "text": [
      "[[0, 0], [0, 1], [0, 200], [1, 0], [1, 1], [100, 200], [2, 0], [2, 1], [200, 200], [3, 0], [3, 1], [300, 200]]\n",
      "448 ns ± 6.84 ns per loop (mean ± std. dev. of 7 runs, 1000000 loops each)\n"
     ]
    }
   ],
   "source": [
    "rows_and_cols = []\n",
    "\n",
    "for x in range(4):\n",
    "    for y in range(3):\n",
    "        if y != 2:\n",
    "            rows_and_cols.append([x, y])\n",
    "        else:\n",
    "            rows_and_cols.append([x*100, y*100])\n",
    "            \n",
    "print(rows_and_cols)\n",
    "%timeit max(range(10))"
   ]
  },
  {
   "cell_type": "code",
   "execution_count": 18,
   "id": "e14dc5c7",
   "metadata": {},
   "outputs": [
    {
     "name": "stdout",
     "output_type": "stream",
     "text": [
      "[[0, 0], [0, 1], [0, 200], [1, 0], [1, 1], [100, 200], [2, 0], [2, 1], [200, 200], [3, 0], [3, 1], [300, 200]]\n"
     ]
    }
   ],
   "source": [
    "# [[i,j] if condition else something for i in list_i for j in list_j]\n",
    "rows_and_cols = [] \n",
    "\n",
    "# list comprehension\n",
    "rows_and_cols = [\n",
    "    [x, y]\n",
    "    if y !=2 else [x*100, y*100]\n",
    "    for x in range(4)\n",
    "    for y in range(3)\n",
    "]\n",
    "\n",
    "print(rows_and_cols)"
   ]
  },
  {
   "cell_type": "markdown",
   "id": "05211265",
   "metadata": {},
   "source": [
    "## Loops and List Comp with map, reduce and filter"
   ]
  },
  {
   "cell_type": "markdown",
   "id": "371b29dc",
   "metadata": {},
   "source": [
    "### map()"
   ]
  },
  {
   "cell_type": "code",
   "execution_count": 19,
   "id": "573fea84",
   "metadata": {},
   "outputs": [],
   "source": [
    "# Some data\n",
    "list_1 = [1, 4, 9, 16, 25, 36, 49, 64, 81, 100, 121]\n",
    "list_2 = []"
   ]
  },
  {
   "cell_type": "code",
   "execution_count": 20,
   "id": "c65db61c",
   "metadata": {},
   "outputs": [
    {
     "name": "stdout",
     "output_type": "stream",
     "text": [
      "[1.0, 2.0, 3.0, 4.0, 5.0, 6.0, 7.0, 8.0, 9.0, 10.0, 11.0]\n"
     ]
    }
   ],
   "source": [
    "# loop for\n",
    "for i in list_1:\n",
    "    list_2.append(i**(1/2))\n",
    "\n",
    "print(list_2)"
   ]
  },
  {
   "cell_type": "code",
   "execution_count": 21,
   "id": "f878fe6d",
   "metadata": {},
   "outputs": [
    {
     "name": "stdout",
     "output_type": "stream",
     "text": [
      "[1.0, 2.0, 3.0, 4.0, 5.0, 6.0, 7.0, 8.0, 9.0, 10.0, 11.0]\n"
     ]
    }
   ],
   "source": [
    "# list comp\n",
    "list_2 = [i**(1/2) for i in list_1]\n",
    "\n",
    "print(list_2)"
   ]
  },
  {
   "cell_type": "code",
   "execution_count": 22,
   "id": "95c76d5e",
   "metadata": {},
   "outputs": [
    {
     "name": "stdout",
     "output_type": "stream",
     "text": [
      "[1.0, 2.0, 3.0, 4.0, 5.0, 6.0, 7.0, 8.0, 9.0, 10.0, 11.0]\n"
     ]
    }
   ],
   "source": [
    "# map\n",
    "import math\n",
    "\n",
    "list_2 = list(map(math.sqrt, list_1))\n",
    "\n",
    "print(list_2)"
   ]
  },
  {
   "cell_type": "markdown",
   "id": "86ff2362",
   "metadata": {},
   "source": [
    "## reduce()"
   ]
  },
  {
   "cell_type": "code",
   "execution_count": 23,
   "id": "d0f3c0dc",
   "metadata": {},
   "outputs": [],
   "source": [
    "# Import reduce\n",
    "from functools import reduce\n",
    "\n",
    "# Some data\n",
    "list_1 = range(1000)"
   ]
  },
  {
   "cell_type": "code",
   "execution_count": 24,
   "id": "1c5e0f33",
   "metadata": {},
   "outputs": [
    {
     "name": "stdout",
     "output_type": "stream",
     "text": [
      "499500\n"
     ]
    }
   ],
   "source": [
    "# loop for\n",
    "sum_values = 0\n",
    "\n",
    "for i in list_1:\n",
    "    sum_values += i\n",
    "    \n",
    "print(sum_values)"
   ]
  },
  {
   "cell_type": "code",
   "execution_count": 25,
   "id": "dfb5400e",
   "metadata": {},
   "outputs": [
    {
     "name": "stdout",
     "output_type": "stream",
     "text": [
      "499500\n"
     ]
    }
   ],
   "source": [
    "# Function\n",
    "def sumFunc(a,b):\n",
    "    x = a + b\n",
    "    return x\n",
    "\n",
    "sum_values = reduce(sumFunc, list_1)\n",
    "\n",
    "print(sum_values)"
   ]
  },
  {
   "cell_type": "code",
   "execution_count": 26,
   "id": "f8c72660",
   "metadata": {},
   "outputs": [
    {
     "name": "stdout",
     "output_type": "stream",
     "text": [
      "499500\n"
     ]
    }
   ],
   "source": [
    "# lambda\n",
    "sum_values = reduce((lambda a,b: a + b), list_1)\n",
    "\n",
    "print(sum_values)"
   ]
  },
  {
   "cell_type": "markdown",
   "id": "6afae73f",
   "metadata": {},
   "source": [
    "## filter()"
   ]
  },
  {
   "cell_type": "code",
   "execution_count": 27,
   "id": "f6e55ac6",
   "metadata": {},
   "outputs": [
    {
     "data": {
      "text/html": [
       "<div>\n",
       "<style scoped>\n",
       "    .dataframe tbody tr th:only-of-type {\n",
       "        vertical-align: middle;\n",
       "    }\n",
       "\n",
       "    .dataframe tbody tr th {\n",
       "        vertical-align: top;\n",
       "    }\n",
       "\n",
       "    .dataframe thead th {\n",
       "        text-align: right;\n",
       "    }\n",
       "</style>\n",
       "<table border=\"1\" class=\"dataframe\">\n",
       "  <thead>\n",
       "    <tr style=\"text-align: right;\">\n",
       "      <th></th>\n",
       "      <th>col1</th>\n",
       "    </tr>\n",
       "  </thead>\n",
       "  <tbody>\n",
       "    <tr>\n",
       "      <th>0</th>\n",
       "      <td>10</td>\n",
       "    </tr>\n",
       "    <tr>\n",
       "      <th>1</th>\n",
       "      <td>4</td>\n",
       "    </tr>\n",
       "    <tr>\n",
       "      <th>2</th>\n",
       "      <td>-1</td>\n",
       "    </tr>\n",
       "    <tr>\n",
       "      <th>3</th>\n",
       "      <td>3</td>\n",
       "    </tr>\n",
       "    <tr>\n",
       "      <th>4</th>\n",
       "      <td>5</td>\n",
       "    </tr>\n",
       "    <tr>\n",
       "      <th>5</th>\n",
       "      <td>-9</td>\n",
       "    </tr>\n",
       "    <tr>\n",
       "      <th>6</th>\n",
       "      <td>-11</td>\n",
       "    </tr>\n",
       "  </tbody>\n",
       "</table>\n",
       "</div>"
      ],
      "text/plain": [
       "   col1\n",
       "0    10\n",
       "1     4\n",
       "2    -1\n",
       "3     3\n",
       "4     5\n",
       "5    -9\n",
       "6   -11"
      ]
     },
     "execution_count": 27,
     "metadata": {},
     "output_type": "execute_result"
    }
   ],
   "source": [
    "# some data\n",
    "df = pd.DataFrame([10, 4, -1, 3, 5, -9, -11], columns = ['col1'])\n",
    "\n",
    "df"
   ]
  },
  {
   "cell_type": "code",
   "execution_count": 28,
   "id": "f3bf2839",
   "metadata": {},
   "outputs": [
    {
     "name": "stdout",
     "output_type": "stream",
     "text": [
      "[10, 4, 3, 5]\n"
     ]
    }
   ],
   "source": [
    "# loop for\n",
    "filter_values = []\n",
    "\n",
    "for i in df['col1']:\n",
    "    if i > 0:\n",
    "        filter_values.append(i)\n",
    "    \n",
    "print(filter_values)"
   ]
  },
  {
   "cell_type": "code",
   "execution_count": 29,
   "id": "23c9c608",
   "metadata": {},
   "outputs": [
    {
     "name": "stdout",
     "output_type": "stream",
     "text": [
      "[10, 4, 3, 5]\n"
     ]
    }
   ],
   "source": [
    "# list comp\n",
    "filter_values = [i for i in df['col1'] if i > 0]\n",
    "\n",
    "print(filter_values)"
   ]
  },
  {
   "cell_type": "code",
   "execution_count": 30,
   "id": "eba789e9",
   "metadata": {},
   "outputs": [
    {
     "name": "stdout",
     "output_type": "stream",
     "text": [
      "[10, 4, 3, 5]\n"
     ]
    }
   ],
   "source": [
    "# filter\n",
    "filter_values = list(filter((lambda x: x > 0), df['col1']))\n",
    "\n",
    "print(filter_values)"
   ]
  },
  {
   "cell_type": "code",
   "execution_count": 31,
   "id": "f21608ed",
   "metadata": {},
   "outputs": [
    {
     "name": "stdout",
     "output_type": "stream",
     "text": [
      "0    10\n",
      "1     4\n",
      "3     3\n",
      "4     5\n",
      "Name: col1, dtype: int64\n"
     ]
    }
   ],
   "source": [
    "# apply\n",
    "filter_values = df['col1'][df['col1'].apply(lambda x: x > 0)]\n",
    "\n",
    "print(filter_values)"
   ]
  },
  {
   "cell_type": "markdown",
   "id": "19745bbe",
   "metadata": {},
   "source": [
    "# Runtime with different approaches"
   ]
  },
  {
   "cell_type": "code",
   "execution_count": 32,
   "id": "d042fc20",
   "metadata": {},
   "outputs": [
    {
     "data": {
      "text/html": [
       "<div>\n",
       "<style scoped>\n",
       "    .dataframe tbody tr th:only-of-type {\n",
       "        vertical-align: middle;\n",
       "    }\n",
       "\n",
       "    .dataframe tbody tr th {\n",
       "        vertical-align: top;\n",
       "    }\n",
       "\n",
       "    .dataframe thead th {\n",
       "        text-align: right;\n",
       "    }\n",
       "</style>\n",
       "<table border=\"1\" class=\"dataframe\">\n",
       "  <thead>\n",
       "    <tr style=\"text-align: right;\">\n",
       "      <th></th>\n",
       "      <th>col_1</th>\n",
       "    </tr>\n",
       "  </thead>\n",
       "  <tbody>\n",
       "    <tr>\n",
       "      <th>0</th>\n",
       "      <td>0</td>\n",
       "    </tr>\n",
       "    <tr>\n",
       "      <th>1</th>\n",
       "      <td>1</td>\n",
       "    </tr>\n",
       "    <tr>\n",
       "      <th>2</th>\n",
       "      <td>2</td>\n",
       "    </tr>\n",
       "    <tr>\n",
       "      <th>3</th>\n",
       "      <td>3</td>\n",
       "    </tr>\n",
       "    <tr>\n",
       "      <th>4</th>\n",
       "      <td>4</td>\n",
       "    </tr>\n",
       "    <tr>\n",
       "      <th>...</th>\n",
       "      <td>...</td>\n",
       "    </tr>\n",
       "    <tr>\n",
       "      <th>96</th>\n",
       "      <td>96</td>\n",
       "    </tr>\n",
       "    <tr>\n",
       "      <th>97</th>\n",
       "      <td>97</td>\n",
       "    </tr>\n",
       "    <tr>\n",
       "      <th>98</th>\n",
       "      <td>98</td>\n",
       "    </tr>\n",
       "    <tr>\n",
       "      <th>99</th>\n",
       "      <td>99</td>\n",
       "    </tr>\n",
       "    <tr>\n",
       "      <th>100</th>\n",
       "      <td>100</td>\n",
       "    </tr>\n",
       "  </tbody>\n",
       "</table>\n",
       "<p>101 rows × 1 columns</p>\n",
       "</div>"
      ],
      "text/plain": [
       "     col_1\n",
       "0        0\n",
       "1        1\n",
       "2        2\n",
       "3        3\n",
       "4        4\n",
       "..     ...\n",
       "96      96\n",
       "97      97\n",
       "98      98\n",
       "99      99\n",
       "100    100\n",
       "\n",
       "[101 rows x 1 columns]"
      ]
     },
     "execution_count": 32,
     "metadata": {},
     "output_type": "execute_result"
    }
   ],
   "source": [
    "col_1 = range(101)\n",
    "\n",
    "df = pd.DataFrame(col_1, columns = ['col_1'])\n",
    "\n",
    "df"
   ]
  },
  {
   "cell_type": "code",
   "execution_count": 33,
   "id": "b5f4f198",
   "metadata": {},
   "outputs": [
    {
     "name": "stdout",
     "output_type": "stream",
     "text": [
      "[0.0, 1.0, 1.41, 1.73, 2.0, 2.24, 2.45, 2.65, 2.83, 3.0, 3.16, 3.32, 3.46, 3.61, 3.74, 3.87, 4.0, 4.12, 4.24, 4.36, 4.47, 4.58, 4.69, 4.8, 4.9, 5.0, 5.1, 5.2, 5.29, 5.39, 5.48, 5.57, 5.66, 5.74, 5.83, 5.92, 6.0, 6.08, 6.16, 6.24, 6.32, 6.4, 6.48, 6.56, 6.63, 6.71, 6.78, 6.86, 6.93, 7.0, 7.07, 7.14, 7.21, 7.28, 7.35, 7.42, 7.48, 7.55, 7.62, 7.68, 7.75, 7.81, 7.87, 7.94, 8.0, 8.06, 8.12, 8.19, 8.25, 8.31, 8.37, 8.43, 8.49, 8.54, 8.6, 8.66, 8.72, 8.77, 8.83, 8.89, 8.94, 9.0, 9.06, 9.11, 9.17, 9.22, 9.27, 9.33, 9.38, 9.43, 9.49, 9.54, 9.59, 9.64, 9.7, 9.75, 9.8, 9.85, 9.9, 9.95, 10.0]\n",
      "447 ns ± 5.68 ns per loop (mean ± std. dev. of 7 runs, 1000000 loops each)\n"
     ]
    }
   ],
   "source": [
    "# Loop for\n",
    "col_2 = []\n",
    "for i in df.col_1:\n",
    "    col_2.append(np.sqrt(i).round(2))\n",
    "\n",
    "print(col_2)\n",
    "%timeit max(range(10))"
   ]
  },
  {
   "cell_type": "code",
   "execution_count": 34,
   "id": "f72e8b48",
   "metadata": {},
   "outputs": [
    {
     "name": "stdout",
     "output_type": "stream",
     "text": [
      "[0.0, 1.0, 1.41, 1.73, 2.0, 2.24, 2.45, 2.65, 2.83, 3.0, 3.16, 3.32, 3.46, 3.61, 3.74, 3.87, 4.0, 4.12, 4.24, 4.36, 4.47, 4.58, 4.69, 4.8, 4.9, 5.0, 5.1, 5.2, 5.29, 5.39, 5.48, 5.57, 5.66, 5.74, 5.83, 5.92, 6.0, 6.08, 6.16, 6.24, 6.32, 6.4, 6.48, 6.56, 6.63, 6.71, 6.78, 6.86, 6.93, 7.0, 7.07, 7.14, 7.21, 7.28, 7.35, 7.42, 7.48, 7.55, 7.62, 7.68, 7.75, 7.81, 7.87, 7.94, 8.0, 8.06, 8.12, 8.19, 8.25, 8.31, 8.37, 8.43, 8.49, 8.54, 8.6, 8.66, 8.72, 8.77, 8.83, 8.89, 8.94, 9.0, 9.06, 9.11, 9.17, 9.22, 9.27, 9.33, 9.38, 9.43, 9.49, 9.54, 9.59, 9.64, 9.7, 9.75, 9.8, 9.85, 9.9, 9.95, 10.0]\n",
      "410 ns ± 25.4 ns per loop (mean ± std. dev. of 7 runs, 1000000 loops each)\n"
     ]
    }
   ],
   "source": [
    "# List comp\n",
    "col_2 = [np.sqrt(i).round(2) for i in df.col_1]\n",
    "\n",
    "print(col_2)\n",
    "%timeit max(range(10))"
   ]
  },
  {
   "cell_type": "code",
   "execution_count": 35,
   "id": "ca18e72e",
   "metadata": {},
   "outputs": [
    {
     "name": "stdout",
     "output_type": "stream",
     "text": [
      "[ 0.    1.    1.41  1.73  2.    2.24  2.45  2.65  2.83  3.    3.16  3.32\n",
      "  3.46  3.61  3.74  3.87  4.    4.12  4.24  4.36  4.47  4.58  4.69  4.8\n",
      "  4.9   5.    5.1   5.2   5.29  5.39  5.48  5.57  5.66  5.74  5.83  5.92\n",
      "  6.    6.08  6.16  6.24  6.32  6.4   6.48  6.56  6.63  6.71  6.78  6.86\n",
      "  6.93  7.    7.07  7.14  7.21  7.28  7.35  7.42  7.48  7.55  7.62  7.68\n",
      "  7.75  7.81  7.87  7.94  8.    8.06  8.12  8.19  8.25  8.31  8.37  8.43\n",
      "  8.49  8.54  8.6   8.66  8.72  8.77  8.83  8.89  8.94  9.    9.06  9.11\n",
      "  9.17  9.22  9.27  9.33  9.38  9.43  9.49  9.54  9.59  9.64  9.7   9.75\n",
      "  9.8   9.85  9.9   9.95 10.  ]\n",
      "424 ns ± 21.8 ns per loop (mean ± std. dev. of 7 runs, 1000000 loops each)\n"
     ]
    }
   ],
   "source": [
    "# map\n",
    "col_2 = np.around(list(map(np.sqrt, df.col_1)), 2)\n",
    "\n",
    "print(col_2)\n",
    "%timeit max(range(10))"
   ]
  },
  {
   "cell_type": "code",
   "execution_count": 36,
   "id": "ebafad36",
   "metadata": {},
   "outputs": [
    {
     "name": "stdout",
     "output_type": "stream",
     "text": [
      "[0.0, 1.0, 1.41, 1.73, 2.0, 2.24, 2.45, 2.65, 2.83, 3.0, 3.16, 3.32, 3.46, 3.61, 3.74, 3.87, 4.0, 4.12, 4.24, 4.36, 4.47, 4.58, 4.69, 4.8, 4.9, 5.0, 5.1, 5.2, 5.29, 5.39, 5.48, 5.57, 5.66, 5.74, 5.83, 5.92, 6.0, 6.08, 6.16, 6.24, 6.32, 6.4, 6.48, 6.56, 6.63, 6.71, 6.78, 6.86, 6.93, 7.0, 7.07, 7.14, 7.21, 7.28, 7.35, 7.42, 7.48, 7.55, 7.62, 7.68, 7.75, 7.81, 7.87, 7.94, 8.0, 8.06, 8.12, 8.19, 8.25, 8.31, 8.37, 8.43, 8.49, 8.54, 8.6, 8.66, 8.72, 8.77, 8.83, 8.89, 8.94, 9.0, 9.06, 9.11, 9.17, 9.22, 9.27, 9.33, 9.38, 9.43, 9.49, 9.54, 9.59, 9.64, 9.7, 9.75, 9.8, 9.85, 9.9, 9.95, 10.0]\n",
      "413 ns ± 4.81 ns per loop (mean ± std. dev. of 7 runs, 1000000 loops each)\n"
     ]
    }
   ],
   "source": [
    "# apply\n",
    "col_2 = df.col_1.apply(lambda x: np.sqrt(x).round(2))\n",
    "\n",
    "print(list(col_2))\n",
    "%timeit max(range(10))"
   ]
  },
  {
   "cell_type": "markdown",
   "id": "14bf9ab5",
   "metadata": {},
   "source": [
    "---"
   ]
  }
 ],
 "metadata": {
  "kernelspec": {
   "display_name": "Python 3 (ipykernel)",
   "language": "python",
   "name": "python3"
  },
  "language_info": {
   "codemirror_mode": {
    "name": "ipython",
    "version": 3
   },
   "file_extension": ".py",
   "mimetype": "text/x-python",
   "name": "python",
   "nbconvert_exporter": "python",
   "pygments_lexer": "ipython3",
   "version": "3.8.8"
  }
 },
 "nbformat": 4,
 "nbformat_minor": 5
}

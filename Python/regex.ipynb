{
 "cells": [
  {
   "cell_type": "markdown",
   "id": "cf12b9eb",
   "metadata": {},
   "source": [
    "# "
   ]
  },
  {
   "cell_type": "markdown",
   "id": "eab81ba5",
   "metadata": {},
   "source": [
    "# <center> Regex"
   ]
  },
  {
   "cell_type": "markdown",
   "id": "77588a98",
   "metadata": {},
   "source": [
    "### References\n",
    "\n",
    "* https://www.regextester.com/97916\n",
    "* https://dojo.bylearn.com.br/python/dominando-o-regex-com-python/"
   ]
  },
  {
   "cell_type": "code",
   "execution_count": 1,
   "id": "44674825",
   "metadata": {},
   "outputs": [],
   "source": [
    "# Imports\n",
    "\n",
    "import warnings\n",
    "warnings.filterwarnings('ignore')\n",
    "\n",
    "import regex as re"
   ]
  },
  {
   "cell_type": "markdown",
   "id": "62d2a39a",
   "metadata": {},
   "source": [
    "___"
   ]
  },
  {
   "cell_type": "markdown",
   "id": "7ec8f391",
   "metadata": {},
   "source": [
    "## Regular Expression (RegEx)\n",
    "\n",
    "* [.] - Square brackets: Square brackets specifies a set of characters you wish to match.\n",
    "* ..  - Period: A period matches any single character (except newline '\\n').\n",
    "*  ^  - Caret:The caret symbol ^ is used to check if a string starts with a certain character.\n",
    "* '*' - Star: The star symbol * matches zero or more occurrences of the pattern left to it.\n",
    "* '+' - Plus: The plus symbol + matches one or more occurrences of the pattern left to it.\n",
    "*  ?  - Question Mark: The question mark symbol ? matches zero or one occurrence of the pattern left to it.\n",
    "* {.} - Braces: Consider this code: {n,m}. This means at least n, and at most m repetitions of the pattern left to it.\n",
    "*  |  - Alternation: Vertical bar | is used for alternation (or operator).\n",
    "*  () - Group: Parentheses () is used to group sub-patterns. For example, (a|b|c)xz match any string that matches either a  or b or c followed by xz\n",
    "*  \\  - Backslash: Backlash \\ is used to escape various characters including all metacharacters. For example, \\$a match if a string contains $ followed by a. Here, $ is not interpreted by a RegEx engine in a special way. If you are unsure if a character has special meaning or not, you can put \\ in front of it. This makes sure the character is not treated in a special way."
   ]
  },
  {
   "cell_type": "markdown",
   "id": "e06788d7",
   "metadata": {},
   "source": [
    "## Special Sequences\n",
    "\n",
    "* \\A - Matches if the specified characters are at the start of a string.\n",
    "* \\b - Matches if the specified characters are at the beginning or end of a word.\n",
    "* \\B - Opposite of \\b. Matches if the specified characters are not at the beginning or end of a word.\n",
    "* \\d - Matches any decimal digit. Equivalent to [0-9]\n",
    "* \\D - Matches any non-decimal digit. Equivalent to [^0-9]\n",
    "* \\s - Matches where a string contains any whitespace character. Equivalent to [ \\t\\n\\r\\f\\v].\n",
    "* \\S - Matches where a string contains any non-whitespace character. Equivalent to [^ \\t\\n\\r\\f\\v].\n",
    "* \\w - Matches any alphanumeric character (digits and alphabets). Equivalent to [a-zA-Z0-9_]. By the way, underscore _ is also considered an alphanumeric character.\n",
    "* \\W - Matches any non-alphanumeric character. Equivalent to [^a-zA-Z0-9_]\n",
    "* \\Z - Matches if the specified characters are at the end of a string."
   ]
  },
  {
   "cell_type": "markdown",
   "id": "cac2651c",
   "metadata": {},
   "source": [
    "## re.\n",
    "* re.sub() - The method returns a string where matched occurrences are replaced with the content of replace variable.\n",
    "* re.subn() - The re.subn() is similar to re.sub() except it returns a tuple of 2 items containing the new string and the number of substitutions made.\n",
    "* re.search(): The re.search() method takes two arguments: a pattern and a string. The method looks for the first location where the RegEx pattern produces a match with the string. If the search is successful, re.search() returns a match object; if not, it returns None."
   ]
  },
  {
   "cell_type": "markdown",
   "id": "a88985af",
   "metadata": {},
   "source": [
    "## Match object\n",
    "* match.group(): The group() method returns the part of the string where there is a match.\n",
    "* match.start(), match.end() and match.span()The start(): returns the index of the start of the matched substring. Similarly, end() returns the end index of the matched substring.\n",
    "* match.re and match.string: The re attribute of a matched object returns a regular expression object. Similarly, string attribute returns the passed string."
   ]
  },
  {
   "cell_type": "code",
   "execution_count": 2,
   "id": "9e5d00dd",
   "metadata": {},
   "outputs": [
    {
     "name": "stdout",
     "output_type": "stream",
     "text": [
      "Search successful.\n"
     ]
    }
   ],
   "source": [
    "# The next pattern defines a RegEx pattern. The pattern is: any five letter string starting with a and ending with s.\n",
    "\n",
    "pattern = '^a...s$'\n",
    "\n",
    "test_string = 'abyss'\n",
    "result = re.match(pattern, test_string)\n",
    "\n",
    "if result:\n",
    "    print(\"Search successful.\")\n",
    "else:\n",
    "    print(\"Search unsuccessful.\")"
   ]
  },
  {
   "cell_type": "code",
   "execution_count": 3,
   "id": "a360d742",
   "metadata": {},
   "outputs": [
    {
     "name": "stdout",
     "output_type": "stream",
     "text": [
      "['12', '89', '34']\n"
     ]
    }
   ],
   "source": [
    "# Extract numbers from a string\n",
    "\n",
    "string = 'hello 12 hi 89. Howdy 34'\n",
    "pattern = '\\d+'\n",
    "\n",
    "result = re.findall(pattern, string)\n",
    "print(result)\n",
    "\n",
    "# Output: ['12', '89', '34']"
   ]
  },
  {
   "cell_type": "code",
   "execution_count": 4,
   "id": "bf615edf",
   "metadata": {},
   "outputs": [
    {
     "name": "stdout",
     "output_type": "stream",
     "text": [
      "['Twelve:', ' Eighty nine:', '. Word before numbers ', ' and words after numbers']\n"
     ]
    }
   ],
   "source": [
    "# If the pattern is not found, re.split() returns a list containing the original string.\n",
    "\n",
    "string = 'Twelve:12 Eighty nine:89. Word before numbers 123 and words after numbers'\n",
    "pattern = '\\d+'\n",
    "\n",
    "result = re.split(pattern, string) \n",
    "print(result)"
   ]
  },
  {
   "cell_type": "code",
   "execution_count": 5,
   "id": "d1bf14b9",
   "metadata": {},
   "outputs": [
    {
     "name": "stdout",
     "output_type": "stream",
     "text": [
      "['Twelve:', ' Eighty nine:89 Nine:9.']\n"
     ]
    }
   ],
   "source": [
    "# maxsplit = 1 split only at the first occurrence\n",
    "# You can pass maxsplit argument to the re.split() method. It's the maximum number of splits that will occur. Default is zero.\n",
    "\n",
    "string = 'Twelve:12 Eighty nine:89 Nine:9.'\n",
    "pattern = '\\d+'\n",
    "\n",
    "result = re.split(pattern, string, maxsplit = 1) # test 0, 1, 2 .. \n",
    "print(result)"
   ]
  },
  {
   "cell_type": "code",
   "execution_count": 6,
   "id": "775d5c1b",
   "metadata": {},
   "outputs": [
    {
     "name": "stdout",
     "output_type": "stream",
     "text": [
      "abc 12de 23 f45 6\n"
     ]
    }
   ],
   "source": [
    "# Remove all whitespaces\n",
    "# If the pattern is not found, re.sub() returns the original string.\n",
    "\n",
    "# multiline string\n",
    "string = 'abc    12\\\n",
    "de    23 \\n f45   6'\n",
    "\n",
    "# matches all whitespace characters\n",
    "pattern = '\\s+'\n",
    "\n",
    "# empty string\n",
    "replace = ' '\n",
    "\n",
    "new_string = re.sub(pattern, replace, string) \n",
    "print(new_string)"
   ]
  },
  {
   "cell_type": "code",
   "execution_count": 7,
   "id": "ce0740df",
   "metadata": {},
   "outputs": [
    {
     "name": "stdout",
     "output_type": "stream",
     "text": [
      "matches all whitespace characters\n"
     ]
    }
   ],
   "source": [
    "# Program to remove all whitespaces\n",
    "import re\n",
    "\n",
    "# multiline string\n",
    "string = 'matches   all       whitespace characters'\n",
    "\n",
    "# matches all whitespace characters\n",
    "pattern = '\\s+'\n",
    "\n",
    "# empty string\n",
    "replace = ' '\n",
    "\n",
    "new_string = re.sub(pattern, replace, string) \n",
    "print(new_string)\n",
    "\n",
    "# Output: abc12de23f456\n",
    "# If the pattern is not found, re.sub() returns the original string."
   ]
  },
  {
   "cell_type": "code",
   "execution_count": 8,
   "id": "db6e0800",
   "metadata": {
    "scrolled": true
   },
   "outputs": [
    {
     "name": "stdout",
     "output_type": "stream",
     "text": [
      "abc 12de 23 \n",
      "   f45    6\n"
     ]
    }
   ],
   "source": [
    "# You can pass count as a fourth parameter to the re.sub() method. \n",
    "# If omited, it results to and will replace all occurrences.\n",
    "\n",
    "# multiline string\n",
    "string = 'abc 12\\\n",
    "de 23 \\n   f45    6'\n",
    "\n",
    "# matches all whitespace characters\n",
    "pattern = '\\s+'\n",
    "replace = ' '\n",
    "\n",
    "new_string = re.sub(r'\\s+', replace, string, 2) \n",
    "print(new_string)\n",
    "\n",
    "# Output:\n",
    "# abc12de 23\n",
    "# f45 6"
   ]
  },
  {
   "cell_type": "code",
   "execution_count": 9,
   "id": "243504b5",
   "metadata": {},
   "outputs": [
    {
     "name": "stdout",
     "output_type": "stream",
     "text": [
      "('matches all whitespace characters', 3)\n"
     ]
    }
   ],
   "source": [
    "# Program to remove all whitespaces and count replaces\n",
    "\n",
    "# multiline string\n",
    "string = 'matches     all       whitespace  characters'\n",
    "\n",
    "# matches all whitespace characters\n",
    "pattern = '\\s+'\n",
    "\n",
    "# empty string\n",
    "replace = ' '\n",
    "\n",
    "new_string = re.subn(pattern, replace, string) \n",
    "\n",
    "print(new_string)"
   ]
  },
  {
   "cell_type": "code",
   "execution_count": 10,
   "id": "ec2883e7",
   "metadata": {},
   "outputs": [
    {
     "data": {
      "text/plain": [
       "<re.Match object; span=(0, 9), match='Python is'>"
      ]
     },
     "execution_count": 10,
     "metadata": {},
     "output_type": "execute_result"
    }
   ],
   "source": [
    "# check if 'Python' is at the beginning\n",
    "\n",
    "string = \"Python is fun\"\n",
    "\n",
    "re.search('\\APython is', string)"
   ]
  },
  {
   "cell_type": "code",
   "execution_count": 11,
   "id": "2e8573ea",
   "metadata": {},
   "outputs": [
    {
     "name": "stdout",
     "output_type": "stream",
     "text": [
      "801 35\n"
     ]
    }
   ],
   "source": [
    "string = '39801 356, 2102 1111'\n",
    "\n",
    "# Return Three digit number followed by space followed by two digit number\n",
    "pattern = '(\\d{3}) (\\d{2})'\n",
    "\n",
    "# match variable contains a Match object.\n",
    "match = re.search(pattern, string) \n",
    "\n",
    "if match:\n",
    "    print(match.group())\n",
    "else:\n",
    "    print(\"pattern not found\")"
   ]
  },
  {
   "cell_type": "code",
   "execution_count": 12,
   "id": "fd65d6a4",
   "metadata": {},
   "outputs": [
    {
     "name": "stdout",
     "output_type": "stream",
     "text": [
      "801\n",
      "35\n",
      "('801', '35')\n",
      "('801', '35')\n"
     ]
    }
   ],
   "source": [
    "# Here, match variable contains a match object.\n",
    "# Our pattern (\\d{3}) (\\d{2}) has two subgroups (\\d{3}) and (\\d{2}). \n",
    "# You can get the part of the string of these parenthesized subgroups. Here's how:\n",
    "\n",
    "print(match.group(1))\n",
    "print(match.group(2))\n",
    "print(match.group(1, 2))\n",
    "\n",
    "print(match.groups())"
   ]
  },
  {
   "cell_type": "code",
   "execution_count": 13,
   "id": "13a16b61",
   "metadata": {
    "scrolled": true
   },
   "outputs": [
    {
     "name": "stdout",
     "output_type": "stream",
     "text": [
      "2\n",
      "8\n",
      "(2, 8)\n"
     ]
    }
   ],
   "source": [
    "print(match.start())\n",
    "print(match.end())\n",
    "print(match.span())"
   ]
  },
  {
   "cell_type": "code",
   "execution_count": 14,
   "id": "29ab4a66",
   "metadata": {
    "scrolled": true
   },
   "outputs": [
    {
     "data": {
      "text/plain": [
       "'39801 356, 2102 1111'"
      ]
     },
     "execution_count": 14,
     "metadata": {},
     "output_type": "execute_result"
    }
   ],
   "source": [
    "match.re\n",
    "re.compile('(\\\\d{3}) (\\\\d{2})')\n",
    "\n",
    "match.string"
   ]
  },
  {
   "cell_type": "markdown",
   "id": "e88176c8",
   "metadata": {},
   "source": [
    "Using r prefix before RegEx\n",
    "When r or R prefix is used before a regular expression, it means raw string. For example, '\\n' is a new line whereas r'\\n' means two characters: a backslash \\ followed by n.\n",
    "\n",
    "Backlash \\ is used to escape various characters including all metacharacters. However, using r prefix makes \\ treat as a normal character."
   ]
  },
  {
   "cell_type": "code",
   "execution_count": 15,
   "id": "70d53579",
   "metadata": {},
   "outputs": [
    {
     "name": "stdout",
     "output_type": "stream",
     "text": [
      "['\\n', '\\r']\n"
     ]
    }
   ],
   "source": [
    "import re\n",
    "\n",
    "string = '\\n and \\r are escape sequences.'\n",
    "\n",
    "result = re.findall(r'[\\n\\r]', string) \n",
    "print(result)\n",
    "\n",
    "# Output: ['\\n', '\\r']"
   ]
  },
  {
   "cell_type": "markdown",
   "id": "d202c69d",
   "metadata": {},
   "source": [
    "___"
   ]
  }
 ],
 "metadata": {
  "kernelspec": {
   "display_name": "Python 3 (ipykernel)",
   "language": "python",
   "name": "python3"
  },
  "language_info": {
   "codemirror_mode": {
    "name": "ipython",
    "version": 3
   },
   "file_extension": ".py",
   "mimetype": "text/x-python",
   "name": "python",
   "nbconvert_exporter": "python",
   "pygments_lexer": "ipython3",
   "version": "3.8.8"
  }
 },
 "nbformat": 4,
 "nbformat_minor": 5
}

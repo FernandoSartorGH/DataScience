{
 "cells": [
  {
   "cell_type": "markdown",
   "id": "e9267384",
   "metadata": {},
   "source": [
    "## "
   ]
  },
  {
   "cell_type": "markdown",
   "id": "4b146ba9",
   "metadata": {},
   "source": [
    "# <center> PostgreSQL"
   ]
  },
  {
   "cell_type": "markdown",
   "id": "295d2b82",
   "metadata": {},
   "source": [
    "___"
   ]
  },
  {
   "cell_type": "markdown",
   "id": "2384ebb2",
   "metadata": {},
   "source": [
    "## Reference"
   ]
  },
  {
   "cell_type": "markdown",
   "id": "3fa62f68",
   "metadata": {},
   "source": [
    "https://www.postgresqltutorial.com/postgresql-python/\n",
    "\n",
    "https://www.youtube.com/watch?v=L2UO_slnDbk\n",
    "\n",
    "https://www.tutorialspoint.com/python_data_access"
   ]
  },
  {
   "cell_type": "markdown",
   "id": "6bf87f1f",
   "metadata": {},
   "source": [
    "___"
   ]
  },
  {
   "cell_type": "code",
   "execution_count": 2,
   "id": "e80762f6",
   "metadata": {},
   "outputs": [],
   "source": [
    "# Imports\n",
    "import psycopg2\n",
    "import pandas as pd"
   ]
  },
  {
   "cell_type": "markdown",
   "id": "b1644f3b",
   "metadata": {},
   "source": [
    "___"
   ]
  },
  {
   "cell_type": "markdown",
   "id": "d75206cb",
   "metadata": {},
   "source": [
    "## Dataset"
   ]
  },
  {
   "cell_type": "code",
   "execution_count": 3,
   "id": "f2e296c4",
   "metadata": {},
   "outputs": [],
   "source": [
    "# Load data\n",
    "df = pd.read_table(\"data/mtcars.txt\", encoding = \"UTF-8\", sep = ' ')"
   ]
  },
  {
   "cell_type": "code",
   "execution_count": 4,
   "id": "cd83150b",
   "metadata": {},
   "outputs": [],
   "source": [
    "# Subset\n",
    "df = df[['mpg', 'cyl', 'disp', 'hp']].reset_index().rename(columns={'index':'name'})"
   ]
  },
  {
   "cell_type": "code",
   "execution_count": 7,
   "id": "a05cd278",
   "metadata": {
    "scrolled": true
   },
   "outputs": [
    {
     "data": {
      "text/html": [
       "<div>\n",
       "<style scoped>\n",
       "    .dataframe tbody tr th:only-of-type {\n",
       "        vertical-align: middle;\n",
       "    }\n",
       "\n",
       "    .dataframe tbody tr th {\n",
       "        vertical-align: top;\n",
       "    }\n",
       "\n",
       "    .dataframe thead th {\n",
       "        text-align: right;\n",
       "    }\n",
       "</style>\n",
       "<table border=\"1\" class=\"dataframe\">\n",
       "  <thead>\n",
       "    <tr style=\"text-align: right;\">\n",
       "      <th></th>\n",
       "      <th>name</th>\n",
       "      <th>mpg</th>\n",
       "      <th>cyl</th>\n",
       "      <th>disp</th>\n",
       "      <th>hp</th>\n",
       "    </tr>\n",
       "  </thead>\n",
       "  <tbody>\n",
       "    <tr>\n",
       "      <th>0</th>\n",
       "      <td>Mazda RX4</td>\n",
       "      <td>21.0</td>\n",
       "      <td>6</td>\n",
       "      <td>160.0</td>\n",
       "      <td>110</td>\n",
       "    </tr>\n",
       "    <tr>\n",
       "      <th>1</th>\n",
       "      <td>Mazda RX4 Wag</td>\n",
       "      <td>21.0</td>\n",
       "      <td>6</td>\n",
       "      <td>160.0</td>\n",
       "      <td>110</td>\n",
       "    </tr>\n",
       "    <tr>\n",
       "      <th>2</th>\n",
       "      <td>Datsun 710</td>\n",
       "      <td>22.8</td>\n",
       "      <td>4</td>\n",
       "      <td>108.0</td>\n",
       "      <td>93</td>\n",
       "    </tr>\n",
       "    <tr>\n",
       "      <th>3</th>\n",
       "      <td>Hornet 4 Drive</td>\n",
       "      <td>21.4</td>\n",
       "      <td>6</td>\n",
       "      <td>258.0</td>\n",
       "      <td>110</td>\n",
       "    </tr>\n",
       "    <tr>\n",
       "      <th>4</th>\n",
       "      <td>Hornet Sportabout</td>\n",
       "      <td>18.7</td>\n",
       "      <td>8</td>\n",
       "      <td>360.0</td>\n",
       "      <td>175</td>\n",
       "    </tr>\n",
       "  </tbody>\n",
       "</table>\n",
       "</div>"
      ],
      "text/plain": [
       "                name   mpg  cyl   disp   hp\n",
       "0          Mazda RX4  21.0    6  160.0  110\n",
       "1      Mazda RX4 Wag  21.0    6  160.0  110\n",
       "2         Datsun 710  22.8    4  108.0   93\n",
       "3     Hornet 4 Drive  21.4    6  258.0  110\n",
       "4  Hornet Sportabout  18.7    8  360.0  175"
      ]
     },
     "execution_count": 7,
     "metadata": {},
     "output_type": "execute_result"
    }
   ],
   "source": [
    "# View data\n",
    "df.head()"
   ]
  },
  {
   "cell_type": "code",
   "execution_count": 9,
   "id": "46826164",
   "metadata": {},
   "outputs": [
    {
     "data": {
      "text/plain": [
       "'name, mpg, cyl, disp, hp'"
      ]
     },
     "execution_count": 9,
     "metadata": {},
     "output_type": "execute_result"
    }
   ],
   "source": [
    "columns = ', '.join(df.keys())\n",
    "columns"
   ]
  },
  {
   "cell_type": "markdown",
   "id": "19c4ebbb",
   "metadata": {},
   "source": [
    "___"
   ]
  },
  {
   "cell_type": "markdown",
   "id": "2a8744dd",
   "metadata": {},
   "source": [
    "## Querying tables and executing queries"
   ]
  },
  {
   "cell_type": "code",
   "execution_count": 7,
   "id": "63692a97",
   "metadata": {},
   "outputs": [],
   "source": [
    "# Connector\n",
    "def _connector(db, host, user, password, port):\n",
    "    \n",
    "    con = psycopg2.connect(\n",
    "        database=db,\n",
    "        host=host,\n",
    "        user=user,\n",
    "        password=password,\n",
    "        port=port)\n",
    "    \n",
    "    return con"
   ]
  },
  {
   "cell_type": "code",
   "execution_count": 21,
   "id": "66770a20",
   "metadata": {},
   "outputs": [],
   "source": [
    "# Query tables\n",
    "def consult_db():\n",
    "\n",
    "    # Create conecction\n",
    "    con = _connector(db='postgres', host=\"localhost\", user=\"postgres\", password=\"masterkey\", port=5432)\n",
    "    con.autocommit = True\n",
    "    \n",
    "    # Create cursor\n",
    "    cur = con.cursor()\n",
    "\n",
    "    # Execute query\n",
    "    cur.execute(\"SELECT datname FROM pg_database;\")\n",
    "\n",
    "    # Print tabels\n",
    "    db_list=[]\n",
    "    for x in cur:\n",
    "        db_list.append(x[0])\n",
    "    print(db_list)\n",
    "        \n",
    "    # Close connection\n",
    "    cur.close()\n",
    "    con.close()"
   ]
  },
  {
   "cell_type": "code",
   "execution_count": 22,
   "id": "58dfd6e1",
   "metadata": {
    "scrolled": true
   },
   "outputs": [
    {
     "name": "stdout",
     "output_type": "stream",
     "text": [
      "['postgres', 'template1', 'template0', 'PUC1', 'mt_cars', 'estoque_clientes_gelo']\n"
     ]
    }
   ],
   "source": [
    "# Query\n",
    "consult_db()"
   ]
  },
  {
   "cell_type": "code",
   "execution_count": 24,
   "id": "652fbb3d",
   "metadata": {},
   "outputs": [],
   "source": [
    "# Execute queries\n",
    "def execute_query(database, query):\n",
    "    \n",
    "    # Create conecction\n",
    "    con = _connector(db='mt_cars', host=\"localhost\", user=\"postgres\", password=\"masterkey\", port=5432)\n",
    "    con.autocommit = True\n",
    "    \n",
    "    # Create cursor\n",
    "    cur = con.cursor()\n",
    "    \n",
    "    # Execute query\n",
    "    cur.execute(query)\n",
    "    \n",
    "    # Close connection\n",
    "    cur.close()\n",
    "    con.close()"
   ]
  },
  {
   "cell_type": "markdown",
   "id": "d43a11d3",
   "metadata": {},
   "source": [
    "___"
   ]
  },
  {
   "cell_type": "markdown",
   "id": "318b3f4f",
   "metadata": {},
   "source": [
    "## Create base"
   ]
  },
  {
   "cell_type": "code",
   "execution_count": 26,
   "id": "1ea23faf",
   "metadata": {},
   "outputs": [],
   "source": [
    "# Create data base\n",
    "def create_db(query, db_name):\n",
    "    \n",
    "    # Connection\n",
    "    con = _connector(db='mt_cars', host=\"localhost\", user=\"postgres\", password=\"masterkey\", port=5432)\n",
    "    con.autocommit = True\n",
    "    \n",
    "    # Create cursor\n",
    "    cur = con.cursor()\n",
    "    \n",
    "    # Check if db already exists\n",
    "    cur.execute(\"SELECT datname FROM pg_database;\")\n",
    "\n",
    "    db_list=[]\n",
    "    for x in cur:\n",
    "        db_list.append(x[0])\n",
    "    \n",
    "    # Return db_name if already exists else create db\n",
    "    if db_name in db_list:\n",
    "        print(str(db_name) + ' already exists')\n",
    "    else:      \n",
    "        cur.execute(query)\n",
    "        \n",
    "    # Close connection\n",
    "    cur.close()\n",
    "    con.close()"
   ]
  },
  {
   "cell_type": "code",
   "execution_count": 27,
   "id": "3f0a5ca3",
   "metadata": {},
   "outputs": [
    {
     "name": "stdout",
     "output_type": "stream",
     "text": [
      "mt_cars already exists\n"
     ]
    }
   ],
   "source": [
    "# Create\n",
    "db_name = 'mt_cars'\n",
    "query = f\"CREATE DATABASE {db_name};\"\n",
    "create_db(query, db_name)"
   ]
  },
  {
   "cell_type": "markdown",
   "id": "2d5323c5",
   "metadata": {},
   "source": [
    "## Create table"
   ]
  },
  {
   "cell_type": "code",
   "execution_count": 28,
   "id": "a6e14603",
   "metadata": {},
   "outputs": [],
   "source": [
    "# Create table\n",
    "def create_table(database, query):\n",
    "    \n",
    "    # Connection\n",
    "    con = _connector(db='mt_cars', host=\"localhost\", user=\"postgres\", password=\"masterkey\", port=5432)\n",
    "    con.autocommit = True\n",
    "    \n",
    "    # Create cursor\n",
    "    cur = con.cursor()\n",
    "\n",
    "    # Execute query\n",
    "    cur.execute(query)\n",
    "\n",
    "    # Close connection\n",
    "    cur.close()\n",
    "    con.close()"
   ]
  },
  {
   "cell_type": "code",
   "execution_count": 29,
   "id": "f3f5a5e7",
   "metadata": {},
   "outputs": [],
   "source": [
    "# Create\n",
    "database = 'mtcars'\n",
    "query = 'CREATE TABLE IF NOT EXISTS MTCars(name TEXT NOT NULL, mpg TEXT NOT NULL, cyl TEXT NOT NULL, disp TEXT NOT NULL, hp TEXT)'\n",
    "\n",
    "# Execute\n",
    "create_table(database, query)"
   ]
  },
  {
   "cell_type": "markdown",
   "id": "883e435e",
   "metadata": {},
   "source": [
    "## Insert data"
   ]
  },
  {
   "cell_type": "code",
   "execution_count": 30,
   "id": "7fdcfec9",
   "metadata": {},
   "outputs": [],
   "source": [
    "# Insert data\n",
    "def insert_data(database, query):\n",
    "    \n",
    "    # Connection\n",
    "    con = _connector(db='mt_cars', host=\"localhost\", user=\"postgres\", password=\"masterkey\", port=5432)\n",
    "    con.autocommit = True\n",
    "    \n",
    "    # Insert data\n",
    "    values = []\n",
    "    for i in range(0, len(df.index)):\n",
    "        values.append(tuple(df.iloc[i:i+1].sum().astype(str))) # str??\n",
    "    \n",
    "    # Create cursor\n",
    "    cur = con.cursor()\n",
    "\n",
    "    # Execute query\n",
    "    cur.executemany(query, values)\n",
    "    \n",
    "    # Close connection\n",
    "    cur.close()\n",
    "    con.close()"
   ]
  },
  {
   "cell_type": "code",
   "execution_count": 31,
   "id": "5f0b3c94",
   "metadata": {},
   "outputs": [],
   "source": [
    "# Insert\n",
    "database = 'mtcars'\n",
    "query = \"\"\"INSERT INTO mtcars (name, mpg, cyl, disp, hp) VALUES (%s, %s, %s, %s, %s)\"\"\"\n",
    "\n",
    "insert_data(database, query)"
   ]
  },
  {
   "cell_type": "markdown",
   "id": "9ea74e6e",
   "metadata": {},
   "source": [
    "## Query data"
   ]
  },
  {
   "cell_type": "code",
   "execution_count": 32,
   "id": "35c2470f",
   "metadata": {},
   "outputs": [],
   "source": [
    "# Read data\n",
    "def read_data(database, query):\n",
    "    \n",
    "    # Connection\n",
    "    con = _connector(db='mt_cars', host=\"localhost\", user=\"postgres\", password=\"masterkey\", port=5432)\n",
    "    con.autocommit = True\n",
    "    \n",
    "    # Create cursor\n",
    "    cur = con.cursor()\n",
    "\n",
    "    # Execute query\n",
    "    cur.execute(query)\n",
    "      \n",
    "    # Return Pandas Dataframe    \n",
    "    df_back = cur.fetchall()\n",
    "    col_names = [i[0] for i in cur.description]\n",
    "    df_back = pd.DataFrame(df_back, columns = [col_names])\n",
    "    \n",
    "    return df_back\n",
    "    \n",
    "    # Close connection\n",
    "    cur.close()\n",
    "    con.close()"
   ]
  },
  {
   "cell_type": "code",
   "execution_count": 33,
   "id": "401049f3",
   "metadata": {
    "scrolled": true
   },
   "outputs": [
    {
     "data": {
      "text/html": [
       "<div>\n",
       "<style scoped>\n",
       "    .dataframe tbody tr th:only-of-type {\n",
       "        vertical-align: middle;\n",
       "    }\n",
       "\n",
       "    .dataframe tbody tr th {\n",
       "        vertical-align: top;\n",
       "    }\n",
       "\n",
       "    .dataframe thead tr th {\n",
       "        text-align: left;\n",
       "    }\n",
       "</style>\n",
       "<table border=\"1\" class=\"dataframe\">\n",
       "  <thead>\n",
       "    <tr>\n",
       "      <th></th>\n",
       "      <th>name</th>\n",
       "      <th>mpg</th>\n",
       "      <th>cyl</th>\n",
       "      <th>disp</th>\n",
       "      <th>hp</th>\n",
       "    </tr>\n",
       "  </thead>\n",
       "  <tbody>\n",
       "    <tr>\n",
       "      <th>0</th>\n",
       "      <td>Mazda RX4</td>\n",
       "      <td>21.0</td>\n",
       "      <td>6</td>\n",
       "      <td>160.0</td>\n",
       "      <td>110</td>\n",
       "    </tr>\n",
       "    <tr>\n",
       "      <th>1</th>\n",
       "      <td>Mazda RX4 Wag</td>\n",
       "      <td>21.0</td>\n",
       "      <td>6</td>\n",
       "      <td>160.0</td>\n",
       "      <td>110</td>\n",
       "    </tr>\n",
       "    <tr>\n",
       "      <th>2</th>\n",
       "      <td>Datsun 710</td>\n",
       "      <td>22.8</td>\n",
       "      <td>4</td>\n",
       "      <td>108.0</td>\n",
       "      <td>93</td>\n",
       "    </tr>\n",
       "    <tr>\n",
       "      <th>3</th>\n",
       "      <td>Hornet 4 Drive</td>\n",
       "      <td>21.4</td>\n",
       "      <td>6</td>\n",
       "      <td>258.0</td>\n",
       "      <td>110</td>\n",
       "    </tr>\n",
       "    <tr>\n",
       "      <th>4</th>\n",
       "      <td>Hornet Sportabout</td>\n",
       "      <td>18.7</td>\n",
       "      <td>8</td>\n",
       "      <td>360.0</td>\n",
       "      <td>175</td>\n",
       "    </tr>\n",
       "    <tr>\n",
       "      <th>5</th>\n",
       "      <td>Valiant</td>\n",
       "      <td>18.1</td>\n",
       "      <td>6</td>\n",
       "      <td>225.0</td>\n",
       "      <td>105</td>\n",
       "    </tr>\n",
       "    <tr>\n",
       "      <th>6</th>\n",
       "      <td>Duster 360</td>\n",
       "      <td>14.3</td>\n",
       "      <td>8</td>\n",
       "      <td>360.0</td>\n",
       "      <td>245</td>\n",
       "    </tr>\n",
       "    <tr>\n",
       "      <th>7</th>\n",
       "      <td>Merc 240D</td>\n",
       "      <td>24.4</td>\n",
       "      <td>4</td>\n",
       "      <td>146.7</td>\n",
       "      <td>62</td>\n",
       "    </tr>\n",
       "    <tr>\n",
       "      <th>8</th>\n",
       "      <td>Merc 230</td>\n",
       "      <td>22.8</td>\n",
       "      <td>4</td>\n",
       "      <td>140.8</td>\n",
       "      <td>95</td>\n",
       "    </tr>\n",
       "    <tr>\n",
       "      <th>9</th>\n",
       "      <td>Merc 280</td>\n",
       "      <td>19.2</td>\n",
       "      <td>6</td>\n",
       "      <td>167.6</td>\n",
       "      <td>123</td>\n",
       "    </tr>\n",
       "    <tr>\n",
       "      <th>10</th>\n",
       "      <td>Merc 280C</td>\n",
       "      <td>17.8</td>\n",
       "      <td>6</td>\n",
       "      <td>167.6</td>\n",
       "      <td>123</td>\n",
       "    </tr>\n",
       "    <tr>\n",
       "      <th>11</th>\n",
       "      <td>Merc 450SE</td>\n",
       "      <td>16.4</td>\n",
       "      <td>8</td>\n",
       "      <td>275.8</td>\n",
       "      <td>180</td>\n",
       "    </tr>\n",
       "    <tr>\n",
       "      <th>12</th>\n",
       "      <td>Merc 450SL</td>\n",
       "      <td>17.3</td>\n",
       "      <td>8</td>\n",
       "      <td>275.8</td>\n",
       "      <td>180</td>\n",
       "    </tr>\n",
       "    <tr>\n",
       "      <th>13</th>\n",
       "      <td>Merc 450SLC</td>\n",
       "      <td>15.2</td>\n",
       "      <td>8</td>\n",
       "      <td>275.8</td>\n",
       "      <td>180</td>\n",
       "    </tr>\n",
       "    <tr>\n",
       "      <th>14</th>\n",
       "      <td>Cadillac Fleetwood</td>\n",
       "      <td>10.4</td>\n",
       "      <td>8</td>\n",
       "      <td>472.0</td>\n",
       "      <td>205</td>\n",
       "    </tr>\n",
       "    <tr>\n",
       "      <th>15</th>\n",
       "      <td>Lincoln Continental</td>\n",
       "      <td>10.4</td>\n",
       "      <td>8</td>\n",
       "      <td>460.0</td>\n",
       "      <td>215</td>\n",
       "    </tr>\n",
       "    <tr>\n",
       "      <th>16</th>\n",
       "      <td>Chrysler Imperial</td>\n",
       "      <td>14.7</td>\n",
       "      <td>8</td>\n",
       "      <td>440.0</td>\n",
       "      <td>230</td>\n",
       "    </tr>\n",
       "    <tr>\n",
       "      <th>17</th>\n",
       "      <td>Fiat 128</td>\n",
       "      <td>32.4</td>\n",
       "      <td>4</td>\n",
       "      <td>78.7</td>\n",
       "      <td>66</td>\n",
       "    </tr>\n",
       "    <tr>\n",
       "      <th>18</th>\n",
       "      <td>Honda Civic</td>\n",
       "      <td>30.4</td>\n",
       "      <td>4</td>\n",
       "      <td>75.7</td>\n",
       "      <td>52</td>\n",
       "    </tr>\n",
       "    <tr>\n",
       "      <th>19</th>\n",
       "      <td>Toyota Corolla</td>\n",
       "      <td>33.9</td>\n",
       "      <td>4</td>\n",
       "      <td>71.1</td>\n",
       "      <td>65</td>\n",
       "    </tr>\n",
       "    <tr>\n",
       "      <th>20</th>\n",
       "      <td>Toyota Corona</td>\n",
       "      <td>21.5</td>\n",
       "      <td>4</td>\n",
       "      <td>120.1</td>\n",
       "      <td>97</td>\n",
       "    </tr>\n",
       "    <tr>\n",
       "      <th>21</th>\n",
       "      <td>Dodge Challenger</td>\n",
       "      <td>15.5</td>\n",
       "      <td>8</td>\n",
       "      <td>318.0</td>\n",
       "      <td>150</td>\n",
       "    </tr>\n",
       "    <tr>\n",
       "      <th>22</th>\n",
       "      <td>AMC Javelin</td>\n",
       "      <td>15.2</td>\n",
       "      <td>8</td>\n",
       "      <td>304.0</td>\n",
       "      <td>150</td>\n",
       "    </tr>\n",
       "    <tr>\n",
       "      <th>23</th>\n",
       "      <td>Camaro Z28</td>\n",
       "      <td>13.3</td>\n",
       "      <td>8</td>\n",
       "      <td>350.0</td>\n",
       "      <td>245</td>\n",
       "    </tr>\n",
       "    <tr>\n",
       "      <th>24</th>\n",
       "      <td>Pontiac Firebird</td>\n",
       "      <td>19.2</td>\n",
       "      <td>8</td>\n",
       "      <td>400.0</td>\n",
       "      <td>175</td>\n",
       "    </tr>\n",
       "    <tr>\n",
       "      <th>25</th>\n",
       "      <td>Fiat X1-9</td>\n",
       "      <td>27.3</td>\n",
       "      <td>4</td>\n",
       "      <td>79.0</td>\n",
       "      <td>66</td>\n",
       "    </tr>\n",
       "    <tr>\n",
       "      <th>26</th>\n",
       "      <td>Porsche 914-2</td>\n",
       "      <td>26.0</td>\n",
       "      <td>4</td>\n",
       "      <td>120.3</td>\n",
       "      <td>91</td>\n",
       "    </tr>\n",
       "    <tr>\n",
       "      <th>27</th>\n",
       "      <td>Lotus Europa</td>\n",
       "      <td>30.4</td>\n",
       "      <td>4</td>\n",
       "      <td>95.1</td>\n",
       "      <td>113</td>\n",
       "    </tr>\n",
       "    <tr>\n",
       "      <th>28</th>\n",
       "      <td>Ford Pantera L</td>\n",
       "      <td>15.8</td>\n",
       "      <td>8</td>\n",
       "      <td>351.0</td>\n",
       "      <td>264</td>\n",
       "    </tr>\n",
       "    <tr>\n",
       "      <th>29</th>\n",
       "      <td>Ferrari Dino</td>\n",
       "      <td>19.7</td>\n",
       "      <td>6</td>\n",
       "      <td>145.0</td>\n",
       "      <td>175</td>\n",
       "    </tr>\n",
       "    <tr>\n",
       "      <th>30</th>\n",
       "      <td>Maserati Bora</td>\n",
       "      <td>15.0</td>\n",
       "      <td>8</td>\n",
       "      <td>301.0</td>\n",
       "      <td>335</td>\n",
       "    </tr>\n",
       "    <tr>\n",
       "      <th>31</th>\n",
       "      <td>Volvo 142E</td>\n",
       "      <td>21.4</td>\n",
       "      <td>4</td>\n",
       "      <td>121.0</td>\n",
       "      <td>109</td>\n",
       "    </tr>\n",
       "  </tbody>\n",
       "</table>\n",
       "</div>"
      ],
      "text/plain": [
       "                   name   mpg cyl   disp   hp\n",
       "0             Mazda RX4  21.0   6  160.0  110\n",
       "1         Mazda RX4 Wag  21.0   6  160.0  110\n",
       "2            Datsun 710  22.8   4  108.0   93\n",
       "3        Hornet 4 Drive  21.4   6  258.0  110\n",
       "4     Hornet Sportabout  18.7   8  360.0  175\n",
       "5               Valiant  18.1   6  225.0  105\n",
       "6            Duster 360  14.3   8  360.0  245\n",
       "7             Merc 240D  24.4   4  146.7   62\n",
       "8              Merc 230  22.8   4  140.8   95\n",
       "9              Merc 280  19.2   6  167.6  123\n",
       "10            Merc 280C  17.8   6  167.6  123\n",
       "11           Merc 450SE  16.4   8  275.8  180\n",
       "12           Merc 450SL  17.3   8  275.8  180\n",
       "13          Merc 450SLC  15.2   8  275.8  180\n",
       "14   Cadillac Fleetwood  10.4   8  472.0  205\n",
       "15  Lincoln Continental  10.4   8  460.0  215\n",
       "16    Chrysler Imperial  14.7   8  440.0  230\n",
       "17             Fiat 128  32.4   4   78.7   66\n",
       "18          Honda Civic  30.4   4   75.7   52\n",
       "19       Toyota Corolla  33.9   4   71.1   65\n",
       "20        Toyota Corona  21.5   4  120.1   97\n",
       "21     Dodge Challenger  15.5   8  318.0  150\n",
       "22          AMC Javelin  15.2   8  304.0  150\n",
       "23           Camaro Z28  13.3   8  350.0  245\n",
       "24     Pontiac Firebird  19.2   8  400.0  175\n",
       "25            Fiat X1-9  27.3   4   79.0   66\n",
       "26        Porsche 914-2  26.0   4  120.3   91\n",
       "27         Lotus Europa  30.4   4   95.1  113\n",
       "28       Ford Pantera L  15.8   8  351.0  264\n",
       "29         Ferrari Dino  19.7   6  145.0  175\n",
       "30        Maserati Bora  15.0   8  301.0  335\n",
       "31           Volvo 142E  21.4   4  121.0  109"
      ]
     },
     "execution_count": 33,
     "metadata": {},
     "output_type": "execute_result"
    }
   ],
   "source": [
    "# Query\n",
    "database = 'mtcars'\n",
    "query = 'select * from MTCars'\n",
    "\n",
    "read_data(database, query)"
   ]
  },
  {
   "cell_type": "markdown",
   "id": "ac5e25c9",
   "metadata": {},
   "source": [
    "## Updates"
   ]
  },
  {
   "cell_type": "code",
   "execution_count": 17,
   "id": "82dcbf23",
   "metadata": {
    "scrolled": true
   },
   "outputs": [
    {
     "ename": "NameError",
     "evalue": "name 'executeQuery' is not defined",
     "output_type": "error",
     "traceback": [
      "\u001b[1;31m---------------------------------------------------------------------------\u001b[0m",
      "\u001b[1;31mNameError\u001b[0m                                 Traceback (most recent call last)",
      "\u001b[1;32m~\\AppData\\Local\\Temp\\ipykernel_9192\\1913084610.py\u001b[0m in \u001b[0;36m<module>\u001b[1;34m\u001b[0m\n\u001b[0;32m      4\u001b[0m \u001b[1;33m\u001b[0m\u001b[0m\n\u001b[0;32m      5\u001b[0m \u001b[1;31m# Execute\u001b[0m\u001b[1;33m\u001b[0m\u001b[1;33m\u001b[0m\u001b[0m\n\u001b[1;32m----> 6\u001b[1;33m \u001b[0mexecuteQuery\u001b[0m\u001b[1;33m(\u001b[0m\u001b[0mdatabase\u001b[0m\u001b[1;33m,\u001b[0m \u001b[0msql_query\u001b[0m\u001b[1;33m)\u001b[0m\u001b[1;33m\u001b[0m\u001b[1;33m\u001b[0m\u001b[0m\n\u001b[0m\u001b[0;32m      7\u001b[0m \u001b[1;33m\u001b[0m\u001b[0m\n\u001b[0;32m      8\u001b[0m \u001b[1;31m# Query data\u001b[0m\u001b[1;33m\u001b[0m\u001b[1;33m\u001b[0m\u001b[0m\n",
      "\u001b[1;31mNameError\u001b[0m: name 'executeQuery' is not defined"
     ]
    }
   ],
   "source": [
    "# Change data\n",
    "database = 'mtcars'\n",
    "sql_query = \"UPDATE MTCars SET hp = 111 WHERE name = 'Mazda RX4'\"\n",
    "\n",
    "# Execute\n",
    "executeQuery(database, sql_query)\n",
    "\n",
    "# Query data\n",
    "database = 'mtcars'\n",
    "sql_query = 'select * from MTCars'\n",
    "\n",
    "# Return\n",
    "queryData(database, sql_query)"
   ]
  },
  {
   "cell_type": "code",
   "execution_count": null,
   "id": "c1c2c95b",
   "metadata": {
    "scrolled": true
   },
   "outputs": [],
   "source": [
    "# Delete data\n",
    "database = 'mtcars'\n",
    "sql_query = \"DELETE FROM MTCars WHERE name = 'Mazda RX4'\"\n",
    "\n",
    "# Execute\n",
    "executeQuery(database, sql_query)\n",
    "\n",
    "# Query data\n",
    "database = 'mtcars'\n",
    "sql_query = 'select * from MTCars'\n",
    "\n",
    "# Return\n",
    "queryData(database, sql_query)"
   ]
  },
  {
   "cell_type": "markdown",
   "id": "8a768f4a",
   "metadata": {},
   "source": [
    "___"
   ]
  }
 ],
 "metadata": {
  "kernelspec": {
   "display_name": "Python 3 (ipykernel)",
   "language": "python",
   "name": "python3"
  },
  "language_info": {
   "codemirror_mode": {
    "name": "ipython",
    "version": 3
   },
   "file_extension": ".py",
   "mimetype": "text/x-python",
   "name": "python",
   "nbconvert_exporter": "python",
   "pygments_lexer": "ipython3",
   "version": "3.9.13"
  }
 },
 "nbformat": 4,
 "nbformat_minor": 5
}

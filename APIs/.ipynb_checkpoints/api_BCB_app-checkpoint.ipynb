{
 "cells": [
  {
   "cell_type": "markdown",
   "metadata": {},
   "source": [
    "## "
   ]
  },
  {
   "cell_type": "markdown",
   "metadata": {},
   "source": [
    "# <center>Consultas ao SGS do Banco Central<center>"
   ]
  },
  {
   "cell_type": "markdown",
   "metadata": {},
   "source": [
    "___"
   ]
  },
  {
   "cell_type": "markdown",
   "metadata": {},
   "source": [
    "* Now\n",
    "    * Adicionar coluna com apelido para filtro inicial\n",
    "    \n",
    "* Next    \n",
    "    * Montar acumulado\n",
    "    * Montar demonstrativo do balanço de pagamentos\n",
    "    * Curva de juros"
   ]
  },
  {
   "cell_type": "markdown",
   "metadata": {},
   "source": [
    "___"
   ]
  },
  {
   "cell_type": "markdown",
   "metadata": {
    "colab_type": "text",
    "id": "wCrZFw72ELSQ"
   },
   "source": [
    "## Imports"
   ]
  },
  {
   "cell_type": "code",
   "execution_count": 1,
   "metadata": {
    "colab": {},
    "colab_type": "code",
    "id": "yb4cNor24GIq"
   },
   "outputs": [],
   "source": [
    "# Imports\n",
    "import warnings\n",
    "warnings.filterwarnings('ignore')\n",
    "\n",
    "import numpy as np \n",
    "import pandas as pd\n",
    "import datetime as dt\n",
    "\n",
    "import datetime\n",
    "from datetime import date\n",
    "\n",
    "import plotly.graph_objects as go\n",
    "from plotly.subplots import make_subplots\n",
    "\n",
    "import sgs"
   ]
  },
  {
   "cell_type": "markdown",
   "metadata": {},
   "source": [
    "___"
   ]
  },
  {
   "cell_type": "markdown",
   "metadata": {},
   "source": [
    "## Consultas SGS"
   ]
  },
  {
   "cell_type": "code",
   "execution_count": 2,
   "metadata": {},
   "outputs": [],
   "source": [
    "# SGS func\n",
    "def sgs_bc(cod, start, end):\n",
    "    return sgs.time_serie(cod, start = start, end = end).to_frame()"
   ]
  },
  {
   "cell_type": "code",
   "execution_count": 3,
   "metadata": {},
   "outputs": [],
   "source": [
    "# consulta códigos\n",
    "def cod_bc(text):\n",
    "    results = sgs.search_ts(text, language = \"pt\")\n",
    "    results = pd.DataFrame(results)\n",
    "    #results = results.loc[results['last_value'] >= '01/01/2020']\n",
    "    \n",
    "    return results"
   ]
  },
  {
   "cell_type": "markdown",
   "metadata": {},
   "source": [
    "___"
   ]
  },
  {
   "cell_type": "markdown",
   "metadata": {},
   "source": [
    "## Import data"
   ]
  },
  {
   "cell_type": "code",
   "execution_count": 4,
   "metadata": {},
   "outputs": [],
   "source": [
    "# Import data\n",
    "CodBC = pd.read_csv('data/CodBC.csv')"
   ]
  },
  {
   "cell_type": "code",
   "execution_count": 5,
   "metadata": {},
   "outputs": [],
   "source": [
    "# Fillna\n",
    "CodBC.fillna('', inplace = True)\n",
    "\n",
    "# Concat columns\n",
    "CodBC['complete_names'] = CodBC['name'] + ' ' + CodBC['description'] + ' ' + CodBC['detail'] + ' - ' + CodBC['code'].map(str)"
   ]
  },
  {
   "cell_type": "markdown",
   "metadata": {},
   "source": [
    "## Tratar textos"
   ]
  },
  {
   "cell_type": "code",
   "execution_count": 6,
   "metadata": {},
   "outputs": [],
   "source": [
    "text_columns = ['name', 'description', 'detail', 'complete_names']"
   ]
  },
  {
   "cell_type": "code",
   "execution_count": 7,
   "metadata": {},
   "outputs": [],
   "source": [
    "# Capitalize\n",
    "for col in text_columns:\n",
    "    CodBC[col] = CodBC[col].str.capitalize()\n",
    "    \n",
    "# Upper\n",
    "for col in text_columns:\n",
    "    CodBC[col] = CodBC[col].str.replace(' us ', ' US ')\n",
    "    CodBC[col] = CodBC[col].str.replace(' rs ', ' RS ')\n",
    "    CodBC[col] = CodBC[col].str.replace(' pib ', ' PIB ')\n",
    "    CodBC[col] = CodBC[col].str.replace('pib', 'PIB')\n",
    "    CodBC[col] = CodBC[col].str.replace(' selic ', ' SELIC ')\n",
    "    CodBC[col] = CodBC[col].str.replace('selic', 'SELIC')\n",
    "    CodBC[col] = CodBC[col].str.replace('Selic', 'SELIC')\n",
    "    CodBC[col] = CodBC[col].str.replace(' ipca ', ' IPCA ')\n",
    "    CodBC[col] = CodBC[col].str.replace('ipca', 'IPCA')\n",
    "    CodBC[col] = CodBC[col].str.replace(' inpc ', ' INPC ')\n",
    "    CodBC[col] = CodBC[col].str.replace('inpc', 'INPC')\n",
    "    CodBC[col] = CodBC[col].str.replace(' ibge ', ' IBGE ')\n",
    "    CodBC[col] = CodBC[col].str.replace('ibge', 'IBGE')\n",
    "    CodBC[col] = CodBC[col].str.replace('cambio', 'câmbio')\n",
    "    CodBC[col] = CodBC[col].str.replace('Cambio', 'Câmbio')\n",
    "    CodBC[col] = CodBC[col].str.replace('Tjlp', 'TJLP')\n",
    "    \n",
    "# Adjusts names, description and detail\n",
    "CodBC.loc[CodBC['name'].isin(['Índice nacional de preços ao consumidor (INPC)']), 'detail'] = CodBC.loc[CodBC['name'].isin(['Índice nacional de preços ao consumidor (INPC)']), 'description']\n",
    "CodBC.loc[CodBC['name'].isin(['Índice nacional de preços ao consumidor (INPC)']), 'description'] = ('INPC')\n",
    "CodBC.loc[CodBC['name'].isin(['Índice de nacional de preços ao consumidor']), 'name'] = 'Índice nacional de preços ao consumidor'\n",
    "CodBC.loc[CodBC['description'] == '', 'description'] = CodBC.loc[CodBC['description'] == '', 'name']\n",
    "CodBC.loc[CodBC['detail'] == '', 'detail'] = CodBC.loc[CodBC['detail'] == '', 'description']\n",
    "CodBC.loc[CodBC['name'].isin(['Transações correntes acumulado em 12 meses em relação ao pib']), 'name'] = 'Transações correntes acumulado em 12 meses/pib'"
   ]
  },
  {
   "cell_type": "markdown",
   "metadata": {},
   "source": [
    "___"
   ]
  },
  {
   "cell_type": "markdown",
   "metadata": {
    "colab_type": "text",
    "id": "_8lOZMwDEsB2"
   },
   "source": [
    "## Plot func"
   ]
  },
  {
   "cell_type": "code",
   "execution_count": 8,
   "metadata": {},
   "outputs": [],
   "source": [
    "def plot(df):\n",
    "    \n",
    "    # Tick colors\n",
    "    tick_color = '#485656'\n",
    "\n",
    "    fig = go.Figure()\n",
    "\n",
    "    # Add traces\n",
    "    for col in df:\n",
    "        \n",
    "        fig.add_trace(go.Scatter(x = df.index, y=df[col],\n",
    "                                 marker = dict(size = 1.75),\n",
    "                                 mode='lines',\n",
    "                                 name=col))\n",
    "    \n",
    "    fig.update_layout(template = 'plotly_white')\n",
    "    fig.update_xaxes(showspikes = True, spikemode = 'across', spikesnap = 'cursor', spikedash = 'dot', spikethickness = 0.35)\n",
    "    fig.update_yaxes(showspikes = False, spikemode = 'across', spikesnap = 'cursor', spikedash = 'dot', spikethickness = 0.35)\n",
    "    fig.update_xaxes(title = '', showgrid = False, gridwidth = None, gridcolor = None, showline = True, linecolor = 'dimgrey', linewidth = 1.4)                \n",
    "    fig.update_yaxes(title = None, showgrid = True, gridwidth = None, gridcolor = 'rgba(220,220,220,0.2)', showline = False, linecolor = 'white', linewidth = 1, color = tick_color)\n",
    "    \n",
    "    fig.update_layout(modebar_add = ['v1hovermode', 'toggleSpikelines'], hovermode = 'x') #closest\n",
    "    fig.update_layout(paper_bgcolor = '#FEFEFE', plot_bgcolor = '#FEFEFE')\n",
    "    fig.update_layout(title = '', title_font_size = 22, title_x = 0.5, template = 'plotly_white')\n",
    "    \n",
    "    fig.update_layout(autosize = True, width = None, height = 550, showlegend = True, \n",
    "                      legend = dict(font = dict(size = 13), orientation = 'h', y=-0.25, x=0.00, yanchor=None, xanchor = None))\n",
    "\n",
    "    #fig.update_traces(textposition = 'top center')\n",
    "    \n",
    "    return fig"
   ]
  },
  {
   "cell_type": "markdown",
   "metadata": {},
   "source": [
    "___"
   ]
  },
  {
   "cell_type": "markdown",
   "metadata": {},
   "source": [
    "# App code"
   ]
  },
  {
   "cell_type": "code",
   "execution_count": 9,
   "metadata": {},
   "outputs": [],
   "source": [
    "# Imports \n",
    "import dash\n",
    "import dash_auth\n",
    "from dash import dcc\n",
    "from dash import html\n",
    "from jupyter_dash import JupyterDash\n",
    "import dash_bootstrap_components as dbc\n",
    "from dash.dependencies import Input, Output, State"
   ]
  },
  {
   "cell_type": "code",
   "execution_count": 10,
   "metadata": {},
   "outputs": [],
   "source": [
    "# Top menu\n",
    "TOP_MENU_STYLE = {\n",
    "    \"margin-left\": \"0rem\",\n",
    "    \"margin-right\": \"0rem\",\n",
    "    \"padding\": \".35rem 0rem\",\n",
    "    'width': '100%', \n",
    "    \"height\": \"3.5rem\",\n",
    "    \"background-color\": \"#4A5959\"\n",
    "}\n",
    "\n",
    "# padding for the page content\n",
    "TITLE_STYLE = {\n",
    "    \"margin-left\": \"0rem\",\n",
    "    \"margin-right\": \"0rem\",\n",
    "    \"padding\": \"0.0rem 0rem\",\n",
    "    \"background-color\": \"#f3f5f5\",\n",
    "}\n",
    "\n",
    "CONTENT_STYLE = {\n",
    "    \"margin-left\": \"0rem\",\n",
    "    \"margin-right\": \"0rem\",\n",
    "    \"margin-bottom\": \"0rem\",\n",
    "    \"padding\": \"0rem 2rem\",\n",
    "    \"height\": \"38rem\",\n",
    "    \"background-color\": \"#f3f5f5\",\n",
    "}\n",
    "\n",
    "CARD_STYLE_SIDEBAR = {\n",
    "    \"margin-left\": \"0rem\",\n",
    "    \"margin-right\": \"0rem\",\n",
    "    'margin-top': '0rem',\n",
    "    'width': '90%', \n",
    "    'border-radius':'7px', \n",
    "    'border': '0px',\n",
    "    'box-shadow': ' 3px 4px 6px rgba(219,219,219,0.8)',\n",
    "    'background-color': '#FEFEFE',\n",
    "    'height':'70vh'\n",
    "}\n",
    "\n",
    "CARD_STYLE = {\n",
    "    \"margin-left\": \"0rem\",\n",
    "    \"margin-right\": \"0rem\",\n",
    "    'margin-top': '0px',\n",
    "    'width': '100%', \n",
    "    'border-radius':'7px', \n",
    "    'border': '0px',\n",
    "    'box-shadow': ' 3px 4px 6px rgba(219,219,219,0.8)',\n",
    "    'background-color': '#FEFEFE'\n",
    "}\n",
    "\n",
    "CARD_GRAPH_STYLE = {\n",
    "    \"margin-left\": \"-3rem\",\n",
    "    \"margin-right\": \"0rem\",\n",
    "    'margin-top': '0rem',\n",
    "    'width': '100%', \n",
    "    'height':'70vh',\n",
    "    'verticalAlign': 'center',\n",
    "    'border-radius':'7px', \n",
    "    'border': '0px',\n",
    "    'box-shadow': ' 3px 4px 6px rgba(219,219,219,0.8)',\n",
    "    'background-color': '#FEFEFE'\n",
    "}"
   ]
  },
  {
   "cell_type": "markdown",
   "metadata": {},
   "source": [
    "# app code"
   ]
  },
  {
   "cell_type": "code",
   "execution_count": 11,
   "metadata": {},
   "outputs": [
    {
     "name": "stdout",
     "output_type": "stream",
     "text": [
      "Dash is running on http://127.0.0.1:8050/\n",
      "\n",
      " * Serving Flask app '__main__' (lazy loading)\n",
      " * Environment: production\n",
      "\u001b[31m   WARNING: This is a development server. Do not use it in a production deployment.\u001b[0m\n",
      "\u001b[2m   Use a production WSGI server instead.\u001b[0m\n",
      " * Debug mode: off\n"
     ]
    },
    {
     "name": "stderr",
     "output_type": "stream",
     "text": [
      " * Running on http://127.0.0.1:8050 (Press CTRL+C to quit)\n",
      "127.0.0.1 - - [19/Apr/2023 18:19:21] \"GET / HTTP/1.1\" 401 -\n",
      "127.0.0.1 - - [19/Apr/2023 18:19:59] \"GET / HTTP/1.1\" 200 -\n",
      "127.0.0.1 - - [19/Apr/2023 18:20:00] \"GET /_dash-layout HTTP/1.1\" 200 -\n",
      "127.0.0.1 - - [19/Apr/2023 18:20:00] \"GET /_dash-dependencies HTTP/1.1\" 200 -\n",
      "127.0.0.1 - - [19/Apr/2023 18:20:00] \"GET /_favicon.ico?v=2.5.0 HTTP/1.1\" 200 -\n",
      "127.0.0.1 - - [19/Apr/2023 18:20:00] \"POST /_dash-update-component HTTP/1.1\" 200 -\n",
      "127.0.0.1 - - [19/Apr/2023 18:20:00] \"POST /_dash-update-component HTTP/1.1\" 200 -\n",
      "127.0.0.1 - - [19/Apr/2023 18:20:00] \"GET /_dash-component-suites/dash/dcc/async-datepicker.js HTTP/1.1\" 304 -\n",
      "127.0.0.1 - - [19/Apr/2023 18:20:00] \"GET /_dash-component-suites/dash/dcc/async-plotlyjs.js HTTP/1.1\" 304 -\n",
      "127.0.0.1 - - [19/Apr/2023 18:20:00] \"GET /_dash-component-suites/dash/dcc/async-graph.js HTTP/1.1\" 304 -\n",
      "127.0.0.1 - - [19/Apr/2023 18:20:00] \"GET /_dash-component-suites/dash/dcc/async-dropdown.js HTTP/1.1\" 304 -\n",
      "127.0.0.1 - - [19/Apr/2023 18:20:05] \"POST /_dash-update-component HTTP/1.1\" 200 -\n"
     ]
    }
   ],
   "source": [
    "# Set user and password\n",
    "USERNAME_PASSWORD_PAIRS = [['username', 'password'],\n",
    "                           ['Fernando', 'Senha#']]\n",
    "\n",
    "# Initialise the app \n",
    "app = dash.Dash(__name__, external_stylesheets = [dbc.themes.BOOTSTRAP])\n",
    "\n",
    "# server\n",
    "server = app.server\n",
    "\n",
    "# Autentication\n",
    "auth = dash_auth.BasicAuth(app, USERNAME_PASSWORD_PAIRS)\n",
    "\n",
    "########################################################################################################################\n",
    "\n",
    "# Parameters\n",
    "#today = dt.datetime.today().strftime('%d/%m/%Y')\n",
    "last_date = '2021-01-01'\n",
    "min_date = pd.to_datetime('2010-01-01').date()\n",
    "max_date = pd.to_datetime(dt.date.today()).date()\n",
    "\n",
    "########################################################################################################################\n",
    "\n",
    "# Top menu\n",
    "top_menu = html.Div(id = 'top_menu',\n",
    "    children = [\n",
    "        dbc.Row([\n",
    "            dbc.Col([\n",
    "                dbc.Col(html.P(\n",
    "                    dbc.RadioItems(\n",
    "                        id = \"select_page\",\n",
    "                        className = \"btn-group\", #d-flex\n",
    "                        inputClassName = \"btn-check\",\n",
    "                        labelClassName = \"btn outline-dark\", #btn btn-outline-secondary\n",
    "                        labelCheckedClassName = \"active\",\n",
    "                        inline = True,\n",
    "                        #inputStyle = {\"backgroundColor\": 'FDFDFD'},\n",
    "                        options = [{\"label\": \"Home\", \"value\": 1}],\n",
    "                        value = 3, \n",
    "                        style = {'margin-top': '0px',},\n",
    "                        labelStyle = {'fontSize': 20, 'margin-top': '0x', 'margin-left': '0px', 'color': '#FDFDFD', \n",
    "                                     },\n",
    "                        ),\n",
    "                    ),  xs = 2, sm = 1, md = 12, lg = 12, xl = 2, align = 'center')\n",
    "            ]),\n",
    "            dbc.Col([\n",
    "                dbc.Col(html.H2('', className = 'text-center lead', \n",
    "                                style = {'fontsize': 16, 'color': '#FDFDFD', 'margin-left': '0rem'}), \n",
    "                        xs = 2, sm = 1, md = 12, lg = 12, xl = 2, align = 'center')\n",
    "            ]),\n",
    "            dbc.Col([\n",
    "                dbc.Col(html.H2('', className = 'text-center lead'), \n",
    "                        xs = 2, sm = 1, md = 12, lg = 12, xl = 6, align = 'center')\n",
    "            ]),\n",
    "        ])\n",
    "    ], style = TOP_MENU_STYLE)\n",
    "\n",
    "########################################################################################################################\n",
    "\n",
    "# Title\n",
    "title = html.Div(id = 'title',\n",
    "                   children = [\n",
    "                       dbc.Row([\n",
    "                           dbc.Col(html.H2('Economics', className = 'text-center display-3'), \n",
    "                                   xs = 2, sm = 1, md = 12, lg = 12, xl = 12)\n",
    "                       ]),\n",
    "                       dbc.Row([\n",
    "                           dbc.Col(html.H6('Economic Data History', className = 'text-center lead',\n",
    "                                          style = {'fontSize': 30}), \n",
    "                                   xs = 1, sm = 1, md = 12, lg = 12, xl = 12)\n",
    "                       ])\n",
    "                   ], style = TITLE_STYLE)\n",
    "\n",
    "########################################################################################################################\n",
    "\n",
    "# Explorer   \n",
    "content = html.Div(id = 'content', \n",
    "                   children = [\n",
    "                       dbc.Row([\n",
    "                           dbc.Col(\n",
    "                               dbc.Card([\n",
    "                                   dbc.CardBody([\n",
    "                                       html.P('Period', className = 'lead', \n",
    "                                              style = {'fontSize': 20, 'margin-top': '0px', 'margin-left': '0px', 'margin-botton': '10px'}),\n",
    "                                       \n",
    "                                       # Data interval\n",
    "                                       dcc.DatePickerRange(\n",
    "                                           id = 'period',\n",
    "                                           min_date_allowed = date(min_date.year, min_date.month, min_date.day),\n",
    "                                           max_date_allowed = date(max_date.year, max_date.month, max_date.day),\n",
    "                                           start_date = date(min_date.year, min_date.month, min_date.day),\n",
    "                                           end_date = date(max_date.year, max_date.month, max_date.day),\n",
    "                                           className = None,\n",
    "                                           display_format = 'MMM Y',\n",
    "                                           calendar_orientation = 'horizontal',\n",
    "                                           style = {'fontSize': 16, 'margin-left': '35px'}),\n",
    "                                       \n",
    "                                       # Group by\n",
    "                                       html.P('Acconts', className = 'lead', \n",
    "                                              style = {'fontSize': 20, 'margin-top': '15px', 'margin-left': '0px'}),\n",
    "                                       \n",
    "                                       dcc.Dropdown(id = 'names', multi = True, value = ['Taxa de câmbio'], clearable = True,\n",
    "                                                    style = {'margin-left': '0px', 'margin-right': '0px', 'margin-top': '0px'},\n",
    "                                                    options = [{'label': x, 'value': x} for x in sorted(list(CodBC.loc[CodBC['last_value'] >= last_date, 'name'].unique()))]),\n",
    "                                       \n",
    "                                       html.P('Description', className = 'lead', \n",
    "                                              style = {'fontSize': 20, 'margin-top': '15px', 'margin-left': '0px'}),\n",
    "                                       \n",
    "                                       dcc.Dropdown(id = 'description', multi = True, value = ['Livre'], clearable = True, \n",
    "                                                    style = {'margin-left': '0px', 'margin-right': '0px', 'margin-top': '0px'},\n",
    "                                                    options = []),\n",
    "                                       \n",
    "                                       html.P('Append', className = 'lead', \n",
    "                                              style = {'fontSize': 20, 'margin-top': '15px', 'margin-left': '0px'}),\n",
    "                                       \n",
    "                                       dcc.Dropdown(id = 'detail', multi = True, value = ['Dólar americano (compra)'], clearable = True, \n",
    "                                                    style = {'margin-left': '0px', 'margin-right': '0px', 'margin-top': '0px'},\n",
    "                                                    options = []),\n",
    "                                       ])], \n",
    "                                       color = \"light\", outline = True, style = CARD_STYLE_SIDEBAR),\n",
    "                               xs = 12, sm = 12, md = 12, lg = 12, xl = 4, align = \"around\"),\n",
    "                                                      \n",
    "                           dbc.Col([  \n",
    "                               dbc.Row([\n",
    "                                   dbc.Col(\n",
    "                                       dbc.Card([\n",
    "                                           dbc.CardBody([\n",
    "                                               dcc.Loading([\n",
    "                                                   dcc.Graph(id = 'graph', figure = {})\n",
    "                                               ], color = '#119DFF', type = 'dot', fullscreen = False)\n",
    "\n",
    "                                           ])],  color = \"light\", outline = True, style = CARD_GRAPH_STYLE), width = 12)\n",
    "                               ], justify = 'around')\n",
    "                           ], width = 8),\n",
    "                       ], justify = 'around'),\n",
    "                   ], style = CONTENT_STYLE)\n",
    "\n",
    "# Define de app\n",
    "app.layout = html.Div([\n",
    "    top_menu,\n",
    "    title,\n",
    "    content\n",
    "])\n",
    "\n",
    "\n",
    "#########################################################################################################################\n",
    "\n",
    "# callbacks\n",
    "\n",
    "# Populate dropdown description with options and values from names\n",
    "@app.callback(\n",
    "    Output(component_id = 'description', component_property = 'options'),\n",
    "    Input(component_id = 'names', component_property = 'value'),\n",
    "    prevent_initial_call = False )\n",
    "\n",
    "def setDescription(names):\n",
    "    return [{'label': x, 'value': x} for x in sorted(list(CodBC.loc[(CodBC['last_value'] >= last_date) &\n",
    "                                                                    (CodBC['name'].isin(names)), 'description'].unique()))]\n",
    "\n",
    "\n",
    "# Populate dropdown description with options and values from names\n",
    "@app.callback(\n",
    "    Output(component_id = 'detail', component_property = 'options'),\n",
    "    Input(component_id = 'description', component_property = 'value'),\n",
    "    Input(component_id = 'names', component_property = 'value'),\n",
    "    prevent_initial_call = False )\n",
    "\n",
    "def setDescription(description, names):\n",
    "    return [{'label': x, 'value': x} for x in sorted(list(CodBC.loc[(CodBC['last_value'] >= last_date) &\n",
    "                                                                    (CodBC['name'].isin(names)) &\n",
    "                                                                    (CodBC['description'].isin(description)), \n",
    "                                                                    'detail'].unique()))]\n",
    "\n",
    "# Update Graph\n",
    "@app.callback(\n",
    "    Output('graph', 'figure'),\n",
    "    Input('period', 'start_date'),\n",
    "    Input('period', 'end_date'),\n",
    "    Input('names', 'value'),\n",
    "    Input('description', 'value'),\n",
    "    Input('detail', 'value'),\n",
    "    prevent_initial_call = False)   \n",
    "\n",
    "def update_graph(start_date, end_date, names, description, detail):\n",
    "    \n",
    "    # Adjusts\n",
    "    start_date = pd.to_datetime(start_date).date().strftime('%d/%m/%Y')\n",
    "    end_date = pd.to_datetime(end_date).date().strftime('%d/%m/%Y')    \n",
    "    \n",
    "    # Make cod list\n",
    "    def codList(last_date, names, description, detail):\n",
    "        CodBC_filtered = CodBC.loc[(CodBC['last_value'] >= last_date ) & (CodBC['name'].isin(names)) & \n",
    "                                   (CodBC['description'].isin(description)) & (CodBC['detail'].isin(detail)),\n",
    "                                  ['code', 'complete_names']]\n",
    "\n",
    "        cod_list = []\n",
    "        for code in CodBC_filtered['code']:\n",
    "            cod_list.append([code, CodBC_filtered.loc[CodBC_filtered['code'] == code, 'complete_names'].sum()])\n",
    "\n",
    "        return cod_list\n",
    "\n",
    "    cod_list = codList(last_date, names, description, detail)\n",
    "    \n",
    "    # Table\n",
    "    def buildTable(cod_list, start_date, end_date):\n",
    "    \n",
    "        df_consult = pd.DataFrame()\n",
    "        for item in cod_list:\n",
    "            df = pd.DataFrame(sgs_bc(int(item[0]), start_date, end_date)).rename(columns = {int(item[0]): item[1]})\n",
    "            df_consult = pd.concat([df_consult, df], axis = 1)\n",
    "\n",
    "        return df_consult\n",
    "\n",
    "    df_consult = buildTable(cod_list, start_date, end_date)\n",
    "    \n",
    "    \n",
    "    return plot(df_consult)\n",
    "      \n",
    "#########################################################################################################################\n",
    "\n",
    "# Run the app\n",
    "if __name__ == '__main__':\n",
    "    app.run_server(debug = False)"
   ]
  },
  {
   "cell_type": "markdown",
   "metadata": {},
   "source": [
    "___"
   ]
  }
 ],
 "metadata": {
  "colab": {
   "authorship_tag": "ABX9TyNReXuLbMVIdhEAS9Dp/Hxd",
   "include_colab_link": true,
   "name": "10 - API Banco Central do Brasil - Python para Investimentos.ipynb",
   "provenance": []
  },
  "finalized": {
   "timestamp": 1681938528697,
   "trusted": true
  },
  "kernelspec": {
   "display_name": "Python 3 (ipykernel)",
   "language": "python",
   "name": "python3"
  },
  "language_info": {
   "codemirror_mode": {
    "name": "ipython",
    "version": 3
   },
   "file_extension": ".py",
   "mimetype": "text/x-python",
   "name": "python",
   "nbconvert_exporter": "python",
   "pygments_lexer": "ipython3",
   "version": "3.8.8"
  }
 },
 "nbformat": 4,
 "nbformat_minor": 1
}
